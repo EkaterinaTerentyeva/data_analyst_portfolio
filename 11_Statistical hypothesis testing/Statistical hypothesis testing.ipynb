{
 "cells": [
  {
   "cell_type": "markdown",
   "metadata": {},
   "source": [
    "**ANALYSIS OF TARIFFS OF A OPERATOR IN ORDER TO IDENTIFY A TARIF THAT BRINGS MORE MONEY**"
   ]
  },
  {
   "cell_type": "markdown",
   "metadata": {},
   "source": [
    "**Goal**: choose a tariff that brings more money - \"Smart\" or \"Ultra\" - to adjust the advertising budget\n",
    "\n",
    "**Data**: A sample of 500 users including information on:\n",
    "- geolocation of the user\n",
    "- tariff plan\n",
    "- number of calls\n",
    "- number of messages\n",
    "- internet traffic\n",
    "\n",
    "for 2018"
   ]
  },
  {
   "cell_type": "markdown",
   "metadata": {},
   "source": [
    "**Additional information**\n",
    "- rounding seconds of conversation and Mb of Internet traffic always goes up\n",
    "- Unused calls, SMS, Internet for the previous month are not transferred to the next month"
   ]
  },
  {
   "cell_type": "markdown",
   "metadata": {},
   "source": [
    "## General information"
   ]
  },
  {
   "cell_type": "code",
   "execution_count": 1,
   "metadata": {},
   "outputs": [],
   "source": [
    "import pandas as pd\n",
    "import os\n",
    "import numpy as np\n",
    "import math\n",
    "pd.set_option('display.max_columns', None)\n",
    "import seaborn as sns\n",
    "import matplotlib.pyplot as plt\n",
    "import warnings\n",
    "warnings.simplefilter(action='ignore', category=FutureWarning)\n",
    "from scipy import stats as st"
   ]
  },
  {
   "cell_type": "code",
   "execution_count": 2,
   "metadata": {},
   "outputs": [
    {
     "name": "stdout",
     "output_type": "stream",
     "text": [
      "path \"datasets\\calls.csv\" is right\n",
      "path \"datasets\\internet.csv\" is right\n",
      "path \"datasets\\messages.csv\" is right\n",
      "path \"datasets\\tariffs.csv\" is right\n",
      "path \"datasets\\users.csv\" is right\n"
     ]
    }
   ],
   "source": [
    "list_df = []\n",
    "file_names = ['calls.csv', 'internet.csv', 'messages.csv', 'tariffs.csv', 'users.csv']\n",
    "for file_name in file_names:\n",
    "    path1 = os.path.join('datasets', file_name) \n",
    "    path2 = os.path.join('real_estate_data.csv')\n",
    "    if os.path.exists(path1):\n",
    "        df = pd.read_csv(path1)\n",
    "        list_df.append(df)\n",
    "        print(f'path \"{path1}\" is right')\n",
    "    elif os.path.exists(path2):\n",
    "        df = pd.read_csv(path2)\n",
    "        list_df.append(df)\n",
    "        print(f'path \"{path2}\" is right')\n",
    "    else:\n",
    "        print('File is not found')\n",
    "    \n"
   ]
  },
  {
   "cell_type": "code",
   "execution_count": 3,
   "metadata": {},
   "outputs": [],
   "source": [
    "calls = list_df[0]\n",
    "internet = list_df[1]\n",
    "messages = list_df[2]\n",
    "tariffs = list_df[3]\n",
    "users = list_df[4]"
   ]
  },
  {
   "cell_type": "code",
   "execution_count": 4,
   "metadata": {},
   "outputs": [],
   "source": [
    "def observe_data(table):\n",
    "    '''Giving common understanding of data in dataframe'''\n",
    "    print ('Sample')\n",
    "    display(table.sample())\n",
    "    print('_'*100)\n",
    "    print(f'Number of rows: {table.shape[0]} \\nNumber of columns: {table.shape[1]}')\n",
    "    print('_'*100)\n",
    "    names_columns = table.columns\n",
    "    print(f'Columns names: {names_columns}')\n",
    "    print('_'*100)\n",
    "    names_to_corrige = []\n",
    "    for name_column in names_columns:\n",
    "        if not name_column.islower() or ' ' in name_column:\n",
    "            names_to_corrige.append(name_column)\n",
    "    if len(names_to_corrige) == 0:\n",
    "        print ('Columns names are correct')\n",
    "    else:\n",
    "        print(f'Columns names to change: {names_to_corrige}')\n",
    "    print('_'*100)\n",
    "    lost_values = table.isna().sum()\n",
    "    missed_values = lost_values.to_frame(name='missed_values')\n",
    "    missed_values['percent'] = round(table.isna().mean()*100, 0)\n",
    "    print ('Missing values:')\n",
    "    display(missed_values)\n",
    "    print('_'*100)\n",
    "    print('Data types:')\n",
    "    print(table.dtypes)\n",
    "    print('_'*100)\n",
    "    print(f'Number of duplicates: {table.duplicated().sum()}', \n",
    "          f'percent of duplicates {round(table.duplicated().mean()*100, 0)} %')\n"
   ]
  },
  {
   "cell_type": "code",
   "execution_count": 5,
   "metadata": {},
   "outputs": [
    {
     "name": "stdout",
     "output_type": "stream",
     "text": [
      "Sample\n"
     ]
    },
    {
     "data": {
      "text/html": [
       "<div>\n",
       "<style scoped>\n",
       "    .dataframe tbody tr th:only-of-type {\n",
       "        vertical-align: middle;\n",
       "    }\n",
       "\n",
       "    .dataframe tbody tr th {\n",
       "        vertical-align: top;\n",
       "    }\n",
       "\n",
       "    .dataframe thead th {\n",
       "        text-align: right;\n",
       "    }\n",
       "</style>\n",
       "<table border=\"1\" class=\"dataframe\">\n",
       "  <thead>\n",
       "    <tr style=\"text-align: right;\">\n",
       "      <th></th>\n",
       "      <th>id</th>\n",
       "      <th>call_date</th>\n",
       "      <th>duration</th>\n",
       "      <th>user_id</th>\n",
       "    </tr>\n",
       "  </thead>\n",
       "  <tbody>\n",
       "    <tr>\n",
       "      <td>189669</td>\n",
       "      <td>1466_684</td>\n",
       "      <td>2018-05-21</td>\n",
       "      <td>14.34</td>\n",
       "      <td>1466</td>\n",
       "    </tr>\n",
       "  </tbody>\n",
       "</table>\n",
       "</div>"
      ],
      "text/plain": [
       "              id   call_date  duration  user_id\n",
       "189669  1466_684  2018-05-21     14.34     1466"
      ]
     },
     "metadata": {},
     "output_type": "display_data"
    },
    {
     "name": "stdout",
     "output_type": "stream",
     "text": [
      "____________________________________________________________________________________________________\n",
      "Number of rows: 202607 \n",
      "Number of columns: 4\n",
      "____________________________________________________________________________________________________\n",
      "Columns names: Index(['id', 'call_date', 'duration', 'user_id'], dtype='object')\n",
      "____________________________________________________________________________________________________\n",
      "Columns names are correct\n",
      "____________________________________________________________________________________________________\n",
      "Missing values:\n"
     ]
    },
    {
     "data": {
      "text/html": [
       "<div>\n",
       "<style scoped>\n",
       "    .dataframe tbody tr th:only-of-type {\n",
       "        vertical-align: middle;\n",
       "    }\n",
       "\n",
       "    .dataframe tbody tr th {\n",
       "        vertical-align: top;\n",
       "    }\n",
       "\n",
       "    .dataframe thead th {\n",
       "        text-align: right;\n",
       "    }\n",
       "</style>\n",
       "<table border=\"1\" class=\"dataframe\">\n",
       "  <thead>\n",
       "    <tr style=\"text-align: right;\">\n",
       "      <th></th>\n",
       "      <th>missed_values</th>\n",
       "      <th>percent</th>\n",
       "    </tr>\n",
       "  </thead>\n",
       "  <tbody>\n",
       "    <tr>\n",
       "      <td>id</td>\n",
       "      <td>0</td>\n",
       "      <td>0.0</td>\n",
       "    </tr>\n",
       "    <tr>\n",
       "      <td>call_date</td>\n",
       "      <td>0</td>\n",
       "      <td>0.0</td>\n",
       "    </tr>\n",
       "    <tr>\n",
       "      <td>duration</td>\n",
       "      <td>0</td>\n",
       "      <td>0.0</td>\n",
       "    </tr>\n",
       "    <tr>\n",
       "      <td>user_id</td>\n",
       "      <td>0</td>\n",
       "      <td>0.0</td>\n",
       "    </tr>\n",
       "  </tbody>\n",
       "</table>\n",
       "</div>"
      ],
      "text/plain": [
       "           missed_values  percent\n",
       "id                     0      0.0\n",
       "call_date              0      0.0\n",
       "duration               0      0.0\n",
       "user_id                0      0.0"
      ]
     },
     "metadata": {},
     "output_type": "display_data"
    },
    {
     "name": "stdout",
     "output_type": "stream",
     "text": [
      "____________________________________________________________________________________________________\n",
      "Data types:\n",
      "id            object\n",
      "call_date     object\n",
      "duration     float64\n",
      "user_id        int64\n",
      "dtype: object\n",
      "____________________________________________________________________________________________________\n",
      "Number of duplicates: 0 percent of duplicates 0.0 %\n",
      "Sample\n"
     ]
    },
    {
     "data": {
      "text/html": [
       "<div>\n",
       "<style scoped>\n",
       "    .dataframe tbody tr th:only-of-type {\n",
       "        vertical-align: middle;\n",
       "    }\n",
       "\n",
       "    .dataframe tbody tr th {\n",
       "        vertical-align: top;\n",
       "    }\n",
       "\n",
       "    .dataframe thead th {\n",
       "        text-align: right;\n",
       "    }\n",
       "</style>\n",
       "<table border=\"1\" class=\"dataframe\">\n",
       "  <thead>\n",
       "    <tr style=\"text-align: right;\">\n",
       "      <th></th>\n",
       "      <th>Unnamed: 0</th>\n",
       "      <th>id</th>\n",
       "      <th>mb_used</th>\n",
       "      <th>session_date</th>\n",
       "      <th>user_id</th>\n",
       "    </tr>\n",
       "  </thead>\n",
       "  <tbody>\n",
       "    <tr>\n",
       "      <td>5408</td>\n",
       "      <td>5408</td>\n",
       "      <td>1015_416</td>\n",
       "      <td>253.34</td>\n",
       "      <td>2018-08-14</td>\n",
       "      <td>1015</td>\n",
       "    </tr>\n",
       "  </tbody>\n",
       "</table>\n",
       "</div>"
      ],
      "text/plain": [
       "      Unnamed: 0        id  mb_used session_date  user_id\n",
       "5408        5408  1015_416   253.34   2018-08-14     1015"
      ]
     },
     "metadata": {},
     "output_type": "display_data"
    },
    {
     "name": "stdout",
     "output_type": "stream",
     "text": [
      "____________________________________________________________________________________________________\n",
      "Number of rows: 149396 \n",
      "Number of columns: 5\n",
      "____________________________________________________________________________________________________\n",
      "Columns names: Index(['Unnamed: 0', 'id', 'mb_used', 'session_date', 'user_id'], dtype='object')\n",
      "____________________________________________________________________________________________________\n",
      "Columns names to change: ['Unnamed: 0']\n",
      "____________________________________________________________________________________________________\n",
      "Missing values:\n"
     ]
    },
    {
     "data": {
      "text/html": [
       "<div>\n",
       "<style scoped>\n",
       "    .dataframe tbody tr th:only-of-type {\n",
       "        vertical-align: middle;\n",
       "    }\n",
       "\n",
       "    .dataframe tbody tr th {\n",
       "        vertical-align: top;\n",
       "    }\n",
       "\n",
       "    .dataframe thead th {\n",
       "        text-align: right;\n",
       "    }\n",
       "</style>\n",
       "<table border=\"1\" class=\"dataframe\">\n",
       "  <thead>\n",
       "    <tr style=\"text-align: right;\">\n",
       "      <th></th>\n",
       "      <th>missed_values</th>\n",
       "      <th>percent</th>\n",
       "    </tr>\n",
       "  </thead>\n",
       "  <tbody>\n",
       "    <tr>\n",
       "      <td>Unnamed: 0</td>\n",
       "      <td>0</td>\n",
       "      <td>0.0</td>\n",
       "    </tr>\n",
       "    <tr>\n",
       "      <td>id</td>\n",
       "      <td>0</td>\n",
       "      <td>0.0</td>\n",
       "    </tr>\n",
       "    <tr>\n",
       "      <td>mb_used</td>\n",
       "      <td>0</td>\n",
       "      <td>0.0</td>\n",
       "    </tr>\n",
       "    <tr>\n",
       "      <td>session_date</td>\n",
       "      <td>0</td>\n",
       "      <td>0.0</td>\n",
       "    </tr>\n",
       "    <tr>\n",
       "      <td>user_id</td>\n",
       "      <td>0</td>\n",
       "      <td>0.0</td>\n",
       "    </tr>\n",
       "  </tbody>\n",
       "</table>\n",
       "</div>"
      ],
      "text/plain": [
       "              missed_values  percent\n",
       "Unnamed: 0                0      0.0\n",
       "id                        0      0.0\n",
       "mb_used                   0      0.0\n",
       "session_date              0      0.0\n",
       "user_id                   0      0.0"
      ]
     },
     "metadata": {},
     "output_type": "display_data"
    },
    {
     "name": "stdout",
     "output_type": "stream",
     "text": [
      "____________________________________________________________________________________________________\n",
      "Data types:\n",
      "Unnamed: 0        int64\n",
      "id               object\n",
      "mb_used         float64\n",
      "session_date     object\n",
      "user_id           int64\n",
      "dtype: object\n",
      "____________________________________________________________________________________________________\n",
      "Number of duplicates: 0 percent of duplicates 0.0 %\n",
      "Sample\n"
     ]
    },
    {
     "data": {
      "text/html": [
       "<div>\n",
       "<style scoped>\n",
       "    .dataframe tbody tr th:only-of-type {\n",
       "        vertical-align: middle;\n",
       "    }\n",
       "\n",
       "    .dataframe tbody tr th {\n",
       "        vertical-align: top;\n",
       "    }\n",
       "\n",
       "    .dataframe thead th {\n",
       "        text-align: right;\n",
       "    }\n",
       "</style>\n",
       "<table border=\"1\" class=\"dataframe\">\n",
       "  <thead>\n",
       "    <tr style=\"text-align: right;\">\n",
       "      <th></th>\n",
       "      <th>id</th>\n",
       "      <th>message_date</th>\n",
       "      <th>user_id</th>\n",
       "    </tr>\n",
       "  </thead>\n",
       "  <tbody>\n",
       "    <tr>\n",
       "      <td>88388</td>\n",
       "      <td>1369_313</td>\n",
       "      <td>2018-10-16</td>\n",
       "      <td>1369</td>\n",
       "    </tr>\n",
       "  </tbody>\n",
       "</table>\n",
       "</div>"
      ],
      "text/plain": [
       "             id message_date  user_id\n",
       "88388  1369_313   2018-10-16     1369"
      ]
     },
     "metadata": {},
     "output_type": "display_data"
    },
    {
     "name": "stdout",
     "output_type": "stream",
     "text": [
      "____________________________________________________________________________________________________\n",
      "Number of rows: 123036 \n",
      "Number of columns: 3\n",
      "____________________________________________________________________________________________________\n",
      "Columns names: Index(['id', 'message_date', 'user_id'], dtype='object')\n",
      "____________________________________________________________________________________________________\n",
      "Columns names are correct\n",
      "____________________________________________________________________________________________________\n",
      "Missing values:\n"
     ]
    },
    {
     "data": {
      "text/html": [
       "<div>\n",
       "<style scoped>\n",
       "    .dataframe tbody tr th:only-of-type {\n",
       "        vertical-align: middle;\n",
       "    }\n",
       "\n",
       "    .dataframe tbody tr th {\n",
       "        vertical-align: top;\n",
       "    }\n",
       "\n",
       "    .dataframe thead th {\n",
       "        text-align: right;\n",
       "    }\n",
       "</style>\n",
       "<table border=\"1\" class=\"dataframe\">\n",
       "  <thead>\n",
       "    <tr style=\"text-align: right;\">\n",
       "      <th></th>\n",
       "      <th>missed_values</th>\n",
       "      <th>percent</th>\n",
       "    </tr>\n",
       "  </thead>\n",
       "  <tbody>\n",
       "    <tr>\n",
       "      <td>id</td>\n",
       "      <td>0</td>\n",
       "      <td>0.0</td>\n",
       "    </tr>\n",
       "    <tr>\n",
       "      <td>message_date</td>\n",
       "      <td>0</td>\n",
       "      <td>0.0</td>\n",
       "    </tr>\n",
       "    <tr>\n",
       "      <td>user_id</td>\n",
       "      <td>0</td>\n",
       "      <td>0.0</td>\n",
       "    </tr>\n",
       "  </tbody>\n",
       "</table>\n",
       "</div>"
      ],
      "text/plain": [
       "              missed_values  percent\n",
       "id                        0      0.0\n",
       "message_date              0      0.0\n",
       "user_id                   0      0.0"
      ]
     },
     "metadata": {},
     "output_type": "display_data"
    },
    {
     "name": "stdout",
     "output_type": "stream",
     "text": [
      "____________________________________________________________________________________________________\n",
      "Data types:\n",
      "id              object\n",
      "message_date    object\n",
      "user_id          int64\n",
      "dtype: object\n",
      "____________________________________________________________________________________________________\n",
      "Number of duplicates: 0 percent of duplicates 0.0 %\n",
      "Sample\n"
     ]
    },
    {
     "data": {
      "text/html": [
       "<div>\n",
       "<style scoped>\n",
       "    .dataframe tbody tr th:only-of-type {\n",
       "        vertical-align: middle;\n",
       "    }\n",
       "\n",
       "    .dataframe tbody tr th {\n",
       "        vertical-align: top;\n",
       "    }\n",
       "\n",
       "    .dataframe thead th {\n",
       "        text-align: right;\n",
       "    }\n",
       "</style>\n",
       "<table border=\"1\" class=\"dataframe\">\n",
       "  <thead>\n",
       "    <tr style=\"text-align: right;\">\n",
       "      <th></th>\n",
       "      <th>messages_included</th>\n",
       "      <th>mb_per_month_included</th>\n",
       "      <th>minutes_included</th>\n",
       "      <th>rub_monthly_fee</th>\n",
       "      <th>rub_per_gb</th>\n",
       "      <th>rub_per_message</th>\n",
       "      <th>rub_per_minute</th>\n",
       "      <th>tariff_name</th>\n",
       "    </tr>\n",
       "  </thead>\n",
       "  <tbody>\n",
       "    <tr>\n",
       "      <td>1</td>\n",
       "      <td>1000</td>\n",
       "      <td>30720</td>\n",
       "      <td>3000</td>\n",
       "      <td>1950</td>\n",
       "      <td>150</td>\n",
       "      <td>1</td>\n",
       "      <td>1</td>\n",
       "      <td>ultra</td>\n",
       "    </tr>\n",
       "  </tbody>\n",
       "</table>\n",
       "</div>"
      ],
      "text/plain": [
       "   messages_included  mb_per_month_included  minutes_included  \\\n",
       "1               1000                  30720              3000   \n",
       "\n",
       "   rub_monthly_fee  rub_per_gb  rub_per_message  rub_per_minute tariff_name  \n",
       "1             1950         150                1               1       ultra  "
      ]
     },
     "metadata": {},
     "output_type": "display_data"
    },
    {
     "name": "stdout",
     "output_type": "stream",
     "text": [
      "____________________________________________________________________________________________________\n",
      "Number of rows: 2 \n",
      "Number of columns: 8\n",
      "____________________________________________________________________________________________________\n",
      "Columns names: Index(['messages_included', 'mb_per_month_included', 'minutes_included',\n",
      "       'rub_monthly_fee', 'rub_per_gb', 'rub_per_message', 'rub_per_minute',\n",
      "       'tariff_name'],\n",
      "      dtype='object')\n",
      "____________________________________________________________________________________________________\n",
      "Columns names are correct\n",
      "____________________________________________________________________________________________________\n",
      "Missing values:\n"
     ]
    },
    {
     "data": {
      "text/html": [
       "<div>\n",
       "<style scoped>\n",
       "    .dataframe tbody tr th:only-of-type {\n",
       "        vertical-align: middle;\n",
       "    }\n",
       "\n",
       "    .dataframe tbody tr th {\n",
       "        vertical-align: top;\n",
       "    }\n",
       "\n",
       "    .dataframe thead th {\n",
       "        text-align: right;\n",
       "    }\n",
       "</style>\n",
       "<table border=\"1\" class=\"dataframe\">\n",
       "  <thead>\n",
       "    <tr style=\"text-align: right;\">\n",
       "      <th></th>\n",
       "      <th>missed_values</th>\n",
       "      <th>percent</th>\n",
       "    </tr>\n",
       "  </thead>\n",
       "  <tbody>\n",
       "    <tr>\n",
       "      <td>messages_included</td>\n",
       "      <td>0</td>\n",
       "      <td>0.0</td>\n",
       "    </tr>\n",
       "    <tr>\n",
       "      <td>mb_per_month_included</td>\n",
       "      <td>0</td>\n",
       "      <td>0.0</td>\n",
       "    </tr>\n",
       "    <tr>\n",
       "      <td>minutes_included</td>\n",
       "      <td>0</td>\n",
       "      <td>0.0</td>\n",
       "    </tr>\n",
       "    <tr>\n",
       "      <td>rub_monthly_fee</td>\n",
       "      <td>0</td>\n",
       "      <td>0.0</td>\n",
       "    </tr>\n",
       "    <tr>\n",
       "      <td>rub_per_gb</td>\n",
       "      <td>0</td>\n",
       "      <td>0.0</td>\n",
       "    </tr>\n",
       "    <tr>\n",
       "      <td>rub_per_message</td>\n",
       "      <td>0</td>\n",
       "      <td>0.0</td>\n",
       "    </tr>\n",
       "    <tr>\n",
       "      <td>rub_per_minute</td>\n",
       "      <td>0</td>\n",
       "      <td>0.0</td>\n",
       "    </tr>\n",
       "    <tr>\n",
       "      <td>tariff_name</td>\n",
       "      <td>0</td>\n",
       "      <td>0.0</td>\n",
       "    </tr>\n",
       "  </tbody>\n",
       "</table>\n",
       "</div>"
      ],
      "text/plain": [
       "                       missed_values  percent\n",
       "messages_included                  0      0.0\n",
       "mb_per_month_included              0      0.0\n",
       "minutes_included                   0      0.0\n",
       "rub_monthly_fee                    0      0.0\n",
       "rub_per_gb                         0      0.0\n",
       "rub_per_message                    0      0.0\n",
       "rub_per_minute                     0      0.0\n",
       "tariff_name                        0      0.0"
      ]
     },
     "metadata": {},
     "output_type": "display_data"
    },
    {
     "name": "stdout",
     "output_type": "stream",
     "text": [
      "____________________________________________________________________________________________________\n",
      "Data types:\n",
      "messages_included         int64\n",
      "mb_per_month_included     int64\n",
      "minutes_included          int64\n",
      "rub_monthly_fee           int64\n",
      "rub_per_gb                int64\n",
      "rub_per_message           int64\n",
      "rub_per_minute            int64\n",
      "tariff_name              object\n",
      "dtype: object\n",
      "____________________________________________________________________________________________________\n",
      "Number of duplicates: 0 percent of duplicates 0.0 %\n",
      "Sample\n"
     ]
    },
    {
     "data": {
      "text/html": [
       "<div>\n",
       "<style scoped>\n",
       "    .dataframe tbody tr th:only-of-type {\n",
       "        vertical-align: middle;\n",
       "    }\n",
       "\n",
       "    .dataframe tbody tr th {\n",
       "        vertical-align: top;\n",
       "    }\n",
       "\n",
       "    .dataframe thead th {\n",
       "        text-align: right;\n",
       "    }\n",
       "</style>\n",
       "<table border=\"1\" class=\"dataframe\">\n",
       "  <thead>\n",
       "    <tr style=\"text-align: right;\">\n",
       "      <th></th>\n",
       "      <th>user_id</th>\n",
       "      <th>age</th>\n",
       "      <th>churn_date</th>\n",
       "      <th>city</th>\n",
       "      <th>first_name</th>\n",
       "      <th>last_name</th>\n",
       "      <th>reg_date</th>\n",
       "      <th>tariff</th>\n",
       "    </tr>\n",
       "  </thead>\n",
       "  <tbody>\n",
       "    <tr>\n",
       "      <td>80</td>\n",
       "      <td>1080</td>\n",
       "      <td>28</td>\n",
       "      <td>NaN</td>\n",
       "      <td>Москва</td>\n",
       "      <td>Всеволод</td>\n",
       "      <td>Игнатьев</td>\n",
       "      <td>2018-08-12</td>\n",
       "      <td>ultra</td>\n",
       "    </tr>\n",
       "  </tbody>\n",
       "</table>\n",
       "</div>"
      ],
      "text/plain": [
       "    user_id  age churn_date    city first_name last_name    reg_date tariff\n",
       "80     1080   28        NaN  Москва   Всеволод  Игнатьев  2018-08-12  ultra"
      ]
     },
     "metadata": {},
     "output_type": "display_data"
    },
    {
     "name": "stdout",
     "output_type": "stream",
     "text": [
      "____________________________________________________________________________________________________\n",
      "Number of rows: 500 \n",
      "Number of columns: 8\n",
      "____________________________________________________________________________________________________\n",
      "Columns names: Index(['user_id', 'age', 'churn_date', 'city', 'first_name', 'last_name',\n",
      "       'reg_date', 'tariff'],\n",
      "      dtype='object')\n",
      "____________________________________________________________________________________________________\n",
      "Columns names are correct\n",
      "____________________________________________________________________________________________________\n",
      "Missing values:\n"
     ]
    },
    {
     "data": {
      "text/html": [
       "<div>\n",
       "<style scoped>\n",
       "    .dataframe tbody tr th:only-of-type {\n",
       "        vertical-align: middle;\n",
       "    }\n",
       "\n",
       "    .dataframe tbody tr th {\n",
       "        vertical-align: top;\n",
       "    }\n",
       "\n",
       "    .dataframe thead th {\n",
       "        text-align: right;\n",
       "    }\n",
       "</style>\n",
       "<table border=\"1\" class=\"dataframe\">\n",
       "  <thead>\n",
       "    <tr style=\"text-align: right;\">\n",
       "      <th></th>\n",
       "      <th>missed_values</th>\n",
       "      <th>percent</th>\n",
       "    </tr>\n",
       "  </thead>\n",
       "  <tbody>\n",
       "    <tr>\n",
       "      <td>user_id</td>\n",
       "      <td>0</td>\n",
       "      <td>0.0</td>\n",
       "    </tr>\n",
       "    <tr>\n",
       "      <td>age</td>\n",
       "      <td>0</td>\n",
       "      <td>0.0</td>\n",
       "    </tr>\n",
       "    <tr>\n",
       "      <td>churn_date</td>\n",
       "      <td>462</td>\n",
       "      <td>92.0</td>\n",
       "    </tr>\n",
       "    <tr>\n",
       "      <td>city</td>\n",
       "      <td>0</td>\n",
       "      <td>0.0</td>\n",
       "    </tr>\n",
       "    <tr>\n",
       "      <td>first_name</td>\n",
       "      <td>0</td>\n",
       "      <td>0.0</td>\n",
       "    </tr>\n",
       "    <tr>\n",
       "      <td>last_name</td>\n",
       "      <td>0</td>\n",
       "      <td>0.0</td>\n",
       "    </tr>\n",
       "    <tr>\n",
       "      <td>reg_date</td>\n",
       "      <td>0</td>\n",
       "      <td>0.0</td>\n",
       "    </tr>\n",
       "    <tr>\n",
       "      <td>tariff</td>\n",
       "      <td>0</td>\n",
       "      <td>0.0</td>\n",
       "    </tr>\n",
       "  </tbody>\n",
       "</table>\n",
       "</div>"
      ],
      "text/plain": [
       "            missed_values  percent\n",
       "user_id                 0      0.0\n",
       "age                     0      0.0\n",
       "churn_date            462     92.0\n",
       "city                    0      0.0\n",
       "first_name              0      0.0\n",
       "last_name               0      0.0\n",
       "reg_date                0      0.0\n",
       "tariff                  0      0.0"
      ]
     },
     "metadata": {},
     "output_type": "display_data"
    },
    {
     "name": "stdout",
     "output_type": "stream",
     "text": [
      "____________________________________________________________________________________________________\n",
      "Data types:\n",
      "user_id        int64\n",
      "age            int64\n",
      "churn_date    object\n",
      "city          object\n",
      "first_name    object\n",
      "last_name     object\n",
      "reg_date      object\n",
      "tariff        object\n",
      "dtype: object\n",
      "____________________________________________________________________________________________________\n",
      "Number of duplicates: 0 percent of duplicates 0.0 %\n"
     ]
    }
   ],
   "source": [
    "for df in [calls, internet, messages, tariffs, users]:\n",
    "    observe_data(df)"
   ]
  },
  {
   "cell_type": "markdown",
   "metadata": {},
   "source": [
    "**Conclusion**\n",
    "- no duplicates were found for all data, column names are written correctly\n",
    "- there are missing values only in the churn_date column of the users table and this indicates that the user continues to use the selected tariff - this is 92% of the entire sample\n",
    "- in the internet table, you need to delete the \"Unnamed: 0\" column, which duplicates the row indexes\n",
    "- for all tables it is necessary to cast columns with dates to the datetime type: call_date, session_date, message_date, churn_date, reg_date"
   ]
  },
  {
   "cell_type": "markdown",
   "metadata": {},
   "source": [
    "## Data preprocessing"
   ]
  },
  {
   "cell_type": "markdown",
   "metadata": {},
   "source": [
    "### Таблица users"
   ]
  },
  {
   "cell_type": "code",
   "execution_count": 6,
   "metadata": {},
   "outputs": [
    {
     "data": {
      "text/html": [
       "<div>\n",
       "<style scoped>\n",
       "    .dataframe tbody tr th:only-of-type {\n",
       "        vertical-align: middle;\n",
       "    }\n",
       "\n",
       "    .dataframe tbody tr th {\n",
       "        vertical-align: top;\n",
       "    }\n",
       "\n",
       "    .dataframe thead th {\n",
       "        text-align: right;\n",
       "    }\n",
       "</style>\n",
       "<table border=\"1\" class=\"dataframe\">\n",
       "  <thead>\n",
       "    <tr style=\"text-align: right;\">\n",
       "      <th></th>\n",
       "      <th>user_id</th>\n",
       "      <th>age</th>\n",
       "      <th>churn_date</th>\n",
       "      <th>city</th>\n",
       "      <th>first_name</th>\n",
       "      <th>last_name</th>\n",
       "      <th>reg_date</th>\n",
       "      <th>tariff</th>\n",
       "    </tr>\n",
       "  </thead>\n",
       "  <tbody>\n",
       "    <tr>\n",
       "      <td>0</td>\n",
       "      <td>1000</td>\n",
       "      <td>52</td>\n",
       "      <td>NaN</td>\n",
       "      <td>Краснодар</td>\n",
       "      <td>Рафаил</td>\n",
       "      <td>Верещагин</td>\n",
       "      <td>2018-05-25</td>\n",
       "      <td>ultra</td>\n",
       "    </tr>\n",
       "    <tr>\n",
       "      <td>1</td>\n",
       "      <td>1001</td>\n",
       "      <td>41</td>\n",
       "      <td>NaN</td>\n",
       "      <td>Москва</td>\n",
       "      <td>Иван</td>\n",
       "      <td>Ежов</td>\n",
       "      <td>2018-11-01</td>\n",
       "      <td>smart</td>\n",
       "    </tr>\n",
       "    <tr>\n",
       "      <td>2</td>\n",
       "      <td>1002</td>\n",
       "      <td>59</td>\n",
       "      <td>NaN</td>\n",
       "      <td>Стерлитамак</td>\n",
       "      <td>Евгений</td>\n",
       "      <td>Абрамович</td>\n",
       "      <td>2018-06-17</td>\n",
       "      <td>smart</td>\n",
       "    </tr>\n",
       "    <tr>\n",
       "      <td>3</td>\n",
       "      <td>1003</td>\n",
       "      <td>23</td>\n",
       "      <td>NaN</td>\n",
       "      <td>Москва</td>\n",
       "      <td>Белла</td>\n",
       "      <td>Белякова</td>\n",
       "      <td>2018-08-17</td>\n",
       "      <td>ultra</td>\n",
       "    </tr>\n",
       "    <tr>\n",
       "      <td>4</td>\n",
       "      <td>1004</td>\n",
       "      <td>68</td>\n",
       "      <td>NaN</td>\n",
       "      <td>Новокузнецк</td>\n",
       "      <td>Татьяна</td>\n",
       "      <td>Авдеенко</td>\n",
       "      <td>2018-05-14</td>\n",
       "      <td>ultra</td>\n",
       "    </tr>\n",
       "  </tbody>\n",
       "</table>\n",
       "</div>"
      ],
      "text/plain": [
       "   user_id  age churn_date         city first_name  last_name    reg_date  \\\n",
       "0     1000   52        NaN    Краснодар     Рафаил  Верещагин  2018-05-25   \n",
       "1     1001   41        NaN       Москва       Иван       Ежов  2018-11-01   \n",
       "2     1002   59        NaN  Стерлитамак    Евгений  Абрамович  2018-06-17   \n",
       "3     1003   23        NaN       Москва      Белла   Белякова  2018-08-17   \n",
       "4     1004   68        NaN  Новокузнецк    Татьяна   Авдеенко  2018-05-14   \n",
       "\n",
       "  tariff  \n",
       "0  ultra  \n",
       "1  smart  \n",
       "2  smart  \n",
       "3  ultra  \n",
       "4  ultra  "
      ]
     },
     "execution_count": 6,
     "metadata": {},
     "output_type": "execute_result"
    }
   ],
   "source": [
    "users.head()"
   ]
  },
  {
   "cell_type": "code",
   "execution_count": 7,
   "metadata": {},
   "outputs": [
    {
     "data": {
      "text/plain": [
       "array(['Архангельск', 'Астрахань', 'Балашиха', 'Барнаул', 'Белгород',\n",
       "       'Брянск', 'Владивосток', 'Владикавказ', 'Владимир', 'Волгоград',\n",
       "       'Волжский', 'Вологда', 'Воронеж', 'Грозный', 'Екатеринбург',\n",
       "       'Иваново', 'Ижевск', 'Иркутск', 'Казань', 'Калининград', 'Калуга',\n",
       "       'Кемерово', 'Киров', 'Кострома', 'Краснодар', 'Красноярск',\n",
       "       'Курган', 'Курск', 'Липецк', 'Магнитогорск', 'Махачкала', 'Москва',\n",
       "       'Мурманск', 'Набережные Челны', 'Нижневартовск', 'Нижний Новгород',\n",
       "       'Нижний Тагил', 'Новокузнецк', 'Новороссийск', 'Новосибирск',\n",
       "       'Омск', 'Оренбург', 'Орёл', 'Пенза', 'Пермь', 'Петрозаводск',\n",
       "       'Подольск', 'Ростов-на-Дону', 'Рязань', 'Самара',\n",
       "       'Санкт-Петербург', 'Саранск', 'Саратов', 'Севастополь', 'Смоленск',\n",
       "       'Сочи', 'Ставрополь', 'Стерлитамак', 'Сургут', 'Тамбов', 'Тверь',\n",
       "       'Тольятти', 'Томск', 'Тула', 'Тюмень', 'Улан-Удэ', 'Ульяновск',\n",
       "       'Уфа', 'Хабаровск', 'Химки', 'Чебоксары', 'Челябинск', 'Череповец',\n",
       "       'Чита', 'Якутск', 'Ярославль'], dtype=object)"
      ]
     },
     "execution_count": 7,
     "metadata": {},
     "output_type": "execute_result"
    }
   ],
   "source": [
    "users['city'].sort_values().unique()"
   ]
  },
  {
   "cell_type": "code",
   "execution_count": 8,
   "metadata": {},
   "outputs": [
    {
     "data": {
      "text/plain": [
       "count    500.00000\n",
       "mean      46.58800\n",
       "std       16.66763\n",
       "min       18.00000\n",
       "25%       32.00000\n",
       "50%       46.00000\n",
       "75%       62.00000\n",
       "max       75.00000\n",
       "Name: age, dtype: float64"
      ]
     },
     "execution_count": 8,
     "metadata": {},
     "output_type": "execute_result"
    }
   ],
   "source": [
    "users['age'].describe()"
   ]
  },
  {
   "cell_type": "code",
   "execution_count": 9,
   "metadata": {},
   "outputs": [
    {
     "data": {
      "text/plain": [
       "smart    351\n",
       "ultra    149\n",
       "Name: tariff, dtype: int64"
      ]
     },
     "execution_count": 9,
     "metadata": {},
     "output_type": "execute_result"
    }
   ],
   "source": [
    "users['tariff'].value_counts()"
   ]
  },
  {
   "cell_type": "code",
   "execution_count": 10,
   "metadata": {},
   "outputs": [],
   "source": [
    "users['reg_date'] = pd.to_datetime(users['reg_date'], format = '%Y-%m-%d')"
   ]
  },
  {
   "cell_type": "code",
   "execution_count": 11,
   "metadata": {
    "scrolled": false
   },
   "outputs": [
    {
     "data": {
      "text/plain": [
       "count                     500\n",
       "unique                    270\n",
       "top       2018-05-28 00:00:00\n",
       "freq                        8\n",
       "first     2018-01-01 00:00:00\n",
       "last      2018-12-31 00:00:00\n",
       "Name: reg_date, dtype: object"
      ]
     },
     "execution_count": 11,
     "metadata": {},
     "output_type": "execute_result"
    }
   ],
   "source": [
    "users['reg_date'].describe()"
   ]
  },
  {
   "cell_type": "code",
   "execution_count": 12,
   "metadata": {},
   "outputs": [],
   "source": [
    "users['сhurn_date'] = pd.to_datetime(users['churn_date'], format = '%Y-%m-%d')"
   ]
  },
  {
   "cell_type": "code",
   "execution_count": 13,
   "metadata": {},
   "outputs": [
    {
     "data": {
      "text/plain": [
       "38"
      ]
     },
     "execution_count": 13,
     "metadata": {},
     "output_type": "execute_result"
    }
   ],
   "source": [
    "len(users.query('churn_date.notna()'))"
   ]
  },
  {
   "cell_type": "code",
   "execution_count": 14,
   "metadata": {},
   "outputs": [
    {
     "data": {
      "text/plain": [
       "user_id                int64\n",
       "age                    int64\n",
       "churn_date            object\n",
       "city                  object\n",
       "first_name            object\n",
       "last_name             object\n",
       "reg_date      datetime64[ns]\n",
       "tariff                object\n",
       "сhurn_date    datetime64[ns]\n",
       "dtype: object"
      ]
     },
     "execution_count": 14,
     "metadata": {},
     "output_type": "execute_result"
    }
   ],
   "source": [
    "users.dtypes"
   ]
  },
  {
   "cell_type": "markdown",
   "metadata": {},
   "source": [
    "**Conclusion**\n",
    "- the name of the cities is written correctly\n",
    "- the return of clients does not have outliers\n",
    "- about 70% of customers from the sample use the smart tariff and only 30% - ultra\n",
    "- 38 customers stopped using the plan they originally chose\n",
    "- no incorrect data found, reg_date and churn_date columns are converted to datetime type"
   ]
  },
  {
   "cell_type": "markdown",
   "metadata": {},
   "source": [
    "### Table calls"
   ]
  },
  {
   "cell_type": "markdown",
   "metadata": {},
   "source": [
    "#### Search for anomalies"
   ]
  },
  {
   "cell_type": "code",
   "execution_count": 15,
   "metadata": {},
   "outputs": [
    {
     "data": {
      "text/html": [
       "<div>\n",
       "<style scoped>\n",
       "    .dataframe tbody tr th:only-of-type {\n",
       "        vertical-align: middle;\n",
       "    }\n",
       "\n",
       "    .dataframe tbody tr th {\n",
       "        vertical-align: top;\n",
       "    }\n",
       "\n",
       "    .dataframe thead th {\n",
       "        text-align: right;\n",
       "    }\n",
       "</style>\n",
       "<table border=\"1\" class=\"dataframe\">\n",
       "  <thead>\n",
       "    <tr style=\"text-align: right;\">\n",
       "      <th></th>\n",
       "      <th>id</th>\n",
       "      <th>call_date</th>\n",
       "      <th>duration</th>\n",
       "      <th>user_id</th>\n",
       "    </tr>\n",
       "  </thead>\n",
       "  <tbody>\n",
       "    <tr>\n",
       "      <td>0</td>\n",
       "      <td>1000_0</td>\n",
       "      <td>2018-07-25</td>\n",
       "      <td>0.00</td>\n",
       "      <td>1000</td>\n",
       "    </tr>\n",
       "    <tr>\n",
       "      <td>1</td>\n",
       "      <td>1000_1</td>\n",
       "      <td>2018-08-17</td>\n",
       "      <td>0.00</td>\n",
       "      <td>1000</td>\n",
       "    </tr>\n",
       "    <tr>\n",
       "      <td>2</td>\n",
       "      <td>1000_2</td>\n",
       "      <td>2018-06-11</td>\n",
       "      <td>2.85</td>\n",
       "      <td>1000</td>\n",
       "    </tr>\n",
       "    <tr>\n",
       "      <td>3</td>\n",
       "      <td>1000_3</td>\n",
       "      <td>2018-09-21</td>\n",
       "      <td>13.80</td>\n",
       "      <td>1000</td>\n",
       "    </tr>\n",
       "    <tr>\n",
       "      <td>4</td>\n",
       "      <td>1000_4</td>\n",
       "      <td>2018-12-15</td>\n",
       "      <td>5.18</td>\n",
       "      <td>1000</td>\n",
       "    </tr>\n",
       "  </tbody>\n",
       "</table>\n",
       "</div>"
      ],
      "text/plain": [
       "       id   call_date  duration  user_id\n",
       "0  1000_0  2018-07-25      0.00     1000\n",
       "1  1000_1  2018-08-17      0.00     1000\n",
       "2  1000_2  2018-06-11      2.85     1000\n",
       "3  1000_3  2018-09-21     13.80     1000\n",
       "4  1000_4  2018-12-15      5.18     1000"
      ]
     },
     "execution_count": 15,
     "metadata": {},
     "output_type": "execute_result"
    }
   ],
   "source": [
    "calls.head()"
   ]
  },
  {
   "cell_type": "code",
   "execution_count": 16,
   "metadata": {},
   "outputs": [
    {
     "data": {
      "text/plain": [
       "count    202607.000000\n",
       "mean          6.755887\n",
       "std           5.843365\n",
       "min           0.000000\n",
       "25%           1.300000\n",
       "50%           6.000000\n",
       "75%          10.700000\n",
       "max          38.000000\n",
       "Name: duration, dtype: float64"
      ]
     },
     "execution_count": 16,
     "metadata": {},
     "output_type": "execute_result"
    }
   ],
   "source": [
    "calls['duration'].describe()"
   ]
  },
  {
   "cell_type": "markdown",
   "metadata": {},
   "source": [
    "According to the explanations, missed calls are indicated by zeros, so they do not need to be deleted."
   ]
  },
  {
   "cell_type": "code",
   "execution_count": 17,
   "metadata": {},
   "outputs": [],
   "source": [
    "calls['call_date'] = pd.to_datetime(calls['call_date'], format = '%Y-%m-%d')"
   ]
  },
  {
   "cell_type": "code",
   "execution_count": 18,
   "metadata": {},
   "outputs": [
    {
     "data": {
      "text/plain": [
       "count                  202607\n",
       "unique                    365\n",
       "top       2018-12-31 00:00:00\n",
       "freq                     1435\n",
       "first     2018-01-01 00:00:00\n",
       "last      2018-12-31 00:00:00\n",
       "Name: call_date, dtype: object"
      ]
     },
     "execution_count": 18,
     "metadata": {},
     "output_type": "execute_result"
    }
   ],
   "source": [
    "calls['call_date'].describe()"
   ]
  },
  {
   "cell_type": "code",
   "execution_count": 19,
   "metadata": {},
   "outputs": [
    {
     "data": {
      "text/html": [
       "<div>\n",
       "<style scoped>\n",
       "    .dataframe tbody tr th:only-of-type {\n",
       "        vertical-align: middle;\n",
       "    }\n",
       "\n",
       "    .dataframe tbody tr th {\n",
       "        vertical-align: top;\n",
       "    }\n",
       "\n",
       "    .dataframe thead th {\n",
       "        text-align: right;\n",
       "    }\n",
       "</style>\n",
       "<table border=\"1\" class=\"dataframe\">\n",
       "  <thead>\n",
       "    <tr style=\"text-align: right;\">\n",
       "      <th></th>\n",
       "      <th>index</th>\n",
       "      <th>user_id</th>\n",
       "    </tr>\n",
       "  </thead>\n",
       "  <tbody>\n",
       "    <tr>\n",
       "      <td>count</td>\n",
       "      <td>492.000000</td>\n",
       "      <td>492.000000</td>\n",
       "    </tr>\n",
       "    <tr>\n",
       "      <td>mean</td>\n",
       "      <td>1249.050813</td>\n",
       "      <td>411.802846</td>\n",
       "    </tr>\n",
       "    <tr>\n",
       "      <td>std</td>\n",
       "      <td>144.325595</td>\n",
       "      <td>291.803375</td>\n",
       "    </tr>\n",
       "    <tr>\n",
       "      <td>min</td>\n",
       "      <td>1000.000000</td>\n",
       "      <td>14.000000</td>\n",
       "    </tr>\n",
       "    <tr>\n",
       "      <td>25%</td>\n",
       "      <td>1124.750000</td>\n",
       "      <td>180.000000</td>\n",
       "    </tr>\n",
       "    <tr>\n",
       "      <td>50%</td>\n",
       "      <td>1249.500000</td>\n",
       "      <td>344.500000</td>\n",
       "    </tr>\n",
       "    <tr>\n",
       "      <td>75%</td>\n",
       "      <td>1374.250000</td>\n",
       "      <td>589.500000</td>\n",
       "    </tr>\n",
       "    <tr>\n",
       "      <td>max</td>\n",
       "      <td>1499.000000</td>\n",
       "      <td>1760.000000</td>\n",
       "    </tr>\n",
       "  </tbody>\n",
       "</table>\n",
       "</div>"
      ],
      "text/plain": [
       "             index      user_id\n",
       "count   492.000000   492.000000\n",
       "mean   1249.050813   411.802846\n",
       "std     144.325595   291.803375\n",
       "min    1000.000000    14.000000\n",
       "25%    1124.750000   180.000000\n",
       "50%    1249.500000   344.500000\n",
       "75%    1374.250000   589.500000\n",
       "max    1499.000000  1760.000000"
      ]
     },
     "execution_count": 19,
     "metadata": {},
     "output_type": "execute_result"
    }
   ],
   "source": [
    "calls['user_id'].value_counts().reset_index().describe()"
   ]
  },
  {
   "cell_type": "markdown",
   "metadata": {},
   "source": [
    "**Conclusion**\n",
    "no anomalies were found in the data:\n",
    "- duration of calls varies from 0 (missed) to 38 minutes (longest call)\n",
    "- call dates are limited to 2018\n",
    "- the minimum number of calls per year made by a subscriber is 14, the maximum is 1760 (approximately 5 calls per day)\n",
    "- call_date column cast to datetime type"
   ]
  },
  {
   "cell_type": "markdown",
   "metadata": {},
   "source": [
    "#### Number of calls made and spent minutes of conversation by month for each user"
   ]
  },
  {
   "cell_type": "code",
   "execution_count": 20,
   "metadata": {},
   "outputs": [],
   "source": [
    "calls['month'] = calls['call_date'].dt.month"
   ]
  },
  {
   "cell_type": "markdown",
   "metadata": {},
   "source": [
    "Since the clarification says that the company rounds each call up to minutes, we will correct the data in the duration column"
   ]
  },
  {
   "cell_type": "code",
   "execution_count": 21,
   "metadata": {},
   "outputs": [],
   "source": [
    "#calls['duration'] = calls['duration'].apply(lambda x: math.ceil(x))\n",
    "calls['duration'] = np.ceil(calls['duration'])"
   ]
  },
  {
   "cell_type": "code",
   "execution_count": 22,
   "metadata": {},
   "outputs": [],
   "source": [
    "users_calls_by_month = calls.groupby(['month', 'user_id']).agg({'duration':'sum', 'id':'count'}).reset_index()"
   ]
  },
  {
   "cell_type": "code",
   "execution_count": 23,
   "metadata": {},
   "outputs": [],
   "source": [
    "users_calls_by_month.columns = ['month', 'user_id', 'duration', 'calls_number']"
   ]
  },
  {
   "cell_type": "code",
   "execution_count": 24,
   "metadata": {
    "scrolled": true
   },
   "outputs": [
    {
     "data": {
      "text/html": [
       "<div>\n",
       "<style scoped>\n",
       "    .dataframe tbody tr th:only-of-type {\n",
       "        vertical-align: middle;\n",
       "    }\n",
       "\n",
       "    .dataframe tbody tr th {\n",
       "        vertical-align: top;\n",
       "    }\n",
       "\n",
       "    .dataframe thead th {\n",
       "        text-align: right;\n",
       "    }\n",
       "</style>\n",
       "<table border=\"1\" class=\"dataframe\">\n",
       "  <thead>\n",
       "    <tr style=\"text-align: right;\">\n",
       "      <th></th>\n",
       "      <th>month</th>\n",
       "      <th>user_id</th>\n",
       "      <th>duration</th>\n",
       "      <th>calls_number</th>\n",
       "    </tr>\n",
       "  </thead>\n",
       "  <tbody>\n",
       "    <tr>\n",
       "      <td>0</td>\n",
       "      <td>1</td>\n",
       "      <td>1005</td>\n",
       "      <td>95.0</td>\n",
       "      <td>15</td>\n",
       "    </tr>\n",
       "    <tr>\n",
       "      <td>1</td>\n",
       "      <td>1</td>\n",
       "      <td>1032</td>\n",
       "      <td>380.0</td>\n",
       "      <td>61</td>\n",
       "    </tr>\n",
       "    <tr>\n",
       "      <td>2</td>\n",
       "      <td>1</td>\n",
       "      <td>1045</td>\n",
       "      <td>9.0</td>\n",
       "      <td>1</td>\n",
       "    </tr>\n",
       "    <tr>\n",
       "      <td>3</td>\n",
       "      <td>1</td>\n",
       "      <td>1055</td>\n",
       "      <td>551.0</td>\n",
       "      <td>64</td>\n",
       "    </tr>\n",
       "    <tr>\n",
       "      <td>4</td>\n",
       "      <td>1</td>\n",
       "      <td>1071</td>\n",
       "      <td>194.0</td>\n",
       "      <td>24</td>\n",
       "    </tr>\n",
       "  </tbody>\n",
       "</table>\n",
       "</div>"
      ],
      "text/plain": [
       "   month  user_id  duration  calls_number\n",
       "0      1     1005      95.0            15\n",
       "1      1     1032     380.0            61\n",
       "2      1     1045       9.0             1\n",
       "3      1     1055     551.0            64\n",
       "4      1     1071     194.0            24"
      ]
     },
     "execution_count": 24,
     "metadata": {},
     "output_type": "execute_result"
    }
   ],
   "source": [
    "users_calls_by_month.head()"
   ]
  },
  {
   "cell_type": "markdown",
   "metadata": {},
   "source": [
    "**Conclusion** we calculated the number of calls and their total duration for each client in each month"
   ]
  },
  {
   "cell_type": "markdown",
   "metadata": {},
   "source": [
    "### Table messages"
   ]
  },
  {
   "cell_type": "markdown",
   "metadata": {},
   "source": [
    "#### Search of errors"
   ]
  },
  {
   "cell_type": "code",
   "execution_count": 25,
   "metadata": {},
   "outputs": [
    {
     "data": {
      "text/html": [
       "<div>\n",
       "<style scoped>\n",
       "    .dataframe tbody tr th:only-of-type {\n",
       "        vertical-align: middle;\n",
       "    }\n",
       "\n",
       "    .dataframe tbody tr th {\n",
       "        vertical-align: top;\n",
       "    }\n",
       "\n",
       "    .dataframe thead th {\n",
       "        text-align: right;\n",
       "    }\n",
       "</style>\n",
       "<table border=\"1\" class=\"dataframe\">\n",
       "  <thead>\n",
       "    <tr style=\"text-align: right;\">\n",
       "      <th></th>\n",
       "      <th>id</th>\n",
       "      <th>message_date</th>\n",
       "      <th>user_id</th>\n",
       "    </tr>\n",
       "  </thead>\n",
       "  <tbody>\n",
       "    <tr>\n",
       "      <td>0</td>\n",
       "      <td>1000_0</td>\n",
       "      <td>2018-06-27</td>\n",
       "      <td>1000</td>\n",
       "    </tr>\n",
       "    <tr>\n",
       "      <td>1</td>\n",
       "      <td>1000_1</td>\n",
       "      <td>2018-10-08</td>\n",
       "      <td>1000</td>\n",
       "    </tr>\n",
       "    <tr>\n",
       "      <td>2</td>\n",
       "      <td>1000_2</td>\n",
       "      <td>2018-08-04</td>\n",
       "      <td>1000</td>\n",
       "    </tr>\n",
       "    <tr>\n",
       "      <td>3</td>\n",
       "      <td>1000_3</td>\n",
       "      <td>2018-06-16</td>\n",
       "      <td>1000</td>\n",
       "    </tr>\n",
       "    <tr>\n",
       "      <td>4</td>\n",
       "      <td>1000_4</td>\n",
       "      <td>2018-12-05</td>\n",
       "      <td>1000</td>\n",
       "    </tr>\n",
       "  </tbody>\n",
       "</table>\n",
       "</div>"
      ],
      "text/plain": [
       "       id message_date  user_id\n",
       "0  1000_0   2018-06-27     1000\n",
       "1  1000_1   2018-10-08     1000\n",
       "2  1000_2   2018-08-04     1000\n",
       "3  1000_3   2018-06-16     1000\n",
       "4  1000_4   2018-12-05     1000"
      ]
     },
     "execution_count": 25,
     "metadata": {},
     "output_type": "execute_result"
    }
   ],
   "source": [
    "messages.head()"
   ]
  },
  {
   "cell_type": "code",
   "execution_count": 26,
   "metadata": {},
   "outputs": [],
   "source": [
    "messages['message_date'] = pd.to_datetime(messages['message_date'], format = '%Y-%m-%d')"
   ]
  },
  {
   "cell_type": "code",
   "execution_count": 27,
   "metadata": {},
   "outputs": [
    {
     "data": {
      "text/plain": [
       "count                  123036\n",
       "unique                    364\n",
       "top       2018-12-31 00:00:00\n",
       "freq                      859\n",
       "first     2018-01-02 00:00:00\n",
       "last      2018-12-31 00:00:00\n",
       "Name: message_date, dtype: object"
      ]
     },
     "execution_count": 27,
     "metadata": {},
     "output_type": "execute_result"
    }
   ],
   "source": [
    "messages['message_date'].describe()"
   ]
  },
  {
   "cell_type": "code",
   "execution_count": 28,
   "metadata": {},
   "outputs": [
    {
     "data": {
      "text/html": [
       "<div>\n",
       "<style scoped>\n",
       "    .dataframe tbody tr th:only-of-type {\n",
       "        vertical-align: middle;\n",
       "    }\n",
       "\n",
       "    .dataframe tbody tr th {\n",
       "        vertical-align: top;\n",
       "    }\n",
       "\n",
       "    .dataframe thead th {\n",
       "        text-align: right;\n",
       "    }\n",
       "</style>\n",
       "<table border=\"1\" class=\"dataframe\">\n",
       "  <thead>\n",
       "    <tr style=\"text-align: right;\">\n",
       "      <th></th>\n",
       "      <th>index</th>\n",
       "      <th>user_id</th>\n",
       "    </tr>\n",
       "  </thead>\n",
       "  <tbody>\n",
       "    <tr>\n",
       "      <td>count</td>\n",
       "      <td>426.000000</td>\n",
       "      <td>426.000000</td>\n",
       "    </tr>\n",
       "    <tr>\n",
       "      <td>mean</td>\n",
       "      <td>1252.396714</td>\n",
       "      <td>288.816901</td>\n",
       "    </tr>\n",
       "    <tr>\n",
       "      <td>std</td>\n",
       "      <td>145.893240</td>\n",
       "      <td>267.607552</td>\n",
       "    </tr>\n",
       "    <tr>\n",
       "      <td>min</td>\n",
       "      <td>1000.000000</td>\n",
       "      <td>1.000000</td>\n",
       "    </tr>\n",
       "    <tr>\n",
       "      <td>25%</td>\n",
       "      <td>1125.250000</td>\n",
       "      <td>85.750000</td>\n",
       "    </tr>\n",
       "    <tr>\n",
       "      <td>50%</td>\n",
       "      <td>1257.500000</td>\n",
       "      <td>215.500000</td>\n",
       "    </tr>\n",
       "    <tr>\n",
       "      <td>75%</td>\n",
       "      <td>1380.750000</td>\n",
       "      <td>414.000000</td>\n",
       "    </tr>\n",
       "    <tr>\n",
       "      <td>max</td>\n",
       "      <td>1499.000000</td>\n",
       "      <td>1463.000000</td>\n",
       "    </tr>\n",
       "  </tbody>\n",
       "</table>\n",
       "</div>"
      ],
      "text/plain": [
       "             index      user_id\n",
       "count   426.000000   426.000000\n",
       "mean   1252.396714   288.816901\n",
       "std     145.893240   267.607552\n",
       "min    1000.000000     1.000000\n",
       "25%    1125.250000    85.750000\n",
       "50%    1257.500000   215.500000\n",
       "75%    1380.750000   414.000000\n",
       "max    1499.000000  1463.000000"
      ]
     },
     "execution_count": 28,
     "metadata": {},
     "output_type": "execute_result"
    }
   ],
   "source": [
    "messages['user_id'].value_counts().reset_index().describe()"
   ]
  },
  {
   "cell_type": "markdown",
   "metadata": {},
   "source": [
    "**Conclusion**\n",
    "no anomalies found in the data:\n",
    "- dates for sending messages are limited to 2018\n",
    "- on average users send less than 1 message per day, the user who sent the most messages sends approximately 4 messages per day\n",
    "- message_date column cast to datetime type"
   ]
  },
  {
   "cell_type": "markdown",
   "metadata": {},
   "source": [
    "#### Number of sent messages by month"
   ]
  },
  {
   "cell_type": "code",
   "execution_count": 29,
   "metadata": {},
   "outputs": [],
   "source": [
    "messages['month'] = messages['message_date'].dt.month"
   ]
  },
  {
   "cell_type": "code",
   "execution_count": 30,
   "metadata": {},
   "outputs": [],
   "source": [
    "users_messages_by_month = messages.groupby(['month', 'user_id'])['id'].count().reset_index()"
   ]
  },
  {
   "cell_type": "code",
   "execution_count": 31,
   "metadata": {},
   "outputs": [],
   "source": [
    "users_messages_by_month.columns = ['month', 'user_id', 'messages_number']"
   ]
  },
  {
   "cell_type": "code",
   "execution_count": 32,
   "metadata": {
    "scrolled": true
   },
   "outputs": [
    {
     "data": {
      "text/html": [
       "<div>\n",
       "<style scoped>\n",
       "    .dataframe tbody tr th:only-of-type {\n",
       "        vertical-align: middle;\n",
       "    }\n",
       "\n",
       "    .dataframe tbody tr th {\n",
       "        vertical-align: top;\n",
       "    }\n",
       "\n",
       "    .dataframe thead th {\n",
       "        text-align: right;\n",
       "    }\n",
       "</style>\n",
       "<table border=\"1\" class=\"dataframe\">\n",
       "  <thead>\n",
       "    <tr style=\"text-align: right;\">\n",
       "      <th></th>\n",
       "      <th>month</th>\n",
       "      <th>user_id</th>\n",
       "      <th>messages_number</th>\n",
       "    </tr>\n",
       "  </thead>\n",
       "  <tbody>\n",
       "    <tr>\n",
       "      <td>0</td>\n",
       "      <td>1</td>\n",
       "      <td>1005</td>\n",
       "      <td>7</td>\n",
       "    </tr>\n",
       "    <tr>\n",
       "      <td>1</td>\n",
       "      <td>1</td>\n",
       "      <td>1032</td>\n",
       "      <td>38</td>\n",
       "    </tr>\n",
       "    <tr>\n",
       "      <td>2</td>\n",
       "      <td>1</td>\n",
       "      <td>1045</td>\n",
       "      <td>5</td>\n",
       "    </tr>\n",
       "    <tr>\n",
       "      <td>3</td>\n",
       "      <td>1</td>\n",
       "      <td>1055</td>\n",
       "      <td>30</td>\n",
       "    </tr>\n",
       "    <tr>\n",
       "      <td>4</td>\n",
       "      <td>1</td>\n",
       "      <td>1071</td>\n",
       "      <td>16</td>\n",
       "    </tr>\n",
       "  </tbody>\n",
       "</table>\n",
       "</div>"
      ],
      "text/plain": [
       "   month  user_id  messages_number\n",
       "0      1     1005                7\n",
       "1      1     1032               38\n",
       "2      1     1045                5\n",
       "3      1     1055               30\n",
       "4      1     1071               16"
      ]
     },
     "execution_count": 32,
     "metadata": {},
     "output_type": "execute_result"
    }
   ],
   "source": [
    "users_messages_by_month.head()"
   ]
  },
  {
   "cell_type": "markdown",
   "metadata": {},
   "source": [
    "**Conclusion** we counted the number of messages for each client in each month"
   ]
  },
  {
   "cell_type": "markdown",
   "metadata": {},
   "source": [
    "### Table internet"
   ]
  },
  {
   "cell_type": "markdown",
   "metadata": {},
   "source": [
    "#### Search for incorrect data"
   ]
  },
  {
   "cell_type": "code",
   "execution_count": 33,
   "metadata": {
    "scrolled": true
   },
   "outputs": [
    {
     "data": {
      "text/html": [
       "<div>\n",
       "<style scoped>\n",
       "    .dataframe tbody tr th:only-of-type {\n",
       "        vertical-align: middle;\n",
       "    }\n",
       "\n",
       "    .dataframe tbody tr th {\n",
       "        vertical-align: top;\n",
       "    }\n",
       "\n",
       "    .dataframe thead th {\n",
       "        text-align: right;\n",
       "    }\n",
       "</style>\n",
       "<table border=\"1\" class=\"dataframe\">\n",
       "  <thead>\n",
       "    <tr style=\"text-align: right;\">\n",
       "      <th></th>\n",
       "      <th>Unnamed: 0</th>\n",
       "      <th>id</th>\n",
       "      <th>mb_used</th>\n",
       "      <th>session_date</th>\n",
       "      <th>user_id</th>\n",
       "    </tr>\n",
       "  </thead>\n",
       "  <tbody>\n",
       "    <tr>\n",
       "      <td>0</td>\n",
       "      <td>0</td>\n",
       "      <td>1000_0</td>\n",
       "      <td>112.95</td>\n",
       "      <td>2018-11-25</td>\n",
       "      <td>1000</td>\n",
       "    </tr>\n",
       "    <tr>\n",
       "      <td>1</td>\n",
       "      <td>1</td>\n",
       "      <td>1000_1</td>\n",
       "      <td>1052.81</td>\n",
       "      <td>2018-09-07</td>\n",
       "      <td>1000</td>\n",
       "    </tr>\n",
       "    <tr>\n",
       "      <td>2</td>\n",
       "      <td>2</td>\n",
       "      <td>1000_2</td>\n",
       "      <td>1197.26</td>\n",
       "      <td>2018-06-25</td>\n",
       "      <td>1000</td>\n",
       "    </tr>\n",
       "    <tr>\n",
       "      <td>3</td>\n",
       "      <td>3</td>\n",
       "      <td>1000_3</td>\n",
       "      <td>550.27</td>\n",
       "      <td>2018-08-22</td>\n",
       "      <td>1000</td>\n",
       "    </tr>\n",
       "    <tr>\n",
       "      <td>4</td>\n",
       "      <td>4</td>\n",
       "      <td>1000_4</td>\n",
       "      <td>302.56</td>\n",
       "      <td>2018-09-24</td>\n",
       "      <td>1000</td>\n",
       "    </tr>\n",
       "  </tbody>\n",
       "</table>\n",
       "</div>"
      ],
      "text/plain": [
       "   Unnamed: 0      id  mb_used session_date  user_id\n",
       "0           0  1000_0   112.95   2018-11-25     1000\n",
       "1           1  1000_1  1052.81   2018-09-07     1000\n",
       "2           2  1000_2  1197.26   2018-06-25     1000\n",
       "3           3  1000_3   550.27   2018-08-22     1000\n",
       "4           4  1000_4   302.56   2018-09-24     1000"
      ]
     },
     "execution_count": 33,
     "metadata": {},
     "output_type": "execute_result"
    }
   ],
   "source": [
    "internet.head()"
   ]
  },
  {
   "cell_type": "markdown",
   "metadata": {},
   "source": [
    "Remove the column that duplicates the indexes of the records as completely uninformative"
   ]
  },
  {
   "cell_type": "code",
   "execution_count": 34,
   "metadata": {},
   "outputs": [],
   "source": [
    "internet = internet.drop('Unnamed: 0', axis = 1)"
   ]
  },
  {
   "cell_type": "code",
   "execution_count": 35,
   "metadata": {},
   "outputs": [],
   "source": [
    "internet['session_date'] = pd.to_datetime(internet['session_date'], format = '%Y-%m-%d')"
   ]
  },
  {
   "cell_type": "code",
   "execution_count": 36,
   "metadata": {},
   "outputs": [
    {
     "data": {
      "text/plain": [
       "count                  149396\n",
       "unique                    365\n",
       "top       2018-12-31 00:00:00\n",
       "freq                     1057\n",
       "first     2018-01-01 00:00:00\n",
       "last      2018-12-31 00:00:00\n",
       "Name: session_date, dtype: object"
      ]
     },
     "execution_count": 36,
     "metadata": {},
     "output_type": "execute_result"
    }
   ],
   "source": [
    "internet['session_date'].describe()"
   ]
  },
  {
   "cell_type": "code",
   "execution_count": 37,
   "metadata": {
    "scrolled": true
   },
   "outputs": [
    {
     "data": {
      "text/plain": [
       "count    149396.000000\n",
       "mean        370.192426\n",
       "std         278.300951\n",
       "min           0.000000\n",
       "25%         138.187500\n",
       "50%         348.015000\n",
       "75%         559.552500\n",
       "max        1724.830000\n",
       "Name: mb_used, dtype: float64"
      ]
     },
     "execution_count": 37,
     "metadata": {},
     "output_type": "execute_result"
    }
   ],
   "source": [
    "internet['mb_used'].describe()"
   ]
  },
  {
   "cell_type": "code",
   "execution_count": 38,
   "metadata": {},
   "outputs": [
    {
     "data": {
      "image/png": "[encoded data removed]",
      "text/plain": [
       "<Figure size 432x288 with 1 Axes>"
      ]
     },
     "metadata": {
      "needs_background": "light"
     },
     "output_type": "display_data"
    }
   ],
   "source": [
    "internet['mb_used'].hist();"
   ]
  },
  {
   "cell_type": "markdown",
   "metadata": {},
   "source": [
    "**Conclusion**\n",
    "no anomalies found in the data:\n",
    "- dates of using Internet traffic are limited to 2018\n",
    "- on average, users use 350 MB of traffic per session, although there are also very heavy sessions - over 1 GB of traffic spent - it will be considered that someone watched a video in HD, in a very high and good quality format\n",
    "- removed column Unnamed: 0 as uninformative\n",
    "- session_date column cast to datetime type"
   ]
  },
  {
   "cell_type": "markdown",
   "metadata": {},
   "source": [
    "#### Internet traffic consumed by months"
   ]
  },
  {
   "cell_type": "code",
   "execution_count": 39,
   "metadata": {},
   "outputs": [],
   "source": [
    "internet['month'] = internet['session_date'].dt.month"
   ]
  },
  {
   "cell_type": "code",
   "execution_count": 40,
   "metadata": {},
   "outputs": [],
   "source": [
    "users_internet_by_month = internet.groupby(['month', 'user_id'])['mb_used'].sum().reset_index()"
   ]
  },
  {
   "cell_type": "code",
   "execution_count": 41,
   "metadata": {},
   "outputs": [
    {
     "data": {
      "text/html": [
       "<div>\n",
       "<style scoped>\n",
       "    .dataframe tbody tr th:only-of-type {\n",
       "        vertical-align: middle;\n",
       "    }\n",
       "\n",
       "    .dataframe tbody tr th {\n",
       "        vertical-align: top;\n",
       "    }\n",
       "\n",
       "    .dataframe thead th {\n",
       "        text-align: right;\n",
       "    }\n",
       "</style>\n",
       "<table border=\"1\" class=\"dataframe\">\n",
       "  <thead>\n",
       "    <tr style=\"text-align: right;\">\n",
       "      <th></th>\n",
       "      <th>month</th>\n",
       "      <th>user_id</th>\n",
       "      <th>mb_used</th>\n",
       "    </tr>\n",
       "  </thead>\n",
       "  <tbody>\n",
       "    <tr>\n",
       "      <td>0</td>\n",
       "      <td>1</td>\n",
       "      <td>1005</td>\n",
       "      <td>2727.97</td>\n",
       "    </tr>\n",
       "    <tr>\n",
       "      <td>1</td>\n",
       "      <td>1</td>\n",
       "      <td>1032</td>\n",
       "      <td>24127.69</td>\n",
       "    </tr>\n",
       "    <tr>\n",
       "      <td>2</td>\n",
       "      <td>1</td>\n",
       "      <td>1045</td>\n",
       "      <td>2346.71</td>\n",
       "    </tr>\n",
       "    <tr>\n",
       "      <td>3</td>\n",
       "      <td>1</td>\n",
       "      <td>1055</td>\n",
       "      <td>17090.88</td>\n",
       "    </tr>\n",
       "    <tr>\n",
       "      <td>4</td>\n",
       "      <td>1</td>\n",
       "      <td>1071</td>\n",
       "      <td>15604.34</td>\n",
       "    </tr>\n",
       "  </tbody>\n",
       "</table>\n",
       "</div>"
      ],
      "text/plain": [
       "   month  user_id   mb_used\n",
       "0      1     1005   2727.97\n",
       "1      1     1032  24127.69\n",
       "2      1     1045   2346.71\n",
       "3      1     1055  17090.88\n",
       "4      1     1071  15604.34"
      ]
     },
     "execution_count": 41,
     "metadata": {},
     "output_type": "execute_result"
    }
   ],
   "source": [
    "users_internet_by_month.head()"
   ]
  },
  {
   "cell_type": "markdown",
   "metadata": {},
   "source": [
    "Since it says that the amount of MB is rounded up to GB at the end of the month, we will correct the mb_used column"
   ]
  },
  {
   "cell_type": "code",
   "execution_count": 42,
   "metadata": {},
   "outputs": [],
   "source": [
    "#users_internet_by_month['mb_used'] = users_internet_by_month['mb_used'].apply(lambda x: math.ceil(x/1024))\n",
    "users_internet_by_month['mb_used'] = np.ceil(users_internet_by_month['mb_used']/1024)"
   ]
  },
  {
   "cell_type": "code",
   "execution_count": 43,
   "metadata": {},
   "outputs": [],
   "source": [
    "users_internet_by_month = users_internet_by_month.rename(columns= {'mb_used':'gb_used'})"
   ]
  },
  {
   "cell_type": "code",
   "execution_count": 44,
   "metadata": {},
   "outputs": [
    {
     "data": {
      "text/html": [
       "<div>\n",
       "<style scoped>\n",
       "    .dataframe tbody tr th:only-of-type {\n",
       "        vertical-align: middle;\n",
       "    }\n",
       "\n",
       "    .dataframe tbody tr th {\n",
       "        vertical-align: top;\n",
       "    }\n",
       "\n",
       "    .dataframe thead th {\n",
       "        text-align: right;\n",
       "    }\n",
       "</style>\n",
       "<table border=\"1\" class=\"dataframe\">\n",
       "  <thead>\n",
       "    <tr style=\"text-align: right;\">\n",
       "      <th></th>\n",
       "      <th>month</th>\n",
       "      <th>user_id</th>\n",
       "      <th>gb_used</th>\n",
       "    </tr>\n",
       "  </thead>\n",
       "  <tbody>\n",
       "    <tr>\n",
       "      <td>0</td>\n",
       "      <td>1</td>\n",
       "      <td>1005</td>\n",
       "      <td>3.0</td>\n",
       "    </tr>\n",
       "    <tr>\n",
       "      <td>1</td>\n",
       "      <td>1</td>\n",
       "      <td>1032</td>\n",
       "      <td>24.0</td>\n",
       "    </tr>\n",
       "    <tr>\n",
       "      <td>2</td>\n",
       "      <td>1</td>\n",
       "      <td>1045</td>\n",
       "      <td>3.0</td>\n",
       "    </tr>\n",
       "    <tr>\n",
       "      <td>3</td>\n",
       "      <td>1</td>\n",
       "      <td>1055</td>\n",
       "      <td>17.0</td>\n",
       "    </tr>\n",
       "    <tr>\n",
       "      <td>4</td>\n",
       "      <td>1</td>\n",
       "      <td>1071</td>\n",
       "      <td>16.0</td>\n",
       "    </tr>\n",
       "  </tbody>\n",
       "</table>\n",
       "</div>"
      ],
      "text/plain": [
       "   month  user_id  gb_used\n",
       "0      1     1005      3.0\n",
       "1      1     1032     24.0\n",
       "2      1     1045      3.0\n",
       "3      1     1055     17.0\n",
       "4      1     1071     16.0"
      ]
     },
     "execution_count": 44,
     "metadata": {},
     "output_type": "execute_result"
    }
   ],
   "source": [
    "users_internet_by_month.head()"
   ]
  },
  {
   "cell_type": "markdown",
   "metadata": {},
   "source": [
    "**Conclusion** we calculated the total use of Internet traffic for each client in each month"
   ]
  },
  {
   "cell_type": "markdown",
   "metadata": {},
   "source": [
    "## Monthly revenue per user"
   ]
  },
  {
   "cell_type": "code",
   "execution_count": 45,
   "metadata": {},
   "outputs": [],
   "source": [
    "revenues = (users_calls_by_month.merge(users_messages_by_month, how = 'outer', on = ['month', 'user_id'])\n",
    "            .merge(users_internet_by_month, how = 'outer', on = ['month', 'user_id'])\n",
    "            .merge(users[['user_id', 'tariff', 'city']], on = 'user_id')\n",
    "            .merge(tariffs, left_on = 'tariff', right_on = 'tariff_name'))"
   ]
  },
  {
   "cell_type": "code",
   "execution_count": 46,
   "metadata": {
    "scrolled": true
   },
   "outputs": [
    {
     "data": {
      "text/html": [
       "<div>\n",
       "<style scoped>\n",
       "    .dataframe tbody tr th:only-of-type {\n",
       "        vertical-align: middle;\n",
       "    }\n",
       "\n",
       "    .dataframe tbody tr th {\n",
       "        vertical-align: top;\n",
       "    }\n",
       "\n",
       "    .dataframe thead th {\n",
       "        text-align: right;\n",
       "    }\n",
       "</style>\n",
       "<table border=\"1\" class=\"dataframe\">\n",
       "  <thead>\n",
       "    <tr style=\"text-align: right;\">\n",
       "      <th></th>\n",
       "      <th>month</th>\n",
       "      <th>user_id</th>\n",
       "      <th>duration</th>\n",
       "      <th>calls_number</th>\n",
       "      <th>messages_number</th>\n",
       "      <th>gb_used</th>\n",
       "      <th>tariff</th>\n",
       "      <th>city</th>\n",
       "      <th>messages_included</th>\n",
       "      <th>mb_per_month_included</th>\n",
       "      <th>minutes_included</th>\n",
       "      <th>rub_monthly_fee</th>\n",
       "      <th>rub_per_gb</th>\n",
       "      <th>rub_per_message</th>\n",
       "      <th>rub_per_minute</th>\n",
       "      <th>tariff_name</th>\n",
       "    </tr>\n",
       "  </thead>\n",
       "  <tbody>\n",
       "    <tr>\n",
       "      <td>0</td>\n",
       "      <td>1</td>\n",
       "      <td>1005</td>\n",
       "      <td>95.0</td>\n",
       "      <td>15.0</td>\n",
       "      <td>7.0</td>\n",
       "      <td>3.0</td>\n",
       "      <td>smart</td>\n",
       "      <td>Набережные Челны</td>\n",
       "      <td>50</td>\n",
       "      <td>15360</td>\n",
       "      <td>500</td>\n",
       "      <td>550</td>\n",
       "      <td>200</td>\n",
       "      <td>3</td>\n",
       "      <td>3</td>\n",
       "      <td>smart</td>\n",
       "    </tr>\n",
       "    <tr>\n",
       "      <td>1</td>\n",
       "      <td>2</td>\n",
       "      <td>1005</td>\n",
       "      <td>456.0</td>\n",
       "      <td>69.0</td>\n",
       "      <td>38.0</td>\n",
       "      <td>8.0</td>\n",
       "      <td>smart</td>\n",
       "      <td>Набережные Челны</td>\n",
       "      <td>50</td>\n",
       "      <td>15360</td>\n",
       "      <td>500</td>\n",
       "      <td>550</td>\n",
       "      <td>200</td>\n",
       "      <td>3</td>\n",
       "      <td>3</td>\n",
       "      <td>smart</td>\n",
       "    </tr>\n",
       "    <tr>\n",
       "      <td>2</td>\n",
       "      <td>3</td>\n",
       "      <td>1005</td>\n",
       "      <td>606.0</td>\n",
       "      <td>77.0</td>\n",
       "      <td>56.0</td>\n",
       "      <td>11.0</td>\n",
       "      <td>smart</td>\n",
       "      <td>Набережные Челны</td>\n",
       "      <td>50</td>\n",
       "      <td>15360</td>\n",
       "      <td>500</td>\n",
       "      <td>550</td>\n",
       "      <td>200</td>\n",
       "      <td>3</td>\n",
       "      <td>3</td>\n",
       "      <td>smart</td>\n",
       "    </tr>\n",
       "    <tr>\n",
       "      <td>3</td>\n",
       "      <td>4</td>\n",
       "      <td>1005</td>\n",
       "      <td>712.0</td>\n",
       "      <td>101.0</td>\n",
       "      <td>41.0</td>\n",
       "      <td>10.0</td>\n",
       "      <td>smart</td>\n",
       "      <td>Набережные Челны</td>\n",
       "      <td>50</td>\n",
       "      <td>15360</td>\n",
       "      <td>500</td>\n",
       "      <td>550</td>\n",
       "      <td>200</td>\n",
       "      <td>3</td>\n",
       "      <td>3</td>\n",
       "      <td>smart</td>\n",
       "    </tr>\n",
       "    <tr>\n",
       "      <td>4</td>\n",
       "      <td>5</td>\n",
       "      <td>1005</td>\n",
       "      <td>595.0</td>\n",
       "      <td>73.0</td>\n",
       "      <td>42.0</td>\n",
       "      <td>8.0</td>\n",
       "      <td>smart</td>\n",
       "      <td>Набережные Челны</td>\n",
       "      <td>50</td>\n",
       "      <td>15360</td>\n",
       "      <td>500</td>\n",
       "      <td>550</td>\n",
       "      <td>200</td>\n",
       "      <td>3</td>\n",
       "      <td>3</td>\n",
       "      <td>smart</td>\n",
       "    </tr>\n",
       "  </tbody>\n",
       "</table>\n",
       "</div>"
      ],
      "text/plain": [
       "   month  user_id  duration  calls_number  messages_number  gb_used tariff  \\\n",
       "0      1     1005      95.0          15.0              7.0      3.0  smart   \n",
       "1      2     1005     456.0          69.0             38.0      8.0  smart   \n",
       "2      3     1005     606.0          77.0             56.0     11.0  smart   \n",
       "3      4     1005     712.0         101.0             41.0     10.0  smart   \n",
       "4      5     1005     595.0          73.0             42.0      8.0  smart   \n",
       "\n",
       "               city  messages_included  mb_per_month_included  \\\n",
       "0  Набережные Челны                 50                  15360   \n",
       "1  Набережные Челны                 50                  15360   \n",
       "2  Набережные Челны                 50                  15360   \n",
       "3  Набережные Челны                 50                  15360   \n",
       "4  Набережные Челны                 50                  15360   \n",
       "\n",
       "   minutes_included  rub_monthly_fee  rub_per_gb  rub_per_message  \\\n",
       "0               500              550         200                3   \n",
       "1               500              550         200                3   \n",
       "2               500              550         200                3   \n",
       "3               500              550         200                3   \n",
       "4               500              550         200                3   \n",
       "\n",
       "   rub_per_minute tariff_name  \n",
       "0               3       smart  \n",
       "1               3       smart  \n",
       "2               3       smart  \n",
       "3               3       smart  \n",
       "4               3       smart  "
      ]
     },
     "execution_count": 46,
     "metadata": {},
     "output_type": "execute_result"
    }
   ],
   "source": [
    "revenues.head()"
   ]
  },
  {
   "cell_type": "markdown",
   "metadata": {},
   "source": [
    "Let's calculate the volume of Internet traffic in GB"
   ]
  },
  {
   "cell_type": "code",
   "execution_count": 47,
   "metadata": {},
   "outputs": [],
   "source": [
    "revenues['mb_per_month_included'] = revenues['mb_per_month_included']/1024"
   ]
  },
  {
   "cell_type": "markdown",
   "metadata": {},
   "source": [
    "Let's calculate the number of minutes of calls, messages and Internet traffic spent over the tariff for each client - if the difference between the real value and the value according to the tariff is negative - the client did not use extra resources - their value = 0"
   ]
  },
  {
   "cell_type": "code",
   "execution_count": 48,
   "metadata": {},
   "outputs": [],
   "source": [
    "revenues['extra_minutes'] = revenues['duration'] - revenues['minutes_included']\n",
    "revenues['extra_minutes'] = revenues['extra_minutes'].apply(lambda x: x if x > 0 else 0)"
   ]
  },
  {
   "cell_type": "code",
   "execution_count": 49,
   "metadata": {},
   "outputs": [],
   "source": [
    "revenues['extra_messages'] = revenues['messages_number'] - revenues['messages_included']\n",
    "revenues['extra_messages'] = revenues['extra_messages'].apply(lambda x: x if x > 0 else 0)"
   ]
  },
  {
   "cell_type": "code",
   "execution_count": 50,
   "metadata": {},
   "outputs": [],
   "source": [
    "revenues['extra_internet'] = revenues['gb_used'] - revenues['mb_per_month_included']\n",
    "revenues['extra_internet'] = revenues['extra_internet'].apply(lambda x: x if x > 0 else 0)"
   ]
  },
  {
   "cell_type": "code",
   "execution_count": 51,
   "metadata": {},
   "outputs": [],
   "source": [
    "revenues['revenue'] = (revenues['rub_monthly_fee'] \n",
    "                       + revenues['extra_minutes']*revenues['rub_per_minute'] \n",
    "                       + revenues['extra_messages']*revenues['rub_per_message'] \n",
    "                       + revenues['extra_internet']*revenues['rub_per_gb'])"
   ]
  },
  {
   "cell_type": "code",
   "execution_count": 52,
   "metadata": {},
   "outputs": [
    {
     "data": {
      "text/html": [
       "<div>\n",
       "<style scoped>\n",
       "    .dataframe tbody tr th:only-of-type {\n",
       "        vertical-align: middle;\n",
       "    }\n",
       "\n",
       "    .dataframe tbody tr th {\n",
       "        vertical-align: top;\n",
       "    }\n",
       "\n",
       "    .dataframe thead th {\n",
       "        text-align: right;\n",
       "    }\n",
       "</style>\n",
       "<table border=\"1\" class=\"dataframe\">\n",
       "  <thead>\n",
       "    <tr style=\"text-align: right;\">\n",
       "      <th></th>\n",
       "      <th>month</th>\n",
       "      <th>user_id</th>\n",
       "      <th>duration</th>\n",
       "      <th>calls_number</th>\n",
       "      <th>messages_number</th>\n",
       "      <th>gb_used</th>\n",
       "      <th>tariff</th>\n",
       "      <th>city</th>\n",
       "      <th>messages_included</th>\n",
       "      <th>mb_per_month_included</th>\n",
       "      <th>minutes_included</th>\n",
       "      <th>rub_monthly_fee</th>\n",
       "      <th>rub_per_gb</th>\n",
       "      <th>rub_per_message</th>\n",
       "      <th>rub_per_minute</th>\n",
       "      <th>tariff_name</th>\n",
       "      <th>extra_minutes</th>\n",
       "      <th>extra_messages</th>\n",
       "      <th>extra_internet</th>\n",
       "      <th>revenue</th>\n",
       "    </tr>\n",
       "  </thead>\n",
       "  <tbody>\n",
       "    <tr>\n",
       "      <td>0</td>\n",
       "      <td>1</td>\n",
       "      <td>1005</td>\n",
       "      <td>95.0</td>\n",
       "      <td>15.0</td>\n",
       "      <td>7.0</td>\n",
       "      <td>3.0</td>\n",
       "      <td>smart</td>\n",
       "      <td>Набережные Челны</td>\n",
       "      <td>50</td>\n",
       "      <td>15.0</td>\n",
       "      <td>500</td>\n",
       "      <td>550</td>\n",
       "      <td>200</td>\n",
       "      <td>3</td>\n",
       "      <td>3</td>\n",
       "      <td>smart</td>\n",
       "      <td>0.0</td>\n",
       "      <td>0.0</td>\n",
       "      <td>0.0</td>\n",
       "      <td>550.0</td>\n",
       "    </tr>\n",
       "    <tr>\n",
       "      <td>1</td>\n",
       "      <td>2</td>\n",
       "      <td>1005</td>\n",
       "      <td>456.0</td>\n",
       "      <td>69.0</td>\n",
       "      <td>38.0</td>\n",
       "      <td>8.0</td>\n",
       "      <td>smart</td>\n",
       "      <td>Набережные Челны</td>\n",
       "      <td>50</td>\n",
       "      <td>15.0</td>\n",
       "      <td>500</td>\n",
       "      <td>550</td>\n",
       "      <td>200</td>\n",
       "      <td>3</td>\n",
       "      <td>3</td>\n",
       "      <td>smart</td>\n",
       "      <td>0.0</td>\n",
       "      <td>0.0</td>\n",
       "      <td>0.0</td>\n",
       "      <td>550.0</td>\n",
       "    </tr>\n",
       "    <tr>\n",
       "      <td>2</td>\n",
       "      <td>3</td>\n",
       "      <td>1005</td>\n",
       "      <td>606.0</td>\n",
       "      <td>77.0</td>\n",
       "      <td>56.0</td>\n",
       "      <td>11.0</td>\n",
       "      <td>smart</td>\n",
       "      <td>Набережные Челны</td>\n",
       "      <td>50</td>\n",
       "      <td>15.0</td>\n",
       "      <td>500</td>\n",
       "      <td>550</td>\n",
       "      <td>200</td>\n",
       "      <td>3</td>\n",
       "      <td>3</td>\n",
       "      <td>smart</td>\n",
       "      <td>106.0</td>\n",
       "      <td>6.0</td>\n",
       "      <td>0.0</td>\n",
       "      <td>886.0</td>\n",
       "    </tr>\n",
       "    <tr>\n",
       "      <td>3</td>\n",
       "      <td>4</td>\n",
       "      <td>1005</td>\n",
       "      <td>712.0</td>\n",
       "      <td>101.0</td>\n",
       "      <td>41.0</td>\n",
       "      <td>10.0</td>\n",
       "      <td>smart</td>\n",
       "      <td>Набережные Челны</td>\n",
       "      <td>50</td>\n",
       "      <td>15.0</td>\n",
       "      <td>500</td>\n",
       "      <td>550</td>\n",
       "      <td>200</td>\n",
       "      <td>3</td>\n",
       "      <td>3</td>\n",
       "      <td>smart</td>\n",
       "      <td>212.0</td>\n",
       "      <td>0.0</td>\n",
       "      <td>0.0</td>\n",
       "      <td>1186.0</td>\n",
       "    </tr>\n",
       "    <tr>\n",
       "      <td>4</td>\n",
       "      <td>5</td>\n",
       "      <td>1005</td>\n",
       "      <td>595.0</td>\n",
       "      <td>73.0</td>\n",
       "      <td>42.0</td>\n",
       "      <td>8.0</td>\n",
       "      <td>smart</td>\n",
       "      <td>Набережные Челны</td>\n",
       "      <td>50</td>\n",
       "      <td>15.0</td>\n",
       "      <td>500</td>\n",
       "      <td>550</td>\n",
       "      <td>200</td>\n",
       "      <td>3</td>\n",
       "      <td>3</td>\n",
       "      <td>smart</td>\n",
       "      <td>95.0</td>\n",
       "      <td>0.0</td>\n",
       "      <td>0.0</td>\n",
       "      <td>835.0</td>\n",
       "    </tr>\n",
       "  </tbody>\n",
       "</table>\n",
       "</div>"
      ],
      "text/plain": [
       "   month  user_id  duration  calls_number  messages_number  gb_used tariff  \\\n",
       "0      1     1005      95.0          15.0              7.0      3.0  smart   \n",
       "1      2     1005     456.0          69.0             38.0      8.0  smart   \n",
       "2      3     1005     606.0          77.0             56.0     11.0  smart   \n",
       "3      4     1005     712.0         101.0             41.0     10.0  smart   \n",
       "4      5     1005     595.0          73.0             42.0      8.0  smart   \n",
       "\n",
       "               city  messages_included  mb_per_month_included  \\\n",
       "0  Набережные Челны                 50                   15.0   \n",
       "1  Набережные Челны                 50                   15.0   \n",
       "2  Набережные Челны                 50                   15.0   \n",
       "3  Набережные Челны                 50                   15.0   \n",
       "4  Набережные Челны                 50                   15.0   \n",
       "\n",
       "   minutes_included  rub_monthly_fee  rub_per_gb  rub_per_message  \\\n",
       "0               500              550         200                3   \n",
       "1               500              550         200                3   \n",
       "2               500              550         200                3   \n",
       "3               500              550         200                3   \n",
       "4               500              550         200                3   \n",
       "\n",
       "   rub_per_minute tariff_name  extra_minutes  extra_messages  extra_internet  \\\n",
       "0               3       smart            0.0             0.0             0.0   \n",
       "1               3       smart            0.0             0.0             0.0   \n",
       "2               3       smart          106.0             6.0             0.0   \n",
       "3               3       smart          212.0             0.0             0.0   \n",
       "4               3       smart           95.0             0.0             0.0   \n",
       "\n",
       "   revenue  \n",
       "0    550.0  \n",
       "1    550.0  \n",
       "2    886.0  \n",
       "3   1186.0  \n",
       "4    835.0  "
      ]
     },
     "execution_count": 52,
     "metadata": {},
     "output_type": "execute_result"
    }
   ],
   "source": [
    "revenues.head()"
   ]
  },
  {
   "cell_type": "markdown",
   "metadata": {},
   "source": [
    "**Conclusion**\n",
    "We calculated the income that the company receives from each client per month, depending on its tariff plan and the use of extra resources"
   ]
  },
  {
   "cell_type": "markdown",
   "metadata": {},
   "source": [
    "## Analysis of the behavior of the operator's clients"
   ]
  },
  {
   "cell_type": "markdown",
   "metadata": {},
   "source": [
    "### Average number of minutes of calls, messages and traffic for users of different tariffs"
   ]
  },
  {
   "cell_type": "code",
   "execution_count": 53,
   "metadata": {
    "scrolled": true
   },
   "outputs": [],
   "source": [
    "mean_resources = revenues.groupby(['tariff'])[['duration', 'messages_number', 'gb_used']].mean()"
   ]
  },
  {
   "cell_type": "code",
   "execution_count": 54,
   "metadata": {
    "scrolled": false
   },
   "outputs": [
    {
     "data": {
      "text/html": [
       "<div>\n",
       "<style scoped>\n",
       "    .dataframe tbody tr th:only-of-type {\n",
       "        vertical-align: middle;\n",
       "    }\n",
       "\n",
       "    .dataframe tbody tr th {\n",
       "        vertical-align: top;\n",
       "    }\n",
       "\n",
       "    .dataframe thead th {\n",
       "        text-align: right;\n",
       "    }\n",
       "</style>\n",
       "<table border=\"1\" class=\"dataframe\">\n",
       "  <thead>\n",
       "    <tr style=\"text-align: right;\">\n",
       "      <th></th>\n",
       "      <th>duration</th>\n",
       "      <th>messages_number</th>\n",
       "      <th>gb_used</th>\n",
       "    </tr>\n",
       "    <tr>\n",
       "      <th>tariff</th>\n",
       "      <th></th>\n",
       "      <th></th>\n",
       "      <th></th>\n",
       "    </tr>\n",
       "  </thead>\n",
       "  <tbody>\n",
       "    <tr>\n",
       "      <td>smart</td>\n",
       "      <td>419.062978</td>\n",
       "      <td>38.716441</td>\n",
       "      <td>16.336176</td>\n",
       "    </tr>\n",
       "    <tr>\n",
       "      <td>ultra</td>\n",
       "      <td>545.451104</td>\n",
       "      <td>61.161006</td>\n",
       "      <td>19.694359</td>\n",
       "    </tr>\n",
       "  </tbody>\n",
       "</table>\n",
       "</div>"
      ],
      "text/plain": [
       "          duration  messages_number    gb_used\n",
       "tariff                                        \n",
       "smart   419.062978        38.716441  16.336176\n",
       "ultra   545.451104        61.161006  19.694359"
      ]
     },
     "execution_count": 54,
     "metadata": {},
     "output_type": "execute_result"
    }
   ],
   "source": [
    "mean_resources"
   ]
  },
  {
   "cell_type": "markdown",
   "metadata": {},
   "source": [
    "### Standard deviation "
   ]
  },
  {
   "cell_type": "code",
   "execution_count": 55,
   "metadata": {},
   "outputs": [],
   "source": [
    "std_resources = revenues.groupby(['tariff'])[['duration', 'messages_number', 'gb_used']].std()"
   ]
  },
  {
   "cell_type": "code",
   "execution_count": 56,
   "metadata": {
    "scrolled": true
   },
   "outputs": [
    {
     "data": {
      "text/html": [
       "<div>\n",
       "<style scoped>\n",
       "    .dataframe tbody tr th:only-of-type {\n",
       "        vertical-align: middle;\n",
       "    }\n",
       "\n",
       "    .dataframe tbody tr th {\n",
       "        vertical-align: top;\n",
       "    }\n",
       "\n",
       "    .dataframe thead th {\n",
       "        text-align: right;\n",
       "    }\n",
       "</style>\n",
       "<table border=\"1\" class=\"dataframe\">\n",
       "  <thead>\n",
       "    <tr style=\"text-align: right;\">\n",
       "      <th></th>\n",
       "      <th>duration</th>\n",
       "      <th>messages_number</th>\n",
       "      <th>gb_used</th>\n",
       "    </tr>\n",
       "    <tr>\n",
       "      <th>tariff</th>\n",
       "      <th></th>\n",
       "      <th></th>\n",
       "      <th></th>\n",
       "    </tr>\n",
       "  </thead>\n",
       "  <tbody>\n",
       "    <tr>\n",
       "      <td>smart</td>\n",
       "      <td>189.325618</td>\n",
       "      <td>26.787949</td>\n",
       "      <td>5.737923</td>\n",
       "    </tr>\n",
       "    <tr>\n",
       "      <td>ultra</td>\n",
       "      <td>306.925754</td>\n",
       "      <td>45.931026</td>\n",
       "      <td>9.702924</td>\n",
       "    </tr>\n",
       "  </tbody>\n",
       "</table>\n",
       "</div>"
      ],
      "text/plain": [
       "          duration  messages_number   gb_used\n",
       "tariff                                       \n",
       "smart   189.325618        26.787949  5.737923\n",
       "ultra   306.925754        45.931026  9.702924"
      ]
     },
     "execution_count": 56,
     "metadata": {},
     "output_type": "execute_result"
    }
   ],
   "source": [
    "std_resources"
   ]
  },
  {
   "cell_type": "markdown",
   "metadata": {},
   "source": [
    "### Variance"
   ]
  },
  {
   "cell_type": "code",
   "execution_count": 57,
   "metadata": {
    "scrolled": true
   },
   "outputs": [
    {
     "data": {
      "text/html": [
       "<div>\n",
       "<style scoped>\n",
       "    .dataframe tbody tr th:only-of-type {\n",
       "        vertical-align: middle;\n",
       "    }\n",
       "\n",
       "    .dataframe tbody tr th {\n",
       "        vertical-align: top;\n",
       "    }\n",
       "\n",
       "    .dataframe thead th {\n",
       "        text-align: right;\n",
       "    }\n",
       "</style>\n",
       "<table border=\"1\" class=\"dataframe\">\n",
       "  <thead>\n",
       "    <tr style=\"text-align: right;\">\n",
       "      <th></th>\n",
       "      <th>duration</th>\n",
       "      <th>messages_number</th>\n",
       "      <th>gb_used</th>\n",
       "    </tr>\n",
       "    <tr>\n",
       "      <th>tariff</th>\n",
       "      <th></th>\n",
       "      <th></th>\n",
       "      <th></th>\n",
       "    </tr>\n",
       "  </thead>\n",
       "  <tbody>\n",
       "    <tr>\n",
       "      <td>smart</td>\n",
       "      <td>35844.189551</td>\n",
       "      <td>717.594201</td>\n",
       "      <td>32.923756</td>\n",
       "    </tr>\n",
       "    <tr>\n",
       "      <td>ultra</td>\n",
       "      <td>94203.418396</td>\n",
       "      <td>2109.659183</td>\n",
       "      <td>94.146734</td>\n",
       "    </tr>\n",
       "  </tbody>\n",
       "</table>\n",
       "</div>"
      ],
      "text/plain": [
       "            duration  messages_number    gb_used\n",
       "tariff                                          \n",
       "smart   35844.189551       717.594201  32.923756\n",
       "ultra   94203.418396      2109.659183  94.146734"
      ]
     },
     "execution_count": 57,
     "metadata": {},
     "output_type": "execute_result"
    }
   ],
   "source": [
    "variance = std_resources*std_resources\n",
    "variance"
   ]
  },
  {
   "cell_type": "markdown",
   "metadata": {},
   "source": [
    "### Frequency density histograms of a continuous variable"
   ]
  },
  {
   "cell_type": "code",
   "execution_count": 58,
   "metadata": {},
   "outputs": [],
   "source": [
    "def draw_hist(column):\n",
    "    sns.distplot(revenues.loc[revenues[column].notna(), : ].query('tariff == \"smart\"')[column])\n",
    "    sns.distplot(revenues.loc[revenues[column].notna(), : ].query('tariff == \"ultra\"')[column])\n",
    "    plt.legend(['Smart', 'Ultra'])\n",
    "    plt.title(f'Distribution {column}')"
   ]
  },
  {
   "cell_type": "code",
   "execution_count": 59,
   "metadata": {
    "scrolled": true
   },
   "outputs": [
    {
     "data": {
      "image/png": "[encoded data removed]",
      "text/plain": [
       "<Figure size 432x288 with 1 Axes>"
      ]
     },
     "metadata": {
      "needs_background": "light"
     },
     "output_type": "display_data"
    }
   ],
   "source": [
    "draw_hist('duration')"
   ]
  },
  {
   "cell_type": "code",
   "execution_count": 60,
   "metadata": {
    "scrolled": true
   },
   "outputs": [
    {
     "data": {
      "image/png": "[encoded data removed]",
      "text/plain": [
       "<Figure size 432x288 with 1 Axes>"
      ]
     },
     "metadata": {
      "needs_background": "light"
     },
     "output_type": "display_data"
    }
   ],
   "source": [
    "draw_hist('messages_number')"
   ]
  },
  {
   "cell_type": "code",
   "execution_count": 61,
   "metadata": {},
   "outputs": [
    {
     "data": {
      "image/png": "[encoded data removed]",
      "text/plain": [
       "<Figure size 432x288 with 1 Axes>"
      ]
     },
     "metadata": {
      "needs_background": "light"
     },
     "output_type": "display_data"
    }
   ],
   "source": [
    "draw_hist('gb_used')"
   ]
  },
  {
   "cell_type": "markdown",
   "metadata": {},
   "source": [
    "**Conclusion**:\n",
    "- users of the Ultra tariff on average use more resources - their calls are longer, the number of messages and consumption of Internet traffic is greater than that of Smart tariff users. The Ultra tariff is used by users who consume more resources, which is why they choose this tariff, which includes more minutes of conversation, messages and Internet traffic than Smart\n",
    "- standard deviations for the duration of calls, the number of messages and Internet traffic of Ultra clients are higher than those of Smart clients - the intervals of resources used are wider - users consume resources in different amounts. The behavior of Ultra tariff users is less uniform\n",
    "- Smart users mostly use up to 700 minutes per month, Ultra - up to 900. Both distributions are slightly skewed to the right, that is, for both tariffs there are users who are very fond of telephone conversations\n",
    "- Smart clients very often send up to 100 messages per month, the distribution for them is also skewed to the right - there are clients that send a lot of messages. For the Ultra tariff, the corresponding indicator is up to 150 messages per month\n",
    "- for Internet traffic - Smart customers consume more often 10-25 GB of Internet traffic - that is, the Internet traffic included in the tariff (15 GB) is clearly not enough for them and they pay extra for each additional GB. Ultra customers consume in their majority from 5 to 35 GBh in the price, they most often have enough 30 GB included in the plan. For both tariffs, distributions are practically not skewed"
   ]
  },
  {
   "cell_type": "markdown",
   "metadata": {},
   "source": [
    "## Testing hypotheses"
   ]
  },
  {
   "cell_type": "markdown",
   "metadata": {},
   "source": [
    "### Hypothesis 1 - the average revenue of users of the Ultra and Smart tariffs are different"
   ]
  },
  {
   "cell_type": "markdown",
   "metadata": {},
   "source": [
    "The following statement is accepted as the null hypothesis:\n",
    "\n",
    "H0 = average revenue of Smart users equals average revenue of Ultra customers\n",
    "\n",
    "As an alternative hypothesis:\n",
    "\n",
    "H1 = average revenues of Smart and Ultra users are not equal"
   ]
  },
  {
   "cell_type": "markdown",
   "metadata": {},
   "source": [
    "Let us calculate the probability of obtaining the mean observed on the sample, provided that the null hypothesis is true. If the probability is large, we cannot reject H0.\n",
    "Set the critical level of statistical significance alpha = 0.01\n",
    "We use the method to test the hypothesis about the equality of the mean of two general populations based on samples taken from them - ttest"
   ]
  },
  {
   "cell_type": "code",
   "execution_count": 62,
   "metadata": {},
   "outputs": [],
   "source": [
    "smart = revenues.query('tariff == \"smart\"')['revenue']"
   ]
  },
  {
   "cell_type": "code",
   "execution_count": 63,
   "metadata": {},
   "outputs": [],
   "source": [
    "ultra = revenues.query('tariff == \"ultra\"')['revenue']"
   ]
  },
  {
   "cell_type": "code",
   "execution_count": 64,
   "metadata": {
    "scrolled": true
   },
   "outputs": [
    {
     "name": "stdout",
     "output_type": "stream",
     "text": [
      "p-значение: 4.2606313931076085e-250\n",
      "Rejecting H0\n"
     ]
    }
   ],
   "source": [
    "alpha =0.01 \n",
    "\n",
    "results = st.ttest_ind(\n",
    "    smart, \n",
    "    ultra, \n",
    "    equal_var = False ) \n",
    "\n",
    "print('p-значение:', results.pvalue)\n",
    "\n",
    "if results.pvalue < alpha:\n",
    "    print(\"Rejecting H0\")\n",
    "else:\n",
    "    print(\"Failed to reject H0\") "
   ]
  },
  {
   "cell_type": "code",
   "execution_count": 65,
   "metadata": {},
   "outputs": [
    {
     "data": {
      "text/plain": [
       "False"
      ]
     },
     "execution_count": 65,
     "metadata": {},
     "output_type": "execute_result"
    }
   ],
   "source": [
    "smart.mean()>ultra.mean()"
   ]
  },
  {
   "cell_type": "markdown",
   "metadata": {},
   "source": [
    "**Conclusion** The average revenue of Ultra tariff users differs from the average revenue of Smart tariff users - the average revenue of Ultra clients is higher than the average revenue of Smart clients."
   ]
  },
  {
   "cell_type": "markdown",
   "metadata": {},
   "source": [
    "### Hypothesis 2 - the average revenue of users from Moscow differs from the revenue of users from other regions"
   ]
  },
  {
   "cell_type": "markdown",
   "metadata": {},
   "source": [
    "The following statement is accepted as the null hypothesis:\n",
    "\n",
    "H0 = the average revenue of users in Moscow is equal to the average revenue of customers in other cities\n",
    "\n",
    "As an alternative hypothesis:\n",
    "\n",
    "H1 = average revenues of users from Moscow and other cities are not equal"
   ]
  },
  {
   "cell_type": "markdown",
   "metadata": {},
   "source": [
    "Let us calculate the probability of obtaining the mean observed on the sample, provided that the null hypothesis is true. If the probability is large, we cannot reject H0.\n",
    "Set the critical level of statistical significance alpha = 0.01\n",
    "We use the method to test the hypothesis about the equality of the mean of two general populations based on samples taken from them - ttest"
   ]
  },
  {
   "cell_type": "code",
   "execution_count": 66,
   "metadata": {},
   "outputs": [],
   "source": [
    "moscow_clients_revenue = revenues.query('city == \"Москва\"')['revenue']"
   ]
  },
  {
   "cell_type": "code",
   "execution_count": 67,
   "metadata": {},
   "outputs": [],
   "source": [
    "other_clients_revenue = revenues.query('city != \"Москва\"')['revenue']"
   ]
  },
  {
   "cell_type": "code",
   "execution_count": 68,
   "metadata": {},
   "outputs": [
    {
     "name": "stdout",
     "output_type": "stream",
     "text": [
      "p-значение: 0.5257376663729298\n",
      "Failed to reject H0\n"
     ]
    }
   ],
   "source": [
    "alpha =0.01 \n",
    "\n",
    "results = st.ttest_ind(\n",
    "    moscow_clients_revenue, \n",
    "    other_clients_revenue, \n",
    "    equal_var = False ) \n",
    "\n",
    "print('p-значение:', results.pvalue)\n",
    "\n",
    "if results.pvalue < alpha:\n",
    "    print(\"Rejecting H0\")\n",
    "else:\n",
    "    print(\"Failed to reject H0\") "
   ]
  },
  {
   "cell_type": "markdown",
   "metadata": {},
   "source": [
    "**Conclusion** We cannot be sure that the average revenue of customers in Moscow is not equal to the average revenue of customers in the regions"
   ]
  },
  {
   "cell_type": "markdown",
   "metadata": {},
   "source": [
    "## Conclusion"
   ]
  },
  {
   "cell_type": "markdown",
   "metadata": {},
   "source": [
    "We need to attract users to use the Ultra tariff - it has been proven that the average revenue from clients of this tariff is different from the average revenue of Smart tariff clients and it is higher. Ultra customers bring more money to the company\n",
    "\n",
    "At the same time, there is no evidence that customers from Moscow bring in more money than customers from the regions - a campaign to attract customers to use the Ultra tariff should be carried out not only in the capital, but also in the regions\n",
    "\n",
    "Taking into account the fact that the Ultra tariff is used by customers with a higher consumption of resources (call duration, number of messages and Internet traffic) than Smart customers, the target category of potential customers is people involved in constant communication through calls and messages and actively using mobile Internet"
   ]
  }
 ],
 "metadata": {
  "ExecuteTimeLog": [
   {
    "duration": 445,
    "start_time": "2022-07-16T12:51:26.958Z"
   },
   {
    "duration": 55,
    "start_time": "2022-07-16T12:55:20.246Z"
   },
   {
    "duration": 105,
    "start_time": "2022-07-16T12:55:34.628Z"
   },
   {
    "duration": 23,
    "start_time": "2022-07-16T12:55:55.961Z"
   },
   {
    "duration": 4,
    "start_time": "2022-07-16T12:56:07.296Z"
   },
   {
    "duration": 11,
    "start_time": "2022-07-16T12:56:13.258Z"
   },
   {
    "duration": 1000,
    "start_time": "2022-07-16T12:56:43.437Z"
   },
   {
    "duration": 4,
    "start_time": "2022-07-16T12:57:01.891Z"
   },
   {
    "duration": 3,
    "start_time": "2022-07-16T12:58:27.650Z"
   },
   {
    "duration": 16,
    "start_time": "2022-07-16T12:58:36.309Z"
   },
   {
    "duration": 33,
    "start_time": "2022-07-16T12:59:10.093Z"
   },
   {
    "duration": 5,
    "start_time": "2022-07-16T12:59:34.483Z"
   },
   {
    "duration": 8,
    "start_time": "2022-07-16T12:59:47.787Z"
   },
   {
    "duration": 151,
    "start_time": "2022-07-16T13:00:08.129Z"
   },
   {
    "duration": 727,
    "start_time": "2022-07-16T13:01:36.435Z"
   },
   {
    "duration": 70,
    "start_time": "2022-07-16T13:01:57.209Z"
   },
   {
    "duration": 688,
    "start_time": "2022-07-16T13:03:55.152Z"
   },
   {
    "duration": 777,
    "start_time": "2022-07-16T13:04:10.404Z"
   },
   {
    "duration": 6,
    "start_time": "2022-07-16T13:05:02.154Z"
   },
   {
    "duration": 623,
    "start_time": "2022-07-16T13:05:02.708Z"
   },
   {
    "duration": 9,
    "start_time": "2022-07-16T13:06:40.457Z"
   },
   {
    "duration": 699,
    "start_time": "2022-07-16T13:06:41.006Z"
   },
   {
    "duration": 12,
    "start_time": "2022-07-16T13:07:59.247Z"
   },
   {
    "duration": 3,
    "start_time": "2022-07-16T13:19:08.845Z"
   },
   {
    "duration": 471,
    "start_time": "2022-07-16T13:19:09.356Z"
   },
   {
    "duration": 3,
    "start_time": "2022-07-16T13:19:09.906Z"
   },
   {
    "duration": 18,
    "start_time": "2022-07-16T13:19:10.555Z"
   },
   {
    "duration": 6,
    "start_time": "2022-07-16T13:19:11.078Z"
   },
   {
    "duration": 717,
    "start_time": "2022-07-16T13:19:11.677Z"
   },
   {
    "duration": 18,
    "start_time": "2022-07-16T13:19:12.915Z"
   },
   {
    "duration": 17,
    "start_time": "2022-07-16T13:20:14.555Z"
   },
   {
    "duration": 14,
    "start_time": "2022-07-16T13:20:30.301Z"
   },
   {
    "duration": 10,
    "start_time": "2022-07-16T13:20:46.974Z"
   },
   {
    "duration": 9,
    "start_time": "2022-07-16T13:21:13.674Z"
   },
   {
    "duration": 6,
    "start_time": "2022-07-16T13:21:29.265Z"
   },
   {
    "duration": 8,
    "start_time": "2022-07-16T13:21:54.490Z"
   },
   {
    "duration": 7,
    "start_time": "2022-07-16T13:22:03.659Z"
   },
   {
    "duration": 8,
    "start_time": "2022-07-16T13:22:25.372Z"
   },
   {
    "duration": 6,
    "start_time": "2022-07-16T13:22:31.900Z"
   },
   {
    "duration": 8,
    "start_time": "2022-07-16T13:23:40.054Z"
   },
   {
    "duration": 11,
    "start_time": "2022-07-16T13:23:44.683Z"
   },
   {
    "duration": 5,
    "start_time": "2022-07-16T13:24:22.909Z"
   },
   {
    "duration": 5,
    "start_time": "2022-07-16T13:25:36.005Z"
   },
   {
    "duration": 11,
    "start_time": "2022-07-16T13:25:45.562Z"
   },
   {
    "duration": 9,
    "start_time": "2022-07-16T13:26:23.411Z"
   },
   {
    "duration": 18,
    "start_time": "2022-07-16T13:30:10.455Z"
   },
   {
    "duration": 4,
    "start_time": "2022-07-16T13:30:36.155Z"
   },
   {
    "duration": 5,
    "start_time": "2022-07-16T13:30:49.985Z"
   },
   {
    "duration": 17,
    "start_time": "2022-07-16T13:31:05.616Z"
   },
   {
    "duration": 16,
    "start_time": "2022-07-16T13:31:18.875Z"
   },
   {
    "duration": 7,
    "start_time": "2022-07-16T13:31:47.610Z"
   },
   {
    "duration": 5,
    "start_time": "2022-07-16T13:32:51.578Z"
   },
   {
    "duration": 7,
    "start_time": "2022-07-16T13:32:53.024Z"
   },
   {
    "duration": 4,
    "start_time": "2022-07-16T13:33:52.613Z"
   },
   {
    "duration": 12,
    "start_time": "2022-07-16T13:35:04.767Z"
   },
   {
    "duration": 17,
    "start_time": "2022-07-16T13:35:35.965Z"
   },
   {
    "duration": 5,
    "start_time": "2022-07-16T13:36:30.817Z"
   },
   {
    "duration": 8,
    "start_time": "2022-07-16T13:36:35.576Z"
   },
   {
    "duration": 16,
    "start_time": "2022-07-16T13:36:36.608Z"
   },
   {
    "duration": 30,
    "start_time": "2022-07-16T13:38:13.002Z"
   },
   {
    "duration": 12,
    "start_time": "2022-07-16T13:38:24.873Z"
   },
   {
    "duration": 14,
    "start_time": "2022-07-16T13:38:36.068Z"
   },
   {
    "duration": 27,
    "start_time": "2022-07-16T13:39:07.674Z"
   },
   {
    "duration": 24,
    "start_time": "2022-07-16T13:39:31.889Z"
   },
   {
    "duration": 13,
    "start_time": "2022-07-16T13:40:04.453Z"
   },
   {
    "duration": 11,
    "start_time": "2022-07-16T13:42:29.598Z"
   },
   {
    "duration": 16,
    "start_time": "2022-07-16T13:42:33.911Z"
   },
   {
    "duration": 9,
    "start_time": "2022-07-16T13:45:39.096Z"
   },
   {
    "duration": 23,
    "start_time": "2022-07-16T13:46:13.655Z"
   },
   {
    "duration": 7,
    "start_time": "2022-07-16T13:46:32.421Z"
   },
   {
    "duration": 19,
    "start_time": "2022-07-16T13:47:00.222Z"
   },
   {
    "duration": 727,
    "start_time": "2022-07-16T13:47:30.826Z"
   },
   {
    "duration": 17,
    "start_time": "2022-07-16T13:49:29.749Z"
   },
   {
    "duration": 12,
    "start_time": "2022-07-16T13:50:45.071Z"
   },
   {
    "duration": 13,
    "start_time": "2022-07-16T13:53:23.981Z"
   },
   {
    "duration": 11,
    "start_time": "2022-07-16T13:54:02.052Z"
   },
   {
    "duration": 11,
    "start_time": "2022-07-16T13:54:07.568Z"
   },
   {
    "duration": 8,
    "start_time": "2022-07-16T13:54:44.947Z"
   },
   {
    "duration": 23,
    "start_time": "2022-07-16T13:55:59.399Z"
   },
   {
    "duration": 12,
    "start_time": "2022-07-16T13:56:20.896Z"
   },
   {
    "duration": 16,
    "start_time": "2022-07-16T13:56:50.747Z"
   },
   {
    "duration": 6,
    "start_time": "2022-07-16T14:01:05.764Z"
   },
   {
    "duration": 161,
    "start_time": "2022-07-16T14:01:10.329Z"
   },
   {
    "duration": 8,
    "start_time": "2022-07-16T14:08:19.899Z"
   },
   {
    "duration": 12,
    "start_time": "2022-07-16T14:11:25.902Z"
   },
   {
    "duration": 23,
    "start_time": "2022-07-16T14:12:15.806Z"
   },
   {
    "duration": 13,
    "start_time": "2022-07-16T14:12:21.205Z"
   },
   {
    "duration": 42,
    "start_time": "2022-07-16T14:13:21.345Z"
   },
   {
    "duration": 36,
    "start_time": "2022-07-16T14:15:26.888Z"
   },
   {
    "duration": 27,
    "start_time": "2022-07-16T14:15:40.813Z"
   },
   {
    "duration": 34,
    "start_time": "2022-07-16T14:15:59.042Z"
   },
   {
    "duration": 6,
    "start_time": "2022-07-16T14:16:04.373Z"
   },
   {
    "duration": 2,
    "start_time": "2022-07-16T14:16:24.020Z"
   },
   {
    "duration": 14,
    "start_time": "2022-07-16T14:16:33.112Z"
   },
   {
    "duration": 201,
    "start_time": "2022-07-16T14:23:48.795Z"
   },
   {
    "duration": 210,
    "start_time": "2022-07-16T14:23:58.877Z"
   },
   {
    "duration": 4,
    "start_time": "2022-07-16T14:24:33.670Z"
   },
   {
    "duration": 75,
    "start_time": "2022-07-16T14:24:54.441Z"
   },
   {
    "duration": 6,
    "start_time": "2022-07-16T14:25:02.899Z"
   },
   {
    "duration": 103,
    "start_time": "2022-07-16T14:25:10.620Z"
   },
   {
    "duration": 3,
    "start_time": "2022-07-16T14:25:11.602Z"
   },
   {
    "duration": 12,
    "start_time": "2022-07-16T14:25:12.516Z"
   },
   {
    "duration": 11,
    "start_time": "2022-07-16T14:25:31.172Z"
   },
   {
    "duration": 14,
    "start_time": "2022-07-16T14:28:37.833Z"
   },
   {
    "duration": 19,
    "start_time": "2022-07-16T14:29:28.951Z"
   },
   {
    "duration": 12,
    "start_time": "2022-07-16T14:29:36.956Z"
   },
   {
    "duration": 4,
    "start_time": "2022-07-16T14:30:10.175Z"
   },
   {
    "duration": 8,
    "start_time": "2022-07-16T14:30:20.418Z"
   },
   {
    "duration": 12,
    "start_time": "2022-07-16T14:32:21.340Z"
   },
   {
    "duration": 16,
    "start_time": "2022-07-16T14:32:46.943Z"
   },
   {
    "duration": 12,
    "start_time": "2022-07-16T14:33:41.789Z"
   },
   {
    "duration": 22,
    "start_time": "2022-07-16T14:34:08.798Z"
   },
   {
    "duration": 26,
    "start_time": "2022-07-16T14:34:15.693Z"
   },
   {
    "duration": 18,
    "start_time": "2022-07-16T14:35:06.868Z"
   },
   {
    "duration": 10,
    "start_time": "2022-07-16T14:35:19.881Z"
   },
   {
    "duration": 6,
    "start_time": "2022-07-16T14:37:00.559Z"
   },
   {
    "duration": 10,
    "start_time": "2022-07-16T14:37:07.881Z"
   },
   {
    "duration": 57,
    "start_time": "2022-07-16T14:38:18.107Z"
   },
   {
    "duration": 3,
    "start_time": "2022-07-16T14:38:28.757Z"
   },
   {
    "duration": 7,
    "start_time": "2022-07-16T14:38:38.890Z"
   },
   {
    "duration": 22,
    "start_time": "2022-07-16T14:42:00.008Z"
   },
   {
    "duration": 47,
    "start_time": "2022-07-16T14:42:54.918Z"
   },
   {
    "duration": 20,
    "start_time": "2022-07-16T14:43:05.119Z"
   },
   {
    "duration": 28,
    "start_time": "2022-07-16T14:44:19.235Z"
   },
   {
    "duration": 15,
    "start_time": "2022-07-16T14:44:26.877Z"
   },
   {
    "duration": 17,
    "start_time": "2022-07-16T14:44:31.839Z"
   },
   {
    "duration": 15,
    "start_time": "2022-07-16T14:44:40.903Z"
   },
   {
    "duration": 18,
    "start_time": "2022-07-16T14:44:49.093Z"
   },
   {
    "duration": 8,
    "start_time": "2022-07-16T14:44:58.148Z"
   },
   {
    "duration": 13,
    "start_time": "2022-07-16T14:45:11.875Z"
   },
   {
    "duration": 9,
    "start_time": "2022-07-16T14:45:28.452Z"
   },
   {
    "duration": 13,
    "start_time": "2022-07-16T14:45:32.343Z"
   },
   {
    "duration": 10,
    "start_time": "2022-07-16T14:45:39.285Z"
   },
   {
    "duration": 15,
    "start_time": "2022-07-16T14:45:42.472Z"
   },
   {
    "duration": 10,
    "start_time": "2022-07-16T14:45:45.452Z"
   },
   {
    "duration": 34,
    "start_time": "2022-07-16T14:46:43.733Z"
   },
   {
    "duration": 28,
    "start_time": "2022-07-16T14:47:15.756Z"
   },
   {
    "duration": 28,
    "start_time": "2022-07-16T14:47:29.262Z"
   },
   {
    "duration": 8,
    "start_time": "2022-07-16T14:48:47.153Z"
   },
   {
    "duration": 32,
    "start_time": "2022-07-16T14:49:50.960Z"
   },
   {
    "duration": 9,
    "start_time": "2022-07-16T14:50:37.564Z"
   },
   {
    "duration": 18,
    "start_time": "2022-07-16T14:50:47.387Z"
   },
   {
    "duration": 22,
    "start_time": "2022-07-16T14:50:55.334Z"
   },
   {
    "duration": 4,
    "start_time": "2022-07-16T14:51:22.851Z"
   },
   {
    "duration": 32,
    "start_time": "2022-07-16T14:51:27.556Z"
   },
   {
    "duration": 5,
    "start_time": "2022-07-16T14:52:18.452Z"
   },
   {
    "duration": 60,
    "start_time": "2022-07-16T14:52:30.043Z"
   },
   {
    "duration": 3,
    "start_time": "2022-07-16T14:52:35.273Z"
   },
   {
    "duration": 28,
    "start_time": "2022-07-16T14:52:40.794Z"
   },
   {
    "duration": 5,
    "start_time": "2022-07-16T14:53:50.082Z"
   },
   {
    "duration": 26,
    "start_time": "2022-07-16T14:53:58.553Z"
   },
   {
    "duration": 8,
    "start_time": "2022-07-16T14:55:23.408Z"
   },
   {
    "duration": 4,
    "start_time": "2022-07-16T14:55:30.017Z"
   },
   {
    "duration": 6,
    "start_time": "2022-07-16T14:56:01.453Z"
   },
   {
    "duration": 40,
    "start_time": "2022-07-16T14:56:06.209Z"
   },
   {
    "duration": 5,
    "start_time": "2022-07-16T14:57:27.787Z"
   },
   {
    "duration": 5,
    "start_time": "2022-07-16T14:57:44.489Z"
   },
   {
    "duration": 26,
    "start_time": "2022-07-16T14:57:47.607Z"
   },
   {
    "duration": 7,
    "start_time": "2022-07-16T14:58:20.219Z"
   },
   {
    "duration": 27,
    "start_time": "2022-07-16T14:58:27.485Z"
   },
   {
    "duration": 8,
    "start_time": "2022-07-16T15:00:28.048Z"
   },
   {
    "duration": 41,
    "start_time": "2022-07-16T15:00:36.187Z"
   },
   {
    "duration": 6,
    "start_time": "2022-07-16T15:03:33.816Z"
   },
   {
    "duration": 30,
    "start_time": "2022-07-16T15:03:50.286Z"
   },
   {
    "duration": 22,
    "start_time": "2022-07-16T15:06:27.615Z"
   },
   {
    "duration": 26,
    "start_time": "2022-07-16T15:06:31.981Z"
   },
   {
    "duration": 4,
    "start_time": "2022-07-16T15:06:38.136Z"
   },
   {
    "duration": 30,
    "start_time": "2022-07-16T15:06:43.262Z"
   },
   {
    "duration": 4,
    "start_time": "2022-07-16T15:07:26.607Z"
   },
   {
    "duration": 24,
    "start_time": "2022-07-16T15:07:35.028Z"
   },
   {
    "duration": 10,
    "start_time": "2022-07-16T15:08:02.360Z"
   },
   {
    "duration": 9,
    "start_time": "2022-07-16T15:08:03.871Z"
   },
   {
    "duration": 999,
    "start_time": "2022-07-16T15:08:04.241Z"
   },
   {
    "duration": 0,
    "start_time": "2022-07-16T15:08:05.242Z"
   },
   {
    "duration": 17,
    "start_time": "2022-07-16T15:08:19.374Z"
   },
   {
    "duration": 26,
    "start_time": "2022-07-16T15:08:19.748Z"
   },
   {
    "duration": 4,
    "start_time": "2022-07-16T15:08:20.156Z"
   },
   {
    "duration": 24,
    "start_time": "2022-07-16T15:08:20.612Z"
   },
   {
    "duration": 4,
    "start_time": "2022-07-16T15:08:21.080Z"
   },
   {
    "duration": 5,
    "start_time": "2022-07-16T15:08:21.512Z"
   },
   {
    "duration": 4,
    "start_time": "2022-07-16T15:08:21.956Z"
   },
   {
    "duration": 8,
    "start_time": "2022-07-16T15:08:22.356Z"
   },
   {
    "duration": 4,
    "start_time": "2022-07-16T15:08:22.789Z"
   },
   {
    "duration": 29,
    "start_time": "2022-07-16T15:08:23.252Z"
   },
   {
    "duration": 5,
    "start_time": "2022-07-16T15:08:23.740Z"
   },
   {
    "duration": 9,
    "start_time": "2022-07-16T15:08:24.775Z"
   },
   {
    "duration": 7,
    "start_time": "2022-07-16T15:08:25.285Z"
   },
   {
    "duration": 43,
    "start_time": "2022-07-16T15:08:26.208Z"
   },
   {
    "duration": 10,
    "start_time": "2022-07-16T15:09:54.056Z"
   },
   {
    "duration": 7,
    "start_time": "2022-07-16T15:10:02.243Z"
   },
   {
    "duration": 28,
    "start_time": "2022-07-16T15:10:09.212Z"
   },
   {
    "duration": 25,
    "start_time": "2022-07-16T15:11:03.956Z"
   },
   {
    "duration": 359,
    "start_time": "2022-07-16T15:11:54.012Z"
   },
   {
    "duration": 408,
    "start_time": "2022-07-16T15:11:54.373Z"
   },
   {
    "duration": 2,
    "start_time": "2022-07-16T15:11:54.783Z"
   },
   {
    "duration": 19,
    "start_time": "2022-07-16T15:11:54.787Z"
   },
   {
    "duration": 5,
    "start_time": "2022-07-16T15:11:54.808Z"
   },
   {
    "duration": 645,
    "start_time": "2022-07-16T15:11:54.815Z"
   },
   {
    "duration": 12,
    "start_time": "2022-07-16T15:11:55.462Z"
   },
   {
    "duration": 11,
    "start_time": "2022-07-16T15:11:55.475Z"
   },
   {
    "duration": 9,
    "start_time": "2022-07-16T15:11:55.487Z"
   },
   {
    "duration": 7,
    "start_time": "2022-07-16T15:11:55.498Z"
   },
   {
    "duration": 7,
    "start_time": "2022-07-16T15:11:55.507Z"
   },
   {
    "duration": 5,
    "start_time": "2022-07-16T15:11:55.516Z"
   },
   {
    "duration": 42,
    "start_time": "2022-07-16T15:11:55.523Z"
   },
   {
    "duration": 6,
    "start_time": "2022-07-16T15:11:55.568Z"
   },
   {
    "duration": 13,
    "start_time": "2022-07-16T15:11:55.576Z"
   },
   {
    "duration": 8,
    "start_time": "2022-07-16T15:11:55.591Z"
   },
   {
    "duration": 11,
    "start_time": "2022-07-16T15:11:55.601Z"
   },
   {
    "duration": 19,
    "start_time": "2022-07-16T15:11:55.614Z"
   },
   {
    "duration": 51,
    "start_time": "2022-07-16T15:11:55.634Z"
   },
   {
    "duration": 12,
    "start_time": "2022-07-16T15:11:55.687Z"
   },
   {
    "duration": 14,
    "start_time": "2022-07-16T15:11:55.701Z"
   },
   {
    "duration": 46,
    "start_time": "2022-07-16T15:11:55.717Z"
   },
   {
    "duration": 72,
    "start_time": "2022-07-16T15:11:55.764Z"
   },
   {
    "duration": 40,
    "start_time": "2022-07-16T15:11:55.837Z"
   },
   {
    "duration": 3,
    "start_time": "2022-07-16T15:11:55.879Z"
   },
   {
    "duration": 9,
    "start_time": "2022-07-16T15:11:55.883Z"
   },
   {
    "duration": 9,
    "start_time": "2022-07-16T15:11:55.893Z"
   },
   {
    "duration": 18,
    "start_time": "2022-07-16T15:11:55.906Z"
   },
   {
    "duration": 9,
    "start_time": "2022-07-16T15:11:55.926Z"
   },
   {
    "duration": 35,
    "start_time": "2022-07-16T15:11:55.936Z"
   },
   {
    "duration": 14,
    "start_time": "2022-07-16T15:11:55.972Z"
   },
   {
    "duration": 16,
    "start_time": "2022-07-16T15:11:55.988Z"
   },
   {
    "duration": 2,
    "start_time": "2022-07-16T15:11:56.006Z"
   },
   {
    "duration": 9,
    "start_time": "2022-07-16T15:11:56.010Z"
   },
   {
    "duration": 9,
    "start_time": "2022-07-16T15:11:56.020Z"
   },
   {
    "duration": 35,
    "start_time": "2022-07-16T15:11:56.030Z"
   },
   {
    "duration": 25,
    "start_time": "2022-07-16T15:11:56.067Z"
   },
   {
    "duration": 11,
    "start_time": "2022-07-16T15:11:56.093Z"
   },
   {
    "duration": 14,
    "start_time": "2022-07-16T15:11:56.105Z"
   },
   {
    "duration": 454,
    "start_time": "2022-07-16T15:11:56.120Z"
   },
   {
    "duration": 16,
    "start_time": "2022-07-16T15:11:56.576Z"
   },
   {
    "duration": 13,
    "start_time": "2022-07-16T15:11:56.594Z"
   },
   {
    "duration": 20,
    "start_time": "2022-07-16T15:11:56.608Z"
   },
   {
    "duration": 7,
    "start_time": "2022-07-16T15:11:56.630Z"
   },
   {
    "duration": 5,
    "start_time": "2022-07-16T15:11:56.660Z"
   },
   {
    "duration": 6,
    "start_time": "2022-07-16T15:11:56.666Z"
   },
   {
    "duration": 77,
    "start_time": "2022-07-16T15:11:56.673Z"
   },
   {
    "duration": 0,
    "start_time": "2022-07-16T15:11:56.760Z"
   },
   {
    "duration": 0,
    "start_time": "2022-07-16T15:11:56.762Z"
   },
   {
    "duration": 0,
    "start_time": "2022-07-16T15:11:56.763Z"
   },
   {
    "duration": 0,
    "start_time": "2022-07-16T15:11:56.765Z"
   },
   {
    "duration": 0,
    "start_time": "2022-07-16T15:11:56.766Z"
   },
   {
    "duration": 0,
    "start_time": "2022-07-16T15:11:56.766Z"
   },
   {
    "duration": 0,
    "start_time": "2022-07-16T15:11:56.767Z"
   },
   {
    "duration": 0,
    "start_time": "2022-07-16T15:11:56.768Z"
   },
   {
    "duration": 0,
    "start_time": "2022-07-16T15:11:56.769Z"
   },
   {
    "duration": 0,
    "start_time": "2022-07-16T15:11:56.770Z"
   },
   {
    "duration": 0,
    "start_time": "2022-07-16T15:11:56.770Z"
   },
   {
    "duration": 0,
    "start_time": "2022-07-16T15:11:56.772Z"
   },
   {
    "duration": 1,
    "start_time": "2022-07-16T15:11:56.772Z"
   },
   {
    "duration": 0,
    "start_time": "2022-07-16T15:11:56.774Z"
   },
   {
    "duration": 0,
    "start_time": "2022-07-16T15:11:56.775Z"
   },
   {
    "duration": 6,
    "start_time": "2022-07-16T15:12:43.104Z"
   },
   {
    "duration": 19,
    "start_time": "2022-07-16T15:12:44.689Z"
   },
   {
    "duration": 20,
    "start_time": "2022-07-16T15:12:45.061Z"
   },
   {
    "duration": 4,
    "start_time": "2022-07-16T15:12:45.494Z"
   },
   {
    "duration": 21,
    "start_time": "2022-07-16T15:12:45.855Z"
   },
   {
    "duration": 4,
    "start_time": "2022-07-16T15:12:46.245Z"
   },
   {
    "duration": 5,
    "start_time": "2022-07-16T15:12:46.638Z"
   },
   {
    "duration": 4,
    "start_time": "2022-07-16T15:12:46.983Z"
   },
   {
    "duration": 4,
    "start_time": "2022-07-16T15:12:47.324Z"
   },
   {
    "duration": 3,
    "start_time": "2022-07-16T15:12:47.673Z"
   },
   {
    "duration": 28,
    "start_time": "2022-07-16T15:12:47.989Z"
   },
   {
    "duration": 4,
    "start_time": "2022-07-16T15:12:48.372Z"
   },
   {
    "duration": 8,
    "start_time": "2022-07-16T15:12:48.887Z"
   },
   {
    "duration": 6,
    "start_time": "2022-07-16T15:13:46.096Z"
   },
   {
    "duration": 38,
    "start_time": "2022-07-16T15:13:56.349Z"
   },
   {
    "duration": 35,
    "start_time": "2022-07-16T15:24:21.490Z"
   },
   {
    "duration": 31,
    "start_time": "2022-07-16T15:24:44.586Z"
   },
   {
    "duration": 6,
    "start_time": "2022-07-16T15:24:51.181Z"
   },
   {
    "duration": 40,
    "start_time": "2022-07-16T15:25:06.211Z"
   },
   {
    "duration": 16,
    "start_time": "2022-07-16T15:25:35.316Z"
   },
   {
    "duration": 4,
    "start_time": "2022-07-16T15:25:41.497Z"
   },
   {
    "duration": 27,
    "start_time": "2022-07-16T15:25:52.674Z"
   },
   {
    "duration": 5,
    "start_time": "2022-07-16T15:26:44.269Z"
   },
   {
    "duration": 5,
    "start_time": "2022-07-16T15:26:59.794Z"
   },
   {
    "duration": 20,
    "start_time": "2022-07-16T15:27:52.240Z"
   },
   {
    "duration": 7,
    "start_time": "2022-07-16T15:28:06.121Z"
   },
   {
    "duration": 9,
    "start_time": "2022-07-16T15:28:16.414Z"
   },
   {
    "duration": 5,
    "start_time": "2022-07-16T15:28:33.550Z"
   },
   {
    "duration": 4,
    "start_time": "2022-07-16T15:28:44.650Z"
   },
   {
    "duration": 8,
    "start_time": "2022-07-16T15:29:06.766Z"
   },
   {
    "duration": 4,
    "start_time": "2022-07-16T15:29:29.793Z"
   },
   {
    "duration": 5,
    "start_time": "2022-07-16T15:35:15.106Z"
   },
   {
    "duration": 4,
    "start_time": "2022-07-16T15:35:33.874Z"
   },
   {
    "duration": 7,
    "start_time": "2022-07-16T15:35:51.720Z"
   },
   {
    "duration": 7,
    "start_time": "2022-07-16T15:36:35.071Z"
   },
   {
    "duration": 7,
    "start_time": "2022-07-16T15:36:59.697Z"
   },
   {
    "duration": 599,
    "start_time": "2022-07-16T15:38:32.429Z"
   },
   {
    "duration": 213,
    "start_time": "2022-07-16T15:38:55.432Z"
   },
   {
    "duration": 156,
    "start_time": "2022-07-16T15:39:29.369Z"
   },
   {
    "duration": 173,
    "start_time": "2022-07-16T15:39:55.178Z"
   },
   {
    "duration": 13,
    "start_time": "2022-07-16T15:57:02.722Z"
   },
   {
    "duration": 11,
    "start_time": "2022-07-16T15:57:07.467Z"
   },
   {
    "duration": 46,
    "start_time": "2022-07-16T15:57:07.903Z"
   },
   {
    "duration": 15,
    "start_time": "2022-07-16T15:58:18.951Z"
   },
   {
    "duration": 19,
    "start_time": "2022-07-16T15:58:50.320Z"
   },
   {
    "duration": 23,
    "start_time": "2022-07-16T15:59:14.068Z"
   },
   {
    "duration": 5,
    "start_time": "2022-07-16T16:11:32.703Z"
   },
   {
    "duration": 4,
    "start_time": "2022-07-16T16:11:43.054Z"
   },
   {
    "duration": 145,
    "start_time": "2022-07-16T16:11:49.740Z"
   },
   {
    "duration": 254,
    "start_time": "2022-07-16T16:12:12.683Z"
   },
   {
    "duration": 425,
    "start_time": "2022-07-17T12:46:29.099Z"
   },
   {
    "duration": 957,
    "start_time": "2022-07-17T12:46:29.526Z"
   },
   {
    "duration": 3,
    "start_time": "2022-07-17T12:46:30.484Z"
   },
   {
    "duration": 23,
    "start_time": "2022-07-17T12:46:30.490Z"
   },
   {
    "duration": 671,
    "start_time": "2022-07-17T12:46:30.515Z"
   },
   {
    "duration": 14,
    "start_time": "2022-07-17T12:46:31.210Z"
   },
   {
    "duration": 29,
    "start_time": "2022-07-17T12:46:31.225Z"
   },
   {
    "duration": 40,
    "start_time": "2022-07-17T12:46:31.256Z"
   },
   {
    "duration": 20,
    "start_time": "2022-07-17T12:46:31.297Z"
   },
   {
    "duration": 23,
    "start_time": "2022-07-17T12:46:31.320Z"
   },
   {
    "duration": 30,
    "start_time": "2022-07-17T12:46:31.345Z"
   },
   {
    "duration": 35,
    "start_time": "2022-07-17T12:46:31.377Z"
   },
   {
    "duration": 29,
    "start_time": "2022-07-17T12:46:31.413Z"
   },
   {
    "duration": 25,
    "start_time": "2022-07-17T12:46:31.444Z"
   },
   {
    "duration": 45,
    "start_time": "2022-07-17T12:46:31.472Z"
   },
   {
    "duration": 39,
    "start_time": "2022-07-17T12:46:31.520Z"
   },
   {
    "duration": 32,
    "start_time": "2022-07-17T12:46:31.561Z"
   },
   {
    "duration": 48,
    "start_time": "2022-07-17T12:46:31.595Z"
   },
   {
    "duration": 16,
    "start_time": "2022-07-17T12:46:31.645Z"
   },
   {
    "duration": 26,
    "start_time": "2022-07-17T12:46:31.662Z"
   },
   {
    "duration": 20,
    "start_time": "2022-07-17T12:46:31.690Z"
   },
   {
    "duration": 72,
    "start_time": "2022-07-17T12:46:31.712Z"
   },
   {
    "duration": 39,
    "start_time": "2022-07-17T12:46:31.786Z"
   },
   {
    "duration": 2,
    "start_time": "2022-07-17T12:46:31.827Z"
   },
   {
    "duration": 22,
    "start_time": "2022-07-17T12:46:31.831Z"
   },
   {
    "duration": 22,
    "start_time": "2022-07-17T12:46:31.854Z"
   },
   {
    "duration": 45,
    "start_time": "2022-07-17T12:46:31.877Z"
   },
   {
    "duration": 16,
    "start_time": "2022-07-17T12:46:31.926Z"
   },
   {
    "duration": 20,
    "start_time": "2022-07-17T12:46:31.944Z"
   },
   {
    "duration": 25,
    "start_time": "2022-07-17T12:46:31.965Z"
   },
   {
    "duration": 20,
    "start_time": "2022-07-17T12:46:31.991Z"
   },
   {
    "duration": 6,
    "start_time": "2022-07-17T12:46:32.013Z"
   },
   {
    "duration": 27,
    "start_time": "2022-07-17T12:46:32.021Z"
   },
   {
    "duration": 25,
    "start_time": "2022-07-17T12:46:32.050Z"
   },
   {
    "duration": 31,
    "start_time": "2022-07-17T12:46:32.077Z"
   },
   {
    "duration": 51,
    "start_time": "2022-07-17T12:46:32.110Z"
   },
   {
    "duration": 15,
    "start_time": "2022-07-17T12:46:32.163Z"
   },
   {
    "duration": 19,
    "start_time": "2022-07-17T12:46:32.180Z"
   },
   {
    "duration": 520,
    "start_time": "2022-07-17T12:46:32.201Z"
   },
   {
    "duration": 16,
    "start_time": "2022-07-17T12:46:32.723Z"
   },
   {
    "duration": 20,
    "start_time": "2022-07-17T12:46:32.741Z"
   },
   {
    "duration": 36,
    "start_time": "2022-07-17T12:46:32.762Z"
   },
   {
    "duration": 21,
    "start_time": "2022-07-17T12:46:32.799Z"
   },
   {
    "duration": 20,
    "start_time": "2022-07-17T12:46:32.821Z"
   },
   {
    "duration": 24,
    "start_time": "2022-07-17T12:46:32.843Z"
   },
   {
    "duration": 36,
    "start_time": "2022-07-17T12:46:32.868Z"
   },
   {
    "duration": 24,
    "start_time": "2022-07-17T12:46:32.906Z"
   },
   {
    "duration": 29,
    "start_time": "2022-07-17T12:46:32.932Z"
   },
   {
    "duration": 14,
    "start_time": "2022-07-17T12:46:32.963Z"
   },
   {
    "duration": 34,
    "start_time": "2022-07-17T12:46:32.979Z"
   },
   {
    "duration": 22,
    "start_time": "2022-07-17T12:46:33.015Z"
   },
   {
    "duration": 17,
    "start_time": "2022-07-17T12:46:33.039Z"
   },
   {
    "duration": 20,
    "start_time": "2022-07-17T12:46:33.058Z"
   },
   {
    "duration": 23,
    "start_time": "2022-07-17T12:46:33.079Z"
   },
   {
    "duration": 16,
    "start_time": "2022-07-17T12:46:33.103Z"
   },
   {
    "duration": 38,
    "start_time": "2022-07-17T12:46:33.121Z"
   },
   {
    "duration": 4,
    "start_time": "2022-07-17T12:46:33.161Z"
   },
   {
    "duration": 20,
    "start_time": "2022-07-17T12:46:33.167Z"
   },
   {
    "duration": 38,
    "start_time": "2022-07-17T12:46:33.189Z"
   },
   {
    "duration": 6,
    "start_time": "2022-07-17T12:46:33.229Z"
   },
   {
    "duration": 22,
    "start_time": "2022-07-17T12:46:33.237Z"
   },
   {
    "duration": 21,
    "start_time": "2022-07-17T12:46:33.260Z"
   },
   {
    "duration": 25,
    "start_time": "2022-07-17T12:46:33.283Z"
   },
   {
    "duration": 24,
    "start_time": "2022-07-17T12:46:33.310Z"
   },
   {
    "duration": 22,
    "start_time": "2022-07-17T12:46:33.336Z"
   },
   {
    "duration": 27,
    "start_time": "2022-07-17T12:46:33.360Z"
   },
   {
    "duration": 18,
    "start_time": "2022-07-17T12:46:33.389Z"
   },
   {
    "duration": 32,
    "start_time": "2022-07-17T12:46:33.409Z"
   },
   {
    "duration": 18,
    "start_time": "2022-07-17T12:46:33.443Z"
   },
   {
    "duration": 28,
    "start_time": "2022-07-17T12:46:33.463Z"
   },
   {
    "duration": 18,
    "start_time": "2022-07-17T12:46:33.492Z"
   },
   {
    "duration": 598,
    "start_time": "2022-07-17T12:46:33.511Z"
   },
   {
    "duration": 166,
    "start_time": "2022-07-17T12:46:34.111Z"
   },
   {
    "duration": 166,
    "start_time": "2022-07-17T12:46:34.279Z"
   },
   {
    "duration": 18,
    "start_time": "2022-07-17T12:49:08.148Z"
   },
   {
    "duration": 20,
    "start_time": "2022-07-17T12:49:08.746Z"
   },
   {
    "duration": 13,
    "start_time": "2022-07-17T12:49:18.693Z"
   },
   {
    "duration": 4,
    "start_time": "2022-07-17T12:49:48.906Z"
   },
   {
    "duration": 3,
    "start_time": "2022-07-17T12:51:07.061Z"
   },
   {
    "duration": 16,
    "start_time": "2022-07-17T12:53:52.380Z"
   },
   {
    "duration": 415,
    "start_time": "2022-07-17T12:54:04.810Z"
   },
   {
    "duration": 409,
    "start_time": "2022-07-17T12:54:05.226Z"
   },
   {
    "duration": 4,
    "start_time": "2022-07-17T12:54:05.637Z"
   },
   {
    "duration": 7,
    "start_time": "2022-07-17T12:54:05.643Z"
   },
   {
    "duration": 624,
    "start_time": "2022-07-17T12:54:05.651Z"
   },
   {
    "duration": 12,
    "start_time": "2022-07-17T12:54:06.276Z"
   },
   {
    "duration": 10,
    "start_time": "2022-07-17T12:54:06.310Z"
   },
   {
    "duration": 13,
    "start_time": "2022-07-17T12:54:06.322Z"
   },
   {
    "duration": 19,
    "start_time": "2022-07-17T12:54:06.337Z"
   },
   {
    "duration": 8,
    "start_time": "2022-07-17T12:54:06.358Z"
   },
   {
    "duration": 14,
    "start_time": "2022-07-17T12:54:06.367Z"
   },
   {
    "duration": 10,
    "start_time": "2022-07-17T12:54:06.383Z"
   },
   {
    "duration": 8,
    "start_time": "2022-07-17T12:54:06.395Z"
   },
   {
    "duration": 9,
    "start_time": "2022-07-17T12:54:06.405Z"
   },
   {
    "duration": 14,
    "start_time": "2022-07-17T12:54:06.415Z"
   },
   {
    "duration": 10,
    "start_time": "2022-07-17T12:54:06.430Z"
   },
   {
    "duration": 19,
    "start_time": "2022-07-17T12:54:06.441Z"
   },
   {
    "duration": 29,
    "start_time": "2022-07-17T12:54:06.462Z"
   },
   {
    "duration": 25,
    "start_time": "2022-07-17T12:54:06.493Z"
   },
   {
    "duration": 16,
    "start_time": "2022-07-17T12:54:06.520Z"
   },
   {
    "duration": 20,
    "start_time": "2022-07-17T12:54:06.538Z"
   },
   {
    "duration": 88,
    "start_time": "2022-07-17T12:54:06.559Z"
   },
   {
    "duration": 30,
    "start_time": "2022-07-17T12:54:06.648Z"
   },
   {
    "duration": 2,
    "start_time": "2022-07-17T12:54:06.680Z"
   },
   {
    "duration": 15,
    "start_time": "2022-07-17T12:54:06.684Z"
   },
   {
    "duration": 14,
    "start_time": "2022-07-17T12:54:06.700Z"
   },
   {
    "duration": 37,
    "start_time": "2022-07-17T12:54:06.716Z"
   },
   {
    "duration": 21,
    "start_time": "2022-07-17T12:54:06.757Z"
   },
   {
    "duration": 14,
    "start_time": "2022-07-17T12:54:06.779Z"
   },
   {
    "duration": 15,
    "start_time": "2022-07-17T12:54:06.795Z"
   },
   {
    "duration": 16,
    "start_time": "2022-07-17T12:54:06.811Z"
   },
   {
    "duration": 4,
    "start_time": "2022-07-17T12:54:06.829Z"
   },
   {
    "duration": 16,
    "start_time": "2022-07-17T12:54:06.835Z"
   },
   {
    "duration": 36,
    "start_time": "2022-07-17T12:54:06.853Z"
   },
   {
    "duration": 20,
    "start_time": "2022-07-17T12:54:06.890Z"
   },
   {
    "duration": 31,
    "start_time": "2022-07-17T12:54:06.911Z"
   },
   {
    "duration": 11,
    "start_time": "2022-07-17T12:54:06.943Z"
   },
   {
    "duration": 13,
    "start_time": "2022-07-17T12:54:06.955Z"
   },
   {
    "duration": 378,
    "start_time": "2022-07-17T12:54:06.969Z"
   },
   {
    "duration": 16,
    "start_time": "2022-07-17T12:54:07.349Z"
   },
   {
    "duration": 12,
    "start_time": "2022-07-17T12:54:07.366Z"
   },
   {
    "duration": 37,
    "start_time": "2022-07-17T12:54:07.380Z"
   },
   {
    "duration": 7,
    "start_time": "2022-07-17T12:54:07.419Z"
   },
   {
    "duration": 8,
    "start_time": "2022-07-17T12:54:07.427Z"
   },
   {
    "duration": 5,
    "start_time": "2022-07-17T12:54:07.437Z"
   },
   {
    "duration": 10,
    "start_time": "2022-07-17T12:54:07.443Z"
   },
   {
    "duration": 22,
    "start_time": "2022-07-17T12:54:07.454Z"
   },
   {
    "duration": 13,
    "start_time": "2022-07-17T12:54:07.478Z"
   },
   {
    "duration": 18,
    "start_time": "2022-07-17T12:54:07.493Z"
   },
   {
    "duration": 19,
    "start_time": "2022-07-17T12:54:07.512Z"
   },
   {
    "duration": 18,
    "start_time": "2022-07-17T12:54:07.533Z"
   },
   {
    "duration": 34,
    "start_time": "2022-07-17T12:54:07.553Z"
   },
   {
    "duration": 27,
    "start_time": "2022-07-17T12:54:07.589Z"
   },
   {
    "duration": 38,
    "start_time": "2022-07-17T12:54:07.617Z"
   },
   {
    "duration": 15,
    "start_time": "2022-07-17T12:54:07.657Z"
   },
   {
    "duration": 35,
    "start_time": "2022-07-17T12:54:07.673Z"
   },
   {
    "duration": 31,
    "start_time": "2022-07-17T12:54:07.709Z"
   },
   {
    "duration": 37,
    "start_time": "2022-07-17T12:54:07.743Z"
   },
   {
    "duration": 13,
    "start_time": "2022-07-17T12:54:07.781Z"
   },
   {
    "duration": 17,
    "start_time": "2022-07-17T12:54:07.796Z"
   },
   {
    "duration": 14,
    "start_time": "2022-07-17T12:54:07.814Z"
   },
   {
    "duration": 19,
    "start_time": "2022-07-17T12:54:07.829Z"
   },
   {
    "duration": 16,
    "start_time": "2022-07-17T12:54:07.850Z"
   },
   {
    "duration": 33,
    "start_time": "2022-07-17T12:54:07.868Z"
   },
   {
    "duration": 28,
    "start_time": "2022-07-17T12:54:07.902Z"
   },
   {
    "duration": 23,
    "start_time": "2022-07-17T12:54:07.932Z"
   },
   {
    "duration": 659,
    "start_time": "2022-07-17T12:54:07.956Z"
   },
   {
    "duration": 190,
    "start_time": "2022-07-17T12:54:08.616Z"
   },
   {
    "duration": 179,
    "start_time": "2022-07-17T12:54:08.809Z"
   },
   {
    "duration": 59,
    "start_time": "2022-07-17T12:55:10.485Z"
   },
   {
    "duration": 17,
    "start_time": "2022-07-17T12:55:31.317Z"
   },
   {
    "duration": 13,
    "start_time": "2022-07-17T12:55:33.539Z"
   },
   {
    "duration": 5,
    "start_time": "2022-07-17T12:55:37.715Z"
   },
   {
    "duration": 7,
    "start_time": "2022-07-17T12:55:38.994Z"
   },
   {
    "duration": 6,
    "start_time": "2022-07-17T12:55:39.553Z"
   },
   {
    "duration": 5,
    "start_time": "2022-07-17T12:55:40.090Z"
   },
   {
    "duration": 6,
    "start_time": "2022-07-17T12:55:41.303Z"
   },
   {
    "duration": 17,
    "start_time": "2022-07-17T12:57:31.589Z"
   },
   {
    "duration": 14,
    "start_time": "2022-07-17T12:57:55.450Z"
   },
   {
    "duration": 6,
    "start_time": "2022-07-17T13:00:12.759Z"
   },
   {
    "duration": 11,
    "start_time": "2022-07-17T13:00:19.329Z"
   },
   {
    "duration": 69,
    "start_time": "2022-07-17T13:02:12.835Z"
   },
   {
    "duration": 1007,
    "start_time": "2022-07-17T13:02:15.809Z"
   },
   {
    "duration": 125,
    "start_time": "2022-07-17T13:02:23.665Z"
   },
   {
    "duration": 143,
    "start_time": "2022-07-17T13:03:47.881Z"
   },
   {
    "duration": 260,
    "start_time": "2022-07-17T13:04:02.337Z"
   },
   {
    "duration": 153,
    "start_time": "2022-07-17T13:04:10.897Z"
   },
   {
    "duration": 231,
    "start_time": "2022-07-17T13:05:15.396Z"
   },
   {
    "duration": 161,
    "start_time": "2022-07-17T13:06:06.920Z"
   },
   {
    "duration": 166,
    "start_time": "2022-07-17T13:06:18.552Z"
   },
   {
    "duration": 9,
    "start_time": "2022-07-17T13:07:25.739Z"
   },
   {
    "duration": 3,
    "start_time": "2022-07-17T13:07:31.751Z"
   },
   {
    "duration": 177,
    "start_time": "2022-07-17T13:07:42.497Z"
   },
   {
    "duration": 135,
    "start_time": "2022-07-17T13:07:50.535Z"
   },
   {
    "duration": 135,
    "start_time": "2022-07-17T13:08:02.231Z"
   },
   {
    "duration": 165,
    "start_time": "2022-07-17T13:08:08.670Z"
   },
   {
    "duration": 172,
    "start_time": "2022-07-17T13:09:01.233Z"
   },
   {
    "duration": 180,
    "start_time": "2022-07-17T13:10:43.869Z"
   },
   {
    "duration": 198,
    "start_time": "2022-07-17T13:11:29.119Z"
   },
   {
    "duration": 193,
    "start_time": "2022-07-17T13:11:48.377Z"
   },
   {
    "duration": 3,
    "start_time": "2022-07-17T13:14:10.723Z"
   },
   {
    "duration": 261,
    "start_time": "2022-07-17T13:14:26.745Z"
   },
   {
    "duration": 190,
    "start_time": "2022-07-17T13:14:57.547Z"
   },
   {
    "duration": 193,
    "start_time": "2022-07-17T13:15:15.152Z"
   },
   {
    "duration": 4,
    "start_time": "2022-07-17T13:15:42.554Z"
   },
   {
    "duration": 193,
    "start_time": "2022-07-17T13:15:43.137Z"
   },
   {
    "duration": 203,
    "start_time": "2022-07-17T13:15:46.745Z"
   },
   {
    "duration": 251,
    "start_time": "2022-07-17T13:15:48.513Z"
   },
   {
    "duration": 4,
    "start_time": "2022-07-17T13:16:50.544Z"
   },
   {
    "duration": 7,
    "start_time": "2022-07-17T13:17:00.250Z"
   },
   {
    "duration": 4,
    "start_time": "2022-07-17T13:17:00.752Z"
   },
   {
    "duration": 201,
    "start_time": "2022-07-17T13:17:01.825Z"
   },
   {
    "duration": 179,
    "start_time": "2022-07-17T13:17:03.207Z"
   },
   {
    "duration": 178,
    "start_time": "2022-07-17T13:17:04.280Z"
   },
   {
    "duration": 12,
    "start_time": "2022-07-17T13:17:24.314Z"
   },
   {
    "duration": 8,
    "start_time": "2022-07-17T13:20:40.363Z"
   },
   {
    "duration": 7,
    "start_time": "2022-07-17T13:20:49.331Z"
   },
   {
    "duration": 10,
    "start_time": "2022-07-17T13:20:57.975Z"
   },
   {
    "duration": 12,
    "start_time": "2022-07-17T13:21:41.073Z"
   },
   {
    "duration": 4,
    "start_time": "2022-07-17T13:23:21.662Z"
   },
   {
    "duration": 11,
    "start_time": "2022-07-17T13:23:26.362Z"
   },
   {
    "duration": 3,
    "start_time": "2022-07-17T14:04:45.285Z"
   },
   {
    "duration": 8,
    "start_time": "2022-07-17T14:09:29.870Z"
   },
   {
    "duration": 4,
    "start_time": "2022-07-17T14:09:36.713Z"
   },
   {
    "duration": 7,
    "start_time": "2022-07-17T14:10:00.377Z"
   },
   {
    "duration": 4,
    "start_time": "2022-07-17T14:10:31.808Z"
   },
   {
    "duration": 6,
    "start_time": "2022-07-17T14:10:41.576Z"
   },
   {
    "duration": 6,
    "start_time": "2022-07-17T14:13:42.304Z"
   },
   {
    "duration": 7,
    "start_time": "2022-07-17T14:17:06.964Z"
   },
   {
    "duration": 8,
    "start_time": "2022-07-17T14:17:07.476Z"
   },
   {
    "duration": 5,
    "start_time": "2022-07-17T14:17:08.017Z"
   },
   {
    "duration": 27,
    "start_time": "2022-07-17T14:21:38.290Z"
   },
   {
    "duration": 6,
    "start_time": "2022-07-17T14:22:10.727Z"
   },
   {
    "duration": 40,
    "start_time": "2022-07-17T14:22:20.003Z"
   },
   {
    "duration": 8,
    "start_time": "2022-07-17T14:22:48.822Z"
   },
   {
    "duration": 39,
    "start_time": "2022-07-17T14:22:50.621Z"
   },
   {
    "duration": 25,
    "start_time": "2022-07-17T14:22:54.132Z"
   },
   {
    "duration": 6,
    "start_time": "2022-07-17T14:23:02.386Z"
   },
   {
    "duration": 7,
    "start_time": "2022-07-17T14:23:47.630Z"
   },
   {
    "duration": 6,
    "start_time": "2022-07-17T14:24:17.180Z"
   },
   {
    "duration": 9,
    "start_time": "2022-07-17T14:27:11.558Z"
   },
   {
    "duration": 9,
    "start_time": "2022-07-17T14:27:12.075Z"
   },
   {
    "duration": 5,
    "start_time": "2022-07-17T14:27:12.628Z"
   },
   {
    "duration": 5,
    "start_time": "2022-07-17T14:27:18.806Z"
   },
   {
    "duration": 8,
    "start_time": "2022-07-17T14:47:08.114Z"
   },
   {
    "duration": 6,
    "start_time": "2022-07-17T14:48:56.835Z"
   },
   {
    "duration": 1189,
    "start_time": "2022-07-17T14:57:54.293Z"
   },
   {
    "duration": 512,
    "start_time": "2022-07-17T14:57:55.484Z"
   },
   {
    "duration": 4,
    "start_time": "2022-07-17T14:57:55.998Z"
   },
   {
    "duration": 17,
    "start_time": "2022-07-17T14:57:56.004Z"
   },
   {
    "duration": 722,
    "start_time": "2022-07-17T14:57:56.022Z"
   },
   {
    "duration": 20,
    "start_time": "2022-07-17T14:57:56.747Z"
   },
   {
    "duration": 49,
    "start_time": "2022-07-17T14:57:56.769Z"
   },
   {
    "duration": 10,
    "start_time": "2022-07-17T14:57:56.820Z"
   },
   {
    "duration": 21,
    "start_time": "2022-07-17T14:57:56.832Z"
   },
   {
    "duration": 7,
    "start_time": "2022-07-17T14:57:56.857Z"
   },
   {
    "duration": 6,
    "start_time": "2022-07-17T14:57:56.866Z"
   },
   {
    "duration": 41,
    "start_time": "2022-07-17T14:57:56.874Z"
   },
   {
    "duration": 8,
    "start_time": "2022-07-17T14:57:56.917Z"
   },
   {
    "duration": 14,
    "start_time": "2022-07-17T14:57:56.927Z"
   },
   {
    "duration": 9,
    "start_time": "2022-07-17T14:57:56.943Z"
   },
   {
    "duration": 11,
    "start_time": "2022-07-17T14:57:56.953Z"
   },
   {
    "duration": 69,
    "start_time": "2022-07-17T14:57:56.966Z"
   },
   {
    "duration": 32,
    "start_time": "2022-07-17T14:57:57.038Z"
   },
   {
    "duration": 39,
    "start_time": "2022-07-17T14:57:57.072Z"
   },
   {
    "duration": 20,
    "start_time": "2022-07-17T14:57:57.113Z"
   },
   {
    "duration": 27,
    "start_time": "2022-07-17T14:57:57.136Z"
   },
   {
    "duration": 117,
    "start_time": "2022-07-17T14:57:57.165Z"
   },
   {
    "duration": 43,
    "start_time": "2022-07-17T14:57:57.284Z"
   },
   {
    "duration": 6,
    "start_time": "2022-07-17T14:57:57.329Z"
   },
   {
    "duration": 12,
    "start_time": "2022-07-17T14:57:57.337Z"
   },
   {
    "duration": 13,
    "start_time": "2022-07-17T14:57:57.351Z"
   },
   {
    "duration": 49,
    "start_time": "2022-07-17T14:57:57.366Z"
   },
   {
    "duration": 14,
    "start_time": "2022-07-17T14:57:57.419Z"
   },
   {
    "duration": 21,
    "start_time": "2022-07-17T14:57:57.435Z"
   },
   {
    "duration": 17,
    "start_time": "2022-07-17T14:57:57.458Z"
   },
   {
    "duration": 49,
    "start_time": "2022-07-17T14:57:57.477Z"
   },
   {
    "duration": 7,
    "start_time": "2022-07-17T14:57:57.528Z"
   },
   {
    "duration": 11,
    "start_time": "2022-07-17T14:57:57.537Z"
   },
   {
    "duration": 17,
    "start_time": "2022-07-17T14:57:57.552Z"
   },
   {
    "duration": 38,
    "start_time": "2022-07-17T14:57:57.571Z"
   },
   {
    "duration": 39,
    "start_time": "2022-07-17T14:57:57.612Z"
   },
   {
    "duration": 15,
    "start_time": "2022-07-17T14:57:57.653Z"
   },
   {
    "duration": 46,
    "start_time": "2022-07-17T14:57:57.670Z"
   },
   {
    "duration": 186,
    "start_time": "2022-07-17T14:57:57.718Z"
   },
   {
    "duration": 19,
    "start_time": "2022-07-17T14:57:57.909Z"
   },
   {
    "duration": 32,
    "start_time": "2022-07-17T14:57:57.930Z"
   },
   {
    "duration": 24,
    "start_time": "2022-07-17T14:57:57.964Z"
   },
   {
    "duration": 26,
    "start_time": "2022-07-17T14:57:57.990Z"
   },
   {
    "duration": 23,
    "start_time": "2022-07-17T14:57:58.018Z"
   },
   {
    "duration": 11,
    "start_time": "2022-07-17T14:57:58.043Z"
   },
   {
    "duration": 14,
    "start_time": "2022-07-17T14:57:58.057Z"
   },
   {
    "duration": 45,
    "start_time": "2022-07-17T14:57:58.073Z"
   },
   {
    "duration": 22,
    "start_time": "2022-07-17T14:57:58.123Z"
   },
   {
    "duration": 6,
    "start_time": "2022-07-17T14:57:58.146Z"
   },
   {
    "duration": 10,
    "start_time": "2022-07-17T14:57:58.155Z"
   },
   {
    "duration": 9,
    "start_time": "2022-07-17T14:57:58.167Z"
   },
   {
    "duration": 32,
    "start_time": "2022-07-17T14:57:58.178Z"
   },
   {
    "duration": 8,
    "start_time": "2022-07-17T14:57:58.212Z"
   },
   {
    "duration": 25,
    "start_time": "2022-07-17T14:57:58.222Z"
   },
   {
    "duration": 10,
    "start_time": "2022-07-17T14:57:58.249Z"
   },
   {
    "duration": 12,
    "start_time": "2022-07-17T14:57:58.261Z"
   },
   {
    "duration": 41,
    "start_time": "2022-07-17T14:57:58.275Z"
   },
   {
    "duration": 13,
    "start_time": "2022-07-17T14:57:58.318Z"
   },
   {
    "duration": 23,
    "start_time": "2022-07-17T14:57:58.333Z"
   },
   {
    "duration": 13,
    "start_time": "2022-07-17T14:57:58.358Z"
   },
   {
    "duration": 216,
    "start_time": "2022-07-17T14:57:58.373Z"
   },
   {
    "duration": 199,
    "start_time": "2022-07-17T14:57:58.593Z"
   },
   {
    "duration": 212,
    "start_time": "2022-07-17T14:57:58.794Z"
   },
   {
    "duration": 9,
    "start_time": "2022-07-17T14:57:59.011Z"
   },
   {
    "duration": 17,
    "start_time": "2022-07-17T14:57:59.023Z"
   },
   {
    "duration": 11,
    "start_time": "2022-07-17T14:57:59.042Z"
   },
   {
    "duration": 8,
    "start_time": "2022-07-17T14:57:59.054Z"
   },
   {
    "duration": 13,
    "start_time": "2022-07-17T14:57:59.064Z"
   },
   {
    "duration": 32,
    "start_time": "2022-07-17T14:57:59.078Z"
   },
   {
    "duration": 7,
    "start_time": "2022-07-17T14:57:59.112Z"
   },
   {
    "duration": 1180,
    "start_time": "2022-07-18T14:15:30.557Z"
   },
   {
    "duration": 403,
    "start_time": "2022-07-18T14:15:31.739Z"
   },
   {
    "duration": 3,
    "start_time": "2022-07-18T14:15:32.144Z"
   },
   {
    "duration": 10,
    "start_time": "2022-07-18T14:15:32.151Z"
   },
   {
    "duration": 616,
    "start_time": "2022-07-18T14:15:32.163Z"
   },
   {
    "duration": 30,
    "start_time": "2022-07-18T14:15:32.780Z"
   },
   {
    "duration": 8,
    "start_time": "2022-07-18T14:15:32.813Z"
   },
   {
    "duration": 8,
    "start_time": "2022-07-18T14:15:32.822Z"
   },
   {
    "duration": 10,
    "start_time": "2022-07-18T14:15:32.832Z"
   },
   {
    "duration": 10,
    "start_time": "2022-07-18T14:15:32.845Z"
   },
   {
    "duration": 6,
    "start_time": "2022-07-18T14:15:32.856Z"
   },
   {
    "duration": 9,
    "start_time": "2022-07-18T14:15:32.863Z"
   },
   {
    "duration": 26,
    "start_time": "2022-07-18T14:15:32.874Z"
   },
   {
    "duration": 10,
    "start_time": "2022-07-18T14:15:32.902Z"
   },
   {
    "duration": 10,
    "start_time": "2022-07-18T14:15:32.914Z"
   },
   {
    "duration": 10,
    "start_time": "2022-07-18T14:15:32.925Z"
   },
   {
    "duration": 20,
    "start_time": "2022-07-18T14:15:32.936Z"
   },
   {
    "duration": 52,
    "start_time": "2022-07-18T14:15:32.957Z"
   },
   {
    "duration": 12,
    "start_time": "2022-07-18T14:15:33.010Z"
   },
   {
    "duration": 20,
    "start_time": "2022-07-18T14:15:33.023Z"
   },
   {
    "duration": 22,
    "start_time": "2022-07-18T14:15:33.045Z"
   },
   {
    "duration": 4,
    "start_time": "2022-07-18T14:15:33.069Z"
   },
   {
    "duration": 27,
    "start_time": "2022-07-18T14:15:33.097Z"
   },
   {
    "duration": 2,
    "start_time": "2022-07-18T14:15:33.126Z"
   },
   {
    "duration": 12,
    "start_time": "2022-07-18T14:15:33.130Z"
   },
   {
    "duration": 7,
    "start_time": "2022-07-18T14:15:33.143Z"
   },
   {
    "duration": 21,
    "start_time": "2022-07-18T14:15:33.152Z"
   },
   {
    "duration": 25,
    "start_time": "2022-07-18T14:15:33.177Z"
   },
   {
    "duration": 15,
    "start_time": "2022-07-18T14:15:33.204Z"
   },
   {
    "duration": 14,
    "start_time": "2022-07-18T14:15:33.220Z"
   },
   {
    "duration": 16,
    "start_time": "2022-07-18T14:15:33.236Z"
   },
   {
    "duration": 2,
    "start_time": "2022-07-18T14:15:33.254Z"
   },
   {
    "duration": 8,
    "start_time": "2022-07-18T14:15:33.258Z"
   },
   {
    "duration": 9,
    "start_time": "2022-07-18T14:15:33.297Z"
   },
   {
    "duration": 8,
    "start_time": "2022-07-18T14:15:33.308Z"
   },
   {
    "duration": 25,
    "start_time": "2022-07-18T14:15:33.317Z"
   },
   {
    "duration": 11,
    "start_time": "2022-07-18T14:15:33.343Z"
   },
   {
    "duration": 13,
    "start_time": "2022-07-18T14:15:33.355Z"
   },
   {
    "duration": 190,
    "start_time": "2022-07-18T14:15:33.369Z"
   },
   {
    "duration": 17,
    "start_time": "2022-07-18T14:15:33.561Z"
   },
   {
    "duration": 30,
    "start_time": "2022-07-18T14:15:33.580Z"
   },
   {
    "duration": 8,
    "start_time": "2022-07-18T14:15:33.612Z"
   },
   {
    "duration": 6,
    "start_time": "2022-07-18T14:15:33.622Z"
   },
   {
    "duration": 5,
    "start_time": "2022-07-18T14:15:33.630Z"
   },
   {
    "duration": 9,
    "start_time": "2022-07-18T14:15:33.637Z"
   },
   {
    "duration": 21,
    "start_time": "2022-07-18T14:15:33.648Z"
   },
   {
    "duration": 39,
    "start_time": "2022-07-18T14:15:33.671Z"
   },
   {
    "duration": 6,
    "start_time": "2022-07-18T14:15:33.712Z"
   },
   {
    "duration": 7,
    "start_time": "2022-07-18T14:15:33.719Z"
   },
   {
    "duration": 7,
    "start_time": "2022-07-18T14:15:33.727Z"
   },
   {
    "duration": 7,
    "start_time": "2022-07-18T14:15:33.736Z"
   },
   {
    "duration": 7,
    "start_time": "2022-07-18T14:15:33.744Z"
   },
   {
    "duration": 21,
    "start_time": "2022-07-18T14:15:33.752Z"
   },
   {
    "duration": 7,
    "start_time": "2022-07-18T14:15:33.798Z"
   },
   {
    "duration": 7,
    "start_time": "2022-07-18T14:15:33.807Z"
   },
   {
    "duration": 8,
    "start_time": "2022-07-18T14:15:33.815Z"
   },
   {
    "duration": 9,
    "start_time": "2022-07-18T14:15:33.824Z"
   },
   {
    "duration": 10,
    "start_time": "2022-07-18T14:15:33.834Z"
   },
   {
    "duration": 10,
    "start_time": "2022-07-18T14:15:33.846Z"
   },
   {
    "duration": 336,
    "start_time": "2022-07-18T14:15:33.858Z"
   },
   {
    "duration": 274,
    "start_time": "2022-07-18T14:15:34.197Z"
   },
   {
    "duration": 279,
    "start_time": "2022-07-18T14:15:34.472Z"
   },
   {
    "duration": 7,
    "start_time": "2022-07-18T14:15:34.753Z"
   },
   {
    "duration": 11,
    "start_time": "2022-07-18T14:15:34.762Z"
   },
   {
    "duration": 4,
    "start_time": "2022-07-18T14:15:34.775Z"
   },
   {
    "duration": 18,
    "start_time": "2022-07-18T14:15:34.781Z"
   },
   {
    "duration": 7,
    "start_time": "2022-07-18T14:15:34.801Z"
   },
   {
    "duration": 9,
    "start_time": "2022-07-18T14:15:34.810Z"
   },
   {
    "duration": 6,
    "start_time": "2022-07-18T14:15:34.820Z"
   },
   {
    "duration": 1442,
    "start_time": "2022-07-19T14:23:21.847Z"
   },
   {
    "duration": 980,
    "start_time": "2022-07-19T14:23:23.291Z"
   },
   {
    "duration": 5,
    "start_time": "2022-07-19T14:23:24.273Z"
   },
   {
    "duration": 7,
    "start_time": "2022-07-19T14:23:24.280Z"
   },
   {
    "duration": 691,
    "start_time": "2022-07-19T14:23:24.289Z"
   },
   {
    "duration": 34,
    "start_time": "2022-07-19T14:23:24.981Z"
   },
   {
    "duration": 29,
    "start_time": "2022-07-19T14:23:25.017Z"
   },
   {
    "duration": 9,
    "start_time": "2022-07-19T14:23:25.048Z"
   },
   {
    "duration": 10,
    "start_time": "2022-07-19T14:23:25.059Z"
   },
   {
    "duration": 9,
    "start_time": "2022-07-19T14:23:25.072Z"
   },
   {
    "duration": 13,
    "start_time": "2022-07-19T14:23:25.084Z"
   },
   {
    "duration": 19,
    "start_time": "2022-07-19T14:23:25.099Z"
   },
   {
    "duration": 11,
    "start_time": "2022-07-19T14:23:25.121Z"
   },
   {
    "duration": 16,
    "start_time": "2022-07-19T14:23:25.135Z"
   },
   {
    "duration": 10,
    "start_time": "2022-07-19T14:23:25.153Z"
   },
   {
    "duration": 40,
    "start_time": "2022-07-19T14:23:25.166Z"
   },
   {
    "duration": 40,
    "start_time": "2022-07-19T14:23:25.208Z"
   },
   {
    "duration": 32,
    "start_time": "2022-07-19T14:23:25.250Z"
   },
   {
    "duration": 13,
    "start_time": "2022-07-19T14:23:25.284Z"
   },
   {
    "duration": 35,
    "start_time": "2022-07-19T14:23:25.299Z"
   },
   {
    "duration": 26,
    "start_time": "2022-07-19T14:23:25.336Z"
   },
   {
    "duration": 5,
    "start_time": "2022-07-19T14:23:25.364Z"
   },
   {
    "duration": 54,
    "start_time": "2022-07-19T14:23:25.371Z"
   },
   {
    "duration": 12,
    "start_time": "2022-07-19T14:23:25.428Z"
   },
   {
    "duration": 20,
    "start_time": "2022-07-19T14:23:25.441Z"
   },
   {
    "duration": 19,
    "start_time": "2022-07-19T14:23:25.463Z"
   },
   {
    "duration": 40,
    "start_time": "2022-07-19T14:23:25.484Z"
   },
   {
    "duration": 18,
    "start_time": "2022-07-19T14:23:25.529Z"
   },
   {
    "duration": 23,
    "start_time": "2022-07-19T14:23:25.549Z"
   },
   {
    "duration": 18,
    "start_time": "2022-07-19T14:23:25.574Z"
   },
   {
    "duration": 28,
    "start_time": "2022-07-19T14:23:25.602Z"
   },
   {
    "duration": 4,
    "start_time": "2022-07-19T14:23:25.632Z"
   },
   {
    "duration": 16,
    "start_time": "2022-07-19T14:23:25.639Z"
   },
   {
    "duration": 18,
    "start_time": "2022-07-19T14:23:25.658Z"
   },
   {
    "duration": 9,
    "start_time": "2022-07-19T14:23:25.678Z"
   },
   {
    "duration": 34,
    "start_time": "2022-07-19T14:23:25.689Z"
   },
   {
    "duration": 13,
    "start_time": "2022-07-19T14:23:25.725Z"
   },
   {
    "duration": 13,
    "start_time": "2022-07-19T14:23:25.740Z"
   },
   {
    "duration": 194,
    "start_time": "2022-07-19T14:23:25.755Z"
   },
   {
    "duration": 17,
    "start_time": "2022-07-19T14:23:25.951Z"
   },
   {
    "duration": 32,
    "start_time": "2022-07-19T14:23:25.970Z"
   },
   {
    "duration": 9,
    "start_time": "2022-07-19T14:23:26.004Z"
   },
   {
    "duration": 11,
    "start_time": "2022-07-19T14:23:26.014Z"
   },
   {
    "duration": 13,
    "start_time": "2022-07-19T14:23:26.027Z"
   },
   {
    "duration": 11,
    "start_time": "2022-07-19T14:23:26.042Z"
   },
   {
    "duration": 20,
    "start_time": "2022-07-19T14:23:26.055Z"
   },
   {
    "duration": 25,
    "start_time": "2022-07-19T14:23:26.076Z"
   },
   {
    "duration": 5,
    "start_time": "2022-07-19T14:23:26.103Z"
   },
   {
    "duration": 15,
    "start_time": "2022-07-19T14:23:26.109Z"
   },
   {
    "duration": 16,
    "start_time": "2022-07-19T14:23:26.125Z"
   },
   {
    "duration": 9,
    "start_time": "2022-07-19T14:23:26.143Z"
   },
   {
    "duration": 6,
    "start_time": "2022-07-19T14:23:26.153Z"
   },
   {
    "duration": 20,
    "start_time": "2022-07-19T14:23:26.161Z"
   },
   {
    "duration": 22,
    "start_time": "2022-07-19T14:23:26.182Z"
   },
   {
    "duration": 9,
    "start_time": "2022-07-19T14:23:26.206Z"
   },
   {
    "duration": 23,
    "start_time": "2022-07-19T14:23:26.218Z"
   },
   {
    "duration": 13,
    "start_time": "2022-07-19T14:23:26.242Z"
   },
   {
    "duration": 22,
    "start_time": "2022-07-19T14:23:26.256Z"
   },
   {
    "duration": 14,
    "start_time": "2022-07-19T14:23:26.279Z"
   },
   {
    "duration": 281,
    "start_time": "2022-07-19T14:23:26.294Z"
   },
   {
    "duration": 304,
    "start_time": "2022-07-19T14:23:26.578Z"
   },
   {
    "duration": 308,
    "start_time": "2022-07-19T14:23:26.884Z"
   },
   {
    "duration": 13,
    "start_time": "2022-07-19T14:23:27.194Z"
   },
   {
    "duration": 13,
    "start_time": "2022-07-19T14:23:27.209Z"
   },
   {
    "duration": 37,
    "start_time": "2022-07-19T14:23:27.224Z"
   },
   {
    "duration": 6,
    "start_time": "2022-07-19T14:23:27.263Z"
   },
   {
    "duration": 10,
    "start_time": "2022-07-19T14:23:27.270Z"
   },
   {
    "duration": 16,
    "start_time": "2022-07-19T14:23:27.282Z"
   },
   {
    "duration": 13,
    "start_time": "2022-07-19T14:23:27.300Z"
   },
   {
    "duration": 14,
    "start_time": "2022-07-19T14:24:18.966Z"
   },
   {
    "duration": 5,
    "start_time": "2022-07-19T14:24:34.933Z"
   },
   {
    "duration": 6,
    "start_time": "2022-07-19T14:24:51.612Z"
   },
   {
    "duration": 27,
    "start_time": "2022-07-19T14:26:24.409Z"
   },
   {
    "duration": 33,
    "start_time": "2022-07-19T14:27:23.506Z"
   },
   {
    "duration": 84,
    "start_time": "2022-07-19T14:47:08.945Z"
   },
   {
    "duration": 1494,
    "start_time": "2022-07-19T14:47:13.599Z"
   },
   {
    "duration": 523,
    "start_time": "2022-07-19T14:47:19.636Z"
   }
  ],
  "kernelspec": {
   "display_name": "Python 3 (ipykernel)",
   "language": "python",
   "name": "python3"
  },
  "language_info": {
   "codemirror_mode": {
    "name": "ipython",
    "version": 3
   },
   "file_extension": ".py",
   "mimetype": "text/x-python",
   "name": "python",
   "nbconvert_exporter": "python",
   "pygments_lexer": "ipython3",
   "version": "3.7.8"
  },
  "toc": {
   "base_numbering": 1,
   "nav_menu": {},
   "number_sections": true,
   "sideBar": true,
   "skip_h1_title": true,
   "title_cell": "Table of Contents",
   "title_sidebar": "Contents",
   "toc_cell": false,
   "toc_position": {},
   "toc_section_display": true,
   "toc_window_display": false
  }
 },
 "nbformat": 4,
 "nbformat_minor": 2
}
