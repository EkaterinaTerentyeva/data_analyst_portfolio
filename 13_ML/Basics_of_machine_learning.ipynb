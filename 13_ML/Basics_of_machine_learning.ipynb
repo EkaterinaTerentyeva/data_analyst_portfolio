{
 "cells": [
  {
   "cell_type": "markdown",
   "metadata": {},
   "source": [
    "**FORECAST OF THE CUSTOMERS CHURN AND DEVELOPMENT OF PROPOSALS FOR THEIR RETENTION**"
   ]
  },
  {
   "cell_type": "markdown",
   "metadata": {},
   "source": [
    "**Source of data**: csv file with features from client profiles, as well as data for the month before the churn and the fact of the churn for a certain month\n",
    "\n",
    "\n",
    "**Tasks:**\n",
    "- predict the probability of outflow (at the level of the next month) \n",
    "- create typical client portraits\n",
    "- analyze the main features that most strongly affect the churn\n",
    "- formulate the main conclusions and develop recommendations for improving the quality of work with clients\n",
    "\n",
    "**Execution Plan**\n",
    "- primary data preprocessing\n",
    "- EDA\n",
    "- building a model of binary classification \n",
    "- client clustering based on K-Means model\n",
    "- conclusions and recommendations for the strategy of interaction with customers and their retention"
   ]
  },
  {
   "cell_type": "markdown",
   "metadata": {},
   "source": [
    "## Data preprocessing"
   ]
  },
  {
   "cell_type": "code",
   "execution_count": 1,
   "metadata": {},
   "outputs": [],
   "source": [
    "import pandas as pd\n",
    "import seaborn as sns\n",
    "import matplotlib.pyplot as plt\n",
    "from sklearn.preprocessing import StandardScaler\n",
    "from sklearn.model_selection import train_test_split\n",
    "from sklearn.linear_model import LogisticRegression\n",
    "from sklearn.ensemble import RandomForestClassifier\n",
    "from sklearn.metrics import mean_absolute_error, mean_squared_error, r2_score\n",
    "from sklearn.metrics import confusion_matrix, accuracy_score, precision_score, recall_score, silhouette_score\n",
    "from scipy.cluster.hierarchy import dendrogram, linkage\n",
    "from sklearn.cluster import KMeans\n",
    "import warnings\n",
    "warnings.simplefilter(action='ignore', category=FutureWarning)"
   ]
  },
  {
   "cell_type": "code",
   "execution_count": 2,
   "metadata": {},
   "outputs": [],
   "source": [
    "df = pd.read_csv('datasets/gym_churn.csv')"
   ]
  },
  {
   "cell_type": "code",
   "execution_count": 3,
   "metadata": {},
   "outputs": [
    {
     "data": {
      "text/html": [
       "<div>\n",
       "<style scoped>\n",
       "    .dataframe tbody tr th:only-of-type {\n",
       "        vertical-align: middle;\n",
       "    }\n",
       "\n",
       "    .dataframe tbody tr th {\n",
       "        vertical-align: top;\n",
       "    }\n",
       "\n",
       "    .dataframe thead th {\n",
       "        text-align: right;\n",
       "    }\n",
       "</style>\n",
       "<table border=\"1\" class=\"dataframe\">\n",
       "  <thead>\n",
       "    <tr style=\"text-align: right;\">\n",
       "      <th></th>\n",
       "      <th>gender</th>\n",
       "      <th>Near_Location</th>\n",
       "      <th>Partner</th>\n",
       "      <th>Promo_friends</th>\n",
       "      <th>Phone</th>\n",
       "      <th>Contract_period</th>\n",
       "      <th>Group_visits</th>\n",
       "      <th>Age</th>\n",
       "      <th>Avg_additional_charges_total</th>\n",
       "      <th>Month_to_end_contract</th>\n",
       "      <th>Lifetime</th>\n",
       "      <th>Avg_class_frequency_total</th>\n",
       "      <th>Avg_class_frequency_current_month</th>\n",
       "      <th>Churn</th>\n",
       "    </tr>\n",
       "  </thead>\n",
       "  <tbody>\n",
       "    <tr>\n",
       "      <td>0</td>\n",
       "      <td>1</td>\n",
       "      <td>1</td>\n",
       "      <td>1</td>\n",
       "      <td>1</td>\n",
       "      <td>0</td>\n",
       "      <td>6</td>\n",
       "      <td>1</td>\n",
       "      <td>29</td>\n",
       "      <td>14.227470</td>\n",
       "      <td>5.0</td>\n",
       "      <td>3</td>\n",
       "      <td>0.020398</td>\n",
       "      <td>0.000000</td>\n",
       "      <td>0</td>\n",
       "    </tr>\n",
       "    <tr>\n",
       "      <td>1</td>\n",
       "      <td>0</td>\n",
       "      <td>1</td>\n",
       "      <td>0</td>\n",
       "      <td>0</td>\n",
       "      <td>1</td>\n",
       "      <td>12</td>\n",
       "      <td>1</td>\n",
       "      <td>31</td>\n",
       "      <td>113.202938</td>\n",
       "      <td>12.0</td>\n",
       "      <td>7</td>\n",
       "      <td>1.922936</td>\n",
       "      <td>1.910244</td>\n",
       "      <td>0</td>\n",
       "    </tr>\n",
       "    <tr>\n",
       "      <td>2</td>\n",
       "      <td>0</td>\n",
       "      <td>1</td>\n",
       "      <td>1</td>\n",
       "      <td>0</td>\n",
       "      <td>1</td>\n",
       "      <td>1</td>\n",
       "      <td>0</td>\n",
       "      <td>28</td>\n",
       "      <td>129.448479</td>\n",
       "      <td>1.0</td>\n",
       "      <td>2</td>\n",
       "      <td>1.859098</td>\n",
       "      <td>1.736502</td>\n",
       "      <td>0</td>\n",
       "    </tr>\n",
       "    <tr>\n",
       "      <td>3</td>\n",
       "      <td>0</td>\n",
       "      <td>1</td>\n",
       "      <td>1</td>\n",
       "      <td>1</td>\n",
       "      <td>1</td>\n",
       "      <td>12</td>\n",
       "      <td>1</td>\n",
       "      <td>33</td>\n",
       "      <td>62.669863</td>\n",
       "      <td>12.0</td>\n",
       "      <td>2</td>\n",
       "      <td>3.205633</td>\n",
       "      <td>3.357215</td>\n",
       "      <td>0</td>\n",
       "    </tr>\n",
       "    <tr>\n",
       "      <td>4</td>\n",
       "      <td>1</td>\n",
       "      <td>1</td>\n",
       "      <td>1</td>\n",
       "      <td>1</td>\n",
       "      <td>1</td>\n",
       "      <td>1</td>\n",
       "      <td>0</td>\n",
       "      <td>26</td>\n",
       "      <td>198.362265</td>\n",
       "      <td>1.0</td>\n",
       "      <td>3</td>\n",
       "      <td>1.113884</td>\n",
       "      <td>1.120078</td>\n",
       "      <td>0</td>\n",
       "    </tr>\n",
       "  </tbody>\n",
       "</table>\n",
       "</div>"
      ],
      "text/plain": [
       "   gender  Near_Location  Partner  Promo_friends  Phone  Contract_period  \\\n",
       "0       1              1        1              1      0                6   \n",
       "1       0              1        0              0      1               12   \n",
       "2       0              1        1              0      1                1   \n",
       "3       0              1        1              1      1               12   \n",
       "4       1              1        1              1      1                1   \n",
       "\n",
       "   Group_visits  Age  Avg_additional_charges_total  Month_to_end_contract  \\\n",
       "0             1   29                     14.227470                    5.0   \n",
       "1             1   31                    113.202938                   12.0   \n",
       "2             0   28                    129.448479                    1.0   \n",
       "3             1   33                     62.669863                   12.0   \n",
       "4             0   26                    198.362265                    1.0   \n",
       "\n",
       "   Lifetime  Avg_class_frequency_total  Avg_class_frequency_current_month  \\\n",
       "0         3                   0.020398                           0.000000   \n",
       "1         7                   1.922936                           1.910244   \n",
       "2         2                   1.859098                           1.736502   \n",
       "3         2                   3.205633                           3.357215   \n",
       "4         3                   1.113884                           1.120078   \n",
       "\n",
       "   Churn  \n",
       "0      0  \n",
       "1      0  \n",
       "2      0  \n",
       "3      0  \n",
       "4      0  "
      ]
     },
     "execution_count": 3,
     "metadata": {},
     "output_type": "execute_result"
    }
   ],
   "source": [
    "df.head()"
   ]
  },
  {
   "cell_type": "code",
   "execution_count": 4,
   "metadata": {
    "scrolled": true
   },
   "outputs": [
    {
     "name": "stdout",
     "output_type": "stream",
     "text": [
      "<class 'pandas.core.frame.DataFrame'>\n",
      "RangeIndex: 4000 entries, 0 to 3999\n",
      "Data columns (total 14 columns):\n",
      "gender                               4000 non-null int64\n",
      "Near_Location                        4000 non-null int64\n",
      "Partner                              4000 non-null int64\n",
      "Promo_friends                        4000 non-null int64\n",
      "Phone                                4000 non-null int64\n",
      "Contract_period                      4000 non-null int64\n",
      "Group_visits                         4000 non-null int64\n",
      "Age                                  4000 non-null int64\n",
      "Avg_additional_charges_total         4000 non-null float64\n",
      "Month_to_end_contract                4000 non-null float64\n",
      "Lifetime                             4000 non-null int64\n",
      "Avg_class_frequency_total            4000 non-null float64\n",
      "Avg_class_frequency_current_month    4000 non-null float64\n",
      "Churn                                4000 non-null int64\n",
      "dtypes: float64(4), int64(10)\n",
      "memory usage: 437.6 KB\n"
     ]
    }
   ],
   "source": [
    "df.info()"
   ]
  },
  {
   "cell_type": "code",
   "execution_count": 5,
   "metadata": {
    "scrolled": true
   },
   "outputs": [
    {
     "data": {
      "text/html": [
       "<div>\n",
       "<style scoped>\n",
       "    .dataframe tbody tr th:only-of-type {\n",
       "        vertical-align: middle;\n",
       "    }\n",
       "\n",
       "    .dataframe tbody tr th {\n",
       "        vertical-align: top;\n",
       "    }\n",
       "\n",
       "    .dataframe thead th {\n",
       "        text-align: right;\n",
       "    }\n",
       "</style>\n",
       "<table border=\"1\" class=\"dataframe\">\n",
       "  <thead>\n",
       "    <tr style=\"text-align: right;\">\n",
       "      <th></th>\n",
       "      <th>gender</th>\n",
       "      <th>Near_Location</th>\n",
       "      <th>Partner</th>\n",
       "      <th>Promo_friends</th>\n",
       "      <th>Phone</th>\n",
       "      <th>Contract_period</th>\n",
       "      <th>Group_visits</th>\n",
       "      <th>Age</th>\n",
       "      <th>Avg_additional_charges_total</th>\n",
       "      <th>Month_to_end_contract</th>\n",
       "      <th>Lifetime</th>\n",
       "      <th>Avg_class_frequency_total</th>\n",
       "      <th>Avg_class_frequency_current_month</th>\n",
       "      <th>Churn</th>\n",
       "    </tr>\n",
       "  </thead>\n",
       "  <tbody>\n",
       "    <tr>\n",
       "      <td>count</td>\n",
       "      <td>4000.000000</td>\n",
       "      <td>4000.000000</td>\n",
       "      <td>4000.000000</td>\n",
       "      <td>4000.000000</td>\n",
       "      <td>4000.000000</td>\n",
       "      <td>4000.000000</td>\n",
       "      <td>4000.000000</td>\n",
       "      <td>4000.000000</td>\n",
       "      <td>4000.000000</td>\n",
       "      <td>4000.000000</td>\n",
       "      <td>4000.000000</td>\n",
       "      <td>4000.000000</td>\n",
       "      <td>4000.000000</td>\n",
       "      <td>4000.000000</td>\n",
       "    </tr>\n",
       "    <tr>\n",
       "      <td>mean</td>\n",
       "      <td>0.510250</td>\n",
       "      <td>0.845250</td>\n",
       "      <td>0.486750</td>\n",
       "      <td>0.308500</td>\n",
       "      <td>0.903500</td>\n",
       "      <td>4.681250</td>\n",
       "      <td>0.412250</td>\n",
       "      <td>29.184250</td>\n",
       "      <td>146.943728</td>\n",
       "      <td>4.322750</td>\n",
       "      <td>3.724750</td>\n",
       "      <td>1.879020</td>\n",
       "      <td>1.767052</td>\n",
       "      <td>0.265250</td>\n",
       "    </tr>\n",
       "    <tr>\n",
       "      <td>std</td>\n",
       "      <td>0.499957</td>\n",
       "      <td>0.361711</td>\n",
       "      <td>0.499887</td>\n",
       "      <td>0.461932</td>\n",
       "      <td>0.295313</td>\n",
       "      <td>4.549706</td>\n",
       "      <td>0.492301</td>\n",
       "      <td>3.258367</td>\n",
       "      <td>96.355602</td>\n",
       "      <td>4.191297</td>\n",
       "      <td>3.749267</td>\n",
       "      <td>0.972245</td>\n",
       "      <td>1.052906</td>\n",
       "      <td>0.441521</td>\n",
       "    </tr>\n",
       "    <tr>\n",
       "      <td>min</td>\n",
       "      <td>0.000000</td>\n",
       "      <td>0.000000</td>\n",
       "      <td>0.000000</td>\n",
       "      <td>0.000000</td>\n",
       "      <td>0.000000</td>\n",
       "      <td>1.000000</td>\n",
       "      <td>0.000000</td>\n",
       "      <td>18.000000</td>\n",
       "      <td>0.148205</td>\n",
       "      <td>1.000000</td>\n",
       "      <td>0.000000</td>\n",
       "      <td>0.000000</td>\n",
       "      <td>0.000000</td>\n",
       "      <td>0.000000</td>\n",
       "    </tr>\n",
       "    <tr>\n",
       "      <td>25%</td>\n",
       "      <td>0.000000</td>\n",
       "      <td>1.000000</td>\n",
       "      <td>0.000000</td>\n",
       "      <td>0.000000</td>\n",
       "      <td>1.000000</td>\n",
       "      <td>1.000000</td>\n",
       "      <td>0.000000</td>\n",
       "      <td>27.000000</td>\n",
       "      <td>68.868830</td>\n",
       "      <td>1.000000</td>\n",
       "      <td>1.000000</td>\n",
       "      <td>1.180875</td>\n",
       "      <td>0.963003</td>\n",
       "      <td>0.000000</td>\n",
       "    </tr>\n",
       "    <tr>\n",
       "      <td>50%</td>\n",
       "      <td>1.000000</td>\n",
       "      <td>1.000000</td>\n",
       "      <td>0.000000</td>\n",
       "      <td>0.000000</td>\n",
       "      <td>1.000000</td>\n",
       "      <td>1.000000</td>\n",
       "      <td>0.000000</td>\n",
       "      <td>29.000000</td>\n",
       "      <td>136.220159</td>\n",
       "      <td>1.000000</td>\n",
       "      <td>3.000000</td>\n",
       "      <td>1.832768</td>\n",
       "      <td>1.719574</td>\n",
       "      <td>0.000000</td>\n",
       "    </tr>\n",
       "    <tr>\n",
       "      <td>75%</td>\n",
       "      <td>1.000000</td>\n",
       "      <td>1.000000</td>\n",
       "      <td>1.000000</td>\n",
       "      <td>1.000000</td>\n",
       "      <td>1.000000</td>\n",
       "      <td>6.000000</td>\n",
       "      <td>1.000000</td>\n",
       "      <td>31.000000</td>\n",
       "      <td>210.949625</td>\n",
       "      <td>6.000000</td>\n",
       "      <td>5.000000</td>\n",
       "      <td>2.536078</td>\n",
       "      <td>2.510336</td>\n",
       "      <td>1.000000</td>\n",
       "    </tr>\n",
       "    <tr>\n",
       "      <td>max</td>\n",
       "      <td>1.000000</td>\n",
       "      <td>1.000000</td>\n",
       "      <td>1.000000</td>\n",
       "      <td>1.000000</td>\n",
       "      <td>1.000000</td>\n",
       "      <td>12.000000</td>\n",
       "      <td>1.000000</td>\n",
       "      <td>41.000000</td>\n",
       "      <td>552.590740</td>\n",
       "      <td>12.000000</td>\n",
       "      <td>31.000000</td>\n",
       "      <td>6.023668</td>\n",
       "      <td>6.146783</td>\n",
       "      <td>1.000000</td>\n",
       "    </tr>\n",
       "  </tbody>\n",
       "</table>\n",
       "</div>"
      ],
      "text/plain": [
       "            gender  Near_Location      Partner  Promo_friends        Phone  \\\n",
       "count  4000.000000    4000.000000  4000.000000    4000.000000  4000.000000   \n",
       "mean      0.510250       0.845250     0.486750       0.308500     0.903500   \n",
       "std       0.499957       0.361711     0.499887       0.461932     0.295313   \n",
       "min       0.000000       0.000000     0.000000       0.000000     0.000000   \n",
       "25%       0.000000       1.000000     0.000000       0.000000     1.000000   \n",
       "50%       1.000000       1.000000     0.000000       0.000000     1.000000   \n",
       "75%       1.000000       1.000000     1.000000       1.000000     1.000000   \n",
       "max       1.000000       1.000000     1.000000       1.000000     1.000000   \n",
       "\n",
       "       Contract_period  Group_visits          Age  \\\n",
       "count      4000.000000   4000.000000  4000.000000   \n",
       "mean          4.681250      0.412250    29.184250   \n",
       "std           4.549706      0.492301     3.258367   \n",
       "min           1.000000      0.000000    18.000000   \n",
       "25%           1.000000      0.000000    27.000000   \n",
       "50%           1.000000      0.000000    29.000000   \n",
       "75%           6.000000      1.000000    31.000000   \n",
       "max          12.000000      1.000000    41.000000   \n",
       "\n",
       "       Avg_additional_charges_total  Month_to_end_contract     Lifetime  \\\n",
       "count                   4000.000000            4000.000000  4000.000000   \n",
       "mean                     146.943728               4.322750     3.724750   \n",
       "std                       96.355602               4.191297     3.749267   \n",
       "min                        0.148205               1.000000     0.000000   \n",
       "25%                       68.868830               1.000000     1.000000   \n",
       "50%                      136.220159               1.000000     3.000000   \n",
       "75%                      210.949625               6.000000     5.000000   \n",
       "max                      552.590740              12.000000    31.000000   \n",
       "\n",
       "       Avg_class_frequency_total  Avg_class_frequency_current_month  \\\n",
       "count                4000.000000                        4000.000000   \n",
       "mean                    1.879020                           1.767052   \n",
       "std                     0.972245                           1.052906   \n",
       "min                     0.000000                           0.000000   \n",
       "25%                     1.180875                           0.963003   \n",
       "50%                     1.832768                           1.719574   \n",
       "75%                     2.536078                           2.510336   \n",
       "max                     6.023668                           6.146783   \n",
       "\n",
       "             Churn  \n",
       "count  4000.000000  \n",
       "mean      0.265250  \n",
       "std       0.441521  \n",
       "min       0.000000  \n",
       "25%       0.000000  \n",
       "50%       0.000000  \n",
       "75%       1.000000  \n",
       "max       1.000000  "
      ]
     },
     "execution_count": 5,
     "metadata": {},
     "output_type": "execute_result"
    }
   ],
   "source": [
    "df.describe()"
   ]
  },
  {
   "cell_type": "markdown",
   "metadata": {},
   "source": [
    "Changing type of  Month_to_end_contract to int"
   ]
  },
  {
   "cell_type": "code",
   "execution_count": 6,
   "metadata": {},
   "outputs": [],
   "source": [
    "df['Month_to_end_contract'] = df['Month_to_end_contract'].astype('int')"
   ]
  },
  {
   "cell_type": "markdown",
   "metadata": {},
   "source": [
    "Duplicates"
   ]
  },
  {
   "cell_type": "code",
   "execution_count": 7,
   "metadata": {},
   "outputs": [
    {
     "data": {
      "text/plain": [
       "0"
      ]
     },
     "execution_count": 7,
     "metadata": {},
     "output_type": "execute_result"
    }
   ],
   "source": [
    "df.duplicated().sum()"
   ]
  },
  {
   "cell_type": "markdown",
   "metadata": {},
   "source": [
    "Let's see the correctness of the values in the columns, where the variable takes values only 0 and 1"
   ]
  },
  {
   "cell_type": "code",
   "execution_count": 8,
   "metadata": {
    "scrolled": true
   },
   "outputs": [
    {
     "name": "stdout",
     "output_type": "stream",
     "text": [
      "gender\n",
      "[1 0]\n",
      "Near_Location\n",
      "[1 0]\n",
      "Partner\n",
      "[1 0]\n",
      "Promo_friends\n",
      "[1 0]\n",
      "Phone\n",
      "[0 1]\n",
      "Group_visits\n",
      "[1 0]\n",
      "Churn\n",
      "[0 1]\n"
     ]
    }
   ],
   "source": [
    "for column in df.drop(['Contract_period', 'Age', 'Avg_additional_charges_total', 'Month_to_end_contract',\n",
    "                      'Lifetime', 'Avg_class_frequency_total', 'Avg_class_frequency_current_month'], axis = 1).columns:\n",
    "    print(column)\n",
    "    print(df[column].unique())"
   ]
  },
  {
   "cell_type": "markdown",
   "metadata": {},
   "source": [
    "**Conclusion**\n",
    "- binary features values ​​are correct and can only be 0 or 1\n",
    "- no gaps found\n",
    "- no duplicates found\n",
    "- data types correspond to values ​​- the Month_to_end_contract attribute is converted to integer type\n",
    "- clients are evenly distributed by gender - the average is 0.51. Clients with gender = 1 dominate to a small extent\n",
    "- the vast majority of customers live or work in the area where the fitness center is located\n",
    "- there are a few more clients in the data who are not partners of the center, as well as those who came to the center, not at the invitation of a friend\n",
    "- most of the clients leave a contact phone number and do not attend group classes\n",
    "- age of clients - from 18 to 41 years\n",
    "- standard deviations say that the variance of the data is not very large"
   ]
  },
  {
   "cell_type": "markdown",
   "metadata": {},
   "source": [
    "## Exploratory data analysis"
   ]
  },
  {
   "cell_type": "markdown",
   "metadata": {},
   "source": [
    "### Average values of features in two groups - those who left and those who remained"
   ]
  },
  {
   "cell_type": "code",
   "execution_count": 9,
   "metadata": {},
   "outputs": [
    {
     "data": {
      "text/html": [
       "<div>\n",
       "<style scoped>\n",
       "    .dataframe tbody tr th:only-of-type {\n",
       "        vertical-align: middle;\n",
       "    }\n",
       "\n",
       "    .dataframe tbody tr th {\n",
       "        vertical-align: top;\n",
       "    }\n",
       "\n",
       "    .dataframe thead th {\n",
       "        text-align: right;\n",
       "    }\n",
       "</style>\n",
       "<table border=\"1\" class=\"dataframe\">\n",
       "  <thead>\n",
       "    <tr style=\"text-align: right;\">\n",
       "      <th></th>\n",
       "      <th>gender</th>\n",
       "      <th>Near_Location</th>\n",
       "      <th>Partner</th>\n",
       "      <th>Promo_friends</th>\n",
       "      <th>Phone</th>\n",
       "      <th>Contract_period</th>\n",
       "      <th>Group_visits</th>\n",
       "      <th>Age</th>\n",
       "      <th>Avg_additional_charges_total</th>\n",
       "      <th>Month_to_end_contract</th>\n",
       "      <th>Lifetime</th>\n",
       "      <th>Avg_class_frequency_total</th>\n",
       "      <th>Avg_class_frequency_current_month</th>\n",
       "    </tr>\n",
       "    <tr>\n",
       "      <th>Churn</th>\n",
       "      <th></th>\n",
       "      <th></th>\n",
       "      <th></th>\n",
       "      <th></th>\n",
       "      <th></th>\n",
       "      <th></th>\n",
       "      <th></th>\n",
       "      <th></th>\n",
       "      <th></th>\n",
       "      <th></th>\n",
       "      <th></th>\n",
       "      <th></th>\n",
       "      <th></th>\n",
       "    </tr>\n",
       "  </thead>\n",
       "  <tbody>\n",
       "    <tr>\n",
       "      <td>0</td>\n",
       "      <td>0.510037</td>\n",
       "      <td>0.873086</td>\n",
       "      <td>0.534195</td>\n",
       "      <td>0.353522</td>\n",
       "      <td>0.903709</td>\n",
       "      <td>5.747193</td>\n",
       "      <td>0.464103</td>\n",
       "      <td>29.976523</td>\n",
       "      <td>158.445715</td>\n",
       "      <td>5.283089</td>\n",
       "      <td>4.711807</td>\n",
       "      <td>2.024876</td>\n",
       "      <td>2.027882</td>\n",
       "    </tr>\n",
       "    <tr>\n",
       "      <td>1</td>\n",
       "      <td>0.510839</td>\n",
       "      <td>0.768143</td>\n",
       "      <td>0.355325</td>\n",
       "      <td>0.183789</td>\n",
       "      <td>0.902922</td>\n",
       "      <td>1.728558</td>\n",
       "      <td>0.268615</td>\n",
       "      <td>26.989632</td>\n",
       "      <td>115.082899</td>\n",
       "      <td>1.662582</td>\n",
       "      <td>0.990575</td>\n",
       "      <td>1.474995</td>\n",
       "      <td>1.044546</td>\n",
       "    </tr>\n",
       "  </tbody>\n",
       "</table>\n",
       "</div>"
      ],
      "text/plain": [
       "         gender  Near_Location   Partner  Promo_friends     Phone  \\\n",
       "Churn                                                               \n",
       "0      0.510037       0.873086  0.534195       0.353522  0.903709   \n",
       "1      0.510839       0.768143  0.355325       0.183789  0.902922   \n",
       "\n",
       "       Contract_period  Group_visits        Age  Avg_additional_charges_total  \\\n",
       "Churn                                                                           \n",
       "0             5.747193      0.464103  29.976523                    158.445715   \n",
       "1             1.728558      0.268615  26.989632                    115.082899   \n",
       "\n",
       "       Month_to_end_contract  Lifetime  Avg_class_frequency_total  \\\n",
       "Churn                                                               \n",
       "0                   5.283089  4.711807                   2.024876   \n",
       "1                   1.662582  0.990575                   1.474995   \n",
       "\n",
       "       Avg_class_frequency_current_month  \n",
       "Churn                                     \n",
       "0                               2.027882  \n",
       "1                               1.044546  "
      ]
     },
     "execution_count": 9,
     "metadata": {},
     "output_type": "execute_result"
    }
   ],
   "source": [
    "df.groupby('Churn')[df.drop('Churn', axis = 1).columns].mean()"
   ]
  },
  {
   "cell_type": "markdown",
   "metadata": {},
   "source": [
    "**Conclusion**\n",
    "- gender - does not affect churn rate\n",
    "- location - in the outflow there are more clients who live or work not near the center\n",
    "- partnership and promo - there are more clients in the outflow who are not partners of the club and who came not at the invitation of a friend\n",
    "- the fact that the client left his phone number does not affect his retention\n",
    "- customers with a shorter duration of the current active subscription are more likely to \"flow out\"\n",
    "- group visits have a positive effect on customer retention\n",
    "- similar with additional spending - less spending - more likely to churn\n",
    "- Clients whose contract with the center comes to an end flow to a greater extent\n",
    "- in general, \"falling off\" clients visit the center less often than those who stay\n",
    "- the longer the client is with the center - the better he is retained (lifetime)\n",
    "\n",
    "Signs that affect Churn to a small extent:\n",
    "- Near Location\n",
    "- Age\n",
    "- Avg_class_frequency_total\n",
    "\n",
    "Preliminarily, the following features that affect Churn can be distinguished:\n",
    "- Partner\n",
    "- Promo_friends\n",
    "- Contract_period\n",
    "- Group_visits\n",
    "- Avg_additional_charges_total\n",
    "- Month_to_end_contract\n",
    "- Life time\n",
    "- Avg_class_frequency_current_month\n",
    "\n",
    "In general, we see that customers who are less socially and financially involved in the product are churning out."
   ]
  },
  {
   "cell_type": "markdown",
   "metadata": {},
   "source": [
    "### Barplots and feature distributions for those who left (outflow) and those who stayed (did not get into the outflow)"
   ]
  },
  {
   "cell_type": "code",
   "execution_count": 10,
   "metadata": {},
   "outputs": [
    {
     "data": {
      "image/png": "[encoded data removed]",
      "text/plain": [
       "<Figure size 1440x1800 with 13 Axes>"
      ]
     },
     "metadata": {
      "needs_background": "light"
     },
     "output_type": "display_data"
    }
   ],
   "source": [
    "plt.figure(figsize=(20,25))\n",
    "params = df.drop('Churn', axis = 1).columns\n",
    "\n",
    "for i, param in enumerate(params):\n",
    "    sns.histplot(data = df, x= param, hue = 'Churn', ax = plt.subplot(4,4, i+1))\n",
    "    plt.title(f'{param}')\n",
    "    plt.xlabel(param)\n",
    "    plt.ylabel('')\n"
   ]
  },
  {
   "cell_type": "markdown",
   "metadata": {},
   "source": [
    "**Conclusion**\n",
    "- age - we have an almost equal number of women and men, the share of those who left is the same and does not depend on gender\n",
    "- most of the clients live or work near the center, while the outflow of clients living in remoteness is much greater\n",
    "- among the partners of the center there are fewer who left\n",
    "- there are fewer people who came at the invitation of a friend, but they are better retained\n",
    "- as noted, the fact that the client left his number does not affect the outflow\n",
    "- we have only three types of contracts - for 1, 6 and 12 months - with an increase in the duration of the contract, the outflow of customers decreases\n",
    "- there are more clients who prefer individual lessons, but there is also more outflow among them\n",
    "- by age, it can be said that younger clients, under 25 years old, are kept worse. No data anomalies found\n",
    "- with the growth of spending on additional services, customers flow out in smaller numbers. No anomalies found\n",
    "- the closer the end date of the contract - the greater the likelihood of losing a client\n",
    "- for clients visiting the center for less than 2 months, a very strong outflow is most characteristic\n",
    "- we are also losing more clients visiting the center less frequently (once a week)"
   ]
  },
  {
   "cell_type": "markdown",
   "metadata": {},
   "source": [
    "### Correlation matrix"
   ]
  },
  {
   "cell_type": "code",
   "execution_count": 11,
   "metadata": {},
   "outputs": [
    {
     "data": {
      "text/html": [
       "<div>\n",
       "<style scoped>\n",
       "    .dataframe tbody tr th:only-of-type {\n",
       "        vertical-align: middle;\n",
       "    }\n",
       "\n",
       "    .dataframe tbody tr th {\n",
       "        vertical-align: top;\n",
       "    }\n",
       "\n",
       "    .dataframe thead th {\n",
       "        text-align: right;\n",
       "    }\n",
       "</style>\n",
       "<table border=\"1\" class=\"dataframe\">\n",
       "  <thead>\n",
       "    <tr style=\"text-align: right;\">\n",
       "      <th></th>\n",
       "      <th>gender</th>\n",
       "      <th>Near_Location</th>\n",
       "      <th>Partner</th>\n",
       "      <th>Promo_friends</th>\n",
       "      <th>Phone</th>\n",
       "      <th>Contract_period</th>\n",
       "      <th>Group_visits</th>\n",
       "      <th>Age</th>\n",
       "      <th>Avg_additional_charges_total</th>\n",
       "      <th>Month_to_end_contract</th>\n",
       "      <th>Lifetime</th>\n",
       "      <th>Avg_class_frequency_total</th>\n",
       "      <th>Avg_class_frequency_current_month</th>\n",
       "      <th>Churn</th>\n",
       "    </tr>\n",
       "  </thead>\n",
       "  <tbody>\n",
       "    <tr>\n",
       "      <td>gender</td>\n",
       "      <td>1.00</td>\n",
       "      <td>0.01</td>\n",
       "      <td>-0.01</td>\n",
       "      <td>-0.01</td>\n",
       "      <td>-0.01</td>\n",
       "      <td>0.00</td>\n",
       "      <td>0.02</td>\n",
       "      <td>0.01</td>\n",
       "      <td>-0.01</td>\n",
       "      <td>-0.00</td>\n",
       "      <td>0.01</td>\n",
       "      <td>0.01</td>\n",
       "      <td>0.01</td>\n",
       "      <td>0.00</td>\n",
       "    </tr>\n",
       "    <tr>\n",
       "      <td>Near_Location</td>\n",
       "      <td>0.01</td>\n",
       "      <td>1.00</td>\n",
       "      <td>-0.01</td>\n",
       "      <td>0.21</td>\n",
       "      <td>-0.02</td>\n",
       "      <td>0.15</td>\n",
       "      <td>0.15</td>\n",
       "      <td>0.06</td>\n",
       "      <td>0.04</td>\n",
       "      <td>0.14</td>\n",
       "      <td>0.07</td>\n",
       "      <td>0.04</td>\n",
       "      <td>0.06</td>\n",
       "      <td>-0.13</td>\n",
       "    </tr>\n",
       "    <tr>\n",
       "      <td>Partner</td>\n",
       "      <td>-0.01</td>\n",
       "      <td>-0.01</td>\n",
       "      <td>1.00</td>\n",
       "      <td>0.45</td>\n",
       "      <td>0.01</td>\n",
       "      <td>0.31</td>\n",
       "      <td>0.02</td>\n",
       "      <td>0.05</td>\n",
       "      <td>0.02</td>\n",
       "      <td>0.29</td>\n",
       "      <td>0.06</td>\n",
       "      <td>0.02</td>\n",
       "      <td>0.05</td>\n",
       "      <td>-0.16</td>\n",
       "    </tr>\n",
       "    <tr>\n",
       "      <td>Promo_friends</td>\n",
       "      <td>-0.01</td>\n",
       "      <td>0.21</td>\n",
       "      <td>0.45</td>\n",
       "      <td>1.00</td>\n",
       "      <td>0.00</td>\n",
       "      <td>0.24</td>\n",
       "      <td>0.12</td>\n",
       "      <td>0.05</td>\n",
       "      <td>0.04</td>\n",
       "      <td>0.24</td>\n",
       "      <td>0.07</td>\n",
       "      <td>0.03</td>\n",
       "      <td>0.05</td>\n",
       "      <td>-0.16</td>\n",
       "    </tr>\n",
       "    <tr>\n",
       "      <td>Phone</td>\n",
       "      <td>-0.01</td>\n",
       "      <td>-0.02</td>\n",
       "      <td>0.01</td>\n",
       "      <td>0.00</td>\n",
       "      <td>1.00</td>\n",
       "      <td>-0.01</td>\n",
       "      <td>-0.01</td>\n",
       "      <td>-0.01</td>\n",
       "      <td>0.01</td>\n",
       "      <td>-0.01</td>\n",
       "      <td>-0.02</td>\n",
       "      <td>0.01</td>\n",
       "      <td>0.01</td>\n",
       "      <td>-0.00</td>\n",
       "    </tr>\n",
       "    <tr>\n",
       "      <td>Contract_period</td>\n",
       "      <td>0.00</td>\n",
       "      <td>0.15</td>\n",
       "      <td>0.31</td>\n",
       "      <td>0.24</td>\n",
       "      <td>-0.01</td>\n",
       "      <td>1.00</td>\n",
       "      <td>0.17</td>\n",
       "      <td>0.14</td>\n",
       "      <td>0.11</td>\n",
       "      <td>0.97</td>\n",
       "      <td>0.17</td>\n",
       "      <td>0.10</td>\n",
       "      <td>0.16</td>\n",
       "      <td>-0.39</td>\n",
       "    </tr>\n",
       "    <tr>\n",
       "      <td>Group_visits</td>\n",
       "      <td>0.02</td>\n",
       "      <td>0.15</td>\n",
       "      <td>0.02</td>\n",
       "      <td>0.12</td>\n",
       "      <td>-0.01</td>\n",
       "      <td>0.17</td>\n",
       "      <td>1.00</td>\n",
       "      <td>0.08</td>\n",
       "      <td>0.03</td>\n",
       "      <td>0.16</td>\n",
       "      <td>0.08</td>\n",
       "      <td>0.06</td>\n",
       "      <td>0.08</td>\n",
       "      <td>-0.18</td>\n",
       "    </tr>\n",
       "    <tr>\n",
       "      <td>Age</td>\n",
       "      <td>0.01</td>\n",
       "      <td>0.06</td>\n",
       "      <td>0.05</td>\n",
       "      <td>0.05</td>\n",
       "      <td>-0.01</td>\n",
       "      <td>0.14</td>\n",
       "      <td>0.08</td>\n",
       "      <td>1.00</td>\n",
       "      <td>0.08</td>\n",
       "      <td>0.13</td>\n",
       "      <td>0.16</td>\n",
       "      <td>0.12</td>\n",
       "      <td>0.18</td>\n",
       "      <td>-0.40</td>\n",
       "    </tr>\n",
       "    <tr>\n",
       "      <td>Avg_additional_charges_total</td>\n",
       "      <td>-0.01</td>\n",
       "      <td>0.04</td>\n",
       "      <td>0.02</td>\n",
       "      <td>0.04</td>\n",
       "      <td>0.01</td>\n",
       "      <td>0.11</td>\n",
       "      <td>0.03</td>\n",
       "      <td>0.08</td>\n",
       "      <td>1.00</td>\n",
       "      <td>0.11</td>\n",
       "      <td>0.08</td>\n",
       "      <td>0.04</td>\n",
       "      <td>0.08</td>\n",
       "      <td>-0.20</td>\n",
       "    </tr>\n",
       "    <tr>\n",
       "      <td>Month_to_end_contract</td>\n",
       "      <td>-0.00</td>\n",
       "      <td>0.14</td>\n",
       "      <td>0.29</td>\n",
       "      <td>0.24</td>\n",
       "      <td>-0.01</td>\n",
       "      <td>0.97</td>\n",
       "      <td>0.16</td>\n",
       "      <td>0.13</td>\n",
       "      <td>0.11</td>\n",
       "      <td>1.00</td>\n",
       "      <td>0.16</td>\n",
       "      <td>0.09</td>\n",
       "      <td>0.15</td>\n",
       "      <td>-0.38</td>\n",
       "    </tr>\n",
       "    <tr>\n",
       "      <td>Lifetime</td>\n",
       "      <td>0.01</td>\n",
       "      <td>0.07</td>\n",
       "      <td>0.06</td>\n",
       "      <td>0.07</td>\n",
       "      <td>-0.02</td>\n",
       "      <td>0.17</td>\n",
       "      <td>0.08</td>\n",
       "      <td>0.16</td>\n",
       "      <td>0.08</td>\n",
       "      <td>0.16</td>\n",
       "      <td>1.00</td>\n",
       "      <td>0.11</td>\n",
       "      <td>0.18</td>\n",
       "      <td>-0.44</td>\n",
       "    </tr>\n",
       "    <tr>\n",
       "      <td>Avg_class_frequency_total</td>\n",
       "      <td>0.01</td>\n",
       "      <td>0.04</td>\n",
       "      <td>0.02</td>\n",
       "      <td>0.03</td>\n",
       "      <td>0.01</td>\n",
       "      <td>0.10</td>\n",
       "      <td>0.06</td>\n",
       "      <td>0.12</td>\n",
       "      <td>0.04</td>\n",
       "      <td>0.09</td>\n",
       "      <td>0.11</td>\n",
       "      <td>1.00</td>\n",
       "      <td>0.95</td>\n",
       "      <td>-0.25</td>\n",
       "    </tr>\n",
       "    <tr>\n",
       "      <td>Avg_class_frequency_current_month</td>\n",
       "      <td>0.01</td>\n",
       "      <td>0.06</td>\n",
       "      <td>0.05</td>\n",
       "      <td>0.05</td>\n",
       "      <td>0.01</td>\n",
       "      <td>0.16</td>\n",
       "      <td>0.08</td>\n",
       "      <td>0.18</td>\n",
       "      <td>0.08</td>\n",
       "      <td>0.15</td>\n",
       "      <td>0.18</td>\n",
       "      <td>0.95</td>\n",
       "      <td>1.00</td>\n",
       "      <td>-0.41</td>\n",
       "    </tr>\n",
       "    <tr>\n",
       "      <td>Churn</td>\n",
       "      <td>0.00</td>\n",
       "      <td>-0.13</td>\n",
       "      <td>-0.16</td>\n",
       "      <td>-0.16</td>\n",
       "      <td>-0.00</td>\n",
       "      <td>-0.39</td>\n",
       "      <td>-0.18</td>\n",
       "      <td>-0.40</td>\n",
       "      <td>-0.20</td>\n",
       "      <td>-0.38</td>\n",
       "      <td>-0.44</td>\n",
       "      <td>-0.25</td>\n",
       "      <td>-0.41</td>\n",
       "      <td>1.00</td>\n",
       "    </tr>\n",
       "  </tbody>\n",
       "</table>\n",
       "</div>"
      ],
      "text/plain": [
       "                                   gender  Near_Location  Partner  \\\n",
       "gender                               1.00           0.01    -0.01   \n",
       "Near_Location                        0.01           1.00    -0.01   \n",
       "Partner                             -0.01          -0.01     1.00   \n",
       "Promo_friends                       -0.01           0.21     0.45   \n",
       "Phone                               -0.01          -0.02     0.01   \n",
       "Contract_period                      0.00           0.15     0.31   \n",
       "Group_visits                         0.02           0.15     0.02   \n",
       "Age                                  0.01           0.06     0.05   \n",
       "Avg_additional_charges_total        -0.01           0.04     0.02   \n",
       "Month_to_end_contract               -0.00           0.14     0.29   \n",
       "Lifetime                             0.01           0.07     0.06   \n",
       "Avg_class_frequency_total            0.01           0.04     0.02   \n",
       "Avg_class_frequency_current_month    0.01           0.06     0.05   \n",
       "Churn                                0.00          -0.13    -0.16   \n",
       "\n",
       "                                   Promo_friends  Phone  Contract_period  \\\n",
       "gender                                     -0.01  -0.01             0.00   \n",
       "Near_Location                               0.21  -0.02             0.15   \n",
       "Partner                                     0.45   0.01             0.31   \n",
       "Promo_friends                               1.00   0.00             0.24   \n",
       "Phone                                       0.00   1.00            -0.01   \n",
       "Contract_period                             0.24  -0.01             1.00   \n",
       "Group_visits                                0.12  -0.01             0.17   \n",
       "Age                                         0.05  -0.01             0.14   \n",
       "Avg_additional_charges_total                0.04   0.01             0.11   \n",
       "Month_to_end_contract                       0.24  -0.01             0.97   \n",
       "Lifetime                                    0.07  -0.02             0.17   \n",
       "Avg_class_frequency_total                   0.03   0.01             0.10   \n",
       "Avg_class_frequency_current_month           0.05   0.01             0.16   \n",
       "Churn                                      -0.16  -0.00            -0.39   \n",
       "\n",
       "                                   Group_visits   Age  \\\n",
       "gender                                     0.02  0.01   \n",
       "Near_Location                              0.15  0.06   \n",
       "Partner                                    0.02  0.05   \n",
       "Promo_friends                              0.12  0.05   \n",
       "Phone                                     -0.01 -0.01   \n",
       "Contract_period                            0.17  0.14   \n",
       "Group_visits                               1.00  0.08   \n",
       "Age                                        0.08  1.00   \n",
       "Avg_additional_charges_total               0.03  0.08   \n",
       "Month_to_end_contract                      0.16  0.13   \n",
       "Lifetime                                   0.08  0.16   \n",
       "Avg_class_frequency_total                  0.06  0.12   \n",
       "Avg_class_frequency_current_month          0.08  0.18   \n",
       "Churn                                     -0.18 -0.40   \n",
       "\n",
       "                                   Avg_additional_charges_total  \\\n",
       "gender                                                    -0.01   \n",
       "Near_Location                                              0.04   \n",
       "Partner                                                    0.02   \n",
       "Promo_friends                                              0.04   \n",
       "Phone                                                      0.01   \n",
       "Contract_period                                            0.11   \n",
       "Group_visits                                               0.03   \n",
       "Age                                                        0.08   \n",
       "Avg_additional_charges_total                               1.00   \n",
       "Month_to_end_contract                                      0.11   \n",
       "Lifetime                                                   0.08   \n",
       "Avg_class_frequency_total                                  0.04   \n",
       "Avg_class_frequency_current_month                          0.08   \n",
       "Churn                                                     -0.20   \n",
       "\n",
       "                                   Month_to_end_contract  Lifetime  \\\n",
       "gender                                             -0.00      0.01   \n",
       "Near_Location                                       0.14      0.07   \n",
       "Partner                                             0.29      0.06   \n",
       "Promo_friends                                       0.24      0.07   \n",
       "Phone                                              -0.01     -0.02   \n",
       "Contract_period                                     0.97      0.17   \n",
       "Group_visits                                        0.16      0.08   \n",
       "Age                                                 0.13      0.16   \n",
       "Avg_additional_charges_total                        0.11      0.08   \n",
       "Month_to_end_contract                               1.00      0.16   \n",
       "Lifetime                                            0.16      1.00   \n",
       "Avg_class_frequency_total                           0.09      0.11   \n",
       "Avg_class_frequency_current_month                   0.15      0.18   \n",
       "Churn                                              -0.38     -0.44   \n",
       "\n",
       "                                   Avg_class_frequency_total  \\\n",
       "gender                                                  0.01   \n",
       "Near_Location                                           0.04   \n",
       "Partner                                                 0.02   \n",
       "Promo_friends                                           0.03   \n",
       "Phone                                                   0.01   \n",
       "Contract_period                                         0.10   \n",
       "Group_visits                                            0.06   \n",
       "Age                                                     0.12   \n",
       "Avg_additional_charges_total                            0.04   \n",
       "Month_to_end_contract                                   0.09   \n",
       "Lifetime                                                0.11   \n",
       "Avg_class_frequency_total                               1.00   \n",
       "Avg_class_frequency_current_month                       0.95   \n",
       "Churn                                                  -0.25   \n",
       "\n",
       "                                   Avg_class_frequency_current_month  Churn  \n",
       "gender                                                          0.01   0.00  \n",
       "Near_Location                                                   0.06  -0.13  \n",
       "Partner                                                         0.05  -0.16  \n",
       "Promo_friends                                                   0.05  -0.16  \n",
       "Phone                                                           0.01  -0.00  \n",
       "Contract_period                                                 0.16  -0.39  \n",
       "Group_visits                                                    0.08  -0.18  \n",
       "Age                                                             0.18  -0.40  \n",
       "Avg_additional_charges_total                                    0.08  -0.20  \n",
       "Month_to_end_contract                                           0.15  -0.38  \n",
       "Lifetime                                                        0.18  -0.44  \n",
       "Avg_class_frequency_total                                       0.95  -0.25  \n",
       "Avg_class_frequency_current_month                               1.00  -0.41  \n",
       "Churn                                                          -0.41   1.00  "
      ]
     },
     "execution_count": 11,
     "metadata": {},
     "output_type": "execute_result"
    }
   ],
   "source": [
    "df.corr().round(2)"
   ]
  },
  {
   "cell_type": "code",
   "execution_count": 12,
   "metadata": {},
   "outputs": [
    {
     "data": {
      "image/png": "[encoded data removed]",
      "text/plain": [
       "<Figure size 1008x576 with 2 Axes>"
      ]
     },
     "metadata": {
      "needs_background": "light"
     },
     "output_type": "display_data"
    }
   ],
   "source": [
    "plt.figure(figsize=(14,8))\n",
    "sns.heatmap(df.corr().round(2), annot = True, square=False)\n",
    "plt.title('Correlation matrix');"
   ]
  },
  {
   "cell_type": "markdown",
   "metadata": {},
   "source": [
    "**Conclusion**:\n",
    "\n",
    "Target feature\n",
    "- according to the correlation matrix, we do not see a strong correlation with the target feature Churn\n",
    "- moderate negative correlation with contract duration, age, lifetime, number of months until the end of the contract and frequency of visits in the current month\n",
    "\n",
    "Correlation between traits:\n",
    "- there is a very strong positive correlation between the duration of the contract and the number of months until its completion\n",
    "- there is a very strong positive correlation between the frequency of visits in the current month and the average frequency of visits for the entire period"
   ]
  },
  {
   "cell_type": "markdown",
   "metadata": {},
   "source": [
    "## Churn Prediction Model"
   ]
  },
  {
   "cell_type": "markdown",
   "metadata": {},
   "source": [
    "Let's build a model of binary classification of clients, where the target feature is the fact of the outflow of the client in the next month"
   ]
  },
  {
   "cell_type": "code",
   "execution_count": 13,
   "metadata": {},
   "outputs": [],
   "source": [
    "X = df.drop(columns=['Churn'], axis = 1)\n",
    "y = df['Churn']"
   ]
  },
  {
   "cell_type": "code",
   "execution_count": 14,
   "metadata": {},
   "outputs": [],
   "source": [
    "X_train, X_test, y_train, y_test = train_test_split(X, y, test_size=0.2)"
   ]
  },
  {
   "cell_type": "code",
   "execution_count": 15,
   "metadata": {},
   "outputs": [],
   "source": [
    "scaler = StandardScaler()\n",
    "X_train_st = scaler.fit_transform(X_train)\n",
    "X_test_st = scaler.transform(X_test)"
   ]
  },
  {
   "cell_type": "code",
   "execution_count": 16,
   "metadata": {
    "scrolled": true
   },
   "outputs": [
    {
     "name": "stdout",
     "output_type": "stream",
     "text": [
      "Model - \"LogisticRegression\"\n",
      "Accuracy = 0.928\n",
      "precision = 0.878\n",
      "recall = 0.815 \n",
      "\n"
     ]
    },
    {
     "name": "stderr",
     "output_type": "stream",
     "text": [
      "C:\\Users\\Utilisateur\\anaconda3\\envs\\praktikum_env_win_new1\\lib\\site-packages\\sklearn\\utils\\fixes.py:223: DeprecationWarning: distutils Version classes are deprecated. Use packaging.version instead.\n",
      "  if _joblib.__version__ >= LooseVersion('0.12'):\n"
     ]
    },
    {
     "name": "stdout",
     "output_type": "stream",
     "text": [
      "Model - \"RandomForest\"\n",
      "Accuracy = 0.924\n",
      "precision = 0.856\n",
      "recall = 0.826 \n",
      "\n"
     ]
    },
    {
     "name": "stderr",
     "output_type": "stream",
     "text": [
      "C:\\Users\\Utilisateur\\anaconda3\\envs\\praktikum_env_win_new1\\lib\\site-packages\\sklearn\\utils\\fixes.py:223: DeprecationWarning: distutils Version classes are deprecated. Use packaging.version instead.\n",
      "  if _joblib.__version__ >= LooseVersion('0.12'):\n"
     ]
    }
   ],
   "source": [
    "def show_metrics(name, mdl):\n",
    "    mdl.fit(X_train_st, y_train)\n",
    "    y_pred = mdl.predict(X_test_st)\n",
    "    print(\"Model -\", name)\n",
    "    acc = accuracy_score(y_test, y_pred)\n",
    "    print(\"Accuracy =\",acc.round(3))\n",
    "    precision = precision_score(y_test, y_pred).round(3)\n",
    "    print(\"precision =\", precision)\n",
    "    recall = recall_score(y_test, y_pred).round(3)\n",
    "    print(\"recall =\", recall, '\\n')\n",
    "\n",
    "model = LogisticRegression(random_state=0)\n",
    "show_metrics('\"LogisticRegression\"', model)\n",
    "\n",
    "model = RandomForestClassifier(n_estimators = 100, random_state=0)\n",
    "show_metrics('\"RandomForest\"', model)"
   ]
  },
  {
   "cell_type": "markdown",
   "metadata": {},
   "source": [
    "## Client clustering"
   ]
  },
  {
   "cell_type": "markdown",
   "metadata": {},
   "source": [
    "### Data standardization"
   ]
  },
  {
   "cell_type": "code",
   "execution_count": 17,
   "metadata": {},
   "outputs": [],
   "source": [
    "sc = StandardScaler()\n",
    "X_sc = sc.fit_transform(X)"
   ]
  },
  {
   "cell_type": "markdown",
   "metadata": {},
   "source": [
    "### Drawing a dendrogram"
   ]
  },
  {
   "cell_type": "code",
   "execution_count": 18,
   "metadata": {},
   "outputs": [],
   "source": [
    "linked = linkage(X_sc, method = 'ward')"
   ]
  },
  {
   "cell_type": "code",
   "execution_count": 19,
   "metadata": {},
   "outputs": [
    {
     "data": {
      "image/png": "[encoded data removed]",
      "text/plain": [
       "<Figure size 1080x720 with 1 Axes>"
      ]
     },
     "metadata": {
      "needs_background": "light"
     },
     "output_type": "display_data"
    }
   ],
   "source": [
    "plt.figure(figsize=(15, 10))  \n",
    "dendrogram(linked, orientation='top')\n",
    "plt.title('Hierarchial clustering for GYM')\n",
    "plt.show()"
   ]
  },
  {
   "cell_type": "markdown",
   "metadata": {},
   "source": [
    "### Clustering based on the K-Means algorithm"
   ]
  },
  {
   "cell_type": "code",
   "execution_count": 20,
   "metadata": {},
   "outputs": [],
   "source": [
    "km = KMeans(n_clusters = 5, random_state=0) \n",
    "labels = km.fit_predict(X_sc) \n"
   ]
  },
  {
   "cell_type": "code",
   "execution_count": 21,
   "metadata": {
    "scrolled": true
   },
   "outputs": [
    {
     "data": {
      "text/html": [
       "<div>\n",
       "<style scoped>\n",
       "    .dataframe tbody tr th:only-of-type {\n",
       "        vertical-align: middle;\n",
       "    }\n",
       "\n",
       "    .dataframe tbody tr th {\n",
       "        vertical-align: top;\n",
       "    }\n",
       "\n",
       "    .dataframe thead th {\n",
       "        text-align: right;\n",
       "    }\n",
       "</style>\n",
       "<table border=\"1\" class=\"dataframe\">\n",
       "  <thead>\n",
       "    <tr style=\"text-align: right;\">\n",
       "      <th></th>\n",
       "      <th>gender</th>\n",
       "      <th>Near_Location</th>\n",
       "      <th>Partner</th>\n",
       "      <th>Promo_friends</th>\n",
       "      <th>Phone</th>\n",
       "      <th>Contract_period</th>\n",
       "      <th>Group_visits</th>\n",
       "      <th>Age</th>\n",
       "      <th>Avg_additional_charges_total</th>\n",
       "      <th>Month_to_end_contract</th>\n",
       "      <th>Lifetime</th>\n",
       "      <th>Avg_class_frequency_total</th>\n",
       "      <th>Avg_class_frequency_current_month</th>\n",
       "      <th>Churn</th>\n",
       "      <th>cluster_km</th>\n",
       "    </tr>\n",
       "  </thead>\n",
       "  <tbody>\n",
       "    <tr>\n",
       "      <td>0</td>\n",
       "      <td>1</td>\n",
       "      <td>1</td>\n",
       "      <td>1</td>\n",
       "      <td>1</td>\n",
       "      <td>0</td>\n",
       "      <td>6</td>\n",
       "      <td>1</td>\n",
       "      <td>29</td>\n",
       "      <td>14.227470</td>\n",
       "      <td>5</td>\n",
       "      <td>3</td>\n",
       "      <td>0.020398</td>\n",
       "      <td>0.000000</td>\n",
       "      <td>0</td>\n",
       "      <td>1</td>\n",
       "    </tr>\n",
       "    <tr>\n",
       "      <td>1</td>\n",
       "      <td>0</td>\n",
       "      <td>1</td>\n",
       "      <td>0</td>\n",
       "      <td>0</td>\n",
       "      <td>1</td>\n",
       "      <td>12</td>\n",
       "      <td>1</td>\n",
       "      <td>31</td>\n",
       "      <td>113.202938</td>\n",
       "      <td>12</td>\n",
       "      <td>7</td>\n",
       "      <td>1.922936</td>\n",
       "      <td>1.910244</td>\n",
       "      <td>0</td>\n",
       "      <td>0</td>\n",
       "    </tr>\n",
       "    <tr>\n",
       "      <td>2</td>\n",
       "      <td>0</td>\n",
       "      <td>1</td>\n",
       "      <td>1</td>\n",
       "      <td>0</td>\n",
       "      <td>1</td>\n",
       "      <td>1</td>\n",
       "      <td>0</td>\n",
       "      <td>28</td>\n",
       "      <td>129.448479</td>\n",
       "      <td>1</td>\n",
       "      <td>2</td>\n",
       "      <td>1.859098</td>\n",
       "      <td>1.736502</td>\n",
       "      <td>0</td>\n",
       "      <td>3</td>\n",
       "    </tr>\n",
       "    <tr>\n",
       "      <td>3</td>\n",
       "      <td>0</td>\n",
       "      <td>1</td>\n",
       "      <td>1</td>\n",
       "      <td>1</td>\n",
       "      <td>1</td>\n",
       "      <td>12</td>\n",
       "      <td>1</td>\n",
       "      <td>33</td>\n",
       "      <td>62.669863</td>\n",
       "      <td>12</td>\n",
       "      <td>2</td>\n",
       "      <td>3.205633</td>\n",
       "      <td>3.357215</td>\n",
       "      <td>0</td>\n",
       "      <td>0</td>\n",
       "    </tr>\n",
       "    <tr>\n",
       "      <td>4</td>\n",
       "      <td>1</td>\n",
       "      <td>1</td>\n",
       "      <td>1</td>\n",
       "      <td>1</td>\n",
       "      <td>1</td>\n",
       "      <td>1</td>\n",
       "      <td>0</td>\n",
       "      <td>26</td>\n",
       "      <td>198.362265</td>\n",
       "      <td>1</td>\n",
       "      <td>3</td>\n",
       "      <td>1.113884</td>\n",
       "      <td>1.120078</td>\n",
       "      <td>0</td>\n",
       "      <td>3</td>\n",
       "    </tr>\n",
       "  </tbody>\n",
       "</table>\n",
       "</div>"
      ],
      "text/plain": [
       "   gender  Near_Location  Partner  Promo_friends  Phone  Contract_period  \\\n",
       "0       1              1        1              1      0                6   \n",
       "1       0              1        0              0      1               12   \n",
       "2       0              1        1              0      1                1   \n",
       "3       0              1        1              1      1               12   \n",
       "4       1              1        1              1      1                1   \n",
       "\n",
       "   Group_visits  Age  Avg_additional_charges_total  Month_to_end_contract  \\\n",
       "0             1   29                     14.227470                      5   \n",
       "1             1   31                    113.202938                     12   \n",
       "2             0   28                    129.448479                      1   \n",
       "3             1   33                     62.669863                     12   \n",
       "4             0   26                    198.362265                      1   \n",
       "\n",
       "   Lifetime  Avg_class_frequency_total  Avg_class_frequency_current_month  \\\n",
       "0         3                   0.020398                           0.000000   \n",
       "1         7                   1.922936                           1.910244   \n",
       "2         2                   1.859098                           1.736502   \n",
       "3         2                   3.205633                           3.357215   \n",
       "4         3                   1.113884                           1.120078   \n",
       "\n",
       "   Churn  cluster_km  \n",
       "0      0           1  \n",
       "1      0           0  \n",
       "2      0           3  \n",
       "3      0           0  \n",
       "4      0           3  "
      ]
     },
     "execution_count": 21,
     "metadata": {},
     "output_type": "execute_result"
    }
   ],
   "source": [
    "df['cluster_km'] = labels\n",
    "df.head()"
   ]
  },
  {
   "cell_type": "code",
   "execution_count": 22,
   "metadata": {
    "scrolled": true
   },
   "outputs": [
    {
     "name": "stdout",
     "output_type": "stream",
     "text": [
      "Silhouette_score: 0.14\n"
     ]
    }
   ],
   "source": [
    "print('Silhouette_score: {:.2f}'.format(silhouette_score(X_sc, labels)))"
   ]
  },
  {
   "cell_type": "markdown",
   "metadata": {},
   "source": [
    "### Mean values of features for clusters"
   ]
  },
  {
   "cell_type": "code",
   "execution_count": 23,
   "metadata": {},
   "outputs": [
    {
     "data": {
      "text/html": [
       "<div>\n",
       "<style scoped>\n",
       "    .dataframe tbody tr th:only-of-type {\n",
       "        vertical-align: middle;\n",
       "    }\n",
       "\n",
       "    .dataframe tbody tr th {\n",
       "        vertical-align: top;\n",
       "    }\n",
       "\n",
       "    .dataframe thead th {\n",
       "        text-align: right;\n",
       "    }\n",
       "</style>\n",
       "<table border=\"1\" class=\"dataframe\">\n",
       "  <thead>\n",
       "    <tr style=\"text-align: right;\">\n",
       "      <th></th>\n",
       "      <th>gender</th>\n",
       "      <th>Near_Location</th>\n",
       "      <th>Partner</th>\n",
       "      <th>Promo_friends</th>\n",
       "      <th>Phone</th>\n",
       "      <th>Contract_period</th>\n",
       "      <th>Group_visits</th>\n",
       "      <th>Age</th>\n",
       "      <th>Avg_additional_charges_total</th>\n",
       "      <th>Month_to_end_contract</th>\n",
       "      <th>Lifetime</th>\n",
       "      <th>Avg_class_frequency_total</th>\n",
       "      <th>Avg_class_frequency_current_month</th>\n",
       "      <th>Churn</th>\n",
       "    </tr>\n",
       "    <tr>\n",
       "      <th>cluster_km</th>\n",
       "      <th></th>\n",
       "      <th></th>\n",
       "      <th></th>\n",
       "      <th></th>\n",
       "      <th></th>\n",
       "      <th></th>\n",
       "      <th></th>\n",
       "      <th></th>\n",
       "      <th></th>\n",
       "      <th></th>\n",
       "      <th></th>\n",
       "      <th></th>\n",
       "      <th></th>\n",
       "      <th></th>\n",
       "    </tr>\n",
       "  </thead>\n",
       "  <tbody>\n",
       "    <tr>\n",
       "      <td>0</td>\n",
       "      <td>0.502473</td>\n",
       "      <td>0.959446</td>\n",
       "      <td>0.783383</td>\n",
       "      <td>0.574679</td>\n",
       "      <td>1.000000</td>\n",
       "      <td>10.884273</td>\n",
       "      <td>0.543027</td>\n",
       "      <td>29.980218</td>\n",
       "      <td>160.706969</td>\n",
       "      <td>9.950544</td>\n",
       "      <td>4.738872</td>\n",
       "      <td>1.983305</td>\n",
       "      <td>1.976225</td>\n",
       "      <td>0.027695</td>\n",
       "    </tr>\n",
       "    <tr>\n",
       "      <td>1</td>\n",
       "      <td>0.522078</td>\n",
       "      <td>0.862338</td>\n",
       "      <td>0.470130</td>\n",
       "      <td>0.306494</td>\n",
       "      <td>0.000000</td>\n",
       "      <td>4.787013</td>\n",
       "      <td>0.425974</td>\n",
       "      <td>29.301299</td>\n",
       "      <td>143.957664</td>\n",
       "      <td>4.475325</td>\n",
       "      <td>3.924675</td>\n",
       "      <td>1.847220</td>\n",
       "      <td>1.716369</td>\n",
       "      <td>0.267532</td>\n",
       "    </tr>\n",
       "    <tr>\n",
       "      <td>2</td>\n",
       "      <td>0.495050</td>\n",
       "      <td>0.000000</td>\n",
       "      <td>0.463366</td>\n",
       "      <td>0.079208</td>\n",
       "      <td>1.000000</td>\n",
       "      <td>2.352475</td>\n",
       "      <td>0.215842</td>\n",
       "      <td>28.477228</td>\n",
       "      <td>135.457501</td>\n",
       "      <td>2.198020</td>\n",
       "      <td>2.809901</td>\n",
       "      <td>1.660461</td>\n",
       "      <td>1.477324</td>\n",
       "      <td>0.443564</td>\n",
       "    </tr>\n",
       "    <tr>\n",
       "      <td>3</td>\n",
       "      <td>0.485737</td>\n",
       "      <td>1.000000</td>\n",
       "      <td>0.350238</td>\n",
       "      <td>0.240095</td>\n",
       "      <td>1.000000</td>\n",
       "      <td>1.948494</td>\n",
       "      <td>0.341521</td>\n",
       "      <td>28.167987</td>\n",
       "      <td>131.622204</td>\n",
       "      <td>1.856577</td>\n",
       "      <td>2.440571</td>\n",
       "      <td>1.247634</td>\n",
       "      <td>1.012983</td>\n",
       "      <td>0.514263</td>\n",
       "    </tr>\n",
       "    <tr>\n",
       "      <td>4</td>\n",
       "      <td>0.560335</td>\n",
       "      <td>0.976105</td>\n",
       "      <td>0.356033</td>\n",
       "      <td>0.229391</td>\n",
       "      <td>0.998805</td>\n",
       "      <td>2.665472</td>\n",
       "      <td>0.473118</td>\n",
       "      <td>30.127838</td>\n",
       "      <td>161.724258</td>\n",
       "      <td>2.455197</td>\n",
       "      <td>4.896057</td>\n",
       "      <td>2.851531</td>\n",
       "      <td>2.849473</td>\n",
       "      <td>0.068100</td>\n",
       "    </tr>\n",
       "  </tbody>\n",
       "</table>\n",
       "</div>"
      ],
      "text/plain": [
       "              gender  Near_Location   Partner  Promo_friends     Phone  \\\n",
       "cluster_km                                                               \n",
       "0           0.502473       0.959446  0.783383       0.574679  1.000000   \n",
       "1           0.522078       0.862338  0.470130       0.306494  0.000000   \n",
       "2           0.495050       0.000000  0.463366       0.079208  1.000000   \n",
       "3           0.485737       1.000000  0.350238       0.240095  1.000000   \n",
       "4           0.560335       0.976105  0.356033       0.229391  0.998805   \n",
       "\n",
       "            Contract_period  Group_visits        Age  \\\n",
       "cluster_km                                             \n",
       "0                 10.884273      0.543027  29.980218   \n",
       "1                  4.787013      0.425974  29.301299   \n",
       "2                  2.352475      0.215842  28.477228   \n",
       "3                  1.948494      0.341521  28.167987   \n",
       "4                  2.665472      0.473118  30.127838   \n",
       "\n",
       "            Avg_additional_charges_total  Month_to_end_contract  Lifetime  \\\n",
       "cluster_km                                                                  \n",
       "0                             160.706969               9.950544  4.738872   \n",
       "1                             143.957664               4.475325  3.924675   \n",
       "2                             135.457501               2.198020  2.809901   \n",
       "3                             131.622204               1.856577  2.440571   \n",
       "4                             161.724258               2.455197  4.896057   \n",
       "\n",
       "            Avg_class_frequency_total  Avg_class_frequency_current_month  \\\n",
       "cluster_km                                                                 \n",
       "0                            1.983305                           1.976225   \n",
       "1                            1.847220                           1.716369   \n",
       "2                            1.660461                           1.477324   \n",
       "3                            1.247634                           1.012983   \n",
       "4                            2.851531                           2.849473   \n",
       "\n",
       "               Churn  \n",
       "cluster_km            \n",
       "0           0.027695  \n",
       "1           0.267532  \n",
       "2           0.443564  \n",
       "3           0.514263  \n",
       "4           0.068100  "
      ]
     },
     "execution_count": 23,
     "metadata": {},
     "output_type": "execute_result"
    }
   ],
   "source": [
    "df.groupby('cluster_km')[df.drop('cluster_km', axis = 1).columns].mean()"
   ]
  },
  {
   "cell_type": "markdown",
   "metadata": {},
   "source": [
    "**Conclusion**\n",
    "\n",
    "- cluster 0 - for clients with long contracts (probably the majority in this cluster had a 12 month contract)\n",
    "- cluster 1 is formed for users who did not leave a phone number\n",
    "- cluster 2 - clients living or working away from the center\n",
    "- cluster 3 - clients who visit the center very rarely (1 time per week and 1 time in the current month)\n",
    "- cluster 4 - the most athletic clients - clients who visit the center most often"
   ]
  },
  {
   "cell_type": "markdown",
   "metadata": {},
   "source": [
    "### Feature distributions for clusters"
   ]
  },
  {
   "cell_type": "code",
   "execution_count": 24,
   "metadata": {},
   "outputs": [
    {
     "data": {
      "image/png": "[encoded data removed]",
      "text/plain": [
       "<Figure size 432x288 with 1 Axes>"
      ]
     },
     "metadata": {
      "needs_background": "light"
     },
     "output_type": "display_data"
    },
    {
     "data": {
      "image/png": "[encoded data removed]",
      "text/plain": [
       "<Figure size 432x288 with 1 Axes>"
      ]
     },
     "metadata": {
      "needs_background": "light"
     },
     "output_type": "display_data"
    },
    {
     "data": {
      "image/png": "[encoded data removed]",
      "text/plain": [
       "<Figure size 432x288 with 1 Axes>"
      ]
     },
     "metadata": {
      "needs_background": "light"
     },
     "output_type": "display_data"
    },
    {
     "data": {
      "image/png": "[encoded data removed]",
      "text/plain": [
       "<Figure size 432x288 with 1 Axes>"
      ]
     },
     "metadata": {
      "needs_background": "light"
     },
     "output_type": "display_data"
    },
    {
     "data": {
      "image/png": "[encoded data removed]",
      "text/plain": [
       "<Figure size 432x288 with 1 Axes>"
      ]
     },
     "metadata": {
      "needs_background": "light"
     },
     "output_type": "display_data"
    },
    {
     "data": {
      "image/png": "[encoded data removed]",
      "text/plain": [
       "<Figure size 432x288 with 1 Axes>"
      ]
     },
     "metadata": {
      "needs_background": "light"
     },
     "output_type": "display_data"
    },
    {
     "data": {
      "image/png": "[encoded data removed]",
      "text/plain": [
       "<Figure size 432x288 with 1 Axes>"
      ]
     },
     "metadata": {
      "needs_background": "light"
     },
     "output_type": "display_data"
    },
    {
     "data": {
      "image/png": "[encoded data removed]",
      "text/plain": [
       "<Figure size 432x288 with 1 Axes>"
      ]
     },
     "metadata": {
      "needs_background": "light"
     },
     "output_type": "display_data"
    },
    {
     "data": {
      "image/png": "[encoded data removed]",
      "text/plain": [
       "<Figure size 432x288 with 1 Axes>"
      ]
     },
     "metadata": {
      "needs_background": "light"
     },
     "output_type": "display_data"
    },
    {
     "data": {
      "image/png": "[encoded data removed]",
      "text/plain": [
       "<Figure size 432x288 with 1 Axes>"
      ]
     },
     "metadata": {
      "needs_background": "light"
     },
     "output_type": "display_data"
    },
    {
     "data": {
      "image/png": "[encoded data removed]",
      "text/plain": [
       "<Figure size 432x288 with 1 Axes>"
      ]
     },
     "metadata": {
      "needs_background": "light"
     },
     "output_type": "display_data"
    },
    {
     "data": {
      "image/png": "[encoded data removed]",
      "text/plain": [
       "<Figure size 432x288 with 1 Axes>"
      ]
     },
     "metadata": {
      "needs_background": "light"
     },
     "output_type": "display_data"
    },
    {
     "data": {
      "image/png": "[encoded data removed]",
      "text/plain": [
       "<Figure size 432x288 with 1 Axes>"
      ]
     },
     "metadata": {
      "needs_background": "light"
     },
     "output_type": "display_data"
    },
    {
     "data": {
      "image/png": "[encoded data removed]",
      "text/plain": [
       "<Figure size 432x288 with 1 Axes>"
      ]
     },
     "metadata": {
      "needs_background": "light"
     },
     "output_type": "display_data"
    }
   ],
   "source": [
    "for column in df.drop('cluster_km', axis = 1).columns:\n",
    "    sns.histplot(data=df, x=column, hue = 'cluster_km', palette=\"tab10\")\n",
    "    plt.title(f'Distribution {column} for clusters')\n",
    "    plt.xlabel(column)\n",
    "    plt.ylabel('Number of clients')\n",
    "    plt.show()"
   ]
  },
  {
   "cell_type": "markdown",
   "metadata": {},
   "source": [
    "**Conclusion**:\n",
    "The following strong differences between clusters are observed\n",
    "- by location - cluster 2 stands out strongly, the vast majority of whose clients live or work far from the center\n",
    "- by phone numbers - cluster 1 selected - customers who did not leave their phone number\n",
    "- by the duration of the contract and the number of months before its expiration - in fact, a cluster of clients with long-term contracts has been formed (mainly 12 months - cluster 0)\n",
    "- according to the frequency of honoring the center - clusters 3 and 4 are singled out - with the lowest and highest frequencies of visits, respectively"
   ]
  },
  {
   "cell_type": "markdown",
   "metadata": {},
   "source": [
    "### Share of churn by cluster"
   ]
  },
  {
   "cell_type": "code",
   "execution_count": 25,
   "metadata": {},
   "outputs": [
    {
     "data": {
      "text/plain": [
       "cluster_km\n",
       "0    0.026390\n",
       "1    0.097078\n",
       "2    0.211122\n",
       "3    0.611687\n",
       "4    0.053723\n",
       "Name: Churn, dtype: float64"
      ]
     },
     "execution_count": 25,
     "metadata": {},
     "output_type": "execute_result"
    }
   ],
   "source": [
    "df.query('Churn==1').groupby('cluster_km')['Churn'].count() / df.query('Churn==1')['Churn'].count()"
   ]
  },
  {
   "cell_type": "markdown",
   "metadata": {},
   "source": [
    "**Conclusion**:\n",
    "- the largest churn is observed for clients of the 3rd cluster - clients who visit the gym rarely - about once a week or once in the current month\n",
    "- customers of clusters 0, 1 and 4 are well retained - churn is up to 10% - although the consistency of cluster 1 is still questionable (customers who did not leave a phone number), the results are justified for grades 0 and 4 - cluster 4 - active customers who often visit center, 0 cluster - clients with long-term contracts - for some, going to the center has become a habit and they are strongly involved in the product, for others, financial involvement comes first"
   ]
  },
  {
   "cell_type": "markdown",
   "metadata": {},
   "source": [
    "## Conclusions and recommendations for working with clients"
   ]
  },
  {
   "cell_type": "markdown",
   "metadata": {},
   "source": [
    "According to the results of the completed project:\n",
    "- initial data - high-quality, homogeneous and ready for training models\n",
    "- as a model for predicting the outflow of customers, a logistic regression model is recommended - giving greater accuracy, completeness and the proportion of correct answers compared to a random forest\n",
    "- clients were clustered into 5 clusters based on the K-Means algorithm\n",
    "cluster 0 - for clients with long contracts (most likely the majority in this cluster had a 12 month contract) - churn 2.6%\n",
    "cluster 1 - formed for users who did not leave a phone number - outflow 9.7%\n",
    "cluster 2 - clients living or working away from the center - churn 21.1%\n",
    "cluster 3 - clients who visit the center very rarely (1 time per week and 1 time in the current month) - outflow 61.2%\n",
    "cluster 4 - most athletic clients - clients who visit the center most often - churn 5.4%"
   ]
  }
 ],
 "metadata": {
  "ExecuteTimeLog": [
   {
    "duration": 428,
    "start_time": "2022-08-26T09:14:39.387Z"
   },
   {
    "duration": 69,
    "start_time": "2022-08-26T09:15:04.381Z"
   },
   {
    "duration": 75,
    "start_time": "2022-08-26T09:15:09.447Z"
   },
   {
    "duration": 11,
    "start_time": "2022-08-26T09:15:14.157Z"
   },
   {
    "duration": 18,
    "start_time": "2022-08-26T09:15:18.566Z"
   },
   {
    "duration": 12,
    "start_time": "2022-08-26T09:15:58.832Z"
   },
   {
    "duration": 9,
    "start_time": "2022-08-26T09:22:12.639Z"
   },
   {
    "duration": 50,
    "start_time": "2022-08-26T09:22:17.709Z"
   },
   {
    "duration": 8,
    "start_time": "2022-08-26T09:32:24.260Z"
   },
   {
    "duration": 4,
    "start_time": "2022-08-26T09:33:58.099Z"
   },
   {
    "duration": 17,
    "start_time": "2022-08-26T09:34:02.870Z"
   },
   {
    "duration": 8,
    "start_time": "2022-08-26T09:34:38.539Z"
   },
   {
    "duration": 79,
    "start_time": "2022-08-26T09:44:03.069Z"
   },
   {
    "duration": 17,
    "start_time": "2022-08-26T09:44:15.132Z"
   },
   {
    "duration": 951,
    "start_time": "2022-08-26T10:05:16.423Z"
   },
   {
    "duration": 164,
    "start_time": "2022-08-26T10:05:35.516Z"
   },
   {
    "duration": 123,
    "start_time": "2022-08-26T10:06:36.629Z"
   },
   {
    "duration": 181,
    "start_time": "2022-08-26T10:06:45.238Z"
   },
   {
    "duration": 96,
    "start_time": "2022-08-26T10:07:00.703Z"
   },
   {
    "duration": 17907,
    "start_time": "2022-08-26T10:07:17.206Z"
   },
   {
    "duration": 422,
    "start_time": "2022-08-26T10:08:12.808Z"
   },
   {
    "duration": 39,
    "start_time": "2022-08-26T10:09:49.253Z"
   },
   {
    "duration": 12,
    "start_time": "2022-08-26T10:10:09.050Z"
   },
   {
    "duration": 17,
    "start_time": "2022-08-26T10:10:20.125Z"
   },
   {
    "duration": 12,
    "start_time": "2022-08-26T10:10:25.347Z"
   },
   {
    "duration": 213,
    "start_time": "2022-08-26T10:10:29.675Z"
   },
   {
    "duration": 211,
    "start_time": "2022-08-26T10:12:24.650Z"
   },
   {
    "duration": 1096,
    "start_time": "2022-08-26T10:15:40.507Z"
   },
   {
    "duration": 32,
    "start_time": "2022-08-26T10:15:41.605Z"
   },
   {
    "duration": 17,
    "start_time": "2022-08-26T10:15:41.638Z"
   },
   {
    "duration": 13,
    "start_time": "2022-08-26T10:15:41.657Z"
   },
   {
    "duration": 56,
    "start_time": "2022-08-26T10:15:41.673Z"
   },
   {
    "duration": 4,
    "start_time": "2022-08-26T10:15:41.730Z"
   },
   {
    "duration": 11,
    "start_time": "2022-08-26T10:15:41.736Z"
   },
   {
    "duration": 9,
    "start_time": "2022-08-26T10:15:41.748Z"
   },
   {
    "duration": 17,
    "start_time": "2022-08-26T10:15:41.787Z"
   },
   {
    "duration": 17,
    "start_time": "2022-08-26T10:15:41.806Z"
   },
   {
    "duration": 8064,
    "start_time": "2022-08-26T10:16:25.156Z"
   },
   {
    "duration": 47879,
    "start_time": "2022-08-26T10:16:55.576Z"
   },
   {
    "duration": 131490,
    "start_time": "2022-08-26T10:18:29.332Z"
   },
   {
    "duration": 149,
    "start_time": "2022-08-26T10:20:40.824Z"
   },
   {
    "duration": 106,
    "start_time": "2022-08-26T10:21:14.958Z"
   },
   {
    "duration": 12,
    "start_time": "2022-08-26T10:21:22.740Z"
   },
   {
    "duration": 14,
    "start_time": "2022-08-26T10:21:37.607Z"
   },
   {
    "duration": 12,
    "start_time": "2022-08-26T10:21:57.035Z"
   },
   {
    "duration": 287,
    "start_time": "2022-08-26T10:27:19.245Z"
   },
   {
    "duration": 120,
    "start_time": "2022-08-26T10:28:02.828Z"
   },
   {
    "duration": 133,
    "start_time": "2022-08-26T10:28:55.323Z"
   },
   {
    "duration": 190,
    "start_time": "2022-08-26T10:29:04.434Z"
   },
   {
    "duration": 181,
    "start_time": "2022-08-26T10:29:44.650Z"
   },
   {
    "duration": 207,
    "start_time": "2022-08-26T10:30:56.555Z"
   },
   {
    "duration": 204,
    "start_time": "2022-08-26T10:31:34.867Z"
   },
   {
    "duration": 185,
    "start_time": "2022-08-26T10:32:13.362Z"
   },
   {
    "duration": 198,
    "start_time": "2022-08-26T10:32:39.681Z"
   },
   {
    "duration": 259,
    "start_time": "2022-08-26T10:32:46.177Z"
   },
   {
    "duration": 684,
    "start_time": "2022-08-26T10:48:45.265Z"
   },
   {
    "duration": 1018,
    "start_time": "2022-08-26T10:48:58.307Z"
   },
   {
    "duration": 1114,
    "start_time": "2022-08-26T10:49:15.664Z"
   },
   {
    "duration": 1053,
    "start_time": "2022-08-26T10:49:27.154Z"
   },
   {
    "duration": 916,
    "start_time": "2022-08-26T10:49:47.449Z"
   },
   {
    "duration": 589,
    "start_time": "2022-08-26T10:50:00.290Z"
   },
   {
    "duration": 576,
    "start_time": "2022-08-26T10:50:18.816Z"
   },
   {
    "duration": 268,
    "start_time": "2022-08-26T10:50:49.088Z"
   },
   {
    "duration": 436,
    "start_time": "2022-08-26T10:50:57.855Z"
   },
   {
    "duration": 711,
    "start_time": "2022-08-26T10:51:46.975Z"
   },
   {
    "duration": 461,
    "start_time": "2022-08-26T10:55:14.982Z"
   },
   {
    "duration": 1041,
    "start_time": "2022-08-26T10:55:59.938Z"
   },
   {
    "duration": 461,
    "start_time": "2022-08-26T10:56:12.457Z"
   },
   {
    "duration": 465,
    "start_time": "2022-08-26T10:56:18.006Z"
   },
   {
    "duration": 981,
    "start_time": "2022-08-26T10:56:23.077Z"
   },
   {
    "duration": 600,
    "start_time": "2022-08-26T10:56:40.507Z"
   },
   {
    "duration": 235,
    "start_time": "2022-08-26T10:56:47.735Z"
   },
   {
    "duration": 230,
    "start_time": "2022-08-26T10:56:58.974Z"
   },
   {
    "duration": 479,
    "start_time": "2022-08-26T10:57:06.111Z"
   },
   {
    "duration": 2819,
    "start_time": "2022-08-26T10:57:36.917Z"
   },
   {
    "duration": 306,
    "start_time": "2022-08-26T10:59:16.927Z"
   },
   {
    "duration": 3130,
    "start_time": "2022-08-26T10:59:28.589Z"
   },
   {
    "duration": 3258,
    "start_time": "2022-08-26T11:01:27.045Z"
   },
   {
    "duration": 3416,
    "start_time": "2022-08-26T11:03:05.416Z"
   },
   {
    "duration": 1425,
    "start_time": "2022-08-26T11:03:20.989Z"
   },
   {
    "duration": 218,
    "start_time": "2022-08-26T11:03:30.122Z"
   },
   {
    "duration": 3181,
    "start_time": "2022-08-26T11:03:34.955Z"
   },
   {
    "duration": 13,
    "start_time": "2022-08-26T11:06:20.259Z"
   },
   {
    "duration": 1108,
    "start_time": "2022-08-26T11:11:22.228Z"
   },
   {
    "duration": 34,
    "start_time": "2022-08-26T11:11:23.338Z"
   },
   {
    "duration": 15,
    "start_time": "2022-08-26T11:11:23.374Z"
   },
   {
    "duration": 11,
    "start_time": "2022-08-26T11:11:23.390Z"
   },
   {
    "duration": 47,
    "start_time": "2022-08-26T11:11:23.402Z"
   },
   {
    "duration": 4,
    "start_time": "2022-08-26T11:11:23.450Z"
   },
   {
    "duration": 33,
    "start_time": "2022-08-26T11:11:23.455Z"
   },
   {
    "duration": 9,
    "start_time": "2022-08-26T11:11:23.490Z"
   },
   {
    "duration": 23,
    "start_time": "2022-08-26T11:11:23.500Z"
   },
   {
    "duration": 3534,
    "start_time": "2022-08-26T11:11:23.525Z"
   },
   {
    "duration": 10,
    "start_time": "2022-08-26T11:11:27.061Z"
   },
   {
    "duration": 97,
    "start_time": "2022-08-26T11:22:49.598Z"
   },
   {
    "duration": 20,
    "start_time": "2022-08-26T11:22:52.765Z"
   },
   {
    "duration": 442,
    "start_time": "2022-08-26T11:23:19.599Z"
   },
   {
    "duration": 1486,
    "start_time": "2022-08-26T11:23:26.798Z"
   },
   {
    "duration": 1485,
    "start_time": "2022-08-26T11:23:45.391Z"
   },
   {
    "duration": 1462,
    "start_time": "2022-08-26T11:24:00.633Z"
   },
   {
    "duration": 1506,
    "start_time": "2022-08-26T11:24:07.369Z"
   },
   {
    "duration": 1452,
    "start_time": "2022-08-26T11:24:32.624Z"
   },
   {
    "duration": 1444,
    "start_time": "2022-08-26T11:24:42.749Z"
   },
   {
    "duration": 4,
    "start_time": "2022-08-26T11:39:29.843Z"
   },
   {
    "duration": 9,
    "start_time": "2022-08-26T11:39:33.954Z"
   },
   {
    "duration": 341,
    "start_time": "2022-08-26T11:39:41.602Z"
   },
   {
    "duration": 3,
    "start_time": "2022-08-26T11:39:45.866Z"
   },
   {
    "duration": 4,
    "start_time": "2022-08-26T11:39:47.830Z"
   },
   {
    "duration": 5,
    "start_time": "2022-08-26T11:39:58.042Z"
   },
   {
    "duration": 51,
    "start_time": "2022-08-26T11:40:11.916Z"
   },
   {
    "duration": 7,
    "start_time": "2022-08-26T11:40:18.296Z"
   },
   {
    "duration": 5,
    "start_time": "2022-08-26T11:40:28.674Z"
   },
   {
    "duration": 4,
    "start_time": "2022-08-26T11:42:04.666Z"
   },
   {
    "duration": 3,
    "start_time": "2022-08-26T11:42:14.825Z"
   },
   {
    "duration": 821,
    "start_time": "2022-08-26T11:42:30.932Z"
   },
   {
    "duration": 3,
    "start_time": "2022-08-26T11:46:45.652Z"
   },
   {
    "duration": 3,
    "start_time": "2022-08-26T11:47:14.201Z"
   },
   {
    "duration": 4,
    "start_time": "2022-08-26T11:47:15.036Z"
   },
   {
    "duration": 5,
    "start_time": "2022-08-26T11:47:15.512Z"
   },
   {
    "duration": 8,
    "start_time": "2022-08-26T11:47:15.981Z"
   },
   {
    "duration": 6,
    "start_time": "2022-08-26T11:47:16.473Z"
   },
   {
    "duration": 5,
    "start_time": "2022-08-26T11:47:17.010Z"
   },
   {
    "duration": 1091,
    "start_time": "2022-08-26T11:47:21.029Z"
   },
   {
    "duration": 1282,
    "start_time": "2022-08-26T11:49:02.413Z"
   },
   {
    "duration": 681,
    "start_time": "2022-08-26T11:50:13.674Z"
   },
   {
    "duration": 10,
    "start_time": "2022-08-26T11:50:57.687Z"
   },
   {
    "duration": 1520,
    "start_time": "2022-08-26T11:51:14.377Z"
   },
   {
    "duration": 687,
    "start_time": "2022-08-26T11:51:39.891Z"
   },
   {
    "duration": 216,
    "start_time": "2022-08-26T11:52:00.472Z"
   },
   {
    "duration": 3,
    "start_time": "2022-08-26T11:52:17.913Z"
   },
   {
    "duration": 565,
    "start_time": "2022-08-26T11:52:24.448Z"
   },
   {
    "duration": 611,
    "start_time": "2022-08-26T11:52:38.296Z"
   },
   {
    "duration": 8,
    "start_time": "2022-08-26T11:57:18.267Z"
   },
   {
    "duration": 8,
    "start_time": "2022-08-26T11:57:32.066Z"
   },
   {
    "duration": 20,
    "start_time": "2022-08-26T11:58:02.107Z"
   },
   {
    "duration": 612,
    "start_time": "2022-08-26T11:58:05.904Z"
   },
   {
    "duration": 110835,
    "start_time": "2022-08-26T11:58:51.855Z"
   },
   {
    "duration": 1338,
    "start_time": "2022-08-26T12:04:01.150Z"
   },
   {
    "duration": 13,
    "start_time": "2022-08-26T12:04:23.153Z"
   },
   {
    "duration": 23,
    "start_time": "2022-08-26T12:05:43.346Z"
   },
   {
    "duration": 475,
    "start_time": "2022-08-26T12:08:37.700Z"
   },
   {
    "duration": 1186,
    "start_time": "2022-08-26T12:09:55.207Z"
   },
   {
    "duration": 552,
    "start_time": "2022-08-26T12:10:05.221Z"
   },
   {
    "duration": 18,
    "start_time": "2022-08-26T12:18:16.957Z"
   },
   {
    "duration": 5956,
    "start_time": "2022-08-26T12:18:27.070Z"
   },
   {
    "duration": 5909,
    "start_time": "2022-08-26T12:19:05.112Z"
   },
   {
    "duration": 7,
    "start_time": "2022-08-26T12:28:31.411Z"
   },
   {
    "duration": 32,
    "start_time": "2022-08-26T12:30:33.689Z"
   },
   {
    "duration": 13,
    "start_time": "2022-08-26T12:30:48.994Z"
   },
   {
    "duration": 1396,
    "start_time": "2022-08-26T12:47:07.762Z"
   },
   {
    "duration": 34,
    "start_time": "2022-08-26T12:47:09.160Z"
   },
   {
    "duration": 16,
    "start_time": "2022-08-26T12:47:09.196Z"
   },
   {
    "duration": 17,
    "start_time": "2022-08-26T12:47:09.214Z"
   },
   {
    "duration": 66,
    "start_time": "2022-08-26T12:47:09.232Z"
   },
   {
    "duration": 4,
    "start_time": "2022-08-26T12:47:09.300Z"
   },
   {
    "duration": 11,
    "start_time": "2022-08-26T12:47:09.305Z"
   },
   {
    "duration": 9,
    "start_time": "2022-08-26T12:47:09.318Z"
   },
   {
    "duration": 18,
    "start_time": "2022-08-26T12:47:09.328Z"
   },
   {
    "duration": 3368,
    "start_time": "2022-08-26T12:47:09.348Z"
   },
   {
    "duration": 21,
    "start_time": "2022-08-26T12:47:12.717Z"
   },
   {
    "duration": 1478,
    "start_time": "2022-08-26T12:47:12.740Z"
   },
   {
    "duration": 126,
    "start_time": "2022-08-26T12:47:14.220Z"
   },
   {
    "duration": 0,
    "start_time": "2022-08-26T12:47:14.348Z"
   },
   {
    "duration": 0,
    "start_time": "2022-08-26T12:47:14.350Z"
   },
   {
    "duration": 0,
    "start_time": "2022-08-26T12:47:14.351Z"
   },
   {
    "duration": 0,
    "start_time": "2022-08-26T12:47:14.352Z"
   },
   {
    "duration": 0,
    "start_time": "2022-08-26T12:47:14.354Z"
   },
   {
    "duration": 0,
    "start_time": "2022-08-26T12:47:14.356Z"
   },
   {
    "duration": 0,
    "start_time": "2022-08-26T12:47:14.357Z"
   },
   {
    "duration": 0,
    "start_time": "2022-08-26T12:47:14.358Z"
   },
   {
    "duration": 0,
    "start_time": "2022-08-26T12:47:14.360Z"
   },
   {
    "duration": 0,
    "start_time": "2022-08-26T12:47:14.361Z"
   },
   {
    "duration": 0,
    "start_time": "2022-08-26T12:47:14.362Z"
   },
   {
    "duration": 0,
    "start_time": "2022-08-26T12:47:14.387Z"
   },
   {
    "duration": 0,
    "start_time": "2022-08-26T12:47:14.388Z"
   },
   {
    "duration": 5,
    "start_time": "2022-08-26T12:48:15.208Z"
   },
   {
    "duration": 6,
    "start_time": "2022-08-26T12:48:15.849Z"
   },
   {
    "duration": 10,
    "start_time": "2022-08-26T12:48:16.458Z"
   },
   {
    "duration": 586,
    "start_time": "2022-08-26T12:48:17.150Z"
   },
   {
    "duration": 1317,
    "start_time": "2022-08-26T12:48:42.145Z"
   },
   {
    "duration": 34,
    "start_time": "2022-08-26T12:48:43.464Z"
   },
   {
    "duration": 16,
    "start_time": "2022-08-26T12:48:43.499Z"
   },
   {
    "duration": 25,
    "start_time": "2022-08-26T12:48:43.517Z"
   },
   {
    "duration": 61,
    "start_time": "2022-08-26T12:48:43.544Z"
   },
   {
    "duration": 5,
    "start_time": "2022-08-26T12:48:43.607Z"
   },
   {
    "duration": 24,
    "start_time": "2022-08-26T12:48:43.614Z"
   },
   {
    "duration": 20,
    "start_time": "2022-08-26T12:48:43.640Z"
   },
   {
    "duration": 32,
    "start_time": "2022-08-26T12:48:43.662Z"
   },
   {
    "duration": 3484,
    "start_time": "2022-08-26T12:48:43.697Z"
   },
   {
    "duration": 20,
    "start_time": "2022-08-26T12:48:47.187Z"
   },
   {
    "duration": 1453,
    "start_time": "2022-08-26T12:48:47.209Z"
   },
   {
    "duration": 4,
    "start_time": "2022-08-26T12:48:48.664Z"
   },
   {
    "duration": 19,
    "start_time": "2022-08-26T12:48:48.669Z"
   },
   {
    "duration": 17,
    "start_time": "2022-08-26T12:48:48.690Z"
   },
   {
    "duration": 829,
    "start_time": "2022-08-26T12:48:48.708Z"
   },
   {
    "duration": 10,
    "start_time": "2022-08-26T12:48:49.539Z"
   },
   {
    "duration": 570,
    "start_time": "2022-08-26T12:48:49.551Z"
   },
   {
    "duration": 114909,
    "start_time": "2022-08-26T12:48:50.123Z"
   },
   {
    "duration": 863,
    "start_time": "2022-08-26T12:50:45.034Z"
   },
   {
    "duration": 88,
    "start_time": "2022-08-26T12:50:45.900Z"
   },
   {
    "duration": 538,
    "start_time": "2022-08-26T12:50:45.990Z"
   },
   {
    "duration": 26,
    "start_time": "2022-08-26T12:50:46.530Z"
   },
   {
    "duration": 6217,
    "start_time": "2022-08-26T12:50:46.558Z"
   },
   {
    "duration": 26,
    "start_time": "2022-08-26T12:50:52.777Z"
   },
   {
    "duration": 1282,
    "start_time": "2022-08-26T12:52:41.440Z"
   },
   {
    "duration": 0,
    "start_time": "2022-08-26T12:52:42.725Z"
   },
   {
    "duration": 0,
    "start_time": "2022-08-26T12:52:42.726Z"
   },
   {
    "duration": 0,
    "start_time": "2022-08-26T12:52:42.727Z"
   },
   {
    "duration": 0,
    "start_time": "2022-08-26T12:52:42.728Z"
   },
   {
    "duration": 0,
    "start_time": "2022-08-26T12:52:42.729Z"
   },
   {
    "duration": 0,
    "start_time": "2022-08-26T12:52:42.731Z"
   },
   {
    "duration": 0,
    "start_time": "2022-08-26T12:52:42.732Z"
   },
   {
    "duration": 0,
    "start_time": "2022-08-26T12:52:42.733Z"
   },
   {
    "duration": 0,
    "start_time": "2022-08-26T12:52:42.735Z"
   },
   {
    "duration": 0,
    "start_time": "2022-08-26T12:52:42.736Z"
   },
   {
    "duration": 0,
    "start_time": "2022-08-26T12:52:42.737Z"
   },
   {
    "duration": 0,
    "start_time": "2022-08-26T12:52:42.738Z"
   },
   {
    "duration": 0,
    "start_time": "2022-08-26T12:52:42.741Z"
   },
   {
    "duration": 0,
    "start_time": "2022-08-26T12:52:42.742Z"
   },
   {
    "duration": 0,
    "start_time": "2022-08-26T12:52:42.744Z"
   },
   {
    "duration": 1,
    "start_time": "2022-08-26T12:52:42.745Z"
   },
   {
    "duration": 0,
    "start_time": "2022-08-26T12:52:42.747Z"
   },
   {
    "duration": 1,
    "start_time": "2022-08-26T12:52:42.748Z"
   },
   {
    "duration": 0,
    "start_time": "2022-08-26T12:52:42.750Z"
   },
   {
    "duration": 0,
    "start_time": "2022-08-26T12:52:42.751Z"
   },
   {
    "duration": 0,
    "start_time": "2022-08-26T12:52:42.753Z"
   },
   {
    "duration": 0,
    "start_time": "2022-08-26T12:52:42.787Z"
   },
   {
    "duration": 0,
    "start_time": "2022-08-26T12:52:42.789Z"
   },
   {
    "duration": 0,
    "start_time": "2022-08-26T12:52:42.797Z"
   },
   {
    "duration": 236,
    "start_time": "2022-08-26T12:53:10.548Z"
   },
   {
    "duration": 1392,
    "start_time": "2022-08-26T12:53:16.699Z"
   },
   {
    "duration": 32,
    "start_time": "2022-08-26T12:53:18.093Z"
   },
   {
    "duration": 16,
    "start_time": "2022-08-26T12:53:18.127Z"
   },
   {
    "duration": 12,
    "start_time": "2022-08-26T12:53:18.145Z"
   },
   {
    "duration": 55,
    "start_time": "2022-08-26T12:53:18.159Z"
   },
   {
    "duration": 4,
    "start_time": "2022-08-26T12:53:18.216Z"
   },
   {
    "duration": 18,
    "start_time": "2022-08-26T12:53:18.222Z"
   },
   {
    "duration": 9,
    "start_time": "2022-08-26T12:53:18.241Z"
   },
   {
    "duration": 41,
    "start_time": "2022-08-26T12:53:18.252Z"
   },
   {
    "duration": 3407,
    "start_time": "2022-08-26T12:53:18.295Z"
   },
   {
    "duration": 29,
    "start_time": "2022-08-26T12:53:21.704Z"
   },
   {
    "duration": 1465,
    "start_time": "2022-08-26T12:53:21.735Z"
   },
   {
    "duration": 5,
    "start_time": "2022-08-26T12:53:23.202Z"
   },
   {
    "duration": 13,
    "start_time": "2022-08-26T12:53:23.208Z"
   },
   {
    "duration": 11,
    "start_time": "2022-08-26T12:53:23.222Z"
   },
   {
    "duration": 691,
    "start_time": "2022-08-26T12:53:23.235Z"
   },
   {
    "duration": 10,
    "start_time": "2022-08-26T12:53:23.928Z"
   },
   {
    "duration": 553,
    "start_time": "2022-08-26T12:53:23.939Z"
   }
  ],
  "kernelspec": {
   "display_name": "Python 3 (ipykernel)",
   "language": "python",
   "name": "python3"
  },
  "language_info": {
   "codemirror_mode": {
    "name": "ipython",
    "version": 3
   },
   "file_extension": ".py",
   "mimetype": "text/x-python",
   "name": "python",
   "nbconvert_exporter": "python",
   "pygments_lexer": "ipython3",
   "version": "3.7.8"
  },
  "toc": {
   "base_numbering": 1,
   "nav_menu": {},
   "number_sections": true,
   "sideBar": true,
   "skip_h1_title": true,
   "title_cell": "Table of Contents",
   "title_sidebar": "Contents",
   "toc_cell": false,
   "toc_position": {},
   "toc_section_display": true,
   "toc_window_display": true
  }
 },
 "nbformat": 4,
 "nbformat_minor": 2
}
