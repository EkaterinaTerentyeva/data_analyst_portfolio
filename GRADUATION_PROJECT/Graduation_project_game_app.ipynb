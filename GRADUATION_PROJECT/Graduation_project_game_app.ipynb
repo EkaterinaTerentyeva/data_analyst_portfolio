{
 "cells": [
  {
   "cell_type": "markdown",
   "id": "745fc4bf",
   "metadata": {},
   "source": [
    "**Graduation project GAMES - ANALYSIS OF ADVERTISING SOURCES**\n",
    "\n",
    "**Initial Challenge**: Analyze the behavior of the players depending on the source of the transition. \n",
    "\n",
    "We specify the task - we perform it for the marketing department of the company, which plans to display ads in the application. Our ultimate goal is to generate in-app revenue \n",
    "\n",
    "**Target**:\n",
    "- identify the characteristics of players potentially able to bring profit to the company\n",
    "- optimize user acquisition costs"
   ]
  },
  {
   "cell_type": "markdown",
   "id": "aa885bfb",
   "metadata": {},
   "source": [
    "**Project implementation stages**\n",
    "\n",
    "**1. Data preprocessing**\n",
    "\n",
    "**2. Exploratory data analysis taking into account the impact of the source of transition to the game on user behavior**\n",
    "\n",
    "2.1 Analysis of traffic sources:\n",
    "- total costs and costs for each attraction channel\n",
    "- dynamics of advertising costs by channel\n",
    "- calculation of customer acquisition cost\n",
    "2.2 Analysis of user behavior in the application as a whole and broken down by traffic sources:\n",
    "- choice of strategy for passing the first level - the share of users who have passed the first level, the share of users who have passed the first level through the implementation of the project (since these users will see ads in the application).\n",
    "- the number of buildings on the first level, depending on the chosen strategy for passing the level\n",
    "- time to complete the first level depending on the chosen strategy\n",
    "2.3 Calculation of product (application) metrics\n",
    "- DAU, WAU\n",
    "- the number of buildings - an analogue of LTV (we earn money when the user sees an ad in our application, that is, when he selects the type of object to build). Further calculation of LTV will be possible when the marketing department determines the cost of one ad view in our application\n",
    "\n",
    "**3. Statistical hypothesis testing**\n",
    "\n",
    "3.1. **Hypothesis 1** - The time to complete the level varies depending on the way of passing:\n",
    "- through the implementation of the project,\n",
    "- by defeating the first player\n",
    "        \n",
    "3.2 **Hypothesis 2** - The number of buildings varies depending on the mode of passage:\n",
    "- through the implementation of the project,\n",
    "- by defeating the first player.\n",
    "        \n",
    "**4. Conclusions and recommendations**"
   ]
  },
  {
   "cell_type": "markdown",
   "id": "5ed8107d",
   "metadata": {},
   "source": [
    "**Data Description**"
   ]
  },
  {
   "cell_type": "markdown",
   "id": "c90ea52a",
   "metadata": {},
   "source": [
    "The main dataset contains data about events that took place in the Space Brothers mobile game. In it, users build their space program and try to succeed in the difficult task of colonizing the galaxy.\n",
    "\n",
    "The main monetization of the game is just planned. But it is assumed that the application will display ads on the screen with a choice of the type of object for construction.\n",
    "\n",
    "The dataset contains data on the game of users at the first level. Completing the first level requires the player to fulfill one of two conditions:\n",
    "\n",
    "- Defeat the first enemy\n",
    "- Project implementation - development of an orbital assembly of satellites\n",
    "\n",
    "The dataset contains the data of the first users of the application - a cohort of users who started using the application from May 4 to May 10 inclusive.\n",
    "\n",
    "Dataset *game_actions.csv*:\n",
    "\n",
    "- `event_datetime` — event time;\n",
    "- `event` is one of three events:\n",
    "    1. `building` - the object is built,\n",
    "    2. `finished_stage_1` - the first level is completed,\n",
    "    3. `project` - the project is completed;\n",
    "- `building_type` — one of three building types:\n",
    "    1. `assembly_shop` - assembly shop,\n",
    "    2. `spaceport` - spaceport,\n",
    "    3. `research_center` - research center;\n",
    "- `user_id` - user ID;\n",
    "- `project_type` - the type of the implemented project;\n",
    "\n",
    "In addition to the main dataset, there are two datasets with information about advertising activities. They will also help in solving the problem.\n",
    "\n",
    "Dataset *ad_costs.csv*:\n",
    "\n",
    "- `day` - the day on which the ad was clicked\n",
    "- `source` - traffic source\n",
    "- `cost` - cost of clicks\n",
    "\n",
    "The user_source.csv dataset contains the following columns:\n",
    "\n",
    "- `user_id` - user ID\n",
    "- `source` - sources from which the user who installed the application came"
   ]
  },
  {
   "cell_type": "markdown",
   "id": "05fd2f0d",
   "metadata": {},
   "source": [
    "# Reading files and preprocessing data"
   ]
  },
  {
   "cell_type": "code",
   "execution_count": 1,
   "id": "02290174",
   "metadata": {},
   "outputs": [],
   "source": [
    "from urllib.parse import urlencode \n",
    "import requests\n",
    "import time\n",
    "import pandas as pd\n",
    "import matplotlib.pyplot as plt\n",
    "import seaborn as sns\n",
    "import os\n",
    "from datetime import timedelta\n",
    "from scipy import stats as st\n",
    "sns.set(context='notebook', style='whitegrid', \n",
    "        palette='deep', font='sans-serif', font_scale=1, color_codes=True, rc={'figure.figsize':(10,5)})"
   ]
  },
  {
   "cell_type": "code",
   "execution_count": 2,
   "id": "665dd699",
   "metadata": {
    "scrolled": true
   },
   "outputs": [
    {
     "name": "stdout",
     "output_type": "stream",
     "text": [
      "path \"game_actions.csv\" is right\n"
     ]
    }
   ],
   "source": [
    "# checking different paths to csv and opening with separator '\\t'\n",
    "path1 = os.path.join('/datasets', 'game_actions.csv')\n",
    "path2 = os.path.join('game_actions.csv')\n",
    "if os.path.exists(path1):\n",
    "    game_actions = pd.read_csv(path1)\n",
    "    print(f'path \"{path1}\" is right')\n",
    "elif os.path.exists(path2):\n",
    "    game_actions = pd.read_csv(path2)\n",
    "    print(f'path \"{path2}\" is right')\n",
    "else:\n",
    "    print('File is not found')\n",
    "    "
   ]
  },
  {
   "cell_type": "code",
   "execution_count": 3,
   "id": "b8e019ce",
   "metadata": {
    "scrolled": true
   },
   "outputs": [
    {
     "name": "stdout",
     "output_type": "stream",
     "text": [
      "path \"user_source.csv\" is right\n"
     ]
    }
   ],
   "source": [
    "# checking different paths to csv and opening with separator '\\t'\n",
    "path1 = os.path.join('/datasets', 'user_source.csv')\n",
    "path2 = os.path.join('user_source.csv')\n",
    "if os.path.exists(path1):\n",
    "    user_source = pd.read_csv(path1)\n",
    "    print(f'path \"{path1}\" is right')\n",
    "elif os.path.exists(path2):\n",
    "    user_source = pd.read_csv(path2)\n",
    "    print(f'path \"{path2}\" is right')\n",
    "else:\n",
    "    print('File is not found')"
   ]
  },
  {
   "cell_type": "code",
   "execution_count": 4,
   "id": "25e8be5d",
   "metadata": {},
   "outputs": [
    {
     "name": "stdout",
     "output_type": "stream",
     "text": [
      "path \"ad_costs.csv\" is right\n"
     ]
    }
   ],
   "source": [
    "# checking different paths to csv and opening with separator '\\t'\n",
    "path1 = os.path.join('/datasets', 'ad_costs.csv')\n",
    "path2 = os.path.join('ad_costs.csv')\n",
    "if os.path.exists(path1):\n",
    "    ad_costs = pd.read_csv(path1)\n",
    "    print(f'path \"{path1}\" is right')\n",
    "elif os.path.exists(path2):\n",
    "    ad_costs = pd.read_csv(path2)\n",
    "    print(f'path \"{path2}\" is right')\n",
    "else:\n",
    "    print('File is not found')"
   ]
  },
  {
   "cell_type": "code",
   "execution_count": 5,
   "id": "14fbe420",
   "metadata": {},
   "outputs": [],
   "source": [
    "def observe_data(table):\n",
    "    \n",
    "    \"\"\"function to observe data\"\"\"\n",
    "    \n",
    "    '''Giving common understanding of data in dataframe'''\n",
    "    print ('Sample')\n",
    "    display(table.sample(random_state = 10))\n",
    "    print('_'*100)\n",
    "    print(f'Rows number: {table.shape[0]} \\nColumns number: {table.shape[1]}')\n",
    "    print('_'*100)\n",
    "    names_columns = table.columns\n",
    "    print(f'Columns names: {names_columns}')\n",
    "    print('_'*100)\n",
    "    names_to_corrige = []\n",
    "    for name_column in names_columns:\n",
    "        if not name_column.islower() or ' ' in name_column:\n",
    "            names_to_corrige.append(name_column)\n",
    "    if len(names_to_corrige) == 0:\n",
    "        print ('Columns names are right')\n",
    "    else:\n",
    "        print(f'These names of columns should be corrected: {names_to_corrige}')\n",
    "    print('_'*100)\n",
    "    lost_values = table.isna().sum()\n",
    "    missed_values = lost_values.to_frame(name='missed_values')\n",
    "    missed_values['percent'] = round(table.isna().mean()*100, 0)\n",
    "    print ('Missing values:')\n",
    "    display(missed_values)\n",
    "    print('_'*100)\n",
    "    print('Data types:')\n",
    "    print(table.dtypes)\n",
    "    print('_'*100)\n",
    "    print(f'Number of duplicates: {table.duplicated().sum()}', \n",
    "          f'percent of duplicates {round(table.duplicated().mean()*100, 0)} %')"
   ]
  },
  {
   "cell_type": "markdown",
   "id": "515e5838",
   "metadata": {},
   "source": [
    "## Тable game_actions"
   ]
  },
  {
   "cell_type": "code",
   "execution_count": 6,
   "id": "602a5c1d",
   "metadata": {
    "scrolled": true
   },
   "outputs": [
    {
     "name": "stdout",
     "output_type": "stream",
     "text": [
      "Sample\n"
     ]
    },
    {
     "data": {
      "text/html": [
       "<div>\n",
       "<style scoped>\n",
       "    .dataframe tbody tr th:only-of-type {\n",
       "        vertical-align: middle;\n",
       "    }\n",
       "\n",
       "    .dataframe tbody tr th {\n",
       "        vertical-align: top;\n",
       "    }\n",
       "\n",
       "    .dataframe thead th {\n",
       "        text-align: right;\n",
       "    }\n",
       "</style>\n",
       "<table border=\"1\" class=\"dataframe\">\n",
       "  <thead>\n",
       "    <tr style=\"text-align: right;\">\n",
       "      <th></th>\n",
       "      <th>event_datetime</th>\n",
       "      <th>event</th>\n",
       "      <th>building_type</th>\n",
       "      <th>user_id</th>\n",
       "      <th>project_type</th>\n",
       "    </tr>\n",
       "  </thead>\n",
       "  <tbody>\n",
       "    <tr>\n",
       "      <td>51227</td>\n",
       "      <td>2020-05-09 02:11:02</td>\n",
       "      <td>building</td>\n",
       "      <td>spaceport</td>\n",
       "      <td>42c1bdef-8efe-4848-9ffe-d5ea99803078</td>\n",
       "      <td>NaN</td>\n",
       "    </tr>\n",
       "  </tbody>\n",
       "</table>\n",
       "</div>"
      ],
      "text/plain": [
       "            event_datetime     event building_type  \\\n",
       "51227  2020-05-09 02:11:02  building     spaceport   \n",
       "\n",
       "                                    user_id project_type  \n",
       "51227  42c1bdef-8efe-4848-9ffe-d5ea99803078          NaN  "
      ]
     },
     "metadata": {},
     "output_type": "display_data"
    },
    {
     "name": "stdout",
     "output_type": "stream",
     "text": [
      "____________________________________________________________________________________________________\n",
      "Rows number: 135640 \n",
      "Columns number: 5\n",
      "____________________________________________________________________________________________________\n",
      "Columns names: Index(['event_datetime', 'event', 'building_type', 'user_id', 'project_type'], dtype='object')\n",
      "____________________________________________________________________________________________________\n",
      "Columns names are right\n",
      "____________________________________________________________________________________________________\n",
      "Missing values:\n"
     ]
    },
    {
     "data": {
      "text/html": [
       "<div>\n",
       "<style scoped>\n",
       "    .dataframe tbody tr th:only-of-type {\n",
       "        vertical-align: middle;\n",
       "    }\n",
       "\n",
       "    .dataframe tbody tr th {\n",
       "        vertical-align: top;\n",
       "    }\n",
       "\n",
       "    .dataframe thead th {\n",
       "        text-align: right;\n",
       "    }\n",
       "</style>\n",
       "<table border=\"1\" class=\"dataframe\">\n",
       "  <thead>\n",
       "    <tr style=\"text-align: right;\">\n",
       "      <th></th>\n",
       "      <th>missed_values</th>\n",
       "      <th>percent</th>\n",
       "    </tr>\n",
       "  </thead>\n",
       "  <tbody>\n",
       "    <tr>\n",
       "      <td>event_datetime</td>\n",
       "      <td>0</td>\n",
       "      <td>0.0</td>\n",
       "    </tr>\n",
       "    <tr>\n",
       "      <td>event</td>\n",
       "      <td>0</td>\n",
       "      <td>0.0</td>\n",
       "    </tr>\n",
       "    <tr>\n",
       "      <td>building_type</td>\n",
       "      <td>7683</td>\n",
       "      <td>6.0</td>\n",
       "    </tr>\n",
       "    <tr>\n",
       "      <td>user_id</td>\n",
       "      <td>0</td>\n",
       "      <td>0.0</td>\n",
       "    </tr>\n",
       "    <tr>\n",
       "      <td>project_type</td>\n",
       "      <td>133774</td>\n",
       "      <td>99.0</td>\n",
       "    </tr>\n",
       "  </tbody>\n",
       "</table>\n",
       "</div>"
      ],
      "text/plain": [
       "                missed_values  percent\n",
       "event_datetime              0      0.0\n",
       "event                       0      0.0\n",
       "building_type            7683      6.0\n",
       "user_id                     0      0.0\n",
       "project_type           133774     99.0"
      ]
     },
     "metadata": {},
     "output_type": "display_data"
    },
    {
     "name": "stdout",
     "output_type": "stream",
     "text": [
      "____________________________________________________________________________________________________\n",
      "Data types:\n",
      "event_datetime    object\n",
      "event             object\n",
      "building_type     object\n",
      "user_id           object\n",
      "project_type      object\n",
      "dtype: object\n",
      "____________________________________________________________________________________________________\n",
      "Number of duplicates: 1 percent of duplicates 0.0 %\n"
     ]
    }
   ],
   "source": [
    "observe_data(game_actions)"
   ]
  },
  {
   "cell_type": "markdown",
   "id": "59728a45",
   "metadata": {},
   "source": [
    "### Data types"
   ]
  },
  {
   "cell_type": "markdown",
   "id": "ee7aec97",
   "metadata": {},
   "source": [
    "Let's cast the event_datetime column to the datetime type"
   ]
  },
  {
   "cell_type": "code",
   "execution_count": 7,
   "id": "1864ec1e",
   "metadata": {},
   "outputs": [],
   "source": [
    "game_actions['event_datetime'] = pd.to_datetime(game_actions['event_datetime'], format = '%Y-%m-%d %H:%M:%S')"
   ]
  },
  {
   "cell_type": "markdown",
   "id": "2c14c0c2",
   "metadata": {},
   "source": [
    "### Duplicates"
   ]
  },
  {
   "cell_type": "code",
   "execution_count": 8,
   "id": "62f72e2d",
   "metadata": {},
   "outputs": [
    {
     "data": {
      "text/html": [
       "<div>\n",
       "<style scoped>\n",
       "    .dataframe tbody tr th:only-of-type {\n",
       "        vertical-align: middle;\n",
       "    }\n",
       "\n",
       "    .dataframe tbody tr th {\n",
       "        vertical-align: top;\n",
       "    }\n",
       "\n",
       "    .dataframe thead th {\n",
       "        text-align: right;\n",
       "    }\n",
       "</style>\n",
       "<table border=\"1\" class=\"dataframe\">\n",
       "  <thead>\n",
       "    <tr style=\"text-align: right;\">\n",
       "      <th></th>\n",
       "      <th>event_datetime</th>\n",
       "      <th>event</th>\n",
       "      <th>building_type</th>\n",
       "      <th>user_id</th>\n",
       "      <th>project_type</th>\n",
       "    </tr>\n",
       "  </thead>\n",
       "  <tbody>\n",
       "    <tr>\n",
       "      <td>74890</td>\n",
       "      <td>2020-05-10 18:41:56</td>\n",
       "      <td>building</td>\n",
       "      <td>research_center</td>\n",
       "      <td>c9af55d2-b0ae-4bb4-b3d5-f32aa9ac03af</td>\n",
       "      <td>NaN</td>\n",
       "    </tr>\n",
       "    <tr>\n",
       "      <td>74891</td>\n",
       "      <td>2020-05-10 18:41:56</td>\n",
       "      <td>building</td>\n",
       "      <td>research_center</td>\n",
       "      <td>c9af55d2-b0ae-4bb4-b3d5-f32aa9ac03af</td>\n",
       "      <td>NaN</td>\n",
       "    </tr>\n",
       "  </tbody>\n",
       "</table>\n",
       "</div>"
      ],
      "text/plain": [
       "           event_datetime     event    building_type  \\\n",
       "74890 2020-05-10 18:41:56  building  research_center   \n",
       "74891 2020-05-10 18:41:56  building  research_center   \n",
       "\n",
       "                                    user_id project_type  \n",
       "74890  c9af55d2-b0ae-4bb4-b3d5-f32aa9ac03af          NaN  \n",
       "74891  c9af55d2-b0ae-4bb4-b3d5-f32aa9ac03af          NaN  "
      ]
     },
     "execution_count": 8,
     "metadata": {},
     "output_type": "execute_result"
    }
   ],
   "source": [
    "game_actions[game_actions.duplicated(keep=False)]"
   ]
  },
  {
   "cell_type": "markdown",
   "id": "1cfcbdb3",
   "metadata": {},
   "source": [
    "Let's remove this single duplicate"
   ]
  },
  {
   "cell_type": "code",
   "execution_count": 9,
   "id": "2c9318fa",
   "metadata": {},
   "outputs": [],
   "source": [
    "game_actions = game_actions.drop_duplicates()"
   ]
  },
  {
   "cell_type": "markdown",
   "id": "356ba2a7",
   "metadata": {},
   "source": [
    "### Missing values"
   ]
  },
  {
   "cell_type": "markdown",
   "id": "2cea4e0d",
   "metadata": {},
   "source": [
    "Let's see what caused missing values in the building_type column. According to the data description, we have an event column with three different events"
   ]
  },
  {
   "cell_type": "code",
   "execution_count": 10,
   "id": "53dde978",
   "metadata": {
    "scrolled": true
   },
   "outputs": [
    {
     "data": {
      "text/plain": [
       "array(['building', 'finished_stage_1', 'project'], dtype=object)"
      ]
     },
     "execution_count": 10,
     "metadata": {},
     "output_type": "execute_result"
    }
   ],
   "source": [
    "game_actions.event.unique()"
   ]
  },
  {
   "cell_type": "markdown",
   "id": "1df7519a",
   "metadata": {},
   "source": [
    "We assume that the building type will only be defined for the building event. Let's see if it is"
   ]
  },
  {
   "cell_type": "code",
   "execution_count": 11,
   "id": "e44e98c2",
   "metadata": {},
   "outputs": [
    {
     "data": {
      "text/plain": [
       "finished_stage_1    5817\n",
       "project             1866\n",
       "Name: event, dtype: int64"
      ]
     },
     "execution_count": 11,
     "metadata": {},
     "output_type": "execute_result"
    }
   ],
   "source": [
    "game_actions.query('building_type.isna()')['event'].value_counts()"
   ]
  },
  {
   "cell_type": "markdown",
   "id": "f91ac432",
   "metadata": {},
   "source": [
    "Our assumption was confirmed - the gaps in this column are due to the nature of the data and are MNAR - we leave them as they are"
   ]
  },
  {
   "cell_type": "markdown",
   "id": "bebc8312",
   "metadata": {},
   "source": [
    "The vast majority of values in project_type are also blanks. This column reflects the name of the project for users who completed the project - the development of the orbital assembly of satellites. Apparently, this is the only available project on the first level."
   ]
  },
  {
   "cell_type": "code",
   "execution_count": 12,
   "id": "93a4c878",
   "metadata": {},
   "outputs": [
    {
     "data": {
      "text/plain": [
       "array([nan, 'satellite_orbital_assembly'], dtype=object)"
      ]
     },
     "execution_count": 12,
     "metadata": {},
     "output_type": "execute_result"
    }
   ],
   "source": [
    "game_actions['project_type'].unique()"
   ]
  },
  {
   "cell_type": "code",
   "execution_count": 13,
   "id": "75912e49",
   "metadata": {},
   "outputs": [
    {
     "data": {
      "text/html": [
       "<div>\n",
       "<style scoped>\n",
       "    .dataframe tbody tr th:only-of-type {\n",
       "        vertical-align: middle;\n",
       "    }\n",
       "\n",
       "    .dataframe tbody tr th {\n",
       "        vertical-align: top;\n",
       "    }\n",
       "\n",
       "    .dataframe thead th {\n",
       "        text-align: right;\n",
       "    }\n",
       "</style>\n",
       "<table border=\"1\" class=\"dataframe\">\n",
       "  <thead>\n",
       "    <tr style=\"text-align: right;\">\n",
       "      <th></th>\n",
       "      <th>event_datetime</th>\n",
       "      <th>event</th>\n",
       "      <th>building_type</th>\n",
       "      <th>user_id</th>\n",
       "      <th>project_type</th>\n",
       "    </tr>\n",
       "  </thead>\n",
       "  <tbody>\n",
       "  </tbody>\n",
       "</table>\n",
       "</div>"
      ],
      "text/plain": [
       "Empty DataFrame\n",
       "Columns: [event_datetime, event, building_type, user_id, project_type]\n",
       "Index: []"
      ]
     },
     "execution_count": 13,
     "metadata": {},
     "output_type": "execute_result"
    }
   ],
   "source": [
    "game_actions.query('event == \"project\" and project_type.isna()')"
   ]
  },
  {
   "cell_type": "markdown",
   "id": "9e02a9c0",
   "metadata": {},
   "source": [
    "Our assumption was confirmed - NaNs in this column are due to the peculiarities of the data and are inherent in users who did not complete the project"
   ]
  },
  {
   "cell_type": "markdown",
   "id": "55a43e1e",
   "metadata": {},
   "source": [
    "### Creation of new features"
   ]
  },
  {
   "cell_type": "markdown",
   "id": "8f5f6f7a",
   "metadata": {},
   "source": [
    "#### Player status"
   ]
  },
  {
   "cell_type": "markdown",
   "id": "c98de484",
   "metadata": {},
   "source": [
    "The player can pass the first level only if the project is completed or the first opponent is defeated - for each player we will indicate whether he completed the first level and how"
   ]
  },
  {
   "cell_type": "code",
   "execution_count": 14,
   "id": "7361fa22",
   "metadata": {},
   "outputs": [],
   "source": [
    "finished_users = game_actions.query('event == \"finished_stage_1\"')['user_id'].unique()"
   ]
  },
  {
   "cell_type": "code",
   "execution_count": 15,
   "id": "bab40960",
   "metadata": {},
   "outputs": [],
   "source": [
    "finished_by_project = game_actions.query('user_id in @finished_users and event == \"project\"')['user_id'].to_list()"
   ]
  },
  {
   "cell_type": "code",
   "execution_count": 16,
   "id": "98999ba9",
   "metadata": {
    "scrolled": true
   },
   "outputs": [],
   "source": [
    "finished_by_fight = game_actions.query('event == \"finished_stage_1\" and project_type.isna()')['user_id'].to_list()"
   ]
  },
  {
   "cell_type": "code",
   "execution_count": 17,
   "id": "6cafc12b",
   "metadata": {},
   "outputs": [],
   "source": [
    "def get_status(cell):\n",
    "    if cell in finished_by_project:\n",
    "        return 'finished_by_project'\n",
    "    elif cell in finished_by_fight:\n",
    "        return 'finished_by_fight'\n",
    "    else: return \"in process\""
   ]
  },
  {
   "cell_type": "code",
   "execution_count": 18,
   "id": "59612ffc",
   "metadata": {},
   "outputs": [],
   "source": [
    "game_actions['status'] = game_actions['user_id'].apply(get_status)"
   ]
  },
  {
   "cell_type": "markdown",
   "id": "9a61fb81",
   "metadata": {},
   "source": [
    "#### Total time in game"
   ]
  },
  {
   "cell_type": "code",
   "execution_count": 19,
   "id": "bb30bd64",
   "metadata": {},
   "outputs": [],
   "source": [
    "time = game_actions.groupby('user_id')['event_datetime'].agg(['max', 'min']).reset_index()\n",
    "time['days_in_product'] = time['max'].dt.date - time['min'].dt.date\n",
    "time['days_in_product'] = time['days_in_product'].apply(lambda x: (int(str(x).split(' ')[0])+1))\n",
    "game_actions = game_actions.merge(time[['user_id', 'days_in_product']], on = 'user_id')"
   ]
  },
  {
   "cell_type": "markdown",
   "id": "3694e079",
   "metadata": {},
   "source": [
    "#### Traffic source"
   ]
  },
  {
   "cell_type": "code",
   "execution_count": 20,
   "id": "ccb06e59",
   "metadata": {},
   "outputs": [],
   "source": [
    "game_actions = game_actions.merge(user_source, on = 'user_id')"
   ]
  },
  {
   "cell_type": "markdown",
   "id": "4e0ec0ad",
   "metadata": {},
   "source": [
    "#### Number of buildings"
   ]
  },
  {
   "cell_type": "code",
   "execution_count": 21,
   "id": "af83d6d3",
   "metadata": {},
   "outputs": [],
   "source": [
    "total_buildings = game_actions.groupby('user_id')['building_type'].count().reset_index().rename(columns = {'building_type':'total_buildings'})"
   ]
  },
  {
   "cell_type": "code",
   "execution_count": 22,
   "id": "b27cae1a",
   "metadata": {},
   "outputs": [],
   "source": [
    "game_actions = game_actions.merge(total_buildings[['user_id', 'total_buildings']], on = 'user_id')"
   ]
  },
  {
   "cell_type": "markdown",
   "id": "db3db38e",
   "metadata": {},
   "source": [
    "## Table ad_costs"
   ]
  },
  {
   "cell_type": "code",
   "execution_count": 23,
   "id": "f840b936",
   "metadata": {},
   "outputs": [
    {
     "name": "stdout",
     "output_type": "stream",
     "text": [
      "Sample\n"
     ]
    },
    {
     "data": {
      "text/html": [
       "<div>\n",
       "<style scoped>\n",
       "    .dataframe tbody tr th:only-of-type {\n",
       "        vertical-align: middle;\n",
       "    }\n",
       "\n",
       "    .dataframe tbody tr th {\n",
       "        vertical-align: top;\n",
       "    }\n",
       "\n",
       "    .dataframe thead th {\n",
       "        text-align: right;\n",
       "    }\n",
       "</style>\n",
       "<table border=\"1\" class=\"dataframe\">\n",
       "  <thead>\n",
       "    <tr style=\"text-align: right;\">\n",
       "      <th></th>\n",
       "      <th>source</th>\n",
       "      <th>day</th>\n",
       "      <th>cost</th>\n",
       "    </tr>\n",
       "  </thead>\n",
       "  <tbody>\n",
       "    <tr>\n",
       "      <td>7</td>\n",
       "      <td>instagram_new_adverts</td>\n",
       "      <td>2020-05-03</td>\n",
       "      <td>943.204717</td>\n",
       "    </tr>\n",
       "  </tbody>\n",
       "</table>\n",
       "</div>"
      ],
      "text/plain": [
       "                  source         day        cost\n",
       "7  instagram_new_adverts  2020-05-03  943.204717"
      ]
     },
     "metadata": {},
     "output_type": "display_data"
    },
    {
     "name": "stdout",
     "output_type": "stream",
     "text": [
      "____________________________________________________________________________________________________\n",
      "Rows number: 28 \n",
      "Columns number: 3\n",
      "____________________________________________________________________________________________________\n",
      "Columns names: Index(['source', 'day', 'cost'], dtype='object')\n",
      "____________________________________________________________________________________________________\n",
      "Columns names are right\n",
      "____________________________________________________________________________________________________\n",
      "Missing values:\n"
     ]
    },
    {
     "data": {
      "text/html": [
       "<div>\n",
       "<style scoped>\n",
       "    .dataframe tbody tr th:only-of-type {\n",
       "        vertical-align: middle;\n",
       "    }\n",
       "\n",
       "    .dataframe tbody tr th {\n",
       "        vertical-align: top;\n",
       "    }\n",
       "\n",
       "    .dataframe thead th {\n",
       "        text-align: right;\n",
       "    }\n",
       "</style>\n",
       "<table border=\"1\" class=\"dataframe\">\n",
       "  <thead>\n",
       "    <tr style=\"text-align: right;\">\n",
       "      <th></th>\n",
       "      <th>missed_values</th>\n",
       "      <th>percent</th>\n",
       "    </tr>\n",
       "  </thead>\n",
       "  <tbody>\n",
       "    <tr>\n",
       "      <td>source</td>\n",
       "      <td>0</td>\n",
       "      <td>0.0</td>\n",
       "    </tr>\n",
       "    <tr>\n",
       "      <td>day</td>\n",
       "      <td>0</td>\n",
       "      <td>0.0</td>\n",
       "    </tr>\n",
       "    <tr>\n",
       "      <td>cost</td>\n",
       "      <td>0</td>\n",
       "      <td>0.0</td>\n",
       "    </tr>\n",
       "  </tbody>\n",
       "</table>\n",
       "</div>"
      ],
      "text/plain": [
       "        missed_values  percent\n",
       "source              0      0.0\n",
       "day                 0      0.0\n",
       "cost                0      0.0"
      ]
     },
     "metadata": {},
     "output_type": "display_data"
    },
    {
     "name": "stdout",
     "output_type": "stream",
     "text": [
      "____________________________________________________________________________________________________\n",
      "Data types:\n",
      "source     object\n",
      "day        object\n",
      "cost      float64\n",
      "dtype: object\n",
      "____________________________________________________________________________________________________\n",
      "Number of duplicates: 0 percent of duplicates 0.0 %\n"
     ]
    }
   ],
   "source": [
    "observe_data(ad_costs)"
   ]
  },
  {
   "cell_type": "markdown",
   "id": "a76fb69c",
   "metadata": {},
   "source": [
    "### Data types"
   ]
  },
  {
   "cell_type": "code",
   "execution_count": 24,
   "id": "80e02ae9",
   "metadata": {},
   "outputs": [],
   "source": [
    "ad_costs.day = pd.to_datetime(ad_costs.day, format = \"%Y-%m-%d\")"
   ]
  },
  {
   "cell_type": "markdown",
   "id": "1d6be46d",
   "metadata": {},
   "source": [
    "We also take into account that the payment for the advertising campaign took place the day before its launch."
   ]
  },
  {
   "cell_type": "code",
   "execution_count": 25,
   "id": "2efc070c",
   "metadata": {},
   "outputs": [],
   "source": [
    "ad_costs.day = ad_costs.day + timedelta(days=1)"
   ]
  },
  {
   "cell_type": "markdown",
   "id": "7856793f",
   "metadata": {},
   "source": [
    "## Table user_source"
   ]
  },
  {
   "cell_type": "code",
   "execution_count": 26,
   "id": "8e45e43c",
   "metadata": {},
   "outputs": [
    {
     "name": "stdout",
     "output_type": "stream",
     "text": [
      "Sample\n"
     ]
    },
    {
     "data": {
      "text/html": [
       "<div>\n",
       "<style scoped>\n",
       "    .dataframe tbody tr th:only-of-type {\n",
       "        vertical-align: middle;\n",
       "    }\n",
       "\n",
       "    .dataframe tbody tr th {\n",
       "        vertical-align: top;\n",
       "    }\n",
       "\n",
       "    .dataframe thead th {\n",
       "        text-align: right;\n",
       "    }\n",
       "</style>\n",
       "<table border=\"1\" class=\"dataframe\">\n",
       "  <thead>\n",
       "    <tr style=\"text-align: right;\">\n",
       "      <th></th>\n",
       "      <th>user_id</th>\n",
       "      <th>source</th>\n",
       "    </tr>\n",
       "  </thead>\n",
       "  <tbody>\n",
       "    <tr>\n",
       "      <td>8289</td>\n",
       "      <td>9c39e7f4-55e2-44e2-9e3e-f8fb0990c596</td>\n",
       "      <td>yandex_direct</td>\n",
       "    </tr>\n",
       "  </tbody>\n",
       "</table>\n",
       "</div>"
      ],
      "text/plain": [
       "                                   user_id         source\n",
       "8289  9c39e7f4-55e2-44e2-9e3e-f8fb0990c596  yandex_direct"
      ]
     },
     "metadata": {},
     "output_type": "display_data"
    },
    {
     "name": "stdout",
     "output_type": "stream",
     "text": [
      "____________________________________________________________________________________________________\n",
      "Rows number: 13576 \n",
      "Columns number: 2\n",
      "____________________________________________________________________________________________________\n",
      "Columns names: Index(['user_id', 'source'], dtype='object')\n",
      "____________________________________________________________________________________________________\n",
      "Columns names are right\n",
      "____________________________________________________________________________________________________\n",
      "Missing values:\n"
     ]
    },
    {
     "data": {
      "text/html": [
       "<div>\n",
       "<style scoped>\n",
       "    .dataframe tbody tr th:only-of-type {\n",
       "        vertical-align: middle;\n",
       "    }\n",
       "\n",
       "    .dataframe tbody tr th {\n",
       "        vertical-align: top;\n",
       "    }\n",
       "\n",
       "    .dataframe thead th {\n",
       "        text-align: right;\n",
       "    }\n",
       "</style>\n",
       "<table border=\"1\" class=\"dataframe\">\n",
       "  <thead>\n",
       "    <tr style=\"text-align: right;\">\n",
       "      <th></th>\n",
       "      <th>missed_values</th>\n",
       "      <th>percent</th>\n",
       "    </tr>\n",
       "  </thead>\n",
       "  <tbody>\n",
       "    <tr>\n",
       "      <td>user_id</td>\n",
       "      <td>0</td>\n",
       "      <td>0.0</td>\n",
       "    </tr>\n",
       "    <tr>\n",
       "      <td>source</td>\n",
       "      <td>0</td>\n",
       "      <td>0.0</td>\n",
       "    </tr>\n",
       "  </tbody>\n",
       "</table>\n",
       "</div>"
      ],
      "text/plain": [
       "         missed_values  percent\n",
       "user_id              0      0.0\n",
       "source               0      0.0"
      ]
     },
     "metadata": {},
     "output_type": "display_data"
    },
    {
     "name": "stdout",
     "output_type": "stream",
     "text": [
      "____________________________________________________________________________________________________\n",
      "Data types:\n",
      "user_id    object\n",
      "source     object\n",
      "dtype: object\n",
      "____________________________________________________________________________________________________\n",
      "Number of duplicates: 0 percent of duplicates 0.0 %\n"
     ]
    }
   ],
   "source": [
    "observe_data(user_source)"
   ]
  },
  {
   "cell_type": "markdown",
   "id": "b0c5ceed",
   "metadata": {},
   "source": [
    "**Conclusion**\n",
    "\n",
    "We have prepared data for further research\n",
    "- removed one single duplicate in the game_actions table\n",
    "- changed data type for day columns in user_score table and event_datetime columns in game_actions table\n",
    "- left missing values in the building_type of the game_actions table due to data peculiarities\n",
    "- created the features necessary for further calculations in game_actions - the time the player interacted with the application, the player's status, the attraction channel, the total number of buildings"
   ]
  },
  {
   "cell_type": "markdown",
   "id": "ebd7c002",
   "metadata": {},
   "source": [
    "# Exploratory data analysis"
   ]
  },
  {
   "cell_type": "markdown",
   "id": "523a3d03",
   "metadata": {},
   "source": [
    "## Analysis of traffic sources"
   ]
  },
  {
   "cell_type": "markdown",
   "id": "0b26cf29",
   "metadata": {},
   "source": [
    "### Total costs and costs for each channel"
   ]
  },
  {
   "cell_type": "code",
   "execution_count": 27,
   "id": "da201b88",
   "metadata": {},
   "outputs": [
    {
     "name": "stdout",
     "output_type": "stream",
     "text": [
      "The total cost of attracting users amounted to 7604.0 for the period 2020-05-04 - 2020-05-10\n"
     ]
    }
   ],
   "source": [
    "print(f'The total cost of attracting users amounted to {round(ad_costs.cost.sum(), 0)} for the period {ad_costs.day.dt.date.min()} - {ad_costs.day.dt.date.max()}')"
   ]
  },
  {
   "cell_type": "code",
   "execution_count": 28,
   "id": "2b2dc8fb",
   "metadata": {
    "scrolled": true
   },
   "outputs": [
    {
     "data": {
      "image/png": "[encoded data removed]",
      "text/plain": [
       "<Figure size 360x360 with 1 Axes>"
      ]
     },
     "metadata": {},
     "output_type": "display_data"
    }
   ],
   "source": [
    "channels_costs = ad_costs.groupby('source')['cost'].sum()\n",
    "explode=(0.1,0.1,0.1,0.1)\n",
    "channels_costs.plot.pie(y='cost', figsize=(5, 5), title=\"Expenses by channels\", \n",
    "                        legend = False, autopct='%1.1f%%', startangle=90);"
   ]
  },
  {
   "cell_type": "markdown",
   "id": "d856baa6",
   "metadata": {},
   "source": [
    "### Trends in ad spend by channel"
   ]
  },
  {
   "cell_type": "code",
   "execution_count": 29,
   "id": "a3102ac8",
   "metadata": {
    "scrolled": true
   },
   "outputs": [
    {
     "data": {
      "image/png": "[encoded data removed]",
      "text/plain": [
       "<Figure size 720x360 with 1 Axes>"
      ]
     },
     "metadata": {},
     "output_type": "display_data"
    }
   ],
   "source": [
    "ad_costs.pivot_table(index='day',columns='source',values='cost',aggfunc='sum').plot()\n",
    "plt.title('User Acquisition Cost Trends')\n",
    "plt.ylabel('Expenses, уе');"
   ]
  },
  {
   "cell_type": "markdown",
   "id": "ae1fe466",
   "metadata": {},
   "source": [
    "### Calculation of the customer acquisition cost"
   ]
  },
  {
   "cell_type": "code",
   "execution_count": 30,
   "id": "0fc3b983",
   "metadata": {},
   "outputs": [],
   "source": [
    "info_ad = channels_costs.reset_index().merge(user_source.groupby('source')['user_id'].nunique().reset_index(), on = 'source')"
   ]
  },
  {
   "cell_type": "code",
   "execution_count": 31,
   "id": "cd21888b",
   "metadata": {},
   "outputs": [
    {
     "data": {
      "text/html": [
       "<div>\n",
       "<style scoped>\n",
       "    .dataframe tbody tr th:only-of-type {\n",
       "        vertical-align: middle;\n",
       "    }\n",
       "\n",
       "    .dataframe tbody tr th {\n",
       "        vertical-align: top;\n",
       "    }\n",
       "\n",
       "    .dataframe thead th {\n",
       "        text-align: right;\n",
       "    }\n",
       "</style>\n",
       "<table border=\"1\" class=\"dataframe\">\n",
       "  <thead>\n",
       "    <tr style=\"text-align: right;\">\n",
       "      <th></th>\n",
       "      <th>source</th>\n",
       "      <th>cost</th>\n",
       "      <th>user_id</th>\n",
       "      <th>cac</th>\n",
       "    </tr>\n",
       "  </thead>\n",
       "  <tbody>\n",
       "    <tr>\n",
       "      <td>0</td>\n",
       "      <td>facebook_ads</td>\n",
       "      <td>2140.90</td>\n",
       "      <td>2726</td>\n",
       "      <td>0.79</td>\n",
       "    </tr>\n",
       "    <tr>\n",
       "      <td>1</td>\n",
       "      <td>instagram_new_adverts</td>\n",
       "      <td>2161.44</td>\n",
       "      <td>3347</td>\n",
       "      <td>0.65</td>\n",
       "    </tr>\n",
       "    <tr>\n",
       "      <td>2</td>\n",
       "      <td>yandex_direct</td>\n",
       "      <td>2233.11</td>\n",
       "      <td>4817</td>\n",
       "      <td>0.46</td>\n",
       "    </tr>\n",
       "    <tr>\n",
       "      <td>3</td>\n",
       "      <td>youtube_channel_reklama</td>\n",
       "      <td>1068.12</td>\n",
       "      <td>2686</td>\n",
       "      <td>0.40</td>\n",
       "    </tr>\n",
       "  </tbody>\n",
       "</table>\n",
       "</div>"
      ],
      "text/plain": [
       "                    source     cost  user_id   cac\n",
       "0             facebook_ads  2140.90     2726  0.79\n",
       "1    instagram_new_adverts  2161.44     3347  0.65\n",
       "2            yandex_direct  2233.11     4817  0.46\n",
       "3  youtube_channel_reklama  1068.12     2686  0.40"
      ]
     },
     "execution_count": 31,
     "metadata": {},
     "output_type": "execute_result"
    }
   ],
   "source": [
    "info_ad['cac'] = info_ad['cost']/info_ad['user_id']\n",
    "info_ad = round(info_ad, 2)\n",
    "info_ad"
   ]
  },
  {
   "cell_type": "code",
   "execution_count": 32,
   "id": "b6a36251",
   "metadata": {
    "scrolled": false
   },
   "outputs": [],
   "source": [
    "def draw_barplot(data, x, y, title, xlabel, ylabel, hue = None ):\n",
    "    plot = sns.barplot(data = data, x = x, y = y, hue = hue)\n",
    "    for p in plot.patches:\n",
    "        plot.annotate(\"%.2f\" % p.get_width(), xy=(p.get_width(), p.get_y()+p.get_height()/2),\n",
    "        xytext=(5, 0), textcoords='offset points', ha=\"left\", va=\"center\")\n",
    "    plt.title(title)\n",
    "    plt.ylabel(ylabel)\n",
    "    plt.xlabel(xlabel)\n",
    "    plt.show()"
   ]
  },
  {
   "cell_type": "code",
   "execution_count": 33,
   "id": "9b33d649",
   "metadata": {},
   "outputs": [],
   "source": [
    "def draw_boxplot(data, x, y, title, xlabel, ylabel, hue = None ):\n",
    "    plot = sns.boxplot(data = data, x = x, y = y, hue = hue)\n",
    "    plt.title(title)\n",
    "    plt.ylabel(ylabel)\n",
    "    plt.xlabel(xlabel)\n",
    "    plt.show()"
   ]
  },
  {
   "cell_type": "code",
   "execution_count": 34,
   "id": "a70f057d",
   "metadata": {},
   "outputs": [
    {
     "data": {
      "image/png": "[encoded data removed]",
      "text/plain": [
       "<Figure size 720x360 with 1 Axes>"
      ]
     },
     "metadata": {},
     "output_type": "display_data"
    }
   ],
   "source": [
    "draw_barplot(info_ad, 'cac', 'source', 'CAC', '', '')"
   ]
  },
  {
   "cell_type": "markdown",
   "id": "bdd31377",
   "metadata": {},
   "source": [
    "**Conclusion**"
   ]
  },
  {
   "cell_type": "markdown",
   "id": "dbcbd77d",
   "metadata": {},
   "source": [
    "- costs for 3 channels - yandex_direct, instagram_new_advents, facebook_ads - are distributed almost evenly - about 1/3 of all costs\n",
    "- on youtube we had a not so large-scale advertising campaign\n",
    "- advertising campaigns on different platforms lasted the same number of days, namely a week. At the same time, the largest financial costs were observed on the first day.\n",
    "- the largest number of players came from yandex.direct, the smallest - from youtube_channel_reklama. It is possible that when conducting advertising campaigns, we shared the main focus on attracting Russian users (this is also associated with a small amount of funding for an advertising campaign on youtube)\n",
    "- in terms of the cost of attracting a user, the lowest CAC is observed for youtube - almost 2 times less than for facebook\n",
    "\n",
    "**We may slightly revise the budget allocation of our marketing campaigns - increase funding for youtube_channel_reklama - with increased funding and given the same CAC, this campaign can attract more players than similarly funded campaigns on other platforms**"
   ]
  },
  {
   "cell_type": "markdown",
   "id": "eb7c2a7a",
   "metadata": {},
   "source": [
    "## Analysis of user behavior in the application as a whole and by traffic sources"
   ]
  },
  {
   "cell_type": "markdown",
   "id": "ac16b31f",
   "metadata": {},
   "source": [
    "### Users' choice of strategy for completing the first level"
   ]
  },
  {
   "cell_type": "code",
   "execution_count": 35,
   "id": "a6c463b5",
   "metadata": {
    "scrolled": true
   },
   "outputs": [
    {
     "data": {
      "image/png": "[encoded data removed]",
      "text/plain": [
       "<Figure size 720x360 with 1 Axes>"
      ]
     },
     "metadata": {},
     "output_type": "display_data"
    }
   ],
   "source": [
    "draw_barplot(round((game_actions.groupby('status')['user_id'].nunique()/game_actions.user_id.nunique()).reset_index(), 2),\n",
    "                    'user_id', \n",
    "                     'status', \n",
    "                     \"Share of players by status (level completed/incomplete)\", \n",
    "                     \"Share of players\", \n",
    "                     \"\")"
   ]
  },
  {
   "cell_type": "markdown",
   "id": "742e3365",
   "metadata": {},
   "source": [
    "By channels"
   ]
  },
  {
   "cell_type": "code",
   "execution_count": 36,
   "id": "db2d2b12",
   "metadata": {},
   "outputs": [],
   "source": [
    "status_by_traffic = (game_actions.groupby(['status', 'source'])['user_id']\n",
    "       .nunique()\n",
    "       .reset_index()\n",
    "       .merge(user_source.groupby('source')['user_id'].count().reset_index(), on = 'source'))\n",
    "status_by_traffic['ratio'] = status_by_traffic['user_id_x']/status_by_traffic['user_id_y']"
   ]
  },
  {
   "cell_type": "code",
   "execution_count": 37,
   "id": "d70337ec",
   "metadata": {
    "scrolled": true
   },
   "outputs": [
    {
     "data": {
      "image/png": "[encoded data removed]",
      "text/plain": [
       "<Figure size 720x360 with 1 Axes>"
      ]
     },
     "metadata": {},
     "output_type": "display_data"
    }
   ],
   "source": [
    "draw_barplot(status_by_traffic, 'ratio', 'source', \n",
    "             \"Level completion depending on the acquisition channel\", \n",
    "             \"share of all users who came through the considered traffic channel \", \"\", hue = \"status\" )"
   ]
  },
  {
   "cell_type": "markdown",
   "id": "18c17d2c",
   "metadata": {},
   "source": [
    "**Conclusion**\n",
    "\n",
    "- of all users, almost half completed the first level\n",
    "- users preferred to complete the level by defeating the first opponent - 30% of all players. 15% completed a level by implementing a project\n",
    "- we cannot say that the player acquisition channel influences the choice of his strategy - in fact, there is no difference in the distribution of players by status for different advertising channels\n",
    "\n",
    "**More than half of the players have not completed the first level, given that it takes no more than 2 weeks on average to complete this level.  All players came to us through advertising channels between May 4 - 10 and the data was uploaded for the entire month May, then we can assume that the players who did not complete the level simply lost interest in the game and left the application. Players prefer to complete the level with the first victory over the enemy. The user acquisition channel does not affect the choice of the strategy for passing the first level**"
   ]
  },
  {
   "cell_type": "markdown",
   "id": "e057d322",
   "metadata": {},
   "source": [
    "### Number of buildings on the first level: depending on the chosen strategy for completing the level"
   ]
  },
  {
   "cell_type": "code",
   "execution_count": 38,
   "id": "c6b613ff",
   "metadata": {},
   "outputs": [
    {
     "name": "stdout",
     "output_type": "stream",
     "text": [
      "Total number of buildings: 127956\n",
      "Average number of building par player: 9.4\n"
     ]
    }
   ],
   "source": [
    "print(f'Total number of buildings: {game_actions.building_type.count()}\\nAverage number of building par player: {round(game_actions.building_type.count()/game_actions.user_id.nunique(), 1)}')"
   ]
  },
  {
   "cell_type": "code",
   "execution_count": 39,
   "id": "a05e80fc",
   "metadata": {
    "scrolled": false
   },
   "outputs": [
    {
     "data": {
      "image/png": "[encoded data removed]",
      "text/plain": [
       "<Figure size 720x360 with 1 Axes>"
      ]
     },
     "metadata": {},
     "output_type": "display_data"
    }
   ],
   "source": [
    "draw_boxplot(game_actions.groupby(['user_id', 'status', 'source'])['building_type'].count().reset_index(), \n",
    "             'building_type', \n",
    "             'status', \n",
    "             \"Distribution of the number of buildings depending on the traffic channel and the chosen strategy\", \n",
    "             \"Number of buildings\", \n",
    "              \"\", \n",
    "              hue = \"source\" )\n",
    "\n"
   ]
  },
  {
   "cell_type": "code",
   "execution_count": 40,
   "id": "e6e54b16",
   "metadata": {
    "scrolled": true
   },
   "outputs": [
    {
     "data": {
      "image/png": "[encoded data removed]",
      "text/plain": [
       "<Figure size 720x360 with 1 Axes>"
      ]
     },
     "metadata": {},
     "output_type": "display_data"
    }
   ],
   "source": [
    "(sns.histplot(data = game_actions.groupby(['user_id', 'source'])['building_type'].count().reset_index(), \n",
    "              x = 'building_type'))\n",
    "plt.title('Distribution of the number of buildings')\n",
    "plt.xlabel('Number of buildings');"
   ]
  },
  {
   "cell_type": "markdown",
   "id": "7e6baf02",
   "metadata": {},
   "source": [
    "**Conclusion**\n",
    "\n",
    "- players who complete a level by a project generally have more buildings than players who complete the level by winning.\n",
    "- we can see that the level can be finished with 2 buildings in case of defeating the enemy\n",
    "- we made sure once again that the behavior of users does not depend on the channel through which they came\n",
    "- around 7 buildings there is a sharp decline in the graph of the distribution of the number of buildings - probably most users left the game after 6 buildings - it is necessary to work out this point in more detail and encourage the player to continue the game at this stage\n",
    "\n",
    "**The user attraction channel does not affect the number of objects built by him in the game, it is beneficial for us that users use the project execution strategy, it is necessary to revise the conditions for passing the first level by winning - some players can complete the level with a minimum number of buildings. Pay special attention to stimulating the continuation of the game after the implementation of the 6th building**"
   ]
  },
  {
   "cell_type": "markdown",
   "id": "82f06c47",
   "metadata": {},
   "source": [
    "### Dynamics of changes in the number of buildings"
   ]
  },
  {
   "cell_type": "code",
   "execution_count": 41,
   "id": "4873dfe7",
   "metadata": {},
   "outputs": [],
   "source": [
    "game_actions['date'] = game_actions.event_datetime.dt.date"
   ]
  },
  {
   "cell_type": "code",
   "execution_count": 42,
   "id": "b662bb98",
   "metadata": {
    "scrolled": false
   },
   "outputs": [
    {
     "data": {
      "image/png": "[encoded data removed]",
      "text/plain": [
       "<Figure size 720x360 with 1 Axes>"
      ]
     },
     "metadata": {},
     "output_type": "display_data"
    }
   ],
   "source": [
    "(game_actions.groupby(['date', 'user_id'])['building_type'].count()\n",
    "             .reset_index().groupby('date')['building_type'].sum().plot())\n",
    "plt.title('Changing the number of buildings')\n",
    "plt.xlabel('')\n",
    "plt.ylabel('Number of buildings');"
   ]
  },
  {
   "cell_type": "markdown",
   "id": "28f69439",
   "metadata": {},
   "source": [
    "Consider a similar change in the number of buildings per player"
   ]
  },
  {
   "cell_type": "code",
   "execution_count": 43,
   "id": "a100bc88",
   "metadata": {},
   "outputs": [],
   "source": [
    "building_by_time = (game_actions.groupby(['date', 'user_id'])['building_type'].count()\n",
    "                    .reset_index().groupby('date')['building_type'].sum().reset_index()\n",
    "                    .merge(game_actions.groupby(['date', 'user_id'])['building_type'].count()\n",
    "                    .reset_index().groupby('date')['user_id'].nunique().reset_index(), on='date'))"
   ]
  },
  {
   "cell_type": "code",
   "execution_count": 44,
   "id": "d143ce50",
   "metadata": {
    "scrolled": true
   },
   "outputs": [
    {
     "data": {
      "image/png": "[encoded data removed]",
      "text/plain": [
       "<Figure size 720x360 with 1 Axes>"
      ]
     },
     "metadata": {},
     "output_type": "display_data"
    }
   ],
   "source": [
    "building_by_time['buildings_per_user'] = building_by_time['building_type']/building_by_time['user_id']\n",
    "building_by_time[['date', 'buildings_per_user']].plot()\n",
    "plt.title('Change the number of buildings per player')\n",
    "plt.xlabel('')\n",
    "plt.ylabel('Number of buildings');"
   ]
  },
  {
   "cell_type": "markdown",
   "id": "48e0822d",
   "metadata": {},
   "source": [
    "**Conclusion**\n",
    "\n",
    "- the largest number of buildings is observed in the first 2 weeks from the moment the application is launched, then it decreases due to users leaving the application or completing the first level\n",
    "- we can see that on average a player produces 1.2-1.6 buildings per day and this indicator decreases starting from the 7th day from the moment the application was launched\n",
    "\n",
    "**Player activity in terms of building objects decreases after the first week since the launch of the application. It can also be assumed that the quality of users has deteriorated over time - the first users who came built more objects**"
   ]
  },
  {
   "cell_type": "markdown",
   "id": "7d11c7f1",
   "metadata": {},
   "source": [
    "### Time to complete the first level depending on the chosen strategy"
   ]
  },
  {
   "cell_type": "code",
   "execution_count": 45,
   "id": "5800fc09",
   "metadata": {},
   "outputs": [],
   "source": [
    "time = game_actions.groupby('user_id')['event_datetime'].agg(['max', 'min']).reset_index()"
   ]
  },
  {
   "cell_type": "code",
   "execution_count": 46,
   "id": "790ae46c",
   "metadata": {},
   "outputs": [],
   "source": [
    "time['days_in_product'] = time['max'].dt.date - time['min'].dt.date"
   ]
  },
  {
   "cell_type": "code",
   "execution_count": 47,
   "id": "7b153a4f",
   "metadata": {},
   "outputs": [],
   "source": [
    "time = time.merge(game_actions[['user_id', 'status']], on = 'user_id')"
   ]
  },
  {
   "cell_type": "code",
   "execution_count": 48,
   "id": "6d3d8352",
   "metadata": {},
   "outputs": [],
   "source": [
    "time['days_in_product'] = time['days_in_product'].apply(lambda x: int(str(x).split(' ')[0]))"
   ]
  },
  {
   "cell_type": "code",
   "execution_count": 49,
   "id": "cf061a87",
   "metadata": {
    "scrolled": true
   },
   "outputs": [
    {
     "data": {
      "image/png": "[encoded data removed]",
      "text/plain": [
       "<Figure size 720x360 with 1 Axes>"
      ]
     },
     "metadata": {},
     "output_type": "display_data"
    }
   ],
   "source": [
    "draw_boxplot(time, \n",
    "             'days_in_product', \n",
    "             'status', \n",
    "             \"The distribution of time in the game depending on the chosen strategy for passing the level\", \n",
    "             \"days_in_product\", \n",
    "              \"\" )\n",
    "\n"
   ]
  },
  {
   "cell_type": "markdown",
   "id": "8d891cff",
   "metadata": {},
   "source": [
    "**Conclusion**\n",
    "\n",
    "- players with projects stay at the first level longer than players who defeated the enemy\n",
    "- on average, the time to complete the first level is 11-13 days, but there are players who completed it only after a month\n",
    "\n",
    "**It takes about 11-13 days to complete the first level, you can complete the first level faster by winning the first victory**"
   ]
  },
  {
   "cell_type": "markdown",
   "id": "adf9e2ce",
   "metadata": {},
   "source": [
    "# Calculation of product (application) metrics"
   ]
  },
  {
   "cell_type": "markdown",
   "id": "7b15e3e3",
   "metadata": {},
   "source": [
    "## DAU, WAU"
   ]
  },
  {
   "cell_type": "code",
   "execution_count": 50,
   "id": "b8066e00",
   "metadata": {},
   "outputs": [
    {
     "data": {
      "image/png": "[encoded data removed]",
      "text/plain": [
       "<Figure size 720x360 with 1 Axes>"
      ]
     },
     "metadata": {},
     "output_type": "display_data"
    }
   ],
   "source": [
    "dau = building_by_time[['date', 'user_id']]\n",
    "dau.plot();"
   ]
  },
  {
   "cell_type": "markdown",
   "id": "138cb715",
   "metadata": {},
   "source": [
    "DAU calculation is complicated by the fact that for players who have completed the level, there are no statistics on their further behavior in the application"
   ]
  },
  {
   "cell_type": "code",
   "execution_count": 51,
   "id": "7b10a358",
   "metadata": {},
   "outputs": [
    {
     "data": {
      "text/plain": [
       "finished_stage_1    5817\n",
       "Name: event, dtype: int64"
      ]
     },
     "execution_count": 51,
     "metadata": {},
     "output_type": "execute_result"
    }
   ],
   "source": [
    "(game_actions.merge(game_actions.query('status == \"finished_by_project\" or status == \"finished_by_fight\"')\n",
    "                    .groupby('user_id')['event_datetime'].max().reset_index(), \n",
    "                    on = ['user_id', 'event_datetime'])['event'].value_counts())"
   ]
  },
  {
   "cell_type": "markdown",
   "id": "854332eb",
   "metadata": {},
   "source": [
    "Thus, the DAU indicator, as well as the MAU, will be underestimated due to the lack of necessary data"
   ]
  },
  {
   "cell_type": "markdown",
   "id": "b875dff4",
   "metadata": {},
   "source": [
    "Let's see the date when the players finish the level"
   ]
  },
  {
   "cell_type": "code",
   "execution_count": 52,
   "id": "ced1ba1b",
   "metadata": {
    "scrolled": true
   },
   "outputs": [
    {
     "data": {
      "image/png": "[encoded data removed]",
      "text/plain": [
       "<Figure size 720x360 with 1 Axes>"
      ]
     },
     "metadata": {},
     "output_type": "display_data"
    }
   ],
   "source": [
    "dates_finished = (game_actions.query('status == \"finished_by_project\" or status == \"finished_by_fight\"')\n",
    "                  .groupby('user_id')['event_datetime'].max().reset_index())\n",
    "dates_finished['event_datetime'].dt.date.reset_index().groupby('event_datetime').count().plot()\n",
    "plt.title('Number of users who completed the level')\n",
    "plt.xlabel('')\n",
    "plt.ylabel('Number of players');\n"
   ]
  },
  {
   "cell_type": "markdown",
   "id": "6ff42704",
   "metadata": {},
   "source": [
    "**Conclusion**\n",
    "\n",
    "**Request full statistics about user behavior in the application for the correct calculation of DAU and MAU - based on the available information, the indicators will be underestimated**"
   ]
  },
  {
   "cell_type": "markdown",
   "id": "2e512438",
   "metadata": {},
   "source": [
    "## Number of buildings - analogue of LTV"
   ]
  },
  {
   "cell_type": "markdown",
   "id": "6391c910",
   "metadata": {},
   "source": [
    "Let's form a cohort of players by the first date of interaction with the application"
   ]
  },
  {
   "cell_type": "code",
   "execution_count": 53,
   "id": "9853f7af",
   "metadata": {
    "scrolled": true
   },
   "outputs": [],
   "source": [
    "first_date_in_app = game_actions.sort_values(by = ['user_id', 'event_datetime']).groupby('user_id')['date'].first().reset_index().rename(columns = {'date':'first_date'})"
   ]
  },
  {
   "cell_type": "code",
   "execution_count": 54,
   "id": "0cbd7e5b",
   "metadata": {},
   "outputs": [],
   "source": [
    "cohorts = game_actions.merge(first_date_in_app, on = 'user_id')\n",
    "cohorts['lifetime'] = (cohorts['date'] - cohorts['first_date']).dt.days\n",
    "cohorts = cohorts.pivot_table(index = 'first_date', columns = 'lifetime', values = 'building_type', aggfunc = 'count')"
   ]
  },
  {
   "cell_type": "code",
   "execution_count": 55,
   "id": "f84c323e",
   "metadata": {},
   "outputs": [
    {
     "data": {
      "image/png": "[encoded data removed]",
      "text/plain": [
       "<Figure size 1080x432 with 1 Axes>"
      ]
     },
     "metadata": {},
     "output_type": "display_data"
    }
   ],
   "source": [
    "plt.figure(figsize=(15, 6))\n",
    "sns.heatmap(round(cohorts.div(cohorts[0], axis = 0)*100, 0).drop(0, axis =1),\n",
    "             annot=True,robust=True,square=True,cbar=0)\n",
    "plt.title('Heatmap for constructed buildings')\n",
    "plt.ylabel('');"
   ]
  },
  {
   "cell_type": "markdown",
   "id": "18768a28",
   "metadata": {},
   "source": [
    "**Conclusion**\n",
    "\n",
    "- the behavior of users of different cohorts is similar - after two weeks in the game, users practically do not build anything\n",
    "- the largest number of buildings is observed on the first day in the game, on the second day it decreases and grows up to 6-7 days, then the number of buildings decreases day by day"
   ]
  },
  {
   "cell_type": "markdown",
   "id": "9905425b",
   "metadata": {},
   "source": [
    "# Testing hypotheses"
   ]
  },
  {
   "cell_type": "markdown",
   "id": "b1cd6d11",
   "metadata": {},
   "source": [
    "## Hypothesis 1 - The time to complete the level differs depending on the strategy"
   ]
  },
  {
   "cell_type": "markdown",
   "id": "8193e747",
   "metadata": {},
   "source": [
    "H0: The average time to complete a level through project implementation is equal to the average time to complete a level after defeating the first opponent\n",
    "\n",
    "H1: they are not equal\n",
    "\n",
    "We will choose the level of statistical significance of 0.5, since such accuracy is enough for marketing research"
   ]
  },
  {
   "cell_type": "code",
   "execution_count": 56,
   "id": "860f245d",
   "metadata": {},
   "outputs": [],
   "source": [
    "alpha = .05 \n",
    "time_project = time.query('status == \"finished_by_project\"')['days_in_product']\n",
    "time_fight = time.query('status == \"finished_by_fight\"')['days_in_product']"
   ]
  },
  {
   "cell_type": "code",
   "execution_count": 57,
   "id": "de8a2dd0",
   "metadata": {},
   "outputs": [
    {
     "name": "stdout",
     "output_type": "stream",
     "text": [
      "Average time to complete a level by implementing a project: 13.4 days\n",
      "Average time to complete a level by defeating an opponent: 11.6 days\n",
      "p-value: 0.0\n",
      "We reject the null hypothesis - the time to complete the level depends on the strategy\n"
     ]
    }
   ],
   "source": [
    "results = st.ttest_ind(\n",
    "    time_project, \n",
    "    time_fight)\n",
    "\n",
    "print(f'Average time to complete a level by implementing a project: {round(time_project.mean(), 1)} days')\n",
    "print(f'Average time to complete a level by defeating an opponent: {round(time_fight.mean(), 1)} days')\n",
    "\n",
    "print(f'p-value: {results.pvalue}')\n",
    "\n",
    "if (results.pvalue < alpha):\n",
    "    print(\"We reject the null hypothesis - the time to complete the level depends on the strategy\")\n",
    "else:\n",
    "    print(\"It is not possible to reject the null hypothesis - the time to complete the level does not depend on the strategy\")"
   ]
  },
  {
   "cell_type": "markdown",
   "id": "f2c78cfd",
   "metadata": {},
   "source": [
    "## Hypothesis 2 - The number of buildings varies depending on the strategy"
   ]
  },
  {
   "cell_type": "markdown",
   "id": "9fc21b83",
   "metadata": {},
   "source": [
    "H0: The average number of buildings for players who completed the level through the implementation of the project is equal to the average number of buildings for players who completed the level after defeating the first opponent\n",
    "\n",
    "H1: they are not equal\n",
    "\n",
    "We will choose the level of statistical significance of 0.5, since such accuracy is enough for marketing research"
   ]
  },
  {
   "cell_type": "code",
   "execution_count": 58,
   "id": "17031b8f",
   "metadata": {},
   "outputs": [
    {
     "name": "stdout",
     "output_type": "stream",
     "text": [
      "Average number of buildings for project implementation: 12.6\n",
      "The average number of buildings to defeat the enemy: 9.4\n",
      "p-value: 0.0\n",
      "We reject the null hypothesis - the number of buildings depends on the strategy\n"
     ]
    }
   ],
   "source": [
    "alpha = .05 \n",
    "buildings = game_actions.groupby(['user_id', 'status'])['building_type'].count().reset_index()\n",
    "buildings_project = buildings.query('status == \"finished_by_project\"')['building_type']\n",
    "buildings_fight = buildings.query('status == \"finished_by_fight\"')['building_type']\n",
    "results = st.ttest_ind(\n",
    "    buildings_project, \n",
    "    buildings_fight)\n",
    "\n",
    "print(f'Average number of buildings for project implementation: {round(buildings_project.mean(), 1)}')\n",
    "print(f'Average number of buildings to defeat the enemy: {round(buildings_fight.mean(), 1)}')\n",
    "\n",
    "print(f'p-value: {results.pvalue}')\n",
    "\n",
    "if (results.pvalue < alpha):\n",
    "    print(\"We reject the null hypothesis - the number of buildings depends on the strategy\")\n",
    "else:\n",
    "    print(\"It is not possible to reject the null hypothesis - the number of buildings does not depend on the strategy\")"
   ]
  },
  {
   "cell_type": "markdown",
   "id": "59c9afd2",
   "metadata": {},
   "source": [
    "# Conclusions and recommendations"
   ]
  },
  {
   "cell_type": "markdown",
   "id": "ab202ff3",
   "metadata": {},
   "source": [
    "1. **Hypothesis 1 confirmed** - the time to complete the level varies depending on the strategy: 13.4 days for the implementation of the project and 11.6 days for defeating the first enemy\n",
    "2. **Hypothesis 2 confirmed** - the number of buildings varies depending on the strategy - 12.6 for project implementation and 9.4 for winning\n",
    "3. We may slightly revise the budget allocation of our marketing campaigns - increase funding for **youtube_channel_reklama - this campaign can attract more players than similarly funded campaigns on other platforms**\n",
    "4. **Acquisition channels do not affect user behavior in the game**\n",
    "5. Players prefer to complete the level with the first victory over the enemy.\n",
    "6. **It is beneficial for us that users use the project execution strategy, it is necessary to revise the conditions for passing the first level by winning - such players can complete the level with a minimum number of buildings. Pay special attention to stimulating the continuation of the game after the implementation of the 6th building**\n",
    "7. Player activity in terms of building objects decreases after the first week since the launch of the application\n",
    "8. It takes about 11-13 days to complete the first level, you can complete the first level more quickly by winning the first victory\n",
    "9. Request full statistics about user behavior in the application for the correct calculation of DAU and MAU - based on the available information, the indicators will be underestimated"
   ]
  }
 ],
 "metadata": {
  "ExecuteTimeLog": [
   {
    "duration": 1560,
    "start_time": "2022-11-04T17:10:45.348Z"
   },
   {
    "duration": 91,
    "start_time": "2022-11-04T17:10:46.909Z"
   },
   {
    "duration": 76,
    "start_time": "2022-11-04T17:10:47.002Z"
   },
   {
    "duration": 73,
    "start_time": "2022-11-04T17:10:47.079Z"
   },
   {
    "duration": 24,
    "start_time": "2022-11-04T17:10:47.154Z"
   },
   {
    "duration": 199,
    "start_time": "2022-11-04T17:10:47.179Z"
   },
   {
    "duration": 0,
    "start_time": "2022-11-04T17:10:47.380Z"
   },
   {
    "duration": 0,
    "start_time": "2022-11-04T17:10:47.381Z"
   },
   {
    "duration": 0,
    "start_time": "2022-11-04T17:10:47.382Z"
   },
   {
    "duration": 0,
    "start_time": "2022-11-04T17:10:47.383Z"
   },
   {
    "duration": 0,
    "start_time": "2022-11-04T17:10:47.384Z"
   },
   {
    "duration": 0,
    "start_time": "2022-11-04T17:10:47.385Z"
   },
   {
    "duration": 0,
    "start_time": "2022-11-04T17:10:47.386Z"
   },
   {
    "duration": 0,
    "start_time": "2022-11-04T17:10:47.387Z"
   },
   {
    "duration": 0,
    "start_time": "2022-11-04T17:10:47.389Z"
   },
   {
    "duration": 0,
    "start_time": "2022-11-04T17:10:47.390Z"
   },
   {
    "duration": 0,
    "start_time": "2022-11-04T17:10:47.390Z"
   },
   {
    "duration": 0,
    "start_time": "2022-11-04T17:10:47.391Z"
   },
   {
    "duration": 0,
    "start_time": "2022-11-04T17:10:47.392Z"
   },
   {
    "duration": 0,
    "start_time": "2022-11-04T17:10:47.393Z"
   },
   {
    "duration": 0,
    "start_time": "2022-11-04T17:10:47.394Z"
   },
   {
    "duration": 0,
    "start_time": "2022-11-04T17:10:47.395Z"
   },
   {
    "duration": 0,
    "start_time": "2022-11-04T17:10:47.396Z"
   },
   {
    "duration": 0,
    "start_time": "2022-11-04T17:10:47.397Z"
   },
   {
    "duration": 0,
    "start_time": "2022-11-04T17:10:47.398Z"
   },
   {
    "duration": 0,
    "start_time": "2022-11-04T17:10:47.399Z"
   },
   {
    "duration": 0,
    "start_time": "2022-11-04T17:10:47.400Z"
   },
   {
    "duration": 0,
    "start_time": "2022-11-04T17:10:47.401Z"
   },
   {
    "duration": 0,
    "start_time": "2022-11-04T17:10:47.402Z"
   },
   {
    "duration": 0,
    "start_time": "2022-11-04T17:10:47.403Z"
   },
   {
    "duration": 0,
    "start_time": "2022-11-04T17:10:47.404Z"
   },
   {
    "duration": 0,
    "start_time": "2022-11-04T17:10:47.405Z"
   },
   {
    "duration": 0,
    "start_time": "2022-11-04T17:10:47.406Z"
   },
   {
    "duration": 0,
    "start_time": "2022-11-04T17:10:47.408Z"
   },
   {
    "duration": 0,
    "start_time": "2022-11-04T17:10:47.409Z"
   },
   {
    "duration": 0,
    "start_time": "2022-11-04T17:10:47.411Z"
   },
   {
    "duration": 0,
    "start_time": "2022-11-04T17:10:47.477Z"
   },
   {
    "duration": 0,
    "start_time": "2022-11-04T17:10:47.478Z"
   },
   {
    "duration": 0,
    "start_time": "2022-11-04T17:10:47.479Z"
   },
   {
    "duration": 0,
    "start_time": "2022-11-04T17:10:47.480Z"
   },
   {
    "duration": 0,
    "start_time": "2022-11-04T17:10:47.482Z"
   },
   {
    "duration": 0,
    "start_time": "2022-11-04T17:10:47.482Z"
   },
   {
    "duration": 0,
    "start_time": "2022-11-04T17:10:47.483Z"
   },
   {
    "duration": 0,
    "start_time": "2022-11-04T17:10:47.484Z"
   },
   {
    "duration": 0,
    "start_time": "2022-11-04T17:10:47.485Z"
   },
   {
    "duration": 0,
    "start_time": "2022-11-04T17:10:47.486Z"
   },
   {
    "duration": 0,
    "start_time": "2022-11-04T17:10:47.487Z"
   },
   {
    "duration": 0,
    "start_time": "2022-11-04T17:10:47.488Z"
   },
   {
    "duration": 0,
    "start_time": "2022-11-04T17:10:47.489Z"
   },
   {
    "duration": 0,
    "start_time": "2022-11-04T17:10:47.490Z"
   },
   {
    "duration": 0,
    "start_time": "2022-11-04T17:10:47.491Z"
   },
   {
    "duration": 0,
    "start_time": "2022-11-04T17:10:47.492Z"
   },
   {
    "duration": 0,
    "start_time": "2022-11-04T17:10:47.493Z"
   },
   {
    "duration": 0,
    "start_time": "2022-11-04T17:10:47.494Z"
   },
   {
    "duration": 0,
    "start_time": "2022-11-04T17:10:47.495Z"
   },
   {
    "duration": 0,
    "start_time": "2022-11-04T17:10:47.496Z"
   },
   {
    "duration": 0,
    "start_time": "2022-11-04T17:10:47.497Z"
   },
   {
    "duration": 1246,
    "start_time": "2022-11-04T17:36:56.824Z"
   },
   {
    "duration": 238,
    "start_time": "2022-11-04T17:36:58.072Z"
   },
   {
    "duration": 32,
    "start_time": "2022-11-04T17:36:58.312Z"
   },
   {
    "duration": 25,
    "start_time": "2022-11-04T17:36:58.346Z"
   },
   {
    "duration": 7,
    "start_time": "2022-11-04T17:36:58.374Z"
   },
   {
    "duration": 246,
    "start_time": "2022-11-04T17:36:58.383Z"
   },
   {
    "duration": 43,
    "start_time": "2022-11-04T17:36:58.631Z"
   },
   {
    "duration": 81,
    "start_time": "2022-11-04T17:36:58.676Z"
   },
   {
    "duration": 68,
    "start_time": "2022-11-04T17:36:58.759Z"
   },
   {
    "duration": 11,
    "start_time": "2022-11-04T17:36:58.828Z"
   },
   {
    "duration": 28,
    "start_time": "2022-11-04T17:36:58.840Z"
   },
   {
    "duration": 9,
    "start_time": "2022-11-04T17:36:58.869Z"
   },
   {
    "duration": 20,
    "start_time": "2022-11-04T17:36:58.880Z"
   },
   {
    "duration": 11,
    "start_time": "2022-11-04T17:36:58.902Z"
   },
   {
    "duration": 40,
    "start_time": "2022-11-04T17:36:58.915Z"
   },
   {
    "duration": 13,
    "start_time": "2022-11-04T17:36:58.957Z"
   },
   {
    "duration": 6,
    "start_time": "2022-11-04T17:36:58.971Z"
   },
   {
    "duration": 10569,
    "start_time": "2022-11-04T17:36:58.979Z"
   },
   {
    "duration": 249,
    "start_time": "2022-11-04T17:37:09.550Z"
   },
   {
    "duration": 31,
    "start_time": "2022-11-04T17:37:09.801Z"
   },
   {
    "duration": 42,
    "start_time": "2022-11-04T17:37:09.834Z"
   },
   {
    "duration": 35,
    "start_time": "2022-11-04T17:37:09.878Z"
   },
   {
    "duration": 42,
    "start_time": "2022-11-04T17:37:09.915Z"
   },
   {
    "duration": 4,
    "start_time": "2022-11-04T17:37:09.959Z"
   },
   {
    "duration": 39,
    "start_time": "2022-11-04T17:37:09.964Z"
   },
   {
    "duration": 5,
    "start_time": "2022-11-04T17:37:10.004Z"
   },
   {
    "duration": 145,
    "start_time": "2022-11-04T17:37:10.011Z"
   },
   {
    "duration": 250,
    "start_time": "2022-11-04T17:37:10.159Z"
   },
   {
    "duration": 15,
    "start_time": "2022-11-04T17:37:10.412Z"
   },
   {
    "duration": 26,
    "start_time": "2022-11-04T17:37:10.429Z"
   },
   {
    "duration": 6,
    "start_time": "2022-11-04T17:37:10.456Z"
   },
   {
    "duration": 14,
    "start_time": "2022-11-04T17:37:10.463Z"
   },
   {
    "duration": 202,
    "start_time": "2022-11-04T17:37:10.478Z"
   },
   {
    "duration": 219,
    "start_time": "2022-11-04T17:37:10.682Z"
   },
   {
    "duration": 63,
    "start_time": "2022-11-04T17:37:10.902Z"
   },
   {
    "duration": 401,
    "start_time": "2022-11-04T17:37:10.968Z"
   },
   {
    "duration": 32,
    "start_time": "2022-11-04T17:37:11.370Z"
   },
   {
    "duration": 563,
    "start_time": "2022-11-04T17:37:11.404Z"
   },
   {
    "duration": 287,
    "start_time": "2022-11-04T17:37:11.969Z"
   },
   {
    "duration": 38,
    "start_time": "2022-11-04T17:37:12.258Z"
   },
   {
    "duration": 443,
    "start_time": "2022-11-04T17:37:12.300Z"
   },
   {
    "duration": 170,
    "start_time": "2022-11-04T17:37:12.745Z"
   },
   {
    "duration": 189,
    "start_time": "2022-11-04T17:37:12.917Z"
   },
   {
    "duration": 31,
    "start_time": "2022-11-04T17:37:13.108Z"
   },
   {
    "duration": 44,
    "start_time": "2022-11-04T17:37:13.140Z"
   },
   {
    "duration": 75,
    "start_time": "2022-11-04T17:37:13.186Z"
   },
   {
    "duration": 1378,
    "start_time": "2022-11-04T17:37:13.263Z"
   },
   {
    "duration": 244,
    "start_time": "2022-11-04T17:37:14.643Z"
   },
   {
    "duration": 170,
    "start_time": "2022-11-04T17:37:14.888Z"
   },
   {
    "duration": 75,
    "start_time": "2022-11-04T17:37:15.060Z"
   },
   {
    "duration": 315,
    "start_time": "2022-11-04T17:37:15.136Z"
   },
   {
    "duration": 153,
    "start_time": "2022-11-04T17:37:15.454Z"
   },
   {
    "duration": 376,
    "start_time": "2022-11-04T17:37:15.608Z"
   },
   {
    "duration": 1351,
    "start_time": "2022-11-04T17:37:15.986Z"
   },
   {
    "duration": 30,
    "start_time": "2022-11-04T17:37:17.339Z"
   },
   {
    "duration": 7,
    "start_time": "2022-11-04T17:37:17.371Z"
   },
   {
    "duration": 61,
    "start_time": "2022-11-04T17:37:17.380Z"
   },
   {
    "duration": 1348,
    "start_time": "2022-11-05T11:47:11.974Z"
   },
   {
    "duration": 509,
    "start_time": "2022-11-05T11:47:13.324Z"
   },
   {
    "duration": 69,
    "start_time": "2022-11-05T11:47:13.835Z"
   },
   {
    "duration": 51,
    "start_time": "2022-11-05T11:47:13.906Z"
   },
   {
    "duration": 7,
    "start_time": "2022-11-05T11:47:13.958Z"
   },
   {
    "duration": 369,
    "start_time": "2022-11-05T11:47:13.966Z"
   },
   {
    "duration": 37,
    "start_time": "2022-11-05T11:47:14.337Z"
   },
   {
    "duration": 73,
    "start_time": "2022-11-05T11:47:14.376Z"
   },
   {
    "duration": 90,
    "start_time": "2022-11-05T11:47:14.451Z"
   },
   {
    "duration": 11,
    "start_time": "2022-11-05T11:47:14.544Z"
   },
   {
    "duration": 17,
    "start_time": "2022-11-05T11:47:14.557Z"
   },
   {
    "duration": 10,
    "start_time": "2022-11-05T11:47:14.576Z"
   },
   {
    "duration": 19,
    "start_time": "2022-11-05T11:47:14.588Z"
   },
   {
    "duration": 10,
    "start_time": "2022-11-05T11:47:14.634Z"
   },
   {
    "duration": 22,
    "start_time": "2022-11-05T11:47:14.646Z"
   },
   {
    "duration": 12,
    "start_time": "2022-11-05T11:47:14.670Z"
   },
   {
    "duration": 5,
    "start_time": "2022-11-05T11:47:14.684Z"
   },
   {
    "duration": 11022,
    "start_time": "2022-11-05T11:47:14.690Z"
   },
   {
    "duration": 229,
    "start_time": "2022-11-05T11:47:25.714Z"
   },
   {
    "duration": 31,
    "start_time": "2022-11-05T11:47:25.945Z"
   },
   {
    "duration": 33,
    "start_time": "2022-11-05T11:47:25.977Z"
   },
   {
    "duration": 53,
    "start_time": "2022-11-05T11:47:26.012Z"
   },
   {
    "duration": 23,
    "start_time": "2022-11-05T11:47:26.066Z"
   },
   {
    "duration": 4,
    "start_time": "2022-11-05T11:47:26.091Z"
   },
   {
    "duration": 60,
    "start_time": "2022-11-05T11:47:26.097Z"
   },
   {
    "duration": 5,
    "start_time": "2022-11-05T11:47:26.159Z"
   },
   {
    "duration": 183,
    "start_time": "2022-11-05T11:47:26.166Z"
   },
   {
    "duration": 317,
    "start_time": "2022-11-05T11:47:26.354Z"
   },
   {
    "duration": 14,
    "start_time": "2022-11-05T11:47:26.673Z"
   },
   {
    "duration": 11,
    "start_time": "2022-11-05T11:47:26.689Z"
   },
   {
    "duration": 7,
    "start_time": "2022-11-05T11:47:26.702Z"
   },
   {
    "duration": 25,
    "start_time": "2022-11-05T11:47:26.710Z"
   },
   {
    "duration": 209,
    "start_time": "2022-11-05T11:47:26.737Z"
   },
   {
    "duration": 218,
    "start_time": "2022-11-05T11:47:26.948Z"
   },
   {
    "duration": 49,
    "start_time": "2022-11-05T11:47:27.168Z"
   },
   {
    "duration": 380,
    "start_time": "2022-11-05T11:47:27.218Z"
   },
   {
    "duration": 47,
    "start_time": "2022-11-05T11:47:27.601Z"
   },
   {
    "duration": 471,
    "start_time": "2022-11-05T11:47:27.650Z"
   },
   {
    "duration": 293,
    "start_time": "2022-11-05T11:47:28.123Z"
   },
   {
    "duration": 50,
    "start_time": "2022-11-05T11:47:28.418Z"
   },
   {
    "duration": 440,
    "start_time": "2022-11-05T11:47:28.470Z"
   },
   {
    "duration": 179,
    "start_time": "2022-11-05T11:47:28.912Z"
   },
   {
    "duration": 198,
    "start_time": "2022-11-05T11:47:29.093Z"
   },
   {
    "duration": 41,
    "start_time": "2022-11-05T11:47:29.293Z"
   },
   {
    "duration": 58,
    "start_time": "2022-11-05T11:47:29.336Z"
   },
   {
    "duration": 71,
    "start_time": "2022-11-05T11:47:29.396Z"
   },
   {
    "duration": 1335,
    "start_time": "2022-11-05T11:47:29.469Z"
   },
   {
    "duration": 245,
    "start_time": "2022-11-05T11:47:30.806Z"
   },
   {
    "duration": 186,
    "start_time": "2022-11-05T11:47:31.053Z"
   },
   {
    "duration": 73,
    "start_time": "2022-11-05T11:47:31.241Z"
   },
   {
    "duration": 322,
    "start_time": "2022-11-05T11:47:31.315Z"
   },
   {
    "duration": 148,
    "start_time": "2022-11-05T11:47:31.638Z"
   },
   {
    "duration": 359,
    "start_time": "2022-11-05T11:47:31.787Z"
   },
   {
    "duration": 1388,
    "start_time": "2022-11-05T11:47:32.149Z"
   },
   {
    "duration": 20,
    "start_time": "2022-11-05T11:47:33.539Z"
   },
   {
    "duration": 9,
    "start_time": "2022-11-05T11:47:33.561Z"
   },
   {
    "duration": 74,
    "start_time": "2022-11-05T11:47:33.572Z"
   }
  ],
  "kernelspec": {
   "display_name": "Python 3 (ipykernel)",
   "language": "python",
   "name": "python3"
  },
  "language_info": {
   "codemirror_mode": {
    "name": "ipython",
    "version": 3
   },
   "file_extension": ".py",
   "mimetype": "text/x-python",
   "name": "python",
   "nbconvert_exporter": "python",
   "pygments_lexer": "ipython3",
   "version": "3.7.8"
  },
  "toc": {
   "base_numbering": 1,
   "nav_menu": {},
   "number_sections": true,
   "sideBar": true,
   "skip_h1_title": false,
   "title_cell": "Table of Contents",
   "title_sidebar": "Contents",
   "toc_cell": false,
   "toc_position": {},
   "toc_section_display": true,
   "toc_window_display": true
  }
 },
 "nbformat": 4,
 "nbformat_minor": 5
}
