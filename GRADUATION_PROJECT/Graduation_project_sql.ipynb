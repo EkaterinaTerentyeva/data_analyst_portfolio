{
 "cells": [
  {
   "cell_type": "markdown",
   "id": "09451a01",
   "metadata": {},
   "source": [
    "**SQL tasks graduation project Yandex Practicum Data Analyst Plus**"
   ]
  },
  {
   "cell_type": "markdown",
   "id": "ad647bf0",
   "metadata": {},
   "source": [
    "**Target**\n",
    "\n",
    "explore the database and answer the questions"
   ]
  },
  {
   "cell_type": "markdown",
   "id": "c0a00f0b",
   "metadata": {},
   "source": [
    "**Data Description**\n",
    "\n",
    "**Table `books`**\n",
    "\n",
    "Contains information about books:\n",
    "\n",
    "- `book_id` — book identifier;\n",
    "- `author_id` — author identifier;\n",
    "- `title` — title of the book;\n",
    "- `num_pages` - number of pages;\n",
    "- `publication_date` - publication date of the book;\n",
    "- `publisher_id` - publisher identifier.\n",
    "\n",
    "**The `authors` table**\n",
    "\n",
    "Contains information about the authors:\n",
    "\n",
    "- `author_id` — author identifier;\n",
    "- `author` is the name of the author.\n",
    "\n",
    "**Table `publishers`**\n",
    "\n",
    "Contains information about publishers:\n",
    "\n",
    "- `publisher_id` — publisher identifier;\n",
    "- `publisher` — publisher name;\n",
    "\n",
    "**Table `ratings`**\n",
    "\n",
    "Contains data about user ratings of books:\n",
    "\n",
    "- `rating_id` — rating identifier;\n",
    "- `book_id` — book identifier;\n",
    "- `username` - the name of the user who left the rating;\n",
    "- `rating` - rating of the book.\n",
    "\n",
    "**Table `reviews`**\n",
    "\n",
    "Contains data about user reviews of books:\n",
    "\n",
    "- `review_id` — review identifier;\n",
    "- `book_id` — book identifier;\n",
    "- `username` - the name of the user who wrote the review;\n",
    "- `text` — review text."
   ]
  },
  {
   "cell_type": "code",
   "execution_count": 1,
   "id": "18938605",
   "metadata": {},
   "outputs": [],
   "source": [
    "import pandas as pd\n",
    "from sqlalchemy import create_engine\n",
    "\n",
    "db_config = {'user': 'praktikum_student', \n",
    "'pwd': 'Sdf4$2;d-d30pp',\n",
    "'host': 'rc1b-wcoijxj3yxfsf3fs.mdb.yandexcloud.net',\n",
    "'port': 6432, \n",
    "'db': 'data-analyst-final-project-db'} \n",
    "connection_string = 'postgresql://{}:{}@{}:{}/{}'.format(db_config['user'],\n",
    " db_config['pwd'],\n",
    " db_config['host'],\n",
    " db_config['port'],\n",
    " db_config['db'])\n",
    "\n",
    "engine = create_engine(connection_string, connect_args={'sslmode':'require'}) "
   ]
  },
  {
   "cell_type": "markdown",
   "id": "e13ca5f9",
   "metadata": {},
   "source": [
    "**1 Count how many books have been published since January 1, 2000**"
   ]
  },
  {
   "cell_type": "code",
   "execution_count": 2,
   "id": "8163b5b7",
   "metadata": {
    "scrolled": true
   },
   "outputs": [
    {
     "data": {
      "text/html": [
       "<div>\n",
       "<style scoped>\n",
       "    .dataframe tbody tr th:only-of-type {\n",
       "        vertical-align: middle;\n",
       "    }\n",
       "\n",
       "    .dataframe tbody tr th {\n",
       "        vertical-align: top;\n",
       "    }\n",
       "\n",
       "    .dataframe thead th {\n",
       "        text-align: right;\n",
       "    }\n",
       "</style>\n",
       "<table border=\"1\" class=\"dataframe\">\n",
       "  <thead>\n",
       "    <tr style=\"text-align: right;\">\n",
       "      <th></th>\n",
       "      <th>count</th>\n",
       "    </tr>\n",
       "  </thead>\n",
       "  <tbody>\n",
       "    <tr>\n",
       "      <td>0</td>\n",
       "      <td>821</td>\n",
       "    </tr>\n",
       "  </tbody>\n",
       "</table>\n",
       "</div>"
      ],
      "text/plain": [
       "   count\n",
       "0    821"
      ]
     },
     "execution_count": 2,
     "metadata": {},
     "output_type": "execute_result"
    }
   ],
   "source": [
    "query = \"\"\"\n",
    "SELECT COUNT(books) \n",
    "FROM books\n",
    "WHERE publication_date >= CAST('2000-01-01' as date)\n",
    "\"\"\"\n",
    "pd.io.sql.read_sql(query, con = engine) "
   ]
  },
  {
   "cell_type": "markdown",
   "id": "902a877e",
   "metadata": {},
   "source": [
    "**2 For each book, count the number of reviews and the average rating**"
   ]
  },
  {
   "cell_type": "code",
   "execution_count": 3,
   "id": "194515ee",
   "metadata": {
    "scrolled": true
   },
   "outputs": [
    {
     "data": {
      "text/html": [
       "<div>\n",
       "<style scoped>\n",
       "    .dataframe tbody tr th:only-of-type {\n",
       "        vertical-align: middle;\n",
       "    }\n",
       "\n",
       "    .dataframe tbody tr th {\n",
       "        vertical-align: top;\n",
       "    }\n",
       "\n",
       "    .dataframe thead th {\n",
       "        text-align: right;\n",
       "    }\n",
       "</style>\n",
       "<table border=\"1\" class=\"dataframe\">\n",
       "  <thead>\n",
       "    <tr style=\"text-align: right;\">\n",
       "      <th></th>\n",
       "      <th>title</th>\n",
       "      <th>cnt</th>\n",
       "      <th>avg</th>\n",
       "    </tr>\n",
       "  </thead>\n",
       "  <tbody>\n",
       "    <tr>\n",
       "      <td>0</td>\n",
       "      <td>Memoirs of a Geisha</td>\n",
       "      <td>8</td>\n",
       "      <td>4.107143</td>\n",
       "    </tr>\n",
       "    <tr>\n",
       "      <td>1</td>\n",
       "      <td>Twilight (Twilight  #1)</td>\n",
       "      <td>7</td>\n",
       "      <td>3.662500</td>\n",
       "    </tr>\n",
       "    <tr>\n",
       "      <td>2</td>\n",
       "      <td>Harry Potter and the Chamber of Secrets (Harry...</td>\n",
       "      <td>6</td>\n",
       "      <td>4.287500</td>\n",
       "    </tr>\n",
       "    <tr>\n",
       "      <td>3</td>\n",
       "      <td>The Glass Castle</td>\n",
       "      <td>6</td>\n",
       "      <td>4.206897</td>\n",
       "    </tr>\n",
       "    <tr>\n",
       "      <td>4</td>\n",
       "      <td>Eat  Pray  Love</td>\n",
       "      <td>6</td>\n",
       "      <td>3.395833</td>\n",
       "    </tr>\n",
       "    <tr>\n",
       "      <td>...</td>\n",
       "      <td>...</td>\n",
       "      <td>...</td>\n",
       "      <td>...</td>\n",
       "    </tr>\n",
       "    <tr>\n",
       "      <td>994</td>\n",
       "      <td>Anne Rice's The Vampire Lestat: A Graphic Novel</td>\n",
       "      <td>0</td>\n",
       "      <td>3.666667</td>\n",
       "    </tr>\n",
       "    <tr>\n",
       "      <td>995</td>\n",
       "      <td>The Natural Way to Draw</td>\n",
       "      <td>0</td>\n",
       "      <td>3.000000</td>\n",
       "    </tr>\n",
       "    <tr>\n",
       "      <td>996</td>\n",
       "      <td>The Cat in the Hat and Other Dr. Seuss Favorites</td>\n",
       "      <td>0</td>\n",
       "      <td>5.000000</td>\n",
       "    </tr>\n",
       "    <tr>\n",
       "      <td>997</td>\n",
       "      <td>Essential Tales and Poems</td>\n",
       "      <td>0</td>\n",
       "      <td>4.000000</td>\n",
       "    </tr>\n",
       "    <tr>\n",
       "      <td>998</td>\n",
       "      <td>Disney's Beauty and the Beast (A Little Golden...</td>\n",
       "      <td>0</td>\n",
       "      <td>4.000000</td>\n",
       "    </tr>\n",
       "  </tbody>\n",
       "</table>\n",
       "<p>999 rows × 3 columns</p>\n",
       "</div>"
      ],
      "text/plain": [
       "                                                 title  cnt       avg\n",
       "0                                  Memoirs of a Geisha    8  4.107143\n",
       "1                              Twilight (Twilight  #1)    7  3.662500\n",
       "2    Harry Potter and the Chamber of Secrets (Harry...    6  4.287500\n",
       "3                                     The Glass Castle    6  4.206897\n",
       "4                                      Eat  Pray  Love    6  3.395833\n",
       "..                                                 ...  ...       ...\n",
       "994    Anne Rice's The Vampire Lestat: A Graphic Novel    0  3.666667\n",
       "995                            The Natural Way to Draw    0  3.000000\n",
       "996   The Cat in the Hat and Other Dr. Seuss Favorites    0  5.000000\n",
       "997                          Essential Tales and Poems    0  4.000000\n",
       "998  Disney's Beauty and the Beast (A Little Golden...    0  4.000000\n",
       "\n",
       "[999 rows x 3 columns]"
      ]
     },
     "execution_count": 3,
     "metadata": {},
     "output_type": "execute_result"
    }
   ],
   "source": [
    "query = \"\"\"\n",
    "WITH a AS (SELECT title, COUNT(review_id) as cnt\n",
    "FROM books LEFT JOIN reviews USING(book_id)\n",
    "GROUP BY title),\n",
    "b AS (SELECT title, AVG(rating)\n",
    "FROM books LEFT JOIN ratings USING(book_id)\n",
    "GROUP BY title)\n",
    "SELECT * FROM a LEFT JOIN b USING(title)\n",
    "ORDER BY cnt DESC\n",
    "\"\"\"\n",
    "\n",
    "pd.io.sql.read_sql(query, con = engine) "
   ]
  },
  {
   "cell_type": "markdown",
   "id": "f38f5407",
   "metadata": {},
   "source": [
    "**3 Identify the publisher that has released the most books over 50 pages - this way you will exclude brochures from the analysis**"
   ]
  },
  {
   "cell_type": "code",
   "execution_count": 4,
   "id": "b3e7b1bb",
   "metadata": {
    "scrolled": true
   },
   "outputs": [
    {
     "data": {
      "text/html": [
       "<div>\n",
       "<style scoped>\n",
       "    .dataframe tbody tr th:only-of-type {\n",
       "        vertical-align: middle;\n",
       "    }\n",
       "\n",
       "    .dataframe tbody tr th {\n",
       "        vertical-align: top;\n",
       "    }\n",
       "\n",
       "    .dataframe thead th {\n",
       "        text-align: right;\n",
       "    }\n",
       "</style>\n",
       "<table border=\"1\" class=\"dataframe\">\n",
       "  <thead>\n",
       "    <tr style=\"text-align: right;\">\n",
       "      <th></th>\n",
       "      <th>publisher</th>\n",
       "    </tr>\n",
       "  </thead>\n",
       "  <tbody>\n",
       "    <tr>\n",
       "      <td>0</td>\n",
       "      <td>Penguin Books</td>\n",
       "    </tr>\n",
       "  </tbody>\n",
       "</table>\n",
       "</div>"
      ],
      "text/plain": [
       "       publisher\n",
       "0  Penguin Books"
      ]
     },
     "execution_count": 4,
     "metadata": {},
     "output_type": "execute_result"
    }
   ],
   "source": [
    "query = \"\"\"\n",
    "WITH\n",
    "a AS (SELECT publisher_id, COUNT(book_id) FROM books\n",
    "WHERE num_pages>50\n",
    "GROUP BY publisher_id\n",
    "ORDER BY COUNT(book_id) DESC\n",
    "LIMIT 1)\n",
    "\n",
    "SELECT DISTINCT publisher\n",
    "FROM books as b JOIN publishers as p USING(publisher_id)\n",
    "WHERE b.publisher_id = (SELECT publisher_id FROM a)\n",
    "\n",
    "\"\"\"\n",
    "\n",
    "pd.io.sql.read_sql(query, con = engine) "
   ]
  },
  {
   "cell_type": "markdown",
   "id": "904e1085",
   "metadata": {},
   "source": [
    "**4 Identify the author with the highest average book rating - consider only books with 50 or more ratings**"
   ]
  },
  {
   "cell_type": "code",
   "execution_count": 5,
   "id": "849d63f2",
   "metadata": {
    "scrolled": true
   },
   "outputs": [
    {
     "data": {
      "text/html": [
       "<div>\n",
       "<style scoped>\n",
       "    .dataframe tbody tr th:only-of-type {\n",
       "        vertical-align: middle;\n",
       "    }\n",
       "\n",
       "    .dataframe tbody tr th {\n",
       "        vertical-align: top;\n",
       "    }\n",
       "\n",
       "    .dataframe thead th {\n",
       "        text-align: right;\n",
       "    }\n",
       "</style>\n",
       "<table border=\"1\" class=\"dataframe\">\n",
       "  <thead>\n",
       "    <tr style=\"text-align: right;\">\n",
       "      <th></th>\n",
       "      <th>author</th>\n",
       "      <th>avg</th>\n",
       "    </tr>\n",
       "  </thead>\n",
       "  <tbody>\n",
       "    <tr>\n",
       "      <td>0</td>\n",
       "      <td>J.K. Rowling/Mary GrandPré</td>\n",
       "      <td>4.287097</td>\n",
       "    </tr>\n",
       "  </tbody>\n",
       "</table>\n",
       "</div>"
      ],
      "text/plain": [
       "                       author       avg\n",
       "0  J.K. Rowling/Mary GrandPré  4.287097"
      ]
     },
     "execution_count": 5,
     "metadata": {},
     "output_type": "execute_result"
    }
   ],
   "source": [
    "query = \"\"\"\n",
    "WITH \n",
    "a AS (SELECT book_id, COUNT(rating) \n",
    "FROM ratings\n",
    "GROUP BY book_id\n",
    "HAVING COUNT(rating_id) >50)\n",
    "SELECT author, AVG(rating) \n",
    "FROM books JOIN ratings USING(book_id) JOIN authors USING(author_id)\n",
    "WHERE book_id IN (SELECT book_id FROM a)\n",
    "GROUP BY(author)\n",
    "ORDER BY AVG(rating) DESC\n",
    "LIMIT 1\n",
    "\n",
    "\"\"\"\n",
    "\n",
    "pd.io.sql.read_sql(query, con = engine) "
   ]
  },
  {
   "cell_type": "markdown",
   "id": "db3044db",
   "metadata": {},
   "source": [
    "**5 Calculate the average number of reviews from users who have given more than 50 ratings**"
   ]
  },
  {
   "cell_type": "code",
   "execution_count": 6,
   "id": "6250258a",
   "metadata": {},
   "outputs": [
    {
     "data": {
      "text/html": [
       "<div>\n",
       "<style scoped>\n",
       "    .dataframe tbody tr th:only-of-type {\n",
       "        vertical-align: middle;\n",
       "    }\n",
       "\n",
       "    .dataframe tbody tr th {\n",
       "        vertical-align: top;\n",
       "    }\n",
       "\n",
       "    .dataframe thead th {\n",
       "        text-align: right;\n",
       "    }\n",
       "</style>\n",
       "<table border=\"1\" class=\"dataframe\">\n",
       "  <thead>\n",
       "    <tr style=\"text-align: right;\">\n",
       "      <th></th>\n",
       "      <th>avg</th>\n",
       "    </tr>\n",
       "  </thead>\n",
       "  <tbody>\n",
       "    <tr>\n",
       "      <td>0</td>\n",
       "      <td>24.333333</td>\n",
       "    </tr>\n",
       "  </tbody>\n",
       "</table>\n",
       "</div>"
      ],
      "text/plain": [
       "         avg\n",
       "0  24.333333"
      ]
     },
     "execution_count": 6,
     "metadata": {},
     "output_type": "execute_result"
    }
   ],
   "source": [
    "query = \"\"\"\n",
    "WITH \n",
    "a AS (SELECT username, COUNT(rating_id)\n",
    "FROM ratings\n",
    "GROUP BY username\n",
    "HAVING COUNT(rating_id)>50),\n",
    "b as (SELECT username, COUNT(review_id) as cnt\n",
    "FROM reviews\n",
    "WHERE username in (SELECT username FROM a)\n",
    "GROUP BY username)\n",
    "SELECT AVG(cnt)\n",
    "FROM b\n",
    "\"\"\"\n",
    "\n",
    "pd.io.sql.read_sql(query, con = engine) "
   ]
  }
 ],
 "metadata": {
  "kernelspec": {
   "display_name": "Python 3 (ipykernel)",
   "language": "python",
   "name": "python3"
  },
  "language_info": {
   "codemirror_mode": {
    "name": "ipython",
    "version": 3
   },
   "file_extension": ".py",
   "mimetype": "text/x-python",
   "name": "python",
   "nbconvert_exporter": "python",
   "pygments_lexer": "ipython3",
   "version": "3.7.8"
  },
  "toc": {
   "base_numbering": 1,
   "nav_menu": {},
   "number_sections": true,
   "sideBar": true,
   "skip_h1_title": false,
   "title_cell": "Table of Contents",
   "title_sidebar": "Contents",
   "toc_cell": false,
   "toc_position": {},
   "toc_section_display": true,
   "toc_window_display": false
  }
 },
 "nbformat": 4,
 "nbformat_minor": 5
}
