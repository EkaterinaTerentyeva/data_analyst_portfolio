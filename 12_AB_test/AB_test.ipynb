{
 "cells": [
  {
   "cell_type": "markdown",
   "metadata": {},
   "source": [
    "**HYPOTHESIS PRIORITIZATION AND AB TEST RESULTS ANALYSIS TO INCREASE INTERNET STORE REVENUE**"
   ]
  },
  {
   "cell_type": "markdown",
   "metadata": {},
   "source": [
    "**Data sources**\n",
    "  - csv with the name of the hypotheses, assessment of coverage, impact, confidence in the result and costs on a 10-point scale - /datasets/hypothesis.csv\n",
    "  - csv with data on orders in the online store, broken down by tested groups - /datasets/orders.csv\n",
    "  - csv with data on the number of visits to the online store - /datasets/visitors.csv\n",
    " \n",
    "**Target**\n",
    " \n",
    "  - prioritization of hypotheses\n",
    "  - analysis of A/B test results"
   ]
  },
  {
   "cell_type": "markdown",
   "metadata": {},
   "source": [
    "## Prioritization of hypotheses"
   ]
  },
  {
   "cell_type": "code",
   "execution_count": 1,
   "metadata": {},
   "outputs": [],
   "source": [
    "import pandas as pd\n",
    "pd.set_option('display.max_colwidth', 100)\n",
    "import numpy as np\n",
    "import matplotlib.pyplot as plt\n",
    "import scipy.stats as stats\n",
    "import os"
   ]
  },
  {
   "cell_type": "code",
   "execution_count": 2,
   "metadata": {},
   "outputs": [
    {
     "name": "stdout",
     "output_type": "stream",
     "text": [
      "path \"hypothesis.csv\" is right\n"
     ]
    }
   ],
   "source": [
    "path1 = os.path.join('/datasets', 'hypothesis.csv')\n",
    "path2 = os.path.join('hypothesis.csv')\n",
    "if os.path.exists(path1):\n",
    "    priority = pd.read_csv(path1)\n",
    "    print(f'path \"{path1}\" is right')\n",
    "elif os.path.exists(path2):\n",
    "    priority = pd.read_csv(path2)\n",
    "    print(f'path \"{path2}\" is right')\n",
    "else:\n",
    "    print('File is not found')"
   ]
  },
  {
   "cell_type": "code",
   "execution_count": 3,
   "metadata": {
    "scrolled": false
   },
   "outputs": [
    {
     "data": {
      "text/html": [
       "<div>\n",
       "<style scoped>\n",
       "    .dataframe tbody tr th:only-of-type {\n",
       "        vertical-align: middle;\n",
       "    }\n",
       "\n",
       "    .dataframe tbody tr th {\n",
       "        vertical-align: top;\n",
       "    }\n",
       "\n",
       "    .dataframe thead th {\n",
       "        text-align: right;\n",
       "    }\n",
       "</style>\n",
       "<table border=\"1\" class=\"dataframe\">\n",
       "  <thead>\n",
       "    <tr style=\"text-align: right;\">\n",
       "      <th></th>\n",
       "      <th>Hypothesis</th>\n",
       "      <th>Reach</th>\n",
       "      <th>Impact</th>\n",
       "      <th>Confidence</th>\n",
       "      <th>Efforts</th>\n",
       "    </tr>\n",
       "  </thead>\n",
       "  <tbody>\n",
       "    <tr>\n",
       "      <td>0</td>\n",
       "      <td>Добавить два новых канала привлечения трафика, что позволит привлекать на 30% больше пользователей</td>\n",
       "      <td>3</td>\n",
       "      <td>10</td>\n",
       "      <td>8</td>\n",
       "      <td>6</td>\n",
       "    </tr>\n",
       "    <tr>\n",
       "      <td>1</td>\n",
       "      <td>Запустить собственную службу доставки, что сократит срок доставки заказов</td>\n",
       "      <td>2</td>\n",
       "      <td>5</td>\n",
       "      <td>4</td>\n",
       "      <td>10</td>\n",
       "    </tr>\n",
       "    <tr>\n",
       "      <td>2</td>\n",
       "      <td>Добавить блоки рекомендаций товаров на сайт интернет магазина, чтобы повысить конверсию и средни...</td>\n",
       "      <td>8</td>\n",
       "      <td>3</td>\n",
       "      <td>7</td>\n",
       "      <td>3</td>\n",
       "    </tr>\n",
       "    <tr>\n",
       "      <td>3</td>\n",
       "      <td>Изменить структура категорий, что увеличит конверсию, т.к. пользователи быстрее найдут нужный товар</td>\n",
       "      <td>8</td>\n",
       "      <td>3</td>\n",
       "      <td>3</td>\n",
       "      <td>8</td>\n",
       "    </tr>\n",
       "    <tr>\n",
       "      <td>4</td>\n",
       "      <td>Изменить цвет фона главной страницы, чтобы увеличить вовлеченность пользователей</td>\n",
       "      <td>3</td>\n",
       "      <td>1</td>\n",
       "      <td>1</td>\n",
       "      <td>1</td>\n",
       "    </tr>\n",
       "    <tr>\n",
       "      <td>5</td>\n",
       "      <td>Добавить страницу отзывов клиентов о магазине, что позволит увеличить количество заказов</td>\n",
       "      <td>3</td>\n",
       "      <td>2</td>\n",
       "      <td>2</td>\n",
       "      <td>3</td>\n",
       "    </tr>\n",
       "    <tr>\n",
       "      <td>6</td>\n",
       "      <td>Показать на главной странице баннеры с актуальными акциями и распродажами, чтобы увеличить конве...</td>\n",
       "      <td>5</td>\n",
       "      <td>3</td>\n",
       "      <td>8</td>\n",
       "      <td>3</td>\n",
       "    </tr>\n",
       "    <tr>\n",
       "      <td>7</td>\n",
       "      <td>Добавить форму подписки на все основные страницы, чтобы собрать базу клиентов для email-рассылок</td>\n",
       "      <td>10</td>\n",
       "      <td>7</td>\n",
       "      <td>8</td>\n",
       "      <td>5</td>\n",
       "    </tr>\n",
       "    <tr>\n",
       "      <td>8</td>\n",
       "      <td>Запустить акцию, дающую скидку на товар в день рождения</td>\n",
       "      <td>1</td>\n",
       "      <td>9</td>\n",
       "      <td>9</td>\n",
       "      <td>5</td>\n",
       "    </tr>\n",
       "  </tbody>\n",
       "</table>\n",
       "</div>"
      ],
      "text/plain": [
       "                                                                                            Hypothesis  \\\n",
       "0   Добавить два новых канала привлечения трафика, что позволит привлекать на 30% больше пользователей   \n",
       "1                            Запустить собственную службу доставки, что сократит срок доставки заказов   \n",
       "2  Добавить блоки рекомендаций товаров на сайт интернет магазина, чтобы повысить конверсию и средни...   \n",
       "3  Изменить структура категорий, что увеличит конверсию, т.к. пользователи быстрее найдут нужный товар   \n",
       "4                     Изменить цвет фона главной страницы, чтобы увеличить вовлеченность пользователей   \n",
       "5             Добавить страницу отзывов клиентов о магазине, что позволит увеличить количество заказов   \n",
       "6  Показать на главной странице баннеры с актуальными акциями и распродажами, чтобы увеличить конве...   \n",
       "7     Добавить форму подписки на все основные страницы, чтобы собрать базу клиентов для email-рассылок   \n",
       "8                                              Запустить акцию, дающую скидку на товар в день рождения   \n",
       "\n",
       "   Reach  Impact  Confidence  Efforts  \n",
       "0      3      10           8        6  \n",
       "1      2       5           4       10  \n",
       "2      8       3           7        3  \n",
       "3      8       3           3        8  \n",
       "4      3       1           1        1  \n",
       "5      3       2           2        3  \n",
       "6      5       3           8        3  \n",
       "7     10       7           8        5  \n",
       "8      1       9           9        5  "
      ]
     },
     "execution_count": 3,
     "metadata": {},
     "output_type": "execute_result"
    }
   ],
   "source": [
    "priority"
   ]
  },
  {
   "cell_type": "markdown",
   "metadata": {},
   "source": [
    "**Conclusion**\n",
    "\n",
    "We have 9 hypotheses related to the modification of the site interface, the development of own delivery service, attracting traffic through new channels and holding promotions"
   ]
  },
  {
   "cell_type": "markdown",
   "metadata": {},
   "source": [
    "### ICE framework"
   ]
  },
  {
   "cell_type": "code",
   "execution_count": 4,
   "metadata": {},
   "outputs": [],
   "source": [
    "priority['ICE'] = priority['Impact']*priority['Confidence']/priority['Efforts']"
   ]
  },
  {
   "cell_type": "markdown",
   "metadata": {},
   "source": [
    "### RICE framework"
   ]
  },
  {
   "cell_type": "code",
   "execution_count": 5,
   "metadata": {},
   "outputs": [],
   "source": [
    "priority['RICE'] = priority['Reach']*priority['Impact']*priority['Confidence']/priority['Efforts']"
   ]
  },
  {
   "cell_type": "code",
   "execution_count": 6,
   "metadata": {
    "scrolled": true
   },
   "outputs": [
    {
     "data": {
      "text/html": [
       "<div>\n",
       "<style scoped>\n",
       "    .dataframe tbody tr th:only-of-type {\n",
       "        vertical-align: middle;\n",
       "    }\n",
       "\n",
       "    .dataframe tbody tr th {\n",
       "        vertical-align: top;\n",
       "    }\n",
       "\n",
       "    .dataframe thead th {\n",
       "        text-align: right;\n",
       "    }\n",
       "</style>\n",
       "<table border=\"1\" class=\"dataframe\">\n",
       "  <thead>\n",
       "    <tr style=\"text-align: right;\">\n",
       "      <th></th>\n",
       "      <th>Hypothesis</th>\n",
       "      <th>Reach</th>\n",
       "      <th>Impact</th>\n",
       "      <th>Confidence</th>\n",
       "      <th>Efforts</th>\n",
       "      <th>ICE</th>\n",
       "      <th>RICE</th>\n",
       "    </tr>\n",
       "  </thead>\n",
       "  <tbody>\n",
       "    <tr>\n",
       "      <td>0</td>\n",
       "      <td>Добавить два новых канала привлечения трафика, что позволит привлекать на 30% больше пользователей</td>\n",
       "      <td>3</td>\n",
       "      <td>10</td>\n",
       "      <td>8</td>\n",
       "      <td>6</td>\n",
       "      <td>13.333333</td>\n",
       "      <td>40.0</td>\n",
       "    </tr>\n",
       "    <tr>\n",
       "      <td>1</td>\n",
       "      <td>Запустить собственную службу доставки, что сократит срок доставки заказов</td>\n",
       "      <td>2</td>\n",
       "      <td>5</td>\n",
       "      <td>4</td>\n",
       "      <td>10</td>\n",
       "      <td>2.000000</td>\n",
       "      <td>4.0</td>\n",
       "    </tr>\n",
       "    <tr>\n",
       "      <td>2</td>\n",
       "      <td>Добавить блоки рекомендаций товаров на сайт интернет магазина, чтобы повысить конверсию и средни...</td>\n",
       "      <td>8</td>\n",
       "      <td>3</td>\n",
       "      <td>7</td>\n",
       "      <td>3</td>\n",
       "      <td>7.000000</td>\n",
       "      <td>56.0</td>\n",
       "    </tr>\n",
       "    <tr>\n",
       "      <td>3</td>\n",
       "      <td>Изменить структура категорий, что увеличит конверсию, т.к. пользователи быстрее найдут нужный товар</td>\n",
       "      <td>8</td>\n",
       "      <td>3</td>\n",
       "      <td>3</td>\n",
       "      <td>8</td>\n",
       "      <td>1.125000</td>\n",
       "      <td>9.0</td>\n",
       "    </tr>\n",
       "    <tr>\n",
       "      <td>4</td>\n",
       "      <td>Изменить цвет фона главной страницы, чтобы увеличить вовлеченность пользователей</td>\n",
       "      <td>3</td>\n",
       "      <td>1</td>\n",
       "      <td>1</td>\n",
       "      <td>1</td>\n",
       "      <td>1.000000</td>\n",
       "      <td>3.0</td>\n",
       "    </tr>\n",
       "    <tr>\n",
       "      <td>5</td>\n",
       "      <td>Добавить страницу отзывов клиентов о магазине, что позволит увеличить количество заказов</td>\n",
       "      <td>3</td>\n",
       "      <td>2</td>\n",
       "      <td>2</td>\n",
       "      <td>3</td>\n",
       "      <td>1.333333</td>\n",
       "      <td>4.0</td>\n",
       "    </tr>\n",
       "    <tr>\n",
       "      <td>6</td>\n",
       "      <td>Показать на главной странице баннеры с актуальными акциями и распродажами, чтобы увеличить конве...</td>\n",
       "      <td>5</td>\n",
       "      <td>3</td>\n",
       "      <td>8</td>\n",
       "      <td>3</td>\n",
       "      <td>8.000000</td>\n",
       "      <td>40.0</td>\n",
       "    </tr>\n",
       "    <tr>\n",
       "      <td>7</td>\n",
       "      <td>Добавить форму подписки на все основные страницы, чтобы собрать базу клиентов для email-рассылок</td>\n",
       "      <td>10</td>\n",
       "      <td>7</td>\n",
       "      <td>8</td>\n",
       "      <td>5</td>\n",
       "      <td>11.200000</td>\n",
       "      <td>112.0</td>\n",
       "    </tr>\n",
       "    <tr>\n",
       "      <td>8</td>\n",
       "      <td>Запустить акцию, дающую скидку на товар в день рождения</td>\n",
       "      <td>1</td>\n",
       "      <td>9</td>\n",
       "      <td>9</td>\n",
       "      <td>5</td>\n",
       "      <td>16.200000</td>\n",
       "      <td>16.2</td>\n",
       "    </tr>\n",
       "  </tbody>\n",
       "</table>\n",
       "</div>"
      ],
      "text/plain": [
       "                                                                                            Hypothesis  \\\n",
       "0   Добавить два новых канала привлечения трафика, что позволит привлекать на 30% больше пользователей   \n",
       "1                            Запустить собственную службу доставки, что сократит срок доставки заказов   \n",
       "2  Добавить блоки рекомендаций товаров на сайт интернет магазина, чтобы повысить конверсию и средни...   \n",
       "3  Изменить структура категорий, что увеличит конверсию, т.к. пользователи быстрее найдут нужный товар   \n",
       "4                     Изменить цвет фона главной страницы, чтобы увеличить вовлеченность пользователей   \n",
       "5             Добавить страницу отзывов клиентов о магазине, что позволит увеличить количество заказов   \n",
       "6  Показать на главной странице баннеры с актуальными акциями и распродажами, чтобы увеличить конве...   \n",
       "7     Добавить форму подписки на все основные страницы, чтобы собрать базу клиентов для email-рассылок   \n",
       "8                                              Запустить акцию, дающую скидку на товар в день рождения   \n",
       "\n",
       "   Reach  Impact  Confidence  Efforts        ICE   RICE  \n",
       "0      3      10           8        6  13.333333   40.0  \n",
       "1      2       5           4       10   2.000000    4.0  \n",
       "2      8       3           7        3   7.000000   56.0  \n",
       "3      8       3           3        8   1.125000    9.0  \n",
       "4      3       1           1        1   1.000000    3.0  \n",
       "5      3       2           2        3   1.333333    4.0  \n",
       "6      5       3           8        3   8.000000   40.0  \n",
       "7     10       7           8        5  11.200000  112.0  \n",
       "8      1       9           9        5  16.200000   16.2  "
      ]
     },
     "execution_count": 6,
     "metadata": {},
     "output_type": "execute_result"
    }
   ],
   "source": [
    "priority"
   ]
  },
  {
   "cell_type": "markdown",
   "metadata": {},
   "source": [
    "### Analysis of results"
   ]
  },
  {
   "cell_type": "code",
   "execution_count": 7,
   "metadata": {},
   "outputs": [],
   "source": [
    "ice = priority[['Hypothesis', 'ICE']].sort_values(by = 'ICE', ascending = False).reset_index()"
   ]
  },
  {
   "cell_type": "code",
   "execution_count": 8,
   "metadata": {},
   "outputs": [],
   "source": [
    "rice = priority[['Hypothesis', 'RICE']].sort_values(by = 'RICE', ascending = False).reset_index()"
   ]
  },
  {
   "cell_type": "code",
   "execution_count": 9,
   "metadata": {},
   "outputs": [
    {
     "data": {
      "text/html": [
       "<div>\n",
       "<style scoped>\n",
       "    .dataframe tbody tr th:only-of-type {\n",
       "        vertical-align: middle;\n",
       "    }\n",
       "\n",
       "    .dataframe tbody tr th {\n",
       "        vertical-align: top;\n",
       "    }\n",
       "\n",
       "    .dataframe thead th {\n",
       "        text-align: right;\n",
       "    }\n",
       "</style>\n",
       "<table border=\"1\" class=\"dataframe\">\n",
       "  <thead>\n",
       "    <tr style=\"text-align: right;\">\n",
       "      <th></th>\n",
       "      <th>Hypothesis_ICE</th>\n",
       "      <th>Hypothesis_RICE</th>\n",
       "    </tr>\n",
       "  </thead>\n",
       "  <tbody>\n",
       "    <tr>\n",
       "      <td>0</td>\n",
       "      <td>Запустить акцию, дающую скидку на товар в день рождения</td>\n",
       "      <td>Добавить форму подписки на все основные страницы, чтобы собрать базу клиентов для email-рассылок</td>\n",
       "    </tr>\n",
       "    <tr>\n",
       "      <td>1</td>\n",
       "      <td>Добавить два новых канала привлечения трафика, что позволит привлекать на 30% больше пользователей</td>\n",
       "      <td>Добавить блоки рекомендаций товаров на сайт интернет магазина, чтобы повысить конверсию и средни...</td>\n",
       "    </tr>\n",
       "    <tr>\n",
       "      <td>2</td>\n",
       "      <td>Добавить форму подписки на все основные страницы, чтобы собрать базу клиентов для email-рассылок</td>\n",
       "      <td>Добавить два новых канала привлечения трафика, что позволит привлекать на 30% больше пользователей</td>\n",
       "    </tr>\n",
       "    <tr>\n",
       "      <td>3</td>\n",
       "      <td>Показать на главной странице баннеры с актуальными акциями и распродажами, чтобы увеличить конве...</td>\n",
       "      <td>Показать на главной странице баннеры с актуальными акциями и распродажами, чтобы увеличить конве...</td>\n",
       "    </tr>\n",
       "    <tr>\n",
       "      <td>4</td>\n",
       "      <td>Добавить блоки рекомендаций товаров на сайт интернет магазина, чтобы повысить конверсию и средни...</td>\n",
       "      <td>Запустить акцию, дающую скидку на товар в день рождения</td>\n",
       "    </tr>\n",
       "    <tr>\n",
       "      <td>5</td>\n",
       "      <td>Запустить собственную службу доставки, что сократит срок доставки заказов</td>\n",
       "      <td>Изменить структура категорий, что увеличит конверсию, т.к. пользователи быстрее найдут нужный товар</td>\n",
       "    </tr>\n",
       "    <tr>\n",
       "      <td>6</td>\n",
       "      <td>Добавить страницу отзывов клиентов о магазине, что позволит увеличить количество заказов</td>\n",
       "      <td>Запустить собственную службу доставки, что сократит срок доставки заказов</td>\n",
       "    </tr>\n",
       "    <tr>\n",
       "      <td>7</td>\n",
       "      <td>Изменить структура категорий, что увеличит конверсию, т.к. пользователи быстрее найдут нужный товар</td>\n",
       "      <td>Добавить страницу отзывов клиентов о магазине, что позволит увеличить количество заказов</td>\n",
       "    </tr>\n",
       "    <tr>\n",
       "      <td>8</td>\n",
       "      <td>Изменить цвет фона главной страницы, чтобы увеличить вовлеченность пользователей</td>\n",
       "      <td>Изменить цвет фона главной страницы, чтобы увеличить вовлеченность пользователей</td>\n",
       "    </tr>\n",
       "  </tbody>\n",
       "</table>\n",
       "</div>"
      ],
      "text/plain": [
       "                                                                                        Hypothesis_ICE  \\\n",
       "0                                              Запустить акцию, дающую скидку на товар в день рождения   \n",
       "1   Добавить два новых канала привлечения трафика, что позволит привлекать на 30% больше пользователей   \n",
       "2     Добавить форму подписки на все основные страницы, чтобы собрать базу клиентов для email-рассылок   \n",
       "3  Показать на главной странице баннеры с актуальными акциями и распродажами, чтобы увеличить конве...   \n",
       "4  Добавить блоки рекомендаций товаров на сайт интернет магазина, чтобы повысить конверсию и средни...   \n",
       "5                            Запустить собственную службу доставки, что сократит срок доставки заказов   \n",
       "6             Добавить страницу отзывов клиентов о магазине, что позволит увеличить количество заказов   \n",
       "7  Изменить структура категорий, что увеличит конверсию, т.к. пользователи быстрее найдут нужный товар   \n",
       "8                     Изменить цвет фона главной страницы, чтобы увеличить вовлеченность пользователей   \n",
       "\n",
       "                                                                                       Hypothesis_RICE  \n",
       "0     Добавить форму подписки на все основные страницы, чтобы собрать базу клиентов для email-рассылок  \n",
       "1  Добавить блоки рекомендаций товаров на сайт интернет магазина, чтобы повысить конверсию и средни...  \n",
       "2   Добавить два новых канала привлечения трафика, что позволит привлекать на 30% больше пользователей  \n",
       "3  Показать на главной странице баннеры с актуальными акциями и распродажами, чтобы увеличить конве...  \n",
       "4                                              Запустить акцию, дающую скидку на товар в день рождения  \n",
       "5  Изменить структура категорий, что увеличит конверсию, т.к. пользователи быстрее найдут нужный товар  \n",
       "6                            Запустить собственную службу доставки, что сократит срок доставки заказов  \n",
       "7             Добавить страницу отзывов клиентов о магазине, что позволит увеличить количество заказов  \n",
       "8                     Изменить цвет фона главной страницы, чтобы увеличить вовлеченность пользователей  "
      ]
     },
     "execution_count": 9,
     "metadata": {},
     "output_type": "execute_result"
    }
   ],
   "source": [
    "ice.merge(rice, left_index=True, right_index=True, suffixes=('_ICE', '_RICE'))[['Hypothesis_ICE', 'Hypothesis_RICE']]"
   ]
  },
  {
   "cell_type": "code",
   "execution_count": 10,
   "metadata": {
    "scrolled": true
   },
   "outputs": [
    {
     "data": {
      "image/png": "[encoded data removed]",
      "text/plain": [
       "<Figure size 720x720 with 1 Axes>"
      ]
     },
     "metadata": {
      "needs_background": "light"
     },
     "output_type": "display_data"
    }
   ],
   "source": [
    "y = priority['ICE'] \n",
    "z = priority['RICE'] \n",
    "n = priority.index \n",
    "\n",
    "fig, ax = plt.subplots()\n",
    "ax.scatter(z, y)\n",
    "\n",
    "for i, txt in enumerate(n):\n",
    "    ax.annotate(txt, (z[i], y[i]), size=30)\n",
    "\n",
    "plt.title(\"ICE and RICE гипотезы\") \n",
    "plt.xlabel(\"RICE\") \n",
    "plt.ylabel(\"ICE\")\n",
    "\n",
    "fig.set_figheight(10)\n",
    "fig.set_figwidth(10) \n",
    "plt.show()    "
   ]
  },
  {
   "cell_type": "markdown",
   "metadata": {},
   "source": [
    "**Conclusion**\n",
    "\n",
    "ICE and RICE give different results on hypothesis priority. Despite this, the top 3 hypotheses for both RICE and ICE include the hypothesis of attracting traffic through 2 new channels (3rd and 2nd places, respectively)\n",
    "The difference is explained by the fact that RICE includes user coverage and prioritizes hypotheses, including taking into account their impact on a larger number of users.\n",
    "Prioritization of hypotheses according to the RICE framework is the most complex and preferred"
   ]
  },
  {
   "cell_type": "markdown",
   "metadata": {},
   "source": [
    "## A/B test analysis"
   ]
  },
  {
   "cell_type": "markdown",
   "metadata": {},
   "source": [
    "### Data preprocessing"
   ]
  },
  {
   "cell_type": "code",
   "execution_count": 11,
   "metadata": {},
   "outputs": [
    {
     "name": "stdout",
     "output_type": "stream",
     "text": [
      "path \"orders.csv\" is right\n"
     ]
    }
   ],
   "source": [
    "path1 = os.path.join('/','datasets', 'orders.csv')\n",
    "path2 = os.path.join('orders.csv')\n",
    "if os.path.exists(path1):\n",
    "    orders = pd.read_csv(path1)\n",
    "    print(f'path \"{path1}\" is right')\n",
    "elif os.path.exists(path2):\n",
    "    orders = pd.read_csv(path2)\n",
    "    print(f'path \"{path2}\" is right')\n",
    "else:\n",
    "    print('File is not found')"
   ]
  },
  {
   "cell_type": "code",
   "execution_count": 12,
   "metadata": {},
   "outputs": [
    {
     "name": "stdout",
     "output_type": "stream",
     "text": [
      "path \"visitors.csv\" is right\n"
     ]
    }
   ],
   "source": [
    "path1 = os.path.join('/','datasets', 'visitors.csv')\n",
    "path2 = os.path.join('visitors.csv')\n",
    "if os.path.exists(path1):\n",
    "    visitors = pd.read_csv(path1)\n",
    "    print(f'path \"{path1}\" is right')\n",
    "elif os.path.exists(path2):\n",
    "    visitors = pd.read_csv(path2)\n",
    "    print(f'path \"{path2}\" is right')\n",
    "else:\n",
    "    print('File is not found')"
   ]
  },
  {
   "cell_type": "code",
   "execution_count": 13,
   "metadata": {},
   "outputs": [],
   "source": [
    "def observe_data(table):\n",
    "    '''Giving common understanding of data in dataframe'''\n",
    "    print ('Sample')\n",
    "    display(table.sample())\n",
    "    print('_'*100)\n",
    "    print(f'Rows number: {table.shape[0]} \\Columns number: {table.shape[1]}')\n",
    "    print('_'*100)\n",
    "    names_columns = table.columns\n",
    "    print(f'Columns names: {names_columns}')\n",
    "    print('_'*100)\n",
    "    lost_values = table.isna().sum()\n",
    "    missed_values = lost_values.to_frame(name='missed_values')\n",
    "    missed_values['percent'] = round(table.isna().mean()*100, 0)\n",
    "    print ('Missing values:')\n",
    "    display(missed_values)\n",
    "    print('_'*100)\n",
    "    print('Data types:')\n",
    "    print(table.dtypes)\n",
    "    print('_'*100)\n",
    "    print(f'Number of duplicates: {table.duplicated().sum()}', \n",
    "          f'percent of duplicates {round(table.duplicated().mean()*100, 0)} %')"
   ]
  },
  {
   "cell_type": "code",
   "execution_count": 14,
   "metadata": {
    "scrolled": true
   },
   "outputs": [
    {
     "name": "stdout",
     "output_type": "stream",
     "text": [
      "Sample\n"
     ]
    },
    {
     "data": {
      "text/html": [
       "<div>\n",
       "<style scoped>\n",
       "    .dataframe tbody tr th:only-of-type {\n",
       "        vertical-align: middle;\n",
       "    }\n",
       "\n",
       "    .dataframe tbody tr th {\n",
       "        vertical-align: top;\n",
       "    }\n",
       "\n",
       "    .dataframe thead th {\n",
       "        text-align: right;\n",
       "    }\n",
       "</style>\n",
       "<table border=\"1\" class=\"dataframe\">\n",
       "  <thead>\n",
       "    <tr style=\"text-align: right;\">\n",
       "      <th></th>\n",
       "      <th>transactionId</th>\n",
       "      <th>visitorId</th>\n",
       "      <th>date</th>\n",
       "      <th>revenue</th>\n",
       "      <th>group</th>\n",
       "    </tr>\n",
       "  </thead>\n",
       "  <tbody>\n",
       "    <tr>\n",
       "      <td>1161</td>\n",
       "      <td>2961555325</td>\n",
       "      <td>325179089</td>\n",
       "      <td>2019-08-14</td>\n",
       "      <td>1100</td>\n",
       "      <td>B</td>\n",
       "    </tr>\n",
       "  </tbody>\n",
       "</table>\n",
       "</div>"
      ],
      "text/plain": [
       "      transactionId  visitorId        date  revenue group\n",
       "1161     2961555325  325179089  2019-08-14     1100     B"
      ]
     },
     "metadata": {},
     "output_type": "display_data"
    },
    {
     "name": "stdout",
     "output_type": "stream",
     "text": [
      "____________________________________________________________________________________________________\n",
      "Rows number: 1197 \\Columns number: 5\n",
      "____________________________________________________________________________________________________\n",
      "Columns names: Index(['transactionId', 'visitorId', 'date', 'revenue', 'group'], dtype='object')\n",
      "____________________________________________________________________________________________________\n",
      "Missing values:\n"
     ]
    },
    {
     "data": {
      "text/html": [
       "<div>\n",
       "<style scoped>\n",
       "    .dataframe tbody tr th:only-of-type {\n",
       "        vertical-align: middle;\n",
       "    }\n",
       "\n",
       "    .dataframe tbody tr th {\n",
       "        vertical-align: top;\n",
       "    }\n",
       "\n",
       "    .dataframe thead th {\n",
       "        text-align: right;\n",
       "    }\n",
       "</style>\n",
       "<table border=\"1\" class=\"dataframe\">\n",
       "  <thead>\n",
       "    <tr style=\"text-align: right;\">\n",
       "      <th></th>\n",
       "      <th>missed_values</th>\n",
       "      <th>percent</th>\n",
       "    </tr>\n",
       "  </thead>\n",
       "  <tbody>\n",
       "    <tr>\n",
       "      <td>transactionId</td>\n",
       "      <td>0</td>\n",
       "      <td>0.0</td>\n",
       "    </tr>\n",
       "    <tr>\n",
       "      <td>visitorId</td>\n",
       "      <td>0</td>\n",
       "      <td>0.0</td>\n",
       "    </tr>\n",
       "    <tr>\n",
       "      <td>date</td>\n",
       "      <td>0</td>\n",
       "      <td>0.0</td>\n",
       "    </tr>\n",
       "    <tr>\n",
       "      <td>revenue</td>\n",
       "      <td>0</td>\n",
       "      <td>0.0</td>\n",
       "    </tr>\n",
       "    <tr>\n",
       "      <td>group</td>\n",
       "      <td>0</td>\n",
       "      <td>0.0</td>\n",
       "    </tr>\n",
       "  </tbody>\n",
       "</table>\n",
       "</div>"
      ],
      "text/plain": [
       "               missed_values  percent\n",
       "transactionId              0      0.0\n",
       "visitorId                  0      0.0\n",
       "date                       0      0.0\n",
       "revenue                    0      0.0\n",
       "group                      0      0.0"
      ]
     },
     "metadata": {},
     "output_type": "display_data"
    },
    {
     "name": "stdout",
     "output_type": "stream",
     "text": [
      "____________________________________________________________________________________________________\n",
      "Data types:\n",
      "transactionId     int64\n",
      "visitorId         int64\n",
      "date             object\n",
      "revenue           int64\n",
      "group            object\n",
      "dtype: object\n",
      "____________________________________________________________________________________________________\n",
      "Number of duplicates: 0 percent of duplicates 0.0 %\n"
     ]
    }
   ],
   "source": [
    "observe_data(orders)"
   ]
  },
  {
   "cell_type": "code",
   "execution_count": 15,
   "metadata": {
    "scrolled": true
   },
   "outputs": [
    {
     "name": "stdout",
     "output_type": "stream",
     "text": [
      "Sample\n"
     ]
    },
    {
     "data": {
      "text/html": [
       "<div>\n",
       "<style scoped>\n",
       "    .dataframe tbody tr th:only-of-type {\n",
       "        vertical-align: middle;\n",
       "    }\n",
       "\n",
       "    .dataframe tbody tr th {\n",
       "        vertical-align: top;\n",
       "    }\n",
       "\n",
       "    .dataframe thead th {\n",
       "        text-align: right;\n",
       "    }\n",
       "</style>\n",
       "<table border=\"1\" class=\"dataframe\">\n",
       "  <thead>\n",
       "    <tr style=\"text-align: right;\">\n",
       "      <th></th>\n",
       "      <th>date</th>\n",
       "      <th>group</th>\n",
       "      <th>visitors</th>\n",
       "    </tr>\n",
       "  </thead>\n",
       "  <tbody>\n",
       "    <tr>\n",
       "      <td>23</td>\n",
       "      <td>2019-08-24</td>\n",
       "      <td>A</td>\n",
       "      <td>395</td>\n",
       "    </tr>\n",
       "  </tbody>\n",
       "</table>\n",
       "</div>"
      ],
      "text/plain": [
       "          date group  visitors\n",
       "23  2019-08-24     A       395"
      ]
     },
     "metadata": {},
     "output_type": "display_data"
    },
    {
     "name": "stdout",
     "output_type": "stream",
     "text": [
      "____________________________________________________________________________________________________\n",
      "Rows number: 62 \\Columns number: 3\n",
      "____________________________________________________________________________________________________\n",
      "Columns names: Index(['date', 'group', 'visitors'], dtype='object')\n",
      "____________________________________________________________________________________________________\n",
      "Missing values:\n"
     ]
    },
    {
     "data": {
      "text/html": [
       "<div>\n",
       "<style scoped>\n",
       "    .dataframe tbody tr th:only-of-type {\n",
       "        vertical-align: middle;\n",
       "    }\n",
       "\n",
       "    .dataframe tbody tr th {\n",
       "        vertical-align: top;\n",
       "    }\n",
       "\n",
       "    .dataframe thead th {\n",
       "        text-align: right;\n",
       "    }\n",
       "</style>\n",
       "<table border=\"1\" class=\"dataframe\">\n",
       "  <thead>\n",
       "    <tr style=\"text-align: right;\">\n",
       "      <th></th>\n",
       "      <th>missed_values</th>\n",
       "      <th>percent</th>\n",
       "    </tr>\n",
       "  </thead>\n",
       "  <tbody>\n",
       "    <tr>\n",
       "      <td>date</td>\n",
       "      <td>0</td>\n",
       "      <td>0.0</td>\n",
       "    </tr>\n",
       "    <tr>\n",
       "      <td>group</td>\n",
       "      <td>0</td>\n",
       "      <td>0.0</td>\n",
       "    </tr>\n",
       "    <tr>\n",
       "      <td>visitors</td>\n",
       "      <td>0</td>\n",
       "      <td>0.0</td>\n",
       "    </tr>\n",
       "  </tbody>\n",
       "</table>\n",
       "</div>"
      ],
      "text/plain": [
       "          missed_values  percent\n",
       "date                  0      0.0\n",
       "group                 0      0.0\n",
       "visitors              0      0.0"
      ]
     },
     "metadata": {},
     "output_type": "display_data"
    },
    {
     "name": "stdout",
     "output_type": "stream",
     "text": [
      "____________________________________________________________________________________________________\n",
      "Data types:\n",
      "date        object\n",
      "group       object\n",
      "visitors     int64\n",
      "dtype: object\n",
      "____________________________________________________________________________________________________\n",
      "Number of duplicates: 0 percent of duplicates 0.0 %\n"
     ]
    }
   ],
   "source": [
    "observe_data(visitors)"
   ]
  },
  {
   "cell_type": "markdown",
   "metadata": {},
   "source": [
    "**Correcting data type for date columns**"
   ]
  },
  {
   "cell_type": "code",
   "execution_count": 16,
   "metadata": {},
   "outputs": [],
   "source": [
    "orders.date = pd.to_datetime(orders.date, format = \"%Y-%m-%d\")"
   ]
  },
  {
   "cell_type": "code",
   "execution_count": 17,
   "metadata": {},
   "outputs": [],
   "source": [
    "visitors.date = pd.to_datetime(visitors.date, format = \"%Y-%m-%d\")"
   ]
  },
  {
   "cell_type": "markdown",
   "metadata": {},
   "source": [
    "**Let's see if all customers who placed orders belong to the same group**"
   ]
  },
  {
   "cell_type": "code",
   "execution_count": 18,
   "metadata": {
    "scrolled": true
   },
   "outputs": [
    {
     "data": {
      "text/plain": [
       "58"
      ]
     },
     "execution_count": 18,
     "metadata": {},
     "output_type": "execute_result"
    }
   ],
   "source": [
    "len(orders.groupby('visitorId', as_index = False)['group'].nunique().reset_index().query('group == 2'))"
   ]
  },
  {
   "cell_type": "markdown",
   "metadata": {},
   "source": [
    "To obtain correct AB test results, a visitor who falls into one of the groups remains in this group until the end of the test. We have 58 clients belonging to two groups at once"
   ]
  },
  {
   "cell_type": "code",
   "execution_count": 19,
   "metadata": {},
   "outputs": [],
   "source": [
    "visitors_to_delete = orders.groupby('visitorId')['group'].nunique().reset_index().query('group == 2')['visitorId']"
   ]
  },
  {
   "cell_type": "code",
   "execution_count": 20,
   "metadata": {},
   "outputs": [],
   "source": [
    "orders = orders.query('visitorId not in @visitors_to_delete')"
   ]
  },
  {
   "cell_type": "code",
   "execution_count": 21,
   "metadata": {},
   "outputs": [
    {
     "data": {
      "text/html": [
       "<div>\n",
       "<style scoped>\n",
       "    .dataframe tbody tr th:only-of-type {\n",
       "        vertical-align: middle;\n",
       "    }\n",
       "\n",
       "    .dataframe tbody tr th {\n",
       "        vertical-align: top;\n",
       "    }\n",
       "\n",
       "    .dataframe thead th {\n",
       "        text-align: right;\n",
       "    }\n",
       "</style>\n",
       "<table border=\"1\" class=\"dataframe\">\n",
       "  <thead>\n",
       "    <tr style=\"text-align: right;\">\n",
       "      <th></th>\n",
       "      <th>transactionId</th>\n",
       "      <th>visitorId</th>\n",
       "      <th>date</th>\n",
       "      <th>revenue</th>\n",
       "      <th>group</th>\n",
       "    </tr>\n",
       "  </thead>\n",
       "  <tbody>\n",
       "    <tr>\n",
       "      <td>0</td>\n",
       "      <td>3667963787</td>\n",
       "      <td>3312258926</td>\n",
       "      <td>2019-08-15</td>\n",
       "      <td>1650</td>\n",
       "      <td>B</td>\n",
       "    </tr>\n",
       "    <tr>\n",
       "      <td>1</td>\n",
       "      <td>2804400009</td>\n",
       "      <td>3642806036</td>\n",
       "      <td>2019-08-15</td>\n",
       "      <td>730</td>\n",
       "      <td>B</td>\n",
       "    </tr>\n",
       "    <tr>\n",
       "      <td>3</td>\n",
       "      <td>3797467345</td>\n",
       "      <td>1196621759</td>\n",
       "      <td>2019-08-15</td>\n",
       "      <td>9759</td>\n",
       "      <td>B</td>\n",
       "    </tr>\n",
       "    <tr>\n",
       "      <td>4</td>\n",
       "      <td>2282983706</td>\n",
       "      <td>2322279887</td>\n",
       "      <td>2019-08-15</td>\n",
       "      <td>2308</td>\n",
       "      <td>B</td>\n",
       "    </tr>\n",
       "    <tr>\n",
       "      <td>5</td>\n",
       "      <td>182168103</td>\n",
       "      <td>935554773</td>\n",
       "      <td>2019-08-15</td>\n",
       "      <td>2210</td>\n",
       "      <td>B</td>\n",
       "    </tr>\n",
       "    <tr>\n",
       "      <td>...</td>\n",
       "      <td>...</td>\n",
       "      <td>...</td>\n",
       "      <td>...</td>\n",
       "      <td>...</td>\n",
       "      <td>...</td>\n",
       "    </tr>\n",
       "    <tr>\n",
       "      <td>1191</td>\n",
       "      <td>3592955527</td>\n",
       "      <td>608641596</td>\n",
       "      <td>2019-08-14</td>\n",
       "      <td>16490</td>\n",
       "      <td>B</td>\n",
       "    </tr>\n",
       "    <tr>\n",
       "      <td>1192</td>\n",
       "      <td>2662137336</td>\n",
       "      <td>3733762160</td>\n",
       "      <td>2019-08-14</td>\n",
       "      <td>6490</td>\n",
       "      <td>B</td>\n",
       "    </tr>\n",
       "    <tr>\n",
       "      <td>1193</td>\n",
       "      <td>2203539145</td>\n",
       "      <td>370388673</td>\n",
       "      <td>2019-08-14</td>\n",
       "      <td>3190</td>\n",
       "      <td>A</td>\n",
       "    </tr>\n",
       "    <tr>\n",
       "      <td>1194</td>\n",
       "      <td>1807773912</td>\n",
       "      <td>573423106</td>\n",
       "      <td>2019-08-14</td>\n",
       "      <td>10550</td>\n",
       "      <td>A</td>\n",
       "    </tr>\n",
       "    <tr>\n",
       "      <td>1196</td>\n",
       "      <td>3936777065</td>\n",
       "      <td>2108080724</td>\n",
       "      <td>2019-08-15</td>\n",
       "      <td>202740</td>\n",
       "      <td>B</td>\n",
       "    </tr>\n",
       "  </tbody>\n",
       "</table>\n",
       "<p>1016 rows × 5 columns</p>\n",
       "</div>"
      ],
      "text/plain": [
       "      transactionId   visitorId       date  revenue group\n",
       "0        3667963787  3312258926 2019-08-15     1650     B\n",
       "1        2804400009  3642806036 2019-08-15      730     B\n",
       "3        3797467345  1196621759 2019-08-15     9759     B\n",
       "4        2282983706  2322279887 2019-08-15     2308     B\n",
       "5         182168103   935554773 2019-08-15     2210     B\n",
       "...             ...         ...        ...      ...   ...\n",
       "1191     3592955527   608641596 2019-08-14    16490     B\n",
       "1192     2662137336  3733762160 2019-08-14     6490     B\n",
       "1193     2203539145   370388673 2019-08-14     3190     A\n",
       "1194     1807773912   573423106 2019-08-14    10550     A\n",
       "1196     3936777065  2108080724 2019-08-15   202740     B\n",
       "\n",
       "[1016 rows x 5 columns]"
      ]
     },
     "execution_count": 21,
     "metadata": {},
     "output_type": "execute_result"
    }
   ],
   "source": [
    "orders"
   ]
  },
  {
   "cell_type": "code",
   "execution_count": 22,
   "metadata": {},
   "outputs": [
    {
     "data": {
      "text/plain": [
       "2"
      ]
     },
     "execution_count": 22,
     "metadata": {},
     "output_type": "execute_result"
    }
   ],
   "source": [
    "orders.group.nunique()"
   ]
  },
  {
   "cell_type": "code",
   "execution_count": 23,
   "metadata": {},
   "outputs": [
    {
     "data": {
      "text/plain": [
       "2"
      ]
     },
     "execution_count": 23,
     "metadata": {},
     "output_type": "execute_result"
    }
   ],
   "source": [
    "visitors.group.nunique()"
   ]
  },
  {
   "cell_type": "code",
   "execution_count": 24,
   "metadata": {},
   "outputs": [
    {
     "data": {
      "text/plain": [
       "max   2019-08-31\n",
       "min   2019-08-01\n",
       "Name: date, dtype: datetime64[ns]"
      ]
     },
     "execution_count": 24,
     "metadata": {},
     "output_type": "execute_result"
    }
   ],
   "source": [
    "orders.date.agg(['max', 'min'])"
   ]
  },
  {
   "cell_type": "code",
   "execution_count": 25,
   "metadata": {},
   "outputs": [
    {
     "data": {
      "text/plain": [
       "max   2019-08-31\n",
       "min   2019-08-01\n",
       "Name: date, dtype: datetime64[ns]"
      ]
     },
     "execution_count": 25,
     "metadata": {},
     "output_type": "execute_result"
    }
   ],
   "source": [
    "visitors.date.agg(['max', 'min'])"
   ]
  },
  {
   "cell_type": "markdown",
   "metadata": {},
   "source": [
    "**Conclusion**\n",
    "\n",
    "- no duplicates or gaps found in the data\n",
    "- date columns converted to datetime type\n",
    "- 58 customers were found who made orders and belonged to two groups at once, which is 5.8% of all customers who made purchases - these records were removed from the orders table"
   ]
  },
  {
   "cell_type": "markdown",
   "metadata": {},
   "source": [
    "### Chart of cumulative revenue by groups"
   ]
  },
  {
   "cell_type": "code",
   "execution_count": 26,
   "metadata": {},
   "outputs": [],
   "source": [
    "groupA_revenues = orders.query('group == \"A\"').groupby('date', as_index = False).agg({'revenue':'sum', 'transactionId':'count'})\n",
    "groupB_revenues = orders.query('group == \"B\"').groupby('date', as_index = False).agg({'revenue':'sum', 'transactionId':'count'})\n",
    "groupA_revenues['cumsum_revenue'] = np.cumsum(groupA_revenues['revenue'])\n",
    "groupB_revenues['cumsum_revenue'] = np.cumsum(groupB_revenues['revenue'])"
   ]
  },
  {
   "cell_type": "code",
   "execution_count": 27,
   "metadata": {
    "scrolled": true
   },
   "outputs": [
    {
     "name": "stderr",
     "output_type": "stream",
     "text": [
      "C:\\Users\\Utilisateur\\anaconda3\\envs\\praktikum_env_win_new1\\lib\\site-packages\\pandas\\plotting\\_matplotlib\\converter.py:103: FutureWarning: Using an implicitly registered datetime converter for a matplotlib plotting method. The converter was registered by pandas on import. Future versions of pandas will require you to explicitly register matplotlib converters.\n",
      "\n",
      "To register the converters:\n",
      "\t>>> from pandas.plotting import register_matplotlib_converters\n",
      "\t>>> register_matplotlib_converters()\n",
      "  warnings.warn(msg, FutureWarning)\n"
     ]
    },
    {
     "data": {
      "image/png": "[encoded data removed]",
      "text/plain": [
       "<Figure size 1080x360 with 1 Axes>"
      ]
     },
     "metadata": {
      "needs_background": "light"
     },
     "output_type": "display_data"
    }
   ],
   "source": [
    "plt.figure(figsize=(15,5))\n",
    "plt.xticks(rotation=45)\n",
    "plt.plot(groupA_revenues['date'], groupA_revenues['cumsum_revenue'], label='A')\n",
    "plt.plot(groupB_revenues['date'], groupB_revenues['cumsum_revenue'], label='B')\n",
    "plt.grid()\n",
    "plt.ylabel('Cumulative revenue')\n",
    "plt.xlabel('Date')\n",
    "plt.legend()\n",
    "plt.title('Cumulative revenue by groups')\n",
    "plt.xticks(ticks=groupB_revenues['date']);"
   ]
  },
  {
   "cell_type": "markdown",
   "metadata": {},
   "source": [
    "**Conclusion**\n",
    "\n",
    "Cumulative revenue is growing both for group A and for group\n",
    "In group A, revenue grows gradually, without any unexpected bursts, however, its value always turns out to be lower than the revenue for group B\n",
    "Group B is characterized by a sudden sharp increase in revenue from August 18 to 19, which may be due to abnormally expensive orders or an abnormally large number of purchases.\n",
    "In general, so far we can say that in group B the situation with revenue is somewhat better than in group A.\n",
    "The graph for the cleaned data will be shown later "
   ]
  },
  {
   "cell_type": "markdown",
   "metadata": {},
   "source": [
    "### Graph of the cumulative average check by groups"
   ]
  },
  {
   "cell_type": "code",
   "execution_count": 28,
   "metadata": {},
   "outputs": [],
   "source": [
    "groupA_revenues['cumsum_number_checks'] = np.cumsum(groupA_revenues['transactionId'])\n",
    "groupB_revenues['cumsum_number_checks'] = np.cumsum(groupB_revenues['transactionId'])"
   ]
  },
  {
   "cell_type": "code",
   "execution_count": 29,
   "metadata": {
    "scrolled": false
   },
   "outputs": [
    {
     "data": {
      "image/png": "[encoded data removed]",
      "text/plain": [
       "<Figure size 1080x360 with 1 Axes>"
      ]
     },
     "metadata": {
      "needs_background": "light"
     },
     "output_type": "display_data"
    }
   ],
   "source": [
    "plt.figure(figsize=(15,5))\n",
    "plt.xticks(rotation=45)\n",
    "plt.plot(groupA_revenues['date'], groupA_revenues['cumsum_revenue']/groupA_revenues['cumsum_number_checks'], label='A')\n",
    "plt.plot(groupB_revenues['date'], groupB_revenues['cumsum_revenue']/groupB_revenues['cumsum_number_checks'], label='B')\n",
    "plt.legend()\n",
    "plt.grid()\n",
    "plt.ylabel('Average chack')\n",
    "plt.xlabel('Date')\n",
    "plt.legend()\n",
    "plt.title('Cumulative average check by groups')\n",
    "plt.xticks(ticks=groupB_revenues['date']);"
   ]
  },
  {
   "cell_type": "code",
   "execution_count": 30,
   "metadata": {},
   "outputs": [
    {
     "data": {
      "text/html": [
       "<div>\n",
       "<style scoped>\n",
       "    .dataframe tbody tr th:only-of-type {\n",
       "        vertical-align: middle;\n",
       "    }\n",
       "\n",
       "    .dataframe tbody tr th {\n",
       "        vertical-align: top;\n",
       "    }\n",
       "\n",
       "    .dataframe thead th {\n",
       "        text-align: right;\n",
       "    }\n",
       "</style>\n",
       "<table border=\"1\" class=\"dataframe\">\n",
       "  <thead>\n",
       "    <tr style=\"text-align: right;\">\n",
       "      <th></th>\n",
       "      <th>transactionId</th>\n",
       "      <th>visitorId</th>\n",
       "      <th>date</th>\n",
       "      <th>revenue</th>\n",
       "      <th>group</th>\n",
       "    </tr>\n",
       "  </thead>\n",
       "  <tbody>\n",
       "    <tr>\n",
       "      <td>315</td>\n",
       "      <td>1939633950</td>\n",
       "      <td>157579733</td>\n",
       "      <td>2019-08-19</td>\n",
       "      <td>2330</td>\n",
       "      <td>B</td>\n",
       "    </tr>\n",
       "    <tr>\n",
       "      <td>319</td>\n",
       "      <td>2414788465</td>\n",
       "      <td>2247745159</td>\n",
       "      <td>2019-08-19</td>\n",
       "      <td>1435</td>\n",
       "      <td>B</td>\n",
       "    </tr>\n",
       "    <tr>\n",
       "      <td>320</td>\n",
       "      <td>1652782757</td>\n",
       "      <td>2763027084</td>\n",
       "      <td>2019-08-19</td>\n",
       "      <td>1460</td>\n",
       "      <td>B</td>\n",
       "    </tr>\n",
       "    <tr>\n",
       "      <td>322</td>\n",
       "      <td>3154167297</td>\n",
       "      <td>2091902649</td>\n",
       "      <td>2019-08-19</td>\n",
       "      <td>250</td>\n",
       "      <td>B</td>\n",
       "    </tr>\n",
       "    <tr>\n",
       "      <td>363</td>\n",
       "      <td>2096847394</td>\n",
       "      <td>4251115836</td>\n",
       "      <td>2019-08-19</td>\n",
       "      <td>2500</td>\n",
       "      <td>B</td>\n",
       "    </tr>\n",
       "    <tr>\n",
       "      <td>367</td>\n",
       "      <td>1033377712</td>\n",
       "      <td>3860669668</td>\n",
       "      <td>2019-08-19</td>\n",
       "      <td>3990</td>\n",
       "      <td>B</td>\n",
       "    </tr>\n",
       "    <tr>\n",
       "      <td>368</td>\n",
       "      <td>3268879337</td>\n",
       "      <td>2536252163</td>\n",
       "      <td>2019-08-19</td>\n",
       "      <td>20026</td>\n",
       "      <td>B</td>\n",
       "    </tr>\n",
       "    <tr>\n",
       "      <td>423</td>\n",
       "      <td>4161654914</td>\n",
       "      <td>990904712</td>\n",
       "      <td>2019-08-19</td>\n",
       "      <td>11249</td>\n",
       "      <td>B</td>\n",
       "    </tr>\n",
       "    <tr>\n",
       "      <td>424</td>\n",
       "      <td>2609443403</td>\n",
       "      <td>2406916810</td>\n",
       "      <td>2019-08-19</td>\n",
       "      <td>470</td>\n",
       "      <td>B</td>\n",
       "    </tr>\n",
       "    <tr>\n",
       "      <td>425</td>\n",
       "      <td>590470918</td>\n",
       "      <td>1920142716</td>\n",
       "      <td>2019-08-19</td>\n",
       "      <td>1294500</td>\n",
       "      <td>B</td>\n",
       "    </tr>\n",
       "    <tr>\n",
       "      <td>426</td>\n",
       "      <td>19467429</td>\n",
       "      <td>2397843657</td>\n",
       "      <td>2019-08-19</td>\n",
       "      <td>2630</td>\n",
       "      <td>B</td>\n",
       "    </tr>\n",
       "    <tr>\n",
       "      <td>427</td>\n",
       "      <td>3019510679</td>\n",
       "      <td>2397843657</td>\n",
       "      <td>2019-08-19</td>\n",
       "      <td>1460</td>\n",
       "      <td>B</td>\n",
       "    </tr>\n",
       "    <tr>\n",
       "      <td>429</td>\n",
       "      <td>2436528253</td>\n",
       "      <td>1060341621</td>\n",
       "      <td>2019-08-19</td>\n",
       "      <td>1100</td>\n",
       "      <td>B</td>\n",
       "    </tr>\n",
       "    <tr>\n",
       "      <td>459</td>\n",
       "      <td>863448794</td>\n",
       "      <td>2738601405</td>\n",
       "      <td>2019-08-19</td>\n",
       "      <td>50</td>\n",
       "      <td>B</td>\n",
       "    </tr>\n",
       "    <tr>\n",
       "      <td>461</td>\n",
       "      <td>2683113224</td>\n",
       "      <td>154576532</td>\n",
       "      <td>2019-08-19</td>\n",
       "      <td>26550</td>\n",
       "      <td>B</td>\n",
       "    </tr>\n",
       "    <tr>\n",
       "      <td>463</td>\n",
       "      <td>4170537404</td>\n",
       "      <td>290022471</td>\n",
       "      <td>2019-08-19</td>\n",
       "      <td>16480</td>\n",
       "      <td>B</td>\n",
       "    </tr>\n",
       "    <tr>\n",
       "      <td>486</td>\n",
       "      <td>752294429</td>\n",
       "      <td>2758621772</td>\n",
       "      <td>2019-08-19</td>\n",
       "      <td>1130</td>\n",
       "      <td>B</td>\n",
       "    </tr>\n",
       "    <tr>\n",
       "      <td>523</td>\n",
       "      <td>1739748874</td>\n",
       "      <td>522292794</td>\n",
       "      <td>2019-08-19</td>\n",
       "      <td>4880</td>\n",
       "      <td>B</td>\n",
       "    </tr>\n",
       "    <tr>\n",
       "      <td>526</td>\n",
       "      <td>1654949825</td>\n",
       "      <td>1335154194</td>\n",
       "      <td>2019-08-19</td>\n",
       "      <td>500</td>\n",
       "      <td>B</td>\n",
       "    </tr>\n",
       "    <tr>\n",
       "      <td>527</td>\n",
       "      <td>1570513684</td>\n",
       "      <td>2837914161</td>\n",
       "      <td>2019-08-19</td>\n",
       "      <td>33405</td>\n",
       "      <td>B</td>\n",
       "    </tr>\n",
       "    <tr>\n",
       "      <td>529</td>\n",
       "      <td>90109939</td>\n",
       "      <td>2075769885</td>\n",
       "      <td>2019-08-19</td>\n",
       "      <td>3525</td>\n",
       "      <td>B</td>\n",
       "    </tr>\n",
       "  </tbody>\n",
       "</table>\n",
       "</div>"
      ],
      "text/plain": [
       "     transactionId   visitorId       date  revenue group\n",
       "315     1939633950   157579733 2019-08-19     2330     B\n",
       "319     2414788465  2247745159 2019-08-19     1435     B\n",
       "320     1652782757  2763027084 2019-08-19     1460     B\n",
       "322     3154167297  2091902649 2019-08-19      250     B\n",
       "363     2096847394  4251115836 2019-08-19     2500     B\n",
       "367     1033377712  3860669668 2019-08-19     3990     B\n",
       "368     3268879337  2536252163 2019-08-19    20026     B\n",
       "423     4161654914   990904712 2019-08-19    11249     B\n",
       "424     2609443403  2406916810 2019-08-19      470     B\n",
       "425      590470918  1920142716 2019-08-19  1294500     B\n",
       "426       19467429  2397843657 2019-08-19     2630     B\n",
       "427     3019510679  2397843657 2019-08-19     1460     B\n",
       "429     2436528253  1060341621 2019-08-19     1100     B\n",
       "459      863448794  2738601405 2019-08-19       50     B\n",
       "461     2683113224   154576532 2019-08-19    26550     B\n",
       "463     4170537404   290022471 2019-08-19    16480     B\n",
       "486      752294429  2758621772 2019-08-19     1130     B\n",
       "523     1739748874   522292794 2019-08-19     4880     B\n",
       "526     1654949825  1335154194 2019-08-19      500     B\n",
       "527     1570513684  2837914161 2019-08-19    33405     B\n",
       "529       90109939  2075769885 2019-08-19     3525     B"
      ]
     },
     "execution_count": 30,
     "metadata": {},
     "output_type": "execute_result"
    }
   ],
   "source": [
    "orders.query('date == \"2019-08-19\" and group == \"B\"')"
   ]
  },
  {
   "cell_type": "markdown",
   "metadata": {},
   "source": [
    "**Conclusion**\n",
    "\n",
    "For most of the testing period, the average cumulative check for group B was higher than for group A, but this is due to a sharp jump in the average check for group B from August 18 to 19. It can be explained by the abnormally expensive order(s) placed by Group B customers. Our assumptions were confirmed - one of the Group B customers placed an order worth more than 1 million rubles. In the future, we will clean the data from anomalies"
   ]
  },
  {
   "cell_type": "markdown",
   "metadata": {},
   "source": [
    "### Graph of the relative change in the cumulative average check of group B to group A"
   ]
  },
  {
   "cell_type": "code",
   "execution_count": 31,
   "metadata": {
    "scrolled": true
   },
   "outputs": [
    {
     "data": {
      "image/png": "[encoded data removed]",
      "text/plain": [
       "<Figure size 1080x360 with 1 Axes>"
      ]
     },
     "metadata": {
      "needs_background": "light"
     },
     "output_type": "display_data"
    }
   ],
   "source": [
    "cum_check = groupA_revenues.merge(groupB_revenues, on='date', how='left', suffixes=['A', 'B'])\n",
    "\n",
    "plt.figure(figsize=(15,5))\n",
    "plt.xticks(rotation=45)\n",
    "plt.plot(cum_check['date'], (cum_check['cumsum_revenueB']/cum_check['cumsum_number_checksB'])/(cum_check['cumsum_revenueA']/cum_check['cumsum_number_checksA'])-1)\n",
    "plt.axhline(y=0, color='red', linestyle='--') \n",
    "plt.grid()\n",
    "plt.ylabel('The ratio of average checks')\n",
    "plt.xlabel('Date')\n",
    "plt.title('Relative change in the cumulative average check of group B to group A')\n",
    "plt.xticks(ticks=groupB_revenues['date']);\n"
   ]
  },
  {
   "cell_type": "markdown",
   "metadata": {},
   "source": [
    "**Conclusion**\n",
    "\n",
    "The graph does not show a definite trend - we cannot say that the average check of group B was always higher than the average check of group A or that it stabilized at the end of the experiment - the dates on which the clients of the groups made abnormally expensive orders are clearly visible on the graph"
   ]
  },
  {
   "cell_type": "markdown",
   "metadata": {},
   "source": [
    "### Graph of cumulative conversion by groups"
   ]
  },
  {
   "cell_type": "code",
   "execution_count": 32,
   "metadata": {},
   "outputs": [],
   "source": [
    "visitorsA = visitors.query('group == \"A\"')\n",
    "visitorsB = visitors.query('group == \"B\"')\n",
    "conversionA = groupA_revenues.merge(visitorsA, on = 'date')\n",
    "conversionA['cumsum_visitors'] = np.cumsum(conversionA.visitors)\n",
    "conversionA['cumsum_conversion'] = conversionA.cumsum_number_checks/conversionA.cumsum_visitors\n",
    "conversionB = groupB_revenues.merge(visitorsB, on = 'date')\n",
    "conversionB['cumsum_visitors'] = np.cumsum(conversionB.visitors)\n",
    "conversionB['cumsum_conversion'] = conversionB.cumsum_number_checks/conversionB.cumsum_visitors"
   ]
  },
  {
   "cell_type": "code",
   "execution_count": 33,
   "metadata": {
    "scrolled": true
   },
   "outputs": [
    {
     "data": {
      "image/png": "[encoded data removed]",
      "text/plain": [
       "<Figure size 1080x360 with 1 Axes>"
      ]
     },
     "metadata": {
      "needs_background": "light"
     },
     "output_type": "display_data"
    }
   ],
   "source": [
    "plt.figure(figsize=(15,5))\n",
    "plt.xticks(rotation=45)\n",
    "plt.plot(conversionA['date'], conversionA.cumsum_conversion, label='A')\n",
    "plt.plot(conversionB['date'], conversionB.cumsum_conversion, label='B')\n",
    "plt.legend()\n",
    "plt.grid()\n",
    "plt.ylabel('Conversion')\n",
    "plt.xlabel('Date')\n",
    "plt.title('Cumulative conversion by groups')\n",
    "plt.xticks(ticks=groupB_revenues['date']);\n"
   ]
  },
  {
   "cell_type": "markdown",
   "metadata": {},
   "source": [
    "**Conclusion**\n",
    "\n",
    "At the beginning of the experiment, conversions fluctuate, but already from the middle it is clear that they become stable and the conversion of group B is higher than the conversion of group A"
   ]
  },
  {
   "cell_type": "markdown",
   "metadata": {},
   "source": [
    "### Graph of the relative change in the cumulative conversion of group B to group A"
   ]
  },
  {
   "cell_type": "code",
   "execution_count": 34,
   "metadata": {
    "scrolled": true
   },
   "outputs": [
    {
     "data": {
      "image/png": "[encoded data removed]",
      "text/plain": [
       "<Figure size 1080x360 with 1 Axes>"
      ]
     },
     "metadata": {
      "needs_background": "light"
     },
     "output_type": "display_data"
    }
   ],
   "source": [
    "conversion = conversionA.merge(conversionB, on='date', how='left', suffixes=['A', 'B'])\n",
    "plt.figure(figsize=(15,5))\n",
    "plt.xticks(rotation=45)\n",
    "plt.plot(conversion['date'], (conversion.cumsum_number_checksB/conversion.cumsum_visitorsB)/(conversion.cumsum_number_checksA/conversion.cumsum_visitorsA)-1)\n",
    "plt.axhline(y=0, color='red', linestyle='--') \n",
    "plt.grid()\n",
    "plt.ylabel('Ratio')\n",
    "plt.xlabel('Date')\n",
    "plt.title('Relative change in the cumulative conversion of group B to group A')\n",
    "plt.xticks(ticks=groupB_revenues['date']);\n"
   ]
  },
  {
   "cell_type": "markdown",
   "metadata": {},
   "source": [
    "**Conclusion**\n",
    "\n",
    "The conversion ratio has been established and on average the conversion of group B is higher than the conversion of group A by 12-20%"
   ]
  },
  {
   "cell_type": "markdown",
   "metadata": {},
   "source": [
    "### Scatter plot of the number of orders by users"
   ]
  },
  {
   "cell_type": "code",
   "execution_count": 35,
   "metadata": {
    "scrolled": true
   },
   "outputs": [
    {
     "data": {
      "image/png": "[encoded data removed]",
      "text/plain": [
       "<Figure size 432x288 with 1 Axes>"
      ]
     },
     "metadata": {
      "needs_background": "light"
     },
     "output_type": "display_data"
    }
   ],
   "source": [
    "user_orders = orders.groupby('visitorId')['transactionId'].nunique().reset_index()\n",
    "x_values = pd.Series(range(0,len(user_orders)))\n",
    "plt.scatter(x_values, user_orders['transactionId'])\n",
    "plt.ylabel('Orders number')\n",
    "plt.title('Scatter plot of the number of orders by users'); "
   ]
  },
  {
   "cell_type": "markdown",
   "metadata": {},
   "source": [
    "**Conclusion**\n",
    "\n",
    "We see that most customers make 1 order on the site during the test period - while there are users who made 2 and 3 orders - most likely these are anomalies"
   ]
  },
  {
   "cell_type": "markdown",
   "metadata": {},
   "source": [
    "### 95th and 99th percentile orders per user"
   ]
  },
  {
   "cell_type": "code",
   "execution_count": 36,
   "metadata": {},
   "outputs": [
    {
     "data": {
      "text/plain": [
       "array([1., 2.])"
      ]
     },
     "execution_count": 36,
     "metadata": {},
     "output_type": "execute_result"
    }
   ],
   "source": [
    "np.percentile(user_orders['transactionId'], [95, 99])"
   ]
  },
  {
   "cell_type": "markdown",
   "metadata": {},
   "source": [
    "**Conclusion**\n",
    "\n",
    "Let's choose the border as an abnormal number of orders - 2, that is, when cleaning the data, we will delete users who have made more than one order - this way we will delete 1% of the available data"
   ]
  },
  {
   "cell_type": "markdown",
   "metadata": {},
   "source": [
    "### Scatter plot of order values"
   ]
  },
  {
   "cell_type": "code",
   "execution_count": 37,
   "metadata": {
    "scrolled": true
   },
   "outputs": [
    {
     "data": {
      "image/png": "[encoded data removed]",
      "text/plain": [
       "<Figure size 432x288 with 1 Axes>"
      ]
     },
     "metadata": {
      "needs_background": "light"
     },
     "output_type": "display_data"
    }
   ],
   "source": [
    "x_values = pd.Series(range(0,len(orders)))\n",
    "plt.scatter(x_values, orders.revenue) \n",
    "plt.ylabel('Orders sum')\n",
    "plt.title('Scatter plot of order values'); "
   ]
  },
  {
   "cell_type": "markdown",
   "metadata": {},
   "source": [
    "**Conclusion**\n",
    "\n",
    "We clearly see at least 2 outliers - orders worth about 1.2 million and 200 thousand"
   ]
  },
  {
   "cell_type": "markdown",
   "metadata": {},
   "source": [
    "### 95th and 99th order value percentiles"
   ]
  },
  {
   "cell_type": "code",
   "execution_count": 38,
   "metadata": {
    "scrolled": true
   },
   "outputs": [
    {
     "data": {
      "text/plain": [
       "array([26785., 53904.])"
      ]
     },
     "execution_count": 38,
     "metadata": {},
     "output_type": "execute_result"
    }
   ],
   "source": [
    "np.percentile(orders.revenue, [95, 99])"
   ]
  },
  {
   "cell_type": "markdown",
   "metadata": {},
   "source": [
    "**Conclusion**\n",
    "\n",
    "Let's choose as abnormally expensive orders orders, the cost of which exceeds 53904 rubles - in this way we will delete another 1% of the data"
   ]
  },
  {
   "cell_type": "markdown",
   "metadata": {},
   "source": [
    "### Statistical significance of differences in the number of orders between groups according to \"raw\" data"
   ]
  },
  {
   "cell_type": "markdown",
   "metadata": {},
   "source": [
    "Null hypothesis H0: the average number of checks in group A is equal to the average number of checks in group B\n",
    "\n",
    "Alternative hypothesis H1: the average number of checks in group A is not equal to the average number of checks in group B\n",
    "\n",
    "Let's take alpha = 0.05"
   ]
  },
  {
   "cell_type": "code",
   "execution_count": 39,
   "metadata": {},
   "outputs": [],
   "source": [
    "orders_usersA = orders.query('group == \"A\"').groupby('visitorId')['transactionId'].nunique().reset_index()"
   ]
  },
  {
   "cell_type": "code",
   "execution_count": 40,
   "metadata": {
    "scrolled": true
   },
   "outputs": [],
   "source": [
    "orders_usersB = orders.query('group == \"B\"').groupby('visitorId')['transactionId'].nunique().reset_index()"
   ]
  },
  {
   "cell_type": "code",
   "execution_count": 41,
   "metadata": {},
   "outputs": [],
   "source": [
    "sampleA = pd.concat([orders_usersA['transactionId'],pd.Series(0, index=np.arange(visitors.query('group == \"A\"')['visitors'].sum() - len(orders_usersA)), name='orders')],axis=0)\n",
    "sampleB = pd.concat([orders_usersB['transactionId'],pd.Series(0, index=np.arange(visitors.query('group == \"B\"')['visitors'].sum() - len(orders_usersB)), name='orders')],axis=0)"
   ]
  },
  {
   "cell_type": "code",
   "execution_count": 42,
   "metadata": {
    "scrolled": true
   },
   "outputs": [
    {
     "name": "stdout",
     "output_type": "stream",
     "text": [
      "p_value =  0.00551\n",
      "relative increase in the number of checks of group B in relation to group A = 0.160\n",
      "Rejecting H0\n"
     ]
    }
   ],
   "source": [
    "print('p_value = ', \"{0:.5f}\".format(stats.mannwhitneyu(sampleA, sampleB)[1]))\n",
    "print('relative increase in the number of checks of group B in relation to group A =', \"{0:.3f}\".format(sampleB.mean() / sampleA.mean() - 1))\n",
    "alpha = 0.05 \n",
    "results = stats.mannwhitneyu(sampleA, sampleB)\n",
    "if (results.pvalue < alpha):\n",
    "    print(\"Rejecting H0\")\n",
    "else:\n",
    "    print(\"Failed to reject H0\")"
   ]
  },
  {
   "cell_type": "markdown",
   "metadata": {},
   "source": [
    "**Conclusion**\n",
    "\n",
    "We confirmed the statistical significance of the difference between the average number of checks for groups - the number of orders in group B is 16% more than the same indicator for group A"
   ]
  },
  {
   "cell_type": "markdown",
   "metadata": {},
   "source": [
    "### Statistical significance of differences in the average order receipt between groups according to \"raw\" data"
   ]
  },
  {
   "cell_type": "markdown",
   "metadata": {},
   "source": [
    "Null hypothesis H0: the average check of group A is equal to the average check of group B\n",
    "\n",
    "Alternative hypothesis H1: the average check of group A is not equal to the average check of group B\n",
    "\n",
    "Let's take alpha = 0.05"
   ]
  },
  {
   "cell_type": "code",
   "execution_count": 43,
   "metadata": {
    "scrolled": true
   },
   "outputs": [
    {
     "name": "stdout",
     "output_type": "stream",
     "text": [
      "pvalue =  0.415\n",
      "relative increase in the amount of checks of group B in relation to group A= 0.287\n",
      "Failed to reject H0\n"
     ]
    }
   ],
   "source": [
    "print('pvalue = ',\n",
    "      '{0:.3f}'.format(stats.mannwhitneyu(orders[orders['group']=='A']['revenue'], orders[orders['group']=='B']['revenue'])[1]))\n",
    "print('relative increase in the amount of checks of group B in relation to group A=', \n",
    "      '{0:.3f}'.format(orders[orders['group']=='B']['revenue'].mean()/orders[orders['group']=='A']['revenue'].mean()-1))\n",
    "alpha = 0.05 \n",
    "if ((stats.mannwhitneyu(orders[orders['group']=='A']['revenue'], orders[orders['group']=='B']['revenue'])[1])< alpha):\n",
    "    print(\"Rejecting H0\")\n",
    "else:\n",
    "    print(\"Failed to reject H0\")"
   ]
  },
  {
   "cell_type": "markdown",
   "metadata": {},
   "source": [
    "**Conclusion**\n",
    "\n",
    "No statistically significant difference was found between the average checks of group A and group B, despite the fact that the average check of group B is 29% higher than the average check of group A"
   ]
  },
  {
   "cell_type": "markdown",
   "metadata": {},
   "source": [
    "### Statistical significance of differences in conversion between groups based on cleaned data"
   ]
  },
  {
   "cell_type": "markdown",
   "metadata": {},
   "source": [
    "Null Hypothesis H0: Mean Conversion of Group A equals Mean Conversion of Group B on Cleaned Data\n",
    "\n",
    "Alternative Hypothesis H1: The average conversion of group A is equal to the average conversion of group B according to the cleaned data\n",
    "\n",
    "Let's take alpha = 0.05"
   ]
  },
  {
   "cell_type": "code",
   "execution_count": 44,
   "metadata": {},
   "outputs": [],
   "source": [
    "clean_ordersA = (\n",
    "    orders.query('group == \"A\" and revenue <= 53904')\n",
    "    .groupby('visitorId')['transactionId'].nunique().reset_index().query('transactionId <=2')\n",
    ")"
   ]
  },
  {
   "cell_type": "code",
   "execution_count": 45,
   "metadata": {},
   "outputs": [],
   "source": [
    "clean_ordersB = (\n",
    "    orders.query('group == \"B\" and revenue <= 53904')\n",
    "    .groupby('visitorId')['transactionId'].nunique().reset_index().query('transactionId <=2')\n",
    ")"
   ]
  },
  {
   "cell_type": "code",
   "execution_count": 46,
   "metadata": {},
   "outputs": [],
   "source": [
    "sampleA_clean = pd.concat([clean_ordersA['transactionId'],pd.Series(0, index=np.arange(visitors.query('group == \"A\"')['visitors'].sum() - len(clean_ordersA)), name='orders')],axis=0)\n",
    "sampleB_clean = pd.concat([clean_ordersB['transactionId'],pd.Series(0, index=np.arange(visitors.query('group == \"B\"')['visitors'].sum() - len(clean_ordersB)), name='orders')],axis=0)"
   ]
  },
  {
   "cell_type": "code",
   "execution_count": 47,
   "metadata": {
    "scrolled": true
   },
   "outputs": [
    {
     "name": "stdout",
     "output_type": "stream",
     "text": [
      "p_value =  0.003\n",
      "relative increase in the number of checks of group B in relation to group A according to the cleaned data= 0.189\n",
      "Rejecting H0\n"
     ]
    }
   ],
   "source": [
    "print('p_value = ', \"{0:.3f}\".format(stats.mannwhitneyu(sampleA_clean, sampleB_clean)[1]))\n",
    "print('relative increase in the number of checks of group B in relation to group A according to the cleaned data=', \n",
    "      \"{0:.3f}\".format(sampleB_clean.mean() / sampleA_clean.mean() - 1))\n",
    "alpha = 0.05 \n",
    "results = stats.mannwhitneyu(sampleA_clean, sampleB_clean)\n",
    "if (results.pvalue < alpha):\n",
    "    print(\"Rejecting H0\")\n",
    "else:\n",
    "    print(\"Failed to reject H0\")"
   ]
  },
  {
   "cell_type": "markdown",
   "metadata": {},
   "source": [
    "### Statistical significance of differences in the average order receipt between groups according to cleaned data"
   ]
  },
  {
   "cell_type": "markdown",
   "metadata": {},
   "source": [
    "Null hypothesis H0: the average check of group A is equal to the average check of group B according to the cleaned data\n",
    "\n",
    "Alternative hypothesis H1: the average check of group A is not equal to the average check of group B according to the cleaned data\n",
    "\n",
    "Let's take alpha = 0.05"
   ]
  },
  {
   "cell_type": "code",
   "execution_count": 48,
   "metadata": {},
   "outputs": [],
   "source": [
    "abnormal_visitors = orders.groupby('visitorId')['transactionId'].nunique().reset_index().query('transactionId >2')['visitorId']"
   ]
  },
  {
   "cell_type": "code",
   "execution_count": 49,
   "metadata": {
    "scrolled": false
   },
   "outputs": [
    {
     "name": "stdout",
     "output_type": "stream",
     "text": [
      "p_value  =  0.394\n",
      "relative increase in the average check of group B in relation to group A according to the cleaned data= -0.032\n"
     ]
    }
   ],
   "source": [
    "print('p_value  = ', \n",
    "      '{0:.3f}'.format(stats.mannwhitneyu(orders.query('group == \"A\" and visitorId not in @abnormal_visitors and revenue <= 53904')['revenue'], \n",
    "                                          orders.query('group == \"B\" and visitorId not in @abnormal_visitors and revenue <= 53904')['revenue'])[1]))\n",
    "print('relative increase in the average check of group B in relation to group A according to the cleaned data=',\n",
    "      '{0:.3f}'.format(orders.query('group == \"B\" and visitorId not in @abnormal_visitors and revenue <= 53904')['revenue'].mean()/orders.query('group == \"A\" and visitorId not in @abnormal_visitors and revenue <= 53904')['revenue'].mean()-1)) "
   ]
  },
  {
   "cell_type": "markdown",
   "metadata": {},
   "source": [
    "**Conclusion**\n",
    "\n",
    "We also did not find statistical significance in the difference between the average group checks, but due to the removal of abnormally expensive orders from group B, we see that the average check of group B is lower than the average check of group A by 3%, while the dirty data showed us the opposite. - for them, the average check of group B was higher than the average check of group A by 29%"
   ]
  },
  {
   "cell_type": "markdown",
   "metadata": {},
   "source": [
    "### Additionally"
   ]
  },
  {
   "cell_type": "markdown",
   "metadata": {},
   "source": [
    "Let's build some graphs, which are very strongly influenced by outliers, according to the cleaned data - a graph of cumulative revenue by groups and a graph of the cumulative average check by groups"
   ]
  },
  {
   "cell_type": "code",
   "execution_count": 50,
   "metadata": {},
   "outputs": [],
   "source": [
    "groupA_revenues_clean = orders.query('group == \"A\" and visitorId not in @abnormal_visitors and revenue <= 53904').groupby('date').agg({'revenue':'sum', 'transactionId':'count'}).reset_index()\n",
    "groupB_revenues_clean = orders.query('group == \"B\" and visitorId not in @abnormal_visitors and revenue <= 53904').groupby('date').agg({'revenue':'sum', 'transactionId':'count'}).reset_index()\n",
    "groupA_revenues_clean['cumsum_revenue'] = np.cumsum(groupA_revenues_clean['revenue'])\n",
    "groupB_revenues_clean['cumsum_revenue'] = np.cumsum(groupB_revenues_clean['revenue'])"
   ]
  },
  {
   "cell_type": "code",
   "execution_count": 51,
   "metadata": {
    "scrolled": true
   },
   "outputs": [
    {
     "data": {
      "image/png": "[encoded data removed]",
      "text/plain": [
       "<Figure size 1080x360 with 1 Axes>"
      ]
     },
     "metadata": {
      "needs_background": "light"
     },
     "output_type": "display_data"
    }
   ],
   "source": [
    "plt.figure(figsize=(15,5))\n",
    "plt.xticks(rotation=45)\n",
    "plt.plot(groupA_revenues_clean['date'], groupA_revenues_clean['cumsum_revenue'], label='A')\n",
    "plt.plot(groupB_revenues_clean['date'], groupB_revenues_clean['cumsum_revenue'], label='B')\n",
    "plt.grid()\n",
    "plt.ylabel('Revenue')\n",
    "plt.xlabel('Date')\n",
    "plt.legend()\n",
    "plt.title('cumulative revenue by group based on cleaned data')\n",
    "plt.xticks(ticks=groupB_revenues['date']);"
   ]
  },
  {
   "cell_type": "code",
   "execution_count": 52,
   "metadata": {},
   "outputs": [],
   "source": [
    "groupA_revenues_clean['cumsum_number_checks'] = np.cumsum(groupA_revenues_clean['transactionId'])\n",
    "groupB_revenues_clean['cumsum_number_checks'] = np.cumsum(groupB_revenues_clean['transactionId'])"
   ]
  },
  {
   "cell_type": "code",
   "execution_count": 53,
   "metadata": {
    "scrolled": true
   },
   "outputs": [
    {
     "data": {
      "image/png": "[encoded data removed]",
      "text/plain": [
       "<Figure size 1080x360 with 1 Axes>"
      ]
     },
     "metadata": {
      "needs_background": "light"
     },
     "output_type": "display_data"
    }
   ],
   "source": [
    "plt.figure(figsize=(15,5))\n",
    "plt.xticks(rotation=45)\n",
    "plt.plot(groupA_revenues_clean['date'], groupA_revenues_clean['cumsum_revenue']/groupA_revenues_clean['cumsum_number_checks'], label='A')\n",
    "plt.plot(groupB_revenues_clean['date'], groupB_revenues_clean['cumsum_revenue']/groupB_revenues_clean['cumsum_number_checks'], label='B')\n",
    "plt.legend()\n",
    "plt.grid()\n",
    "plt.ylabel('Average check')\n",
    "plt.xlabel('Date')\n",
    "plt.legend()\n",
    "plt.title('cumulative average check by groups according to the cleaned data')\n",
    "plt.xticks(ticks=groupB_revenues['date']);"
   ]
  },
  {
   "cell_type": "code",
   "execution_count": 54,
   "metadata": {},
   "outputs": [
    {
     "data": {
      "image/png": "[encoded data removed]",
      "text/plain": [
       "<Figure size 1080x360 with 1 Axes>"
      ]
     },
     "metadata": {
      "needs_background": "light"
     },
     "output_type": "display_data"
    }
   ],
   "source": [
    "cum_check_clean = groupA_revenues_clean.merge(groupB_revenues_clean, on='date', how='left', suffixes=['A', 'B'])\n",
    "\n",
    "plt.figure(figsize=(15,5))\n",
    "plt.xticks(rotation=45)\n",
    "plt.plot(cum_check_clean['date'], (cum_check_clean['cumsum_revenueB']/cum_check_clean['cumsum_number_checksB'])/(cum_check_clean['cumsum_revenueA']/cum_check_clean['cumsum_number_checksA'])-1)\n",
    "plt.axhline(y=0, color='red', linestyle='--') \n",
    "plt.grid()\n",
    "plt.ylabel('Ratio average checks')\n",
    "plt.xlabel('Date')\n",
    "plt.title('relative change in the cumulative average check of group B to group A according to the cleaned data')\n",
    "plt.xticks(ticks=groupB_revenues['date']);\n"
   ]
  },
  {
   "cell_type": "markdown",
   "metadata": {},
   "source": [
    "### Decision to terminate/continue the test"
   ]
  },
  {
   "cell_type": "markdown",
   "metadata": {},
   "source": [
    "**By number of orders (conversions):**\n",
    "\n",
    "cumulative conversion graphs are stable, the statistical significance of the difference in conversions between groups has been proven, the number of checks in group B according to the cleaned data is 19% more than group A - we stop the test, fixing the victory of group B\n",
    "\n",
    "**Average bill:**\n",
    "\n",
    "after building visualizations on the cleaned data, we see that the graphs of the cumulative average check are stable, while the relative change in the cumulative average check of group B to group A according to the cleaned data fluctuates around 0, starting from the middle of the test. the statistical significance of the difference in average bills has not been proven - we stop the test, fixing the absence of differences in the average bill between groups"
   ]
  },
  {
   "cell_type": "markdown",
   "metadata": {},
   "source": [
    "## Conclusion"
   ]
  },
  {
   "cell_type": "markdown",
   "metadata": {},
   "source": [
    "1. When prioritizing hypotheses, the result depends on which framework is selected. A more comprehensive approach is provided by the RICE framework, since it takes into account the reach of the audience, and not just the impact on customers and confidence in a positive result. According to this framework, the leading hypothesis is to add a subscription form to all main pages in order to collect a customer base for email newsletters.\n",
    "2. Found buyers who, during testing, moved from group to group in the amount of 5.7% of all customers who made an order - these records were deleted\n",
    "3. We found outliers in the order amount data, which is the 99th percentile or more than 53904, and also in the number of orders per user, more than 2\n",
    "4. The statistical significance of differences in the number of checks between groups was proved both for dirty and cleaned data, while the average number of orders in group B was 19% more (according to cleaned data). We see a similar picture when visualizing graphs of cumulative conversion values\n",
    "5. The existence of a difference in the average check for groups has not been proven - moreover, the average check of group B is lower than the average check of group A by 3%\n",
    "6. The cumulative graphs show that group B's revenue is almost always higher than group A's revenue - due to more orders, not a higher average check\n",
    "6. We stop the test by fixing the victory in conversion for group B and no difference in the average check between groups"
   ]
  }
 ],
 "metadata": {
  "ExecuteTimeLog": [
   {
    "duration": 425,
    "start_time": "2022-08-04T18:29:31.787Z"
   },
   {
    "duration": 62,
    "start_time": "2022-08-04T18:30:40.605Z"
   },
   {
    "duration": 67,
    "start_time": "2022-08-04T18:30:44.833Z"
   },
   {
    "duration": 18,
    "start_time": "2022-08-04T18:30:52.692Z"
   },
   {
    "duration": 708,
    "start_time": "2022-08-04T18:31:42.483Z"
   },
   {
    "duration": 6,
    "start_time": "2022-08-04T18:31:51.431Z"
   },
   {
    "duration": 8,
    "start_time": "2022-08-04T18:32:43.458Z"
   },
   {
    "duration": 5,
    "start_time": "2022-08-04T18:32:53.697Z"
   },
   {
    "duration": 11,
    "start_time": "2022-08-04T18:33:33.980Z"
   },
   {
    "duration": 14,
    "start_time": "2022-08-04T18:33:43.683Z"
   },
   {
    "duration": 12,
    "start_time": "2022-08-04T18:34:01.669Z"
   },
   {
    "duration": 11,
    "start_time": "2022-08-04T18:34:08.233Z"
   },
   {
    "duration": 3,
    "start_time": "2022-08-04T18:38:14.841Z"
   },
   {
    "duration": 12,
    "start_time": "2022-08-04T18:38:18.187Z"
   },
   {
    "duration": 5,
    "start_time": "2022-08-04T18:38:23.339Z"
   },
   {
    "duration": 4,
    "start_time": "2022-08-04T18:38:23.778Z"
   },
   {
    "duration": 10,
    "start_time": "2022-08-04T18:38:24.337Z"
   },
   {
    "duration": 10,
    "start_time": "2022-08-04T18:38:24.949Z"
   },
   {
    "duration": 6,
    "start_time": "2022-08-04T18:39:58.334Z"
   },
   {
    "duration": 7,
    "start_time": "2022-08-04T18:40:03.736Z"
   },
   {
    "duration": 8,
    "start_time": "2022-08-04T18:40:15.684Z"
   },
   {
    "duration": 10,
    "start_time": "2022-08-04T18:40:26.689Z"
   },
   {
    "duration": 13,
    "start_time": "2022-08-04T18:41:44.784Z"
   },
   {
    "duration": 9,
    "start_time": "2022-08-04T18:42:04.128Z"
   },
   {
    "duration": 11,
    "start_time": "2022-08-04T18:42:17.832Z"
   },
   {
    "duration": 18,
    "start_time": "2022-08-04T18:42:51.499Z"
   },
   {
    "duration": 9,
    "start_time": "2022-08-04T18:43:29.235Z"
   },
   {
    "duration": 10,
    "start_time": "2022-08-04T18:43:41.266Z"
   },
   {
    "duration": 6,
    "start_time": "2022-08-04T18:44:00.127Z"
   },
   {
    "duration": 150,
    "start_time": "2022-08-04T18:49:32.362Z"
   },
   {
    "duration": 71,
    "start_time": "2022-08-04T18:49:58.933Z"
   },
   {
    "duration": 16,
    "start_time": "2022-08-04T18:50:03.033Z"
   },
   {
    "duration": 12,
    "start_time": "2022-08-04T18:50:08.736Z"
   },
   {
    "duration": 6,
    "start_time": "2022-08-04T18:53:02.227Z"
   },
   {
    "duration": 6,
    "start_time": "2022-08-04T18:53:14.119Z"
   },
   {
    "duration": 7,
    "start_time": "2022-08-04T18:53:51.297Z"
   },
   {
    "duration": 4,
    "start_time": "2022-08-04T18:54:14.257Z"
   },
   {
    "duration": 13,
    "start_time": "2022-08-04T18:55:41.159Z"
   },
   {
    "duration": 5,
    "start_time": "2022-08-04T18:55:52.164Z"
   },
   {
    "duration": 6,
    "start_time": "2022-08-04T18:56:07.737Z"
   },
   {
    "duration": 12,
    "start_time": "2022-08-04T18:56:20.248Z"
   },
   {
    "duration": 8,
    "start_time": "2022-08-04T18:58:25.735Z"
   },
   {
    "duration": 3,
    "start_time": "2022-08-04T18:58:37.422Z"
   },
   {
    "duration": 8,
    "start_time": "2022-08-04T18:58:41.751Z"
   },
   {
    "duration": 9,
    "start_time": "2022-08-04T19:00:19.958Z"
   },
   {
    "duration": 13,
    "start_time": "2022-08-04T19:05:05.576Z"
   },
   {
    "duration": 17,
    "start_time": "2022-08-04T19:05:35.372Z"
   },
   {
    "duration": 15,
    "start_time": "2022-08-04T19:05:49.452Z"
   },
   {
    "duration": 8,
    "start_time": "2022-08-04T19:06:17.425Z"
   },
   {
    "duration": 8,
    "start_time": "2022-08-04T19:06:28.759Z"
   },
   {
    "duration": 402,
    "start_time": "2022-08-04T19:07:45.750Z"
   },
   {
    "duration": 19,
    "start_time": "2022-08-04T19:08:19.260Z"
   },
   {
    "duration": 7,
    "start_time": "2022-08-04T19:08:34.650Z"
   },
   {
    "duration": 5,
    "start_time": "2022-08-04T19:09:14.166Z"
   },
   {
    "duration": 64,
    "start_time": "2022-08-04T19:09:37.636Z"
   },
   {
    "duration": 4,
    "start_time": "2022-08-04T19:09:42.927Z"
   },
   {
    "duration": 14,
    "start_time": "2022-08-04T19:09:49.635Z"
   },
   {
    "duration": 262,
    "start_time": "2022-08-04T19:11:29.195Z"
   },
   {
    "duration": 170,
    "start_time": "2022-08-04T19:11:33.869Z"
   },
   {
    "duration": 13,
    "start_time": "2022-08-04T19:13:01.388Z"
   },
   {
    "duration": 6,
    "start_time": "2022-08-04T19:13:15.778Z"
   },
   {
    "duration": 170,
    "start_time": "2022-08-04T19:13:33.240Z"
   },
   {
    "duration": 18,
    "start_time": "2022-08-04T19:15:20.418Z"
   },
   {
    "duration": 14,
    "start_time": "2022-08-04T19:17:04.407Z"
   },
   {
    "duration": 6,
    "start_time": "2022-08-04T19:17:05.431Z"
   },
   {
    "duration": 247,
    "start_time": "2022-08-04T19:17:06.027Z"
   },
   {
    "duration": 9,
    "start_time": "2022-08-04T19:17:09.493Z"
   },
   {
    "duration": 28,
    "start_time": "2022-08-04T19:18:06.445Z"
   },
   {
    "duration": 9,
    "start_time": "2022-08-04T19:18:07.529Z"
   },
   {
    "duration": 181,
    "start_time": "2022-08-04T19:18:08.082Z"
   },
   {
    "duration": 208,
    "start_time": "2022-08-04T19:18:19.498Z"
   },
   {
    "duration": 217,
    "start_time": "2022-08-04T19:18:23.826Z"
   },
   {
    "duration": 192,
    "start_time": "2022-08-04T19:18:29.472Z"
   },
   {
    "duration": 14,
    "start_time": "2022-08-04T19:26:56.895Z"
   },
   {
    "duration": 11,
    "start_time": "2022-08-04T19:27:06.618Z"
   },
   {
    "duration": 15,
    "start_time": "2022-08-04T19:27:12.398Z"
   },
   {
    "duration": 4,
    "start_time": "2022-08-04T19:27:31.751Z"
   },
   {
    "duration": 16,
    "start_time": "2022-08-04T19:27:40.033Z"
   },
   {
    "duration": 11,
    "start_time": "2022-08-04T19:27:48.657Z"
   },
   {
    "duration": 19,
    "start_time": "2022-08-04T19:28:33.723Z"
   },
   {
    "duration": 12,
    "start_time": "2022-08-04T19:28:34.451Z"
   },
   {
    "duration": 17,
    "start_time": "2022-08-04T19:28:50.430Z"
   },
   {
    "duration": 8,
    "start_time": "2022-08-04T19:29:10.703Z"
   },
   {
    "duration": 885,
    "start_time": "2022-08-04T19:29:11.302Z"
   },
   {
    "duration": 15,
    "start_time": "2022-08-04T19:29:35.248Z"
   },
   {
    "duration": 765,
    "start_time": "2022-08-04T19:29:45.878Z"
   },
   {
    "duration": 7,
    "start_time": "2022-08-04T19:30:09.659Z"
   },
   {
    "duration": 4,
    "start_time": "2022-08-04T19:30:10.070Z"
   },
   {
    "duration": 19,
    "start_time": "2022-08-04T19:30:10.566Z"
   },
   {
    "duration": 20,
    "start_time": "2022-08-04T19:30:11.021Z"
   },
   {
    "duration": 13,
    "start_time": "2022-08-04T19:30:11.494Z"
   },
   {
    "duration": 7,
    "start_time": "2022-08-04T19:30:11.997Z"
   },
   {
    "duration": 11,
    "start_time": "2022-08-04T19:30:12.464Z"
   },
   {
    "duration": 719,
    "start_time": "2022-08-04T19:30:12.942Z"
   },
   {
    "duration": 10,
    "start_time": "2022-08-04T19:30:21.158Z"
   },
   {
    "duration": 15,
    "start_time": "2022-08-04T19:30:46.799Z"
   },
   {
    "duration": 10,
    "start_time": "2022-08-04T19:30:49.902Z"
   },
   {
    "duration": 15,
    "start_time": "2022-08-04T19:31:01.791Z"
   },
   {
    "duration": 11,
    "start_time": "2022-08-04T19:31:02.465Z"
   },
   {
    "duration": 6,
    "start_time": "2022-08-04T19:31:02.901Z"
   },
   {
    "duration": 14,
    "start_time": "2022-08-04T19:31:03.293Z"
   },
   {
    "duration": 184,
    "start_time": "2022-08-04T19:31:03.719Z"
   },
   {
    "duration": 5,
    "start_time": "2022-08-04T19:32:22.541Z"
   },
   {
    "duration": 191,
    "start_time": "2022-08-04T19:32:35.664Z"
   },
   {
    "duration": 13,
    "start_time": "2022-08-04T19:33:34.518Z"
   },
   {
    "duration": 13,
    "start_time": "2022-08-04T19:35:32.902Z"
   },
   {
    "duration": 4,
    "start_time": "2022-08-04T19:35:54.064Z"
   },
   {
    "duration": 21,
    "start_time": "2022-08-04T19:36:07.447Z"
   },
   {
    "duration": 20,
    "start_time": "2022-08-04T19:36:27.498Z"
   },
   {
    "duration": 10,
    "start_time": "2022-08-04T19:36:28.365Z"
   },
   {
    "duration": 18,
    "start_time": "2022-08-04T19:36:39.181Z"
   },
   {
    "duration": 10,
    "start_time": "2022-08-04T19:36:40.156Z"
   },
   {
    "duration": 16,
    "start_time": "2022-08-04T19:37:01.652Z"
   },
   {
    "duration": 9,
    "start_time": "2022-08-04T19:37:02.319Z"
   },
   {
    "duration": 764,
    "start_time": "2022-08-04T19:37:03.037Z"
   },
   {
    "duration": 12,
    "start_time": "2022-08-04T19:37:04.020Z"
   },
   {
    "duration": 722,
    "start_time": "2022-08-04T19:37:04.980Z"
   },
   {
    "duration": 6,
    "start_time": "2022-08-04T19:37:26.191Z"
   },
   {
    "duration": 11,
    "start_time": "2022-08-04T19:37:26.900Z"
   },
   {
    "duration": 929,
    "start_time": "2022-08-04T19:37:31.135Z"
   },
   {
    "duration": 21,
    "start_time": "2022-08-04T19:37:59.125Z"
   },
   {
    "duration": 13,
    "start_time": "2022-08-04T19:37:59.581Z"
   },
   {
    "duration": 5,
    "start_time": "2022-08-04T19:38:00.043Z"
   },
   {
    "duration": 14,
    "start_time": "2022-08-04T19:38:00.548Z"
   },
   {
    "duration": 197,
    "start_time": "2022-08-04T19:38:01.624Z"
   },
   {
    "duration": 11,
    "start_time": "2022-08-04T19:38:50.954Z"
   },
   {
    "duration": 8,
    "start_time": "2022-08-04T19:40:11.056Z"
   },
   {
    "duration": 188,
    "start_time": "2022-08-04T19:40:20.720Z"
   },
   {
    "duration": 13,
    "start_time": "2022-08-04T19:40:40.780Z"
   },
   {
    "duration": 830,
    "start_time": "2022-08-04T19:43:32.150Z"
   },
   {
    "duration": 5,
    "start_time": "2022-08-04T19:43:36.258Z"
   },
   {
    "duration": 5,
    "start_time": "2022-08-04T19:43:52.090Z"
   },
   {
    "duration": 219,
    "start_time": "2022-08-04T19:44:49.067Z"
   },
   {
    "duration": 823,
    "start_time": "2022-08-04T19:51:43.627Z"
   },
   {
    "duration": 926,
    "start_time": "2022-08-04T19:51:55.725Z"
   },
   {
    "duration": 24,
    "start_time": "2022-08-04T19:52:10.697Z"
   },
   {
    "duration": 394,
    "start_time": "2022-08-04T19:52:29.930Z"
   },
   {
    "duration": 295,
    "start_time": "2022-08-04T19:53:20.881Z"
   },
   {
    "duration": 325,
    "start_time": "2022-08-04T19:55:58.669Z"
   },
   {
    "duration": 281,
    "start_time": "2022-08-04T19:58:08.024Z"
   },
   {
    "duration": 14,
    "start_time": "2022-08-04T20:23:00.955Z"
   },
   {
    "duration": 11,
    "start_time": "2022-08-04T20:23:15.818Z"
   },
   {
    "duration": 12,
    "start_time": "2022-08-04T20:24:08.788Z"
   },
   {
    "duration": 4,
    "start_time": "2022-08-04T20:24:30.123Z"
   },
   {
    "duration": 19,
    "start_time": "2022-08-04T20:24:41.121Z"
   },
   {
    "duration": 8,
    "start_time": "2022-08-04T20:25:01.434Z"
   },
   {
    "duration": 7,
    "start_time": "2022-08-04T20:25:33.616Z"
   },
   {
    "duration": 5,
    "start_time": "2022-08-04T20:26:28.883Z"
   },
   {
    "duration": 7,
    "start_time": "2022-08-04T20:27:01.634Z"
   },
   {
    "duration": 9,
    "start_time": "2022-08-04T20:27:04.080Z"
   },
   {
    "duration": 168,
    "start_time": "2022-08-04T20:28:30.345Z"
   },
   {
    "duration": 954,
    "start_time": "2022-08-04T20:28:49.562Z"
   },
   {
    "duration": 160,
    "start_time": "2022-08-04T20:29:15.529Z"
   },
   {
    "duration": 5,
    "start_time": "2022-08-04T20:29:18.251Z"
   },
   {
    "duration": 178,
    "start_time": "2022-08-04T20:29:19.022Z"
   },
   {
    "duration": 16,
    "start_time": "2022-08-04T20:30:41.099Z"
   },
   {
    "duration": 4,
    "start_time": "2022-08-04T20:31:16.385Z"
   },
   {
    "duration": 4,
    "start_time": "2022-08-04T20:31:30.560Z"
   },
   {
    "duration": 7,
    "start_time": "2022-08-04T20:31:30.985Z"
   },
   {
    "duration": 4,
    "start_time": "2022-08-04T20:31:31.424Z"
   },
   {
    "duration": 191,
    "start_time": "2022-08-04T20:31:31.887Z"
   },
   {
    "duration": 258,
    "start_time": "2022-08-04T20:33:53.932Z"
   },
   {
    "duration": 11,
    "start_time": "2022-08-04T20:35:41.977Z"
   },
   {
    "duration": 17,
    "start_time": "2022-08-04T20:35:51.760Z"
   },
   {
    "duration": 9,
    "start_time": "2022-08-04T20:36:28.938Z"
   },
   {
    "duration": 7,
    "start_time": "2022-08-04T20:37:20.426Z"
   },
   {
    "duration": 12,
    "start_time": "2022-08-04T20:37:28.085Z"
   },
   {
    "duration": 9,
    "start_time": "2022-08-04T20:37:54.240Z"
   },
   {
    "duration": 14,
    "start_time": "2022-08-04T20:38:04.966Z"
   },
   {
    "duration": 120,
    "start_time": "2022-08-04T20:39:03.129Z"
   },
   {
    "duration": 6,
    "start_time": "2022-08-04T20:40:47.335Z"
   },
   {
    "duration": 220,
    "start_time": "2022-08-04T20:45:42.052Z"
   },
   {
    "duration": 5,
    "start_time": "2022-08-04T20:46:26.974Z"
   },
   {
    "duration": 7,
    "start_time": "2022-08-04T20:50:41.985Z"
   },
   {
    "duration": 420,
    "start_time": "2022-08-04T20:51:03.892Z"
   },
   {
    "duration": 6,
    "start_time": "2022-08-04T20:51:09.746Z"
   },
   {
    "duration": 5,
    "start_time": "2022-08-04T20:52:55.196Z"
   },
   {
    "duration": 17,
    "start_time": "2022-08-04T21:05:11.444Z"
   },
   {
    "duration": 16,
    "start_time": "2022-08-04T21:06:41.443Z"
   },
   {
    "duration": 12,
    "start_time": "2022-08-04T21:08:57.874Z"
   },
   {
    "duration": 12,
    "start_time": "2022-08-04T21:21:49.773Z"
   },
   {
    "duration": 33,
    "start_time": "2022-08-04T21:22:26.189Z"
   },
   {
    "duration": 10,
    "start_time": "2022-08-04T21:22:30.318Z"
   },
   {
    "duration": 10,
    "start_time": "2022-08-04T21:22:36.043Z"
   },
   {
    "duration": 13,
    "start_time": "2022-08-04T21:26:02.022Z"
   },
   {
    "duration": 9,
    "start_time": "2022-08-04T21:26:39.339Z"
   },
   {
    "duration": 10,
    "start_time": "2022-08-04T21:26:50.074Z"
   },
   {
    "duration": 12,
    "start_time": "2022-08-04T21:28:58.614Z"
   },
   {
    "duration": 11,
    "start_time": "2022-08-04T21:29:54.835Z"
   },
   {
    "duration": 44,
    "start_time": "2022-08-04T21:30:32.682Z"
   },
   {
    "duration": 10,
    "start_time": "2022-08-04T21:31:44.923Z"
   },
   {
    "duration": 9,
    "start_time": "2022-08-04T21:31:56.388Z"
   },
   {
    "duration": 6,
    "start_time": "2022-08-04T21:32:03.523Z"
   },
   {
    "duration": 6,
    "start_time": "2022-08-04T21:35:06.326Z"
   },
   {
    "duration": 8,
    "start_time": "2022-08-04T21:36:33.547Z"
   },
   {
    "duration": 11,
    "start_time": "2022-08-04T21:36:43.377Z"
   },
   {
    "duration": 13,
    "start_time": "2022-08-04T21:36:58.490Z"
   },
   {
    "duration": 11,
    "start_time": "2022-08-04T21:37:13.097Z"
   },
   {
    "duration": 24,
    "start_time": "2022-08-04T21:37:43.525Z"
   },
   {
    "duration": 15,
    "start_time": "2022-08-04T21:39:52.930Z"
   },
   {
    "duration": 16,
    "start_time": "2022-08-04T21:41:30.796Z"
   },
   {
    "duration": 11,
    "start_time": "2022-08-04T21:41:45.601Z"
   },
   {
    "duration": 13,
    "start_time": "2022-08-04T21:42:33.487Z"
   },
   {
    "duration": 10,
    "start_time": "2022-08-04T21:43:35.673Z"
   },
   {
    "duration": 11,
    "start_time": "2022-08-04T21:43:44.457Z"
   },
   {
    "duration": 21,
    "start_time": "2022-08-04T21:44:15.504Z"
   },
   {
    "duration": 12,
    "start_time": "2022-08-04T21:45:43.733Z"
   },
   {
    "duration": 13,
    "start_time": "2022-08-04T21:45:44.173Z"
   },
   {
    "duration": 11,
    "start_time": "2022-08-04T21:45:44.592Z"
   },
   {
    "duration": 25,
    "start_time": "2022-08-04T21:45:45.034Z"
   },
   {
    "duration": 24,
    "start_time": "2022-08-04T21:46:20.048Z"
   },
   {
    "duration": 21,
    "start_time": "2022-08-04T21:46:46.631Z"
   },
   {
    "duration": 15,
    "start_time": "2022-08-04T21:48:32.982Z"
   },
   {
    "duration": 6,
    "start_time": "2022-08-04T21:48:44.098Z"
   },
   {
    "duration": 5,
    "start_time": "2022-08-04T21:48:48.567Z"
   },
   {
    "duration": 15,
    "start_time": "2022-08-04T21:50:26.654Z"
   },
   {
    "duration": 8,
    "start_time": "2022-08-04T21:50:57.480Z"
   },
   {
    "duration": 12,
    "start_time": "2022-08-04T21:51:06.536Z"
   },
   {
    "duration": 14,
    "start_time": "2022-08-04T21:51:37.005Z"
   },
   {
    "duration": 15,
    "start_time": "2022-08-04T21:51:47.352Z"
   },
   {
    "duration": 11,
    "start_time": "2022-08-04T21:52:01.889Z"
   },
   {
    "duration": 21,
    "start_time": "2022-08-04T21:54:11.633Z"
   },
   {
    "duration": 1151,
    "start_time": "2022-08-04T21:55:46.546Z"
   },
   {
    "duration": 29,
    "start_time": "2022-08-04T21:55:47.699Z"
   },
   {
    "duration": 15,
    "start_time": "2022-08-04T21:55:47.730Z"
   },
   {
    "duration": 7,
    "start_time": "2022-08-04T21:55:47.748Z"
   },
   {
    "duration": 12,
    "start_time": "2022-08-04T21:55:47.757Z"
   },
   {
    "duration": 8,
    "start_time": "2022-08-04T21:55:47.770Z"
   },
   {
    "duration": 24,
    "start_time": "2022-08-04T21:55:47.779Z"
   },
   {
    "duration": 9,
    "start_time": "2022-08-04T21:55:47.805Z"
   },
   {
    "duration": 13,
    "start_time": "2022-08-04T21:55:47.815Z"
   },
   {
    "duration": 39,
    "start_time": "2022-08-04T21:55:47.831Z"
   },
   {
    "duration": 17,
    "start_time": "2022-08-04T21:55:47.872Z"
   },
   {
    "duration": 7,
    "start_time": "2022-08-04T21:55:47.890Z"
   },
   {
    "duration": 8,
    "start_time": "2022-08-04T21:55:47.898Z"
   },
   {
    "duration": 21,
    "start_time": "2022-08-04T21:55:47.908Z"
   },
   {
    "duration": 21,
    "start_time": "2022-08-04T21:55:47.931Z"
   },
   {
    "duration": 19,
    "start_time": "2022-08-04T21:55:47.954Z"
   },
   {
    "duration": 41,
    "start_time": "2022-08-04T21:55:47.975Z"
   },
   {
    "duration": 6,
    "start_time": "2022-08-04T21:55:48.018Z"
   },
   {
    "duration": 12,
    "start_time": "2022-08-04T21:55:48.027Z"
   },
   {
    "duration": 299,
    "start_time": "2022-08-04T21:55:48.041Z"
   },
   {
    "duration": 5,
    "start_time": "2022-08-04T21:55:48.342Z"
   },
   {
    "duration": 214,
    "start_time": "2022-08-04T21:55:48.349Z"
   },
   {
    "duration": 139,
    "start_time": "2022-08-04T21:55:48.565Z"
   },
   {
    "duration": 0,
    "start_time": "2022-08-04T21:55:48.706Z"
   },
   {
    "duration": 0,
    "start_time": "2022-08-04T21:55:48.707Z"
   },
   {
    "duration": 0,
    "start_time": "2022-08-04T21:55:48.710Z"
   },
   {
    "duration": 0,
    "start_time": "2022-08-04T21:55:48.712Z"
   },
   {
    "duration": 0,
    "start_time": "2022-08-04T21:55:48.713Z"
   },
   {
    "duration": 0,
    "start_time": "2022-08-04T21:55:48.714Z"
   },
   {
    "duration": 0,
    "start_time": "2022-08-04T21:55:48.716Z"
   },
   {
    "duration": 0,
    "start_time": "2022-08-04T21:55:48.717Z"
   },
   {
    "duration": 0,
    "start_time": "2022-08-04T21:55:48.718Z"
   },
   {
    "duration": 0,
    "start_time": "2022-08-04T21:55:48.719Z"
   },
   {
    "duration": 0,
    "start_time": "2022-08-04T21:55:48.721Z"
   },
   {
    "duration": 0,
    "start_time": "2022-08-04T21:55:48.722Z"
   },
   {
    "duration": 0,
    "start_time": "2022-08-04T21:55:48.723Z"
   },
   {
    "duration": 0,
    "start_time": "2022-08-04T21:55:48.725Z"
   },
   {
    "duration": 0,
    "start_time": "2022-08-04T21:55:48.726Z"
   },
   {
    "duration": 0,
    "start_time": "2022-08-04T21:55:48.727Z"
   },
   {
    "duration": 0,
    "start_time": "2022-08-04T21:55:48.728Z"
   },
   {
    "duration": 0,
    "start_time": "2022-08-04T21:55:48.730Z"
   },
   {
    "duration": 0,
    "start_time": "2022-08-04T21:55:48.731Z"
   },
   {
    "duration": 0,
    "start_time": "2022-08-04T21:55:48.732Z"
   },
   {
    "duration": 0,
    "start_time": "2022-08-04T21:55:48.733Z"
   },
   {
    "duration": 0,
    "start_time": "2022-08-04T21:55:48.734Z"
   },
   {
    "duration": 0,
    "start_time": "2022-08-04T21:55:48.736Z"
   },
   {
    "duration": 0,
    "start_time": "2022-08-04T21:55:48.737Z"
   },
   {
    "duration": 0,
    "start_time": "2022-08-04T21:55:48.739Z"
   },
   {
    "duration": 1,
    "start_time": "2022-08-04T21:55:48.739Z"
   },
   {
    "duration": 0,
    "start_time": "2022-08-04T21:55:48.741Z"
   },
   {
    "duration": 324,
    "start_time": "2022-08-04T21:56:14.996Z"
   },
   {
    "duration": 11,
    "start_time": "2022-08-04T21:56:17.243Z"
   },
   {
    "duration": 9,
    "start_time": "2022-08-04T21:56:17.691Z"
   },
   {
    "duration": 12,
    "start_time": "2022-08-04T21:56:18.194Z"
   },
   {
    "duration": 18,
    "start_time": "2022-08-04T21:56:18.638Z"
   },
   {
    "duration": 5,
    "start_time": "2022-08-04T21:56:19.051Z"
   },
   {
    "duration": 10,
    "start_time": "2022-08-04T21:56:19.493Z"
   },
   {
    "duration": 5,
    "start_time": "2022-08-04T21:56:19.934Z"
   },
   {
    "duration": 223,
    "start_time": "2022-08-04T21:56:20.347Z"
   },
   {
    "duration": 265,
    "start_time": "2022-08-04T21:56:21.244Z"
   },
   {
    "duration": 14,
    "start_time": "2022-08-04T21:56:22.196Z"
   },
   {
    "duration": 141,
    "start_time": "2022-08-04T21:56:22.692Z"
   },
   {
    "duration": 6,
    "start_time": "2022-08-04T21:56:23.639Z"
   },
   {
    "duration": 146,
    "start_time": "2022-08-04T21:56:24.457Z"
   },
   {
    "duration": 6,
    "start_time": "2022-08-04T21:56:25.282Z"
   },
   {
    "duration": 13,
    "start_time": "2022-08-04T21:56:26.042Z"
   },
   {
    "duration": 11,
    "start_time": "2022-08-04T21:56:26.402Z"
   },
   {
    "duration": 10,
    "start_time": "2022-08-04T21:56:27.154Z"
   },
   {
    "duration": 12,
    "start_time": "2022-08-04T21:56:27.537Z"
   },
   {
    "duration": 33,
    "start_time": "2022-08-04T21:56:27.939Z"
   },
   {
    "duration": 15,
    "start_time": "2022-08-04T21:56:29.635Z"
   },
   {
    "duration": 12,
    "start_time": "2022-08-04T21:56:30.410Z"
   },
   {
    "duration": 12,
    "start_time": "2022-08-04T21:56:30.842Z"
   },
   {
    "duration": 12,
    "start_time": "2022-08-04T21:56:31.239Z"
   },
   {
    "duration": 24,
    "start_time": "2022-08-04T21:56:31.579Z"
   },
   {
    "duration": 14,
    "start_time": "2022-08-04T21:56:32.386Z"
   },
   {
    "duration": 25,
    "start_time": "2022-08-04T21:56:32.842Z"
   },
   {
    "duration": 1172,
    "start_time": "2022-08-05T10:11:53.375Z"
   },
   {
    "duration": 66,
    "start_time": "2022-08-05T10:11:54.549Z"
   },
   {
    "duration": 10,
    "start_time": "2022-08-05T10:11:54.617Z"
   },
   {
    "duration": 14,
    "start_time": "2022-08-05T10:11:54.628Z"
   },
   {
    "duration": 28,
    "start_time": "2022-08-05T10:11:54.644Z"
   },
   {
    "duration": 26,
    "start_time": "2022-08-05T10:11:54.673Z"
   },
   {
    "duration": 18,
    "start_time": "2022-08-05T10:11:54.701Z"
   },
   {
    "duration": 39,
    "start_time": "2022-08-05T10:11:54.720Z"
   },
   {
    "duration": 27,
    "start_time": "2022-08-05T10:11:54.761Z"
   },
   {
    "duration": 81,
    "start_time": "2022-08-05T10:11:54.790Z"
   },
   {
    "duration": 52,
    "start_time": "2022-08-05T10:11:54.873Z"
   },
   {
    "duration": 5,
    "start_time": "2022-08-05T10:11:54.927Z"
   },
   {
    "duration": 20,
    "start_time": "2022-08-05T10:11:54.933Z"
   },
   {
    "duration": 22,
    "start_time": "2022-08-05T10:11:54.957Z"
   },
   {
    "duration": 34,
    "start_time": "2022-08-05T10:11:54.981Z"
   },
   {
    "duration": 23,
    "start_time": "2022-08-05T10:11:55.017Z"
   },
   {
    "duration": 21,
    "start_time": "2022-08-05T10:11:55.042Z"
   },
   {
    "duration": 6,
    "start_time": "2022-08-05T10:11:55.065Z"
   },
   {
    "duration": 18,
    "start_time": "2022-08-05T10:11:55.073Z"
   },
   {
    "duration": 236,
    "start_time": "2022-08-05T10:11:55.093Z"
   },
   {
    "duration": 5,
    "start_time": "2022-08-05T10:11:55.331Z"
   },
   {
    "duration": 170,
    "start_time": "2022-08-05T10:11:55.337Z"
   },
   {
    "duration": 309,
    "start_time": "2022-08-05T10:11:55.509Z"
   },
   {
    "duration": 6,
    "start_time": "2022-08-05T10:11:55.820Z"
   },
   {
    "duration": 30,
    "start_time": "2022-08-05T10:11:55.827Z"
   },
   {
    "duration": 18,
    "start_time": "2022-08-05T10:11:55.858Z"
   },
   {
    "duration": 30,
    "start_time": "2022-08-05T10:11:55.878Z"
   },
   {
    "duration": 8,
    "start_time": "2022-08-05T10:11:55.910Z"
   },
   {
    "duration": 209,
    "start_time": "2022-08-05T10:11:55.919Z"
   },
   {
    "duration": 241,
    "start_time": "2022-08-05T10:11:56.129Z"
   },
   {
    "duration": 11,
    "start_time": "2022-08-05T10:11:56.372Z"
   },
   {
    "duration": 130,
    "start_time": "2022-08-05T10:11:56.384Z"
   },
   {
    "duration": 6,
    "start_time": "2022-08-05T10:11:56.515Z"
   },
   {
    "duration": 148,
    "start_time": "2022-08-05T10:11:56.523Z"
   },
   {
    "duration": 5,
    "start_time": "2022-08-05T10:11:56.672Z"
   },
   {
    "duration": 27,
    "start_time": "2022-08-05T10:11:56.678Z"
   },
   {
    "duration": 36,
    "start_time": "2022-08-05T10:11:56.706Z"
   },
   {
    "duration": 12,
    "start_time": "2022-08-05T10:11:56.744Z"
   },
   {
    "duration": 39,
    "start_time": "2022-08-05T10:11:56.757Z"
   },
   {
    "duration": 37,
    "start_time": "2022-08-05T10:11:56.797Z"
   },
   {
    "duration": 9,
    "start_time": "2022-08-05T10:11:56.837Z"
   },
   {
    "duration": 28,
    "start_time": "2022-08-05T10:11:56.847Z"
   },
   {
    "duration": 12,
    "start_time": "2022-08-05T10:11:56.877Z"
   },
   {
    "duration": 27,
    "start_time": "2022-08-05T10:11:56.891Z"
   },
   {
    "duration": 28,
    "start_time": "2022-08-05T10:11:56.920Z"
   },
   {
    "duration": 6,
    "start_time": "2022-08-05T10:11:56.950Z"
   },
   {
    "duration": 33,
    "start_time": "2022-08-05T10:11:56.958Z"
   },
   {
    "duration": 9,
    "start_time": "2022-08-05T10:12:12.786Z"
   },
   {
    "duration": 11,
    "start_time": "2022-08-05T10:12:19.051Z"
   },
   {
    "duration": 1024,
    "start_time": "2022-08-05T10:12:59.802Z"
   },
   {
    "duration": 27,
    "start_time": "2022-08-05T10:13:00.829Z"
   },
   {
    "duration": 11,
    "start_time": "2022-08-05T10:13:00.858Z"
   },
   {
    "duration": 22,
    "start_time": "2022-08-05T10:13:00.872Z"
   },
   {
    "duration": 9,
    "start_time": "2022-08-05T10:13:00.895Z"
   },
   {
    "duration": 25,
    "start_time": "2022-08-05T10:13:00.905Z"
   },
   {
    "duration": 13,
    "start_time": "2022-08-05T10:13:00.931Z"
   },
   {
    "duration": 29,
    "start_time": "2022-08-05T10:13:00.945Z"
   },
   {
    "duration": 24,
    "start_time": "2022-08-05T10:13:00.975Z"
   },
   {
    "duration": 56,
    "start_time": "2022-08-05T10:13:01.002Z"
   },
   {
    "duration": 14,
    "start_time": "2022-08-05T10:13:01.060Z"
   },
   {
    "duration": 11,
    "start_time": "2022-08-05T10:13:01.076Z"
   },
   {
    "duration": 31,
    "start_time": "2022-08-05T10:13:01.088Z"
   },
   {
    "duration": 25,
    "start_time": "2022-08-05T10:13:01.121Z"
   },
   {
    "duration": 26,
    "start_time": "2022-08-05T10:13:01.148Z"
   },
   {
    "duration": 35,
    "start_time": "2022-08-05T10:13:01.176Z"
   },
   {
    "duration": 22,
    "start_time": "2022-08-05T10:13:01.212Z"
   },
   {
    "duration": 42,
    "start_time": "2022-08-05T10:13:01.236Z"
   },
   {
    "duration": 31,
    "start_time": "2022-08-05T10:13:01.279Z"
   },
   {
    "duration": 231,
    "start_time": "2022-08-05T10:13:01.312Z"
   },
   {
    "duration": 4,
    "start_time": "2022-08-05T10:13:01.545Z"
   },
   {
    "duration": 170,
    "start_time": "2022-08-05T10:13:01.550Z"
   },
   {
    "duration": 259,
    "start_time": "2022-08-05T10:13:01.722Z"
   },
   {
    "duration": 7,
    "start_time": "2022-08-05T10:13:01.983Z"
   },
   {
    "duration": 49,
    "start_time": "2022-08-05T10:13:01.991Z"
   },
   {
    "duration": 34,
    "start_time": "2022-08-05T10:13:02.042Z"
   },
   {
    "duration": 24,
    "start_time": "2022-08-05T10:13:02.077Z"
   },
   {
    "duration": 25,
    "start_time": "2022-08-05T10:13:02.104Z"
   },
   {
    "duration": 192,
    "start_time": "2022-08-05T10:13:02.131Z"
   },
   {
    "duration": 243,
    "start_time": "2022-08-05T10:13:02.325Z"
   },
   {
    "duration": 11,
    "start_time": "2022-08-05T10:13:02.570Z"
   },
   {
    "duration": 115,
    "start_time": "2022-08-05T10:13:02.583Z"
   },
   {
    "duration": 6,
    "start_time": "2022-08-05T10:13:02.705Z"
   },
   {
    "duration": 132,
    "start_time": "2022-08-05T10:13:02.712Z"
   },
   {
    "duration": 5,
    "start_time": "2022-08-05T10:13:02.846Z"
   },
   {
    "duration": 22,
    "start_time": "2022-08-05T10:13:02.853Z"
   },
   {
    "duration": 17,
    "start_time": "2022-08-05T10:13:02.877Z"
   },
   {
    "duration": 23,
    "start_time": "2022-08-05T10:13:02.895Z"
   },
   {
    "duration": 33,
    "start_time": "2022-08-05T10:13:02.920Z"
   },
   {
    "duration": 25,
    "start_time": "2022-08-05T10:13:02.955Z"
   },
   {
    "duration": 17,
    "start_time": "2022-08-05T10:13:02.982Z"
   },
   {
    "duration": 13,
    "start_time": "2022-08-05T10:13:03.001Z"
   },
   {
    "duration": 26,
    "start_time": "2022-08-05T10:13:03.016Z"
   },
   {
    "duration": 27,
    "start_time": "2022-08-05T10:13:03.044Z"
   },
   {
    "duration": 22,
    "start_time": "2022-08-05T10:13:03.072Z"
   },
   {
    "duration": 8,
    "start_time": "2022-08-05T10:13:03.095Z"
   },
   {
    "duration": 31,
    "start_time": "2022-08-05T10:13:03.104Z"
   },
   {
    "duration": 9,
    "start_time": "2022-08-05T10:13:13.154Z"
   },
   {
    "duration": 12,
    "start_time": "2022-08-05T10:14:52.569Z"
   },
   {
    "duration": 10,
    "start_time": "2022-08-05T10:16:27.708Z"
   },
   {
    "duration": 47,
    "start_time": "2022-08-05T14:22:42.345Z"
   },
   {
    "duration": 6,
    "start_time": "2022-08-05T14:22:42.924Z"
   },
   {
    "duration": 1329,
    "start_time": "2022-08-05T14:22:44.816Z"
   },
   {
    "duration": 66,
    "start_time": "2022-08-05T14:22:47.345Z"
   },
   {
    "duration": 11,
    "start_time": "2022-08-05T14:22:48.519Z"
   },
   {
    "duration": 8,
    "start_time": "2022-08-05T14:25:28.924Z"
   },
   {
    "duration": 4,
    "start_time": "2022-08-05T14:26:08.703Z"
   },
   {
    "duration": 7,
    "start_time": "2022-08-05T14:26:11.631Z"
   },
   {
    "duration": 6,
    "start_time": "2022-08-05T14:26:12.478Z"
   },
   {
    "duration": 11,
    "start_time": "2022-08-05T14:26:13.082Z"
   },
   {
    "duration": 59,
    "start_time": "2022-08-05T14:26:43.974Z"
   },
   {
    "duration": 8,
    "start_time": "2022-08-05T14:26:47.711Z"
   },
   {
    "duration": 17,
    "start_time": "2022-08-05T14:27:13.627Z"
   },
   {
    "duration": 8,
    "start_time": "2022-08-05T14:27:32.959Z"
   },
   {
    "duration": 6,
    "start_time": "2022-08-05T14:27:53.407Z"
   },
   {
    "duration": 8,
    "start_time": "2022-08-05T14:27:56.023Z"
   },
   {
    "duration": 14,
    "start_time": "2022-08-05T14:28:18.505Z"
   },
   {
    "duration": 6,
    "start_time": "2022-08-05T14:28:23.174Z"
   },
   {
    "duration": 13,
    "start_time": "2022-08-05T14:28:56.904Z"
   },
   {
    "duration": 16,
    "start_time": "2022-08-05T14:29:41.823Z"
   },
   {
    "duration": 9,
    "start_time": "2022-08-05T14:30:09.975Z"
   },
   {
    "duration": 12,
    "start_time": "2022-08-05T14:30:35.829Z"
   },
   {
    "duration": 10,
    "start_time": "2022-08-05T14:33:14.232Z"
   },
   {
    "duration": 2,
    "start_time": "2022-08-05T14:33:21.110Z"
   },
   {
    "duration": 56,
    "start_time": "2022-08-05T14:33:21.553Z"
   },
   {
    "duration": 28,
    "start_time": "2022-08-05T14:33:33.798Z"
   },
   {
    "duration": 9,
    "start_time": "2022-08-05T14:33:42.842Z"
   },
   {
    "duration": 148,
    "start_time": "2022-08-05T14:41:50.836Z"
   },
   {
    "duration": 72,
    "start_time": "2022-08-05T14:42:25.325Z"
   },
   {
    "duration": 45,
    "start_time": "2022-08-05T14:42:29.798Z"
   },
   {
    "duration": 13,
    "start_time": "2022-08-05T14:43:23.602Z"
   },
   {
    "duration": 8,
    "start_time": "2022-08-05T14:43:31.319Z"
   },
   {
    "duration": 29,
    "start_time": "2022-08-05T14:43:51.212Z"
   },
   {
    "duration": 27,
    "start_time": "2022-08-05T14:44:23.004Z"
   },
   {
    "duration": 6,
    "start_time": "2022-08-05T14:45:14.501Z"
   },
   {
    "duration": 5,
    "start_time": "2022-08-05T14:45:15.330Z"
   },
   {
    "duration": 11,
    "start_time": "2022-08-05T14:45:35.805Z"
   },
   {
    "duration": 13,
    "start_time": "2022-08-05T14:46:23.123Z"
   },
   {
    "duration": 9,
    "start_time": "2022-08-05T14:46:47.522Z"
   },
   {
    "duration": 13,
    "start_time": "2022-08-05T14:46:58.892Z"
   },
   {
    "duration": 17,
    "start_time": "2022-08-05T14:47:16.417Z"
   },
   {
    "duration": 11,
    "start_time": "2022-08-05T14:48:01.533Z"
   },
   {
    "duration": 14,
    "start_time": "2022-08-05T14:57:41.785Z"
   },
   {
    "duration": 10,
    "start_time": "2022-08-05T14:59:08.768Z"
   },
   {
    "duration": 11,
    "start_time": "2022-08-05T14:59:35.062Z"
   },
   {
    "duration": 10,
    "start_time": "2022-08-05T15:00:46.430Z"
   },
   {
    "duration": 14,
    "start_time": "2022-08-05T15:02:39.399Z"
   },
   {
    "duration": 5,
    "start_time": "2022-08-05T15:02:54.382Z"
   },
   {
    "duration": 4,
    "start_time": "2022-08-05T15:03:05.033Z"
   },
   {
    "duration": 20,
    "start_time": "2022-08-05T15:05:19.280Z"
   },
   {
    "duration": 1016,
    "start_time": "2022-08-05T15:05:29.231Z"
   },
   {
    "duration": 11,
    "start_time": "2022-08-05T15:05:34.455Z"
   },
   {
    "duration": 17,
    "start_time": "2022-08-05T15:05:45.406Z"
   },
   {
    "duration": 29,
    "start_time": "2022-08-05T15:06:09.843Z"
   },
   {
    "duration": 5,
    "start_time": "2022-08-05T15:06:26.630Z"
   },
   {
    "duration": 5,
    "start_time": "2022-08-05T15:06:33.731Z"
   },
   {
    "duration": 17,
    "start_time": "2022-08-05T15:08:27.610Z"
   },
   {
    "duration": 233,
    "start_time": "2022-08-05T15:08:28.371Z"
   },
   {
    "duration": 149,
    "start_time": "2022-08-05T15:08:58.021Z"
   },
   {
    "duration": 159,
    "start_time": "2022-08-05T15:10:29.075Z"
   },
   {
    "duration": 299,
    "start_time": "2022-08-05T15:12:36.204Z"
   },
   {
    "duration": 309,
    "start_time": "2022-08-05T15:13:12.888Z"
   },
   {
    "duration": 282,
    "start_time": "2022-08-05T15:13:22.568Z"
   },
   {
    "duration": 309,
    "start_time": "2022-08-05T15:14:01.376Z"
   },
   {
    "duration": 204,
    "start_time": "2022-08-05T15:14:22.544Z"
   },
   {
    "duration": 203,
    "start_time": "2022-08-05T15:14:37.900Z"
   },
   {
    "duration": 277,
    "start_time": "2022-08-05T15:14:50.714Z"
   },
   {
    "duration": 217,
    "start_time": "2022-08-05T15:15:33.559Z"
   },
   {
    "duration": 330,
    "start_time": "2022-08-05T15:18:01.749Z"
   },
   {
    "duration": 332,
    "start_time": "2022-08-05T15:18:30.201Z"
   },
   {
    "duration": 923,
    "start_time": "2022-08-05T15:26:00.822Z"
   },
   {
    "duration": 6,
    "start_time": "2022-08-05T15:26:03.445Z"
   },
   {
    "duration": 193,
    "start_time": "2022-08-05T15:26:04.124Z"
   },
   {
    "duration": 59,
    "start_time": "2022-08-05T15:26:37.927Z"
   },
   {
    "duration": 299,
    "start_time": "2022-08-05T15:26:41.270Z"
   },
   {
    "duration": 330,
    "start_time": "2022-08-05T15:27:08.479Z"
   },
   {
    "duration": 18,
    "start_time": "2022-08-05T15:36:57.613Z"
   },
   {
    "duration": 12,
    "start_time": "2022-08-05T15:37:28.803Z"
   },
   {
    "duration": 17,
    "start_time": "2022-08-05T15:38:39.700Z"
   },
   {
    "duration": 13,
    "start_time": "2022-08-05T15:39:02.625Z"
   },
   {
    "duration": 9,
    "start_time": "2022-08-05T15:39:20.577Z"
   },
   {
    "duration": 10,
    "start_time": "2022-08-05T15:40:31.463Z"
   },
   {
    "duration": 12,
    "start_time": "2022-08-05T15:41:28.368Z"
   },
   {
    "duration": 188,
    "start_time": "2022-08-05T15:43:09.338Z"
   },
   {
    "duration": 12,
    "start_time": "2022-08-05T15:43:58.152Z"
   },
   {
    "duration": 10,
    "start_time": "2022-08-05T15:44:09.743Z"
   },
   {
    "duration": 316,
    "start_time": "2022-08-05T15:44:59.654Z"
   },
   {
    "duration": 332,
    "start_time": "2022-08-05T15:46:23.768Z"
   },
   {
    "duration": 319,
    "start_time": "2022-08-05T15:46:39.623Z"
   },
   {
    "duration": 432,
    "start_time": "2022-08-05T15:48:02.190Z"
   },
   {
    "duration": 241,
    "start_time": "2022-08-05T15:48:13.271Z"
   },
   {
    "duration": 153,
    "start_time": "2022-08-05T15:48:26.351Z"
   },
   {
    "duration": 261,
    "start_time": "2022-08-05T15:48:34.280Z"
   },
   {
    "duration": 433,
    "start_time": "2022-08-05T15:50:00.509Z"
   },
   {
    "duration": 449,
    "start_time": "2022-08-05T15:50:35.970Z"
   },
   {
    "duration": 18,
    "start_time": "2022-08-05T15:57:02.105Z"
   },
   {
    "duration": 17,
    "start_time": "2022-08-05T15:57:23.622Z"
   },
   {
    "duration": 11,
    "start_time": "2022-08-05T15:57:30.629Z"
   },
   {
    "duration": 201,
    "start_time": "2022-08-05T15:57:45.951Z"
   },
   {
    "duration": 359,
    "start_time": "2022-08-05T15:58:47.495Z"
   },
   {
    "duration": 445,
    "start_time": "2022-08-05T16:05:12.549Z"
   },
   {
    "duration": 165,
    "start_time": "2022-08-05T16:08:47.599Z"
   },
   {
    "duration": 128,
    "start_time": "2022-08-05T16:08:53.108Z"
   },
   {
    "duration": 228,
    "start_time": "2022-08-05T16:10:11.057Z"
   },
   {
    "duration": 195,
    "start_time": "2022-08-05T16:14:12.999Z"
   },
   {
    "duration": 127,
    "start_time": "2022-08-05T16:14:19.249Z"
   },
   {
    "duration": 6,
    "start_time": "2022-08-05T16:15:20.843Z"
   },
   {
    "duration": 117,
    "start_time": "2022-08-05T16:17:41.953Z"
   },
   {
    "duration": 127,
    "start_time": "2022-08-05T16:18:31.257Z"
   },
   {
    "duration": 5,
    "start_time": "2022-08-05T16:20:01.353Z"
   },
   {
    "duration": 9,
    "start_time": "2022-08-05T16:23:28.386Z"
   },
   {
    "duration": 10,
    "start_time": "2022-08-05T16:23:29.382Z"
   },
   {
    "duration": 9,
    "start_time": "2022-08-05T16:23:57.937Z"
   },
   {
    "duration": 10,
    "start_time": "2022-08-05T16:24:10.392Z"
   },
   {
    "duration": 13,
    "start_time": "2022-08-05T16:24:37.207Z"
   },
   {
    "duration": 12,
    "start_time": "2022-08-05T16:25:53.035Z"
   },
   {
    "duration": 23,
    "start_time": "2022-08-05T16:25:57.624Z"
   },
   {
    "duration": 31,
    "start_time": "2022-08-05T16:30:12.938Z"
   },
   {
    "duration": 34,
    "start_time": "2022-08-05T16:31:17.801Z"
   },
   {
    "duration": 32,
    "start_time": "2022-08-05T16:32:04.431Z"
   },
   {
    "duration": 23,
    "start_time": "2022-08-05T16:32:31.846Z"
   },
   {
    "duration": 30,
    "start_time": "2022-08-05T16:32:36.218Z"
   },
   {
    "duration": 56,
    "start_time": "2022-08-05T16:33:05.623Z"
   },
   {
    "duration": 54,
    "start_time": "2022-08-05T16:33:17.962Z"
   },
   {
    "duration": 44,
    "start_time": "2022-08-05T16:33:57.824Z"
   },
   {
    "duration": 12,
    "start_time": "2022-08-05T16:38:08.396Z"
   },
   {
    "duration": 10,
    "start_time": "2022-08-05T16:39:27.020Z"
   },
   {
    "duration": 38,
    "start_time": "2022-08-05T16:39:54.806Z"
   },
   {
    "duration": 12,
    "start_time": "2022-08-05T16:40:43.908Z"
   },
   {
    "duration": 15,
    "start_time": "2022-08-05T16:40:48.978Z"
   },
   {
    "duration": 14,
    "start_time": "2022-08-05T16:42:08.282Z"
   },
   {
    "duration": 15,
    "start_time": "2022-08-05T16:47:11.806Z"
   },
   {
    "duration": 11,
    "start_time": "2022-08-05T16:47:12.994Z"
   },
   {
    "duration": 10,
    "start_time": "2022-08-05T16:47:17.586Z"
   },
   {
    "duration": 24,
    "start_time": "2022-08-05T16:47:18.222Z"
   },
   {
    "duration": 58,
    "start_time": "2022-08-05T16:49:12.126Z"
   },
   {
    "duration": 60,
    "start_time": "2022-08-05T16:49:28.027Z"
   },
   {
    "duration": 32,
    "start_time": "2022-08-05T16:51:20.750Z"
   },
   {
    "duration": 11,
    "start_time": "2022-08-05T16:51:21.482Z"
   },
   {
    "duration": 10,
    "start_time": "2022-08-05T16:51:49.815Z"
   },
   {
    "duration": 11,
    "start_time": "2022-08-05T16:51:50.733Z"
   },
   {
    "duration": 9,
    "start_time": "2022-08-05T16:51:51.294Z"
   },
   {
    "duration": 39,
    "start_time": "2022-08-05T16:51:52.620Z"
   },
   {
    "duration": 40,
    "start_time": "2022-08-05T16:52:09.430Z"
   },
   {
    "duration": 8,
    "start_time": "2022-08-05T16:56:47.574Z"
   },
   {
    "duration": 5,
    "start_time": "2022-08-05T16:56:56.861Z"
   },
   {
    "duration": 10,
    "start_time": "2022-08-05T16:57:31.220Z"
   },
   {
    "duration": 5,
    "start_time": "2022-08-05T16:58:03.451Z"
   },
   {
    "duration": 17,
    "start_time": "2022-08-05T17:00:13.407Z"
   },
   {
    "duration": 24,
    "start_time": "2022-08-05T17:01:39.543Z"
   },
   {
    "duration": 21,
    "start_time": "2022-08-05T17:02:31.397Z"
   },
   {
    "duration": 15,
    "start_time": "2022-08-05T17:20:15.257Z"
   },
   {
    "duration": 709,
    "start_time": "2022-08-05T17:20:33.137Z"
   },
   {
    "duration": 5,
    "start_time": "2022-08-05T17:21:01.289Z"
   },
   {
    "duration": 13,
    "start_time": "2022-08-05T17:21:13.136Z"
   },
   {
    "duration": 860,
    "start_time": "2022-08-05T17:22:52.106Z"
   },
   {
    "duration": 10,
    "start_time": "2022-08-05T17:23:58.130Z"
   },
   {
    "duration": 30,
    "start_time": "2022-08-05T17:34:30.927Z"
   },
   {
    "duration": 344,
    "start_time": "2022-08-05T17:35:09.311Z"
   },
   {
    "duration": 342,
    "start_time": "2022-08-05T17:35:25.428Z"
   },
   {
    "duration": 5,
    "start_time": "2022-08-05T17:38:16.456Z"
   },
   {
    "duration": 338,
    "start_time": "2022-08-05T17:39:30.998Z"
   },
   {
    "duration": 469,
    "start_time": "2022-08-05T17:41:42.272Z"
   },
   {
    "duration": 551,
    "start_time": "2022-08-05T17:41:56.847Z"
   },
   {
    "duration": 1155,
    "start_time": "2022-08-05T17:57:59.833Z"
   },
   {
    "duration": 34,
    "start_time": "2022-08-05T17:58:00.990Z"
   },
   {
    "duration": 19,
    "start_time": "2022-08-05T17:58:01.026Z"
   },
   {
    "duration": 7,
    "start_time": "2022-08-05T17:58:01.047Z"
   },
   {
    "duration": 36,
    "start_time": "2022-08-05T17:58:01.057Z"
   },
   {
    "duration": 24,
    "start_time": "2022-08-05T17:58:01.096Z"
   },
   {
    "duration": 23,
    "start_time": "2022-08-05T17:58:01.123Z"
   },
   {
    "duration": 21,
    "start_time": "2022-08-05T17:58:01.148Z"
   },
   {
    "duration": 20,
    "start_time": "2022-08-05T17:58:01.171Z"
   },
   {
    "duration": 91,
    "start_time": "2022-08-05T17:58:01.193Z"
   },
   {
    "duration": 59,
    "start_time": "2022-08-05T17:58:01.286Z"
   },
   {
    "duration": 8,
    "start_time": "2022-08-05T17:58:01.348Z"
   },
   {
    "duration": 51,
    "start_time": "2022-08-05T17:58:01.359Z"
   },
   {
    "duration": 23,
    "start_time": "2022-08-05T17:58:01.415Z"
   },
   {
    "duration": 5,
    "start_time": "2022-08-05T17:58:01.440Z"
   },
   {
    "duration": 14,
    "start_time": "2022-08-05T17:58:01.447Z"
   },
   {
    "duration": 48,
    "start_time": "2022-08-05T17:58:01.462Z"
   },
   {
    "duration": 35,
    "start_time": "2022-08-05T17:58:01.512Z"
   },
   {
    "duration": 40,
    "start_time": "2022-08-05T17:58:01.550Z"
   },
   {
    "duration": 48,
    "start_time": "2022-08-05T17:58:01.592Z"
   },
   {
    "duration": 676,
    "start_time": "2022-08-05T17:58:01.643Z"
   },
   {
    "duration": 8,
    "start_time": "2022-08-05T17:58:02.322Z"
   },
   {
    "duration": 344,
    "start_time": "2022-08-05T17:58:02.332Z"
   },
   {
    "duration": 14,
    "start_time": "2022-08-05T17:58:02.678Z"
   },
   {
    "duration": 472,
    "start_time": "2022-08-05T17:58:02.710Z"
   },
   {
    "duration": 29,
    "start_time": "2022-08-05T17:58:03.185Z"
   },
   {
    "duration": 349,
    "start_time": "2022-08-05T17:58:03.216Z"
   },
   {
    "duration": 589,
    "start_time": "2022-08-05T17:58:03.566Z"
   },
   {
    "duration": 234,
    "start_time": "2022-08-05T17:58:04.158Z"
   },
   {
    "duration": 14,
    "start_time": "2022-08-05T17:58:04.395Z"
   },
   {
    "duration": 208,
    "start_time": "2022-08-05T17:58:04.412Z"
   },
   {
    "duration": 8,
    "start_time": "2022-08-05T17:58:04.622Z"
   },
   {
    "duration": 15,
    "start_time": "2022-08-05T17:58:04.632Z"
   },
   {
    "duration": 11,
    "start_time": "2022-08-05T17:58:04.650Z"
   },
   {
    "duration": 51,
    "start_time": "2022-08-05T17:58:04.664Z"
   },
   {
    "duration": 71,
    "start_time": "2022-08-05T17:58:04.718Z"
   },
   {
    "duration": 31,
    "start_time": "2022-08-05T17:58:04.791Z"
   },
   {
    "duration": 14,
    "start_time": "2022-08-05T17:58:04.825Z"
   },
   {
    "duration": 29,
    "start_time": "2022-08-05T17:58:04.840Z"
   },
   {
    "duration": 41,
    "start_time": "2022-08-05T17:58:04.871Z"
   },
   {
    "duration": 47,
    "start_time": "2022-08-05T17:58:04.916Z"
   },
   {
    "duration": 8,
    "start_time": "2022-08-05T17:58:04.965Z"
   },
   {
    "duration": 178,
    "start_time": "2022-08-05T17:58:04.975Z"
   },
   {
    "duration": 0,
    "start_time": "2022-08-05T17:58:05.157Z"
   },
   {
    "duration": 0,
    "start_time": "2022-08-05T17:58:05.159Z"
   },
   {
    "duration": 0,
    "start_time": "2022-08-05T17:58:05.160Z"
   },
   {
    "duration": 0,
    "start_time": "2022-08-05T17:58:05.161Z"
   },
   {
    "duration": 0,
    "start_time": "2022-08-05T17:58:05.162Z"
   },
   {
    "duration": 10,
    "start_time": "2022-08-05T18:01:18.738Z"
   },
   {
    "duration": 17,
    "start_time": "2022-08-05T18:01:19.396Z"
   },
   {
    "duration": 20,
    "start_time": "2022-08-05T18:01:24.976Z"
   },
   {
    "duration": 327,
    "start_time": "2022-08-05T18:01:25.434Z"
   },
   {
    "duration": 6,
    "start_time": "2022-08-05T18:01:25.905Z"
   },
   {
    "duration": 469,
    "start_time": "2022-08-05T18:01:26.877Z"
   },
   {
    "duration": 453,
    "start_time": "2022-08-05T18:01:27.699Z"
   },
   {
    "duration": 1146,
    "start_time": "2022-08-05T18:01:39.428Z"
   },
   {
    "duration": 31,
    "start_time": "2022-08-05T18:01:40.576Z"
   },
   {
    "duration": 16,
    "start_time": "2022-08-05T18:01:40.610Z"
   },
   {
    "duration": 13,
    "start_time": "2022-08-05T18:01:40.628Z"
   },
   {
    "duration": 9,
    "start_time": "2022-08-05T18:01:40.642Z"
   },
   {
    "duration": 21,
    "start_time": "2022-08-05T18:01:40.652Z"
   },
   {
    "duration": 8,
    "start_time": "2022-08-05T18:01:40.674Z"
   },
   {
    "duration": 26,
    "start_time": "2022-08-05T18:01:40.684Z"
   },
   {
    "duration": 33,
    "start_time": "2022-08-05T18:01:40.712Z"
   },
   {
    "duration": 44,
    "start_time": "2022-08-05T18:01:40.749Z"
   },
   {
    "duration": 18,
    "start_time": "2022-08-05T18:01:40.795Z"
   },
   {
    "duration": 8,
    "start_time": "2022-08-05T18:01:40.815Z"
   },
   {
    "duration": 45,
    "start_time": "2022-08-05T18:01:40.825Z"
   },
   {
    "duration": 50,
    "start_time": "2022-08-05T18:01:40.872Z"
   },
   {
    "duration": 5,
    "start_time": "2022-08-05T18:01:40.924Z"
   },
   {
    "duration": 8,
    "start_time": "2022-08-05T18:01:40.931Z"
   },
   {
    "duration": 15,
    "start_time": "2022-08-05T18:01:40.941Z"
   },
   {
    "duration": 51,
    "start_time": "2022-08-05T18:01:40.958Z"
   },
   {
    "duration": 6,
    "start_time": "2022-08-05T18:01:41.012Z"
   },
   {
    "duration": 24,
    "start_time": "2022-08-05T18:01:41.020Z"
   },
   {
    "duration": 410,
    "start_time": "2022-08-05T18:01:41.046Z"
   },
   {
    "duration": 6,
    "start_time": "2022-08-05T18:01:41.458Z"
   },
   {
    "duration": 392,
    "start_time": "2022-08-05T18:01:41.466Z"
   },
   {
    "duration": 14,
    "start_time": "2022-08-05T18:01:41.860Z"
   },
   {
    "duration": 456,
    "start_time": "2022-08-05T18:01:41.876Z"
   },
   {
    "duration": 17,
    "start_time": "2022-08-05T18:01:42.334Z"
   },
   {
    "duration": 391,
    "start_time": "2022-08-05T18:01:42.352Z"
   },
   {
    "duration": 491,
    "start_time": "2022-08-05T18:01:42.747Z"
   },
   {
    "duration": 182,
    "start_time": "2022-08-05T18:01:43.240Z"
   },
   {
    "duration": 5,
    "start_time": "2022-08-05T18:01:43.424Z"
   },
   {
    "duration": 161,
    "start_time": "2022-08-05T18:01:43.431Z"
   },
   {
    "duration": 7,
    "start_time": "2022-08-05T18:01:43.594Z"
   },
   {
    "duration": 15,
    "start_time": "2022-08-05T18:01:43.610Z"
   },
   {
    "duration": 20,
    "start_time": "2022-08-05T18:01:43.627Z"
   },
   {
    "duration": 12,
    "start_time": "2022-08-05T18:01:43.649Z"
   },
   {
    "duration": 64,
    "start_time": "2022-08-05T18:01:43.663Z"
   },
   {
    "duration": 19,
    "start_time": "2022-08-05T18:01:43.729Z"
   },
   {
    "duration": 9,
    "start_time": "2022-08-05T18:01:43.750Z"
   },
   {
    "duration": 9,
    "start_time": "2022-08-05T18:01:43.761Z"
   },
   {
    "duration": 41,
    "start_time": "2022-08-05T18:01:43.772Z"
   },
   {
    "duration": 45,
    "start_time": "2022-08-05T18:01:43.815Z"
   },
   {
    "duration": 8,
    "start_time": "2022-08-05T18:01:43.862Z"
   },
   {
    "duration": 147,
    "start_time": "2022-08-05T18:01:43.872Z"
   },
   {
    "duration": 0,
    "start_time": "2022-08-05T18:01:44.022Z"
   },
   {
    "duration": 0,
    "start_time": "2022-08-05T18:01:44.024Z"
   },
   {
    "duration": 0,
    "start_time": "2022-08-05T18:01:44.025Z"
   },
   {
    "duration": 0,
    "start_time": "2022-08-05T18:01:44.027Z"
   },
   {
    "duration": 0,
    "start_time": "2022-08-05T18:01:44.028Z"
   },
   {
    "duration": 47,
    "start_time": "2022-08-05T18:01:58.172Z"
   },
   {
    "duration": 21,
    "start_time": "2022-08-05T18:02:24.100Z"
   },
   {
    "duration": 1102,
    "start_time": "2022-08-05T18:02:30.571Z"
   },
   {
    "duration": 33,
    "start_time": "2022-08-05T18:02:31.675Z"
   },
   {
    "duration": 15,
    "start_time": "2022-08-05T18:02:31.710Z"
   },
   {
    "duration": 30,
    "start_time": "2022-08-05T18:02:31.728Z"
   },
   {
    "duration": 18,
    "start_time": "2022-08-05T18:02:31.759Z"
   },
   {
    "duration": 14,
    "start_time": "2022-08-05T18:02:31.779Z"
   },
   {
    "duration": 13,
    "start_time": "2022-08-05T18:02:31.795Z"
   },
   {
    "duration": 26,
    "start_time": "2022-08-05T18:02:31.810Z"
   },
   {
    "duration": 15,
    "start_time": "2022-08-05T18:02:31.837Z"
   },
   {
    "duration": 40,
    "start_time": "2022-08-05T18:02:31.854Z"
   },
   {
    "duration": 19,
    "start_time": "2022-08-05T18:02:31.895Z"
   },
   {
    "duration": 27,
    "start_time": "2022-08-05T18:02:31.917Z"
   },
   {
    "duration": 29,
    "start_time": "2022-08-05T18:02:31.946Z"
   },
   {
    "duration": 37,
    "start_time": "2022-08-05T18:02:31.977Z"
   },
   {
    "duration": 10,
    "start_time": "2022-08-05T18:02:32.016Z"
   },
   {
    "duration": 33,
    "start_time": "2022-08-05T18:02:32.028Z"
   },
   {
    "duration": 12,
    "start_time": "2022-08-05T18:02:32.063Z"
   },
   {
    "duration": 8,
    "start_time": "2022-08-05T18:02:32.076Z"
   },
   {
    "duration": 9,
    "start_time": "2022-08-05T18:02:32.085Z"
   },
   {
    "duration": 29,
    "start_time": "2022-08-05T18:02:32.096Z"
   },
   {
    "duration": 425,
    "start_time": "2022-08-05T18:02:32.127Z"
   },
   {
    "duration": 5,
    "start_time": "2022-08-05T18:02:32.554Z"
   },
   {
    "duration": 349,
    "start_time": "2022-08-05T18:02:32.560Z"
   },
   {
    "duration": 16,
    "start_time": "2022-08-05T18:02:32.911Z"
   },
   {
    "duration": 446,
    "start_time": "2022-08-05T18:02:32.929Z"
   },
   {
    "duration": 16,
    "start_time": "2022-08-05T18:02:33.377Z"
   },
   {
    "duration": 350,
    "start_time": "2022-08-05T18:02:33.408Z"
   },
   {
    "duration": 491,
    "start_time": "2022-08-05T18:02:33.761Z"
   },
   {
    "duration": 180,
    "start_time": "2022-08-05T18:02:34.254Z"
   },
   {
    "duration": 6,
    "start_time": "2022-08-05T18:02:34.437Z"
   },
   {
    "duration": 182,
    "start_time": "2022-08-05T18:02:34.445Z"
   },
   {
    "duration": 6,
    "start_time": "2022-08-05T18:02:34.629Z"
   },
   {
    "duration": 44,
    "start_time": "2022-08-05T18:02:34.637Z"
   },
   {
    "duration": 33,
    "start_time": "2022-08-05T18:02:34.683Z"
   },
   {
    "duration": 33,
    "start_time": "2022-08-05T18:02:34.719Z"
   },
   {
    "duration": 81,
    "start_time": "2022-08-05T18:02:34.754Z"
   },
   {
    "duration": 15,
    "start_time": "2022-08-05T18:02:34.837Z"
   },
   {
    "duration": 37,
    "start_time": "2022-08-05T18:02:34.854Z"
   },
   {
    "duration": 43,
    "start_time": "2022-08-05T18:02:34.893Z"
   },
   {
    "duration": 20,
    "start_time": "2022-08-05T18:02:34.938Z"
   },
   {
    "duration": 58,
    "start_time": "2022-08-05T18:02:34.960Z"
   },
   {
    "duration": 14,
    "start_time": "2022-08-05T18:02:35.023Z"
   },
   {
    "duration": 45,
    "start_time": "2022-08-05T18:02:35.038Z"
   },
   {
    "duration": 162,
    "start_time": "2022-08-05T18:02:35.086Z"
   },
   {
    "duration": 0,
    "start_time": "2022-08-05T18:02:35.251Z"
   },
   {
    "duration": 0,
    "start_time": "2022-08-05T18:02:35.252Z"
   },
   {
    "duration": 0,
    "start_time": "2022-08-05T18:02:35.253Z"
   },
   {
    "duration": 0,
    "start_time": "2022-08-05T18:02:35.254Z"
   },
   {
    "duration": 20,
    "start_time": "2022-08-05T18:03:06.283Z"
   },
   {
    "duration": 1136,
    "start_time": "2022-08-05T18:03:13.644Z"
   },
   {
    "duration": 29,
    "start_time": "2022-08-05T18:03:14.782Z"
   },
   {
    "duration": 14,
    "start_time": "2022-08-05T18:03:14.813Z"
   },
   {
    "duration": 11,
    "start_time": "2022-08-05T18:03:14.829Z"
   },
   {
    "duration": 6,
    "start_time": "2022-08-05T18:03:14.843Z"
   },
   {
    "duration": 16,
    "start_time": "2022-08-05T18:03:14.851Z"
   },
   {
    "duration": 43,
    "start_time": "2022-08-05T18:03:14.870Z"
   },
   {
    "duration": 20,
    "start_time": "2022-08-05T18:03:14.915Z"
   },
   {
    "duration": 16,
    "start_time": "2022-08-05T18:03:14.937Z"
   },
   {
    "duration": 46,
    "start_time": "2022-08-05T18:03:14.955Z"
   },
   {
    "duration": 19,
    "start_time": "2022-08-05T18:03:15.003Z"
   },
   {
    "duration": 24,
    "start_time": "2022-08-05T18:03:15.024Z"
   },
   {
    "duration": 35,
    "start_time": "2022-08-05T18:03:15.050Z"
   },
   {
    "duration": 25,
    "start_time": "2022-08-05T18:03:15.089Z"
   },
   {
    "duration": 6,
    "start_time": "2022-08-05T18:03:15.115Z"
   },
   {
    "duration": 8,
    "start_time": "2022-08-05T18:03:15.123Z"
   },
   {
    "duration": 17,
    "start_time": "2022-08-05T18:03:15.133Z"
   },
   {
    "duration": 9,
    "start_time": "2022-08-05T18:03:15.152Z"
   },
   {
    "duration": 6,
    "start_time": "2022-08-05T18:03:15.164Z"
   },
   {
    "duration": 24,
    "start_time": "2022-08-05T18:03:15.210Z"
   },
   {
    "duration": 439,
    "start_time": "2022-08-05T18:03:15.236Z"
   },
   {
    "duration": 7,
    "start_time": "2022-08-05T18:03:15.677Z"
   },
   {
    "duration": 443,
    "start_time": "2022-08-05T18:03:15.687Z"
   },
   {
    "duration": 14,
    "start_time": "2022-08-05T18:03:16.132Z"
   },
   {
    "duration": 425,
    "start_time": "2022-08-05T18:03:16.149Z"
   },
   {
    "duration": 18,
    "start_time": "2022-08-05T18:03:16.576Z"
   },
   {
    "duration": 378,
    "start_time": "2022-08-05T18:03:16.596Z"
   },
   {
    "duration": 519,
    "start_time": "2022-08-05T18:03:16.976Z"
   },
   {
    "duration": 160,
    "start_time": "2022-08-05T18:03:17.498Z"
   },
   {
    "duration": 5,
    "start_time": "2022-08-05T18:03:17.659Z"
   },
   {
    "duration": 160,
    "start_time": "2022-08-05T18:03:17.666Z"
   },
   {
    "duration": 5,
    "start_time": "2022-08-05T18:03:17.827Z"
   },
   {
    "duration": 10,
    "start_time": "2022-08-05T18:03:17.835Z"
   },
   {
    "duration": 10,
    "start_time": "2022-08-05T18:03:17.846Z"
   },
   {
    "duration": 10,
    "start_time": "2022-08-05T18:03:17.857Z"
   },
   {
    "duration": 80,
    "start_time": "2022-08-05T18:03:17.869Z"
   },
   {
    "duration": 15,
    "start_time": "2022-08-05T18:03:17.951Z"
   },
   {
    "duration": 10,
    "start_time": "2022-08-05T18:03:17.967Z"
   },
   {
    "duration": 35,
    "start_time": "2022-08-05T18:03:17.979Z"
   },
   {
    "duration": 10,
    "start_time": "2022-08-05T18:03:18.016Z"
   },
   {
    "duration": 58,
    "start_time": "2022-08-05T18:03:18.029Z"
   },
   {
    "duration": 20,
    "start_time": "2022-08-05T18:03:18.089Z"
   },
   {
    "duration": 19,
    "start_time": "2022-08-05T18:03:18.111Z"
   },
   {
    "duration": 20,
    "start_time": "2022-08-05T18:03:18.132Z"
   },
   {
    "duration": 361,
    "start_time": "2022-08-05T18:03:18.154Z"
   },
   {
    "duration": 5,
    "start_time": "2022-08-05T18:03:18.516Z"
   },
   {
    "duration": 418,
    "start_time": "2022-08-05T18:03:18.523Z"
   },
   {
    "duration": 413,
    "start_time": "2022-08-05T18:03:18.942Z"
   },
   {
    "duration": 1214,
    "start_time": "2022-08-05T18:39:18.724Z"
   },
   {
    "duration": 65,
    "start_time": "2022-08-05T18:39:19.940Z"
   },
   {
    "duration": 15,
    "start_time": "2022-08-05T18:39:20.007Z"
   },
   {
    "duration": 11,
    "start_time": "2022-08-05T18:39:20.024Z"
   },
   {
    "duration": 8,
    "start_time": "2022-08-05T18:39:20.037Z"
   },
   {
    "duration": 25,
    "start_time": "2022-08-05T18:39:20.047Z"
   },
   {
    "duration": 14,
    "start_time": "2022-08-05T18:39:20.073Z"
   },
   {
    "duration": 13,
    "start_time": "2022-08-05T18:39:20.089Z"
   },
   {
    "duration": 13,
    "start_time": "2022-08-05T18:39:20.103Z"
   },
   {
    "duration": 88,
    "start_time": "2022-08-05T18:39:20.118Z"
   },
   {
    "duration": 53,
    "start_time": "2022-08-05T18:39:20.208Z"
   },
   {
    "duration": 5,
    "start_time": "2022-08-05T18:39:20.262Z"
   },
   {
    "duration": 29,
    "start_time": "2022-08-05T18:39:20.269Z"
   },
   {
    "duration": 20,
    "start_time": "2022-08-05T18:39:20.299Z"
   },
   {
    "duration": 5,
    "start_time": "2022-08-05T18:39:20.320Z"
   },
   {
    "duration": 13,
    "start_time": "2022-08-05T18:39:20.327Z"
   },
   {
    "duration": 18,
    "start_time": "2022-08-05T18:39:20.342Z"
   },
   {
    "duration": 26,
    "start_time": "2022-08-05T18:39:20.361Z"
   },
   {
    "duration": 5,
    "start_time": "2022-08-05T18:39:20.389Z"
   },
   {
    "duration": 19,
    "start_time": "2022-08-05T18:39:20.396Z"
   },
   {
    "duration": 411,
    "start_time": "2022-08-05T18:39:20.417Z"
   },
   {
    "duration": 5,
    "start_time": "2022-08-05T18:39:20.830Z"
   },
   {
    "duration": 350,
    "start_time": "2022-08-05T18:39:20.837Z"
   },
   {
    "duration": 14,
    "start_time": "2022-08-05T18:39:21.189Z"
   },
   {
    "duration": 451,
    "start_time": "2022-08-05T18:39:21.204Z"
   },
   {
    "duration": 17,
    "start_time": "2022-08-05T18:39:21.657Z"
   },
   {
    "duration": 319,
    "start_time": "2022-08-05T18:39:21.675Z"
   },
   {
    "duration": 423,
    "start_time": "2022-08-05T18:39:21.997Z"
   },
   {
    "duration": 148,
    "start_time": "2022-08-05T18:39:22.422Z"
   },
   {
    "duration": 14,
    "start_time": "2022-08-05T18:39:22.573Z"
   },
   {
    "duration": 133,
    "start_time": "2022-08-05T18:39:22.588Z"
   },
   {
    "duration": 5,
    "start_time": "2022-08-05T18:39:22.723Z"
   },
   {
    "duration": 11,
    "start_time": "2022-08-05T18:39:22.729Z"
   },
   {
    "duration": 9,
    "start_time": "2022-08-05T18:39:22.741Z"
   },
   {
    "duration": 11,
    "start_time": "2022-08-05T18:39:22.752Z"
   },
   {
    "duration": 63,
    "start_time": "2022-08-05T18:39:22.766Z"
   },
   {
    "duration": 15,
    "start_time": "2022-08-05T18:39:22.831Z"
   },
   {
    "duration": 39,
    "start_time": "2022-08-05T18:39:22.848Z"
   },
   {
    "duration": 12,
    "start_time": "2022-08-05T18:39:22.889Z"
   },
   {
    "duration": 10,
    "start_time": "2022-08-05T18:39:22.903Z"
   },
   {
    "duration": 52,
    "start_time": "2022-08-05T18:39:22.915Z"
   },
   {
    "duration": 23,
    "start_time": "2022-08-05T18:39:22.969Z"
   },
   {
    "duration": 25,
    "start_time": "2022-08-05T18:39:22.993Z"
   },
   {
    "duration": 35,
    "start_time": "2022-08-05T18:39:23.020Z"
   },
   {
    "duration": 341,
    "start_time": "2022-08-05T18:39:23.057Z"
   },
   {
    "duration": 6,
    "start_time": "2022-08-05T18:39:23.400Z"
   },
   {
    "duration": 394,
    "start_time": "2022-08-05T18:39:23.409Z"
   },
   {
    "duration": 411,
    "start_time": "2022-08-05T18:39:23.805Z"
   },
   {
    "duration": 65,
    "start_time": "2022-08-05T19:43:04.566Z"
   },
   {
    "duration": 1264,
    "start_time": "2022-08-05T19:43:11.690Z"
   },
   {
    "duration": 64,
    "start_time": "2022-08-05T19:43:12.956Z"
   },
   {
    "duration": 13,
    "start_time": "2022-08-05T19:43:13.022Z"
   },
   {
    "duration": 6,
    "start_time": "2022-08-05T19:43:13.038Z"
   },
   {
    "duration": 6,
    "start_time": "2022-08-05T19:43:13.046Z"
   },
   {
    "duration": 14,
    "start_time": "2022-08-05T19:43:13.054Z"
   },
   {
    "duration": 9,
    "start_time": "2022-08-05T19:43:13.070Z"
   },
   {
    "duration": 17,
    "start_time": "2022-08-05T19:43:13.081Z"
   },
   {
    "duration": 13,
    "start_time": "2022-08-05T19:43:13.100Z"
   },
   {
    "duration": 141,
    "start_time": "2022-08-05T19:43:13.117Z"
   },
   {
    "duration": 1,
    "start_time": "2022-08-05T19:43:13.260Z"
   },
   {
    "duration": 0,
    "start_time": "2022-08-05T19:43:13.262Z"
   },
   {
    "duration": 0,
    "start_time": "2022-08-05T19:43:13.263Z"
   },
   {
    "duration": 0,
    "start_time": "2022-08-05T19:43:13.265Z"
   },
   {
    "duration": 0,
    "start_time": "2022-08-05T19:43:13.266Z"
   },
   {
    "duration": 0,
    "start_time": "2022-08-05T19:43:13.267Z"
   },
   {
    "duration": 0,
    "start_time": "2022-08-05T19:43:13.269Z"
   },
   {
    "duration": 0,
    "start_time": "2022-08-05T19:43:13.270Z"
   },
   {
    "duration": 0,
    "start_time": "2022-08-05T19:43:13.272Z"
   },
   {
    "duration": 0,
    "start_time": "2022-08-05T19:43:13.299Z"
   },
   {
    "duration": 0,
    "start_time": "2022-08-05T19:43:13.300Z"
   },
   {
    "duration": 0,
    "start_time": "2022-08-05T19:43:13.303Z"
   },
   {
    "duration": 0,
    "start_time": "2022-08-05T19:43:13.306Z"
   },
   {
    "duration": 0,
    "start_time": "2022-08-05T19:43:13.307Z"
   },
   {
    "duration": 0,
    "start_time": "2022-08-05T19:43:13.309Z"
   },
   {
    "duration": 0,
    "start_time": "2022-08-05T19:43:13.310Z"
   },
   {
    "duration": 0,
    "start_time": "2022-08-05T19:43:13.311Z"
   },
   {
    "duration": 0,
    "start_time": "2022-08-05T19:43:13.313Z"
   },
   {
    "duration": 0,
    "start_time": "2022-08-05T19:43:13.315Z"
   },
   {
    "duration": 0,
    "start_time": "2022-08-05T19:43:13.316Z"
   },
   {
    "duration": 0,
    "start_time": "2022-08-05T19:43:13.317Z"
   },
   {
    "duration": 0,
    "start_time": "2022-08-05T19:43:13.319Z"
   },
   {
    "duration": 0,
    "start_time": "2022-08-05T19:43:13.320Z"
   },
   {
    "duration": 0,
    "start_time": "2022-08-05T19:43:13.322Z"
   },
   {
    "duration": 0,
    "start_time": "2022-08-05T19:43:13.323Z"
   },
   {
    "duration": 0,
    "start_time": "2022-08-05T19:43:13.324Z"
   },
   {
    "duration": 0,
    "start_time": "2022-08-05T19:43:13.325Z"
   },
   {
    "duration": 0,
    "start_time": "2022-08-05T19:43:13.327Z"
   },
   {
    "duration": 0,
    "start_time": "2022-08-05T19:43:13.328Z"
   },
   {
    "duration": 0,
    "start_time": "2022-08-05T19:43:13.329Z"
   },
   {
    "duration": 0,
    "start_time": "2022-08-05T19:43:13.330Z"
   },
   {
    "duration": 0,
    "start_time": "2022-08-05T19:43:13.331Z"
   },
   {
    "duration": 0,
    "start_time": "2022-08-05T19:43:13.333Z"
   },
   {
    "duration": 0,
    "start_time": "2022-08-05T19:43:13.334Z"
   },
   {
    "duration": 0,
    "start_time": "2022-08-05T19:43:13.335Z"
   },
   {
    "duration": 0,
    "start_time": "2022-08-05T19:43:13.399Z"
   },
   {
    "duration": 0,
    "start_time": "2022-08-05T19:43:13.400Z"
   },
   {
    "duration": 0,
    "start_time": "2022-08-05T19:43:13.401Z"
   },
   {
    "duration": 0,
    "start_time": "2022-08-05T19:43:13.403Z"
   },
   {
    "duration": 188,
    "start_time": "2022-08-05T19:44:04.949Z"
   },
   {
    "duration": 9,
    "start_time": "2022-08-05T19:45:28.993Z"
   },
   {
    "duration": 9,
    "start_time": "2022-08-05T19:45:44.615Z"
   },
   {
    "duration": 1119,
    "start_time": "2022-08-05T19:45:53.471Z"
   },
   {
    "duration": 33,
    "start_time": "2022-08-05T19:45:54.593Z"
   },
   {
    "duration": 17,
    "start_time": "2022-08-05T19:45:54.628Z"
   },
   {
    "duration": 10,
    "start_time": "2022-08-05T19:45:54.647Z"
   },
   {
    "duration": 8,
    "start_time": "2022-08-05T19:45:54.659Z"
   },
   {
    "duration": 15,
    "start_time": "2022-08-05T19:45:54.669Z"
   },
   {
    "duration": 9,
    "start_time": "2022-08-05T19:45:54.685Z"
   },
   {
    "duration": 11,
    "start_time": "2022-08-05T19:45:54.697Z"
   },
   {
    "duration": 15,
    "start_time": "2022-08-05T19:45:54.709Z"
   },
   {
    "duration": 202,
    "start_time": "2022-08-05T19:45:54.726Z"
   },
   {
    "duration": 84,
    "start_time": "2022-08-05T19:45:54.930Z"
   },
   {
    "duration": 55,
    "start_time": "2022-08-05T19:45:55.016Z"
   },
   {
    "duration": 6,
    "start_time": "2022-08-05T19:45:55.073Z"
   },
   {
    "duration": 26,
    "start_time": "2022-08-05T19:45:55.081Z"
   },
   {
    "duration": 18,
    "start_time": "2022-08-05T19:45:55.109Z"
   },
   {
    "duration": 5,
    "start_time": "2022-08-05T19:45:55.129Z"
   },
   {
    "duration": 7,
    "start_time": "2022-08-05T19:45:55.136Z"
   },
   {
    "duration": 12,
    "start_time": "2022-08-05T19:45:55.144Z"
   },
   {
    "duration": 41,
    "start_time": "2022-08-05T19:45:55.158Z"
   },
   {
    "duration": 9,
    "start_time": "2022-08-05T19:45:55.201Z"
   },
   {
    "duration": 18,
    "start_time": "2022-08-05T19:45:55.213Z"
   },
   {
    "duration": 11,
    "start_time": "2022-08-05T19:45:55.233Z"
   },
   {
    "duration": 24,
    "start_time": "2022-08-05T19:45:55.246Z"
   },
   {
    "duration": 405,
    "start_time": "2022-08-05T19:45:55.272Z"
   },
   {
    "duration": 5,
    "start_time": "2022-08-05T19:45:55.679Z"
   },
   {
    "duration": 325,
    "start_time": "2022-08-05T19:45:55.698Z"
   },
   {
    "duration": 13,
    "start_time": "2022-08-05T19:45:56.025Z"
   },
   {
    "duration": 392,
    "start_time": "2022-08-05T19:45:56.042Z"
   },
   {
    "duration": 17,
    "start_time": "2022-08-05T19:45:56.435Z"
   },
   {
    "duration": 341,
    "start_time": "2022-08-05T19:45:56.453Z"
   },
   {
    "duration": 496,
    "start_time": "2022-08-05T19:45:56.795Z"
   },
   {
    "duration": 140,
    "start_time": "2022-08-05T19:45:57.298Z"
   },
   {
    "duration": 6,
    "start_time": "2022-08-05T19:45:57.440Z"
   },
   {
    "duration": 141,
    "start_time": "2022-08-05T19:45:57.448Z"
   },
   {
    "duration": 6,
    "start_time": "2022-08-05T19:45:57.597Z"
   },
   {
    "duration": 12,
    "start_time": "2022-08-05T19:45:57.606Z"
   },
   {
    "duration": 10,
    "start_time": "2022-08-05T19:45:57.620Z"
   },
   {
    "duration": 12,
    "start_time": "2022-08-05T19:45:57.632Z"
   },
   {
    "duration": 66,
    "start_time": "2022-08-05T19:45:57.645Z"
   },
   {
    "duration": 17,
    "start_time": "2022-08-05T19:45:57.713Z"
   },
   {
    "duration": 9,
    "start_time": "2022-08-05T19:45:57.732Z"
   },
   {
    "duration": 10,
    "start_time": "2022-08-05T19:45:57.743Z"
   },
   {
    "duration": 9,
    "start_time": "2022-08-05T19:45:57.755Z"
   },
   {
    "duration": 68,
    "start_time": "2022-08-05T19:45:57.765Z"
   },
   {
    "duration": 8,
    "start_time": "2022-08-05T19:45:57.835Z"
   },
   {
    "duration": 18,
    "start_time": "2022-08-05T19:45:57.845Z"
   },
   {
    "duration": 41,
    "start_time": "2022-08-05T19:45:57.865Z"
   },
   {
    "duration": 332,
    "start_time": "2022-08-05T19:45:57.908Z"
   },
   {
    "duration": 5,
    "start_time": "2022-08-05T19:45:58.242Z"
   },
   {
    "duration": 398,
    "start_time": "2022-08-05T19:45:58.248Z"
   },
   {
    "duration": 417,
    "start_time": "2022-08-05T19:45:58.648Z"
   },
   {
    "duration": 109,
    "start_time": "2022-08-05T19:46:35.932Z"
   },
   {
    "duration": 5,
    "start_time": "2022-08-05T19:46:43.048Z"
   },
   {
    "duration": 8,
    "start_time": "2022-08-05T19:46:59.165Z"
   },
   {
    "duration": 6,
    "start_time": "2022-08-05T19:47:02.757Z"
   },
   {
    "duration": 6,
    "start_time": "2022-08-05T19:47:16.868Z"
   },
   {
    "duration": 51,
    "start_time": "2022-08-05T19:48:59.102Z"
   },
   {
    "duration": 1345,
    "start_time": "2022-09-20T07:43:15.665Z"
   },
   {
    "duration": 73,
    "start_time": "2022-09-20T07:43:17.012Z"
   },
   {
    "duration": 13,
    "start_time": "2022-09-20T07:43:17.087Z"
   },
   {
    "duration": 36,
    "start_time": "2022-09-20T07:43:17.101Z"
   },
   {
    "duration": 33,
    "start_time": "2022-09-20T07:43:17.140Z"
   },
   {
    "duration": 43,
    "start_time": "2022-09-20T07:43:17.175Z"
   },
   {
    "duration": 48,
    "start_time": "2022-09-20T07:43:17.220Z"
   },
   {
    "duration": 29,
    "start_time": "2022-09-20T07:43:17.270Z"
   },
   {
    "duration": 46,
    "start_time": "2022-09-20T07:43:17.301Z"
   },
   {
    "duration": 247,
    "start_time": "2022-09-20T07:43:17.350Z"
   },
   {
    "duration": 102,
    "start_time": "2022-09-20T07:43:17.598Z"
   },
   {
    "duration": 63,
    "start_time": "2022-09-20T07:43:17.702Z"
   },
   {
    "duration": 6,
    "start_time": "2022-09-20T07:43:17.766Z"
   },
   {
    "duration": 64,
    "start_time": "2022-09-20T07:43:17.774Z"
   },
   {
    "duration": 46,
    "start_time": "2022-09-20T07:43:17.841Z"
   },
   {
    "duration": 14,
    "start_time": "2022-09-20T07:43:17.889Z"
   },
   {
    "duration": 20,
    "start_time": "2022-09-20T07:43:17.904Z"
   },
   {
    "duration": 40,
    "start_time": "2022-09-20T07:43:17.925Z"
   },
   {
    "duration": 31,
    "start_time": "2022-09-20T07:43:17.967Z"
   },
   {
    "duration": 9,
    "start_time": "2022-09-20T07:43:18.000Z"
   },
   {
    "duration": 36,
    "start_time": "2022-09-20T07:43:18.011Z"
   },
   {
    "duration": 25,
    "start_time": "2022-09-20T07:43:18.049Z"
   },
   {
    "duration": 22,
    "start_time": "2022-09-20T07:43:18.076Z"
   },
   {
    "duration": 41,
    "start_time": "2022-09-20T07:43:18.100Z"
   },
   {
    "duration": 32,
    "start_time": "2022-09-20T07:43:18.143Z"
   },
   {
    "duration": 30,
    "start_time": "2022-09-20T07:43:18.177Z"
   },
   {
    "duration": 494,
    "start_time": "2022-09-20T07:43:18.209Z"
   },
   {
    "duration": 6,
    "start_time": "2022-09-20T07:43:18.707Z"
   },
   {
    "duration": 476,
    "start_time": "2022-09-20T07:43:18.720Z"
   },
   {
    "duration": 26,
    "start_time": "2022-09-20T07:43:19.198Z"
   },
   {
    "duration": 566,
    "start_time": "2022-09-20T07:43:19.226Z"
   },
   {
    "duration": 27,
    "start_time": "2022-09-20T07:43:19.794Z"
   },
   {
    "duration": 420,
    "start_time": "2022-09-20T07:43:19.824Z"
   },
   {
    "duration": 430,
    "start_time": "2022-09-20T07:43:20.246Z"
   },
   {
    "duration": 164,
    "start_time": "2022-09-20T07:43:20.677Z"
   },
   {
    "duration": 6,
    "start_time": "2022-09-20T07:43:20.843Z"
   },
   {
    "duration": 237,
    "start_time": "2022-09-20T07:43:20.851Z"
   },
   {
    "duration": 6,
    "start_time": "2022-09-20T07:43:21.089Z"
   },
   {
    "duration": 26,
    "start_time": "2022-09-20T07:43:21.098Z"
   },
   {
    "duration": 48,
    "start_time": "2022-09-20T07:43:21.126Z"
   },
   {
    "duration": 32,
    "start_time": "2022-09-20T07:43:21.176Z"
   },
   {
    "duration": 65,
    "start_time": "2022-09-20T07:43:21.210Z"
   },
   {
    "duration": 16,
    "start_time": "2022-09-20T07:43:21.277Z"
   },
   {
    "duration": 26,
    "start_time": "2022-09-20T07:43:21.295Z"
   },
   {
    "duration": 56,
    "start_time": "2022-09-20T07:43:21.323Z"
   },
   {
    "duration": 38,
    "start_time": "2022-09-20T07:43:21.381Z"
   },
   {
    "duration": 63,
    "start_time": "2022-09-20T07:43:21.421Z"
   },
   {
    "duration": 8,
    "start_time": "2022-09-20T07:43:21.486Z"
   },
   {
    "duration": 62,
    "start_time": "2022-09-20T07:43:21.495Z"
   },
   {
    "duration": 29,
    "start_time": "2022-09-20T07:43:21.559Z"
   },
   {
    "duration": 373,
    "start_time": "2022-09-20T07:43:21.590Z"
   },
   {
    "duration": 5,
    "start_time": "2022-09-20T07:43:21.964Z"
   },
   {
    "duration": 383,
    "start_time": "2022-09-20T07:43:21.971Z"
   },
   {
    "duration": 457,
    "start_time": "2022-09-20T07:43:22.356Z"
   },
   {
    "duration": 40,
    "start_time": "2022-09-20T08:04:54.953Z"
   },
   {
    "duration": 52,
    "start_time": "2022-09-23T05:39:48.422Z"
   }
  ],
  "kernelspec": {
   "display_name": "Python 3 (ipykernel)",
   "language": "python",
   "name": "python3"
  },
  "language_info": {
   "codemirror_mode": {
    "name": "ipython",
    "version": 3
   },
   "file_extension": ".py",
   "mimetype": "text/x-python",
   "name": "python",
   "nbconvert_exporter": "python",
   "pygments_lexer": "ipython3",
   "version": "3.7.8"
  },
  "toc": {
   "base_numbering": 1,
   "nav_menu": {},
   "number_sections": true,
   "sideBar": true,
   "skip_h1_title": true,
   "title_cell": "Table of Contents",
   "title_sidebar": "Contents",
   "toc_cell": false,
   "toc_position": {},
   "toc_section_display": true,
   "toc_window_display": true
  }
 },
 "nbformat": 4,
 "nbformat_minor": 2
}
