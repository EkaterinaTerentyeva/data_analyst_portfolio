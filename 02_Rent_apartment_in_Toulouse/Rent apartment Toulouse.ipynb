{
 "cells": [
  {
   "cell_type": "markdown",
   "id": "4601c3dd",
   "metadata": {},
   "source": [
    "**ANALYS OF RENTAL OFFERS IN TOULOUSE FOR 3 ROOMS APPARTMENT**"
   ]
  },
  {
   "cell_type": "markdown",
   "id": "ab19bbf7",
   "metadata": {},
   "source": [
    "**Source of information** - leboncoin.fr - the most popular real estate site in France\n",
    "\n",
    "**Purpose**: \n",
    "- estimate the possibility of renting an appatment/house in various neighborhoods according to the number of offers\n",
    "- calculate the budget for rent\n",
    "- estimate the average living area for 3 rooms appartments\n",
    "- estimate the chance to rent an appartment directly from the owner\n",
    "\n",
    "**Steps**:\n",
    "- extracting information from leboncoin.fr\n",
    "- creating attributes we interested in from raw data\n",
    "- analyzing info"
   ]
  },
  {
   "cell_type": "markdown",
   "id": "eb854212",
   "metadata": {},
   "source": [
    "# Scraping info"
   ]
  },
  {
   "cell_type": "markdown",
   "id": "077c6abd",
   "metadata": {},
   "source": [
    "Because leboncoin doesn't have free public API we use extension for Chrome - Web Scrapper. \n",
    "Here is link for understanding how it works https://www.dexxter.fr/articles/recuperer-automatiquement-donnees-le-bon-coin\n",
    "\n",
    "We are interested in 3 rooms appartment for rent in Toulouse. So, for the begining we set search filters on the site: location - Toulouse (toute la ville),  number of rooms - 3 and price not more then 1500 euro and not less than 600 (to execlude appartments in very pityful state and joint apartment rental).\n",
    "Then we create the sitemap with selectors. \n",
    "Finally, we extract the result, in a form of csv file with raw data containing information about price, area and geographical location of the offers.\n",
    "Because of the big number of relevant offers - trying to get more information from each offer card (opening link with offer) leads to captcha. Nevertheless, we still can scrape the main parametres of apartment.\n",
    "\n",
    "Link to csv https://disk.yandex.ru/d/ksN-sMsJAbS8NA"
   ]
  },
  {
   "cell_type": "markdown",
   "id": "9ccca11a",
   "metadata": {},
   "source": [
    "# Creating attributes from raw data"
   ]
  },
  {
   "cell_type": "code",
   "execution_count": 1,
   "id": "32106b06",
   "metadata": {},
   "outputs": [],
   "source": [
    "#import libraries\n",
    "import pandas as pd\n",
    "import seaborn as sns"
   ]
  },
  {
   "cell_type": "code",
   "execution_count": 2,
   "id": "3becb8df",
   "metadata": {},
   "outputs": [],
   "source": [
    "#reading scraped data from csv\n",
    "df = pd.read_csv('leboncoin.csv')"
   ]
  },
  {
   "cell_type": "markdown",
   "id": "7db191d5",
   "metadata": {},
   "source": [
    "Lets have a look what we have here"
   ]
  },
  {
   "cell_type": "code",
   "execution_count": 3,
   "id": "f62fbe78",
   "metadata": {
    "scrolled": false
   },
   "outputs": [
    {
     "data": {
      "text/html": [
       "<div>\n",
       "<style scoped>\n",
       "    .dataframe tbody tr th:only-of-type {\n",
       "        vertical-align: middle;\n",
       "    }\n",
       "\n",
       "    .dataframe tbody tr th {\n",
       "        vertical-align: top;\n",
       "    }\n",
       "\n",
       "    .dataframe thead th {\n",
       "        text-align: right;\n",
       "    }\n",
       "</style>\n",
       "<table border=\"1\" class=\"dataframe\">\n",
       "  <thead>\n",
       "    <tr style=\"text-align: right;\">\n",
       "      <th></th>\n",
       "      <th>web-scraper-order</th>\n",
       "      <th>web-scraper-start-url</th>\n",
       "      <th>card</th>\n",
       "      <th>card-href</th>\n",
       "    </tr>\n",
       "  </thead>\n",
       "  <tbody>\n",
       "    <tr>\n",
       "      <th>0</th>\n",
       "      <td>1652100656-2101</td>\n",
       "      <td>https://www.leboncoin.fr/recherche?category=10...</td>\n",
       "      <td>6847 €Appartement 3 pièces 72 m²ProToulouse 31...</td>\n",
       "      <td>https://www.leboncoin.fr/locations/2154299243.htm</td>\n",
       "    </tr>\n",
       "    <tr>\n",
       "      <th>1</th>\n",
       "      <td>1652100687-2310</td>\n",
       "      <td>https://www.leboncoin.fr/recherche?category=10...</td>\n",
       "      <td>9679 €Baisse de prixAppartement 3 pièces 64 m²...</td>\n",
       "      <td>https://www.leboncoin.fr/locations/2097322857.htm</td>\n",
       "    </tr>\n",
       "    <tr>\n",
       "      <th>2</th>\n",
       "      <td>1652100741-2723</td>\n",
       "      <td>https://www.leboncoin.fr/recherche?category=10...</td>\n",
       "      <td>9658 €Appartement 3 pièces 53 m²ProToulouse 31...</td>\n",
       "      <td>https://www.leboncoin.fr/locations/2154674795.htm</td>\n",
       "    </tr>\n",
       "    <tr>\n",
       "      <th>3</th>\n",
       "      <td>1652100666-2177</td>\n",
       "      <td>https://www.leboncoin.fr/recherche?category=10...</td>\n",
       "      <td>6780 €Appartement 3 pièces 57 m²ProToulouse 31...</td>\n",
       "      <td>https://www.leboncoin.fr/locations/2143021964.htm</td>\n",
       "    </tr>\n",
       "    <tr>\n",
       "      <th>4</th>\n",
       "      <td>1652100761-2858</td>\n",
       "      <td>https://www.leboncoin.fr/recherche?category=10...</td>\n",
       "      <td>3790 €Appartement T3 location meublé de qualit...</td>\n",
       "      <td>https://www.leboncoin.fr/locations/2158718045.htm</td>\n",
       "    </tr>\n",
       "  </tbody>\n",
       "</table>\n",
       "</div>"
      ],
      "text/plain": [
       "  web-scraper-order                              web-scraper-start-url  \\\n",
       "0   1652100656-2101  https://www.leboncoin.fr/recherche?category=10...   \n",
       "1   1652100687-2310  https://www.leboncoin.fr/recherche?category=10...   \n",
       "2   1652100741-2723  https://www.leboncoin.fr/recherche?category=10...   \n",
       "3   1652100666-2177  https://www.leboncoin.fr/recherche?category=10...   \n",
       "4   1652100761-2858  https://www.leboncoin.fr/recherche?category=10...   \n",
       "\n",
       "                                                card  \\\n",
       "0  6847 €Appartement 3 pièces 72 m²ProToulouse 31...   \n",
       "1  9679 €Baisse de prixAppartement 3 pièces 64 m²...   \n",
       "2  9658 €Appartement 3 pièces 53 m²ProToulouse 31...   \n",
       "3  6780 €Appartement 3 pièces 57 m²ProToulouse 31...   \n",
       "4  3790 €Appartement T3 location meublé de qualit...   \n",
       "\n",
       "                                           card-href  \n",
       "0  https://www.leboncoin.fr/locations/2154299243.htm  \n",
       "1  https://www.leboncoin.fr/locations/2097322857.htm  \n",
       "2  https://www.leboncoin.fr/locations/2154674795.htm  \n",
       "3  https://www.leboncoin.fr/locations/2143021964.htm  \n",
       "4  https://www.leboncoin.fr/locations/2158718045.htm  "
      ]
     },
     "execution_count": 3,
     "metadata": {},
     "output_type": "execute_result"
    }
   ],
   "source": [
    "df.head()"
   ]
  },
  {
   "cell_type": "markdown",
   "id": "5cf80b83",
   "metadata": {},
   "source": [
    "All necessary information is in the column `card` - we need to separate different parameters\n",
    "We leave in df only columns card and card-href(for verification if we have some doubts)"
   ]
  },
  {
   "cell_type": "code",
   "execution_count": 4,
   "id": "efe3ed86",
   "metadata": {},
   "outputs": [],
   "source": [
    "df = df[['card', 'card-href']]"
   ]
  },
  {
   "cell_type": "markdown",
   "id": "f6d39d97",
   "metadata": {},
   "source": [
    "## Agency or owner"
   ]
  },
  {
   "cell_type": "markdown",
   "id": "793959d9",
   "metadata": {},
   "source": [
    "It is always better to get offer streight from owner than to have a deal with an agency"
   ]
  },
  {
   "cell_type": "code",
   "execution_count": 5,
   "id": "58956e98",
   "metadata": {},
   "outputs": [],
   "source": [
    "#in offers of agencies there is always \"pro\"\n",
    "def get_who_rent(cell):\n",
    "    if 'Pro' in cell or 'pro' in cell:\n",
    "        return True\n",
    "    else:\n",
    "        return False  "
   ]
  },
  {
   "cell_type": "code",
   "execution_count": 6,
   "id": "b8640e8d",
   "metadata": {},
   "outputs": [],
   "source": [
    "df['is_agency'] = df['card'].apply(get_who_rent)"
   ]
  },
  {
   "cell_type": "markdown",
   "id": "54a56471",
   "metadata": {},
   "source": [
    "## Price"
   ]
  },
  {
   "cell_type": "markdown",
   "id": "f662cc7b",
   "metadata": {},
   "source": [
    "Here will be something quite tricky - I know that price for 3 rooms apartment is between 600 and 1500 euro. By making comparision between prices on the site and what we have in dataframe we see that scraped information contains additional chiffres that we don't want\n",
    "For example"
   ]
  },
  {
   "cell_type": "code",
   "execution_count": 7,
   "id": "3c08d33f",
   "metadata": {
    "scrolled": true
   },
   "outputs": [
    {
     "data": {
      "text/plain": [
       "card         9679 €Baisse de prixAppartement 3 pièces 64 m²...\n",
       "card-href    https://www.leboncoin.fr/locations/2097322857.htm\n",
       "is_agency                                                 True\n",
       "Name: 1, dtype: object"
      ]
     },
     "execution_count": 7,
     "metadata": {},
     "output_type": "execute_result"
    }
   ],
   "source": [
    "df.iloc[1, :]"
   ]
  },
  {
   "cell_type": "markdown",
   "id": "1612f5d0",
   "metadata": {},
   "source": [
    "9679 = 679 euro"
   ]
  },
  {
   "cell_type": "code",
   "execution_count": 8,
   "id": "1038c22b",
   "metadata": {
    "scrolled": false
   },
   "outputs": [
    {
     "data": {
      "text/plain": [
       "card         5650 €APPARTEMENT T3 MEUBLE - 54 m²ProToulouse...\n",
       "card-href    https://www.leboncoin.fr/locations/2141923246.htm\n",
       "is_agency                                                 True\n",
       "Name: 155, dtype: object"
      ]
     },
     "execution_count": 8,
     "metadata": {},
     "output_type": "execute_result"
    }
   ],
   "source": [
    "df.iloc[155, :]"
   ]
  },
  {
   "cell_type": "markdown",
   "id": "b2289836",
   "metadata": {},
   "source": [
    "5650 = 650 euro"
   ]
  },
  {
   "cell_type": "code",
   "execution_count": 9,
   "id": "c9e59106",
   "metadata": {},
   "outputs": [],
   "source": [
    "# cut wrong chiffres from the price\n",
    "def get_price(cell):\n",
    "    elem = cell.split('€')[0].replace('\\xa0', '').replace(' ', '')\n",
    "    if int(elem[len(elem)-3:]) < 600:\n",
    "        price = int(elem[len(elem)-4:])\n",
    "    else:\n",
    "        price = int(elem[len(elem)-3:])\n",
    "    return price    "
   ]
  },
  {
   "cell_type": "code",
   "execution_count": 10,
   "id": "90a946e3",
   "metadata": {},
   "outputs": [],
   "source": [
    "df['price'] = df['card'].apply(get_price)"
   ]
  },
  {
   "cell_type": "markdown",
   "id": "b33b5155",
   "metadata": {},
   "source": [
    "## Area"
   ]
  },
  {
   "cell_type": "markdown",
   "id": "38999331",
   "metadata": {},
   "source": [
    "Not all offers have information about living area (of course if you will open link for each offer you will find it. but leboncoin really doesn't like than somebody opens 1500 links)"
   ]
  },
  {
   "cell_type": "code",
   "execution_count": 11,
   "id": "ff62580c",
   "metadata": {},
   "outputs": [],
   "source": [
    "def get_area(cell):\n",
    "    lst = cell.split(' ')\n",
    "    for i in range(len(lst)):\n",
    "        if 'm²' in lst[i]:\n",
    "            try:\n",
    "                return float(lst[i-1])\n",
    "            except:\n",
    "                try:\n",
    "                    return float(lst[i].replace('m²', ''))\n",
    "                except:\n",
    "                    pass"
   ]
  },
  {
   "cell_type": "code",
   "execution_count": 12,
   "id": "a6779ce7",
   "metadata": {
    "scrolled": true
   },
   "outputs": [],
   "source": [
    "df['area'] = df['card'].apply(get_area)"
   ]
  },
  {
   "cell_type": "markdown",
   "id": "a41ae1be",
   "metadata": {},
   "source": [
    "## Location"
   ]
  },
  {
   "cell_type": "markdown",
   "id": "74befa17",
   "metadata": {},
   "source": [
    "Like in all cities in Toulouse there are 'good' and 'not so good' neighborhoods. Shortly about Toulouse\n",
    "\n",
    "- 31000 - centre and hypercentre\n",
    "- 31200 - 'not so good neighborhood'\n",
    "- 31300 - nice area, not far from centre\n",
    "- 31400 - as well good rayon, not very noisy and with good public transportation\n",
    "- 31500 - quite far from centre, with more private houses than big residences\n",
    "- 31100 - very very very far, not many appartments - mostly houses"
   ]
  },
  {
   "cell_type": "code",
   "execution_count": 13,
   "id": "48f72126",
   "metadata": {},
   "outputs": [],
   "source": [
    "def get_location(cell):\n",
    "    lst = cell.split(' ')\n",
    "    for elem in lst:\n",
    "        if len(elem) > 4:\n",
    "            try:\n",
    "                elem = str(int(elem))\n",
    "                if len(elem) == 5:\n",
    "                    return elem\n",
    "                else:\n",
    "                    return elem[:5]\n",
    "            except:\n",
    "                continue\n"
   ]
  },
  {
   "cell_type": "code",
   "execution_count": 14,
   "id": "0c394c86",
   "metadata": {},
   "outputs": [],
   "source": [
    "df['location'] = df['card'].apply(get_location)"
   ]
  },
  {
   "cell_type": "markdown",
   "id": "39407b19",
   "metadata": {},
   "source": [
    "## Price square meter for rent"
   ]
  },
  {
   "cell_type": "code",
   "execution_count": 15,
   "id": "9e9b0706",
   "metadata": {},
   "outputs": [],
   "source": [
    "df['price_m2'] = df['price']/df['area']"
   ]
  },
  {
   "cell_type": "markdown",
   "id": "60a83db7",
   "metadata": {},
   "source": [
    "## Area category"
   ]
  },
  {
   "cell_type": "markdown",
   "id": "1985876a",
   "metadata": {},
   "source": [
    "Lets separate all apartment on big, average and small according to its living area"
   ]
  },
  {
   "cell_type": "code",
   "execution_count": 16,
   "id": "26786ec1",
   "metadata": {},
   "outputs": [],
   "source": [
    "def set_category(cell):\n",
    "    if cell < 50:\n",
    "        return \"small area\"\n",
    "    elif cell >=50 and cell <=70:\n",
    "        return \"average area\"\n",
    "    else:\n",
    "        return 'big area'\n",
    "    "
   ]
  },
  {
   "cell_type": "code",
   "execution_count": 17,
   "id": "f8772c25",
   "metadata": {},
   "outputs": [],
   "source": [
    "df['area_category'] = df['area'].apply(set_category)"
   ]
  },
  {
   "cell_type": "markdown",
   "id": "b7561560",
   "metadata": {},
   "source": [
    "## Duplicates"
   ]
  },
  {
   "cell_type": "markdown",
   "id": "16831dc1",
   "metadata": {},
   "source": [
    "Agencies like to publishe the same offer everyday. Lets check how many duplicates in dataframe"
   ]
  },
  {
   "cell_type": "code",
   "execution_count": 18,
   "id": "c69d92e1",
   "metadata": {},
   "outputs": [
    {
     "data": {
      "text/plain": [
       "187"
      ]
     },
     "execution_count": 18,
     "metadata": {},
     "output_type": "execute_result"
    }
   ],
   "source": [
    "df.duplicated(['price', 'area', 'location']).sum()"
   ]
  },
  {
   "cell_type": "markdown",
   "id": "b4859f62",
   "metadata": {},
   "source": [
    "We gonna drop it"
   ]
  },
  {
   "cell_type": "code",
   "execution_count": 19,
   "id": "492257d9",
   "metadata": {},
   "outputs": [],
   "source": [
    "df = df.drop_duplicates(['price', 'area', 'location' ])"
   ]
  },
  {
   "cell_type": "markdown",
   "id": "f937e198",
   "metadata": {},
   "source": [
    "# Analysing information"
   ]
  },
  {
   "cell_type": "code",
   "execution_count": 20,
   "id": "a15d152b",
   "metadata": {},
   "outputs": [
    {
     "data": {
      "text/plain": [
       "1313"
      ]
     },
     "execution_count": 20,
     "metadata": {},
     "output_type": "execute_result"
    }
   ],
   "source": [
    "len(df)"
   ]
  },
  {
   "cell_type": "markdown",
   "id": "6e22027b",
   "metadata": {},
   "source": [
    "So we have 1313 relevant offers - not bad"
   ]
  },
  {
   "cell_type": "markdown",
   "id": "6f5e7584",
   "metadata": {},
   "source": [
    "## Who rents?"
   ]
  },
  {
   "cell_type": "code",
   "execution_count": 21,
   "id": "6dabcd30",
   "metadata": {},
   "outputs": [
    {
     "data": {
      "text/plain": [
       "<AxesSubplot:ylabel='is_agency'>"
      ]
     },
     "execution_count": 21,
     "metadata": {},
     "output_type": "execute_result"
    },
    {
     "data": {
      "image/png": "[encoded data removed]",
      "text/plain": [
       "<Figure size 432x288 with 1 Axes>"
      ]
     },
     "metadata": {},
     "output_type": "display_data"
    }
   ],
   "source": [
    "df['is_agency'].value_counts(normalize = True).plot.pie()"
   ]
  },
  {
   "cell_type": "markdown",
   "id": "f3cc36f9",
   "metadata": {},
   "source": [
    "**Unfortunately, not big chance to rent apartment from an owner**"
   ]
  },
  {
   "cell_type": "markdown",
   "id": "1568c946",
   "metadata": {},
   "source": [
    "## Is it big?"
   ]
  },
  {
   "cell_type": "code",
   "execution_count": 22,
   "id": "46bcd893",
   "metadata": {},
   "outputs": [
    {
     "data": {
      "text/plain": [
       "<AxesSubplot:xlabel='location'>"
      ]
     },
     "execution_count": 22,
     "metadata": {},
     "output_type": "execute_result"
    },
    {
     "data": {
      "image/png": "[encoded data removed]",
      "text/plain": [
       "<Figure size 432x288 with 1 Axes>"
      ]
     },
     "metadata": {
      "needs_background": "light"
     },
     "output_type": "display_data"
    }
   ],
   "source": [
    "df.groupby('location')['area'].agg(['min', 'median', 'max']).plot.bar()"
   ]
  },
  {
   "cell_type": "markdown",
   "id": "7ccb90bd",
   "metadata": {},
   "source": [
    "**Centre is amazing place with huge apartments (more than 100 m2) and tiny ones (28 м2, it really exists https://www.leboncoin.fr/locations/2100529933.htm ). For other rayons - there is not huge difference. Normaly area is about 62-65 м2 and doesn't depend on location**"
   ]
  },
  {
   "cell_type": "markdown",
   "id": "1584fd29",
   "metadata": {},
   "source": [
    "## How much does it coast?"
   ]
  },
  {
   "cell_type": "markdown",
   "id": "144861cd",
   "metadata": {},
   "source": [
    "It is obvious that the price depend on the location, the public transportation and the \"reputation\" of rayon."
   ]
  },
  {
   "cell_type": "code",
   "execution_count": 23,
   "id": "81ffe811",
   "metadata": {
    "scrolled": true
   },
   "outputs": [
    {
     "data": {
      "text/html": [
       "<div>\n",
       "<style scoped>\n",
       "    .dataframe tbody tr th:only-of-type {\n",
       "        vertical-align: middle;\n",
       "    }\n",
       "\n",
       "    .dataframe tbody tr th {\n",
       "        vertical-align: top;\n",
       "    }\n",
       "\n",
       "    .dataframe thead th {\n",
       "        text-align: right;\n",
       "    }\n",
       "</style>\n",
       "<table border=\"1\" class=\"dataframe\">\n",
       "  <thead>\n",
       "    <tr style=\"text-align: right;\">\n",
       "      <th></th>\n",
       "      <th>min</th>\n",
       "      <th>median</th>\n",
       "      <th>max</th>\n",
       "    </tr>\n",
       "    <tr>\n",
       "      <th>location</th>\n",
       "      <th></th>\n",
       "      <th></th>\n",
       "      <th></th>\n",
       "    </tr>\n",
       "  </thead>\n",
       "  <tbody>\n",
       "    <tr>\n",
       "      <th>31000</th>\n",
       "      <td>600</td>\n",
       "      <td>911.0</td>\n",
       "      <td>1500</td>\n",
       "    </tr>\n",
       "    <tr>\n",
       "      <th>31100</th>\n",
       "      <td>616</td>\n",
       "      <td>717.0</td>\n",
       "      <td>1170</td>\n",
       "    </tr>\n",
       "    <tr>\n",
       "      <th>31200</th>\n",
       "      <td>601</td>\n",
       "      <td>699.0</td>\n",
       "      <td>1180</td>\n",
       "    </tr>\n",
       "    <tr>\n",
       "      <th>31300</th>\n",
       "      <td>630</td>\n",
       "      <td>763.0</td>\n",
       "      <td>1500</td>\n",
       "    </tr>\n",
       "    <tr>\n",
       "      <th>31400</th>\n",
       "      <td>601</td>\n",
       "      <td>765.5</td>\n",
       "      <td>1400</td>\n",
       "    </tr>\n",
       "    <tr>\n",
       "      <th>31500</th>\n",
       "      <td>600</td>\n",
       "      <td>750.0</td>\n",
       "      <td>1306</td>\n",
       "    </tr>\n",
       "  </tbody>\n",
       "</table>\n",
       "</div>"
      ],
      "text/plain": [
       "          min  median   max\n",
       "location                   \n",
       "31000     600   911.0  1500\n",
       "31100     616   717.0  1170\n",
       "31200     601   699.0  1180\n",
       "31300     630   763.0  1500\n",
       "31400     601   765.5  1400\n",
       "31500     600   750.0  1306"
      ]
     },
     "execution_count": 23,
     "metadata": {},
     "output_type": "execute_result"
    }
   ],
   "source": [
    "df.groupby('location')['price'].agg(['min', 'median', 'max'])"
   ]
  },
  {
   "cell_type": "code",
   "execution_count": 24,
   "id": "8d2353bf",
   "metadata": {
    "scrolled": true
   },
   "outputs": [
    {
     "data": {
      "text/plain": [
       "<AxesSubplot:xlabel='location'>"
      ]
     },
     "execution_count": 24,
     "metadata": {},
     "output_type": "execute_result"
    },
    {
     "data": {
      "image/png": "[encoded data removed]",
      "text/plain": [
       "<Figure size 432x288 with 1 Axes>"
      ]
     },
     "metadata": {
      "needs_background": "light"
     },
     "output_type": "display_data"
    }
   ],
   "source": [
    "df.groupby('location')['price_m2'].median().plot.bar()"
   ]
  },
  {
   "cell_type": "markdown",
   "id": "5d65e25c",
   "metadata": {},
   "source": [
    "**As expected, centre is the most expensive. And rayon with not good criminal enviroment is the cheapest as well as rayon located far from centre**"
   ]
  },
  {
   "cell_type": "markdown",
   "id": "96d7cdcd",
   "metadata": {},
   "source": [
    "## Where?"
   ]
  },
  {
   "cell_type": "code",
   "execution_count": 25,
   "id": "15b56632",
   "metadata": {
    "scrolled": true
   },
   "outputs": [
    {
     "data": {
      "text/plain": [
       "<AxesSubplot:>"
      ]
     },
     "execution_count": 25,
     "metadata": {},
     "output_type": "execute_result"
    },
    {
     "data": {
      "image/png": "[encoded data removed]",
      "text/plain": [
       "<Figure size 432x288 with 1 Axes>"
      ]
     },
     "metadata": {
      "needs_background": "light"
     },
     "output_type": "display_data"
    }
   ],
   "source": [
    "df['location'].value_counts(normalize=True).plot.bar()"
   ]
  },
  {
   "cell_type": "markdown",
   "id": "575f82e3",
   "metadata": {},
   "source": [
    "**More offers are in bad rayon - people prefer pay more but have better social environement - so offers like these stay on the site for long time. The least offers - in suburb, just because there are not many apartments - people have their own houses**"
   ]
  },
  {
   "cell_type": "markdown",
   "id": "cd6e4eb3",
   "metadata": {},
   "source": [
    "## If price really correlates with area?"
   ]
  },
  {
   "cell_type": "code",
   "execution_count": 26,
   "id": "a19ac73e",
   "metadata": {},
   "outputs": [
    {
     "data": {
      "text/plain": [
       "<AxesSubplot:xlabel='price', ylabel='area'>"
      ]
     },
     "execution_count": 26,
     "metadata": {},
     "output_type": "execute_result"
    },
    {
     "data": {
      "image/png": "[encoded data removed]",
      "text/plain": [
       "<Figure size 432x288 with 1 Axes>"
      ]
     },
     "metadata": {
      "needs_background": "light"
     },
     "output_type": "display_data"
    }
   ],
   "source": [
    "sns.regplot(x='price', y='area', data=df) "
   ]
  },
  {
   "cell_type": "code",
   "execution_count": 27,
   "id": "1cab0ab6",
   "metadata": {
    "scrolled": true
   },
   "outputs": [
    {
     "data": {
      "text/html": [
       "<div>\n",
       "<style scoped>\n",
       "    .dataframe tbody tr th:only-of-type {\n",
       "        vertical-align: middle;\n",
       "    }\n",
       "\n",
       "    .dataframe tbody tr th {\n",
       "        vertical-align: top;\n",
       "    }\n",
       "\n",
       "    .dataframe thead th {\n",
       "        text-align: right;\n",
       "    }\n",
       "</style>\n",
       "<table border=\"1\" class=\"dataframe\">\n",
       "  <thead>\n",
       "    <tr style=\"text-align: right;\">\n",
       "      <th></th>\n",
       "      <th>price</th>\n",
       "      <th>area</th>\n",
       "    </tr>\n",
       "  </thead>\n",
       "  <tbody>\n",
       "    <tr>\n",
       "      <th>price</th>\n",
       "      <td>1.000000</td>\n",
       "      <td>0.475997</td>\n",
       "    </tr>\n",
       "    <tr>\n",
       "      <th>area</th>\n",
       "      <td>0.475997</td>\n",
       "      <td>1.000000</td>\n",
       "    </tr>\n",
       "  </tbody>\n",
       "</table>\n",
       "</div>"
      ],
      "text/plain": [
       "          price      area\n",
       "price  1.000000  0.475997\n",
       "area   0.475997  1.000000"
      ]
     },
     "execution_count": 27,
     "metadata": {},
     "output_type": "execute_result"
    }
   ],
   "source": [
    "df[['price', 'area']].corr()"
   ]
  },
  {
   "cell_type": "markdown",
   "id": "f9da8221",
   "metadata": {},
   "source": [
    "**Correlation is moderate (chaddock scale ). Area has impact on the price mostly for big apartments. For price 600-800 euro you have all type of apartments**"
   ]
  },
  {
   "cell_type": "markdown",
   "id": "4693176e",
   "metadata": {},
   "source": [
    "## If you want bigger apartment"
   ]
  },
  {
   "cell_type": "code",
   "execution_count": 28,
   "id": "851a2e73",
   "metadata": {
    "scrolled": false
   },
   "outputs": [
    {
     "data": {
      "text/plain": [
       "area_category\n",
       "average area    725\n",
       "big area        850\n",
       "small area      750\n",
       "Name: price, dtype: int64"
      ]
     },
     "execution_count": 28,
     "metadata": {},
     "output_type": "execute_result"
    }
   ],
   "source": [
    "df.groupby('area_category')['price'].median()"
   ]
  },
  {
   "cell_type": "markdown",
   "id": "5084cb2b",
   "metadata": {},
   "source": [
    "**For getting big apartment you have to pay 130 euro more than for average one.** "
   ]
  },
  {
   "cell_type": "code",
   "execution_count": 29,
   "id": "02aa2c0a",
   "metadata": {
    "scrolled": true
   },
   "outputs": [
    {
     "data": {
      "text/plain": [
       "average area    0.667174\n",
       "big area        0.304646\n",
       "small area      0.028180\n",
       "Name: area_category, dtype: float64"
      ]
     },
     "execution_count": 29,
     "metadata": {},
     "output_type": "execute_result"
    }
   ],
   "source": [
    "df['area_category'].value_counts(normalize = True)"
   ]
  },
  {
   "cell_type": "markdown",
   "id": "0146e90a",
   "metadata": {},
   "source": [
    "**Most of offers - apartment 50-70 м2. Apartments with area less than 50 m2 - very rare**"
   ]
  },
  {
   "cell_type": "markdown",
   "id": "45b33aa6",
   "metadata": {},
   "source": [
    "# Conclusion"
   ]
  },
  {
   "cell_type": "markdown",
   "id": "cc1c3cde",
   "metadata": {},
   "source": [
    "- there are 30% of offers in not good neighborhood (31200) \n",
    "- budget for rent - 700-800 euro (and around 900-1000 if you wanna live in the centre)\n",
    "- average area of the apartment - 60-65 м2 \n",
    "- wanna apartment more than 70 m2 - add to budget 100-150 euro\n",
    "- more than 80 % - offers from agencies"
   ]
  },
  {
   "cell_type": "code",
   "execution_count": null,
   "id": "db6e4a79",
   "metadata": {},
   "outputs": [],
   "source": []
  }
 ],
 "metadata": {
  "kernelspec": {
   "display_name": "Python 3 (ipykernel)",
   "language": "python",
   "name": "python3"
  },
  "language_info": {
   "codemirror_mode": {
    "name": "ipython",
    "version": 3
   },
   "file_extension": ".py",
   "mimetype": "text/x-python",
   "name": "python",
   "nbconvert_exporter": "python",
   "pygments_lexer": "ipython3",
   "version": "3.9.10"
  },
  "toc": {
   "base_numbering": 1,
   "nav_menu": {},
   "number_sections": true,
   "sideBar": true,
   "skip_h1_title": false,
   "title_cell": "Table of Contents",
   "title_sidebar": "Contents",
   "toc_cell": false,
   "toc_position": {},
   "toc_section_display": true,
   "toc_window_display": false
  }
 },
 "nbformat": 4,
 "nbformat_minor": 5
}
