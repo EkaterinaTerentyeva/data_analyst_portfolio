{
 "cells": [
  {
   "cell_type": "markdown",
   "metadata": {},
   "source": [
    "# Исследование надёжности заёмщиков\n",
    "\n",
    "Заказчик — кредитный отдел банка. Нужно разобраться, влияет ли семейное положение и количество детей клиента на факт погашения кредита в срок. Входные данные от банка — статистика о платёжеспособности клиентов.\n",
    "\n",
    "Результаты исследования будут учтены при построении модели **кредитного скоринга** — специальной системы, которая оценивает способность потенциального заёмщика вернуть кредит банку."
   ]
  },
  {
   "cell_type": "markdown",
   "metadata": {},
   "source": [
    "## Откройте файл с данными и изучите общую информацию"
   ]
  },
  {
   "cell_type": "markdown",
   "metadata": {},
   "source": [
    "Импортируем библиотеку `pandas` и модуль `Mystem`, с которыми мы будем работать:"
   ]
  },
  {
   "cell_type": "code",
   "execution_count": 1,
   "metadata": {},
   "outputs": [],
   "source": [
    "import pandas as pd\n",
    "import numpy as np\n",
    "from pymystem3 import Mystem"
   ]
  },
  {
   "cell_type": "markdown",
   "metadata": {},
   "source": [
    "### Чтение файла\n",
    "Прочитаем файл и выведем пять первых записей:"
   ]
  },
  {
   "cell_type": "code",
   "execution_count": 2,
   "metadata": {
    "scrolled": false
   },
   "outputs": [
    {
     "name": "stdout",
     "output_type": "stream",
     "text": [
      "Количество записей в таблице: 21525 \n",
      "Kоличество столбцов в таблице: 12\n",
      "____________________________________________________________________________________________________\n",
      "Названия столбцов: Index(['children', 'days_employed', 'dob_years', 'education', 'education_id',\n",
      "       'family_status', 'family_status_id', 'gender', 'income_type', 'debt',\n",
      "       'total_income', 'purpose'],\n",
      "      dtype='object')\n",
      "____________________________________________________________________________________________________\n",
      "Названия столбцов корректны\n",
      "____________________________________________________________________________________________________\n",
      "Пропущенные значения в абсолютном и относительном выражениях:\n"
     ]
    },
    {
     "data": {
      "text/html": [
       "<div>\n",
       "<style scoped>\n",
       "    .dataframe tbody tr th:only-of-type {\n",
       "        vertical-align: middle;\n",
       "    }\n",
       "\n",
       "    .dataframe tbody tr th {\n",
       "        vertical-align: top;\n",
       "    }\n",
       "\n",
       "    .dataframe thead th {\n",
       "        text-align: right;\n",
       "    }\n",
       "</style>\n",
       "<table border=\"1\" class=\"dataframe\">\n",
       "  <thead>\n",
       "    <tr style=\"text-align: right;\">\n",
       "      <th></th>\n",
       "      <th>missed_values</th>\n",
       "      <th>percent</th>\n",
       "    </tr>\n",
       "  </thead>\n",
       "  <tbody>\n",
       "    <tr>\n",
       "      <td>children</td>\n",
       "      <td>0</td>\n",
       "      <td>0.0</td>\n",
       "    </tr>\n",
       "    <tr>\n",
       "      <td>days_employed</td>\n",
       "      <td>2174</td>\n",
       "      <td>10.0</td>\n",
       "    </tr>\n",
       "    <tr>\n",
       "      <td>dob_years</td>\n",
       "      <td>0</td>\n",
       "      <td>0.0</td>\n",
       "    </tr>\n",
       "    <tr>\n",
       "      <td>education</td>\n",
       "      <td>0</td>\n",
       "      <td>0.0</td>\n",
       "    </tr>\n",
       "    <tr>\n",
       "      <td>education_id</td>\n",
       "      <td>0</td>\n",
       "      <td>0.0</td>\n",
       "    </tr>\n",
       "    <tr>\n",
       "      <td>family_status</td>\n",
       "      <td>0</td>\n",
       "      <td>0.0</td>\n",
       "    </tr>\n",
       "    <tr>\n",
       "      <td>family_status_id</td>\n",
       "      <td>0</td>\n",
       "      <td>0.0</td>\n",
       "    </tr>\n",
       "    <tr>\n",
       "      <td>gender</td>\n",
       "      <td>0</td>\n",
       "      <td>0.0</td>\n",
       "    </tr>\n",
       "    <tr>\n",
       "      <td>income_type</td>\n",
       "      <td>0</td>\n",
       "      <td>0.0</td>\n",
       "    </tr>\n",
       "    <tr>\n",
       "      <td>debt</td>\n",
       "      <td>0</td>\n",
       "      <td>0.0</td>\n",
       "    </tr>\n",
       "    <tr>\n",
       "      <td>total_income</td>\n",
       "      <td>2174</td>\n",
       "      <td>10.0</td>\n",
       "    </tr>\n",
       "    <tr>\n",
       "      <td>purpose</td>\n",
       "      <td>0</td>\n",
       "      <td>0.0</td>\n",
       "    </tr>\n",
       "  </tbody>\n",
       "</table>\n",
       "</div>"
      ],
      "text/plain": [
       "                  missed_values  percent\n",
       "children                      0      0.0\n",
       "days_employed              2174     10.0\n",
       "dob_years                     0      0.0\n",
       "education                     0      0.0\n",
       "education_id                  0      0.0\n",
       "family_status                 0      0.0\n",
       "family_status_id              0      0.0\n",
       "gender                        0      0.0\n",
       "income_type                   0      0.0\n",
       "debt                          0      0.0\n",
       "total_income               2174     10.0\n",
       "purpose                       0      0.0"
      ]
     },
     "metadata": {},
     "output_type": "display_data"
    },
    {
     "name": "stdout",
     "output_type": "stream",
     "text": [
      "____________________________________________________________________________________________________\n",
      "Типы данных в колонках:\n",
      "children              int64\n",
      "days_employed       float64\n",
      "dob_years             int64\n",
      "education            object\n",
      "education_id          int64\n",
      "family_status        object\n",
      "family_status_id      int64\n",
      "gender               object\n",
      "income_type          object\n",
      "debt                  int64\n",
      "total_income        float64\n",
      "purpose              object\n",
      "dtype: object\n"
     ]
    }
   ],
   "source": [
    "df = pd.read_csv('datasets/data.csv')\n",
    "df.head()\n",
    "def observe_data(table):\n",
    "    '''Giving common understanding of data in dataframe'''\n",
    "    print(f'Количество записей в таблице: {table.shape[0]} \\nKоличество столбцов в таблице: {table.shape[1]}')\n",
    "    print('_'*100)\n",
    "    names_columns = table.columns\n",
    "    print(f'Названия столбцов: {names_columns}')\n",
    "    print('_'*100)\n",
    "    names_to_corrige = []\n",
    "    for name_column in names_columns:\n",
    "        if not name_column.islower() or ' ' in name_column:\n",
    "            names_to_corrige.append(name_column)\n",
    "    if len(names_to_corrige) == 0:\n",
    "        print (f'Названия столбцов корректны')\n",
    "    else:\n",
    "        print(f'Названия следующих колонок должны быть откорретированы: {names_to_corrige}')\n",
    "    print('_'*100)\n",
    "    lost_values = table.isna().sum()\n",
    "    missed_values = lost_values.to_frame(name='missed_values')\n",
    "    missed_values['percent'] = round(missed_values['missed_values']/table.shape[0]*100, 0)\n",
    "    print (f'Пропущенные значения в абсолютном и относительном выражениях:')\n",
    "    display(missed_values)\n",
    "    print('_'*100)\n",
    "    print(f'Типы данных в колонках:')\n",
    "    print(table.dtypes)\n",
    "\n",
    "     \n",
    "        \n",
    "observe_data(df)\n"
   ]
  },
  {
   "cell_type": "markdown",
   "metadata": {},
   "source": [
    "Ради интереса посмотрим клиента с наибольшим месячным доходом и цель кредитования:"
   ]
  },
  {
   "cell_type": "code",
   "execution_count": 3,
   "metadata": {
    "scrolled": false
   },
   "outputs": [
    {
     "name": "stdout",
     "output_type": "stream",
     "text": [
      "2265604.028722744\n"
     ]
    },
    {
     "data": {
      "text/plain": [
       "12412    ремонт жилью\n",
       "Name: purpose, dtype: object"
      ]
     },
     "execution_count": 3,
     "metadata": {},
     "output_type": "execute_result"
    }
   ],
   "source": [
    "print(df['total_income'].max())\n",
    "df[df['total_income'] == df['total_income'].max()]['purpose']\n"
   ]
  },
  {
   "cell_type": "code",
   "execution_count": 4,
   "metadata": {},
   "outputs": [
    {
     "data": {
      "text/html": [
       "<div>\n",
       "<style scoped>\n",
       "    .dataframe tbody tr th:only-of-type {\n",
       "        vertical-align: middle;\n",
       "    }\n",
       "\n",
       "    .dataframe tbody tr th {\n",
       "        vertical-align: top;\n",
       "    }\n",
       "\n",
       "    .dataframe thead th {\n",
       "        text-align: right;\n",
       "    }\n",
       "</style>\n",
       "<table border=\"1\" class=\"dataframe\">\n",
       "  <thead>\n",
       "    <tr style=\"text-align: right;\">\n",
       "      <th></th>\n",
       "      <th>children</th>\n",
       "      <th>days_employed</th>\n",
       "      <th>dob_years</th>\n",
       "      <th>education</th>\n",
       "      <th>education_id</th>\n",
       "      <th>family_status</th>\n",
       "      <th>family_status_id</th>\n",
       "      <th>gender</th>\n",
       "      <th>income_type</th>\n",
       "      <th>debt</th>\n",
       "      <th>total_income</th>\n",
       "      <th>purpose</th>\n",
       "    </tr>\n",
       "  </thead>\n",
       "  <tbody>\n",
       "    <tr>\n",
       "      <td>0</td>\n",
       "      <td>1</td>\n",
       "      <td>-8437.673028</td>\n",
       "      <td>42</td>\n",
       "      <td>высшее</td>\n",
       "      <td>0</td>\n",
       "      <td>женат / замужем</td>\n",
       "      <td>0</td>\n",
       "      <td>F</td>\n",
       "      <td>сотрудник</td>\n",
       "      <td>0</td>\n",
       "      <td>253875.639453</td>\n",
       "      <td>покупка жилья</td>\n",
       "    </tr>\n",
       "    <tr>\n",
       "      <td>1</td>\n",
       "      <td>1</td>\n",
       "      <td>-4024.803754</td>\n",
       "      <td>36</td>\n",
       "      <td>среднее</td>\n",
       "      <td>1</td>\n",
       "      <td>женат / замужем</td>\n",
       "      <td>0</td>\n",
       "      <td>F</td>\n",
       "      <td>сотрудник</td>\n",
       "      <td>0</td>\n",
       "      <td>112080.014102</td>\n",
       "      <td>приобретение автомобиля</td>\n",
       "    </tr>\n",
       "    <tr>\n",
       "      <td>2</td>\n",
       "      <td>0</td>\n",
       "      <td>-5623.422610</td>\n",
       "      <td>33</td>\n",
       "      <td>Среднее</td>\n",
       "      <td>1</td>\n",
       "      <td>женат / замужем</td>\n",
       "      <td>0</td>\n",
       "      <td>M</td>\n",
       "      <td>сотрудник</td>\n",
       "      <td>0</td>\n",
       "      <td>145885.952297</td>\n",
       "      <td>покупка жилья</td>\n",
       "    </tr>\n",
       "    <tr>\n",
       "      <td>3</td>\n",
       "      <td>3</td>\n",
       "      <td>-4124.747207</td>\n",
       "      <td>32</td>\n",
       "      <td>среднее</td>\n",
       "      <td>1</td>\n",
       "      <td>женат / замужем</td>\n",
       "      <td>0</td>\n",
       "      <td>M</td>\n",
       "      <td>сотрудник</td>\n",
       "      <td>0</td>\n",
       "      <td>267628.550329</td>\n",
       "      <td>дополнительное образование</td>\n",
       "    </tr>\n",
       "    <tr>\n",
       "      <td>4</td>\n",
       "      <td>0</td>\n",
       "      <td>340266.072047</td>\n",
       "      <td>53</td>\n",
       "      <td>среднее</td>\n",
       "      <td>1</td>\n",
       "      <td>гражданский брак</td>\n",
       "      <td>1</td>\n",
       "      <td>F</td>\n",
       "      <td>пенсионер</td>\n",
       "      <td>0</td>\n",
       "      <td>158616.077870</td>\n",
       "      <td>сыграть свадьбу</td>\n",
       "    </tr>\n",
       "  </tbody>\n",
       "</table>\n",
       "</div>"
      ],
      "text/plain": [
       "   children  days_employed  dob_years education  education_id  \\\n",
       "0         1   -8437.673028         42    высшее             0   \n",
       "1         1   -4024.803754         36   среднее             1   \n",
       "2         0   -5623.422610         33   Среднее             1   \n",
       "3         3   -4124.747207         32   среднее             1   \n",
       "4         0  340266.072047         53   среднее             1   \n",
       "\n",
       "      family_status  family_status_id gender income_type  debt   total_income  \\\n",
       "0   женат / замужем                 0      F   сотрудник     0  253875.639453   \n",
       "1   женат / замужем                 0      F   сотрудник     0  112080.014102   \n",
       "2   женат / замужем                 0      M   сотрудник     0  145885.952297   \n",
       "3   женат / замужем                 0      M   сотрудник     0  267628.550329   \n",
       "4  гражданский брак                 1      F   пенсионер     0  158616.077870   \n",
       "\n",
       "                      purpose  \n",
       "0               покупка жилья  \n",
       "1     приобретение автомобиля  \n",
       "2               покупка жилья  \n",
       "3  дополнительное образование  \n",
       "4             сыграть свадьбу  "
      ]
     },
     "execution_count": 4,
     "metadata": {},
     "output_type": "execute_result"
    }
   ],
   "source": [
    "df.head()"
   ]
  },
  {
   "cell_type": "markdown",
   "metadata": {},
   "source": [
    "**Вывод** \n",
    "- таблица содержит 21525 записей\n",
    "- названия столбцов написаны корректно, нет необходимости менять их имена\n",
    "- типы столбцов соответствуют их значениям: столбцы с количественными переменными (`children`, `days employed`, `dob_years`, `debt`,`total_income`) имеют тип `float` или `int`, в то время как оставшиеся столбцы с категориальными переменными имеют тип `object` за исключением столбцов `education_id` и `family_status_id`, имеющих тип `int`. Исходя из первичных представлений нет необходимости менять тип данных в столбцах помимо столбцов с типом данных `float` - для них такая точность значений не нужна, и для более читабельного представления данных в дальнейшем можно поменять их тип на `int`.\n",
    "- пропуски данных для столбцов days_employed и total_income в количестве 21525-19351 = 2174, что составляет 10% от общего числа записей\n",
    "- кто этот человек с ежемесячным доходом больше 2х миллионов и зачем ему вообще кредит, и вообще почему 'ремонт жилью', а не 'ремонт жилья'?"
   ]
  },
  {
   "cell_type": "markdown",
   "metadata": {},
   "source": [
    "### Корректность данных в столбцах"
   ]
  },
  {
   "cell_type": "markdown",
   "metadata": {},
   "source": [
    "Чтобы убедиться в корректности предоставленной информации (например, значения в столбцах `children`, `days employed` могут быть только положительными или равными 0; значения в столбце `dob_years` скорее всего должны быть больше 18 (лет), `gender` - только F или M и т.д.). Для этого применим метод `value_counts()` или `describe()`:"
   ]
  },
  {
   "cell_type": "markdown",
   "metadata": {},
   "source": [
    "#### Колонка `children`"
   ]
  },
  {
   "cell_type": "code",
   "execution_count": 5,
   "metadata": {},
   "outputs": [
    {
     "data": {
      "text/plain": [
       " 0     14149\n",
       " 1      4818\n",
       " 2      2055\n",
       " 3       330\n",
       " 20       76\n",
       "-1        47\n",
       " 4        41\n",
       " 5         9\n",
       "Name: children, dtype: int64"
      ]
     },
     "execution_count": 5,
     "metadata": {},
     "output_type": "execute_result"
    }
   ],
   "source": [
    "df['children'].value_counts()"
   ]
  },
  {
   "cell_type": "markdown",
   "metadata": {},
   "source": [
    "Вывод Как видим в 47 записях фигурирует отрицательное количество детей (-1), что невозможно (если только банк не собирает информацию об умерших детях), также стоит обратить внимание на 76 клиентов с 20 детьми в семье. Скорее всего это техническая ошибка при выгрузке данных. Суммарно количество артефактов по столбцу children составляет 47+76=123 записи или 0,6% от общего числа записей и не окажет существенного влияния на определяемые показатели. Тем не менее, откорректируем часть данных, заменив -1 на 1 и 20 на 2:"
   ]
  },
  {
   "cell_type": "code",
   "execution_count": 6,
   "metadata": {},
   "outputs": [],
   "source": [
    "df['children'] = df['children'].apply(lambda x: abs(x))\n",
    "df.loc[df['children'] == 20, 'children'] = 2"
   ]
  },
  {
   "cell_type": "markdown",
   "metadata": {},
   "source": [
    "Проверим изменения:"
   ]
  },
  {
   "cell_type": "code",
   "execution_count": 7,
   "metadata": {
    "scrolled": true
   },
   "outputs": [
    {
     "data": {
      "text/plain": [
       "0    14149\n",
       "1     4865\n",
       "2     2131\n",
       "3      330\n",
       "4       41\n",
       "5        9\n",
       "Name: children, dtype: int64"
      ]
     },
     "execution_count": 7,
     "metadata": {},
     "output_type": "execute_result"
    }
   ],
   "source": [
    "df['children'].value_counts()"
   ]
  },
  {
   "cell_type": "markdown",
   "metadata": {},
   "source": [
    "#### Колонка `days_employed`"
   ]
  },
  {
   "cell_type": "code",
   "execution_count": 8,
   "metadata": {},
   "outputs": [
    {
     "data": {
      "text/plain": [
       "count     19351.000000\n",
       "mean      63046.497661\n",
       "std      140827.311974\n",
       "min      -18388.949901\n",
       "25%       -2747.423625\n",
       "50%       -1203.369529\n",
       "75%        -291.095954\n",
       "max      401755.400475\n",
       "Name: days_employed, dtype: float64"
      ]
     },
     "metadata": {},
     "output_type": "display_data"
    },
    {
     "name": "stdout",
     "output_type": "stream",
     "text": [
      "Количество всех записей в таблице с отрицательным значением трудового стажа составляет: 15906 \n"
     ]
    }
   ],
   "source": [
    "display(df['days_employed'].describe())\n",
    "negative_days_employed = df[df['days_employed'] < 0]\n",
    "total_negative_days_employed = negative_days_employed.shape[0]\n",
    "\n",
    "print(f'Количество всех записей в таблице с отрицательным значением трудового стажа составляет: {total_negative_days_employed} ')"
   ]
  },
  {
   "cell_type": "markdown",
   "metadata": {},
   "source": [
    "**Вывод** Как и в колонке `children` общий трудовой стаж не может быть отрицательным числом. Из-за большого количества таких записей (более 70% от всей информации) можно предположить что при выгрузке данных имела место техническая ошибка. Для дальнейшего анализа информации заменим отрицательные значения в `days_employed` на положительные и проверим как изменились данные:"
   ]
  },
  {
   "cell_type": "code",
   "execution_count": 9,
   "metadata": {},
   "outputs": [
    {
     "data": {
      "text/plain": [
       "count     19351.000000\n",
       "mean      66914.728907\n",
       "std      139030.880527\n",
       "min          24.141633\n",
       "25%         927.009265\n",
       "50%        2194.220567\n",
       "75%        5537.882441\n",
       "max      401755.400475\n",
       "Name: days_employed, dtype: float64"
      ]
     },
     "execution_count": 9,
     "metadata": {},
     "output_type": "execute_result"
    }
   ],
   "source": [
    "df['days_employed'] = df['days_employed'].apply(lambda x: abs(x))\n",
    "df['days_employed'].describe()"
   ]
  },
  {
   "cell_type": "markdown",
   "metadata": {},
   "source": [
    "#### Колонка `dob_years`"
   ]
  },
  {
   "cell_type": "markdown",
   "metadata": {},
   "source": [
    "Логично предположить, что клиент должен быть старше 18 лет, в то время как минимальный возраст клиента, указанный в таблице равен 0. Найдем количество таких записей, где возраст клиента не соответствует нашим ожиданиям"
   ]
  },
  {
   "cell_type": "code",
   "execution_count": 10,
   "metadata": {},
   "outputs": [
    {
     "name": "stdout",
     "output_type": "stream",
     "text": [
      "Количества клиентов, недостигших совершеннолетия: 101\n",
      "Количества клиентов, возраст которых равен 0: 101\n"
     ]
    }
   ],
   "source": [
    "row_age_less_18 = df[df['dob_years'] < 18].shape[0]\n",
    "row_age_zero = df[(df['dob_years'] == 0)].shape[0]\n",
    "print(f'Количества клиентов, недостигших совершеннолетия: {row_age_less_18}')\n",
    "print(f'Количества клиентов, возраст которых равен 0: {row_age_zero}')"
   ]
  },
  {
   "cell_type": "markdown",
   "metadata": {},
   "source": [
    "Как мы видим, 101 запись содержит возраст клиента равный 0. Скорее всего, в данном случае 0 использовался для заполнения недостающих данных о возрасте. Для корректировки данных, заменим 0 в данных записях на значение медианы возраста клиентов, используя метод `.loc()`  и проверим значения:"
   ]
  },
  {
   "cell_type": "code",
   "execution_count": 11,
   "metadata": {
    "scrolled": true
   },
   "outputs": [
    {
     "data": {
      "text/plain": [
       "count    21525.000000\n",
       "mean        43.496167\n",
       "std         12.231538\n",
       "min         19.000000\n",
       "25%         34.000000\n",
       "50%         43.000000\n",
       "75%         53.000000\n",
       "max         75.000000\n",
       "Name: dob_years, dtype: float64"
      ]
     },
     "execution_count": 11,
     "metadata": {},
     "output_type": "execute_result"
    }
   ],
   "source": [
    "for inc_type in df['income_type'].unique():\n",
    "    median = df.loc[df['income_type'] == inc_type, 'dob_years'].median()\n",
    "    df.loc[(df['income_type'] == inc_type) & (df['dob_years'] == 0), 'dob_years'] = median\n",
    "df['dob_years'].describe()   "
   ]
  },
  {
   "cell_type": "markdown",
   "metadata": {},
   "source": [
    "**Вывод** 101 запись содержит возраст клиента равный 0. Скорее всего, в данном случае 0 использовался для заполнения недостающих данных о возрасте. Для корректировки данных, заменили 0 в данных записях на значение медианы возраста клиентов."
   ]
  },
  {
   "cell_type": "markdown",
   "metadata": {},
   "source": [
    "#### Колонка `education`"
   ]
  },
  {
   "cell_type": "code",
   "execution_count": 12,
   "metadata": {
    "scrolled": true
   },
   "outputs": [
    {
     "data": {
      "text/plain": [
       "среднее                13750\n",
       "высшее                  4718\n",
       "СРЕДНЕЕ                  772\n",
       "Среднее                  711\n",
       "неоконченное высшее      668\n",
       "ВЫСШЕЕ                   274\n",
       "Высшее                   268\n",
       "начальное                250\n",
       "Неоконченное высшее       47\n",
       "НЕОКОНЧЕННОЕ ВЫСШЕЕ       29\n",
       "НАЧАЛЬНОЕ                 17\n",
       "Начальное                 15\n",
       "ученая степень             4\n",
       "Ученая степень             1\n",
       "УЧЕНАЯ СТЕПЕНЬ             1\n",
       "Name: education, dtype: int64"
      ]
     },
     "execution_count": 12,
     "metadata": {},
     "output_type": "execute_result"
    }
   ],
   "source": [
    "df['education'].value_counts()"
   ]
  },
  {
   "cell_type": "markdown",
   "metadata": {},
   "source": [
    "**Вывод** Значения данного столбца будут откорректированы в пунке 2.3 "
   ]
  },
  {
   "cell_type": "markdown",
   "metadata": {},
   "source": [
    "#### Колонка `education_id`"
   ]
  },
  {
   "cell_type": "markdown",
   "metadata": {},
   "source": [
    "По данным колонки `education` видно, что у нас может быть 5 категорий образования (начальное, среднее, незаконченное высшее, высшее, ученая степень):"
   ]
  },
  {
   "cell_type": "code",
   "execution_count": 13,
   "metadata": {
    "scrolled": true
   },
   "outputs": [
    {
     "data": {
      "text/plain": [
       "1    15233\n",
       "0     5260\n",
       "2      744\n",
       "3      282\n",
       "4        6\n",
       "Name: education_id, dtype: int64"
      ]
     },
     "execution_count": 13,
     "metadata": {},
     "output_type": "execute_result"
    }
   ],
   "source": [
    "df['education_id'].value_counts()"
   ]
  },
  {
   "cell_type": "markdown",
   "metadata": {},
   "source": [
    "**Вывод** Данные корректны, полученный результат соответсвует ожидаемому"
   ]
  },
  {
   "cell_type": "markdown",
   "metadata": {},
   "source": [
    "#### Колонка `family_status`"
   ]
  },
  {
   "cell_type": "code",
   "execution_count": 14,
   "metadata": {
    "scrolled": true
   },
   "outputs": [
    {
     "data": {
      "text/plain": [
       "женат / замужем          12380\n",
       "гражданский брак          4177\n",
       "Не женат / не замужем     2813\n",
       "в разводе                 1195\n",
       "вдовец / вдова             960\n",
       "Name: family_status, dtype: int64"
      ]
     },
     "execution_count": 14,
     "metadata": {},
     "output_type": "execute_result"
    }
   ],
   "source": [
    "df['family_status'].value_counts()"
   ]
  },
  {
   "cell_type": "markdown",
   "metadata": {},
   "source": [
    "**Вывод** Данные корректны и дают 5 различных категорий"
   ]
  },
  {
   "cell_type": "markdown",
   "metadata": {},
   "source": [
    "#### Колонка `family_status_id`"
   ]
  },
  {
   "cell_type": "code",
   "execution_count": 15,
   "metadata": {},
   "outputs": [
    {
     "data": {
      "text/plain": [
       "0    12380\n",
       "1     4177\n",
       "4     2813\n",
       "3     1195\n",
       "2      960\n",
       "Name: family_status_id, dtype: int64"
      ]
     },
     "execution_count": 15,
     "metadata": {},
     "output_type": "execute_result"
    }
   ],
   "source": [
    "df['family_status_id'].value_counts()"
   ]
  },
  {
   "cell_type": "markdown",
   "metadata": {},
   "source": [
    "**Вывод** Данные корректны и представлены 5 категориями"
   ]
  },
  {
   "cell_type": "markdown",
   "metadata": {},
   "source": [
    "#### Колонка `gender`"
   ]
  },
  {
   "cell_type": "code",
   "execution_count": 16,
   "metadata": {},
   "outputs": [
    {
     "data": {
      "text/plain": [
       "F      14236\n",
       "M       7288\n",
       "XNA        1\n",
       "Name: gender, dtype: int64"
      ]
     },
     "execution_count": 16,
     "metadata": {},
     "output_type": "execute_result"
    }
   ],
   "source": [
    "df['gender'].value_counts()"
   ]
  },
  {
   "cell_type": "markdown",
   "metadata": {},
   "source": [
    "Очень интересно, применяют ли банку систему самоидентификации по половому признаку, поскольку одна запись имеет пол XNA, что бы это не значило. Поскольку мы не можем заполнить эту категориальную переменную по имеющимся у нас данным заменим XNA на `unknown`:"
   ]
  },
  {
   "cell_type": "code",
   "execution_count": 17,
   "metadata": {},
   "outputs": [
    {
     "data": {
      "text/plain": [
       "F          14236\n",
       "M           7288\n",
       "unknown        1\n",
       "Name: gender, dtype: int64"
      ]
     },
     "execution_count": 17,
     "metadata": {},
     "output_type": "execute_result"
    }
   ],
   "source": [
    "df.loc[df['gender'] == 'XNA', 'gender'] = 'unknown'\n",
    "df['gender'].value_counts()"
   ]
  },
  {
   "cell_type": "markdown",
   "metadata": {},
   "source": [
    "**Вывод** Переменная ¨XNA заменена на \"unknown\""
   ]
  },
  {
   "cell_type": "markdown",
   "metadata": {},
   "source": [
    "#### Колонка `income_type`"
   ]
  },
  {
   "cell_type": "code",
   "execution_count": 18,
   "metadata": {},
   "outputs": [
    {
     "data": {
      "text/plain": [
       "сотрудник          11119\n",
       "компаньон           5085\n",
       "пенсионер           3856\n",
       "госслужащий         1459\n",
       "предприниматель        2\n",
       "безработный            2\n",
       "в декрете              1\n",
       "студент                1\n",
       "Name: income_type, dtype: int64"
      ]
     },
     "execution_count": 18,
     "metadata": {},
     "output_type": "execute_result"
    }
   ],
   "source": [
    "df['income_type'].value_counts()"
   ]
  },
  {
   "cell_type": "markdown",
   "metadata": {},
   "source": [
    "**Вывод** Данные корректны"
   ]
  },
  {
   "cell_type": "markdown",
   "metadata": {},
   "source": [
    "#### Колонка `debt`"
   ]
  },
  {
   "cell_type": "code",
   "execution_count": 19,
   "metadata": {},
   "outputs": [
    {
     "data": {
      "text/plain": [
       "0    19784\n",
       "1     1741\n",
       "Name: debt, dtype: int64"
      ]
     },
     "execution_count": 19,
     "metadata": {},
     "output_type": "execute_result"
    }
   ],
   "source": [
    "df['debt'].value_counts()"
   ]
  },
  {
   "cell_type": "markdown",
   "metadata": {},
   "source": [
    "**Вывод** Данные корректны, 0 - нет задолженности, 1 - имеется задолженность"
   ]
  },
  {
   "cell_type": "markdown",
   "metadata": {},
   "source": [
    "#### Колонка `total_income`"
   ]
  },
  {
   "cell_type": "code",
   "execution_count": 20,
   "metadata": {},
   "outputs": [
    {
     "data": {
      "text/plain": [
       "count    1.935100e+04\n",
       "mean     1.674223e+05\n",
       "std      1.029716e+05\n",
       "min      2.066726e+04\n",
       "25%      1.030532e+05\n",
       "50%      1.450179e+05\n",
       "75%      2.034351e+05\n",
       "max      2.265604e+06\n",
       "Name: total_income, dtype: float64"
      ]
     },
     "execution_count": 20,
     "metadata": {},
     "output_type": "execute_result"
    }
   ],
   "source": [
    "df['total_income'].describe()"
   ]
  },
  {
   "cell_type": "markdown",
   "metadata": {},
   "source": [
    "**Вывод** Имеющиеся данные корректны, артефактов не обнаружено."
   ]
  },
  {
   "cell_type": "markdown",
   "metadata": {},
   "source": [
    "#### Колонка `purpose`\n"
   ]
  },
  {
   "cell_type": "code",
   "execution_count": 21,
   "metadata": {
    "scrolled": false
   },
   "outputs": [
    {
     "data": {
      "text/plain": [
       "array(['покупка жилья', 'приобретение автомобиля',\n",
       "       'дополнительное образование', 'сыграть свадьбу',\n",
       "       'операции с жильем', 'образование', 'на проведение свадьбы',\n",
       "       'покупка жилья для семьи', 'покупка недвижимости',\n",
       "       'покупка коммерческой недвижимости', 'покупка жилой недвижимости',\n",
       "       'строительство собственной недвижимости', 'недвижимость',\n",
       "       'строительство недвижимости', 'на покупку подержанного автомобиля',\n",
       "       'на покупку своего автомобиля',\n",
       "       'операции с коммерческой недвижимостью',\n",
       "       'строительство жилой недвижимости', 'жилье',\n",
       "       'операции со своей недвижимостью', 'автомобили',\n",
       "       'заняться образованием', 'сделка с подержанным автомобилем',\n",
       "       'получение образования', 'автомобиль', 'свадьба',\n",
       "       'получение дополнительного образования', 'покупка своего жилья',\n",
       "       'операции с недвижимостью', 'получение высшего образования',\n",
       "       'свой автомобиль', 'сделка с автомобилем',\n",
       "       'профильное образование', 'высшее образование',\n",
       "       'покупка жилья для сдачи', 'на покупку автомобиля', 'ремонт жилью',\n",
       "       'заняться высшим образованием'], dtype=object)"
      ]
     },
     "execution_count": 21,
     "metadata": {},
     "output_type": "execute_result"
    }
   ],
   "source": [
    "df['purpose'].unique()"
   ]
  },
  {
   "cell_type": "markdown",
   "metadata": {},
   "source": [
    "**Вывод** Одни и те же цели формулируются клиентами по разному, в дальнейшем мы проведем лемматизацию значений этого столбца"
   ]
  },
  {
   "cell_type": "markdown",
   "metadata": {},
   "source": [
    "**Вывод**\n",
    "- таблица содержит 21525 записей\n",
    "- названия столбцов написаны корректно, нет необходимости менять их имена\n",
    "- типы столбцов соответствуют их значениям: столбцы с количественными переменными (`children`, `days employed`, `dob_years`, `debt`,`total_income`) имеют тип `float` или `int`в то время как оставшиеся столбцы с категориальными переменными имеют тип `object` за исключением столбцов `education_id ` и `family_status_id`, имеющих тип `int`. Исходя из первичных представлений нет необходимости менять тип данных в столбцах помимо столбцов с типом данных `float` - для них такая точность значений не нужна, и для более читабельного представления данных в дальнейшем можно поменять их тип на `int`.\n",
    "- пропуски данных для столбцов `days employed` и `total_income` в количестве 21525-19 351 = 2174 что составляет 10% от общего числа записей.\n",
    "- в 47 записях фигурирует отрицательное количество детей (-1), что невозможно, у 76 клиетов в семье 20 детей (что малоправдоподобно), записи с -1 ребенком заменены на записи с 1. В дальнейшем перепроверить достоверность информации по клиентам с 20 детьми.\n",
    "- общий трудовой стаж не может быть отрицательным числом. Из-за большого количества таких записей (более 70% от всей информации) можно предположить что при выгрузке данных имела места техническая ошибка. Для дальнейшего анализа информации  отрицательные значения в `days_employed` заменены на положительные.\n",
    "- 101 запись содержит возраст клиента равный 0. Скорее всего, в данном случае 0 использовался для заполнения недостающих данных о возрасте. Для корректировки данных, заменили 0 в данных записях на значение медианы возраста клиентов.\n",
    "- колонка `education` содержит дубликаты (написанный в разном регистре тип образования).\n",
    "- выявлен клиент с загадочным полом XNA, заменен на 'unknown'.\n",
    "- для обобщения целей кредита колонка `purpose` будет лемматизирована.\n"
   ]
  },
  {
   "cell_type": "markdown",
   "metadata": {},
   "source": [
    "##  Предобработка данных"
   ]
  },
  {
   "cell_type": "markdown",
   "metadata": {},
   "source": [
    "### Обработка пропусков"
   ]
  },
  {
   "cell_type": "markdown",
   "metadata": {},
   "source": [
    "#### Общая информация о пропусках\n",
    "Посчитаем количество пропусков для каждого столбца:"
   ]
  },
  {
   "cell_type": "code",
   "execution_count": 22,
   "metadata": {},
   "outputs": [
    {
     "data": {
      "text/plain": [
       "children               0\n",
       "days_employed       2174\n",
       "dob_years              0\n",
       "education              0\n",
       "education_id           0\n",
       "family_status          0\n",
       "family_status_id       0\n",
       "gender                 0\n",
       "income_type            0\n",
       "debt                   0\n",
       "total_income        2174\n",
       "purpose                0\n",
       "dtype: int64"
      ]
     },
     "execution_count": 22,
     "metadata": {},
     "output_type": "execute_result"
    }
   ],
   "source": [
    "df.isna().sum()"
   ]
  },
  {
   "cell_type": "markdown",
   "metadata": {},
   "source": [
    "**Вывод** Как мы видим, пропущенные значения в количественных переменных для столбцов `days_employed` и `total_income`. Для банковских данных это действительно странно, поскольку одним из необходимых документов при обращении за кредитом является справка о доходах, как и записи из трудовой (для определения стажа). Возможно пропуски обусловлены нежеданием клиента предоставлять данную инфрмацию, либо технической проблемой при выгрузке данных."
   ]
  },
  {
   "cell_type": "markdown",
   "metadata": {},
   "source": [
    "#### Обработка пропусков в `days_employed`"
   ]
  },
  {
   "cell_type": "markdown",
   "metadata": {},
   "source": [
    "Поскольку в столбце представлены количественные значения, и нам очень сильно хочется их заполнить, то мы будем их заполнять медианным значением. Для начала напомним характеристики данного столбца:"
   ]
  },
  {
   "cell_type": "code",
   "execution_count": 23,
   "metadata": {},
   "outputs": [
    {
     "data": {
      "text/plain": [
       "count     19351.000000\n",
       "mean      66914.728907\n",
       "std      139030.880527\n",
       "min          24.141633\n",
       "25%         927.009265\n",
       "50%        2194.220567\n",
       "75%        5537.882441\n",
       "max      401755.400475\n",
       "Name: days_employed, dtype: float64"
      ]
     },
     "execution_count": 23,
     "metadata": {},
     "output_type": "execute_result"
    }
   ],
   "source": [
    "df['days_employed'].describe()"
   ]
  },
  {
   "cell_type": "markdown",
   "metadata": {},
   "source": [
    "Мы видим, что разброс в данных весьма значителен - от 24 до 401755 дней. При этом трудовой стаж в днях для клиента проработавшего 60 лет с учетом того , что в году в среднем 250 рабочих дней = 250 * 60 = 15000 дней. Таким образом, значения в `days_employed` вряд ли могут больше 15000, возможно произошла ошибка и стаж для некоторых записей представлен не в виде дней, а в виде часов. При отсутствии возможности уточнить данную информацию заменим аномально высокие значения в `days_employed` на результат их деления на 24:"
   ]
  },
  {
   "cell_type": "code",
   "execution_count": 24,
   "metadata": {},
   "outputs": [
    {
     "data": {
      "text/plain": [
       "count    19351.000000\n",
       "mean      4631.293458\n",
       "std       5348.688897\n",
       "min         24.141633\n",
       "25%        925.259012\n",
       "50%       2190.296191\n",
       "75%       5520.672818\n",
       "max      16739.808353\n",
       "Name: days_employed, dtype: float64"
      ]
     },
     "execution_count": 24,
     "metadata": {},
     "output_type": "execute_result"
    }
   ],
   "source": [
    "df['days_employed'] = df['days_employed'].apply(lambda x: x/24 if x > 15000 else x)\n",
    "df['days_employed'].describe()"
   ]
  },
  {
   "cell_type": "markdown",
   "metadata": {},
   "source": [
    "Поскольку разброс значений выборки значителен мы не будем брать общую медиану. Для начала сгруппируем данные по параметру, оказывающий наибольшее влияние на общий трудовой стаж, и затем найдем медиану для каждой группы. По моему мнению, параметр, оказывающий наибольшее влияние на трудовой стаж `days_employed` - это возраст клиента`dob_years`. Для группировки данных по возрасту уже на данном этапе проведем категоризацию по возрастным группам, используя метод `cut()` или `apply()`. Напомним, что в п.1.3.3 мы уже заменили некорректные данные по возрасту (там, где возраст равен 0):"
   ]
  },
  {
   "cell_type": "code",
   "execution_count": 25,
   "metadata": {},
   "outputs": [
    {
     "data": {
      "text/html": [
       "<div>\n",
       "<style scoped>\n",
       "    .dataframe tbody tr th:only-of-type {\n",
       "        vertical-align: middle;\n",
       "    }\n",
       "\n",
       "    .dataframe tbody tr th {\n",
       "        vertical-align: top;\n",
       "    }\n",
       "\n",
       "    .dataframe thead th {\n",
       "        text-align: right;\n",
       "    }\n",
       "</style>\n",
       "<table border=\"1\" class=\"dataframe\">\n",
       "  <thead>\n",
       "    <tr style=\"text-align: right;\">\n",
       "      <th></th>\n",
       "      <th>children</th>\n",
       "      <th>days_employed</th>\n",
       "      <th>dob_years</th>\n",
       "      <th>education</th>\n",
       "      <th>education_id</th>\n",
       "      <th>family_status</th>\n",
       "      <th>family_status_id</th>\n",
       "      <th>gender</th>\n",
       "      <th>income_type</th>\n",
       "      <th>debt</th>\n",
       "      <th>total_income</th>\n",
       "      <th>purpose</th>\n",
       "      <th>group_age</th>\n",
       "    </tr>\n",
       "  </thead>\n",
       "  <tbody>\n",
       "    <tr>\n",
       "      <td>0</td>\n",
       "      <td>1</td>\n",
       "      <td>8437.673028</td>\n",
       "      <td>42.0</td>\n",
       "      <td>высшее</td>\n",
       "      <td>0</td>\n",
       "      <td>женат / замужем</td>\n",
       "      <td>0</td>\n",
       "      <td>F</td>\n",
       "      <td>сотрудник</td>\n",
       "      <td>0</td>\n",
       "      <td>253875.639453</td>\n",
       "      <td>покупка жилья</td>\n",
       "      <td>взрослый</td>\n",
       "    </tr>\n",
       "    <tr>\n",
       "      <td>1</td>\n",
       "      <td>1</td>\n",
       "      <td>4024.803754</td>\n",
       "      <td>36.0</td>\n",
       "      <td>среднее</td>\n",
       "      <td>1</td>\n",
       "      <td>женат / замужем</td>\n",
       "      <td>0</td>\n",
       "      <td>F</td>\n",
       "      <td>сотрудник</td>\n",
       "      <td>0</td>\n",
       "      <td>112080.014102</td>\n",
       "      <td>приобретение автомобиля</td>\n",
       "      <td>взрослый</td>\n",
       "    </tr>\n",
       "    <tr>\n",
       "      <td>2</td>\n",
       "      <td>0</td>\n",
       "      <td>5623.422610</td>\n",
       "      <td>33.0</td>\n",
       "      <td>Среднее</td>\n",
       "      <td>1</td>\n",
       "      <td>женат / замужем</td>\n",
       "      <td>0</td>\n",
       "      <td>M</td>\n",
       "      <td>сотрудник</td>\n",
       "      <td>0</td>\n",
       "      <td>145885.952297</td>\n",
       "      <td>покупка жилья</td>\n",
       "      <td>молодой</td>\n",
       "    </tr>\n",
       "    <tr>\n",
       "      <td>3</td>\n",
       "      <td>3</td>\n",
       "      <td>4124.747207</td>\n",
       "      <td>32.0</td>\n",
       "      <td>среднее</td>\n",
       "      <td>1</td>\n",
       "      <td>женат / замужем</td>\n",
       "      <td>0</td>\n",
       "      <td>M</td>\n",
       "      <td>сотрудник</td>\n",
       "      <td>0</td>\n",
       "      <td>267628.550329</td>\n",
       "      <td>дополнительное образование</td>\n",
       "      <td>молодой</td>\n",
       "    </tr>\n",
       "    <tr>\n",
       "      <td>4</td>\n",
       "      <td>0</td>\n",
       "      <td>14177.753002</td>\n",
       "      <td>53.0</td>\n",
       "      <td>среднее</td>\n",
       "      <td>1</td>\n",
       "      <td>гражданский брак</td>\n",
       "      <td>1</td>\n",
       "      <td>F</td>\n",
       "      <td>пенсионер</td>\n",
       "      <td>0</td>\n",
       "      <td>158616.077870</td>\n",
       "      <td>сыграть свадьбу</td>\n",
       "      <td>взрослый</td>\n",
       "    </tr>\n",
       "  </tbody>\n",
       "</table>\n",
       "</div>"
      ],
      "text/plain": [
       "   children  days_employed  dob_years education  education_id  \\\n",
       "0         1    8437.673028       42.0    высшее             0   \n",
       "1         1    4024.803754       36.0   среднее             1   \n",
       "2         0    5623.422610       33.0   Среднее             1   \n",
       "3         3    4124.747207       32.0   среднее             1   \n",
       "4         0   14177.753002       53.0   среднее             1   \n",
       "\n",
       "      family_status  family_status_id gender income_type  debt   total_income  \\\n",
       "0   женат / замужем                 0      F   сотрудник     0  253875.639453   \n",
       "1   женат / замужем                 0      F   сотрудник     0  112080.014102   \n",
       "2   женат / замужем                 0      M   сотрудник     0  145885.952297   \n",
       "3   женат / замужем                 0      M   сотрудник     0  267628.550329   \n",
       "4  гражданский брак                 1      F   пенсионер     0  158616.077870   \n",
       "\n",
       "                      purpose group_age  \n",
       "0               покупка жилья  взрослый  \n",
       "1     приобретение автомобиля  взрослый  \n",
       "2               покупка жилья   молодой  \n",
       "3  дополнительное образование   молодой  \n",
       "4             сыграть свадьбу  взрослый  "
      ]
     },
     "execution_count": 25,
     "metadata": {},
     "output_type": "execute_result"
    }
   ],
   "source": [
    "df['group_age'] = pd.cut(df['dob_years'], [18, 35, 55, 65, 75], labels = ['молодой', 'взрослый', 'предпенсионный', 'пенсионный'])\n",
    "df.head()\n",
    "# То же самое, но с созданием функции и использованием apply\n",
    "# def split_group_age(age):\n",
    "# ''' Делит клиетов по возрастным группам'''\n",
    "#     if age <= 35:\n",
    "#         return 'молодой'\n",
    "#     elif 35 < age <= 55:\n",
    "#         return 'взрослый'\n",
    "#     elif 55 < age <= 65:\n",
    "#         return 'предпенсионный'\n",
    "#     else:\n",
    "#         return 'пенсионный'\n",
    "#df['group_age'] = df['dob_years'].apply(split_group_age)"
   ]
  },
  {
   "cell_type": "markdown",
   "metadata": {},
   "source": [
    "Заполним недостающие значения в соответсвии со  значением медианы `days_employed`, найденным после группировки данных по `group_age` методом `transform` (закомментирован) или методом loc:"
   ]
  },
  {
   "cell_type": "code",
   "execution_count": 26,
   "metadata": {},
   "outputs": [],
   "source": [
    "#df['days_employed'] = df['days_employed'].fillna(df.groupby('group_age')['days_employed'].transform(\"median\"))\n",
    "\n",
    "for age in df['group_age'].unique():\n",
    "    median = df.loc[df['group_age'] == age, 'days_employed'].median()\n",
    "    df.loc[(df['group_age'] == age) & df['days_employed'].isna(), 'days_employed'] = median"
   ]
  },
  {
   "cell_type": "code",
   "execution_count": 27,
   "metadata": {},
   "outputs": [],
   "source": [
    "test = df.copy()"
   ]
  },
  {
   "cell_type": "code",
   "execution_count": null,
   "metadata": {},
   "outputs": [],
   "source": []
  },
  {
   "cell_type": "markdown",
   "metadata": {},
   "source": [
    "Проверим успешно ли мы заполнили пропущенные значения в столбце `days_employed`:"
   ]
  },
  {
   "cell_type": "code",
   "execution_count": 28,
   "metadata": {},
   "outputs": [
    {
     "name": "stdout",
     "output_type": "stream",
     "text": [
      "<class 'pandas.core.frame.DataFrame'>\n",
      "RangeIndex: 21525 entries, 0 to 21524\n",
      "Data columns (total 13 columns):\n",
      "children            21525 non-null int64\n",
      "days_employed       21525 non-null float64\n",
      "dob_years           21525 non-null float64\n",
      "education           21525 non-null object\n",
      "education_id        21525 non-null int64\n",
      "family_status       21525 non-null object\n",
      "family_status_id    21525 non-null int64\n",
      "gender              21525 non-null object\n",
      "income_type         21525 non-null object\n",
      "debt                21525 non-null int64\n",
      "total_income        19351 non-null float64\n",
      "purpose             21525 non-null object\n",
      "group_age           21525 non-null category\n",
      "dtypes: category(1), float64(3), int64(4), object(5)\n",
      "memory usage: 2.0+ MB\n"
     ]
    }
   ],
   "source": [
    "df.info()"
   ]
  },
  {
   "cell_type": "markdown",
   "metadata": {},
   "source": [
    "**Вывод** Недостающие данные в столбце `days_employed` заменены на медиану, вычисленную при группировки данных по созданному при категоризации столбцу `group_age`"
   ]
  },
  {
   "cell_type": "markdown",
   "metadata": {},
   "source": [
    "#### Обработка пропусков в `total_income`"
   ]
  },
  {
   "cell_type": "markdown",
   "metadata": {},
   "source": [
    "Аналогичным образом проводим заполнение недостающих значений в `total_income`  для этого:\n",
    "- определяем основные характеристики `total_income`\n",
    "- определяем показатель, который в большей степени влияет на `total_income` - `income_type`\n",
    "- находим медиану для каждой группы данных\n",
    "- применяем метод `loc` для заполнения пропусков, сгрупированных по `income_type` (либо методом `transform` (закоментирован))\n",
    "- определяем количество пропущенных данных после заполнения:"
   ]
  },
  {
   "cell_type": "code",
   "execution_count": 29,
   "metadata": {},
   "outputs": [
    {
     "data": {
      "text/plain": [
       "count    1.935100e+04\n",
       "mean     1.674223e+05\n",
       "std      1.029716e+05\n",
       "min      2.066726e+04\n",
       "25%      1.030532e+05\n",
       "50%      1.450179e+05\n",
       "75%      2.034351e+05\n",
       "max      2.265604e+06\n",
       "Name: total_income, dtype: float64"
      ]
     },
     "metadata": {},
     "output_type": "display_data"
    },
    {
     "name": "stdout",
     "output_type": "stream",
     "text": [
      "<class 'pandas.core.frame.DataFrame'>\n",
      "RangeIndex: 21525 entries, 0 to 21524\n",
      "Data columns (total 13 columns):\n",
      "children            21525 non-null int64\n",
      "days_employed       21525 non-null float64\n",
      "dob_years           21525 non-null float64\n",
      "education           21525 non-null object\n",
      "education_id        21525 non-null int64\n",
      "family_status       21525 non-null object\n",
      "family_status_id    21525 non-null int64\n",
      "gender              21525 non-null object\n",
      "income_type         21525 non-null object\n",
      "debt                21525 non-null int64\n",
      "total_income        21525 non-null float64\n",
      "purpose             21525 non-null object\n",
      "group_age           21525 non-null category\n",
      "dtypes: category(1), float64(3), int64(4), object(5)\n",
      "memory usage: 2.0+ MB\n"
     ]
    }
   ],
   "source": [
    "display(df['total_income'].describe())\n",
    "for inc_type in df['income_type'].unique():\n",
    "    median = df.loc[df['income_type'] == inc_type, 'total_income'].median()\n",
    "    df.loc[(df['total_income'].isna()) & (df['income_type'] == inc_type), 'total_income'] = median\n",
    "df.info()\n",
    "#df['total_income'] = df['total_income'].fillna(df.groupby('income_type')['total_income'].transform(\"median\"))\n",
    "#df.info()"
   ]
  },
  {
   "cell_type": "markdown",
   "metadata": {},
   "source": [
    "**Вывод** Недостающие данные в столбце `total_income` заменены на медиану, вычисленную при группировки данных по созданному при категоризации столбцу `income_type`"
   ]
  },
  {
   "cell_type": "markdown",
   "metadata": {},
   "source": [
    "### Замена типа данных"
   ]
  },
  {
   "cell_type": "markdown",
   "metadata": {},
   "source": [
    "В данном случае целесообразно заменить тип данных в двух столбцах `days_employed` и `total_income`, которые имеют вещественный тип данных  `float`, в данном примере у нас нет необходимости в точности данных до 6 цифры после запятой. Использование `astype('int')` будет отбрасывать дробную часть числа после точки. Для более корректного преобразования для начала округлим значения `float`, используя метод `round()`, а затем приведем его  к `int`"
   ]
  },
  {
   "cell_type": "code",
   "execution_count": 30,
   "metadata": {},
   "outputs": [],
   "source": [
    "df['days_employed'] = df['days_employed'].round(0).astype('int')"
   ]
  },
  {
   "cell_type": "code",
   "execution_count": 31,
   "metadata": {},
   "outputs": [],
   "source": [
    "df['total_income'] = df['total_income'].round(0).astype('int')"
   ]
  },
  {
   "cell_type": "markdown",
   "metadata": {},
   "source": [
    "Убедимся, что замена типов данных прошла успешно:"
   ]
  },
  {
   "cell_type": "code",
   "execution_count": 32,
   "metadata": {},
   "outputs": [
    {
     "data": {
      "text/plain": [
       "children               int64\n",
       "days_employed          int32\n",
       "dob_years            float64\n",
       "education             object\n",
       "education_id           int64\n",
       "family_status         object\n",
       "family_status_id       int64\n",
       "gender                object\n",
       "income_type           object\n",
       "debt                   int64\n",
       "total_income           int32\n",
       "purpose               object\n",
       "group_age           category\n",
       "dtype: object"
      ]
     },
     "execution_count": 32,
     "metadata": {},
     "output_type": "execute_result"
    }
   ],
   "source": [
    "df.dtypes"
   ]
  },
  {
   "cell_type": "code",
   "execution_count": 33,
   "metadata": {},
   "outputs": [
    {
     "data": {
      "text/html": [
       "<div>\n",
       "<style scoped>\n",
       "    .dataframe tbody tr th:only-of-type {\n",
       "        vertical-align: middle;\n",
       "    }\n",
       "\n",
       "    .dataframe tbody tr th {\n",
       "        vertical-align: top;\n",
       "    }\n",
       "\n",
       "    .dataframe thead th {\n",
       "        text-align: right;\n",
       "    }\n",
       "</style>\n",
       "<table border=\"1\" class=\"dataframe\">\n",
       "  <thead>\n",
       "    <tr style=\"text-align: right;\">\n",
       "      <th></th>\n",
       "      <th>children</th>\n",
       "      <th>days_employed</th>\n",
       "      <th>dob_years</th>\n",
       "      <th>education</th>\n",
       "      <th>education_id</th>\n",
       "      <th>family_status</th>\n",
       "      <th>family_status_id</th>\n",
       "      <th>gender</th>\n",
       "      <th>income_type</th>\n",
       "      <th>debt</th>\n",
       "      <th>total_income</th>\n",
       "      <th>purpose</th>\n",
       "      <th>group_age</th>\n",
       "    </tr>\n",
       "  </thead>\n",
       "  <tbody>\n",
       "    <tr>\n",
       "      <td>0</td>\n",
       "      <td>1</td>\n",
       "      <td>8438</td>\n",
       "      <td>42.0</td>\n",
       "      <td>высшее</td>\n",
       "      <td>0</td>\n",
       "      <td>женат / замужем</td>\n",
       "      <td>0</td>\n",
       "      <td>F</td>\n",
       "      <td>сотрудник</td>\n",
       "      <td>0</td>\n",
       "      <td>253876</td>\n",
       "      <td>покупка жилья</td>\n",
       "      <td>взрослый</td>\n",
       "    </tr>\n",
       "    <tr>\n",
       "      <td>1</td>\n",
       "      <td>1</td>\n",
       "      <td>4025</td>\n",
       "      <td>36.0</td>\n",
       "      <td>среднее</td>\n",
       "      <td>1</td>\n",
       "      <td>женат / замужем</td>\n",
       "      <td>0</td>\n",
       "      <td>F</td>\n",
       "      <td>сотрудник</td>\n",
       "      <td>0</td>\n",
       "      <td>112080</td>\n",
       "      <td>приобретение автомобиля</td>\n",
       "      <td>взрослый</td>\n",
       "    </tr>\n",
       "    <tr>\n",
       "      <td>2</td>\n",
       "      <td>0</td>\n",
       "      <td>5623</td>\n",
       "      <td>33.0</td>\n",
       "      <td>Среднее</td>\n",
       "      <td>1</td>\n",
       "      <td>женат / замужем</td>\n",
       "      <td>0</td>\n",
       "      <td>M</td>\n",
       "      <td>сотрудник</td>\n",
       "      <td>0</td>\n",
       "      <td>145886</td>\n",
       "      <td>покупка жилья</td>\n",
       "      <td>молодой</td>\n",
       "    </tr>\n",
       "    <tr>\n",
       "      <td>3</td>\n",
       "      <td>3</td>\n",
       "      <td>4125</td>\n",
       "      <td>32.0</td>\n",
       "      <td>среднее</td>\n",
       "      <td>1</td>\n",
       "      <td>женат / замужем</td>\n",
       "      <td>0</td>\n",
       "      <td>M</td>\n",
       "      <td>сотрудник</td>\n",
       "      <td>0</td>\n",
       "      <td>267629</td>\n",
       "      <td>дополнительное образование</td>\n",
       "      <td>молодой</td>\n",
       "    </tr>\n",
       "    <tr>\n",
       "      <td>4</td>\n",
       "      <td>0</td>\n",
       "      <td>14178</td>\n",
       "      <td>53.0</td>\n",
       "      <td>среднее</td>\n",
       "      <td>1</td>\n",
       "      <td>гражданский брак</td>\n",
       "      <td>1</td>\n",
       "      <td>F</td>\n",
       "      <td>пенсионер</td>\n",
       "      <td>0</td>\n",
       "      <td>158616</td>\n",
       "      <td>сыграть свадьбу</td>\n",
       "      <td>взрослый</td>\n",
       "    </tr>\n",
       "  </tbody>\n",
       "</table>\n",
       "</div>"
      ],
      "text/plain": [
       "   children  days_employed  dob_years education  education_id  \\\n",
       "0         1           8438       42.0    высшее             0   \n",
       "1         1           4025       36.0   среднее             1   \n",
       "2         0           5623       33.0   Среднее             1   \n",
       "3         3           4125       32.0   среднее             1   \n",
       "4         0          14178       53.0   среднее             1   \n",
       "\n",
       "      family_status  family_status_id gender income_type  debt  total_income  \\\n",
       "0   женат / замужем                 0      F   сотрудник     0        253876   \n",
       "1   женат / замужем                 0      F   сотрудник     0        112080   \n",
       "2   женат / замужем                 0      M   сотрудник     0        145886   \n",
       "3   женат / замужем                 0      M   сотрудник     0        267629   \n",
       "4  гражданский брак                 1      F   пенсионер     0        158616   \n",
       "\n",
       "                      purpose group_age  \n",
       "0               покупка жилья  взрослый  \n",
       "1     приобретение автомобиля  взрослый  \n",
       "2               покупка жилья   молодой  \n",
       "3  дополнительное образование   молодой  \n",
       "4             сыграть свадьбу  взрослый  "
      ]
     },
     "execution_count": 33,
     "metadata": {},
     "output_type": "execute_result"
    }
   ],
   "source": [
    "df.head()"
   ]
  },
  {
   "cell_type": "markdown",
   "metadata": {},
   "source": [
    "**Вывод**\n",
    "Мы преобразовали данные в столбцах `days_employed` и `total_income` к наиболее оптимальному для понимания и чтения виду, при этом при преобразовании дробная часть не откидывалась, а округлялась."
   ]
  },
  {
   "cell_type": "markdown",
   "metadata": {},
   "source": [
    "### Обработка дубликатов"
   ]
  },
  {
   "cell_type": "markdown",
   "metadata": {},
   "source": [
    "#### Полные дубликаты"
   ]
  },
  {
   "cell_type": "markdown",
   "metadata": {},
   "source": [
    "Найдем количество полных дубликатов:"
   ]
  },
  {
   "cell_type": "code",
   "execution_count": 34,
   "metadata": {
    "scrolled": true
   },
   "outputs": [
    {
     "data": {
      "text/plain": [
       "54"
      ]
     },
     "execution_count": 34,
     "metadata": {},
     "output_type": "execute_result"
    }
   ],
   "source": [
    "df.duplicated().sum()"
   ]
  },
  {
   "cell_type": "markdown",
   "metadata": {},
   "source": [
    "**Вывод** Мы не удаляем дубликаты, исходя из возможности клиента иметь несколько заявок на кредит. При отсутвии дополнительной информации (даты одобрения кредита, суммы) мы не можем быть уверенными что найденные дубликаты является в полном смысле полными дубликатами."
   ]
  },
  {
   "cell_type": "markdown",
   "metadata": {},
   "source": [
    "#### Неявные дубликаты"
   ]
  },
  {
   "cell_type": "markdown",
   "metadata": {},
   "source": [
    "Как мы видели ранее, для столбца `education` характерны одни и те же значения, записанные в разном регистре:"
   ]
  },
  {
   "cell_type": "code",
   "execution_count": 35,
   "metadata": {},
   "outputs": [
    {
     "data": {
      "text/plain": [
       "среднее                13750\n",
       "высшее                  4718\n",
       "СРЕДНЕЕ                  772\n",
       "Среднее                  711\n",
       "неоконченное высшее      668\n",
       "ВЫСШЕЕ                   274\n",
       "Высшее                   268\n",
       "начальное                250\n",
       "Неоконченное высшее       47\n",
       "НЕОКОНЧЕННОЕ ВЫСШЕЕ       29\n",
       "НАЧАЛЬНОЕ                 17\n",
       "Начальное                 15\n",
       "ученая степень             4\n",
       "Ученая степень             1\n",
       "УЧЕНАЯ СТЕПЕНЬ             1\n",
       "Name: education, dtype: int64"
      ]
     },
     "execution_count": 35,
     "metadata": {},
     "output_type": "execute_result"
    }
   ],
   "source": [
    "df['education'].value_counts()"
   ]
  },
  {
   "cell_type": "markdown",
   "metadata": {},
   "source": [
    "Переведем все значения данного столбца в нижний регистр и убедимся в правильности изменений:"
   ]
  },
  {
   "cell_type": "code",
   "execution_count": 36,
   "metadata": {
    "scrolled": false
   },
   "outputs": [
    {
     "name": "stdout",
     "output_type": "stream",
     "text": [
      "['высшее' 'среднее' 'неоконченное высшее' 'начальное' 'ученая степень']\n"
     ]
    },
    {
     "data": {
      "text/html": [
       "<div>\n",
       "<style scoped>\n",
       "    .dataframe tbody tr th:only-of-type {\n",
       "        vertical-align: middle;\n",
       "    }\n",
       "\n",
       "    .dataframe tbody tr th {\n",
       "        vertical-align: top;\n",
       "    }\n",
       "\n",
       "    .dataframe thead th {\n",
       "        text-align: right;\n",
       "    }\n",
       "</style>\n",
       "<table border=\"1\" class=\"dataframe\">\n",
       "  <thead>\n",
       "    <tr style=\"text-align: right;\">\n",
       "      <th></th>\n",
       "      <th>children</th>\n",
       "      <th>days_employed</th>\n",
       "      <th>dob_years</th>\n",
       "      <th>education</th>\n",
       "      <th>education_id</th>\n",
       "      <th>family_status</th>\n",
       "      <th>family_status_id</th>\n",
       "      <th>gender</th>\n",
       "      <th>income_type</th>\n",
       "      <th>debt</th>\n",
       "      <th>total_income</th>\n",
       "      <th>purpose</th>\n",
       "      <th>group_age</th>\n",
       "    </tr>\n",
       "  </thead>\n",
       "  <tbody>\n",
       "    <tr>\n",
       "      <td>3338</td>\n",
       "      <td>1</td>\n",
       "      <td>1222</td>\n",
       "      <td>50.0</td>\n",
       "      <td>среднее</td>\n",
       "      <td>1</td>\n",
       "      <td>женат / замужем</td>\n",
       "      <td>0</td>\n",
       "      <td>M</td>\n",
       "      <td>сотрудник</td>\n",
       "      <td>0</td>\n",
       "      <td>119971</td>\n",
       "      <td>свой автомобиль</td>\n",
       "      <td>взрослый</td>\n",
       "    </tr>\n",
       "    <tr>\n",
       "      <td>12314</td>\n",
       "      <td>0</td>\n",
       "      <td>1680</td>\n",
       "      <td>31.0</td>\n",
       "      <td>среднее</td>\n",
       "      <td>1</td>\n",
       "      <td>в разводе</td>\n",
       "      <td>3</td>\n",
       "      <td>M</td>\n",
       "      <td>компаньон</td>\n",
       "      <td>0</td>\n",
       "      <td>84479</td>\n",
       "      <td>покупка жилой недвижимости</td>\n",
       "      <td>молодой</td>\n",
       "    </tr>\n",
       "    <tr>\n",
       "      <td>17200</td>\n",
       "      <td>0</td>\n",
       "      <td>499</td>\n",
       "      <td>30.0</td>\n",
       "      <td>высшее</td>\n",
       "      <td>0</td>\n",
       "      <td>женат / замужем</td>\n",
       "      <td>0</td>\n",
       "      <td>F</td>\n",
       "      <td>сотрудник</td>\n",
       "      <td>0</td>\n",
       "      <td>216101</td>\n",
       "      <td>дополнительное образование</td>\n",
       "      <td>молодой</td>\n",
       "    </tr>\n",
       "    <tr>\n",
       "      <td>16815</td>\n",
       "      <td>0</td>\n",
       "      <td>15746</td>\n",
       "      <td>64.0</td>\n",
       "      <td>высшее</td>\n",
       "      <td>0</td>\n",
       "      <td>вдовец / вдова</td>\n",
       "      <td>2</td>\n",
       "      <td>F</td>\n",
       "      <td>пенсионер</td>\n",
       "      <td>0</td>\n",
       "      <td>89179</td>\n",
       "      <td>сделка с автомобилем</td>\n",
       "      <td>предпенсионный</td>\n",
       "    </tr>\n",
       "    <tr>\n",
       "      <td>20066</td>\n",
       "      <td>2</td>\n",
       "      <td>206</td>\n",
       "      <td>26.0</td>\n",
       "      <td>среднее</td>\n",
       "      <td>1</td>\n",
       "      <td>женат / замужем</td>\n",
       "      <td>0</td>\n",
       "      <td>F</td>\n",
       "      <td>сотрудник</td>\n",
       "      <td>0</td>\n",
       "      <td>91514</td>\n",
       "      <td>строительство собственной недвижимости</td>\n",
       "      <td>молодой</td>\n",
       "    </tr>\n",
       "  </tbody>\n",
       "</table>\n",
       "</div>"
      ],
      "text/plain": [
       "       children  days_employed  dob_years education  education_id  \\\n",
       "3338          1           1222       50.0   среднее             1   \n",
       "12314         0           1680       31.0   среднее             1   \n",
       "17200         0            499       30.0    высшее             0   \n",
       "16815         0          15746       64.0    высшее             0   \n",
       "20066         2            206       26.0   среднее             1   \n",
       "\n",
       "         family_status  family_status_id gender income_type  debt  \\\n",
       "3338   женат / замужем                 0      M   сотрудник     0   \n",
       "12314        в разводе                 3      M   компаньон     0   \n",
       "17200  женат / замужем                 0      F   сотрудник     0   \n",
       "16815   вдовец / вдова                 2      F   пенсионер     0   \n",
       "20066  женат / замужем                 0      F   сотрудник     0   \n",
       "\n",
       "       total_income                                 purpose       group_age  \n",
       "3338         119971                         свой автомобиль        взрослый  \n",
       "12314         84479              покупка жилой недвижимости         молодой  \n",
       "17200        216101              дополнительное образование         молодой  \n",
       "16815         89179                    сделка с автомобилем  предпенсионный  \n",
       "20066         91514  строительство собственной недвижимости         молодой  "
      ]
     },
     "execution_count": 36,
     "metadata": {},
     "output_type": "execute_result"
    }
   ],
   "source": [
    "df['education'] = df['education'].str.lower()\n",
    "print(df['education'].unique())\n",
    "df.sample(5)"
   ]
  },
  {
   "cell_type": "markdown",
   "metadata": {},
   "source": [
    "**Вывод** В столбце `education` значения были приведены к общему виду (lowercase). В остальных столбцах категориальные данные записаны корректно."
   ]
  },
  {
   "cell_type": "markdown",
   "metadata": {},
   "source": [
    "### Лемматизация"
   ]
  },
  {
   "cell_type": "markdown",
   "metadata": {},
   "source": [
    "Лемматизация данных должна быть проведена для столбца `purpose`. Если мы посмотрим на уникальные значения данного столбца, то увидим, что клиенты по-разному формулировали одну и ту же цель получения кредита:"
   ]
  },
  {
   "cell_type": "code",
   "execution_count": 37,
   "metadata": {
    "scrolled": false
   },
   "outputs": [
    {
     "data": {
      "text/html": [
       "<div>\n",
       "<style scoped>\n",
       "    .dataframe tbody tr th:only-of-type {\n",
       "        vertical-align: middle;\n",
       "    }\n",
       "\n",
       "    .dataframe tbody tr th {\n",
       "        vertical-align: top;\n",
       "    }\n",
       "\n",
       "    .dataframe thead th {\n",
       "        text-align: right;\n",
       "    }\n",
       "</style>\n",
       "<table border=\"1\" class=\"dataframe\">\n",
       "  <thead>\n",
       "    <tr style=\"text-align: right;\">\n",
       "      <th></th>\n",
       "      <th>purpose</th>\n",
       "      <th>purpose_general</th>\n",
       "    </tr>\n",
       "  </thead>\n",
       "  <tbody>\n",
       "    <tr>\n",
       "      <td>0</td>\n",
       "      <td>покупка жилья</td>\n",
       "      <td>недвижимость</td>\n",
       "    </tr>\n",
       "    <tr>\n",
       "      <td>1</td>\n",
       "      <td>приобретение автомобиля</td>\n",
       "      <td>автомобиль</td>\n",
       "    </tr>\n",
       "    <tr>\n",
       "      <td>2</td>\n",
       "      <td>дополнительное образование</td>\n",
       "      <td>образование</td>\n",
       "    </tr>\n",
       "    <tr>\n",
       "      <td>3</td>\n",
       "      <td>сыграть свадьбу</td>\n",
       "      <td>свадьба</td>\n",
       "    </tr>\n",
       "    <tr>\n",
       "      <td>4</td>\n",
       "      <td>операции с жильем</td>\n",
       "      <td>недвижимость</td>\n",
       "    </tr>\n",
       "  </tbody>\n",
       "</table>\n",
       "</div>"
      ],
      "text/plain": [
       "                      purpose purpose_general\n",
       "0               покупка жилья    недвижимость\n",
       "1     приобретение автомобиля      автомобиль\n",
       "2  дополнительное образование     образование\n",
       "3             сыграть свадьбу         свадьба\n",
       "4           операции с жильем    недвижимость"
      ]
     },
     "execution_count": 37,
     "metadata": {},
     "output_type": "execute_result"
    }
   ],
   "source": [
    "purposes_unique = df['purpose'].unique()\n",
    "purpose =  pd.DataFrame( data = purposes_unique, columns = ['purpose'] )\n",
    "m = Mystem()\n",
    "def find_purpose(cell_value):\n",
    "    lemmas = m.lemmatize(cell_value)\n",
    "    for lemma in lemmas:\n",
    "        if 'жилье' in lemma or 'недвижимость' in lemma :   \n",
    "            return 'недвижимость'\n",
    "        elif 'образование' in lemma:\n",
    "            return 'образование'\n",
    "        elif 'свадьба' in lemma:\n",
    "            return 'свадьба'\n",
    "        elif 'автомобиль' in lemma:\n",
    "            return 'автомобиль'\n",
    "\n",
    "purpose['purpose_general'] = purpose['purpose'].apply(find_purpose)\n",
    "purpose.head()"
   ]
  },
  {
   "cell_type": "code",
   "execution_count": 38,
   "metadata": {},
   "outputs": [
    {
     "data": {
      "text/html": [
       "<div>\n",
       "<style scoped>\n",
       "    .dataframe tbody tr th:only-of-type {\n",
       "        vertical-align: middle;\n",
       "    }\n",
       "\n",
       "    .dataframe tbody tr th {\n",
       "        vertical-align: top;\n",
       "    }\n",
       "\n",
       "    .dataframe thead th {\n",
       "        text-align: right;\n",
       "    }\n",
       "</style>\n",
       "<table border=\"1\" class=\"dataframe\">\n",
       "  <thead>\n",
       "    <tr style=\"text-align: right;\">\n",
       "      <th></th>\n",
       "      <th>children</th>\n",
       "      <th>days_employed</th>\n",
       "      <th>dob_years</th>\n",
       "      <th>education</th>\n",
       "      <th>education_id</th>\n",
       "      <th>family_status</th>\n",
       "      <th>family_status_id</th>\n",
       "      <th>gender</th>\n",
       "      <th>income_type</th>\n",
       "      <th>debt</th>\n",
       "      <th>total_income</th>\n",
       "      <th>purpose</th>\n",
       "      <th>group_age</th>\n",
       "      <th>purpose_general</th>\n",
       "    </tr>\n",
       "  </thead>\n",
       "  <tbody>\n",
       "    <tr>\n",
       "      <td>0</td>\n",
       "      <td>1</td>\n",
       "      <td>8438</td>\n",
       "      <td>42.0</td>\n",
       "      <td>высшее</td>\n",
       "      <td>0</td>\n",
       "      <td>женат / замужем</td>\n",
       "      <td>0</td>\n",
       "      <td>F</td>\n",
       "      <td>сотрудник</td>\n",
       "      <td>0</td>\n",
       "      <td>253876</td>\n",
       "      <td>покупка жилья</td>\n",
       "      <td>взрослый</td>\n",
       "      <td>недвижимость</td>\n",
       "    </tr>\n",
       "    <tr>\n",
       "      <td>1</td>\n",
       "      <td>0</td>\n",
       "      <td>5623</td>\n",
       "      <td>33.0</td>\n",
       "      <td>среднее</td>\n",
       "      <td>1</td>\n",
       "      <td>женат / замужем</td>\n",
       "      <td>0</td>\n",
       "      <td>M</td>\n",
       "      <td>сотрудник</td>\n",
       "      <td>0</td>\n",
       "      <td>145886</td>\n",
       "      <td>покупка жилья</td>\n",
       "      <td>молодой</td>\n",
       "      <td>недвижимость</td>\n",
       "    </tr>\n",
       "    <tr>\n",
       "      <td>2</td>\n",
       "      <td>0</td>\n",
       "      <td>926</td>\n",
       "      <td>27.0</td>\n",
       "      <td>высшее</td>\n",
       "      <td>0</td>\n",
       "      <td>гражданский брак</td>\n",
       "      <td>1</td>\n",
       "      <td>M</td>\n",
       "      <td>компаньон</td>\n",
       "      <td>0</td>\n",
       "      <td>255764</td>\n",
       "      <td>покупка жилья</td>\n",
       "      <td>молодой</td>\n",
       "      <td>недвижимость</td>\n",
       "    </tr>\n",
       "    <tr>\n",
       "      <td>3</td>\n",
       "      <td>0</td>\n",
       "      <td>1549</td>\n",
       "      <td>48.0</td>\n",
       "      <td>среднее</td>\n",
       "      <td>1</td>\n",
       "      <td>женат / замужем</td>\n",
       "      <td>0</td>\n",
       "      <td>F</td>\n",
       "      <td>компаньон</td>\n",
       "      <td>0</td>\n",
       "      <td>157246</td>\n",
       "      <td>покупка жилья</td>\n",
       "      <td>взрослый</td>\n",
       "      <td>недвижимость</td>\n",
       "    </tr>\n",
       "    <tr>\n",
       "      <td>4</td>\n",
       "      <td>0</td>\n",
       "      <td>414</td>\n",
       "      <td>41.0</td>\n",
       "      <td>среднее</td>\n",
       "      <td>1</td>\n",
       "      <td>женат / замужем</td>\n",
       "      <td>0</td>\n",
       "      <td>M</td>\n",
       "      <td>госслужащий</td>\n",
       "      <td>0</td>\n",
       "      <td>118552</td>\n",
       "      <td>покупка жилья</td>\n",
       "      <td>взрослый</td>\n",
       "      <td>недвижимость</td>\n",
       "    </tr>\n",
       "  </tbody>\n",
       "</table>\n",
       "</div>"
      ],
      "text/plain": [
       "   children  days_employed  dob_years education  education_id  \\\n",
       "0         1           8438       42.0    высшее             0   \n",
       "1         0           5623       33.0   среднее             1   \n",
       "2         0            926       27.0    высшее             0   \n",
       "3         0           1549       48.0   среднее             1   \n",
       "4         0            414       41.0   среднее             1   \n",
       "\n",
       "      family_status  family_status_id gender  income_type  debt  total_income  \\\n",
       "0   женат / замужем                 0      F    сотрудник     0        253876   \n",
       "1   женат / замужем                 0      M    сотрудник     0        145886   \n",
       "2  гражданский брак                 1      M    компаньон     0        255764   \n",
       "3   женат / замужем                 0      F    компаньон     0        157246   \n",
       "4   женат / замужем                 0      M  госслужащий     0        118552   \n",
       "\n",
       "         purpose group_age purpose_general  \n",
       "0  покупка жилья  взрослый    недвижимость  \n",
       "1  покупка жилья   молодой    недвижимость  \n",
       "2  покупка жилья   молодой    недвижимость  \n",
       "3  покупка жилья  взрослый    недвижимость  \n",
       "4  покупка жилья  взрослый    недвижимость  "
      ]
     },
     "execution_count": 38,
     "metadata": {},
     "output_type": "execute_result"
    }
   ],
   "source": [
    "df.merge(purpose, on = 'purpose').head()"
   ]
  },
  {
   "cell_type": "markdown",
   "metadata": {},
   "source": [
    "Из всех различных целей мы можем выделить кредит на **жилье** или **недвижимость**, кредит на проведение **свадьбы**, кредит на покупку **автомобиля**, кредит на **образование**.  Таким образом, мы нашли леммы, по которым будем лемматизировать значения `purpose`. Поскольку при использовании `Mystem` леммы имеют словарное отображение, то можно указывать не основу слова, а его словарное представление:"
   ]
  },
  {
   "cell_type": "code",
   "execution_count": 39,
   "metadata": {},
   "outputs": [
    {
     "data": {
      "text/html": [
       "<div>\n",
       "<style scoped>\n",
       "    .dataframe tbody tr th:only-of-type {\n",
       "        vertical-align: middle;\n",
       "    }\n",
       "\n",
       "    .dataframe tbody tr th {\n",
       "        vertical-align: top;\n",
       "    }\n",
       "\n",
       "    .dataframe thead th {\n",
       "        text-align: right;\n",
       "    }\n",
       "</style>\n",
       "<table border=\"1\" class=\"dataframe\">\n",
       "  <thead>\n",
       "    <tr style=\"text-align: right;\">\n",
       "      <th></th>\n",
       "      <th>children</th>\n",
       "      <th>days_employed</th>\n",
       "      <th>dob_years</th>\n",
       "      <th>education</th>\n",
       "      <th>education_id</th>\n",
       "      <th>family_status</th>\n",
       "      <th>family_status_id</th>\n",
       "      <th>gender</th>\n",
       "      <th>income_type</th>\n",
       "      <th>debt</th>\n",
       "      <th>total_income</th>\n",
       "      <th>purpose</th>\n",
       "      <th>group_age</th>\n",
       "      <th>purpose_general</th>\n",
       "    </tr>\n",
       "  </thead>\n",
       "  <tbody>\n",
       "    <tr>\n",
       "      <td>0</td>\n",
       "      <td>1</td>\n",
       "      <td>8438</td>\n",
       "      <td>42.0</td>\n",
       "      <td>высшее</td>\n",
       "      <td>0</td>\n",
       "      <td>женат / замужем</td>\n",
       "      <td>0</td>\n",
       "      <td>F</td>\n",
       "      <td>сотрудник</td>\n",
       "      <td>0</td>\n",
       "      <td>253876</td>\n",
       "      <td>покупка жилья</td>\n",
       "      <td>взрослый</td>\n",
       "      <td>недвижимость</td>\n",
       "    </tr>\n",
       "    <tr>\n",
       "      <td>1</td>\n",
       "      <td>1</td>\n",
       "      <td>4025</td>\n",
       "      <td>36.0</td>\n",
       "      <td>среднее</td>\n",
       "      <td>1</td>\n",
       "      <td>женат / замужем</td>\n",
       "      <td>0</td>\n",
       "      <td>F</td>\n",
       "      <td>сотрудник</td>\n",
       "      <td>0</td>\n",
       "      <td>112080</td>\n",
       "      <td>приобретение автомобиля</td>\n",
       "      <td>взрослый</td>\n",
       "      <td>автомобиль</td>\n",
       "    </tr>\n",
       "    <tr>\n",
       "      <td>2</td>\n",
       "      <td>0</td>\n",
       "      <td>5623</td>\n",
       "      <td>33.0</td>\n",
       "      <td>среднее</td>\n",
       "      <td>1</td>\n",
       "      <td>женат / замужем</td>\n",
       "      <td>0</td>\n",
       "      <td>M</td>\n",
       "      <td>сотрудник</td>\n",
       "      <td>0</td>\n",
       "      <td>145886</td>\n",
       "      <td>покупка жилья</td>\n",
       "      <td>молодой</td>\n",
       "      <td>недвижимость</td>\n",
       "    </tr>\n",
       "    <tr>\n",
       "      <td>3</td>\n",
       "      <td>3</td>\n",
       "      <td>4125</td>\n",
       "      <td>32.0</td>\n",
       "      <td>среднее</td>\n",
       "      <td>1</td>\n",
       "      <td>женат / замужем</td>\n",
       "      <td>0</td>\n",
       "      <td>M</td>\n",
       "      <td>сотрудник</td>\n",
       "      <td>0</td>\n",
       "      <td>267629</td>\n",
       "      <td>дополнительное образование</td>\n",
       "      <td>молодой</td>\n",
       "      <td>образование</td>\n",
       "    </tr>\n",
       "    <tr>\n",
       "      <td>4</td>\n",
       "      <td>0</td>\n",
       "      <td>14178</td>\n",
       "      <td>53.0</td>\n",
       "      <td>среднее</td>\n",
       "      <td>1</td>\n",
       "      <td>гражданский брак</td>\n",
       "      <td>1</td>\n",
       "      <td>F</td>\n",
       "      <td>пенсионер</td>\n",
       "      <td>0</td>\n",
       "      <td>158616</td>\n",
       "      <td>сыграть свадьбу</td>\n",
       "      <td>взрослый</td>\n",
       "      <td>свадьба</td>\n",
       "    </tr>\n",
       "  </tbody>\n",
       "</table>\n",
       "</div>"
      ],
      "text/plain": [
       "   children  days_employed  dob_years education  education_id  \\\n",
       "0         1           8438       42.0    высшее             0   \n",
       "1         1           4025       36.0   среднее             1   \n",
       "2         0           5623       33.0   среднее             1   \n",
       "3         3           4125       32.0   среднее             1   \n",
       "4         0          14178       53.0   среднее             1   \n",
       "\n",
       "      family_status  family_status_id gender income_type  debt  total_income  \\\n",
       "0   женат / замужем                 0      F   сотрудник     0        253876   \n",
       "1   женат / замужем                 0      F   сотрудник     0        112080   \n",
       "2   женат / замужем                 0      M   сотрудник     0        145886   \n",
       "3   женат / замужем                 0      M   сотрудник     0        267629   \n",
       "4  гражданский брак                 1      F   пенсионер     0        158616   \n",
       "\n",
       "                      purpose group_age purpose_general  \n",
       "0               покупка жилья  взрослый    недвижимость  \n",
       "1     приобретение автомобиля  взрослый      автомобиль  \n",
       "2               покупка жилья   молодой    недвижимость  \n",
       "3  дополнительное образование   молодой     образование  \n",
       "4             сыграть свадьбу  взрослый         свадьба  "
      ]
     },
     "execution_count": 39,
     "metadata": {},
     "output_type": "execute_result"
    }
   ],
   "source": [
    "#df = df.merge(purpose, on = 'purpose', sort = false)     changes order of rows\n",
    "#df = pd.merge_ordered(df, purpose, on='purpose')         changes order of rows\n",
    "#pd.merge(df, purpose, on = 'purpose', sort = False)      changed order of rows\n",
    "purpose_index = purpose.set_index('purpose')\n",
    "purpose_index\n",
    "df = df.join(purpose_index, on = 'purpose', rsuffix = 'purpose_general')\n",
    "df.head()"
   ]
  },
  {
   "cell_type": "markdown",
   "metadata": {},
   "source": [
    "Посмотрим на количество значений в столбце `purpose_general`"
   ]
  },
  {
   "cell_type": "code",
   "execution_count": 40,
   "metadata": {
    "scrolled": true
   },
   "outputs": [
    {
     "data": {
      "text/plain": [
       "недвижимость    10840\n",
       "автомобиль       4315\n",
       "образование      4022\n",
       "свадьба          2348\n",
       "Name: purpose_general, dtype: int64"
      ]
     },
     "execution_count": 40,
     "metadata": {},
     "output_type": "execute_result"
    }
   ],
   "source": [
    "df['purpose_general'].value_counts()"
   ]
  },
  {
   "cell_type": "markdown",
   "metadata": {},
   "source": [
    "Таким образом, мы уверены что для каждой записи в таблице есть значение в столбце `purpose_general`"
   ]
  },
  {
   "cell_type": "markdown",
   "metadata": {},
   "source": [
    "**Вывод** Мы лемматизировали данные в столбце `purpose`, выбрав в качестве лемм 4 основные категории кредитов: жилье(недвижимость), свадьба, образование, автомобиль и дополнили исходную таблицу столбцом `purpose_general`, позволяющим увидеть общую цель кредита.\n"
   ]
  },
  {
   "cell_type": "markdown",
   "metadata": {},
   "source": [
    "### Категоризация данных"
   ]
  },
  {
   "cell_type": "markdown",
   "metadata": {},
   "source": [
    "#### Категоризация данных по возрастным группам"
   ]
  },
  {
   "cell_type": "markdown",
   "metadata": {},
   "source": [
    "Ввиду необходимости категоризация данных по возрасту клиентов была проведена ранее с созданием столбца `group_age`"
   ]
  },
  {
   "cell_type": "code",
   "execution_count": 41,
   "metadata": {
    "scrolled": false
   },
   "outputs": [
    {
     "data": {
      "text/plain": [
       "взрослый          10542\n",
       "молодой            6594\n",
       "предпенсионный     3684\n",
       "пенсионный          705\n",
       "Name: group_age, dtype: int64"
      ]
     },
     "execution_count": 41,
     "metadata": {},
     "output_type": "execute_result"
    }
   ],
   "source": [
    "df['group_age'].value_counts()"
   ]
  },
  {
   "cell_type": "markdown",
   "metadata": {},
   "source": [
    "#### Категоризация данных по уровню дохода"
   ]
  },
  {
   "cell_type": "markdown",
   "metadata": {},
   "source": [
    "Для ответа на один из вопросов пункта 3 проведем категоризация данных по `total_income`, для начала определим диапазон значений `total_income`, затем напишим функцию и применим метод `apply` (`cut`, конечно быстрее, но уж ладно):"
   ]
  },
  {
   "cell_type": "code",
   "execution_count": 42,
   "metadata": {},
   "outputs": [
    {
     "data": {
      "text/plain": [
       "count    2.152500e+04\n",
       "mean     1.652253e+05\n",
       "std      9.804367e+04\n",
       "min      2.066700e+04\n",
       "25%      1.077980e+05\n",
       "50%      1.425940e+05\n",
       "75%      1.955500e+05\n",
       "max      2.265604e+06\n",
       "Name: total_income, dtype: float64"
      ]
     },
     "execution_count": 42,
     "metadata": {},
     "output_type": "execute_result"
    }
   ],
   "source": [
    "df['total_income'].describe()"
   ]
  },
  {
   "cell_type": "code",
   "execution_count": 43,
   "metadata": {},
   "outputs": [],
   "source": [
    "def split_group_income(income):\n",
    "    \"\"\"делит клиетов на группы по уровню дохода\"\"\"\n",
    "    if income <= 30000:\n",
    "        return 'poverty'\n",
    "    elif 30000 < income <= 55000:\n",
    "        return 'lower middle class'\n",
    "    elif 55000 < income <= 100000:\n",
    "        return 'middle class'\n",
    "    elif 100000 < income <= 300000:\n",
    "        return 'higher middle class'\n",
    "    elif 300000 < income <= 1000000:\n",
    "        return 'rich'\n",
    "    return 'kill the thief!'\n",
    "\n",
    "df['group_income'] = df['total_income'].apply(split_group_income)\n"
   ]
  },
  {
   "cell_type": "markdown",
   "metadata": {},
   "source": [
    "Проверим значения в новом столбце:"
   ]
  },
  {
   "cell_type": "code",
   "execution_count": 44,
   "metadata": {
    "scrolled": true
   },
   "outputs": [
    {
     "data": {
      "text/plain": [
       "higher middle class    15579\n",
       "middle class            3883\n",
       "rich                    1458\n",
       "lower middle class       558\n",
       "kill the thief!           25\n",
       "poverty                   22\n",
       "Name: group_income, dtype: int64"
      ]
     },
     "execution_count": 44,
     "metadata": {},
     "output_type": "execute_result"
    }
   ],
   "source": [
    "df['group_income'].value_counts()"
   ]
  },
  {
   "cell_type": "markdown",
   "metadata": {},
   "source": [
    "**Вывод** Была произведена категоризация данных по `total_income` с получением нового столбца `group_income`"
   ]
  },
  {
   "cell_type": "markdown",
   "metadata": {},
   "source": [
    "#### Классификация по типу"
   ]
  },
  {
   "cell_type": "markdown",
   "metadata": {},
   "source": [
    "Выведим первые пять записей исходной таблицы:"
   ]
  },
  {
   "cell_type": "code",
   "execution_count": 45,
   "metadata": {},
   "outputs": [
    {
     "data": {
      "text/html": [
       "<div>\n",
       "<style scoped>\n",
       "    .dataframe tbody tr th:only-of-type {\n",
       "        vertical-align: middle;\n",
       "    }\n",
       "\n",
       "    .dataframe tbody tr th {\n",
       "        vertical-align: top;\n",
       "    }\n",
       "\n",
       "    .dataframe thead th {\n",
       "        text-align: right;\n",
       "    }\n",
       "</style>\n",
       "<table border=\"1\" class=\"dataframe\">\n",
       "  <thead>\n",
       "    <tr style=\"text-align: right;\">\n",
       "      <th></th>\n",
       "      <th>children</th>\n",
       "      <th>days_employed</th>\n",
       "      <th>dob_years</th>\n",
       "      <th>education</th>\n",
       "      <th>education_id</th>\n",
       "      <th>family_status</th>\n",
       "      <th>family_status_id</th>\n",
       "      <th>gender</th>\n",
       "      <th>income_type</th>\n",
       "      <th>debt</th>\n",
       "      <th>total_income</th>\n",
       "      <th>purpose</th>\n",
       "      <th>group_age</th>\n",
       "      <th>purpose_general</th>\n",
       "      <th>group_income</th>\n",
       "    </tr>\n",
       "  </thead>\n",
       "  <tbody>\n",
       "    <tr>\n",
       "      <td>0</td>\n",
       "      <td>1</td>\n",
       "      <td>8438</td>\n",
       "      <td>42.0</td>\n",
       "      <td>высшее</td>\n",
       "      <td>0</td>\n",
       "      <td>женат / замужем</td>\n",
       "      <td>0</td>\n",
       "      <td>F</td>\n",
       "      <td>сотрудник</td>\n",
       "      <td>0</td>\n",
       "      <td>253876</td>\n",
       "      <td>покупка жилья</td>\n",
       "      <td>взрослый</td>\n",
       "      <td>недвижимость</td>\n",
       "      <td>higher middle class</td>\n",
       "    </tr>\n",
       "    <tr>\n",
       "      <td>1</td>\n",
       "      <td>1</td>\n",
       "      <td>4025</td>\n",
       "      <td>36.0</td>\n",
       "      <td>среднее</td>\n",
       "      <td>1</td>\n",
       "      <td>женат / замужем</td>\n",
       "      <td>0</td>\n",
       "      <td>F</td>\n",
       "      <td>сотрудник</td>\n",
       "      <td>0</td>\n",
       "      <td>112080</td>\n",
       "      <td>приобретение автомобиля</td>\n",
       "      <td>взрослый</td>\n",
       "      <td>автомобиль</td>\n",
       "      <td>higher middle class</td>\n",
       "    </tr>\n",
       "    <tr>\n",
       "      <td>2</td>\n",
       "      <td>0</td>\n",
       "      <td>5623</td>\n",
       "      <td>33.0</td>\n",
       "      <td>среднее</td>\n",
       "      <td>1</td>\n",
       "      <td>женат / замужем</td>\n",
       "      <td>0</td>\n",
       "      <td>M</td>\n",
       "      <td>сотрудник</td>\n",
       "      <td>0</td>\n",
       "      <td>145886</td>\n",
       "      <td>покупка жилья</td>\n",
       "      <td>молодой</td>\n",
       "      <td>недвижимость</td>\n",
       "      <td>higher middle class</td>\n",
       "    </tr>\n",
       "    <tr>\n",
       "      <td>3</td>\n",
       "      <td>3</td>\n",
       "      <td>4125</td>\n",
       "      <td>32.0</td>\n",
       "      <td>среднее</td>\n",
       "      <td>1</td>\n",
       "      <td>женат / замужем</td>\n",
       "      <td>0</td>\n",
       "      <td>M</td>\n",
       "      <td>сотрудник</td>\n",
       "      <td>0</td>\n",
       "      <td>267629</td>\n",
       "      <td>дополнительное образование</td>\n",
       "      <td>молодой</td>\n",
       "      <td>образование</td>\n",
       "      <td>higher middle class</td>\n",
       "    </tr>\n",
       "    <tr>\n",
       "      <td>4</td>\n",
       "      <td>0</td>\n",
       "      <td>14178</td>\n",
       "      <td>53.0</td>\n",
       "      <td>среднее</td>\n",
       "      <td>1</td>\n",
       "      <td>гражданский брак</td>\n",
       "      <td>1</td>\n",
       "      <td>F</td>\n",
       "      <td>пенсионер</td>\n",
       "      <td>0</td>\n",
       "      <td>158616</td>\n",
       "      <td>сыграть свадьбу</td>\n",
       "      <td>взрослый</td>\n",
       "      <td>свадьба</td>\n",
       "      <td>higher middle class</td>\n",
       "    </tr>\n",
       "  </tbody>\n",
       "</table>\n",
       "</div>"
      ],
      "text/plain": [
       "   children  days_employed  dob_years education  education_id  \\\n",
       "0         1           8438       42.0    высшее             0   \n",
       "1         1           4025       36.0   среднее             1   \n",
       "2         0           5623       33.0   среднее             1   \n",
       "3         3           4125       32.0   среднее             1   \n",
       "4         0          14178       53.0   среднее             1   \n",
       "\n",
       "      family_status  family_status_id gender income_type  debt  total_income  \\\n",
       "0   женат / замужем                 0      F   сотрудник     0        253876   \n",
       "1   женат / замужем                 0      F   сотрудник     0        112080   \n",
       "2   женат / замужем                 0      M   сотрудник     0        145886   \n",
       "3   женат / замужем                 0      M   сотрудник     0        267629   \n",
       "4  гражданский брак                 1      F   пенсионер     0        158616   \n",
       "\n",
       "                      purpose group_age purpose_general         group_income  \n",
       "0               покупка жилья  взрослый    недвижимость  higher middle class  \n",
       "1     приобретение автомобиля  взрослый      автомобиль  higher middle class  \n",
       "2               покупка жилья   молодой    недвижимость  higher middle class  \n",
       "3  дополнительное образование   молодой     образование  higher middle class  \n",
       "4             сыграть свадьбу  взрослый         свадьба  higher middle class  "
      ]
     },
     "execution_count": 45,
     "metadata": {},
     "output_type": "execute_result"
    }
   ],
   "source": [
    "df.head()"
   ]
  },
  {
   "cell_type": "markdown",
   "metadata": {},
   "source": [
    "Мы видим, что столбцы `family_status_id` и `education_id` можно вынести в отдельные \"словари\", поскольку при их наличии в основной таблице усложняется визуальная работа с таблицей, увеличивается размер файла и время обработки данных. Создадим таблицу с основной информацией и два \"словаря\", в \"словарях\" удалим все дубликаты и переустановим индекс:"
   ]
  },
  {
   "cell_type": "code",
   "execution_count": 46,
   "metadata": {},
   "outputs": [
    {
     "data": {
      "text/html": [
       "<div>\n",
       "<style scoped>\n",
       "    .dataframe tbody tr th:only-of-type {\n",
       "        vertical-align: middle;\n",
       "    }\n",
       "\n",
       "    .dataframe tbody tr th {\n",
       "        vertical-align: top;\n",
       "    }\n",
       "\n",
       "    .dataframe thead th {\n",
       "        text-align: right;\n",
       "    }\n",
       "</style>\n",
       "<table border=\"1\" class=\"dataframe\">\n",
       "  <thead>\n",
       "    <tr style=\"text-align: right;\">\n",
       "      <th></th>\n",
       "      <th>children</th>\n",
       "      <th>days_employed</th>\n",
       "      <th>dob_years</th>\n",
       "      <th>education_id</th>\n",
       "      <th>family_status_id</th>\n",
       "      <th>gender</th>\n",
       "      <th>income_type</th>\n",
       "      <th>debt</th>\n",
       "      <th>total_income</th>\n",
       "      <th>purpose</th>\n",
       "      <th>group_age</th>\n",
       "      <th>purpose_general</th>\n",
       "    </tr>\n",
       "  </thead>\n",
       "  <tbody>\n",
       "    <tr>\n",
       "      <td>0</td>\n",
       "      <td>1</td>\n",
       "      <td>8438</td>\n",
       "      <td>42.0</td>\n",
       "      <td>0</td>\n",
       "      <td>0</td>\n",
       "      <td>F</td>\n",
       "      <td>сотрудник</td>\n",
       "      <td>0</td>\n",
       "      <td>253876</td>\n",
       "      <td>покупка жилья</td>\n",
       "      <td>взрослый</td>\n",
       "      <td>недвижимость</td>\n",
       "    </tr>\n",
       "    <tr>\n",
       "      <td>1</td>\n",
       "      <td>1</td>\n",
       "      <td>4025</td>\n",
       "      <td>36.0</td>\n",
       "      <td>1</td>\n",
       "      <td>0</td>\n",
       "      <td>F</td>\n",
       "      <td>сотрудник</td>\n",
       "      <td>0</td>\n",
       "      <td>112080</td>\n",
       "      <td>приобретение автомобиля</td>\n",
       "      <td>взрослый</td>\n",
       "      <td>автомобиль</td>\n",
       "    </tr>\n",
       "    <tr>\n",
       "      <td>2</td>\n",
       "      <td>0</td>\n",
       "      <td>5623</td>\n",
       "      <td>33.0</td>\n",
       "      <td>1</td>\n",
       "      <td>0</td>\n",
       "      <td>M</td>\n",
       "      <td>сотрудник</td>\n",
       "      <td>0</td>\n",
       "      <td>145886</td>\n",
       "      <td>покупка жилья</td>\n",
       "      <td>молодой</td>\n",
       "      <td>недвижимость</td>\n",
       "    </tr>\n",
       "    <tr>\n",
       "      <td>3</td>\n",
       "      <td>3</td>\n",
       "      <td>4125</td>\n",
       "      <td>32.0</td>\n",
       "      <td>1</td>\n",
       "      <td>0</td>\n",
       "      <td>M</td>\n",
       "      <td>сотрудник</td>\n",
       "      <td>0</td>\n",
       "      <td>267629</td>\n",
       "      <td>дополнительное образование</td>\n",
       "      <td>молодой</td>\n",
       "      <td>образование</td>\n",
       "    </tr>\n",
       "    <tr>\n",
       "      <td>4</td>\n",
       "      <td>0</td>\n",
       "      <td>14178</td>\n",
       "      <td>53.0</td>\n",
       "      <td>1</td>\n",
       "      <td>1</td>\n",
       "      <td>F</td>\n",
       "      <td>пенсионер</td>\n",
       "      <td>0</td>\n",
       "      <td>158616</td>\n",
       "      <td>сыграть свадьбу</td>\n",
       "      <td>взрослый</td>\n",
       "      <td>свадьба</td>\n",
       "    </tr>\n",
       "  </tbody>\n",
       "</table>\n",
       "</div>"
      ],
      "text/plain": [
       "   children  days_employed  dob_years  education_id  family_status_id gender  \\\n",
       "0         1           8438       42.0             0                 0      F   \n",
       "1         1           4025       36.0             1                 0      F   \n",
       "2         0           5623       33.0             1                 0      M   \n",
       "3         3           4125       32.0             1                 0      M   \n",
       "4         0          14178       53.0             1                 1      F   \n",
       "\n",
       "  income_type  debt  total_income                     purpose group_age  \\\n",
       "0   сотрудник     0        253876               покупка жилья  взрослый   \n",
       "1   сотрудник     0        112080     приобретение автомобиля  взрослый   \n",
       "2   сотрудник     0        145886               покупка жилья   молодой   \n",
       "3   сотрудник     0        267629  дополнительное образование   молодой   \n",
       "4   пенсионер     0        158616             сыграть свадьбу  взрослый   \n",
       "\n",
       "  purpose_general  \n",
       "0    недвижимость  \n",
       "1      автомобиль  \n",
       "2    недвижимость  \n",
       "3     образование  \n",
       "4         свадьба  "
      ]
     },
     "execution_count": 46,
     "metadata": {},
     "output_type": "execute_result"
    }
   ],
   "source": [
    "main_inf = df[['children','days_employed', 'dob_years', 'education_id', 'family_status_id', 'gender', 'income_type', 'debt', 'total_income', 'purpose', 'group_age', 'purpose_general']]\n",
    "main_inf.head()"
   ]
  },
  {
   "cell_type": "code",
   "execution_count": 47,
   "metadata": {
    "scrolled": true
   },
   "outputs": [
    {
     "data": {
      "text/html": [
       "<div>\n",
       "<style scoped>\n",
       "    .dataframe tbody tr th:only-of-type {\n",
       "        vertical-align: middle;\n",
       "    }\n",
       "\n",
       "    .dataframe tbody tr th {\n",
       "        vertical-align: top;\n",
       "    }\n",
       "\n",
       "    .dataframe thead th {\n",
       "        text-align: right;\n",
       "    }\n",
       "</style>\n",
       "<table border=\"1\" class=\"dataframe\">\n",
       "  <thead>\n",
       "    <tr style=\"text-align: right;\">\n",
       "      <th></th>\n",
       "      <th>family_status</th>\n",
       "      <th>family_status_id</th>\n",
       "    </tr>\n",
       "  </thead>\n",
       "  <tbody>\n",
       "    <tr>\n",
       "      <td>0</td>\n",
       "      <td>женат / замужем</td>\n",
       "      <td>0</td>\n",
       "    </tr>\n",
       "    <tr>\n",
       "      <td>1</td>\n",
       "      <td>гражданский брак</td>\n",
       "      <td>1</td>\n",
       "    </tr>\n",
       "    <tr>\n",
       "      <td>2</td>\n",
       "      <td>вдовец / вдова</td>\n",
       "      <td>2</td>\n",
       "    </tr>\n",
       "    <tr>\n",
       "      <td>3</td>\n",
       "      <td>в разводе</td>\n",
       "      <td>3</td>\n",
       "    </tr>\n",
       "    <tr>\n",
       "      <td>4</td>\n",
       "      <td>Не женат / не замужем</td>\n",
       "      <td>4</td>\n",
       "    </tr>\n",
       "  </tbody>\n",
       "</table>\n",
       "</div>"
      ],
      "text/plain": [
       "           family_status  family_status_id\n",
       "0        женат / замужем                 0\n",
       "1       гражданский брак                 1\n",
       "2         вдовец / вдова                 2\n",
       "3              в разводе                 3\n",
       "4  Не женат / не замужем                 4"
      ]
     },
     "execution_count": 47,
     "metadata": {},
     "output_type": "execute_result"
    }
   ],
   "source": [
    "family_status_dict = df[['family_status', 'family_status_id']]\n",
    "family_status_dict = family_status_dict.drop_duplicates().reset_index(drop=True)\n",
    "family_status_dict"
   ]
  },
  {
   "cell_type": "code",
   "execution_count": 48,
   "metadata": {},
   "outputs": [
    {
     "data": {
      "text/html": [
       "<div>\n",
       "<style scoped>\n",
       "    .dataframe tbody tr th:only-of-type {\n",
       "        vertical-align: middle;\n",
       "    }\n",
       "\n",
       "    .dataframe tbody tr th {\n",
       "        vertical-align: top;\n",
       "    }\n",
       "\n",
       "    .dataframe thead th {\n",
       "        text-align: right;\n",
       "    }\n",
       "</style>\n",
       "<table border=\"1\" class=\"dataframe\">\n",
       "  <thead>\n",
       "    <tr style=\"text-align: right;\">\n",
       "      <th></th>\n",
       "      <th>family_status</th>\n",
       "      <th>family_status_id</th>\n",
       "    </tr>\n",
       "  </thead>\n",
       "  <tbody>\n",
       "    <tr>\n",
       "      <td>0</td>\n",
       "      <td>женат / замужем</td>\n",
       "      <td>0</td>\n",
       "    </tr>\n",
       "    <tr>\n",
       "      <td>1</td>\n",
       "      <td>гражданский брак</td>\n",
       "      <td>1</td>\n",
       "    </tr>\n",
       "    <tr>\n",
       "      <td>2</td>\n",
       "      <td>вдовец / вдова</td>\n",
       "      <td>2</td>\n",
       "    </tr>\n",
       "    <tr>\n",
       "      <td>3</td>\n",
       "      <td>в разводе</td>\n",
       "      <td>3</td>\n",
       "    </tr>\n",
       "    <tr>\n",
       "      <td>4</td>\n",
       "      <td>Не женат / не замужем</td>\n",
       "      <td>4</td>\n",
       "    </tr>\n",
       "  </tbody>\n",
       "</table>\n",
       "</div>"
      ],
      "text/plain": [
       "           family_status  family_status_id\n",
       "0        женат / замужем                 0\n",
       "1       гражданский брак                 1\n",
       "2         вдовец / вдова                 2\n",
       "3              в разводе                 3\n",
       "4  Не женат / не замужем                 4"
      ]
     },
     "execution_count": 48,
     "metadata": {},
     "output_type": "execute_result"
    }
   ],
   "source": [
    "education_dict = df[['education', 'education_id']]\n",
    "education_dict = education_dict.drop_duplicates().reset_index(drop=True)\n",
    "family_status_dict"
   ]
  },
  {
   "cell_type": "markdown",
   "metadata": {},
   "source": [
    "**Вывод** Мы создали два \"словаря\" для `education` и `family_status` - `education_dict` и `family_status_dict` соответственно, таким образом \"разгрузив\" основную таблицу `main_inf`, а также категоризировали данные по возрастным группам"
   ]
  },
  {
   "cell_type": "markdown",
   "metadata": {},
   "source": []
  },
  {
   "cell_type": "markdown",
   "metadata": {},
   "source": [
    "## Ответьте на вопросы"
   ]
  },
  {
   "cell_type": "markdown",
   "metadata": {},
   "source": [
    "Для ответов на вопросы мы будем использовать методы `merge` для объединения искомых данных и `pivot_table` с агрегированными функциями `count` и `sum`, покольку значения в столбце `debt` представлены единицами и нулями. Путем деления столбца `sum` (количество задолженностей) на столбец `count` (общее число клиентов) мы найдем процент задолженности"
   ]
  },
  {
   "cell_type": "markdown",
   "metadata": {},
   "source": [
    "- Есть ли зависимость между наличием детей и возвратом кредита в срок?"
   ]
  },
  {
   "cell_type": "code",
   "execution_count": 49,
   "metadata": {},
   "outputs": [
    {
     "data": {
      "text/html": [
       "<div>\n",
       "<style scoped>\n",
       "    .dataframe tbody tr th:only-of-type {\n",
       "        vertical-align: middle;\n",
       "    }\n",
       "\n",
       "    .dataframe tbody tr th {\n",
       "        vertical-align: top;\n",
       "    }\n",
       "\n",
       "    .dataframe thead th {\n",
       "        text-align: right;\n",
       "    }\n",
       "</style>\n",
       "<table border=\"1\" class=\"dataframe\">\n",
       "  <thead>\n",
       "    <tr style=\"text-align: right;\">\n",
       "      <th></th>\n",
       "      <th>debt_without_kids</th>\n",
       "      <th>debt_withkids</th>\n",
       "    </tr>\n",
       "  </thead>\n",
       "  <tbody>\n",
       "    <tr>\n",
       "      <td>sum</td>\n",
       "      <td>1063.000000</td>\n",
       "      <td>678.000000</td>\n",
       "    </tr>\n",
       "    <tr>\n",
       "      <td>count</td>\n",
       "      <td>14149.000000</td>\n",
       "      <td>7376.000000</td>\n",
       "    </tr>\n",
       "    <tr>\n",
       "      <td>количество задолжников, %</td>\n",
       "      <td>7.512898</td>\n",
       "      <td>9.191974</td>\n",
       "    </tr>\n",
       "  </tbody>\n",
       "</table>\n",
       "</div>"
      ],
      "text/plain": [
       "                           debt_without_kids  debt_withkids\n",
       "sum                              1063.000000     678.000000\n",
       "count                           14149.000000    7376.000000\n",
       "количество задолжников, %           7.512898       9.191974"
      ]
     },
     "metadata": {},
     "output_type": "display_data"
    },
    {
     "data": {
      "text/html": [
       "<div>\n",
       "<style scoped>\n",
       "    .dataframe tbody tr th:only-of-type {\n",
       "        vertical-align: middle;\n",
       "    }\n",
       "\n",
       "    .dataframe tbody tr th {\n",
       "        vertical-align: top;\n",
       "    }\n",
       "\n",
       "    .dataframe thead tr th {\n",
       "        text-align: left;\n",
       "    }\n",
       "\n",
       "    .dataframe thead tr:last-of-type th {\n",
       "        text-align: right;\n",
       "    }\n",
       "</style>\n",
       "<table border=\"1\" class=\"dataframe\">\n",
       "  <thead>\n",
       "    <tr>\n",
       "      <th></th>\n",
       "      <th>sum</th>\n",
       "      <th>count</th>\n",
       "      <th>количество задолжников, %</th>\n",
       "    </tr>\n",
       "    <tr>\n",
       "      <th></th>\n",
       "      <th>debt</th>\n",
       "      <th>debt</th>\n",
       "      <th></th>\n",
       "    </tr>\n",
       "    <tr>\n",
       "      <th>kids</th>\n",
       "      <th></th>\n",
       "      <th></th>\n",
       "      <th></th>\n",
       "    </tr>\n",
       "  </thead>\n",
       "  <tbody>\n",
       "    <tr>\n",
       "      <td>with kids</td>\n",
       "      <td>678</td>\n",
       "      <td>7376</td>\n",
       "      <td>9.191974</td>\n",
       "    </tr>\n",
       "    <tr>\n",
       "      <td>without kids</td>\n",
       "      <td>1063</td>\n",
       "      <td>14149</td>\n",
       "      <td>7.512898</td>\n",
       "    </tr>\n",
       "  </tbody>\n",
       "</table>\n",
       "</div>"
      ],
      "text/plain": [
       "               sum  count количество задолжников, %\n",
       "              debt   debt                          \n",
       "kids                                               \n",
       "with kids      678   7376                  9.191974\n",
       "without kids  1063  14149                  7.512898"
      ]
     },
     "execution_count": 49,
     "metadata": {},
     "output_type": "execute_result"
    }
   ],
   "source": [
    "without_kids = df[df['children'] == 0][['debt']].agg(['sum', 'count'])\n",
    "with_kids = df[df['children'] != 0][['debt']].agg(['sum', 'count'])\n",
    "df_children = pd.merge(without_kids, with_kids, left_index = True, right_index = True, suffixes=('_without_kids', '_withkids'))\n",
    "df_children.loc['количество задолжников, %'] = df_children.iloc[0] / df_children.iloc[1]*100\n",
    "display(df_children)\n",
    "#ну или с категоризацией:\n",
    "def have_kids(kid):\n",
    "    if kid == 0:\n",
    "        return 'without kids'\n",
    "    return 'with kids'\n",
    "df['kids'] = df['children'].apply(have_kids)\n",
    "df_pivot_kids = df.pivot_table(index = 'kids', values = 'debt', aggfunc = ['sum', 'count'])\n",
    "df_pivot_kids['количество задолжников, %'] = df_pivot_kids.iloc[:, 0]/df_pivot_kids.iloc[:,1]*100\n",
    "df_pivot_kids.sort_values(by = 'количество задолжников, %', ascending = False)"
   ]
  },
  {
   "cell_type": "markdown",
   "metadata": {},
   "source": [
    "**Вывод**  В целом, клиенты, неимеющие детей, возвращают кредиты в срок чаще, чем клиенты, имеющие детей. При отсутствии детей у клиента меньше непредвиденных расходов и он более свободен в распределении своих финансовых поступлений с учетом необходимости оплаты кредита в срок."
   ]
  },
  {
   "cell_type": "markdown",
   "metadata": {},
   "source": [
    "- Есть ли зависимость между семейным положением и возвратом кредита в срок?"
   ]
  },
  {
   "cell_type": "code",
   "execution_count": 50,
   "metadata": {},
   "outputs": [
    {
     "data": {
      "text/html": [
       "<div>\n",
       "<style scoped>\n",
       "    .dataframe tbody tr th:only-of-type {\n",
       "        vertical-align: middle;\n",
       "    }\n",
       "\n",
       "    .dataframe tbody tr th {\n",
       "        vertical-align: top;\n",
       "    }\n",
       "\n",
       "    .dataframe thead tr th {\n",
       "        text-align: left;\n",
       "    }\n",
       "\n",
       "    .dataframe thead tr:last-of-type th {\n",
       "        text-align: right;\n",
       "    }\n",
       "</style>\n",
       "<table border=\"1\" class=\"dataframe\">\n",
       "  <thead>\n",
       "    <tr>\n",
       "      <th></th>\n",
       "      <th>sum</th>\n",
       "      <th>count</th>\n",
       "      <th>количество задолжников, %</th>\n",
       "    </tr>\n",
       "    <tr>\n",
       "      <th></th>\n",
       "      <th>debt</th>\n",
       "      <th>debt</th>\n",
       "      <th></th>\n",
       "    </tr>\n",
       "    <tr>\n",
       "      <th>family_status</th>\n",
       "      <th></th>\n",
       "      <th></th>\n",
       "      <th></th>\n",
       "    </tr>\n",
       "  </thead>\n",
       "  <tbody>\n",
       "    <tr>\n",
       "      <td>Не женат / не замужем</td>\n",
       "      <td>274</td>\n",
       "      <td>2813</td>\n",
       "      <td>9.740491</td>\n",
       "    </tr>\n",
       "    <tr>\n",
       "      <td>гражданский брак</td>\n",
       "      <td>388</td>\n",
       "      <td>4177</td>\n",
       "      <td>9.288963</td>\n",
       "    </tr>\n",
       "    <tr>\n",
       "      <td>женат / замужем</td>\n",
       "      <td>931</td>\n",
       "      <td>12380</td>\n",
       "      <td>7.520194</td>\n",
       "    </tr>\n",
       "    <tr>\n",
       "      <td>в разводе</td>\n",
       "      <td>85</td>\n",
       "      <td>1195</td>\n",
       "      <td>7.112971</td>\n",
       "    </tr>\n",
       "    <tr>\n",
       "      <td>вдовец / вдова</td>\n",
       "      <td>63</td>\n",
       "      <td>960</td>\n",
       "      <td>6.562500</td>\n",
       "    </tr>\n",
       "  </tbody>\n",
       "</table>\n",
       "</div>"
      ],
      "text/plain": [
       "                       sum  count количество задолжников, %\n",
       "                      debt   debt                          \n",
       "family_status                                              \n",
       "Не женат / не замужем  274   2813                  9.740491\n",
       "гражданский брак       388   4177                  9.288963\n",
       "женат / замужем        931  12380                  7.520194\n",
       "в разводе               85   1195                  7.112971\n",
       "вдовец / вдова          63    960                  6.562500"
      ]
     },
     "execution_count": 50,
     "metadata": {},
     "output_type": "execute_result"
    }
   ],
   "source": [
    "df_pivot_family = df.pivot_table(index = 'family_status', values = 'debt', aggfunc = ['sum', 'count'])\n",
    "df_pivot_family['количество задолжников, %'] = df_pivot_family.iloc[:, 0]/df_pivot_family.iloc[:,1]*100\n",
    "df_pivot_family.sort_values(by = 'количество задолжников, %', ascending = False)"
   ]
  },
  {
   "cell_type": "markdown",
   "metadata": {},
   "source": [
    "**Вывод** Чаще задолжниками становятся неженатые, незамужние люди, а также люди, имеющие гражданский брак. Наиболее высок уровень возврата кредитов у вдовцов/вдов."
   ]
  },
  {
   "cell_type": "markdown",
   "metadata": {},
   "source": [
    "- Есть ли зависимость между уровнем дохода и возвратом кредита в срок?"
   ]
  },
  {
   "cell_type": "code",
   "execution_count": 51,
   "metadata": {},
   "outputs": [
    {
     "data": {
      "text/html": [
       "<div>\n",
       "<style scoped>\n",
       "    .dataframe tbody tr th:only-of-type {\n",
       "        vertical-align: middle;\n",
       "    }\n",
       "\n",
       "    .dataframe tbody tr th {\n",
       "        vertical-align: top;\n",
       "    }\n",
       "\n",
       "    .dataframe thead tr th {\n",
       "        text-align: left;\n",
       "    }\n",
       "\n",
       "    .dataframe thead tr:last-of-type th {\n",
       "        text-align: right;\n",
       "    }\n",
       "</style>\n",
       "<table border=\"1\" class=\"dataframe\">\n",
       "  <thead>\n",
       "    <tr>\n",
       "      <th></th>\n",
       "      <th>sum</th>\n",
       "      <th>count</th>\n",
       "      <th>количество задолжников, %</th>\n",
       "    </tr>\n",
       "    <tr>\n",
       "      <th></th>\n",
       "      <th>debt</th>\n",
       "      <th>debt</th>\n",
       "      <th></th>\n",
       "    </tr>\n",
       "    <tr>\n",
       "      <th>group_income</th>\n",
       "      <th></th>\n",
       "      <th></th>\n",
       "      <th></th>\n",
       "    </tr>\n",
       "  </thead>\n",
       "  <tbody>\n",
       "    <tr>\n",
       "      <td>poverty</td>\n",
       "      <td>2</td>\n",
       "      <td>22</td>\n",
       "      <td>9.090909</td>\n",
       "    </tr>\n",
       "    <tr>\n",
       "      <td>higher middle class</td>\n",
       "      <td>1281</td>\n",
       "      <td>15579</td>\n",
       "      <td>8.222607</td>\n",
       "    </tr>\n",
       "    <tr>\n",
       "      <td>middle class</td>\n",
       "      <td>319</td>\n",
       "      <td>3883</td>\n",
       "      <td>8.215297</td>\n",
       "    </tr>\n",
       "    <tr>\n",
       "      <td>kill the thief!</td>\n",
       "      <td>2</td>\n",
       "      <td>25</td>\n",
       "      <td>8.000000</td>\n",
       "    </tr>\n",
       "    <tr>\n",
       "      <td>rich</td>\n",
       "      <td>104</td>\n",
       "      <td>1458</td>\n",
       "      <td>7.133059</td>\n",
       "    </tr>\n",
       "    <tr>\n",
       "      <td>lower middle class</td>\n",
       "      <td>33</td>\n",
       "      <td>558</td>\n",
       "      <td>5.913978</td>\n",
       "    </tr>\n",
       "  </tbody>\n",
       "</table>\n",
       "</div>"
      ],
      "text/plain": [
       "                      sum  count количество задолжников, %\n",
       "                     debt   debt                          \n",
       "group_income                                              \n",
       "poverty                 2     22                  9.090909\n",
       "higher middle class  1281  15579                  8.222607\n",
       "middle class          319   3883                  8.215297\n",
       "kill the thief!         2     25                  8.000000\n",
       "rich                  104   1458                  7.133059\n",
       "lower middle class     33    558                  5.913978"
      ]
     },
     "execution_count": 51,
     "metadata": {},
     "output_type": "execute_result"
    }
   ],
   "source": [
    "df_pivot_income = df.pivot_table(index = 'group_income', values = 'debt', aggfunc = ['sum', 'count'])\n",
    "df_pivot_income['количество задолжников, %'] = df_pivot_income.iloc[:, 0]/df_pivot_income.iloc[:,1]*100\n",
    "df_pivot_income.sort_values(by = 'количество задолжников, %', ascending = False)"
   ]
  },
  {
   "cell_type": "markdown",
   "metadata": {},
   "source": [
    "**Вывод**  Неплательщики кредитов  - бедные клиеты с зарплатой до 30000 руб, в то время как люди с доходом от 30000 до 55000 руб. чаще остальных категорий выплачивают кредит в срок. Я удивляюсь нашим олигархам, которые с доходом более 1 млн руб вообще имеют задолженность."
   ]
  },
  {
   "cell_type": "markdown",
   "metadata": {},
   "source": [
    "- Как разные цели кредита влияют на его возврат в срок?"
   ]
  },
  {
   "cell_type": "code",
   "execution_count": 52,
   "metadata": {},
   "outputs": [
    {
     "data": {
      "text/html": [
       "<div>\n",
       "<style scoped>\n",
       "    .dataframe tbody tr th:only-of-type {\n",
       "        vertical-align: middle;\n",
       "    }\n",
       "\n",
       "    .dataframe tbody tr th {\n",
       "        vertical-align: top;\n",
       "    }\n",
       "\n",
       "    .dataframe thead tr th {\n",
       "        text-align: left;\n",
       "    }\n",
       "\n",
       "    .dataframe thead tr:last-of-type th {\n",
       "        text-align: right;\n",
       "    }\n",
       "</style>\n",
       "<table border=\"1\" class=\"dataframe\">\n",
       "  <thead>\n",
       "    <tr>\n",
       "      <th></th>\n",
       "      <th>sum</th>\n",
       "      <th>count</th>\n",
       "      <th>количество задолжников, %</th>\n",
       "    </tr>\n",
       "    <tr>\n",
       "      <th></th>\n",
       "      <th>debt</th>\n",
       "      <th>debt</th>\n",
       "      <th></th>\n",
       "    </tr>\n",
       "    <tr>\n",
       "      <th>purpose_general</th>\n",
       "      <th></th>\n",
       "      <th></th>\n",
       "      <th></th>\n",
       "    </tr>\n",
       "  </thead>\n",
       "  <tbody>\n",
       "    <tr>\n",
       "      <td>автомобиль</td>\n",
       "      <td>403</td>\n",
       "      <td>4315</td>\n",
       "      <td>9.339513</td>\n",
       "    </tr>\n",
       "    <tr>\n",
       "      <td>образование</td>\n",
       "      <td>370</td>\n",
       "      <td>4022</td>\n",
       "      <td>9.199403</td>\n",
       "    </tr>\n",
       "    <tr>\n",
       "      <td>свадьба</td>\n",
       "      <td>186</td>\n",
       "      <td>2348</td>\n",
       "      <td>7.921635</td>\n",
       "    </tr>\n",
       "    <tr>\n",
       "      <td>недвижимость</td>\n",
       "      <td>782</td>\n",
       "      <td>10840</td>\n",
       "      <td>7.214022</td>\n",
       "    </tr>\n",
       "  </tbody>\n",
       "</table>\n",
       "</div>"
      ],
      "text/plain": [
       "                 sum  count количество задолжников, %\n",
       "                debt   debt                          \n",
       "purpose_general                                      \n",
       "автомобиль       403   4315                  9.339513\n",
       "образование      370   4022                  9.199403\n",
       "свадьба          186   2348                  7.921635\n",
       "недвижимость     782  10840                  7.214022"
      ]
     },
     "execution_count": 52,
     "metadata": {},
     "output_type": "execute_result"
    }
   ],
   "source": [
    "df_pivot_purpose = df.pivot_table(index = 'purpose_general', values = 'debt', aggfunc = ['sum', 'count'])\n",
    "df_pivot_purpose['количество задолжников, %'] = df_pivot_purpose.iloc[:, 0]/df_pivot_purpose.iloc[:,1]*100\n",
    "df_pivot_purpose.sort_values(by = 'количество задолжников, %', ascending = False)"
   ]
  },
  {
   "cell_type": "markdown",
   "metadata": {},
   "source": [
    "**Вывод** Люди, берущие кредит на недвежимость, более ответственные кредитоплательщики, в то время как клиенты покупающие автомобиль менее часто отдают кредит в срок."
   ]
  },
  {
   "cell_type": "markdown",
   "metadata": {},
   "source": [
    "## Общий вывод"
   ]
  },
  {
   "cell_type": "markdown",
   "metadata": {},
   "source": [
    "1. Корректность данных:\n",
    "- в 47 записях фигурирует отрицательное количество детей (-1), что невозможно, у 76 клиетов в семье 20 детей (что малоправдоподобно), записи с -1 ребенком заменены на записи с 1. В дальнейшем перепроверить достоверность информации по клиентам с 20 детьми.\n",
    "- общий трудовой стаж не может быть отрицательным числом. Из-за большого количества таких записей (более 70% от всей информации) можно предположить что при выгрузке данных имела место техническая ошибка. Для дальнейшего анализа информации заменили отрицательные значения в days_employed на положительные\n",
    "- 101 запись содержит возраст клиента равный 0. Скорее всего, в данном случае 0 использовался для заполнения недостающих данных о возрасте. Для корректировки данных, заменили 0 в данных записях на значение медианы возраста клиентов\n",
    "- колонка education содержит дубликаты (написанный в разном регистре тип образования), осуществлена корректировка с переводом значений в нижний регистр \n",
    "- выявлен клиент с загадочным полом XNA, заменен на 'unknown'\n",
    "- для обобщения целей кредита колонка purpose лемматизирована по леммам 'жилье', 'недвижимость', 'автомоблиль', 'свадьба', 'образование'.\n",
    "- недостающие данные в столбцах `days_employed` и `total_income` заменены на медиану, вычисленную при группировки данных по параметру, оказывающему наибольшее влияние на вышеуказанные значения\n",
    "- мы преобразовали данные в столбцах `days_employed` и `total_income` к наиболее оптимальному для понимания и чтения виду (`int`), при этом при преобразовании дробная часть не откидывалась, а округлялась.\n",
    "- мы не удаляем дубликаты, исходя из возможности клиента иметь несколько заявок на кредит, при отсутствии дополнительной информации (даты одобрения кредита, суммы) мы не можем быть уверенными, что найденные дубликаты является в полном смысле полными дубликатами.\n",
    "- произведена категоризация данных по `total_income` с получением нового столбца в таблице `group_income`\n",
    "- мы создали два \"словаря\" для `education` и `family_status` - `education_dict` и `family_status_dict` соответственно, таким образом \"разгрузив\" основную таблицу `main_inf`, а также категоризировали данные по возрастным группам\n",
    "2. Ответы на вопросы\n",
    "- в целом клиенты, неимеющие детей возвращают кредиты в срок чаще, чем клиенты, имеющие детей, за исключением клиентов с 5 детьми, которые всегда возвращают кредиты в срок (хотя в виду очень небольшого числа таких клиентов - всего 9, данная тенденция не является абсолютно доказанной). Клиенты с тремя детьми возвращают кредиты в срок чаще, чем клиенты с одним или двумя детьми. Злостные неплательщики - клиента с 20 детьми (ха-ха-ха, им бы руки успеть помыть, не то, что в банк добежать кредит вернуть), опять же возникает вопрос о корректности выгруженных в df данных.\n",
    "- чаще задолжниками становятся неженатые, незамужние люди, а также люди, имеющие гражданский брак. Наиболее высок уровень возврата кредитов для вдовцов/вдов.\n",
    "- неплательщики кредитов - бедные клиенты с зарплатой до 30000 руб, в то время как люди с доходом от 30000 до 55000 руб. чаще остальных категорий выплачивают кредит в срок. Я удивлена нашими олигархами, которые с доходом более 1 млн руб вообще имеют задолженность.\n",
    "- люди, берущие кредит на недвежимость, более ответственные кредитоплательщики, в то время как клиенты, покупающие автомобиль, реже отдают кредит в срок.\n",
    "- если Вы хотите взять кредит на автомобиль, Вы single, но с 20 детьми, при этом Ваша зарплата либо менее 30000 руб, либо более 1 млн.руб - одумайтесь, скорее всего Вы его не вернете"
   ]
  }
 ],
 "metadata": {
  "ExecuteTimeLog": [
   {
    "duration": 682,
    "start_time": "2021-12-02T14:29:03.052Z"
   },
   {
    "duration": 64,
    "start_time": "2021-12-02T14:29:10.783Z"
   },
   {
    "duration": 881,
    "start_time": "2021-12-02T14:30:30.277Z"
   },
   {
    "duration": 60,
    "start_time": "2021-12-02T14:30:40.080Z"
   },
   {
    "duration": 11,
    "start_time": "2021-12-02T14:30:42.636Z"
   },
   {
    "duration": 6,
    "start_time": "2021-12-02T14:33:20.024Z"
   },
   {
    "duration": 5,
    "start_time": "2021-12-02T14:33:35.275Z"
   },
   {
    "duration": 11,
    "start_time": "2021-12-02T14:33:55.354Z"
   },
   {
    "duration": 4,
    "start_time": "2021-12-02T14:36:57.492Z"
   },
   {
    "duration": 11,
    "start_time": "2021-12-02T14:38:18.771Z"
   },
   {
    "duration": 5,
    "start_time": "2021-12-02T14:58:01.624Z"
   },
   {
    "duration": 5,
    "start_time": "2021-12-02T14:58:14.031Z"
   },
   {
    "duration": 9,
    "start_time": "2021-12-02T14:59:44.260Z"
   },
   {
    "duration": 10,
    "start_time": "2021-12-02T15:00:15.606Z"
   },
   {
    "duration": 8,
    "start_time": "2021-12-02T15:01:39.345Z"
   },
   {
    "duration": 78,
    "start_time": "2021-12-02T15:02:39.548Z"
   },
   {
    "duration": 87,
    "start_time": "2021-12-02T15:02:49.411Z"
   },
   {
    "duration": 244,
    "start_time": "2021-12-02T15:03:18.790Z"
   },
   {
    "duration": 8,
    "start_time": "2021-12-02T15:03:26.932Z"
   },
   {
    "duration": 9,
    "start_time": "2021-12-02T15:03:32.739Z"
   },
   {
    "duration": 7,
    "start_time": "2021-12-02T15:04:51.486Z"
   },
   {
    "duration": 459,
    "start_time": "2021-12-02T15:05:32.916Z"
   },
   {
    "duration": 8,
    "start_time": "2021-12-02T15:05:41.974Z"
   },
   {
    "duration": 6,
    "start_time": "2021-12-02T15:06:05.514Z"
   },
   {
    "duration": 6,
    "start_time": "2021-12-02T15:06:07.866Z"
   },
   {
    "duration": 6,
    "start_time": "2021-12-02T15:06:25.634Z"
   },
   {
    "duration": 7,
    "start_time": "2021-12-02T15:06:39.490Z"
   },
   {
    "duration": 133,
    "start_time": "2021-12-02T15:06:56.650Z"
   },
   {
    "duration": 4265,
    "start_time": "2021-12-02T15:07:04.803Z"
   },
   {
    "duration": 5,
    "start_time": "2021-12-02T15:07:11.444Z"
   },
   {
    "duration": 5,
    "start_time": "2021-12-02T15:07:13.620Z"
   },
   {
    "duration": 7,
    "start_time": "2021-12-02T15:07:27.163Z"
   },
   {
    "duration": 9,
    "start_time": "2021-12-02T15:07:38.099Z"
   },
   {
    "duration": 9,
    "start_time": "2021-12-02T15:15:48.209Z"
   },
   {
    "duration": 9,
    "start_time": "2021-12-02T15:16:33.937Z"
   },
   {
    "duration": 6,
    "start_time": "2021-12-02T15:17:55.497Z"
   },
   {
    "duration": 13,
    "start_time": "2021-12-02T15:18:10.159Z"
   },
   {
    "duration": 7,
    "start_time": "2021-12-02T15:18:51.178Z"
   },
   {
    "duration": 438,
    "start_time": "2021-12-02T17:03:11.943Z"
   },
   {
    "duration": 680,
    "start_time": "2021-12-02T17:03:16.550Z"
   },
   {
    "duration": 13,
    "start_time": "2021-12-02T17:03:18.564Z"
   },
   {
    "duration": 8,
    "start_time": "2021-12-02T17:03:19.467Z"
   },
   {
    "duration": 11,
    "start_time": "2021-12-02T17:03:22.859Z"
   },
   {
    "duration": 9,
    "start_time": "2021-12-02T17:03:27.090Z"
   },
   {
    "duration": 7,
    "start_time": "2021-12-02T17:03:29.603Z"
   },
   {
    "duration": 8,
    "start_time": "2021-12-02T17:03:31.931Z"
   },
   {
    "duration": 6,
    "start_time": "2021-12-02T17:04:23.212Z"
   },
   {
    "duration": 405,
    "start_time": "2021-12-02T17:04:31.419Z"
   },
   {
    "duration": 14,
    "start_time": "2021-12-02T17:04:39.117Z"
   },
   {
    "duration": 9,
    "start_time": "2021-12-02T17:05:09.715Z"
   },
   {
    "duration": 19,
    "start_time": "2021-12-02T17:05:26.309Z"
   },
   {
    "duration": 19,
    "start_time": "2021-12-02T17:06:12.101Z"
   },
   {
    "duration": 22,
    "start_time": "2021-12-02T17:06:38.795Z"
   },
   {
    "duration": 18,
    "start_time": "2021-12-02T17:06:50.086Z"
   },
   {
    "duration": 17,
    "start_time": "2021-12-02T17:07:12.756Z"
   },
   {
    "duration": 18,
    "start_time": "2021-12-02T17:07:39.730Z"
   },
   {
    "duration": 20,
    "start_time": "2021-12-02T17:07:49.931Z"
   },
   {
    "duration": 6,
    "start_time": "2021-12-02T17:10:14.674Z"
   },
   {
    "duration": 7,
    "start_time": "2021-12-02T17:13:09.226Z"
   },
   {
    "duration": 12,
    "start_time": "2021-12-02T17:14:57.109Z"
   },
   {
    "duration": 14,
    "start_time": "2021-12-02T17:15:17.473Z"
   },
   {
    "duration": 14,
    "start_time": "2021-12-02T17:15:35.416Z"
   },
   {
    "duration": 15,
    "start_time": "2021-12-02T17:16:32.754Z"
   },
   {
    "duration": 15,
    "start_time": "2021-12-02T17:16:39.432Z"
   },
   {
    "duration": 30,
    "start_time": "2021-12-02T17:17:12.505Z"
   },
   {
    "duration": 12,
    "start_time": "2021-12-02T17:17:22.682Z"
   },
   {
    "duration": 11,
    "start_time": "2021-12-02T17:17:40.575Z"
   },
   {
    "duration": 9,
    "start_time": "2021-12-02T17:32:25.197Z"
   },
   {
    "duration": 15,
    "start_time": "2021-12-02T17:32:47.070Z"
   },
   {
    "duration": 12,
    "start_time": "2021-12-02T17:32:53.790Z"
   },
   {
    "duration": 18,
    "start_time": "2021-12-02T17:33:10.421Z"
   },
   {
    "duration": 16,
    "start_time": "2021-12-02T17:33:38.924Z"
   },
   {
    "duration": 9,
    "start_time": "2021-12-02T17:44:23.579Z"
   },
   {
    "duration": 433,
    "start_time": "2021-12-02T17:49:00.093Z"
   },
   {
    "duration": 13,
    "start_time": "2021-12-02T17:49:24.154Z"
   },
   {
    "duration": 13,
    "start_time": "2021-12-02T17:56:09.032Z"
   },
   {
    "duration": 9,
    "start_time": "2021-12-02T17:56:50.584Z"
   },
   {
    "duration": 12,
    "start_time": "2021-12-02T17:56:55.838Z"
   },
   {
    "duration": 802,
    "start_time": "2021-12-02T18:01:21.035Z"
   },
   {
    "duration": 9,
    "start_time": "2021-12-02T18:01:23.334Z"
   },
   {
    "duration": 22,
    "start_time": "2021-12-02T18:01:59.053Z"
   },
   {
    "duration": 9,
    "start_time": "2021-12-02T18:02:06.952Z"
   },
   {
    "duration": 27,
    "start_time": "2021-12-02T18:02:14.069Z"
   },
   {
    "duration": 24,
    "start_time": "2021-12-02T18:02:57.759Z"
   },
   {
    "duration": 218,
    "start_time": "2021-12-02T18:03:06.791Z"
   },
   {
    "duration": 28,
    "start_time": "2021-12-02T18:03:13.351Z"
   },
   {
    "duration": 8,
    "start_time": "2021-12-02T18:03:25.509Z"
   },
   {
    "duration": 6,
    "start_time": "2021-12-02T18:04:41.757Z"
   },
   {
    "duration": 7,
    "start_time": "2021-12-02T18:06:39.454Z"
   },
   {
    "duration": 403,
    "start_time": "2021-12-02T18:08:19.812Z"
   },
   {
    "duration": 7,
    "start_time": "2021-12-02T18:08:38.060Z"
   },
   {
    "duration": 17,
    "start_time": "2021-12-02T18:08:49.348Z"
   },
   {
    "duration": 18,
    "start_time": "2021-12-02T18:09:17.153Z"
   },
   {
    "duration": 12,
    "start_time": "2021-12-02T18:09:24.699Z"
   },
   {
    "duration": 16,
    "start_time": "2021-12-02T18:09:57.805Z"
   },
   {
    "duration": 13,
    "start_time": "2021-12-02T18:10:00.140Z"
   },
   {
    "duration": 18,
    "start_time": "2021-12-02T18:10:46.120Z"
   },
   {
    "duration": 11,
    "start_time": "2021-12-02T18:10:49.206Z"
   },
   {
    "duration": 362,
    "start_time": "2021-12-02T18:12:42.227Z"
   },
   {
    "duration": 7,
    "start_time": "2021-12-02T18:12:50.988Z"
   },
   {
    "duration": 4,
    "start_time": "2021-12-02T18:13:22.202Z"
   },
   {
    "duration": 7,
    "start_time": "2021-12-02T18:13:29.459Z"
   },
   {
    "duration": 17,
    "start_time": "2021-12-02T18:13:52.547Z"
   },
   {
    "duration": 16,
    "start_time": "2021-12-02T18:14:20.411Z"
   },
   {
    "duration": 23,
    "start_time": "2021-12-02T18:25:51.203Z"
   },
   {
    "duration": 7,
    "start_time": "2021-12-02T18:26:00.504Z"
   },
   {
    "duration": 16,
    "start_time": "2021-12-02T18:26:07.488Z"
   },
   {
    "duration": 424,
    "start_time": "2021-12-02T18:27:40.784Z"
   },
   {
    "duration": 424,
    "start_time": "2021-12-02T18:28:01.967Z"
   },
   {
    "duration": 6,
    "start_time": "2021-12-02T18:28:41.449Z"
   },
   {
    "duration": 13,
    "start_time": "2021-12-02T18:28:54.104Z"
   },
   {
    "duration": 8,
    "start_time": "2021-12-02T18:29:02.146Z"
   },
   {
    "duration": 16,
    "start_time": "2021-12-02T18:29:19.345Z"
   },
   {
    "duration": 17,
    "start_time": "2021-12-02T18:29:47.640Z"
   },
   {
    "duration": 7,
    "start_time": "2021-12-02T18:29:50.329Z"
   },
   {
    "duration": 6,
    "start_time": "2021-12-02T18:29:55.718Z"
   },
   {
    "duration": 9,
    "start_time": "2021-12-02T18:29:58.497Z"
   },
   {
    "duration": 15,
    "start_time": "2021-12-02T18:30:09.320Z"
   },
   {
    "duration": 7,
    "start_time": "2021-12-02T18:32:22.142Z"
   },
   {
    "duration": 6,
    "start_time": "2021-12-02T18:32:49.920Z"
   },
   {
    "duration": 7,
    "start_time": "2021-12-02T18:33:00.206Z"
   },
   {
    "duration": 9,
    "start_time": "2021-12-02T18:33:01.846Z"
   },
   {
    "duration": 11,
    "start_time": "2021-12-02T18:33:20.046Z"
   },
   {
    "duration": 17,
    "start_time": "2021-12-02T18:34:21.305Z"
   },
   {
    "duration": 16,
    "start_time": "2021-12-02T18:34:40.737Z"
   },
   {
    "duration": 8,
    "start_time": "2021-12-02T18:34:50.150Z"
   },
   {
    "duration": 28,
    "start_time": "2021-12-02T18:35:12.030Z"
   },
   {
    "duration": 61,
    "start_time": "2021-12-02T18:36:08.415Z"
   },
   {
    "duration": 57,
    "start_time": "2021-12-02T18:36:11.582Z"
   },
   {
    "duration": 11,
    "start_time": "2021-12-02T18:36:15.287Z"
   },
   {
    "duration": 8,
    "start_time": "2021-12-02T18:36:17.711Z"
   },
   {
    "duration": 10,
    "start_time": "2021-12-02T18:36:22.757Z"
   },
   {
    "duration": 10,
    "start_time": "2021-12-02T18:37:58.326Z"
   },
   {
    "duration": 8,
    "start_time": "2021-12-02T18:38:43.927Z"
   },
   {
    "duration": 20,
    "start_time": "2021-12-02T18:41:08.974Z"
   },
   {
    "duration": 13,
    "start_time": "2021-12-02T18:41:14.933Z"
   },
   {
    "duration": 10,
    "start_time": "2021-12-02T18:42:30.076Z"
   },
   {
    "duration": 10,
    "start_time": "2021-12-02T18:44:23.700Z"
   },
   {
    "duration": 23,
    "start_time": "2021-12-02T18:47:37.765Z"
   },
   {
    "duration": 6,
    "start_time": "2021-12-02T18:51:51.693Z"
   },
   {
    "duration": 378,
    "start_time": "2021-12-02T18:51:56.585Z"
   },
   {
    "duration": 25,
    "start_time": "2021-12-02T18:52:03.866Z"
   },
   {
    "duration": 25,
    "start_time": "2021-12-02T18:52:19.610Z"
   },
   {
    "duration": 16,
    "start_time": "2021-12-02T18:52:55.524Z"
   },
   {
    "duration": 7,
    "start_time": "2021-12-02T18:55:45.777Z"
   },
   {
    "duration": 27,
    "start_time": "2021-12-02T18:57:10.945Z"
   },
   {
    "duration": 11,
    "start_time": "2021-12-02T18:57:28.019Z"
   },
   {
    "duration": 411,
    "start_time": "2021-12-02T19:03:27.033Z"
   },
   {
    "duration": 9,
    "start_time": "2021-12-02T19:03:40.414Z"
   },
   {
    "duration": 14,
    "start_time": "2021-12-02T19:05:05.982Z"
   },
   {
    "duration": 19,
    "start_time": "2021-12-02T19:05:19.839Z"
   },
   {
    "duration": 5,
    "start_time": "2021-12-02T19:10:14.654Z"
   },
   {
    "duration": 7,
    "start_time": "2021-12-02T19:10:28.864Z"
   },
   {
    "duration": 7,
    "start_time": "2021-12-02T19:11:01.894Z"
   },
   {
    "duration": 9,
    "start_time": "2021-12-02T19:11:41.048Z"
   },
   {
    "duration": 15,
    "start_time": "2021-12-02T19:13:03.277Z"
   },
   {
    "duration": 14,
    "start_time": "2021-12-02T19:14:02.305Z"
   },
   {
    "duration": 14,
    "start_time": "2021-12-02T19:15:41.293Z"
   },
   {
    "duration": 16,
    "start_time": "2021-12-02T19:16:07.909Z"
   },
   {
    "duration": 41,
    "start_time": "2021-12-02T19:28:26.154Z"
   },
   {
    "duration": 48,
    "start_time": "2021-12-02T19:28:35.809Z"
   },
   {
    "duration": 54,
    "start_time": "2021-12-02T19:31:28.113Z"
   },
   {
    "duration": 20,
    "start_time": "2021-12-02T19:34:25.880Z"
   },
   {
    "duration": 21,
    "start_time": "2021-12-02T19:34:37.032Z"
   },
   {
    "duration": 14,
    "start_time": "2021-12-02T19:34:39.439Z"
   },
   {
    "duration": 11,
    "start_time": "2021-12-02T19:34:51.151Z"
   },
   {
    "duration": 383,
    "start_time": "2021-12-02T19:35:28.535Z"
   },
   {
    "duration": 729,
    "start_time": "2021-12-02T19:35:42.778Z"
   },
   {
    "duration": 12,
    "start_time": "2021-12-02T19:35:43.509Z"
   },
   {
    "duration": 7,
    "start_time": "2021-12-02T19:35:43.523Z"
   },
   {
    "duration": 9,
    "start_time": "2021-12-02T19:35:43.532Z"
   },
   {
    "duration": 6,
    "start_time": "2021-12-02T19:35:43.542Z"
   },
   {
    "duration": 8,
    "start_time": "2021-12-02T19:35:43.550Z"
   },
   {
    "duration": 51,
    "start_time": "2021-12-02T19:35:43.559Z"
   },
   {
    "duration": 9,
    "start_time": "2021-12-02T19:35:43.613Z"
   },
   {
    "duration": 12,
    "start_time": "2021-12-02T19:35:43.624Z"
   },
   {
    "duration": 7,
    "start_time": "2021-12-02T19:35:43.637Z"
   },
   {
    "duration": 4,
    "start_time": "2021-12-02T19:35:43.646Z"
   },
   {
    "duration": 61,
    "start_time": "2021-12-02T19:35:43.652Z"
   },
   {
    "duration": 20,
    "start_time": "2021-12-02T19:35:43.715Z"
   },
   {
    "duration": 11,
    "start_time": "2021-12-02T19:35:43.736Z"
   },
   {
    "duration": 85,
    "start_time": "2021-12-02T19:35:43.749Z"
   },
   {
    "duration": 9251,
    "start_time": "2021-12-02T19:41:38.438Z"
   },
   {
    "duration": 5,
    "start_time": "2021-12-02T19:41:56.815Z"
   },
   {
    "duration": 5,
    "start_time": "2021-12-02T19:42:18.276Z"
   },
   {
    "duration": 373,
    "start_time": "2021-12-02T19:42:25.565Z"
   },
   {
    "duration": 5,
    "start_time": "2021-12-02T19:42:34.709Z"
   },
   {
    "duration": 13,
    "start_time": "2021-12-02T19:43:03.186Z"
   },
   {
    "duration": 17,
    "start_time": "2021-12-02T19:48:52.876Z"
   },
   {
    "duration": 57,
    "start_time": "2021-12-02T19:49:57.525Z"
   },
   {
    "duration": 18,
    "start_time": "2021-12-02T19:50:37.703Z"
   },
   {
    "duration": 18,
    "start_time": "2021-12-02T19:50:52.309Z"
   },
   {
    "duration": 362,
    "start_time": "2021-12-02T19:52:07.757Z"
   },
   {
    "duration": 7,
    "start_time": "2021-12-02T19:52:31.516Z"
   },
   {
    "duration": 363,
    "start_time": "2021-12-02T19:57:05.443Z"
   },
   {
    "duration": 13,
    "start_time": "2021-12-02T19:58:08.810Z"
   },
   {
    "duration": 7,
    "start_time": "2021-12-02T19:58:22.754Z"
   },
   {
    "duration": 8,
    "start_time": "2021-12-02T20:01:13.122Z"
   },
   {
    "duration": 11,
    "start_time": "2021-12-02T20:04:03.602Z"
   },
   {
    "duration": 34,
    "start_time": "2021-12-02T20:04:07.192Z"
   },
   {
    "duration": 34,
    "start_time": "2021-12-02T20:04:48.228Z"
   },
   {
    "duration": 16,
    "start_time": "2021-12-02T20:05:19.849Z"
   },
   {
    "duration": 6,
    "start_time": "2021-12-02T20:06:26.232Z"
   },
   {
    "duration": 19,
    "start_time": "2021-12-02T20:06:55.512Z"
   },
   {
    "duration": 22,
    "start_time": "2021-12-02T20:07:03.681Z"
   },
   {
    "duration": 9,
    "start_time": "2021-12-02T20:07:21.913Z"
   },
   {
    "duration": 58,
    "start_time": "2021-12-02T20:07:32.000Z"
   },
   {
    "duration": 11,
    "start_time": "2021-12-02T20:07:32.060Z"
   },
   {
    "duration": 7,
    "start_time": "2021-12-02T20:07:32.074Z"
   },
   {
    "duration": 9,
    "start_time": "2021-12-02T20:07:32.106Z"
   },
   {
    "duration": 6,
    "start_time": "2021-12-02T20:07:32.116Z"
   },
   {
    "duration": 8,
    "start_time": "2021-12-02T20:07:32.124Z"
   },
   {
    "duration": 5,
    "start_time": "2021-12-02T20:07:32.133Z"
   },
   {
    "duration": 9,
    "start_time": "2021-12-02T20:07:32.140Z"
   },
   {
    "duration": 8,
    "start_time": "2021-12-02T20:07:32.152Z"
   },
   {
    "duration": 48,
    "start_time": "2021-12-02T20:07:32.161Z"
   },
   {
    "duration": 5,
    "start_time": "2021-12-02T20:07:32.211Z"
   },
   {
    "duration": 18,
    "start_time": "2021-12-02T20:07:32.218Z"
   },
   {
    "duration": 18,
    "start_time": "2021-12-02T20:07:32.237Z"
   },
   {
    "duration": 10,
    "start_time": "2021-12-02T20:07:32.257Z"
   },
   {
    "duration": 85,
    "start_time": "2021-12-02T20:07:32.268Z"
   },
   {
    "duration": 4,
    "start_time": "2021-12-02T20:07:32.355Z"
   },
   {
    "duration": 6,
    "start_time": "2021-12-02T20:07:32.361Z"
   },
   {
    "duration": 6,
    "start_time": "2021-12-02T20:07:32.369Z"
   },
   {
    "duration": 38,
    "start_time": "2021-12-02T20:07:32.377Z"
   },
   {
    "duration": 17,
    "start_time": "2021-12-02T20:07:32.417Z"
   },
   {
    "duration": 7,
    "start_time": "2021-12-02T20:07:32.436Z"
   },
   {
    "duration": 140,
    "start_time": "2021-12-02T20:07:32.444Z"
   },
   {
    "duration": 922,
    "start_time": "2021-12-02T20:07:31.664Z"
   },
   {
    "duration": 919,
    "start_time": "2021-12-02T20:07:31.668Z"
   },
   {
    "duration": 918,
    "start_time": "2021-12-02T20:07:31.670Z"
   },
   {
    "duration": 6,
    "start_time": "2021-12-02T20:08:46.336Z"
   },
   {
    "duration": 18,
    "start_time": "2021-12-02T20:09:14.654Z"
   },
   {
    "duration": 17,
    "start_time": "2021-12-02T20:09:20.542Z"
   },
   {
    "duration": 5,
    "start_time": "2021-12-02T20:09:44.591Z"
   },
   {
    "duration": 387,
    "start_time": "2021-12-02T20:09:52.122Z"
   },
   {
    "duration": 6,
    "start_time": "2021-12-02T20:09:57.822Z"
   },
   {
    "duration": 60,
    "start_time": "2021-12-02T20:23:57.070Z"
   },
   {
    "duration": 416,
    "start_time": "2021-12-02T20:25:40.947Z"
   },
   {
    "duration": 392,
    "start_time": "2021-12-02T20:29:19.619Z"
   },
   {
    "duration": 378,
    "start_time": "2021-12-02T20:30:02.566Z"
   },
   {
    "duration": 6,
    "start_time": "2021-12-02T20:30:08.402Z"
   },
   {
    "duration": 674,
    "start_time": "2021-12-02T20:30:34.644Z"
   },
   {
    "duration": 130,
    "start_time": "2021-12-02T20:32:39.370Z"
   },
   {
    "duration": 3268,
    "start_time": "2021-12-02T20:32:47.917Z"
   },
   {
    "duration": 3135,
    "start_time": "2021-12-02T20:33:00.427Z"
   },
   {
    "duration": 726,
    "start_time": "2021-12-02T20:37:08.993Z"
   },
   {
    "duration": 11,
    "start_time": "2021-12-02T20:37:09.721Z"
   },
   {
    "duration": 6,
    "start_time": "2021-12-02T20:37:09.735Z"
   },
   {
    "duration": 9,
    "start_time": "2021-12-02T20:37:09.743Z"
   },
   {
    "duration": 7,
    "start_time": "2021-12-02T20:37:09.754Z"
   },
   {
    "duration": 10,
    "start_time": "2021-12-02T20:37:09.763Z"
   },
   {
    "duration": 7,
    "start_time": "2021-12-02T20:37:09.807Z"
   },
   {
    "duration": 10,
    "start_time": "2021-12-02T20:37:09.818Z"
   },
   {
    "duration": 9,
    "start_time": "2021-12-02T20:37:09.830Z"
   },
   {
    "duration": 9,
    "start_time": "2021-12-02T20:37:09.841Z"
   },
   {
    "duration": 6,
    "start_time": "2021-12-02T20:37:09.852Z"
   },
   {
    "duration": 58,
    "start_time": "2021-12-02T20:37:09.859Z"
   },
   {
    "duration": 19,
    "start_time": "2021-12-02T20:37:09.919Z"
   },
   {
    "duration": 12,
    "start_time": "2021-12-02T20:37:09.940Z"
   },
   {
    "duration": 81,
    "start_time": "2021-12-02T20:37:09.954Z"
   },
   {
    "duration": 3,
    "start_time": "2021-12-02T20:37:10.037Z"
   },
   {
    "duration": 7,
    "start_time": "2021-12-02T20:37:10.042Z"
   },
   {
    "duration": 7,
    "start_time": "2021-12-02T20:37:10.051Z"
   },
   {
    "duration": 13,
    "start_time": "2021-12-02T20:37:10.059Z"
   },
   {
    "duration": 40,
    "start_time": "2021-12-02T20:37:10.074Z"
   },
   {
    "duration": 7,
    "start_time": "2021-12-02T20:37:10.116Z"
   },
   {
    "duration": 6,
    "start_time": "2021-12-02T20:37:10.125Z"
   },
   {
    "duration": 5,
    "start_time": "2021-12-02T20:37:10.134Z"
   },
   {
    "duration": 7,
    "start_time": "2021-12-02T20:37:10.141Z"
   },
   {
    "duration": 16,
    "start_time": "2021-12-02T20:37:10.150Z"
   },
   {
    "duration": 43,
    "start_time": "2021-12-02T20:37:10.168Z"
   },
   {
    "duration": 5,
    "start_time": "2021-12-02T20:37:10.213Z"
   },
   {
    "duration": 693,
    "start_time": "2021-12-02T20:37:10.219Z"
   },
   {
    "duration": 2815,
    "start_time": "2021-12-02T20:37:10.914Z"
   },
   {
    "duration": 3749,
    "start_time": "2021-12-02T20:42:02.627Z"
   },
   {
    "duration": 707,
    "start_time": "2021-12-02T20:44:25.135Z"
   },
   {
    "duration": 678,
    "start_time": "2021-12-02T20:44:27.728Z"
   },
   {
    "duration": 679,
    "start_time": "2021-12-02T20:44:32.767Z"
   },
   {
    "duration": 679,
    "start_time": "2021-12-02T20:44:45.338Z"
   },
   {
    "duration": 711,
    "start_time": "2021-12-02T20:45:03.176Z"
   },
   {
    "duration": 4320,
    "start_time": "2021-12-02T20:46:43.655Z"
   },
   {
    "duration": 10040,
    "start_time": "2021-12-02T20:46:53.337Z"
   },
   {
    "duration": 10111,
    "start_time": "2021-12-02T20:48:12.411Z"
   },
   {
    "duration": 130,
    "start_time": "2021-12-02T20:51:32.923Z"
   },
   {
    "duration": 667,
    "start_time": "2021-12-02T20:51:54.854Z"
   },
   {
    "duration": 594,
    "start_time": "2021-12-02T20:52:17.334Z"
   },
   {
    "duration": 9481,
    "start_time": "2021-12-02T20:52:40.686Z"
   },
   {
    "duration": 131,
    "start_time": "2021-12-02T20:59:58.560Z"
   },
   {
    "duration": 690,
    "start_time": "2021-12-02T21:00:13.373Z"
   },
   {
    "duration": 712,
    "start_time": "2021-12-02T21:00:36.261Z"
   },
   {
    "duration": 133,
    "start_time": "2021-12-02T21:01:50.717Z"
   },
   {
    "duration": 1911,
    "start_time": "2021-12-02T21:02:13.115Z"
   },
   {
    "duration": 4,
    "start_time": "2021-12-02T21:02:25.763Z"
   },
   {
    "duration": 5,
    "start_time": "2021-12-02T21:02:30.083Z"
   },
   {
    "duration": 3770,
    "start_time": "2021-12-02T21:05:28.666Z"
   },
   {
    "duration": 3650,
    "start_time": "2021-12-02T21:05:39.018Z"
   },
   {
    "duration": 3525,
    "start_time": "2021-12-02T21:05:43.148Z"
   },
   {
    "duration": 3535,
    "start_time": "2021-12-02T21:06:18.277Z"
   },
   {
    "duration": 696,
    "start_time": "2021-12-02T21:06:38.512Z"
   },
   {
    "duration": 11,
    "start_time": "2021-12-02T21:06:39.210Z"
   },
   {
    "duration": 7,
    "start_time": "2021-12-02T21:06:39.223Z"
   },
   {
    "duration": 9,
    "start_time": "2021-12-02T21:06:39.232Z"
   },
   {
    "duration": 6,
    "start_time": "2021-12-02T21:06:39.243Z"
   },
   {
    "duration": 8,
    "start_time": "2021-12-02T21:06:39.251Z"
   },
   {
    "duration": 6,
    "start_time": "2021-12-02T21:06:39.261Z"
   },
   {
    "duration": 43,
    "start_time": "2021-12-02T21:06:39.270Z"
   },
   {
    "duration": 8,
    "start_time": "2021-12-02T21:06:39.315Z"
   },
   {
    "duration": 7,
    "start_time": "2021-12-02T21:06:39.324Z"
   },
   {
    "duration": 4,
    "start_time": "2021-12-02T21:06:39.333Z"
   },
   {
    "duration": 16,
    "start_time": "2021-12-02T21:06:39.339Z"
   },
   {
    "duration": 52,
    "start_time": "2021-12-02T21:06:39.357Z"
   },
   {
    "duration": 11,
    "start_time": "2021-12-02T21:06:39.410Z"
   },
   {
    "duration": 52,
    "start_time": "2021-12-02T21:06:39.423Z"
   },
   {
    "duration": 4,
    "start_time": "2021-12-02T21:06:39.476Z"
   },
   {
    "duration": 27,
    "start_time": "2021-12-02T21:06:39.481Z"
   },
   {
    "duration": 6,
    "start_time": "2021-12-02T21:06:39.510Z"
   },
   {
    "duration": 13,
    "start_time": "2021-12-02T21:06:39.517Z"
   },
   {
    "duration": 17,
    "start_time": "2021-12-02T21:06:39.532Z"
   },
   {
    "duration": 7,
    "start_time": "2021-12-02T21:06:39.551Z"
   },
   {
    "duration": 7,
    "start_time": "2021-12-02T21:06:39.559Z"
   },
   {
    "duration": 6,
    "start_time": "2021-12-02T21:06:39.605Z"
   },
   {
    "duration": 8,
    "start_time": "2021-12-02T21:06:39.613Z"
   },
   {
    "duration": 15,
    "start_time": "2021-12-02T21:06:39.623Z"
   },
   {
    "duration": 5,
    "start_time": "2021-12-02T21:06:39.640Z"
   },
   {
    "duration": 3925,
    "start_time": "2021-12-02T21:06:39.647Z"
   },
   {
    "duration": 3744,
    "start_time": "2021-12-02T21:08:27.930Z"
   },
   {
    "duration": 3684,
    "start_time": "2021-12-02T21:09:13.275Z"
   },
   {
    "duration": 3631,
    "start_time": "2021-12-02T21:09:50.777Z"
   },
   {
    "duration": 3553,
    "start_time": "2021-12-02T21:10:02.666Z"
   },
   {
    "duration": 119,
    "start_time": "2021-12-02T21:14:49.432Z"
   },
   {
    "duration": 16,
    "start_time": "2021-12-02T21:16:11.083Z"
   },
   {
    "duration": 14,
    "start_time": "2021-12-02T21:16:16.888Z"
   },
   {
    "duration": 13,
    "start_time": "2021-12-02T21:16:50.267Z"
   },
   {
    "duration": 782,
    "start_time": "2021-12-03T08:55:34.032Z"
   },
   {
    "duration": 85,
    "start_time": "2021-12-03T08:55:36.913Z"
   },
   {
    "duration": 14,
    "start_time": "2021-12-03T08:55:43.444Z"
   },
   {
    "duration": 10,
    "start_time": "2021-12-03T08:55:55.675Z"
   },
   {
    "duration": 8,
    "start_time": "2021-12-03T09:05:28.913Z"
   },
   {
    "duration": 15,
    "start_time": "2021-12-03T09:15:25.239Z"
   },
   {
    "duration": 8,
    "start_time": "2021-12-03T09:16:19.684Z"
   },
   {
    "duration": 14,
    "start_time": "2021-12-03T09:17:25.445Z"
   },
   {
    "duration": 384,
    "start_time": "2021-12-03T09:18:45.702Z"
   },
   {
    "duration": 21,
    "start_time": "2021-12-03T09:18:51.419Z"
   },
   {
    "duration": 22,
    "start_time": "2021-12-03T09:20:53.222Z"
   },
   {
    "duration": 31,
    "start_time": "2021-12-03T09:23:38.372Z"
   },
   {
    "duration": 8,
    "start_time": "2021-12-03T09:24:41.169Z"
   },
   {
    "duration": 14,
    "start_time": "2021-12-03T09:24:57.444Z"
   },
   {
    "duration": 17,
    "start_time": "2021-12-03T09:25:29.833Z"
   },
   {
    "duration": 11,
    "start_time": "2021-12-03T09:25:44.641Z"
   },
   {
    "duration": 11,
    "start_time": "2021-12-03T09:25:56.210Z"
   },
   {
    "duration": 12,
    "start_time": "2021-12-03T09:26:27.218Z"
   },
   {
    "duration": 13,
    "start_time": "2021-12-03T09:27:27.139Z"
   },
   {
    "duration": 15,
    "start_time": "2021-12-03T09:27:44.770Z"
   },
   {
    "duration": 8,
    "start_time": "2021-12-03T09:28:59.529Z"
   },
   {
    "duration": 10,
    "start_time": "2021-12-03T09:29:27.608Z"
   },
   {
    "duration": 11,
    "start_time": "2021-12-03T09:29:36.281Z"
   },
   {
    "duration": 8,
    "start_time": "2021-12-03T09:31:17.278Z"
   },
   {
    "duration": 8,
    "start_time": "2021-12-03T09:32:02.928Z"
   },
   {
    "duration": 12,
    "start_time": "2021-12-03T09:36:58.223Z"
   },
   {
    "duration": 22,
    "start_time": "2021-12-03T09:37:13.895Z"
   },
   {
    "duration": 10,
    "start_time": "2021-12-03T09:38:20.159Z"
   },
   {
    "duration": 11,
    "start_time": "2021-12-03T09:42:00.783Z"
   },
   {
    "duration": 9,
    "start_time": "2021-12-03T09:42:42.813Z"
   },
   {
    "duration": 10,
    "start_time": "2021-12-03T09:46:22.842Z"
   },
   {
    "duration": 8,
    "start_time": "2021-12-03T09:47:53.884Z"
   },
   {
    "duration": 9,
    "start_time": "2021-12-03T09:49:13.732Z"
   },
   {
    "duration": 16,
    "start_time": "2021-12-03T09:53:06.106Z"
   },
   {
    "duration": 11,
    "start_time": "2021-12-03T09:54:09.691Z"
   },
   {
    "duration": 8,
    "start_time": "2021-12-03T09:55:17.242Z"
   },
   {
    "duration": 13,
    "start_time": "2021-12-03T09:56:57.771Z"
   },
   {
    "duration": 8,
    "start_time": "2021-12-03T09:58:25.568Z"
   },
   {
    "duration": 8,
    "start_time": "2021-12-03T09:59:31.628Z"
   },
   {
    "duration": 14,
    "start_time": "2021-12-03T10:07:41.135Z"
   },
   {
    "duration": 15,
    "start_time": "2021-12-03T10:07:44.839Z"
   },
   {
    "duration": 15,
    "start_time": "2021-12-03T10:07:55.527Z"
   },
   {
    "duration": 15,
    "start_time": "2021-12-03T10:11:09.013Z"
   },
   {
    "duration": 280,
    "start_time": "2021-12-03T10:18:31.956Z"
   },
   {
    "duration": 273,
    "start_time": "2021-12-03T10:18:38.444Z"
   },
   {
    "duration": 9,
    "start_time": "2021-12-03T10:18:42.324Z"
   },
   {
    "duration": 8,
    "start_time": "2021-12-03T10:18:47.260Z"
   },
   {
    "duration": 14,
    "start_time": "2021-12-03T10:19:28.198Z"
   },
   {
    "duration": 12,
    "start_time": "2021-12-03T10:28:11.866Z"
   },
   {
    "duration": 11,
    "start_time": "2021-12-03T10:30:41.810Z"
   },
   {
    "duration": 13,
    "start_time": "2021-12-03T10:34:31.159Z"
   },
   {
    "duration": 622,
    "start_time": "2021-12-03T10:36:27.202Z"
   },
   {
    "duration": 280,
    "start_time": "2021-12-03T10:36:46.808Z"
   },
   {
    "duration": 25,
    "start_time": "2021-12-03T10:37:21.135Z"
   },
   {
    "duration": 298,
    "start_time": "2021-12-03T10:41:42.785Z"
   },
   {
    "duration": 26,
    "start_time": "2021-12-03T10:45:38.694Z"
   },
   {
    "duration": 23,
    "start_time": "2021-12-03T10:48:14.551Z"
   },
   {
    "duration": 15,
    "start_time": "2021-12-03T10:48:18.420Z"
   },
   {
    "duration": 8,
    "start_time": "2021-12-03T10:56:43.515Z"
   },
   {
    "duration": 612,
    "start_time": "2021-12-03T10:56:55.617Z"
   },
   {
    "duration": 274,
    "start_time": "2021-12-03T10:56:59.315Z"
   },
   {
    "duration": 5,
    "start_time": "2021-12-03T10:57:07.946Z"
   },
   {
    "duration": 295,
    "start_time": "2021-12-03T10:57:14.716Z"
   },
   {
    "duration": 4,
    "start_time": "2021-12-03T10:57:41.809Z"
   },
   {
    "duration": 455,
    "start_time": "2021-12-03T10:57:41.815Z"
   },
   {
    "duration": 255,
    "start_time": "2021-12-03T10:57:42.274Z"
   },
   {
    "duration": 305,
    "start_time": "2021-12-03T10:57:42.531Z"
   },
   {
    "duration": 269,
    "start_time": "2021-12-03T10:57:42.838Z"
   },
   {
    "duration": 319,
    "start_time": "2021-12-03T10:57:43.110Z"
   },
   {
    "duration": 205,
    "start_time": "2021-12-03T10:57:43.433Z"
   },
   {
    "duration": 699,
    "start_time": "2021-12-03T10:57:43.640Z"
   },
   {
    "duration": 333,
    "start_time": "2021-12-03T10:57:44.341Z"
   },
   {
    "duration": 1029,
    "start_time": "2021-12-03T10:57:44.677Z"
   },
   {
    "duration": 421,
    "start_time": "2021-12-03T10:57:45.708Z"
   },
   {
    "duration": 1464,
    "start_time": "2021-12-03T10:57:46.131Z"
   },
   {
    "duration": 17,
    "start_time": "2021-12-03T10:57:47.598Z"
   },
   {
    "duration": 10,
    "start_time": "2021-12-03T10:57:47.618Z"
   },
   {
    "duration": 17,
    "start_time": "2021-12-03T10:57:47.630Z"
   },
   {
    "duration": 12,
    "start_time": "2021-12-03T10:57:47.649Z"
   },
   {
    "duration": 18,
    "start_time": "2021-12-03T10:57:47.663Z"
   },
   {
    "duration": 46,
    "start_time": "2021-12-03T10:57:47.684Z"
   },
   {
    "duration": 9,
    "start_time": "2021-12-03T10:57:47.735Z"
   },
   {
    "duration": 13,
    "start_time": "2021-12-03T10:57:47.747Z"
   },
   {
    "duration": 9,
    "start_time": "2021-12-03T10:57:47.762Z"
   },
   {
    "duration": 62,
    "start_time": "2021-12-03T10:57:47.773Z"
   },
   {
    "duration": 16,
    "start_time": "2021-12-03T10:57:47.838Z"
   },
   {
    "duration": 14,
    "start_time": "2021-12-03T10:57:47.857Z"
   },
   {
    "duration": 67,
    "start_time": "2021-12-03T10:57:47.874Z"
   },
   {
    "duration": 24,
    "start_time": "2021-12-03T10:57:47.943Z"
   },
   {
    "duration": 15,
    "start_time": "2021-12-03T10:57:47.970Z"
   },
   {
    "duration": 144,
    "start_time": "2021-12-03T10:57:47.987Z"
   },
   {
    "duration": 5,
    "start_time": "2021-12-03T10:57:48.134Z"
   },
   {
    "duration": 8,
    "start_time": "2021-12-03T10:57:48.141Z"
   },
   {
    "duration": 10,
    "start_time": "2021-12-03T10:57:48.151Z"
   },
   {
    "duration": 66,
    "start_time": "2021-12-03T10:57:48.163Z"
   },
   {
    "duration": 32,
    "start_time": "2021-12-03T10:57:48.232Z"
   },
   {
    "duration": 14,
    "start_time": "2021-12-03T10:57:48.267Z"
   },
   {
    "duration": 48,
    "start_time": "2021-12-03T10:57:48.283Z"
   },
   {
    "duration": 9,
    "start_time": "2021-12-03T10:57:48.334Z"
   },
   {
    "duration": 15,
    "start_time": "2021-12-03T10:57:48.346Z"
   },
   {
    "duration": 25,
    "start_time": "2021-12-03T10:57:48.364Z"
   },
   {
    "duration": 42,
    "start_time": "2021-12-03T10:57:48.391Z"
   },
   {
    "duration": 4909,
    "start_time": "2021-12-03T10:57:48.435Z"
   },
   {
    "duration": 26,
    "start_time": "2021-12-03T10:57:53.347Z"
   },
   {
    "duration": 6,
    "start_time": "2021-12-03T10:57:54.858Z"
   },
   {
    "duration": 8,
    "start_time": "2021-12-03T10:58:38.062Z"
   },
   {
    "duration": 31,
    "start_time": "2021-12-03T11:01:11.689Z"
   },
   {
    "duration": 27,
    "start_time": "2021-12-03T11:01:14.146Z"
   },
   {
    "duration": 28,
    "start_time": "2021-12-03T11:03:22.074Z"
   },
   {
    "duration": 11,
    "start_time": "2021-12-03T11:11:51.179Z"
   },
   {
    "duration": 4,
    "start_time": "2021-12-03T11:12:00.301Z"
   },
   {
    "duration": 92,
    "start_time": "2021-12-03T11:12:00.307Z"
   },
   {
    "duration": 40,
    "start_time": "2021-12-03T11:12:00.402Z"
   },
   {
    "duration": 10,
    "start_time": "2021-12-03T11:12:00.445Z"
   },
   {
    "duration": 7,
    "start_time": "2021-12-03T11:12:00.458Z"
   },
   {
    "duration": 28,
    "start_time": "2021-12-03T11:12:00.467Z"
   },
   {
    "duration": 10,
    "start_time": "2021-12-03T11:12:00.530Z"
   },
   {
    "duration": 19,
    "start_time": "2021-12-03T11:12:00.543Z"
   },
   {
    "duration": 25,
    "start_time": "2021-12-03T11:12:00.565Z"
   },
   {
    "duration": 9,
    "start_time": "2021-12-03T11:12:00.630Z"
   },
   {
    "duration": 33,
    "start_time": "2021-12-03T11:12:00.642Z"
   },
   {
    "duration": 13,
    "start_time": "2021-12-03T11:12:00.678Z"
   },
   {
    "duration": 36,
    "start_time": "2021-12-03T11:12:00.694Z"
   },
   {
    "duration": 9,
    "start_time": "2021-12-03T11:12:00.733Z"
   },
   {
    "duration": 22,
    "start_time": "2021-12-03T11:12:00.745Z"
   },
   {
    "duration": 31,
    "start_time": "2021-12-03T11:12:00.769Z"
   },
   {
    "duration": 34,
    "start_time": "2021-12-03T11:12:00.802Z"
   },
   {
    "duration": 15,
    "start_time": "2021-12-03T11:12:00.838Z"
   },
   {
    "duration": 20,
    "start_time": "2021-12-03T11:12:00.858Z"
   },
   {
    "duration": 29,
    "start_time": "2021-12-03T11:12:00.880Z"
   },
   {
    "duration": 17,
    "start_time": "2021-12-03T11:12:00.912Z"
   },
   {
    "duration": 27,
    "start_time": "2021-12-03T11:12:00.932Z"
   },
   {
    "duration": 19,
    "start_time": "2021-12-03T11:12:00.961Z"
   },
   {
    "duration": 15,
    "start_time": "2021-12-03T11:12:00.983Z"
   },
   {
    "duration": 47,
    "start_time": "2021-12-03T11:12:01.001Z"
   },
   {
    "duration": 25,
    "start_time": "2021-12-03T11:12:01.051Z"
   },
   {
    "duration": 15,
    "start_time": "2021-12-03T11:12:01.079Z"
   },
   {
    "duration": 109,
    "start_time": "2021-12-03T11:12:01.096Z"
   },
   {
    "duration": 6,
    "start_time": "2021-12-03T11:12:01.207Z"
   },
   {
    "duration": 17,
    "start_time": "2021-12-03T11:12:01.230Z"
   },
   {
    "duration": 20,
    "start_time": "2021-12-03T11:12:01.249Z"
   },
   {
    "duration": 34,
    "start_time": "2021-12-03T11:12:01.271Z"
   },
   {
    "duration": 31,
    "start_time": "2021-12-03T11:12:01.307Z"
   },
   {
    "duration": 9,
    "start_time": "2021-12-03T11:12:01.341Z"
   },
   {
    "duration": 22,
    "start_time": "2021-12-03T11:12:01.352Z"
   },
   {
    "duration": 13,
    "start_time": "2021-12-03T11:12:01.377Z"
   },
   {
    "duration": 29,
    "start_time": "2021-12-03T11:12:01.393Z"
   },
   {
    "duration": 40,
    "start_time": "2021-12-03T11:12:01.424Z"
   },
   {
    "duration": 17,
    "start_time": "2021-12-03T11:12:01.467Z"
   },
   {
    "duration": 4662,
    "start_time": "2021-12-03T11:12:01.487Z"
   },
   {
    "duration": 26,
    "start_time": "2021-12-03T11:12:06.152Z"
   },
   {
    "duration": 23,
    "start_time": "2021-12-03T11:13:35.159Z"
   },
   {
    "duration": 24,
    "start_time": "2021-12-03T11:14:05.984Z"
   },
   {
    "duration": 293,
    "start_time": "2021-12-03T11:15:22.318Z"
   },
   {
    "duration": 40,
    "start_time": "2021-12-03T11:15:29.975Z"
   },
   {
    "duration": 39,
    "start_time": "2021-12-03T11:15:34.951Z"
   },
   {
    "duration": 8,
    "start_time": "2021-12-03T11:20:40.750Z"
   },
   {
    "duration": 4806,
    "start_time": "2021-12-03T11:34:03.607Z"
   },
   {
    "duration": 4595,
    "start_time": "2021-12-03T11:35:30.650Z"
   },
   {
    "duration": 4565,
    "start_time": "2021-12-03T11:35:48.883Z"
   },
   {
    "duration": 4536,
    "start_time": "2021-12-03T11:36:07.981Z"
   },
   {
    "duration": 4599,
    "start_time": "2021-12-03T11:36:19.282Z"
   },
   {
    "duration": 12,
    "start_time": "2021-12-03T11:37:26.921Z"
   },
   {
    "duration": 9,
    "start_time": "2021-12-03T11:37:36.306Z"
   },
   {
    "duration": 453,
    "start_time": "2021-12-03T11:38:56.881Z"
   },
   {
    "duration": 430,
    "start_time": "2021-12-03T11:38:59.574Z"
   },
   {
    "duration": 10,
    "start_time": "2021-12-03T11:39:11.399Z"
   },
   {
    "duration": 22,
    "start_time": "2021-12-03T11:44:33.687Z"
   },
   {
    "duration": 8,
    "start_time": "2021-12-03T11:50:58.894Z"
   },
   {
    "duration": 25,
    "start_time": "2021-12-03T11:51:11.982Z"
   },
   {
    "duration": 6,
    "start_time": "2021-12-03T11:53:17.149Z"
   },
   {
    "duration": 12,
    "start_time": "2021-12-03T11:53:27.895Z"
   },
   {
    "duration": 20,
    "start_time": "2021-12-03T11:53:53.407Z"
   },
   {
    "duration": 20,
    "start_time": "2021-12-03T11:54:13.391Z"
   },
   {
    "duration": 16,
    "start_time": "2021-12-03T11:54:21.069Z"
   },
   {
    "duration": 17,
    "start_time": "2021-12-03T11:55:59.036Z"
   },
   {
    "duration": 12,
    "start_time": "2021-12-03T12:02:00.691Z"
   },
   {
    "duration": 286,
    "start_time": "2021-12-03T12:02:15.399Z"
   },
   {
    "duration": 9,
    "start_time": "2021-12-03T12:02:19.677Z"
   },
   {
    "duration": 10,
    "start_time": "2021-12-03T12:03:16.491Z"
   },
   {
    "duration": 20,
    "start_time": "2021-12-03T12:03:39.380Z"
   },
   {
    "duration": 20,
    "start_time": "2021-12-03T12:03:48.939Z"
   },
   {
    "duration": 21,
    "start_time": "2021-12-03T12:03:59.172Z"
   },
   {
    "duration": 23,
    "start_time": "2021-12-03T12:04:14.981Z"
   },
   {
    "duration": 9,
    "start_time": "2021-12-03T12:05:19.259Z"
   },
   {
    "duration": 39,
    "start_time": "2021-12-03T12:05:39.839Z"
   },
   {
    "duration": 25,
    "start_time": "2021-12-03T12:06:59.602Z"
   },
   {
    "duration": 48,
    "start_time": "2021-12-03T12:07:05.393Z"
   },
   {
    "duration": 34,
    "start_time": "2021-12-03T12:08:17.833Z"
   },
   {
    "duration": 33,
    "start_time": "2021-12-03T12:08:31.243Z"
   },
   {
    "duration": 46,
    "start_time": "2021-12-03T12:09:31.602Z"
   },
   {
    "duration": 34,
    "start_time": "2021-12-03T12:09:37.945Z"
   },
   {
    "duration": 35,
    "start_time": "2021-12-03T12:09:43.906Z"
   },
   {
    "duration": 37,
    "start_time": "2021-12-03T12:10:40.834Z"
   },
   {
    "duration": 35,
    "start_time": "2021-12-03T12:11:00.306Z"
   },
   {
    "duration": 28,
    "start_time": "2021-12-03T12:11:23.961Z"
   },
   {
    "duration": 29,
    "start_time": "2021-12-03T12:12:15.569Z"
   },
   {
    "duration": 34,
    "start_time": "2021-12-03T12:12:21.073Z"
   },
   {
    "duration": 34,
    "start_time": "2021-12-03T12:12:25.875Z"
   },
   {
    "duration": 35,
    "start_time": "2021-12-03T12:13:37.777Z"
   },
   {
    "duration": 35,
    "start_time": "2021-12-03T12:14:18.608Z"
   },
   {
    "duration": 37,
    "start_time": "2021-12-03T12:22:27.175Z"
   },
   {
    "duration": 11,
    "start_time": "2021-12-03T12:31:17.877Z"
   },
   {
    "duration": 102,
    "start_time": "2021-12-03T12:34:54.068Z"
   },
   {
    "duration": 95,
    "start_time": "2021-12-03T12:35:10.235Z"
   },
   {
    "duration": 129,
    "start_time": "2021-12-03T12:35:32.651Z"
   },
   {
    "duration": 5,
    "start_time": "2021-12-03T12:35:49.429Z"
   },
   {
    "duration": 1830,
    "start_time": "2021-12-03T12:36:15.507Z"
   },
   {
    "duration": 18,
    "start_time": "2021-12-03T12:36:49.011Z"
   },
   {
    "duration": 40,
    "start_time": "2021-12-03T12:36:57.304Z"
   },
   {
    "duration": 17,
    "start_time": "2021-12-03T12:37:20.635Z"
   },
   {
    "duration": 10,
    "start_time": "2021-12-03T12:38:03.586Z"
   },
   {
    "duration": 10,
    "start_time": "2021-12-03T12:38:09.074Z"
   },
   {
    "duration": 11,
    "start_time": "2021-12-03T12:38:12.855Z"
   },
   {
    "duration": 37,
    "start_time": "2021-12-03T12:39:21.707Z"
   },
   {
    "duration": 36,
    "start_time": "2021-12-03T12:39:38.187Z"
   },
   {
    "duration": 39,
    "start_time": "2021-12-03T12:39:56.818Z"
   },
   {
    "duration": 37,
    "start_time": "2021-12-03T12:40:14.156Z"
   },
   {
    "duration": 34,
    "start_time": "2021-12-03T12:40:41.699Z"
   },
   {
    "duration": 37,
    "start_time": "2021-12-03T12:40:44.947Z"
   },
   {
    "duration": 35,
    "start_time": "2021-12-03T12:40:47.523Z"
   },
   {
    "duration": 37,
    "start_time": "2021-12-03T12:45:48.362Z"
   },
   {
    "duration": 44,
    "start_time": "2021-12-03T13:07:34.180Z"
   },
   {
    "duration": 10,
    "start_time": "2021-12-03T13:08:38.189Z"
   },
   {
    "duration": 9,
    "start_time": "2021-12-03T13:08:56.882Z"
   },
   {
    "duration": 12,
    "start_time": "2021-12-03T13:09:19.419Z"
   },
   {
    "duration": 18,
    "start_time": "2021-12-03T13:09:21.691Z"
   },
   {
    "duration": 10,
    "start_time": "2021-12-03T13:09:28.971Z"
   },
   {
    "duration": 28,
    "start_time": "2021-12-03T13:09:57.244Z"
   },
   {
    "duration": 16,
    "start_time": "2021-12-03T13:09:59.927Z"
   },
   {
    "duration": 17,
    "start_time": "2021-12-03T13:10:02.340Z"
   },
   {
    "duration": 37,
    "start_time": "2021-12-03T13:15:16.067Z"
   },
   {
    "duration": 4,
    "start_time": "2021-12-03T13:33:13.736Z"
   },
   {
    "duration": 8,
    "start_time": "2021-12-03T13:44:47.826Z"
   },
   {
    "duration": 17,
    "start_time": "2021-12-03T13:44:58.388Z"
   },
   {
    "duration": 24,
    "start_time": "2021-12-03T13:46:11.482Z"
   },
   {
    "duration": 12,
    "start_time": "2021-12-03T13:46:19.386Z"
   },
   {
    "duration": 4,
    "start_time": "2021-12-03T13:46:26.362Z"
   },
   {
    "duration": 124,
    "start_time": "2021-12-03T13:46:26.369Z"
   },
   {
    "duration": 36,
    "start_time": "2021-12-03T13:46:26.497Z"
   },
   {
    "duration": 14,
    "start_time": "2021-12-03T13:46:26.537Z"
   },
   {
    "duration": 10,
    "start_time": "2021-12-03T13:46:26.554Z"
   },
   {
    "duration": 17,
    "start_time": "2021-12-03T13:46:26.567Z"
   },
   {
    "duration": 9,
    "start_time": "2021-12-03T13:46:26.632Z"
   },
   {
    "duration": 21,
    "start_time": "2021-12-03T13:46:26.644Z"
   },
   {
    "duration": 81,
    "start_time": "2021-12-03T13:46:26.670Z"
   },
   {
    "duration": 12,
    "start_time": "2021-12-03T13:46:26.754Z"
   },
   {
    "duration": 70,
    "start_time": "2021-12-03T13:46:26.769Z"
   },
   {
    "duration": 15,
    "start_time": "2021-12-03T13:46:26.842Z"
   },
   {
    "duration": 21,
    "start_time": "2021-12-03T13:46:26.860Z"
   },
   {
    "duration": 46,
    "start_time": "2021-12-03T13:46:26.884Z"
   },
   {
    "duration": 11,
    "start_time": "2021-12-03T13:46:26.933Z"
   },
   {
    "duration": 24,
    "start_time": "2021-12-03T13:46:26.947Z"
   },
   {
    "duration": 62,
    "start_time": "2021-12-03T13:46:26.974Z"
   },
   {
    "duration": 22,
    "start_time": "2021-12-03T13:46:27.039Z"
   },
   {
    "duration": 20,
    "start_time": "2021-12-03T13:46:27.066Z"
   },
   {
    "duration": 28,
    "start_time": "2021-12-03T13:46:27.090Z"
   },
   {
    "duration": 9,
    "start_time": "2021-12-03T13:46:27.129Z"
   },
   {
    "duration": 17,
    "start_time": "2021-12-03T13:46:27.141Z"
   },
   {
    "duration": 16,
    "start_time": "2021-12-03T13:46:27.162Z"
   },
   {
    "duration": 84,
    "start_time": "2021-12-03T13:46:27.181Z"
   },
   {
    "duration": 61,
    "start_time": "2021-12-03T13:46:27.268Z"
   },
   {
    "duration": 15,
    "start_time": "2021-12-03T13:46:27.332Z"
   },
   {
    "duration": 118,
    "start_time": "2021-12-03T13:46:27.349Z"
   },
   {
    "duration": 7,
    "start_time": "2021-12-03T13:46:27.470Z"
   },
   {
    "duration": 8,
    "start_time": "2021-12-03T13:46:27.480Z"
   },
   {
    "duration": 42,
    "start_time": "2021-12-03T13:46:27.492Z"
   },
   {
    "duration": 25,
    "start_time": "2021-12-03T13:46:27.537Z"
   },
   {
    "duration": 28,
    "start_time": "2021-12-03T13:46:27.564Z"
   },
   {
    "duration": 48,
    "start_time": "2021-12-03T13:46:27.595Z"
   },
   {
    "duration": 115,
    "start_time": "2021-12-03T13:46:27.646Z"
   },
   {
    "duration": -192,
    "start_time": "2021-12-03T13:46:27.956Z"
   },
   {
    "duration": -196,
    "start_time": "2021-12-03T13:46:27.961Z"
   },
   {
    "duration": -199,
    "start_time": "2021-12-03T13:46:27.965Z"
   },
   {
    "duration": -203,
    "start_time": "2021-12-03T13:46:27.971Z"
   },
   {
    "duration": -208,
    "start_time": "2021-12-03T13:46:27.977Z"
   },
   {
    "duration": -220,
    "start_time": "2021-12-03T13:46:27.990Z"
   },
   {
    "duration": -222,
    "start_time": "2021-12-03T13:46:27.994Z"
   },
   {
    "duration": -239,
    "start_time": "2021-12-03T13:46:28.012Z"
   },
   {
    "duration": -242,
    "start_time": "2021-12-03T13:46:28.017Z"
   },
   {
    "duration": -245,
    "start_time": "2021-12-03T13:46:28.021Z"
   },
   {
    "duration": -247,
    "start_time": "2021-12-03T13:46:28.025Z"
   },
   {
    "duration": -250,
    "start_time": "2021-12-03T13:46:28.029Z"
   },
   {
    "duration": -252,
    "start_time": "2021-12-03T13:46:28.033Z"
   },
   {
    "duration": -254,
    "start_time": "2021-12-03T13:46:28.036Z"
   },
   {
    "duration": -258,
    "start_time": "2021-12-03T13:46:28.042Z"
   },
   {
    "duration": -261,
    "start_time": "2021-12-03T13:46:28.046Z"
   },
   {
    "duration": 8,
    "start_time": "2021-12-03T13:47:02.154Z"
   },
   {
    "duration": 11,
    "start_time": "2021-12-03T13:47:08.138Z"
   },
   {
    "duration": 15,
    "start_time": "2021-12-03T13:47:18.515Z"
   },
   {
    "duration": 10,
    "start_time": "2021-12-03T13:47:21.939Z"
   },
   {
    "duration": 8,
    "start_time": "2021-12-03T13:47:30.314Z"
   },
   {
    "duration": 11,
    "start_time": "2021-12-03T13:47:34.810Z"
   },
   {
    "duration": 8,
    "start_time": "2021-12-03T13:47:39.266Z"
   },
   {
    "duration": 27,
    "start_time": "2021-12-03T13:53:02.546Z"
   },
   {
    "duration": 37,
    "start_time": "2021-12-03T13:56:35.327Z"
   },
   {
    "duration": 9,
    "start_time": "2021-12-03T13:57:11.904Z"
   },
   {
    "duration": 4912,
    "start_time": "2021-12-03T13:57:18.447Z"
   },
   {
    "duration": 11,
    "start_time": "2021-12-03T13:57:23.363Z"
   },
   {
    "duration": 9,
    "start_time": "2021-12-03T13:58:21.196Z"
   },
   {
    "duration": 13,
    "start_time": "2021-12-03T13:58:38.711Z"
   },
   {
    "duration": 17,
    "start_time": "2021-12-03T13:58:41.055Z"
   },
   {
    "duration": 10,
    "start_time": "2021-12-03T13:58:44.158Z"
   },
   {
    "duration": 30,
    "start_time": "2021-12-03T13:59:33.222Z"
   },
   {
    "duration": 18,
    "start_time": "2021-12-03T13:59:35.872Z"
   },
   {
    "duration": 17,
    "start_time": "2021-12-03T13:59:38.383Z"
   },
   {
    "duration": 35,
    "start_time": "2021-12-03T14:00:03.750Z"
   },
   {
    "duration": 44,
    "start_time": "2021-12-03T14:01:08.791Z"
   },
   {
    "duration": 37,
    "start_time": "2021-12-03T14:02:22.551Z"
   },
   {
    "duration": 36,
    "start_time": "2021-12-03T14:02:56.654Z"
   },
   {
    "duration": 40,
    "start_time": "2021-12-03T14:03:43.711Z"
   },
   {
    "duration": 37,
    "start_time": "2021-12-03T14:03:58.070Z"
   },
   {
    "duration": 39,
    "start_time": "2021-12-03T14:04:09.430Z"
   },
   {
    "duration": 41,
    "start_time": "2021-12-03T14:04:53.645Z"
   },
   {
    "duration": 785,
    "start_time": "2021-12-03T14:10:35.072Z"
   },
   {
    "duration": 87,
    "start_time": "2021-12-03T14:10:35.859Z"
   },
   {
    "duration": 15,
    "start_time": "2021-12-03T14:10:35.949Z"
   },
   {
    "duration": 10,
    "start_time": "2021-12-03T14:10:35.967Z"
   },
   {
    "duration": 52,
    "start_time": "2021-12-03T14:10:35.979Z"
   },
   {
    "duration": 19,
    "start_time": "2021-12-03T14:10:36.034Z"
   },
   {
    "duration": 13,
    "start_time": "2021-12-03T14:10:36.056Z"
   },
   {
    "duration": 60,
    "start_time": "2021-12-03T14:10:36.075Z"
   },
   {
    "duration": 24,
    "start_time": "2021-12-03T14:10:36.139Z"
   },
   {
    "duration": 9,
    "start_time": "2021-12-03T14:10:36.165Z"
   },
   {
    "duration": 65,
    "start_time": "2021-12-03T14:10:36.177Z"
   },
   {
    "duration": 10,
    "start_time": "2021-12-03T14:10:36.244Z"
   },
   {
    "duration": 12,
    "start_time": "2021-12-03T14:10:36.256Z"
   },
   {
    "duration": 11,
    "start_time": "2021-12-03T14:10:36.270Z"
   },
   {
    "duration": 48,
    "start_time": "2021-12-03T14:10:36.283Z"
   },
   {
    "duration": 13,
    "start_time": "2021-12-03T14:10:36.333Z"
   },
   {
    "duration": 28,
    "start_time": "2021-12-03T14:10:36.348Z"
   },
   {
    "duration": 9,
    "start_time": "2021-12-03T14:10:36.378Z"
   },
   {
    "duration": 10,
    "start_time": "2021-12-03T14:10:36.430Z"
   },
   {
    "duration": 11,
    "start_time": "2021-12-03T14:10:36.442Z"
   },
   {
    "duration": 8,
    "start_time": "2021-12-03T14:10:36.455Z"
   },
   {
    "duration": 65,
    "start_time": "2021-12-03T14:10:36.465Z"
   },
   {
    "duration": 12,
    "start_time": "2021-12-03T14:10:36.535Z"
   },
   {
    "duration": 25,
    "start_time": "2021-12-03T14:10:36.549Z"
   },
   {
    "duration": 60,
    "start_time": "2021-12-03T14:10:36.578Z"
   },
   {
    "duration": 14,
    "start_time": "2021-12-03T14:10:36.641Z"
   },
   {
    "duration": 101,
    "start_time": "2021-12-03T14:10:36.658Z"
   },
   {
    "duration": 5,
    "start_time": "2021-12-03T14:10:36.761Z"
   },
   {
    "duration": 23,
    "start_time": "2021-12-03T14:10:36.769Z"
   },
   {
    "duration": 9,
    "start_time": "2021-12-03T14:10:36.795Z"
   },
   {
    "duration": 37,
    "start_time": "2021-12-03T14:10:36.807Z"
   },
   {
    "duration": 28,
    "start_time": "2021-12-03T14:10:36.846Z"
   },
   {
    "duration": 10,
    "start_time": "2021-12-03T14:10:36.876Z"
   },
   {
    "duration": 83,
    "start_time": "2021-12-03T14:10:36.889Z"
   },
   {
    "duration": 9,
    "start_time": "2021-12-03T14:10:36.975Z"
   },
   {
    "duration": 4863,
    "start_time": "2021-12-03T14:10:36.986Z"
   },
   {
    "duration": 12,
    "start_time": "2021-12-03T14:10:41.852Z"
   },
   {
    "duration": 11,
    "start_time": "2021-12-03T14:10:41.866Z"
   },
   {
    "duration": 54,
    "start_time": "2021-12-03T14:10:41.879Z"
   },
   {
    "duration": 18,
    "start_time": "2021-12-03T14:10:41.936Z"
   },
   {
    "duration": 14,
    "start_time": "2021-12-03T14:10:41.957Z"
   },
   {
    "duration": 65,
    "start_time": "2021-12-03T14:10:41.974Z"
   },
   {
    "duration": 37,
    "start_time": "2021-12-03T14:10:42.042Z"
   },
   {
    "duration": 23,
    "start_time": "2021-12-03T14:10:42.081Z"
   },
   {
    "duration": 39,
    "start_time": "2021-12-03T14:10:42.107Z"
   },
   {
    "duration": 43,
    "start_time": "2021-12-03T14:10:42.148Z"
   },
   {
    "duration": 67,
    "start_time": "2021-12-03T14:10:42.194Z"
   },
   {
    "duration": 66,
    "start_time": "2021-12-03T14:10:42.264Z"
   },
   {
    "duration": 41,
    "start_time": "2021-12-03T14:10:42.333Z"
   },
   {
    "duration": 276,
    "start_time": "2021-12-04T05:28:56.925Z"
   },
   {
    "duration": 582,
    "start_time": "2021-12-04T05:29:03.288Z"
   },
   {
    "duration": 63,
    "start_time": "2021-12-04T05:29:03.872Z"
   },
   {
    "duration": 10,
    "start_time": "2021-12-04T05:29:03.937Z"
   },
   {
    "duration": 14,
    "start_time": "2021-12-04T05:29:03.949Z"
   },
   {
    "duration": 50,
    "start_time": "2021-12-04T05:29:03.964Z"
   },
   {
    "duration": 23,
    "start_time": "2021-12-04T05:29:04.015Z"
   },
   {
    "duration": 19,
    "start_time": "2021-12-04T05:29:04.039Z"
   },
   {
    "duration": 29,
    "start_time": "2021-12-04T05:29:04.060Z"
   },
   {
    "duration": 14,
    "start_time": "2021-12-04T05:29:04.091Z"
   },
   {
    "duration": 20,
    "start_time": "2021-12-04T05:29:04.106Z"
   },
   {
    "duration": 21,
    "start_time": "2021-12-04T05:29:04.127Z"
   },
   {
    "duration": 9,
    "start_time": "2021-12-04T05:29:04.150Z"
   },
   {
    "duration": 57,
    "start_time": "2021-12-04T05:29:04.160Z"
   },
   {
    "duration": 64,
    "start_time": "2021-12-04T05:29:04.218Z"
   },
   {
    "duration": 42,
    "start_time": "2021-12-04T05:29:04.284Z"
   },
   {
    "duration": 36,
    "start_time": "2021-12-04T05:29:04.328Z"
   },
   {
    "duration": 19,
    "start_time": "2021-12-04T05:29:04.365Z"
   },
   {
    "duration": 9,
    "start_time": "2021-12-04T05:29:04.385Z"
   },
   {
    "duration": 28,
    "start_time": "2021-12-04T05:29:04.396Z"
   },
   {
    "duration": 16,
    "start_time": "2021-12-04T05:29:04.425Z"
   },
   {
    "duration": 11,
    "start_time": "2021-12-04T05:29:04.443Z"
   },
   {
    "duration": 10,
    "start_time": "2021-12-04T05:29:04.456Z"
   },
   {
    "duration": 10,
    "start_time": "2021-12-04T05:29:04.469Z"
   },
   {
    "duration": 18,
    "start_time": "2021-12-04T05:29:04.481Z"
   },
   {
    "duration": 14,
    "start_time": "2021-12-04T05:29:04.501Z"
   },
   {
    "duration": 19,
    "start_time": "2021-12-04T05:29:04.516Z"
   },
   {
    "duration": 65,
    "start_time": "2021-12-04T05:29:04.537Z"
   },
   {
    "duration": 3,
    "start_time": "2021-12-04T05:29:04.604Z"
   },
   {
    "duration": 13,
    "start_time": "2021-12-04T05:29:04.609Z"
   },
   {
    "duration": 8,
    "start_time": "2021-12-04T05:29:04.624Z"
   },
   {
    "duration": 19,
    "start_time": "2021-12-04T05:29:04.633Z"
   },
   {
    "duration": 26,
    "start_time": "2021-12-04T05:29:04.653Z"
   },
   {
    "duration": 6,
    "start_time": "2021-12-04T05:29:04.681Z"
   },
   {
    "duration": 35,
    "start_time": "2021-12-04T05:29:04.689Z"
   },
   {
    "duration": 5,
    "start_time": "2021-12-04T05:29:04.726Z"
   },
   {
    "duration": 3836,
    "start_time": "2021-12-04T05:29:04.732Z"
   },
   {
    "duration": 7,
    "start_time": "2021-12-04T05:29:08.570Z"
   },
   {
    "duration": 8,
    "start_time": "2021-12-04T05:29:08.579Z"
   },
   {
    "duration": 7,
    "start_time": "2021-12-04T05:29:08.589Z"
   },
   {
    "duration": 10,
    "start_time": "2021-12-04T05:29:08.598Z"
   },
   {
    "duration": 20,
    "start_time": "2021-12-04T05:29:08.610Z"
   },
   {
    "duration": 31,
    "start_time": "2021-12-04T05:29:08.632Z"
   },
   {
    "duration": 20,
    "start_time": "2021-12-04T05:29:08.665Z"
   },
   {
    "duration": 11,
    "start_time": "2021-12-04T05:29:08.687Z"
   },
   {
    "duration": 10,
    "start_time": "2021-12-04T05:29:08.700Z"
   },
   {
    "duration": 52,
    "start_time": "2021-12-04T05:29:08.712Z"
   },
   {
    "duration": 26,
    "start_time": "2021-12-04T05:29:08.766Z"
   },
   {
    "duration": 28,
    "start_time": "2021-12-04T05:29:08.794Z"
   },
   {
    "duration": 55,
    "start_time": "2021-12-04T05:29:08.824Z"
   },
   {
    "duration": 3248,
    "start_time": "2021-12-04T12:16:01.487Z"
   },
   {
    "duration": 8,
    "start_time": "2021-12-04T12:16:08.701Z"
   },
   {
    "duration": 8,
    "start_time": "2021-12-04T12:16:16.614Z"
   },
   {
    "duration": 9,
    "start_time": "2021-12-04T12:16:18.581Z"
   },
   {
    "duration": 12,
    "start_time": "2021-12-04T12:16:19.268Z"
   },
   {
    "duration": 7,
    "start_time": "2021-12-04T12:16:20.741Z"
   },
   {
    "duration": 14,
    "start_time": "2021-12-04T12:16:24.709Z"
   },
   {
    "duration": 23,
    "start_time": "2021-12-04T12:16:25.887Z"
   },
   {
    "duration": 12,
    "start_time": "2021-12-04T12:16:27.071Z"
   },
   {
    "duration": 13,
    "start_time": "2021-12-04T12:16:27.575Z"
   },
   {
    "duration": 46,
    "start_time": "2021-12-04T12:19:13.269Z"
   },
   {
    "duration": 25,
    "start_time": "2021-12-04T12:19:18.084Z"
   },
   {
    "duration": 27,
    "start_time": "2021-12-04T12:19:21.571Z"
   },
   {
    "duration": 27,
    "start_time": "2021-12-04T12:19:25.171Z"
   },
   {
    "duration": 781,
    "start_time": "2021-12-05T06:08:00.483Z"
   },
   {
    "duration": 88,
    "start_time": "2021-12-05T06:08:01.267Z"
   },
   {
    "duration": 18,
    "start_time": "2021-12-05T06:08:01.358Z"
   },
   {
    "duration": 12,
    "start_time": "2021-12-05T06:08:01.380Z"
   },
   {
    "duration": 10,
    "start_time": "2021-12-05T06:08:01.395Z"
   },
   {
    "duration": 69,
    "start_time": "2021-12-05T06:08:01.408Z"
   },
   {
    "duration": 18,
    "start_time": "2021-12-05T06:08:01.479Z"
   },
   {
    "duration": 21,
    "start_time": "2021-12-05T06:08:01.503Z"
   },
   {
    "duration": 43,
    "start_time": "2021-12-05T06:08:01.528Z"
   },
   {
    "duration": 11,
    "start_time": "2021-12-05T06:08:01.574Z"
   },
   {
    "duration": 99,
    "start_time": "2021-12-05T06:08:01.588Z"
   },
   {
    "duration": 11,
    "start_time": "2021-12-05T06:08:01.690Z"
   },
   {
    "duration": 13,
    "start_time": "2021-12-05T06:08:01.704Z"
   },
   {
    "duration": 42,
    "start_time": "2021-12-05T06:08:01.720Z"
   },
   {
    "duration": 22,
    "start_time": "2021-12-05T06:08:01.764Z"
   },
   {
    "duration": 10,
    "start_time": "2021-12-05T06:08:01.789Z"
   },
   {
    "duration": 17,
    "start_time": "2021-12-05T06:08:01.803Z"
   },
   {
    "duration": 42,
    "start_time": "2021-12-05T06:08:01.823Z"
   },
   {
    "duration": 24,
    "start_time": "2021-12-05T06:08:01.867Z"
   },
   {
    "duration": 23,
    "start_time": "2021-12-05T06:08:01.893Z"
   },
   {
    "duration": 15,
    "start_time": "2021-12-05T06:08:01.919Z"
   },
   {
    "duration": 19,
    "start_time": "2021-12-05T06:08:01.936Z"
   },
   {
    "duration": 11,
    "start_time": "2021-12-05T06:08:01.963Z"
   },
   {
    "duration": 21,
    "start_time": "2021-12-05T06:08:01.976Z"
   },
   {
    "duration": 30,
    "start_time": "2021-12-05T06:08:01.999Z"
   },
   {
    "duration": 48,
    "start_time": "2021-12-05T06:08:02.031Z"
   },
   {
    "duration": 16,
    "start_time": "2021-12-05T06:08:02.081Z"
   },
   {
    "duration": 103,
    "start_time": "2021-12-05T06:08:02.100Z"
   },
   {
    "duration": 5,
    "start_time": "2021-12-05T06:08:02.205Z"
   },
   {
    "duration": 9,
    "start_time": "2021-12-05T06:08:02.213Z"
   },
   {
    "duration": 8,
    "start_time": "2021-12-05T06:08:02.224Z"
   },
   {
    "duration": 40,
    "start_time": "2021-12-05T06:08:02.234Z"
   },
   {
    "duration": 25,
    "start_time": "2021-12-05T06:08:02.276Z"
   },
   {
    "duration": 10,
    "start_time": "2021-12-05T06:08:02.303Z"
   },
   {
    "duration": 75,
    "start_time": "2021-12-05T06:08:02.315Z"
   },
   {
    "duration": 8,
    "start_time": "2021-12-05T06:08:02.392Z"
   },
   {
    "duration": 4920,
    "start_time": "2021-12-05T06:08:02.402Z"
   },
   {
    "duration": 10,
    "start_time": "2021-12-05T06:08:07.325Z"
   },
   {
    "duration": 30,
    "start_time": "2021-12-05T06:08:07.338Z"
   },
   {
    "duration": 14,
    "start_time": "2021-12-05T06:08:07.370Z"
   },
   {
    "duration": 17,
    "start_time": "2021-12-05T06:08:07.386Z"
   },
   {
    "duration": 13,
    "start_time": "2021-12-05T06:08:07.405Z"
   },
   {
    "duration": 54,
    "start_time": "2021-12-05T06:08:07.420Z"
   },
   {
    "duration": 29,
    "start_time": "2021-12-05T06:08:07.476Z"
   },
   {
    "duration": 16,
    "start_time": "2021-12-05T06:08:07.508Z"
   },
   {
    "duration": 46,
    "start_time": "2021-12-05T06:08:07.526Z"
   },
   {
    "duration": 98,
    "start_time": "2021-12-05T06:08:07.574Z"
   },
   {
    "duration": 39,
    "start_time": "2021-12-05T06:08:07.674Z"
   },
   {
    "duration": 62,
    "start_time": "2021-12-05T06:08:07.715Z"
   },
   {
    "duration": 38,
    "start_time": "2021-12-05T06:08:07.779Z"
   },
   {
    "duration": 744,
    "start_time": "2021-12-05T06:08:36.111Z"
   },
   {
    "duration": 89,
    "start_time": "2021-12-05T06:08:36.860Z"
   },
   {
    "duration": 16,
    "start_time": "2021-12-05T06:08:36.960Z"
   },
   {
    "duration": 11,
    "start_time": "2021-12-05T06:08:36.980Z"
   },
   {
    "duration": 7,
    "start_time": "2021-12-05T06:08:36.993Z"
   },
   {
    "duration": 17,
    "start_time": "2021-12-05T06:08:37.002Z"
   },
   {
    "duration": 45,
    "start_time": "2021-12-05T06:08:37.021Z"
   },
   {
    "duration": 16,
    "start_time": "2021-12-05T06:08:37.070Z"
   },
   {
    "duration": 21,
    "start_time": "2021-12-05T06:08:37.089Z"
   },
   {
    "duration": 49,
    "start_time": "2021-12-05T06:08:37.112Z"
   },
   {
    "duration": 65,
    "start_time": "2021-12-05T06:08:37.163Z"
   },
   {
    "duration": 31,
    "start_time": "2021-12-05T06:08:37.230Z"
   },
   {
    "duration": 9,
    "start_time": "2021-12-05T06:08:37.263Z"
   },
   {
    "duration": 8,
    "start_time": "2021-12-05T06:08:37.275Z"
   },
   {
    "duration": 25,
    "start_time": "2021-12-05T06:08:37.285Z"
   },
   {
    "duration": 14,
    "start_time": "2021-12-05T06:08:37.312Z"
   },
   {
    "duration": 44,
    "start_time": "2021-12-05T06:08:37.328Z"
   },
   {
    "duration": 14,
    "start_time": "2021-12-05T06:08:37.375Z"
   },
   {
    "duration": 8,
    "start_time": "2021-12-05T06:08:37.392Z"
   },
   {
    "duration": 11,
    "start_time": "2021-12-05T06:08:37.402Z"
   },
   {
    "duration": 48,
    "start_time": "2021-12-05T06:08:37.415Z"
   },
   {
    "duration": 12,
    "start_time": "2021-12-05T06:08:37.466Z"
   },
   {
    "duration": 11,
    "start_time": "2021-12-05T06:08:37.484Z"
   },
   {
    "duration": 19,
    "start_time": "2021-12-05T06:08:37.498Z"
   },
   {
    "duration": 60,
    "start_time": "2021-12-05T06:08:37.520Z"
   },
   {
    "duration": 47,
    "start_time": "2021-12-05T06:08:37.582Z"
   },
   {
    "duration": 14,
    "start_time": "2021-12-05T06:08:37.631Z"
   },
   {
    "duration": 83,
    "start_time": "2021-12-05T06:08:37.647Z"
   },
   {
    "duration": 30,
    "start_time": "2021-12-05T06:08:37.733Z"
   },
   {
    "duration": 7,
    "start_time": "2021-12-05T06:08:37.766Z"
   },
   {
    "duration": 12,
    "start_time": "2021-12-05T06:08:37.776Z"
   },
   {
    "duration": 19,
    "start_time": "2021-12-05T06:08:37.791Z"
   },
   {
    "duration": 68,
    "start_time": "2021-12-05T06:08:37.813Z"
   },
   {
    "duration": 10,
    "start_time": "2021-12-05T06:08:37.884Z"
   },
   {
    "duration": 65,
    "start_time": "2021-12-05T06:08:37.896Z"
   },
   {
    "duration": 8,
    "start_time": "2021-12-05T06:08:37.964Z"
   },
   {
    "duration": 4700,
    "start_time": "2021-12-05T06:08:37.975Z"
   },
   {
    "duration": 10,
    "start_time": "2021-12-05T06:08:42.678Z"
   },
   {
    "duration": 11,
    "start_time": "2021-12-05T06:08:42.691Z"
   },
   {
    "duration": 12,
    "start_time": "2021-12-05T06:08:42.704Z"
   },
   {
    "duration": 50,
    "start_time": "2021-12-05T06:08:42.719Z"
   },
   {
    "duration": 11,
    "start_time": "2021-12-05T06:08:42.772Z"
   },
   {
    "duration": 22,
    "start_time": "2021-12-05T06:08:42.786Z"
   },
   {
    "duration": 59,
    "start_time": "2021-12-05T06:08:42.810Z"
   },
   {
    "duration": 16,
    "start_time": "2021-12-05T06:08:42.872Z"
   },
   {
    "duration": 15,
    "start_time": "2021-12-05T06:08:42.891Z"
   },
   {
    "duration": 115,
    "start_time": "2021-12-05T06:08:42.908Z"
   },
   {
    "duration": 47,
    "start_time": "2021-12-05T06:08:43.025Z"
   },
   {
    "duration": 36,
    "start_time": "2021-12-05T06:08:43.075Z"
   },
   {
    "duration": 60,
    "start_time": "2021-12-05T06:08:43.114Z"
   }
  ],
  "kernelspec": {
   "display_name": "Python 3 (ipykernel)",
   "language": "python",
   "name": "python3"
  },
  "language_info": {
   "codemirror_mode": {
    "name": "ipython",
    "version": 3
   },
   "file_extension": ".py",
   "mimetype": "text/x-python",
   "name": "python",
   "nbconvert_exporter": "python",
   "pygments_lexer": "ipython3",
   "version": "3.7.8"
  },
  "toc": {
   "base_numbering": 1,
   "nav_menu": {},
   "number_sections": true,
   "sideBar": true,
   "skip_h1_title": true,
   "title_cell": "Table of Contents",
   "title_sidebar": "Contents",
   "toc_cell": false,
   "toc_position": {},
   "toc_section_display": true,
   "toc_window_display": false
  }
 },
 "nbformat": 4,
 "nbformat_minor": 2
}
