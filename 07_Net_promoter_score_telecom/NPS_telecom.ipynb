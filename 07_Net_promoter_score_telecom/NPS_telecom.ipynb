{
 "cells": [
  {
   "cell_type": "code",
   "execution_count": 1,
   "id": "2fd8a398",
   "metadata": {
    "tags": [
     "aa81075c-062f-4de0-b5fe-14c73dc7468e"
    ]
   },
   "outputs": [],
   "source": [
    "import pandas as pd\n",
    "from sqlalchemy import create_engine"
   ]
  },
  {
   "cell_type": "code",
   "execution_count": 2,
   "id": "a5a687a1",
   "metadata": {},
   "outputs": [],
   "source": [
    "path_to_db = '/datasets/telecomm_csi.db'\n",
    "engine = create_engine(f'sqlite:///{path_to_db}', echo = False)"
   ]
  },
  {
   "cell_type": "code",
   "execution_count": 3,
   "id": "979e6823",
   "metadata": {},
   "outputs": [],
   "source": [
    "query = \"\"\"\n",
    "SELECT user_id, \n",
    "       lt_day, \n",
    "       CASE WHEN lt_day <=365 THEN TRUE\n",
    "            ELSE FALSE\n",
    "            END as is_new,\n",
    "       age, \n",
    "       CASE WHEN gender_segment = 0 THEN 'man'\n",
    "            WHEN gender_segment = 1 THEN 'woman'\n",
    "            ELSE 'unknown' \n",
    "            END as gender_segment,\n",
    "       os_name, \n",
    "       cpe_type_name, \n",
    "       country,\n",
    "       city,\n",
    "       SUBSTR(age_segment.title, 4) as age_segment,\n",
    "       SUBSTR(traffic_segment.title, 4) as traffic_segment, \n",
    "       SUBSTR(lifetime_segment.title, 4) as lifetime_segment,\n",
    "       nps_score, \n",
    "       CASE WHEN nps_score >= 9 THEN 'promoters'\n",
    "            WHEN nps_score IN (7,8) THEN 'passives'\n",
    "            ELSE 'detractors'\n",
    "            END as nps_group\n",
    "FROM user LEFT OUTER JOIN location USING(location_id)\n",
    "LEFT OUTER JOIN age_segment USING(age_gr_id)\n",
    "LEFT OUTER JOIN traffic_segment USING(tr_gr_id)\n",
    "LEFT OUTER JOIN lifetime_segment USING(lt_gr_id)\n",
    "\"\"\""
   ]
  },
  {
   "cell_type": "code",
   "execution_count": 5,
   "id": "446f585e",
   "metadata": {},
   "outputs": [
    {
     "data": {
      "text/plain": [
       "502493"
      ]
     },
     "execution_count": 5,
     "metadata": {},
     "output_type": "execute_result"
    }
   ],
   "source": [
    "df = pd.read_sql(query, engine)\n",
    "df.head(3)"
   ]
  },
  {
   "cell_type": "code",
   "execution_count": 5,
   "id": "996a2a08",
   "metadata": {},
   "outputs": [],
   "source": [
    "df.to_csv('telecomm_csi_tableau.csv', index=False)"
   ]
  },
  {
   "cell_type": "markdown",
   "id": "74d78099",
   "metadata": {},
   "source": [
    "### Укажите ссылку на дашборд на сайте Tableau Public:"
   ]
  },
  {
   "cell_type": "markdown",
   "id": "65c22570",
   "metadata": {},
   "source": [
    "https://public.tableau.com/shared/G9N2MCKY7?:display_count=n&:origin=viz_share_link"
   ]
  },
  {
   "cell_type": "markdown",
   "id": "187fd064",
   "metadata": {},
   "source": [
    "### Укажите ссылку на pdf-файл с презентацией:"
   ]
  },
  {
   "cell_type": "markdown",
   "id": "570fac27",
   "metadata": {},
   "source": [
    "https://disk.yandex.ru/i/QllRXRwcPfaApg"
   ]
  }
 ],
 "metadata": {
  "ExecuteTimeLog": [
   {
    "duration": 752,
    "start_time": "2021-10-03T17:40:52.731Z"
   },
   {
    "duration": 20,
    "start_time": "2021-10-03T17:40:53.486Z"
   },
   {
    "duration": 4,
    "start_time": "2021-10-03T17:41:04.638Z"
   },
   {
    "duration": 461,
    "start_time": "2021-10-03T17:41:04.912Z"
   },
   {
    "duration": 284,
    "start_time": "2021-10-03T17:41:05.376Z"
   },
   {
    "duration": 574,
    "start_time": "2021-10-06T07:55:05.029Z"
   },
   {
    "duration": 6,
    "start_time": "2021-10-06T07:55:05.605Z"
   },
   {
    "duration": 3,
    "start_time": "2021-10-06T07:55:14.685Z"
   },
   {
    "duration": 406,
    "start_time": "2021-10-06T07:55:15.522Z"
   },
   {
    "duration": 67,
    "start_time": "2021-10-06T07:55:15.929Z"
   },
   {
    "duration": 840,
    "start_time": "2021-10-07T07:54:04.647Z"
   },
   {
    "duration": 10,
    "start_time": "2021-10-07T07:54:05.490Z"
   },
   {
    "duration": 4,
    "start_time": "2021-10-07T07:54:05.544Z"
   },
   {
    "duration": 391,
    "start_time": "2021-10-07T07:54:06.237Z"
   },
   {
    "duration": 293,
    "start_time": "2021-10-07T07:54:06.654Z"
   },
   {
    "duration": 562,
    "start_time": "2022-04-14T08:27:36.487Z"
   },
   {
    "duration": 21,
    "start_time": "2022-04-14T08:27:37.145Z"
   },
   {
    "duration": 3,
    "start_time": "2022-04-14T08:27:38.261Z"
   },
   {
    "duration": 4884,
    "start_time": "2022-04-14T08:27:40.336Z"
   },
   {
    "duration": 4405,
    "start_time": "2022-04-14T08:27:49.301Z"
   },
   {
    "duration": 471,
    "start_time": "2022-04-15T09:40:28.507Z"
   },
   {
    "duration": 9,
    "start_time": "2022-04-15T09:40:30.669Z"
   },
   {
    "duration": 4,
    "start_time": "2022-04-15T09:40:33.378Z"
   },
   {
    "duration": 4623,
    "start_time": "2022-04-15T09:40:42.112Z"
   },
   {
    "duration": 3481,
    "start_time": "2022-04-15T09:40:49.597Z"
   },
   {
    "duration": 738,
    "start_time": "2022-04-16T04:37:54.353Z"
   },
   {
    "duration": 29,
    "start_time": "2022-04-16T04:37:55.094Z"
   },
   {
    "duration": 3,
    "start_time": "2022-04-16T04:37:55.125Z"
   },
   {
    "duration": 5289,
    "start_time": "2022-04-16T04:37:55.129Z"
   },
   {
    "duration": 3864,
    "start_time": "2022-04-16T04:38:00.420Z"
   },
   {
    "duration": 476,
    "start_time": "2022-04-20T14:23:31.624Z"
   },
   {
    "duration": 18,
    "start_time": "2022-04-20T14:23:32.790Z"
   },
   {
    "duration": 4,
    "start_time": "2022-04-20T14:23:34.062Z"
   },
   {
    "duration": 6805,
    "start_time": "2022-04-20T14:23:35.184Z"
   },
   {
    "duration": 4744,
    "start_time": "2022-04-20T14:23:46.376Z"
   }
  ],
  "kernelspec": {
   "display_name": "Python 3 (ipykernel)",
   "language": "python",
   "name": "python3"
  },
  "language_info": {
   "codemirror_mode": {
    "name": "ipython",
    "version": 3
   },
   "file_extension": ".py",
   "mimetype": "text/x-python",
   "name": "python",
   "nbconvert_exporter": "python",
   "pygments_lexer": "ipython3",
   "version": "3.9.10"
  },
  "toc": {
   "base_numbering": 1,
   "nav_menu": {},
   "number_sections": true,
   "sideBar": true,
   "skip_h1_title": true,
   "title_cell": "Table of Contents",
   "title_sidebar": "Contents",
   "toc_cell": false,
   "toc_position": {},
   "toc_section_display": true,
   "toc_window_display": false
  }
 },
 "nbformat": 4,
 "nbformat_minor": 5
}
