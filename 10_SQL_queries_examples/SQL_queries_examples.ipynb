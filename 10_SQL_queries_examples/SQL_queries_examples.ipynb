{
 "cells": [
  {
   "cell_type": "markdown",
   "metadata": {
    "id": "XnOE3n28DWKg"
   },
   "source": [
    "**Connexion to data base**"
   ]
  },
  {
   "cell_type": "code",
   "execution_count": 1,
   "metadata": {
    "id": "nlZBlglMDWKe"
   },
   "outputs": [],
   "source": [
    "import pandas as pd\n",
    "import matplotlib.pyplot as plt\n",
    "from sqlalchemy import create_engine \n",
    "import seaborn as sns\n",
    "import os\n",
    "from dotenv import load_dotenv"
   ]
  },
  {
   "cell_type": "code",
   "execution_count": 2,
   "metadata": {},
   "outputs": [],
   "source": [
    "# creating file dot.env for protection personal data in the same directory with jupyter notebook\n",
    "dotenv_path = os.path.join('dot1.env')\n",
    "if os.path.exists(dotenv_path):\n",
    "    load_dotenv(dotenv_path)\n",
    "    \n",
    "user = os.environ['user']\n",
    "pwd = os.environ['pwd']\n",
    "host = os.environ['host']\n",
    "port = os.environ['port']\n",
    "db = os.environ['db']"
   ]
  },
  {
   "cell_type": "code",
   "execution_count": 3,
   "metadata": {
    "id": "6p-yGp7qDWKg"
   },
   "outputs": [],
   "source": [
    "db_config = {\n",
    "    'user': user, # имя пользователя\n",
    "    'pwd': pwd, # пароль\n",
    "    'host': host,\n",
    "    'port': port, # порт подключения\n",
    "    'db': db # название базы данных\n",
    "}  \n",
    "\n",
    "connection_string = 'postgresql://{}:{}@{}:{}/{}'.format(\n",
    "    db_config['user'],\n",
    "    db_config['pwd'],\n",
    "    db_config['host'],\n",
    "    db_config['port'],\n",
    "    db_config['db'],\n",
    ")"
   ]
  },
  {
   "cell_type": "code",
   "execution_count": 4,
   "metadata": {
    "id": "DamCUTR6DWKi"
   },
   "outputs": [],
   "source": [
    "\n",
    "engine = create_engine(connection_string) "
   ]
  },
  {
   "cell_type": "markdown",
   "metadata": {
    "id": "gnBMXkDBDWKm"
   },
   "source": [
    "# 1"
   ]
  },
  {
   "cell_type": "markdown",
   "metadata": {
    "id": "vHsfOrrNDWKn"
   },
   "source": [
    "Get the total sum of post views for each month of 2008. If there is no data for any month in the database, this month can be skipped. Sort the result in descending order of the total number of views."
   ]
  },
  {
   "cell_type": "code",
   "execution_count": 5,
   "metadata": {
    "id": "eWvykcXTDWKo"
   },
   "outputs": [
    {
     "data": {
      "text/html": [
       "<div>\n",
       "<style scoped>\n",
       "    .dataframe tbody tr th:only-of-type {\n",
       "        vertical-align: middle;\n",
       "    }\n",
       "\n",
       "    .dataframe tbody tr th {\n",
       "        vertical-align: top;\n",
       "    }\n",
       "\n",
       "    .dataframe thead th {\n",
       "        text-align: right;\n",
       "    }\n",
       "</style>\n",
       "<table border=\"1\" class=\"dataframe\">\n",
       "  <thead>\n",
       "    <tr style=\"text-align: right;\">\n",
       "      <th></th>\n",
       "      <th>month</th>\n",
       "      <th>total_views</th>\n",
       "    </tr>\n",
       "  </thead>\n",
       "  <tbody>\n",
       "    <tr>\n",
       "      <td>0</td>\n",
       "      <td>2008-09-01</td>\n",
       "      <td>452928568</td>\n",
       "    </tr>\n",
       "    <tr>\n",
       "      <td>1</td>\n",
       "      <td>2008-10-01</td>\n",
       "      <td>365400138</td>\n",
       "    </tr>\n",
       "    <tr>\n",
       "      <td>2</td>\n",
       "      <td>2008-11-01</td>\n",
       "      <td>221759651</td>\n",
       "    </tr>\n",
       "    <tr>\n",
       "      <td>3</td>\n",
       "      <td>2008-12-01</td>\n",
       "      <td>197792841</td>\n",
       "    </tr>\n",
       "    <tr>\n",
       "      <td>4</td>\n",
       "      <td>2008-08-01</td>\n",
       "      <td>131367083</td>\n",
       "    </tr>\n",
       "    <tr>\n",
       "      <td>5</td>\n",
       "      <td>2008-07-01</td>\n",
       "      <td>669895</td>\n",
       "    </tr>\n",
       "  </tbody>\n",
       "</table>\n",
       "</div>"
      ],
      "text/plain": [
       "        month  total_views\n",
       "0  2008-09-01    452928568\n",
       "1  2008-10-01    365400138\n",
       "2  2008-11-01    221759651\n",
       "3  2008-12-01    197792841\n",
       "4  2008-08-01    131367083\n",
       "5  2008-07-01       669895"
      ]
     },
     "execution_count": 5,
     "metadata": {},
     "output_type": "execute_result"
    }
   ],
   "source": [
    "query = '''\n",
    "\n",
    "SELECT DATE_TRUNC('month', creation_date)::date as month, \n",
    "       SUM(views_count) as total_views\n",
    "FROM stackoverflow.posts\n",
    "WHERE EXTRACT(YEAR FROM creation_date) = 2008\n",
    "GROUP BY DATE_TRUNC('month', creation_date)\n",
    "ORDER BY total_views DESC\n",
    "'''\n",
    "\n",
    "total_views = pd.read_sql_query(query, con=engine) \n",
    "total_views"
   ]
  },
  {
   "cell_type": "code",
   "execution_count": 6,
   "metadata": {
    "id": "luxSj17oDWKq"
   },
   "outputs": [
    {
     "data": {
      "text/plain": [
       "([<matplotlib.axis.XTick at 0x223efdc0908>,\n",
       "  <matplotlib.axis.XTick at 0x223efdb5f48>,\n",
       "  <matplotlib.axis.XTick at 0x223f1ddc048>,\n",
       "  <matplotlib.axis.XTick at 0x223f1e1e308>,\n",
       "  <matplotlib.axis.XTick at 0x223f1e1edc8>,\n",
       "  <matplotlib.axis.XTick at 0x223f1e21888>],\n",
       " <a list of 6 Text xticklabel objects>)"
      ]
     },
     "execution_count": 6,
     "metadata": {},
     "output_type": "execute_result"
    },
    {
     "data": {
      "image/png": "[encoded data removed]",
      "text/plain": [
       "<Figure size 720x360 with 1 Axes>"
      ]
     },
     "metadata": {
      "needs_background": "light"
     },
     "output_type": "display_data"
    }
   ],
   "source": [
    "total_views.sort_values(by = 'month').reset_index(drop = True).plot(grid= True, figsize = (10,5)) \n",
    "plt.xlabel('month')\n",
    "plt.ylabel('total_views')\n",
    "plt.title('Post view evolution')\n",
    "plt.xticks(ticks = range(len(total_views)), labels = total_views.sort_values(by = 'month')['month'])"
   ]
  },
  {
   "cell_type": "markdown",
   "metadata": {
    "id": "FziIXkn5DWKr"
   },
   "source": [
    "# 2"
   ]
  },
  {
   "cell_type": "markdown",
   "metadata": {
    "id": "fTGESZvYDWKr"
   },
   "source": [
    "Get the names of the most active users who gave more than 100 responses in the first month after registration (including the day of registration). Questions asked by users, do not count. For each username, print the number of unique `user_id` values. Sort the result by the field with names in lexicographic order."
   ]
  },
  {
   "cell_type": "code",
   "execution_count": 7,
   "metadata": {
    "id": "fIO-y-YjDWKt"
   },
   "outputs": [
    {
     "data": {
      "text/html": [
       "<div>\n",
       "<style scoped>\n",
       "    .dataframe tbody tr th:only-of-type {\n",
       "        vertical-align: middle;\n",
       "    }\n",
       "\n",
       "    .dataframe tbody tr th {\n",
       "        vertical-align: top;\n",
       "    }\n",
       "\n",
       "    .dataframe thead th {\n",
       "        text-align: right;\n",
       "    }\n",
       "</style>\n",
       "<table border=\"1\" class=\"dataframe\">\n",
       "  <thead>\n",
       "    <tr style=\"text-align: right;\">\n",
       "      <th></th>\n",
       "      <th>display_name</th>\n",
       "      <th>cnt_unique_id</th>\n",
       "    </tr>\n",
       "  </thead>\n",
       "  <tbody>\n",
       "    <tr>\n",
       "      <td>0</td>\n",
       "      <td>1800 INFORMATION</td>\n",
       "      <td>1</td>\n",
       "    </tr>\n",
       "    <tr>\n",
       "      <td>1</td>\n",
       "      <td>Adam Bellaire</td>\n",
       "      <td>1</td>\n",
       "    </tr>\n",
       "    <tr>\n",
       "      <td>2</td>\n",
       "      <td>Adam Davis</td>\n",
       "      <td>1</td>\n",
       "    </tr>\n",
       "    <tr>\n",
       "      <td>3</td>\n",
       "      <td>Adam Liss</td>\n",
       "      <td>1</td>\n",
       "    </tr>\n",
       "    <tr>\n",
       "      <td>4</td>\n",
       "      <td>Alan</td>\n",
       "      <td>8</td>\n",
       "    </tr>\n",
       "    <tr>\n",
       "      <td>...</td>\n",
       "      <td>...</td>\n",
       "      <td>...</td>\n",
       "    </tr>\n",
       "    <tr>\n",
       "      <td>71</td>\n",
       "      <td>leppie</td>\n",
       "      <td>1</td>\n",
       "    </tr>\n",
       "    <tr>\n",
       "      <td>72</td>\n",
       "      <td>lomaxx</td>\n",
       "      <td>1</td>\n",
       "    </tr>\n",
       "    <tr>\n",
       "      <td>73</td>\n",
       "      <td>mattlant</td>\n",
       "      <td>1</td>\n",
       "    </tr>\n",
       "    <tr>\n",
       "      <td>74</td>\n",
       "      <td>paxdiablo</td>\n",
       "      <td>1</td>\n",
       "    </tr>\n",
       "    <tr>\n",
       "      <td>75</td>\n",
       "      <td>tzot</td>\n",
       "      <td>1</td>\n",
       "    </tr>\n",
       "  </tbody>\n",
       "</table>\n",
       "<p>76 rows × 2 columns</p>\n",
       "</div>"
      ],
      "text/plain": [
       "        display_name  cnt_unique_id\n",
       "0   1800 INFORMATION              1\n",
       "1      Adam Bellaire              1\n",
       "2         Adam Davis              1\n",
       "3          Adam Liss              1\n",
       "4               Alan              8\n",
       "..               ...            ...\n",
       "71            leppie              1\n",
       "72            lomaxx              1\n",
       "73          mattlant              1\n",
       "74         paxdiablo              1\n",
       "75              tzot              1\n",
       "\n",
       "[76 rows x 2 columns]"
      ]
     },
     "execution_count": 7,
     "metadata": {},
     "output_type": "execute_result"
    }
   ],
   "source": [
    "query = '''\n",
    "\n",
    "WITH \n",
    "a AS (SELECT u.display_name, \n",
    "             COUNT(DISTINCT(p.user_id)) as cnt_unique_id, \n",
    "             COUNT(*) as cnt\n",
    "FROM stackoverflow.posts as p \n",
    "     JOIN stackoverflow.post_types as pt\n",
    "     ON p.post_type_id = pt.id AND pt.type = 'Answer'\n",
    "     \n",
    "     JOIN stackoverflow.users as u \n",
    "     ON u.id = p.user_id AND p.creation_date BETWEEN u.creation_date and u.creation_date + interval'1 month'\n",
    "GROUP BY u.display_name)\n",
    "\n",
    "SELECT display_name,\n",
    "    cnt_unique_id\n",
    "FROM a\n",
    "WHERE cnt > 100\n",
    "ORDER BY display_name\n",
    "\n",
    "'''\n",
    "active_users = pd.read_sql_query(query, con=engine) \n",
    "active_users"
   ]
  },
  {
   "cell_type": "markdown",
   "metadata": {
    "id": "JhM2xXj5DWKu"
   },
   "source": [
    "# 3"
   ]
  },
  {
   "cell_type": "markdown",
   "metadata": {
    "id": "IS6xPqyyDWKu"
   },
   "source": [
    "Print the number of posts for 2008 by month. Select posts from users who signed up in September 2008 and made at least one post in December of that year. Sort the table by month value in descending order."
   ]
  },
  {
   "cell_type": "code",
   "execution_count": 8,
   "metadata": {
    "id": "kVu0FB8WDWKv",
    "scrolled": false
   },
   "outputs": [
    {
     "data": {
      "text/html": [
       "<div>\n",
       "<style scoped>\n",
       "    .dataframe tbody tr th:only-of-type {\n",
       "        vertical-align: middle;\n",
       "    }\n",
       "\n",
       "    .dataframe tbody tr th {\n",
       "        vertical-align: top;\n",
       "    }\n",
       "\n",
       "    .dataframe thead th {\n",
       "        text-align: right;\n",
       "    }\n",
       "</style>\n",
       "<table border=\"1\" class=\"dataframe\">\n",
       "  <thead>\n",
       "    <tr style=\"text-align: right;\">\n",
       "      <th></th>\n",
       "      <th>month</th>\n",
       "      <th>number_of_posts</th>\n",
       "    </tr>\n",
       "  </thead>\n",
       "  <tbody>\n",
       "    <tr>\n",
       "      <td>0</td>\n",
       "      <td>2008-12-01</td>\n",
       "      <td>17641</td>\n",
       "    </tr>\n",
       "    <tr>\n",
       "      <td>1</td>\n",
       "      <td>2008-11-01</td>\n",
       "      <td>18294</td>\n",
       "    </tr>\n",
       "    <tr>\n",
       "      <td>2</td>\n",
       "      <td>2008-10-01</td>\n",
       "      <td>27171</td>\n",
       "    </tr>\n",
       "    <tr>\n",
       "      <td>3</td>\n",
       "      <td>2008-09-01</td>\n",
       "      <td>24870</td>\n",
       "    </tr>\n",
       "    <tr>\n",
       "      <td>4</td>\n",
       "      <td>2008-08-01</td>\n",
       "      <td>32</td>\n",
       "    </tr>\n",
       "  </tbody>\n",
       "</table>\n",
       "</div>"
      ],
      "text/plain": [
       "        month  number_of_posts\n",
       "0  2008-12-01            17641\n",
       "1  2008-11-01            18294\n",
       "2  2008-10-01            27171\n",
       "3  2008-09-01            24870\n",
       "4  2008-08-01               32"
      ]
     },
     "execution_count": 8,
     "metadata": {},
     "output_type": "execute_result"
    }
   ],
   "source": [
    "query = '''\n",
    "\n",
    "WITH\n",
    "a AS (SELECT id\n",
    "      FROM stackoverflow.users\n",
    "      WHERE creation_date::varchar LIKE '2008-09-%%'),\n",
    "\n",
    "b AS (SELECT user_id\n",
    "     FROM stackoverflow.posts\n",
    "     WHERE creation_date::varchar LIKE '2008-12-%%')\n",
    "     \n",
    "SELECT DATE_TRUNC('month', creation_date)::date as month, \n",
    "       COUNT(*) as number_of_posts\n",
    "FROM stackoverflow.posts\n",
    "WHERE EXTRACT(YEAR FROM creation_date) = 2008 \n",
    "      AND user_id IN (SELECT id FROM a JOIN b ON a.id = b.user_id)\n",
    "GROUP BY DATE_TRUNC('month', creation_date)::date\n",
    "ORDER BY month DESC\n",
    "\n",
    "'''\n",
    "us_act = pd.read_sql_query(query, con=engine) \n",
    "us_act"
   ]
  },
  {
   "cell_type": "code",
   "execution_count": 9,
   "metadata": {},
   "outputs": [
    {
     "data": {
      "text/plain": [
       "([<matplotlib.axis.XTick at 0x223f1ea3ec8>,\n",
       "  <matplotlib.axis.XTick at 0x223f1ea3548>,\n",
       "  <matplotlib.axis.XTick at 0x223f1ebd2c8>,\n",
       "  <matplotlib.axis.XTick at 0x223f1edf508>,\n",
       "  <matplotlib.axis.XTick at 0x223f1ee6208>],\n",
       " <a list of 5 Text xticklabel objects>)"
      ]
     },
     "execution_count": 9,
     "metadata": {},
     "output_type": "execute_result"
    },
    {
     "data": {
      "image/png": "[encoded data removed]",
      "text/plain": [
       "<Figure size 720x360 with 1 Axes>"
      ]
     },
     "metadata": {
      "needs_background": "light"
     },
     "output_type": "display_data"
    }
   ],
   "source": [
    "us_act.sort_values(by = 'month').reset_index(drop = True).plot(grid= True, figsize = (10,5)) \n",
    "plt.xlabel('month')\n",
    "plt.ylabel('total_posts')\n",
    "plt.title('Post evolution')\n",
    "plt.xticks(ticks = range(len(us_act)), labels = us_act.sort_values(by = 'month')['month'])"
   ]
  },
  {
   "cell_type": "markdown",
   "metadata": {
    "id": "5Pcizm0DDWKz"
   },
   "source": [
    "# 4"
   ]
  },
  {
   "cell_type": "markdown",
   "metadata": {
    "id": "KUZPF6vHDWKz"
   },
   "source": [
    "Using the post data, output a few fields:\n",
    "- ID of the user who wrote the post;\n",
    "- date of creation of the post;\n",
    "- the number of views of the current post;\n",
    "- the amount of views of the author's posts with accumulation.\n",
    "The data in the table should be sorted in ascending order of user IDs, and the data for the same user should be sorted in ascending order of the date the post was created."
   ]
  },
  {
   "cell_type": "code",
   "execution_count": 10,
   "metadata": {
    "id": "hDoJhMzfDWK0"
   },
   "outputs": [
    {
     "data": {
      "text/html": [
       "<div>\n",
       "<style scoped>\n",
       "    .dataframe tbody tr th:only-of-type {\n",
       "        vertical-align: middle;\n",
       "    }\n",
       "\n",
       "    .dataframe tbody tr th {\n",
       "        vertical-align: top;\n",
       "    }\n",
       "\n",
       "    .dataframe thead th {\n",
       "        text-align: right;\n",
       "    }\n",
       "</style>\n",
       "<table border=\"1\" class=\"dataframe\">\n",
       "  <thead>\n",
       "    <tr style=\"text-align: right;\">\n",
       "      <th></th>\n",
       "      <th>creation_date</th>\n",
       "      <th>views_count</th>\n",
       "      <th>cum_count</th>\n",
       "    </tr>\n",
       "    <tr>\n",
       "      <th>user_id</th>\n",
       "      <th></th>\n",
       "      <th></th>\n",
       "      <th></th>\n",
       "    </tr>\n",
       "  </thead>\n",
       "  <tbody>\n",
       "    <tr>\n",
       "      <td>1</td>\n",
       "      <td>2008-07-31 23:41:00</td>\n",
       "      <td>480476</td>\n",
       "      <td>480476</td>\n",
       "    </tr>\n",
       "    <tr>\n",
       "      <td>1</td>\n",
       "      <td>2008-07-31 23:55:38</td>\n",
       "      <td>136033</td>\n",
       "      <td>616509</td>\n",
       "    </tr>\n",
       "    <tr>\n",
       "      <td>1</td>\n",
       "      <td>2008-07-31 23:56:41</td>\n",
       "      <td>0</td>\n",
       "      <td>616509</td>\n",
       "    </tr>\n",
       "    <tr>\n",
       "      <td>1</td>\n",
       "      <td>2008-08-04 02:45:08</td>\n",
       "      <td>0</td>\n",
       "      <td>616509</td>\n",
       "    </tr>\n",
       "    <tr>\n",
       "      <td>1</td>\n",
       "      <td>2008-08-04 04:31:03</td>\n",
       "      <td>0</td>\n",
       "      <td>616509</td>\n",
       "    </tr>\n",
       "    <tr>\n",
       "      <td>...</td>\n",
       "      <td>...</td>\n",
       "      <td>...</td>\n",
       "      <td>...</td>\n",
       "    </tr>\n",
       "    <tr>\n",
       "      <td>5696608</td>\n",
       "      <td>2008-12-23 16:00:37</td>\n",
       "      <td>0</td>\n",
       "      <td>2804</td>\n",
       "    </tr>\n",
       "    <tr>\n",
       "      <td>5696608</td>\n",
       "      <td>2008-12-23 17:35:09</td>\n",
       "      <td>0</td>\n",
       "      <td>2804</td>\n",
       "    </tr>\n",
       "    <tr>\n",
       "      <td>5696608</td>\n",
       "      <td>2008-12-24 01:02:48</td>\n",
       "      <td>0</td>\n",
       "      <td>2804</td>\n",
       "    </tr>\n",
       "    <tr>\n",
       "      <td>5696608</td>\n",
       "      <td>2008-12-30 14:34:45</td>\n",
       "      <td>0</td>\n",
       "      <td>2804</td>\n",
       "    </tr>\n",
       "    <tr>\n",
       "      <td>5696608</td>\n",
       "      <td>2008-12-30 16:32:12</td>\n",
       "      <td>0</td>\n",
       "      <td>2804</td>\n",
       "    </tr>\n",
       "  </tbody>\n",
       "</table>\n",
       "<p>243796 rows × 3 columns</p>\n",
       "</div>"
      ],
      "text/plain": [
       "              creation_date  views_count  cum_count\n",
       "user_id                                            \n",
       "1       2008-07-31 23:41:00       480476     480476\n",
       "1       2008-07-31 23:55:38       136033     616509\n",
       "1       2008-07-31 23:56:41            0     616509\n",
       "1       2008-08-04 02:45:08            0     616509\n",
       "1       2008-08-04 04:31:03            0     616509\n",
       "...                     ...          ...        ...\n",
       "5696608 2008-12-23 16:00:37            0       2804\n",
       "5696608 2008-12-23 17:35:09            0       2804\n",
       "5696608 2008-12-24 01:02:48            0       2804\n",
       "5696608 2008-12-30 14:34:45            0       2804\n",
       "5696608 2008-12-30 16:32:12            0       2804\n",
       "\n",
       "[243796 rows x 3 columns]"
      ]
     },
     "execution_count": 10,
     "metadata": {},
     "output_type": "execute_result"
    }
   ],
   "source": [
    "query = '''\n",
    "SELECT user_id, \n",
    "       creation_date, \n",
    "       views_count, \n",
    "       SUM(views_count) OVER (PARTITION BY user_id ORDER BY creation_date) as cum_count\n",
    "FROM stackoverflow.posts\n",
    "ORDER BY user_id\n",
    "'''\n",
    "pd.read_sql_query(query, con=engine).set_index('user_id') \n"
   ]
  },
  {
   "cell_type": "markdown",
   "metadata": {
    "id": "N0kHRHvIDWK2"
   },
   "source": [
    "# 5"
   ]
  },
  {
   "cell_type": "markdown",
   "metadata": {
    "id": "gBgvmPtODWK2"
   },
   "source": [
    "Find the average number of user posts per day for August 2008. Select data about users who published more than 120 posts in August. Do not count days without posting.\n",
    "Sort the result in ascending order of the average number of posts"
   ]
  },
  {
   "cell_type": "code",
   "execution_count": 11,
   "metadata": {
    "id": "YFyPNz5GDWK3"
   },
   "outputs": [
    {
     "data": {
      "text/html": [
       "<div>\n",
       "<style scoped>\n",
       "    .dataframe tbody tr th:only-of-type {\n",
       "        vertical-align: middle;\n",
       "    }\n",
       "\n",
       "    .dataframe tbody tr th {\n",
       "        vertical-align: top;\n",
       "    }\n",
       "\n",
       "    .dataframe thead th {\n",
       "        text-align: right;\n",
       "    }\n",
       "</style>\n",
       "<table border=\"1\" class=\"dataframe\">\n",
       "  <thead>\n",
       "    <tr style=\"text-align: right;\">\n",
       "      <th></th>\n",
       "      <th>avg_post</th>\n",
       "    </tr>\n",
       "    <tr>\n",
       "      <th>user_id</th>\n",
       "      <th></th>\n",
       "    </tr>\n",
       "  </thead>\n",
       "  <tbody>\n",
       "    <tr>\n",
       "      <td>116</td>\n",
       "      <td>4.777778</td>\n",
       "    </tr>\n",
       "    <tr>\n",
       "      <td>234</td>\n",
       "      <td>5.208333</td>\n",
       "    </tr>\n",
       "    <tr>\n",
       "      <td>91</td>\n",
       "      <td>5.681818</td>\n",
       "    </tr>\n",
       "    <tr>\n",
       "      <td>905</td>\n",
       "      <td>7.000000</td>\n",
       "    </tr>\n",
       "    <tr>\n",
       "      <td>383</td>\n",
       "      <td>7.277778</td>\n",
       "    </tr>\n",
       "  </tbody>\n",
       "</table>\n",
       "</div>"
      ],
      "text/plain": [
       "         avg_post\n",
       "user_id          \n",
       "116      4.777778\n",
       "234      5.208333\n",
       "91       5.681818\n",
       "905      7.000000\n",
       "383      7.277778"
      ]
     },
     "execution_count": 11,
     "metadata": {},
     "output_type": "execute_result"
    }
   ],
   "source": [
    "query = '''\n",
    "WITH \n",
    "a AS (SELECT user_id, \n",
    "             COUNT(*)\n",
    "      FROM stackoverflow.posts\n",
    "      WHERE EXTRACT(YEAR from creation_date) = 2008 AND EXTRACT(MONTH from creation_date) = 8\n",
    "      GROUP BY user_id\n",
    "      HAVING COUNT(*)>120),\n",
    "\n",
    "c as (SELECT user_id, \n",
    "              DATE_TRUNC('day',creation_date)::date, \n",
    "              COUNT(*)\n",
    "       FROM stackoverflow.posts \n",
    "       WHERE user_id IN (SELECT user_id from a) AND DATE_TRUNC('day',creation_date)::varchar LIKE '2008-08-%%'\n",
    "       GROUP BY user_id, DATE_TRUNC('day',creation_date)::date)\n",
    "\n",
    "SELECT user_id, \n",
    "       SUM(count)/COUNT(count) as avg_post\n",
    "FROM c\n",
    "GROUP BY user_id\n",
    "ORDER BY avg_post\n",
    "'''\n",
    "pd.read_sql_query(query, con=engine).set_index('user_id')"
   ]
  },
  {
   "cell_type": "markdown",
   "metadata": {
    "id": "EQ0dcFH4DWK5"
   },
   "source": [
    "# 6"
   ]
  },
  {
   "cell_type": "markdown",
   "metadata": {
    "id": "c7flfg_hDWK5"
   },
   "source": [
    "On average, how many days between 1 December 2008 and 7 December 2008 did users interact with the platform? For each user, select the days on which he or she posted at least one post. You need to get a single integer - do not forget to round the result."
   ]
  },
  {
   "cell_type": "code",
   "execution_count": 12,
   "metadata": {
    "id": "kZ7LXTr6DWK6"
   },
   "outputs": [
    {
     "data": {
      "text/html": [
       "<div>\n",
       "<style scoped>\n",
       "    .dataframe tbody tr th:only-of-type {\n",
       "        vertical-align: middle;\n",
       "    }\n",
       "\n",
       "    .dataframe tbody tr th {\n",
       "        vertical-align: top;\n",
       "    }\n",
       "\n",
       "    .dataframe thead th {\n",
       "        text-align: right;\n",
       "    }\n",
       "</style>\n",
       "<table border=\"1\" class=\"dataframe\">\n",
       "  <thead>\n",
       "    <tr style=\"text-align: right;\">\n",
       "      <th></th>\n",
       "    </tr>\n",
       "    <tr>\n",
       "      <th>result</th>\n",
       "    </tr>\n",
       "  </thead>\n",
       "  <tbody>\n",
       "    <tr>\n",
       "      <td>3</td>\n",
       "    </tr>\n",
       "  </tbody>\n",
       "</table>\n",
       "</div>"
      ],
      "text/plain": [
       "Empty DataFrame\n",
       "Columns: []\n",
       "Index: [3]"
      ]
     },
     "execution_count": 12,
     "metadata": {},
     "output_type": "execute_result"
    }
   ],
   "source": [
    "query = '''\n",
    "WITH \n",
    "a AS (SELECT user_id, \n",
    "             COUNT(*) as cnt\n",
    "      FROM stackoverflow.posts\n",
    "      WHERE creation_date::date BETWEEN '2008-12-01' AND '2008-12-07'\n",
    "      GROUP BY user_id)\n",
    "\n",
    "SELECT ROUND(AVG(cnt), 0)::int as result\n",
    "FROM a\n",
    "'''\n",
    "pd.read_sql_query(query, con=engine).set_index('result')"
   ]
  },
  {
   "cell_type": "markdown",
   "metadata": {
    "id": "wfOmqmfLDWK8"
   },
   "source": [
    "# 7"
   ]
  },
  {
   "cell_type": "markdown",
   "metadata": {
    "id": "X4ARQimADWK9"
   },
   "source": [
    "Display the activity history of each user in this form: user ID, post publication date. Sort the output by ascending user ID, and for each user by ascending publication date.\n",
    "Add a new field to the table: for each post, it will contain the name of the month of the user's penultimate publication relative to the current one. If there is no such publication, specify `NULL`.  "
   ]
  },
  {
   "cell_type": "code",
   "execution_count": 13,
   "metadata": {
    "id": "HzI1vhaMDWK-"
   },
   "outputs": [
    {
     "data": {
      "text/html": [
       "<div>\n",
       "<style scoped>\n",
       "    .dataframe tbody tr th:only-of-type {\n",
       "        vertical-align: middle;\n",
       "    }\n",
       "\n",
       "    .dataframe tbody tr th {\n",
       "        vertical-align: top;\n",
       "    }\n",
       "\n",
       "    .dataframe thead th {\n",
       "        text-align: right;\n",
       "    }\n",
       "</style>\n",
       "<table border=\"1\" class=\"dataframe\">\n",
       "  <thead>\n",
       "    <tr style=\"text-align: right;\">\n",
       "      <th></th>\n",
       "      <th>creation_date</th>\n",
       "      <th>second_last_month</th>\n",
       "    </tr>\n",
       "    <tr>\n",
       "      <th>user_id</th>\n",
       "      <th></th>\n",
       "      <th></th>\n",
       "    </tr>\n",
       "  </thead>\n",
       "  <tbody>\n",
       "    <tr>\n",
       "      <td>1</td>\n",
       "      <td>2008-07-31 23:41:00</td>\n",
       "      <td>None</td>\n",
       "    </tr>\n",
       "    <tr>\n",
       "      <td>1</td>\n",
       "      <td>2008-07-31 23:55:38</td>\n",
       "      <td>None</td>\n",
       "    </tr>\n",
       "    <tr>\n",
       "      <td>1</td>\n",
       "      <td>2008-07-31 23:56:41</td>\n",
       "      <td>July</td>\n",
       "    </tr>\n",
       "    <tr>\n",
       "      <td>1</td>\n",
       "      <td>2008-08-04 02:45:08</td>\n",
       "      <td>July</td>\n",
       "    </tr>\n",
       "    <tr>\n",
       "      <td>1</td>\n",
       "      <td>2008-08-04 04:31:03</td>\n",
       "      <td>July</td>\n",
       "    </tr>\n",
       "    <tr>\n",
       "      <td>...</td>\n",
       "      <td>...</td>\n",
       "      <td>...</td>\n",
       "    </tr>\n",
       "    <tr>\n",
       "      <td>5696608</td>\n",
       "      <td>2008-12-23 16:00:37</td>\n",
       "      <td>December</td>\n",
       "    </tr>\n",
       "    <tr>\n",
       "      <td>5696608</td>\n",
       "      <td>2008-12-23 17:35:09</td>\n",
       "      <td>December</td>\n",
       "    </tr>\n",
       "    <tr>\n",
       "      <td>5696608</td>\n",
       "      <td>2008-12-24 01:02:48</td>\n",
       "      <td>December</td>\n",
       "    </tr>\n",
       "    <tr>\n",
       "      <td>5696608</td>\n",
       "      <td>2008-12-30 14:34:45</td>\n",
       "      <td>December</td>\n",
       "    </tr>\n",
       "    <tr>\n",
       "      <td>5696608</td>\n",
       "      <td>2008-12-30 16:32:12</td>\n",
       "      <td>December</td>\n",
       "    </tr>\n",
       "  </tbody>\n",
       "</table>\n",
       "<p>243796 rows × 2 columns</p>\n",
       "</div>"
      ],
      "text/plain": [
       "              creation_date second_last_month\n",
       "user_id                                      \n",
       "1       2008-07-31 23:41:00              None\n",
       "1       2008-07-31 23:55:38              None\n",
       "1       2008-07-31 23:56:41         July     \n",
       "1       2008-08-04 02:45:08         July     \n",
       "1       2008-08-04 04:31:03         July     \n",
       "...                     ...               ...\n",
       "5696608 2008-12-23 16:00:37         December \n",
       "5696608 2008-12-23 17:35:09         December \n",
       "5696608 2008-12-24 01:02:48         December \n",
       "5696608 2008-12-30 14:34:45         December \n",
       "5696608 2008-12-30 16:32:12         December \n",
       "\n",
       "[243796 rows x 2 columns]"
      ]
     },
     "execution_count": 13,
     "metadata": {},
     "output_type": "execute_result"
    }
   ],
   "source": [
    "query = '''\n",
    "WITH \n",
    "a as\n",
    "(SELECT DISTINCT user_id, creation_date, LAG(creation_date) OVER (PARTITIOn BY user_id ORDER BY creation_date) as last_month\n",
    "FROM stackoverflow.posts\n",
    "ORDER BY user_id,  creation_date)\n",
    "SELECT user_id, creation_date, to_char(LAG(last_month) OVER (PARTITION BY user_id ORDER BY creation_date), 'Month') as second_last_month\n",
    "FROM a\n",
    "'''\n",
    "pd.read_sql_query(query, con=engine).set_index('user_id')"
   ]
  },
  {
   "cell_type": "markdown",
   "metadata": {
    "id": "tf9qq2yzDWK_"
   },
   "source": [
    "# 8"
   ]
  },
  {
   "cell_type": "markdown",
   "metadata": {
    "id": "gfwLVXBYDWLA"
   },
   "source": [
    "Calculate the Retention Rate for StackOverflow users. Organize users into cohorts based on the month of their first post. Return is determined by the presence of a post in the current month."
   ]
  },
  {
   "cell_type": "code",
   "execution_count": 14,
   "metadata": {
    "id": "LUgFmwmTDWLB"
   },
   "outputs": [
    {
     "data": {
      "text/html": [
       "<div>\n",
       "<style scoped>\n",
       "    .dataframe tbody tr th:only-of-type {\n",
       "        vertical-align: middle;\n",
       "    }\n",
       "\n",
       "    .dataframe tbody tr th {\n",
       "        vertical-align: top;\n",
       "    }\n",
       "\n",
       "    .dataframe thead th {\n",
       "        text-align: right;\n",
       "    }\n",
       "</style>\n",
       "<table border=\"1\" class=\"dataframe\">\n",
       "  <thead>\n",
       "    <tr style=\"text-align: right;\">\n",
       "      <th></th>\n",
       "      <th>cohort_start</th>\n",
       "      <th>session_month</th>\n",
       "      <th>cnt_user</th>\n",
       "      <th>cohort_size</th>\n",
       "      <th>retention</th>\n",
       "    </tr>\n",
       "  </thead>\n",
       "  <tbody>\n",
       "    <tr>\n",
       "      <td>0</td>\n",
       "      <td>2008-07-01</td>\n",
       "      <td>2008-07-01</td>\n",
       "      <td>3</td>\n",
       "      <td>3</td>\n",
       "      <td>100.00</td>\n",
       "    </tr>\n",
       "    <tr>\n",
       "      <td>1</td>\n",
       "      <td>2008-07-01</td>\n",
       "      <td>2008-08-01</td>\n",
       "      <td>2</td>\n",
       "      <td>3</td>\n",
       "      <td>66.67</td>\n",
       "    </tr>\n",
       "    <tr>\n",
       "      <td>2</td>\n",
       "      <td>2008-07-01</td>\n",
       "      <td>2008-09-01</td>\n",
       "      <td>1</td>\n",
       "      <td>3</td>\n",
       "      <td>33.33</td>\n",
       "    </tr>\n",
       "    <tr>\n",
       "      <td>3</td>\n",
       "      <td>2008-07-01</td>\n",
       "      <td>2008-10-01</td>\n",
       "      <td>2</td>\n",
       "      <td>3</td>\n",
       "      <td>66.67</td>\n",
       "    </tr>\n",
       "    <tr>\n",
       "      <td>4</td>\n",
       "      <td>2008-07-01</td>\n",
       "      <td>2008-11-01</td>\n",
       "      <td>1</td>\n",
       "      <td>3</td>\n",
       "      <td>33.33</td>\n",
       "    </tr>\n",
       "    <tr>\n",
       "      <td>5</td>\n",
       "      <td>2008-07-01</td>\n",
       "      <td>2008-12-01</td>\n",
       "      <td>2</td>\n",
       "      <td>3</td>\n",
       "      <td>66.67</td>\n",
       "    </tr>\n",
       "    <tr>\n",
       "      <td>6</td>\n",
       "      <td>2008-08-01</td>\n",
       "      <td>2008-08-01</td>\n",
       "      <td>2151</td>\n",
       "      <td>2151</td>\n",
       "      <td>100.00</td>\n",
       "    </tr>\n",
       "    <tr>\n",
       "      <td>7</td>\n",
       "      <td>2008-08-01</td>\n",
       "      <td>2008-09-01</td>\n",
       "      <td>1571</td>\n",
       "      <td>2151</td>\n",
       "      <td>73.04</td>\n",
       "    </tr>\n",
       "    <tr>\n",
       "      <td>8</td>\n",
       "      <td>2008-08-01</td>\n",
       "      <td>2008-10-01</td>\n",
       "      <td>1275</td>\n",
       "      <td>2151</td>\n",
       "      <td>59.27</td>\n",
       "    </tr>\n",
       "    <tr>\n",
       "      <td>9</td>\n",
       "      <td>2008-08-01</td>\n",
       "      <td>2008-11-01</td>\n",
       "      <td>1050</td>\n",
       "      <td>2151</td>\n",
       "      <td>48.81</td>\n",
       "    </tr>\n",
       "    <tr>\n",
       "      <td>10</td>\n",
       "      <td>2008-08-01</td>\n",
       "      <td>2008-12-01</td>\n",
       "      <td>894</td>\n",
       "      <td>2151</td>\n",
       "      <td>41.56</td>\n",
       "    </tr>\n",
       "    <tr>\n",
       "      <td>11</td>\n",
       "      <td>2008-09-01</td>\n",
       "      <td>2008-09-01</td>\n",
       "      <td>7678</td>\n",
       "      <td>7678</td>\n",
       "      <td>100.00</td>\n",
       "    </tr>\n",
       "    <tr>\n",
       "      <td>12</td>\n",
       "      <td>2008-09-01</td>\n",
       "      <td>2008-10-01</td>\n",
       "      <td>4132</td>\n",
       "      <td>7678</td>\n",
       "      <td>53.82</td>\n",
       "    </tr>\n",
       "    <tr>\n",
       "      <td>13</td>\n",
       "      <td>2008-09-01</td>\n",
       "      <td>2008-11-01</td>\n",
       "      <td>2966</td>\n",
       "      <td>7678</td>\n",
       "      <td>38.63</td>\n",
       "    </tr>\n",
       "    <tr>\n",
       "      <td>14</td>\n",
       "      <td>2008-09-01</td>\n",
       "      <td>2008-12-01</td>\n",
       "      <td>2500</td>\n",
       "      <td>7678</td>\n",
       "      <td>32.56</td>\n",
       "    </tr>\n",
       "    <tr>\n",
       "      <td>15</td>\n",
       "      <td>2008-10-01</td>\n",
       "      <td>2008-10-01</td>\n",
       "      <td>3629</td>\n",
       "      <td>3629</td>\n",
       "      <td>100.00</td>\n",
       "    </tr>\n",
       "    <tr>\n",
       "      <td>16</td>\n",
       "      <td>2008-10-01</td>\n",
       "      <td>2008-11-01</td>\n",
       "      <td>1640</td>\n",
       "      <td>3629</td>\n",
       "      <td>45.19</td>\n",
       "    </tr>\n",
       "    <tr>\n",
       "      <td>17</td>\n",
       "      <td>2008-10-01</td>\n",
       "      <td>2008-12-01</td>\n",
       "      <td>1221</td>\n",
       "      <td>3629</td>\n",
       "      <td>33.65</td>\n",
       "    </tr>\n",
       "    <tr>\n",
       "      <td>18</td>\n",
       "      <td>2008-11-01</td>\n",
       "      <td>2008-11-01</td>\n",
       "      <td>2852</td>\n",
       "      <td>2852</td>\n",
       "      <td>100.00</td>\n",
       "    </tr>\n",
       "    <tr>\n",
       "      <td>19</td>\n",
       "      <td>2008-11-01</td>\n",
       "      <td>2008-12-01</td>\n",
       "      <td>1151</td>\n",
       "      <td>2852</td>\n",
       "      <td>40.36</td>\n",
       "    </tr>\n",
       "    <tr>\n",
       "      <td>20</td>\n",
       "      <td>2008-12-01</td>\n",
       "      <td>2008-12-01</td>\n",
       "      <td>2536</td>\n",
       "      <td>2536</td>\n",
       "      <td>100.00</td>\n",
       "    </tr>\n",
       "  </tbody>\n",
       "</table>\n",
       "</div>"
      ],
      "text/plain": [
       "   cohort_start session_month  cnt_user  cohort_size  retention\n",
       "0    2008-07-01    2008-07-01         3            3     100.00\n",
       "1    2008-07-01    2008-08-01         2            3      66.67\n",
       "2    2008-07-01    2008-09-01         1            3      33.33\n",
       "3    2008-07-01    2008-10-01         2            3      66.67\n",
       "4    2008-07-01    2008-11-01         1            3      33.33\n",
       "5    2008-07-01    2008-12-01         2            3      66.67\n",
       "6    2008-08-01    2008-08-01      2151         2151     100.00\n",
       "7    2008-08-01    2008-09-01      1571         2151      73.04\n",
       "8    2008-08-01    2008-10-01      1275         2151      59.27\n",
       "9    2008-08-01    2008-11-01      1050         2151      48.81\n",
       "10   2008-08-01    2008-12-01       894         2151      41.56\n",
       "11   2008-09-01    2008-09-01      7678         7678     100.00\n",
       "12   2008-09-01    2008-10-01      4132         7678      53.82\n",
       "13   2008-09-01    2008-11-01      2966         7678      38.63\n",
       "14   2008-09-01    2008-12-01      2500         7678      32.56\n",
       "15   2008-10-01    2008-10-01      3629         3629     100.00\n",
       "16   2008-10-01    2008-11-01      1640         3629      45.19\n",
       "17   2008-10-01    2008-12-01      1221         3629      33.65\n",
       "18   2008-11-01    2008-11-01      2852         2852     100.00\n",
       "19   2008-11-01    2008-12-01      1151         2852      40.36\n",
       "20   2008-12-01    2008-12-01      2536         2536     100.00"
      ]
     },
     "execution_count": 14,
     "metadata": {},
     "output_type": "execute_result"
    }
   ],
   "source": [
    "query = '''\n",
    "WITH \n",
    "profiles AS (SELECT user_id, MIN(DATE_TRUNC('month', creation_date)::date) as cohort_start\n",
    "FROM stackoverflow.posts\n",
    "GROUP BY user_id),\n",
    "cohort_size AS (SELECT cohort_start, COUNT(user_id) as cohort_size\n",
    "FROM profiles \n",
    "GROUP BY cohort_start\n",
    "ORDER BY cohort_start), \n",
    "sessions as (SELECT cohort_start, user_id, cohort_size, creation_date FROM profiles JOIN cohort_size USING(cohort_start) JOIN stackoverflow.posts USING (user_id))\n",
    "SELECT  cohort_start, \n",
    "        DATE_TRUNC('month',creation_date)::date as session_month, \n",
    "        COUNT(DISTINCT(user_id)) as cnt_user, \n",
    "        cohort_size,\n",
    "        ROUND(COUNT(DISTINCT(user_id))::numeric/cohort_size*100, 2) as retention\n",
    "FROM sessions\n",
    "GROUP BY cohort_start, DATE_TRUNC('month',creation_date)::date, cohort_size\n",
    "ORDER BY cohort_start, DATE_TRUNC('month',creation_date)::date\n",
    "'''\n",
    "retention = pd.read_sql_query(query, con=engine)\n",
    "retention"
   ]
  },
  {
   "cell_type": "code",
   "execution_count": 15,
   "metadata": {
    "id": "qAEJc8H1DWLC"
   },
   "outputs": [
    {
     "data": {
      "image/png": "[encoded data removed]",
      "text/plain": [
       "<Figure size 720x360 with 2 Axes>"
      ]
     },
     "metadata": {
      "needs_background": "light"
     },
     "output_type": "display_data"
    }
   ],
   "source": [
    "retention = retention.pivot('cohort_start', 'session_month', 'retention')\n",
    "retention.index = [str(x)[0:10] for x in retention.index]\n",
    "retention.columns = [str(x)[0:10] for x in retention.columns]\n",
    "\n",
    "plt.figure(figsize=(10,5)) \n",
    "sns.heatmap(retention, \n",
    "            annot=True, \n",
    "            fmt='') \n",
    "plt.title('Тепловая карта')\n",
    "plt.show() "
   ]
  },
  {
   "cell_type": "markdown",
   "metadata": {
    "id": "1k7oPWt5DWLK"
   },
   "source": [
    "#  9\n"
   ]
  },
  {
   "cell_type": "markdown",
   "metadata": {
    "id": "ALsYVSyRDWLM"
   },
   "source": [
    "By what percent did the number of posts change monthly from September 1 to December 31, 2008? Display a table with the following fields:\n",
    "\n",
    "- month number;\n",
    "- the number of posts per month;\n",
    "- a percentage that shows how much the number of posts in the current month has changed compared to the previous one."
   ]
  },
  {
   "cell_type": "code",
   "execution_count": 16,
   "metadata": {
    "id": "Mb5pShStDWLN"
   },
   "outputs": [
    {
     "data": {
      "text/html": [
       "<div>\n",
       "<style scoped>\n",
       "    .dataframe tbody tr th:only-of-type {\n",
       "        vertical-align: middle;\n",
       "    }\n",
       "\n",
       "    .dataframe tbody tr th {\n",
       "        vertical-align: top;\n",
       "    }\n",
       "\n",
       "    .dataframe thead th {\n",
       "        text-align: right;\n",
       "    }\n",
       "</style>\n",
       "<table border=\"1\" class=\"dataframe\">\n",
       "  <thead>\n",
       "    <tr style=\"text-align: right;\">\n",
       "      <th></th>\n",
       "      <th>total_posts</th>\n",
       "      <th>percent</th>\n",
       "    </tr>\n",
       "    <tr>\n",
       "      <th>month</th>\n",
       "      <th></th>\n",
       "      <th></th>\n",
       "    </tr>\n",
       "  </thead>\n",
       "  <tbody>\n",
       "    <tr>\n",
       "      <td>9</td>\n",
       "      <td>70371</td>\n",
       "      <td>NaN</td>\n",
       "    </tr>\n",
       "    <tr>\n",
       "      <td>10</td>\n",
       "      <td>63102</td>\n",
       "      <td>-10.33</td>\n",
       "    </tr>\n",
       "    <tr>\n",
       "      <td>11</td>\n",
       "      <td>46975</td>\n",
       "      <td>-25.56</td>\n",
       "    </tr>\n",
       "    <tr>\n",
       "      <td>12</td>\n",
       "      <td>44592</td>\n",
       "      <td>-5.07</td>\n",
       "    </tr>\n",
       "  </tbody>\n",
       "</table>\n",
       "</div>"
      ],
      "text/plain": [
       "       total_posts  percent\n",
       "month                      \n",
       "9            70371      NaN\n",
       "10           63102   -10.33\n",
       "11           46975   -25.56\n",
       "12           44592    -5.07"
      ]
     },
     "execution_count": 16,
     "metadata": {},
     "output_type": "execute_result"
    }
   ],
   "source": [
    "# напишите запрос\n",
    "query = '''\n",
    "WITH \n",
    "a AS (SELECT EXTRACT(month from creation_date)::int as month, \n",
    "             COUNT(*) as total_posts\n",
    "      FROM stackoverflow.posts\n",
    "      WHERE EXTRACT(YEAR from creation_date) = 2008 AND EXTRACT(MONTH from creation_date) IN (9,10,11,12)\n",
    "      GROUP BY EXTRACT(month from creation_date))\n",
    "      \n",
    "SELECT *, \n",
    "       ROUND((total_posts::numeric/LAG(total_posts) OVER() - 1)*100, 2) as percent\n",
    "FROM a\n",
    "\n",
    "'''\n",
    "pie = pd.read_sql_query(query, con=engine).set_index('month')\n",
    "pie\n",
    "# выполните запрос"
   ]
  },
  {
   "cell_type": "code",
   "execution_count": 17,
   "metadata": {},
   "outputs": [
    {
     "data": {
      "text/plain": [
       "<matplotlib.axes._subplots.AxesSubplot at 0x223f73a7208>"
      ]
     },
     "execution_count": 17,
     "metadata": {},
     "output_type": "execute_result"
    },
    {
     "data": {
      "image/png": "[encoded data removed]",
      "text/plain": [
       "<Figure size 360x360 with 1 Axes>"
      ]
     },
     "metadata": {},
     "output_type": "display_data"
    }
   ],
   "source": [
    "labels=['september','october','november','december']\n",
    "explode=(0.1,0.1,0.1,0.1)\n",
    "pie.plot.pie(y='total_posts', figsize=(5, 5), title=\"Posts by months\", \n",
    "             labels = labels, legend = False, explode = explode, autopct='%1.1f%%', startangle=90)"
   ]
  },
  {
   "cell_type": "markdown",
   "metadata": {
    "id": "uw7qMtafDWLP"
   },
   "source": [
    "# 10"
   ]
  },
  {
   "cell_type": "markdown",
   "metadata": {
    "id": "oRBpWKx3DWLQ"
   },
   "source": [
    "Download the activity data of the user who posted the most posts of all time. Output the data for October 2008 :\n",
    "- week number;\n",
    "- date and time of the last post published this week."
   ]
  },
  {
   "cell_type": "code",
   "execution_count": 18,
   "metadata": {
    "id": "r5F5fSkwDWLQ"
   },
   "outputs": [
    {
     "data": {
      "text/html": [
       "<div>\n",
       "<style scoped>\n",
       "    .dataframe tbody tr th:only-of-type {\n",
       "        vertical-align: middle;\n",
       "    }\n",
       "\n",
       "    .dataframe tbody tr th {\n",
       "        vertical-align: top;\n",
       "    }\n",
       "\n",
       "    .dataframe thead th {\n",
       "        text-align: right;\n",
       "    }\n",
       "</style>\n",
       "<table border=\"1\" class=\"dataframe\">\n",
       "  <thead>\n",
       "    <tr style=\"text-align: right;\">\n",
       "      <th></th>\n",
       "      <th>max</th>\n",
       "    </tr>\n",
       "    <tr>\n",
       "      <th>week</th>\n",
       "      <th></th>\n",
       "    </tr>\n",
       "  </thead>\n",
       "  <tbody>\n",
       "    <tr>\n",
       "      <td>40</td>\n",
       "      <td>2008-10-05 09:00:58</td>\n",
       "    </tr>\n",
       "    <tr>\n",
       "      <td>41</td>\n",
       "      <td>2008-10-12 21:22:23</td>\n",
       "    </tr>\n",
       "    <tr>\n",
       "      <td>42</td>\n",
       "      <td>2008-10-19 06:49:30</td>\n",
       "    </tr>\n",
       "    <tr>\n",
       "      <td>43</td>\n",
       "      <td>2008-10-26 21:44:36</td>\n",
       "    </tr>\n",
       "    <tr>\n",
       "      <td>44</td>\n",
       "      <td>2008-10-31 22:16:01</td>\n",
       "    </tr>\n",
       "  </tbody>\n",
       "</table>\n",
       "</div>"
      ],
      "text/plain": [
       "                     max\n",
       "week                    \n",
       "40   2008-10-05 09:00:58\n",
       "41   2008-10-12 21:22:23\n",
       "42   2008-10-19 06:49:30\n",
       "43   2008-10-26 21:44:36\n",
       "44   2008-10-31 22:16:01"
      ]
     },
     "execution_count": 18,
     "metadata": {},
     "output_type": "execute_result"
    }
   ],
   "source": [
    "# напишите запрос\n",
    "query = '''\n",
    "WITH \n",
    "a AS (SELECT user_id, \n",
    "             COUNT(*) \n",
    "      FROM stackoverflow.posts\n",
    "      GROUP BY user_id\n",
    "      ORDER BY COUNT(*) DESC\n",
    "      LIMIT 1)\n",
    "\n",
    "      \n",
    "SELECT DISTINCT EXTRACT(WEEK FROM creation_date)::int as week, \n",
    "       MAX(creation_date) OVER (PARTITION BY EXTRACT(WEEK FROM creation_date))\n",
    "FROM stackoverflow.posts \n",
    "WHERE user_id = (SELECT user_id FROM a) AND creation_date::varchar LIKE '2008-10-%%'\n",
    "ORDER BY week\n",
    "'''\n",
    "pd.read_sql_query(query, con=engine).set_index('week')\n"
   ]
  }
 ],
 "metadata": {
  "ExecuteTimeLog": [
   {
    "duration": 941,
    "start_time": "2022-06-03T08:10:13.716Z"
   },
   {
    "duration": 3,
    "start_time": "2022-06-03T08:10:25.563Z"
   },
   {
    "duration": 4253,
    "start_time": "2022-06-03T08:10:29.907Z"
   },
   {
    "duration": 52,
    "start_time": "2022-06-03T08:10:36.666Z"
   },
   {
    "duration": 19,
    "start_time": "2022-06-03T08:10:38.814Z"
   },
   {
    "duration": 162,
    "start_time": "2022-06-03T08:20:43.724Z"
   },
   {
    "duration": 69,
    "start_time": "2022-06-03T08:21:48.745Z"
   },
   {
    "duration": 71,
    "start_time": "2022-06-03T08:22:06.793Z"
   },
   {
    "duration": 68,
    "start_time": "2022-06-03T08:22:50.396Z"
   },
   {
    "duration": 79,
    "start_time": "2022-06-03T08:22:59.139Z"
   },
   {
    "duration": 65,
    "start_time": "2022-06-03T08:23:40.604Z"
   },
   {
    "duration": 73,
    "start_time": "2022-06-03T08:23:46.487Z"
   },
   {
    "duration": 172,
    "start_time": "2022-06-03T08:23:55.552Z"
   },
   {
    "duration": 133,
    "start_time": "2022-06-03T08:24:19.369Z"
   },
   {
    "duration": 163,
    "start_time": "2022-06-03T08:24:30.454Z"
   },
   {
    "duration": 164,
    "start_time": "2022-06-03T08:24:39.521Z"
   },
   {
    "duration": 158,
    "start_time": "2022-06-03T08:26:00.351Z"
   },
   {
    "duration": 205,
    "start_time": "2022-06-03T08:26:05.143Z"
   },
   {
    "duration": 153,
    "start_time": "2022-06-03T08:26:12.727Z"
   },
   {
    "duration": 150,
    "start_time": "2022-06-03T08:26:25.495Z"
   },
   {
    "duration": 150,
    "start_time": "2022-06-03T08:27:21.743Z"
   },
   {
    "duration": 149,
    "start_time": "2022-06-03T08:27:40.158Z"
   },
   {
    "duration": 39,
    "start_time": "2022-06-03T08:28:02.735Z"
   },
   {
    "duration": 249,
    "start_time": "2022-06-03T08:28:08.488Z"
   },
   {
    "duration": 147,
    "start_time": "2022-06-03T08:28:20.182Z"
   },
   {
    "duration": 160,
    "start_time": "2022-06-03T08:28:23.917Z"
   },
   {
    "duration": 155,
    "start_time": "2022-06-03T08:32:27.336Z"
   },
   {
    "duration": 148,
    "start_time": "2022-06-03T08:32:48.134Z"
   },
   {
    "duration": 145,
    "start_time": "2022-06-03T08:33:18.958Z"
   },
   {
    "duration": 162,
    "start_time": "2022-06-03T08:34:02.036Z"
   },
   {
    "duration": 37,
    "start_time": "2022-06-03T08:37:28.680Z"
   },
   {
    "duration": 29,
    "start_time": "2022-06-03T08:37:50.936Z"
   },
   {
    "duration": 76,
    "start_time": "2022-06-03T08:38:36.724Z"
   },
   {
    "duration": 180,
    "start_time": "2022-06-03T08:39:10.125Z"
   },
   {
    "duration": 232,
    "start_time": "2022-06-03T08:39:22.379Z"
   },
   {
    "duration": 876,
    "start_time": "2022-06-03T08:39:54.016Z"
   },
   {
    "duration": 5,
    "start_time": "2022-06-03T08:39:54.896Z"
   },
   {
    "duration": 76,
    "start_time": "2022-06-03T08:39:54.903Z"
   },
   {
    "duration": 63,
    "start_time": "2022-06-03T08:39:54.982Z"
   },
   {
    "duration": 23,
    "start_time": "2022-06-03T08:39:55.051Z"
   },
   {
    "duration": 82,
    "start_time": "2022-06-03T08:39:55.076Z"
   },
   {
    "duration": 185,
    "start_time": "2022-06-03T08:39:55.159Z"
   },
   {
    "duration": 33,
    "start_time": "2022-06-03T08:39:55.347Z"
   },
   {
    "duration": 3,
    "start_time": "2022-06-03T08:39:55.382Z"
   },
   {
    "duration": 11,
    "start_time": "2022-06-03T08:39:55.387Z"
   },
   {
    "duration": 6,
    "start_time": "2022-06-03T08:39:55.400Z"
   },
   {
    "duration": 6,
    "start_time": "2022-06-03T08:39:55.407Z"
   },
   {
    "duration": 11,
    "start_time": "2022-06-03T08:39:55.415Z"
   },
   {
    "duration": 4,
    "start_time": "2022-06-03T08:39:55.430Z"
   },
   {
    "duration": 5,
    "start_time": "2022-06-03T08:39:55.436Z"
   },
   {
    "duration": 5,
    "start_time": "2022-06-03T08:39:55.443Z"
   },
   {
    "duration": 7,
    "start_time": "2022-06-03T08:39:55.450Z"
   },
   {
    "duration": 5,
    "start_time": "2022-06-03T08:39:55.459Z"
   },
   {
    "duration": 6,
    "start_time": "2022-06-03T08:39:55.466Z"
   },
   {
    "duration": 7,
    "start_time": "2022-06-03T08:39:55.474Z"
   },
   {
    "duration": 4,
    "start_time": "2022-06-03T08:39:55.483Z"
   },
   {
    "duration": 37,
    "start_time": "2022-06-03T08:39:55.489Z"
   },
   {
    "duration": 6,
    "start_time": "2022-06-03T08:39:55.529Z"
   },
   {
    "duration": 161,
    "start_time": "2022-06-03T08:40:19.212Z"
   },
   {
    "duration": 201,
    "start_time": "2022-06-03T08:40:34.327Z"
   },
   {
    "duration": 320,
    "start_time": "2022-06-03T08:40:48.082Z"
   },
   {
    "duration": 170,
    "start_time": "2022-06-03T08:40:56.958Z"
   },
   {
    "duration": 239,
    "start_time": "2022-06-03T08:41:26.160Z"
   },
   {
    "duration": 158,
    "start_time": "2022-06-03T08:41:42.430Z"
   },
   {
    "duration": 770,
    "start_time": "2022-06-03T08:41:48.278Z"
   },
   {
    "duration": 4,
    "start_time": "2022-06-03T08:41:49.050Z"
   },
   {
    "duration": 77,
    "start_time": "2022-06-03T08:41:49.056Z"
   },
   {
    "duration": 73,
    "start_time": "2022-06-03T08:41:49.136Z"
   },
   {
    "duration": 21,
    "start_time": "2022-06-03T08:41:49.211Z"
   },
   {
    "duration": 74,
    "start_time": "2022-06-03T08:41:49.235Z"
   },
   {
    "duration": 188,
    "start_time": "2022-06-03T08:41:49.311Z"
   },
   {
    "duration": 30,
    "start_time": "2022-06-03T08:41:49.500Z"
   },
   {
    "duration": 17,
    "start_time": "2022-06-03T08:41:49.532Z"
   },
   {
    "duration": 28,
    "start_time": "2022-06-03T08:41:49.552Z"
   },
   {
    "duration": 22,
    "start_time": "2022-06-03T08:41:49.581Z"
   },
   {
    "duration": 28,
    "start_time": "2022-06-03T08:41:49.605Z"
   },
   {
    "duration": 25,
    "start_time": "2022-06-03T08:41:49.634Z"
   },
   {
    "duration": 38,
    "start_time": "2022-06-03T08:41:49.660Z"
   },
   {
    "duration": 35,
    "start_time": "2022-06-03T08:41:49.700Z"
   },
   {
    "duration": 16,
    "start_time": "2022-06-03T08:41:49.737Z"
   },
   {
    "duration": 15,
    "start_time": "2022-06-03T08:41:49.754Z"
   },
   {
    "duration": 36,
    "start_time": "2022-06-03T08:41:49.771Z"
   },
   {
    "duration": 24,
    "start_time": "2022-06-03T08:41:49.809Z"
   },
   {
    "duration": 16,
    "start_time": "2022-06-03T08:41:49.835Z"
   },
   {
    "duration": 29,
    "start_time": "2022-06-03T08:41:49.852Z"
   },
   {
    "duration": 22,
    "start_time": "2022-06-03T08:41:49.883Z"
   },
   {
    "duration": 23,
    "start_time": "2022-06-03T08:41:49.907Z"
   },
   {
    "duration": 7,
    "start_time": "2022-06-03T08:42:41.142Z"
   },
   {
    "duration": 8,
    "start_time": "2022-06-03T08:43:02.748Z"
   },
   {
    "duration": 136,
    "start_time": "2022-06-03T08:43:13.613Z"
   },
   {
    "duration": 186,
    "start_time": "2022-06-03T08:44:02.831Z"
   },
   {
    "duration": 857,
    "start_time": "2022-06-03T08:44:34.641Z"
   },
   {
    "duration": 5,
    "start_time": "2022-06-03T08:44:35.500Z"
   },
   {
    "duration": 60,
    "start_time": "2022-06-03T08:44:35.507Z"
   },
   {
    "duration": 60,
    "start_time": "2022-06-03T08:44:35.570Z"
   },
   {
    "duration": 14,
    "start_time": "2022-06-03T08:44:35.631Z"
   },
   {
    "duration": 85,
    "start_time": "2022-06-03T08:44:35.647Z"
   },
   {
    "duration": 167,
    "start_time": "2022-06-03T08:44:35.734Z"
   },
   {
    "duration": 29,
    "start_time": "2022-06-03T08:44:35.903Z"
   },
   {
    "duration": 2,
    "start_time": "2022-06-03T08:44:35.934Z"
   },
   {
    "duration": 27,
    "start_time": "2022-06-03T08:44:35.939Z"
   },
   {
    "duration": 19,
    "start_time": "2022-06-03T08:44:35.968Z"
   },
   {
    "duration": 36,
    "start_time": "2022-06-03T08:44:35.989Z"
   },
   {
    "duration": 14,
    "start_time": "2022-06-03T08:44:36.027Z"
   },
   {
    "duration": 13,
    "start_time": "2022-06-03T08:44:36.043Z"
   },
   {
    "duration": 27,
    "start_time": "2022-06-03T08:44:36.058Z"
   },
   {
    "duration": 14,
    "start_time": "2022-06-03T08:44:36.087Z"
   },
   {
    "duration": 32,
    "start_time": "2022-06-03T08:44:36.103Z"
   },
   {
    "duration": 12,
    "start_time": "2022-06-03T08:44:36.137Z"
   },
   {
    "duration": 20,
    "start_time": "2022-06-03T08:44:36.151Z"
   },
   {
    "duration": 17,
    "start_time": "2022-06-03T08:44:36.173Z"
   },
   {
    "duration": 22,
    "start_time": "2022-06-03T08:44:36.191Z"
   },
   {
    "duration": 33,
    "start_time": "2022-06-03T08:44:36.215Z"
   },
   {
    "duration": 18,
    "start_time": "2022-06-03T08:44:36.249Z"
   },
   {
    "duration": 150,
    "start_time": "2022-06-03T08:45:06.749Z"
   },
   {
    "duration": 6,
    "start_time": "2022-06-03T08:45:28.629Z"
   },
   {
    "duration": 8,
    "start_time": "2022-06-03T08:45:39.894Z"
   },
   {
    "duration": 133,
    "start_time": "2022-06-03T08:45:48.638Z"
   },
   {
    "duration": 8,
    "start_time": "2022-06-03T08:45:56.079Z"
   },
   {
    "duration": 8,
    "start_time": "2022-06-03T08:46:11.294Z"
   },
   {
    "duration": 177,
    "start_time": "2022-06-03T08:46:15.830Z"
   },
   {
    "duration": 182,
    "start_time": "2022-06-03T08:46:40.518Z"
   },
   {
    "duration": 29,
    "start_time": "2022-06-03T08:47:07.388Z"
   },
   {
    "duration": 3,
    "start_time": "2022-06-03T09:11:07.010Z"
   },
   {
    "duration": 126,
    "start_time": "2022-06-03T09:11:22.303Z"
   },
   {
    "duration": 143,
    "start_time": "2022-06-03T09:11:47.636Z"
   },
   {
    "duration": 126,
    "start_time": "2022-06-03T09:12:10.531Z"
   },
   {
    "duration": 94,
    "start_time": "2022-06-03T09:12:24.313Z"
   },
   {
    "duration": 10,
    "start_time": "2022-06-03T09:12:45.617Z"
   },
   {
    "duration": 7,
    "start_time": "2022-06-03T09:12:51.544Z"
   },
   {
    "duration": 114,
    "start_time": "2022-06-03T09:14:07.826Z"
   },
   {
    "duration": 13,
    "start_time": "2022-06-03T09:19:45.620Z"
   },
   {
    "duration": 83,
    "start_time": "2022-06-03T09:37:26.665Z"
   },
   {
    "duration": 49,
    "start_time": "2022-06-03T09:38:26.895Z"
   },
   {
    "duration": 835,
    "start_time": "2022-06-03T09:38:33.065Z"
   },
   {
    "duration": 4,
    "start_time": "2022-06-03T09:38:33.902Z"
   },
   {
    "duration": 99,
    "start_time": "2022-06-03T09:38:33.908Z"
   },
   {
    "duration": 68,
    "start_time": "2022-06-03T09:38:34.009Z"
   },
   {
    "duration": 17,
    "start_time": "2022-06-03T09:38:34.080Z"
   },
   {
    "duration": 1696,
    "start_time": "2022-06-03T09:38:34.099Z"
   },
   {
    "duration": 188,
    "start_time": "2022-06-03T09:38:35.797Z"
   },
   {
    "duration": 30,
    "start_time": "2022-06-03T09:38:35.987Z"
   },
   {
    "duration": 7059,
    "start_time": "2022-06-03T09:38:36.019Z"
   },
   {
    "duration": 11,
    "start_time": "2022-06-03T09:38:43.080Z"
   },
   {
    "duration": 106,
    "start_time": "2022-06-03T09:38:43.092Z"
   },
   {
    "duration": 0,
    "start_time": "2022-06-03T09:38:43.201Z"
   },
   {
    "duration": 0,
    "start_time": "2022-06-03T09:38:43.202Z"
   },
   {
    "duration": 0,
    "start_time": "2022-06-03T09:38:43.203Z"
   },
   {
    "duration": 0,
    "start_time": "2022-06-03T09:38:43.205Z"
   },
   {
    "duration": 0,
    "start_time": "2022-06-03T09:38:43.206Z"
   },
   {
    "duration": 0,
    "start_time": "2022-06-03T09:38:43.207Z"
   },
   {
    "duration": 0,
    "start_time": "2022-06-03T09:38:43.208Z"
   },
   {
    "duration": 0,
    "start_time": "2022-06-03T09:38:43.209Z"
   },
   {
    "duration": 0,
    "start_time": "2022-06-03T09:38:43.225Z"
   },
   {
    "duration": 0,
    "start_time": "2022-06-03T09:38:43.226Z"
   },
   {
    "duration": 0,
    "start_time": "2022-06-03T09:38:43.227Z"
   },
   {
    "duration": 0,
    "start_time": "2022-06-03T09:38:43.229Z"
   },
   {
    "duration": 23,
    "start_time": "2022-06-03T09:39:28.728Z"
   },
   {
    "duration": 57,
    "start_time": "2022-06-03T09:39:46.519Z"
   },
   {
    "duration": 166,
    "start_time": "2022-06-03T09:40:12.419Z"
   },
   {
    "duration": 72,
    "start_time": "2022-06-03T09:41:39.095Z"
   },
   {
    "duration": 78,
    "start_time": "2022-06-03T09:41:50.080Z"
   },
   {
    "duration": 822,
    "start_time": "2022-06-03T09:42:47.699Z"
   },
   {
    "duration": 4,
    "start_time": "2022-06-03T09:42:48.523Z"
   },
   {
    "duration": 52,
    "start_time": "2022-06-03T09:42:48.529Z"
   },
   {
    "duration": 51,
    "start_time": "2022-06-03T09:42:48.584Z"
   },
   {
    "duration": 15,
    "start_time": "2022-06-03T09:42:48.637Z"
   },
   {
    "duration": 102,
    "start_time": "2022-06-03T09:42:48.653Z"
   },
   {
    "duration": 174,
    "start_time": "2022-06-03T09:42:48.757Z"
   },
   {
    "duration": 29,
    "start_time": "2022-06-03T09:42:48.932Z"
   },
   {
    "duration": 990,
    "start_time": "2022-06-03T09:42:48.962Z"
   },
   {
    "duration": 12,
    "start_time": "2022-06-03T09:42:49.954Z"
   },
   {
    "duration": 115,
    "start_time": "2022-06-03T09:42:49.968Z"
   },
   {
    "duration": 0,
    "start_time": "2022-06-03T09:42:50.085Z"
   },
   {
    "duration": 0,
    "start_time": "2022-06-03T09:42:50.086Z"
   },
   {
    "duration": 0,
    "start_time": "2022-06-03T09:42:50.088Z"
   },
   {
    "duration": 0,
    "start_time": "2022-06-03T09:42:50.089Z"
   },
   {
    "duration": 0,
    "start_time": "2022-06-03T09:42:50.090Z"
   },
   {
    "duration": 0,
    "start_time": "2022-06-03T09:42:50.091Z"
   },
   {
    "duration": 0,
    "start_time": "2022-06-03T09:42:50.092Z"
   },
   {
    "duration": 0,
    "start_time": "2022-06-03T09:42:50.095Z"
   },
   {
    "duration": 0,
    "start_time": "2022-06-03T09:42:50.096Z"
   },
   {
    "duration": 0,
    "start_time": "2022-06-03T09:42:50.097Z"
   },
   {
    "duration": 0,
    "start_time": "2022-06-03T09:42:50.098Z"
   },
   {
    "duration": 0,
    "start_time": "2022-06-03T09:42:50.099Z"
   },
   {
    "duration": 838,
    "start_time": "2022-06-03T09:43:27.497Z"
   },
   {
    "duration": 4,
    "start_time": "2022-06-03T09:43:28.337Z"
   },
   {
    "duration": 44,
    "start_time": "2022-06-03T09:43:28.343Z"
   },
   {
    "duration": 55,
    "start_time": "2022-06-03T09:43:28.390Z"
   },
   {
    "duration": 14,
    "start_time": "2022-06-03T09:43:28.447Z"
   },
   {
    "duration": 1174,
    "start_time": "2022-06-03T09:43:28.463Z"
   },
   {
    "duration": 188,
    "start_time": "2022-06-03T09:43:29.639Z"
   },
   {
    "duration": 31,
    "start_time": "2022-06-03T09:43:29.829Z"
   },
   {
    "duration": 106,
    "start_time": "2022-06-03T09:43:29.861Z"
   },
   {
    "duration": 0,
    "start_time": "2022-06-03T09:43:29.969Z"
   },
   {
    "duration": 0,
    "start_time": "2022-06-03T09:43:29.970Z"
   },
   {
    "duration": 0,
    "start_time": "2022-06-03T09:43:29.971Z"
   },
   {
    "duration": 0,
    "start_time": "2022-06-03T09:43:29.972Z"
   },
   {
    "duration": 0,
    "start_time": "2022-06-03T09:43:29.974Z"
   },
   {
    "duration": 0,
    "start_time": "2022-06-03T09:43:29.975Z"
   },
   {
    "duration": 0,
    "start_time": "2022-06-03T09:43:29.976Z"
   },
   {
    "duration": 0,
    "start_time": "2022-06-03T09:43:29.977Z"
   },
   {
    "duration": 0,
    "start_time": "2022-06-03T09:43:29.979Z"
   },
   {
    "duration": 0,
    "start_time": "2022-06-03T09:43:29.979Z"
   },
   {
    "duration": 0,
    "start_time": "2022-06-03T09:43:29.981Z"
   },
   {
    "duration": 0,
    "start_time": "2022-06-03T09:43:29.981Z"
   },
   {
    "duration": 0,
    "start_time": "2022-06-03T09:43:29.983Z"
   },
   {
    "duration": 0,
    "start_time": "2022-06-03T09:43:29.984Z"
   },
   {
    "duration": 0,
    "start_time": "2022-06-03T09:43:29.985Z"
   },
   {
    "duration": 145,
    "start_time": "2022-06-03T09:44:20.011Z"
   },
   {
    "duration": 66,
    "start_time": "2022-06-03T09:44:26.163Z"
   },
   {
    "duration": 137,
    "start_time": "2022-06-03T09:45:31.138Z"
   },
   {
    "duration": 3059,
    "start_time": "2022-06-03T09:46:22.329Z"
   },
   {
    "duration": 133,
    "start_time": "2022-06-03T09:54:33.935Z"
   },
   {
    "duration": 192,
    "start_time": "2022-06-03T09:56:18.723Z"
   },
   {
    "duration": 1271,
    "start_time": "2022-06-03T10:00:46.863Z"
   },
   {
    "duration": 1285,
    "start_time": "2022-06-03T10:02:54.592Z"
   },
   {
    "duration": 1318,
    "start_time": "2022-06-03T10:03:22.559Z"
   },
   {
    "duration": 1160,
    "start_time": "2022-06-03T10:04:06.182Z"
   },
   {
    "duration": 1263,
    "start_time": "2022-06-03T10:04:11.500Z"
   },
   {
    "duration": 1308,
    "start_time": "2022-06-03T10:04:28.444Z"
   },
   {
    "duration": 1282,
    "start_time": "2022-06-03T10:04:54.544Z"
   },
   {
    "duration": 59,
    "start_time": "2022-06-03T10:29:02.554Z"
   },
   {
    "duration": 77,
    "start_time": "2022-06-03T10:29:08.496Z"
   },
   {
    "duration": 72,
    "start_time": "2022-06-03T10:29:20.706Z"
   },
   {
    "duration": 1174,
    "start_time": "2022-06-03T10:29:32.751Z"
   },
   {
    "duration": 76,
    "start_time": "2022-06-03T10:33:30.706Z"
   },
   {
    "duration": 4,
    "start_time": "2022-06-03T10:42:11.577Z"
   },
   {
    "duration": 74,
    "start_time": "2022-06-03T10:42:29.034Z"
   },
   {
    "duration": 59,
    "start_time": "2022-06-03T10:42:58.377Z"
   },
   {
    "duration": 91,
    "start_time": "2022-06-03T10:43:40.507Z"
   },
   {
    "duration": 72,
    "start_time": "2022-06-03T10:45:15.264Z"
   },
   {
    "duration": 90,
    "start_time": "2022-06-03T10:45:22.886Z"
   },
   {
    "duration": 92,
    "start_time": "2022-06-03T10:45:29.837Z"
   },
   {
    "duration": 90,
    "start_time": "2022-06-03T10:45:37.221Z"
   },
   {
    "duration": 59,
    "start_time": "2022-06-03T10:46:28.615Z"
   },
   {
    "duration": 91,
    "start_time": "2022-06-03T10:46:50.123Z"
   },
   {
    "duration": 801,
    "start_time": "2022-06-03T10:50:59.827Z"
   },
   {
    "duration": 3,
    "start_time": "2022-06-03T10:51:00.630Z"
   },
   {
    "duration": 51,
    "start_time": "2022-06-03T10:51:00.635Z"
   },
   {
    "duration": 60,
    "start_time": "2022-06-03T10:51:00.688Z"
   },
   {
    "duration": 16,
    "start_time": "2022-06-03T10:51:00.749Z"
   },
   {
    "duration": 84,
    "start_time": "2022-06-03T10:51:00.767Z"
   },
   {
    "duration": 172,
    "start_time": "2022-06-03T10:51:00.853Z"
   },
   {
    "duration": 29,
    "start_time": "2022-06-03T10:51:01.027Z"
   },
   {
    "duration": 129,
    "start_time": "2022-06-03T10:51:01.058Z"
   },
   {
    "duration": 11,
    "start_time": "2022-06-03T10:51:01.189Z"
   },
   {
    "duration": 146,
    "start_time": "2022-06-03T10:51:01.201Z"
   },
   {
    "duration": 190,
    "start_time": "2022-06-03T10:51:01.349Z"
   },
   {
    "duration": 1213,
    "start_time": "2022-06-03T10:51:01.541Z"
   },
   {
    "duration": 79,
    "start_time": "2022-06-03T10:51:02.756Z"
   },
   {
    "duration": 3,
    "start_time": "2022-06-03T10:51:02.836Z"
   },
   {
    "duration": 8,
    "start_time": "2022-06-03T10:51:02.840Z"
   },
   {
    "duration": 8,
    "start_time": "2022-06-03T10:51:02.850Z"
   },
   {
    "duration": 4,
    "start_time": "2022-06-03T10:51:02.860Z"
   },
   {
    "duration": 5,
    "start_time": "2022-06-03T10:51:02.866Z"
   },
   {
    "duration": 6,
    "start_time": "2022-06-03T10:51:02.873Z"
   },
   {
    "duration": 5,
    "start_time": "2022-06-03T10:51:02.880Z"
   },
   {
    "duration": 5,
    "start_time": "2022-06-03T10:51:02.887Z"
   },
   {
    "duration": 91,
    "start_time": "2022-06-03T10:51:02.894Z"
   },
   {
    "duration": 93,
    "start_time": "2022-06-03T10:51:43.230Z"
   },
   {
    "duration": 69,
    "start_time": "2022-06-03T11:03:49.352Z"
   },
   {
    "duration": 75,
    "start_time": "2022-06-03T11:04:30.389Z"
   },
   {
    "duration": 70,
    "start_time": "2022-06-03T11:04:44.525Z"
   },
   {
    "duration": 156,
    "start_time": "2022-06-03T11:05:39.488Z"
   },
   {
    "duration": 72,
    "start_time": "2022-06-03T11:05:44.828Z"
   },
   {
    "duration": 74,
    "start_time": "2022-06-03T11:06:14.397Z"
   },
   {
    "duration": 161,
    "start_time": "2022-06-03T11:06:20.813Z"
   },
   {
    "duration": 10,
    "start_time": "2022-06-03T11:06:30.989Z"
   },
   {
    "duration": 1670,
    "start_time": "2022-06-03T11:07:41.460Z"
   },
   {
    "duration": 165,
    "start_time": "2022-06-03T11:07:51.812Z"
   },
   {
    "duration": 160,
    "start_time": "2022-06-03T11:10:54.294Z"
   },
   {
    "duration": 162,
    "start_time": "2022-06-03T11:11:14.103Z"
   },
   {
    "duration": 9,
    "start_time": "2022-06-03T11:13:08.860Z"
   },
   {
    "duration": 192,
    "start_time": "2022-06-03T11:13:26.499Z"
   },
   {
    "duration": 166,
    "start_time": "2022-06-03T11:15:22.588Z"
   },
   {
    "duration": 177,
    "start_time": "2022-06-03T11:16:38.276Z"
   },
   {
    "duration": 135,
    "start_time": "2022-06-03T11:17:07.460Z"
   },
   {
    "duration": 93,
    "start_time": "2022-06-03T11:17:09.994Z"
   },
   {
    "duration": 87,
    "start_time": "2022-06-03T11:17:49.717Z"
   },
   {
    "duration": 98,
    "start_time": "2022-06-03T11:18:01.283Z"
   },
   {
    "duration": 106,
    "start_time": "2022-06-03T11:19:03.866Z"
   },
   {
    "duration": 154,
    "start_time": "2022-06-03T11:19:34.147Z"
   },
   {
    "duration": 134,
    "start_time": "2022-06-03T11:20:58.692Z"
   },
   {
    "duration": 104,
    "start_time": "2022-06-03T11:22:37.298Z"
   },
   {
    "duration": 109,
    "start_time": "2022-06-03T11:22:56.268Z"
   },
   {
    "duration": 70,
    "start_time": "2022-06-03T11:24:22.454Z"
   },
   {
    "duration": 49,
    "start_time": "2022-06-03T11:28:14.146Z"
   },
   {
    "duration": 33,
    "start_time": "2022-06-03T11:28:19.163Z"
   },
   {
    "duration": 35,
    "start_time": "2022-06-03T11:28:31.871Z"
   },
   {
    "duration": 34,
    "start_time": "2022-06-03T11:28:38.976Z"
   },
   {
    "duration": 34,
    "start_time": "2022-06-03T11:28:49.115Z"
   },
   {
    "duration": 792,
    "start_time": "2022-06-03T11:35:46.643Z"
   },
   {
    "duration": 3,
    "start_time": "2022-06-03T11:35:47.438Z"
   },
   {
    "duration": 86,
    "start_time": "2022-06-03T11:35:47.442Z"
   },
   {
    "duration": 63,
    "start_time": "2022-06-03T11:35:47.531Z"
   },
   {
    "duration": 20,
    "start_time": "2022-06-03T11:35:47.596Z"
   },
   {
    "duration": 73,
    "start_time": "2022-06-03T11:35:47.618Z"
   },
   {
    "duration": 176,
    "start_time": "2022-06-03T11:35:47.693Z"
   },
   {
    "duration": 28,
    "start_time": "2022-06-03T11:35:47.870Z"
   },
   {
    "duration": 129,
    "start_time": "2022-06-03T11:35:47.900Z"
   },
   {
    "duration": 11,
    "start_time": "2022-06-03T11:35:48.031Z"
   },
   {
    "duration": 131,
    "start_time": "2022-06-03T11:35:48.044Z"
   },
   {
    "duration": 163,
    "start_time": "2022-06-03T11:35:48.177Z"
   },
   {
    "duration": 1139,
    "start_time": "2022-06-03T11:35:48.342Z"
   },
   {
    "duration": 85,
    "start_time": "2022-06-03T11:35:49.483Z"
   },
   {
    "duration": 30,
    "start_time": "2022-06-03T11:35:49.570Z"
   },
   {
    "duration": 2,
    "start_time": "2022-06-03T11:35:49.602Z"
   },
   {
    "duration": 5,
    "start_time": "2022-06-03T11:35:49.606Z"
   },
   {
    "duration": 5,
    "start_time": "2022-06-03T11:35:49.612Z"
   },
   {
    "duration": 5,
    "start_time": "2022-06-03T11:35:49.619Z"
   },
   {
    "duration": 5,
    "start_time": "2022-06-03T11:35:49.625Z"
   },
   {
    "duration": 77,
    "start_time": "2022-06-03T11:35:49.632Z"
   },
   {
    "duration": 105,
    "start_time": "2022-06-03T11:35:49.711Z"
   },
   {
    "duration": 96,
    "start_time": "2022-06-03T11:35:49.817Z"
   },
   {
    "duration": 530,
    "start_time": "2022-06-03T12:02:47.655Z"
   },
   {
    "duration": 463,
    "start_time": "2022-06-03T12:02:56.928Z"
   },
   {
    "duration": 457,
    "start_time": "2022-06-03T12:03:20.083Z"
   },
   {
    "duration": 434,
    "start_time": "2022-06-03T12:04:12.003Z"
   },
   {
    "duration": 442,
    "start_time": "2022-06-03T12:04:24.984Z"
   },
   {
    "duration": 458,
    "start_time": "2022-06-03T12:04:36.424Z"
   },
   {
    "duration": 441,
    "start_time": "2022-06-03T12:05:45.909Z"
   },
   {
    "duration": 10,
    "start_time": "2022-06-03T12:05:53.675Z"
   },
   {
    "duration": 8,
    "start_time": "2022-06-03T12:06:37.368Z"
   },
   {
    "duration": 609,
    "start_time": "2022-06-03T12:06:41.747Z"
   },
   {
    "duration": 47,
    "start_time": "2022-06-03T12:06:49.426Z"
   },
   {
    "duration": 433,
    "start_time": "2022-06-03T12:09:20.651Z"
   },
   {
    "duration": 10,
    "start_time": "2022-06-03T12:09:54.994Z"
   },
   {
    "duration": 460,
    "start_time": "2022-06-03T12:10:06.574Z"
   },
   {
    "duration": 105,
    "start_time": "2022-06-03T12:10:41.578Z"
   },
   {
    "duration": 523,
    "start_time": "2022-06-03T12:10:46.652Z"
   },
   {
    "duration": 728,
    "start_time": "2022-06-03T12:11:01.814Z"
   },
   {
    "duration": 1301,
    "start_time": "2022-06-03T12:11:08.319Z"
   },
   {
    "duration": 11,
    "start_time": "2022-06-03T12:11:09.624Z"
   },
   {
    "duration": 43,
    "start_time": "2022-06-03T12:11:09.638Z"
   },
   {
    "duration": 66,
    "start_time": "2022-06-03T12:11:09.683Z"
   },
   {
    "duration": 14,
    "start_time": "2022-06-03T12:11:09.751Z"
   },
   {
    "duration": 87,
    "start_time": "2022-06-03T12:11:09.766Z"
   },
   {
    "duration": 177,
    "start_time": "2022-06-03T12:11:09.855Z"
   },
   {
    "duration": 31,
    "start_time": "2022-06-03T12:11:10.037Z"
   },
   {
    "duration": 126,
    "start_time": "2022-06-03T12:11:10.070Z"
   },
   {
    "duration": 10,
    "start_time": "2022-06-03T12:11:10.200Z"
   },
   {
    "duration": 134,
    "start_time": "2022-06-03T12:11:10.211Z"
   },
   {
    "duration": 161,
    "start_time": "2022-06-03T12:11:10.347Z"
   },
   {
    "duration": 1288,
    "start_time": "2022-06-03T12:11:10.510Z"
   },
   {
    "duration": 74,
    "start_time": "2022-06-03T12:11:11.801Z"
   },
   {
    "duration": 31,
    "start_time": "2022-06-03T12:11:11.877Z"
   },
   {
    "duration": 3,
    "start_time": "2022-06-03T12:11:11.909Z"
   },
   {
    "duration": 7,
    "start_time": "2022-06-03T12:11:11.913Z"
   },
   {
    "duration": 458,
    "start_time": "2022-06-03T12:11:11.921Z"
   },
   {
    "duration": 419,
    "start_time": "2022-06-03T12:11:12.380Z"
   },
   {
    "duration": 68,
    "start_time": "2022-06-03T12:11:12.800Z"
   },
   {
    "duration": 106,
    "start_time": "2022-06-03T12:11:12.870Z"
   },
   {
    "duration": 95,
    "start_time": "2022-06-03T12:11:12.978Z"
   },
   {
    "duration": 1329,
    "start_time": "2022-06-03T12:42:22.989Z"
   },
   {
    "duration": 1250,
    "start_time": "2022-06-03T12:42:36.944Z"
   },
   {
    "duration": 3350,
    "start_time": "2022-06-03T12:43:03.363Z"
   },
   {
    "duration": 1500,
    "start_time": "2022-06-03T12:43:14.174Z"
   },
   {
    "duration": 1390,
    "start_time": "2022-06-03T12:43:20.256Z"
   },
   {
    "duration": 1429,
    "start_time": "2022-06-03T12:43:42.152Z"
   },
   {
    "duration": 1462,
    "start_time": "2022-06-03T12:44:10.487Z"
   },
   {
    "duration": 1333,
    "start_time": "2022-06-03T12:47:10.571Z"
   },
   {
    "duration": 5,
    "start_time": "2022-06-03T12:47:11.906Z"
   },
   {
    "duration": 57,
    "start_time": "2022-06-03T12:47:11.913Z"
   },
   {
    "duration": 51,
    "start_time": "2022-06-03T12:47:11.972Z"
   },
   {
    "duration": 21,
    "start_time": "2022-06-03T12:47:12.024Z"
   },
   {
    "duration": 99,
    "start_time": "2022-06-03T12:47:12.052Z"
   },
   {
    "duration": 188,
    "start_time": "2022-06-03T12:47:12.154Z"
   },
   {
    "duration": 30,
    "start_time": "2022-06-03T12:47:12.345Z"
   },
   {
    "duration": 126,
    "start_time": "2022-06-03T12:47:12.377Z"
   },
   {
    "duration": 10,
    "start_time": "2022-06-03T12:47:12.507Z"
   },
   {
    "duration": 129,
    "start_time": "2022-06-03T12:47:12.519Z"
   },
   {
    "duration": 194,
    "start_time": "2022-06-03T12:47:12.649Z"
   },
   {
    "duration": 1369,
    "start_time": "2022-06-03T12:47:12.844Z"
   },
   {
    "duration": 83,
    "start_time": "2022-06-03T12:47:14.214Z"
   },
   {
    "duration": 44,
    "start_time": "2022-06-03T12:47:14.299Z"
   },
   {
    "duration": 1224,
    "start_time": "2022-06-03T12:47:14.345Z"
   },
   {
    "duration": 452,
    "start_time": "2022-06-03T12:47:15.571Z"
   },
   {
    "duration": 390,
    "start_time": "2022-06-03T12:47:16.024Z"
   },
   {
    "duration": 74,
    "start_time": "2022-06-03T12:47:16.416Z"
   },
   {
    "duration": 196,
    "start_time": "2022-06-03T12:47:16.492Z"
   },
   {
    "duration": 93,
    "start_time": "2022-06-03T12:47:16.690Z"
   }
  ],
  "colab": {
   "name": "AdvansedSQLProjectTemplate.ipynb",
   "provenance": []
  },
  "kernelspec": {
   "display_name": "Python 3 (ipykernel)",
   "language": "python",
   "name": "python3"
  },
  "language_info": {
   "codemirror_mode": {
    "name": "ipython",
    "version": 3
   },
   "file_extension": ".py",
   "mimetype": "text/x-python",
   "name": "python",
   "nbconvert_exporter": "python",
   "pygments_lexer": "ipython3",
   "version": "3.7.8"
  },
  "toc": {
   "base_numbering": 1,
   "nav_menu": {},
   "number_sections": true,
   "sideBar": true,
   "skip_h1_title": true,
   "title_cell": "Table of Contents",
   "title_sidebar": "Contents",
   "toc_cell": false,
   "toc_position": {},
   "toc_section_display": true,
   "toc_window_display": false
  }
 },
 "nbformat": 4,
 "nbformat_minor": 1
}
